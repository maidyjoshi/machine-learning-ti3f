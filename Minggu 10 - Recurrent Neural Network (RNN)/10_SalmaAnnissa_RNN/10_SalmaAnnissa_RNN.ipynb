{
  "nbformat": 4,
  "nbformat_minor": 0,
  "metadata": {
    "colab": {
      "provenance": [],
      "gpuType": "T4"
    },
    "kernelspec": {
      "name": "python3",
      "display_name": "Python 3"
    },
    "language_info": {
      "name": "python"
    },
    "accelerator": "GPU"
  },
  "cells": [
    {
      "cell_type": "markdown",
      "source": [
        "# **Recurrent Neural Network (RNN)**\n",
        "## **28. Salma Annissa A. (2141720137) / TI-3F**\n",
        "\n",
        "### **Praktikum 1**\n",
        "#### **Setup**"
      ],
      "metadata": {
        "id": "N2RPoPhjL_YE"
      }
    },
    {
      "cell_type": "code",
      "source": [
        "import numpy as np\n",
        "import tensorflow_datasets as tfds\n",
        "import tensorflow as tf\n",
        "\n",
        "tfds.disable_progress_bar()"
      ],
      "metadata": {
        "id": "ecMFDgybQRLi"
      },
      "execution_count": 1,
      "outputs": []
    },
    {
      "cell_type": "code",
      "source": [
        "import matplotlib.pyplot as plt\n",
        "\n",
        "def plot_graphs(history, metric):\n",
        "  plt.plot(history.history[metric])\n",
        "  plt.plot(history.history['val_'+metric], '')\n",
        "  plt.xlabel(\"Epochs\")\n",
        "  plt.ylabel(metric)\n",
        "  plt.legend([metric, 'val_'+metric])"
      ],
      "metadata": {
        "id": "dDVzjCpSQsB8"
      },
      "execution_count": 2,
      "outputs": []
    },
    {
      "cell_type": "markdown",
      "source": [
        "#### **Setup input pipeline**"
      ],
      "metadata": {
        "id": "ftXTqhhaSPBw"
      }
    },
    {
      "cell_type": "code",
      "source": [
        "dataset, info = tfds.load('imdb_reviews', with_info=True,\n",
        "                          as_supervised=True)\n",
        "train_dataset, test_dataset = dataset['train'], dataset['test']\n",
        "\n",
        "train_dataset.element_spec"
      ],
      "metadata": {
        "colab": {
          "base_uri": "https://localhost:8080/"
        },
        "id": "0zTxkKvCSTjJ",
        "outputId": "0b47ece9-b5fe-4358-d8c9-6847f28fe242"
      },
      "execution_count": 3,
      "outputs": [
        {
          "output_type": "stream",
          "name": "stdout",
          "text": [
            "Downloading and preparing dataset 80.23 MiB (download: 80.23 MiB, generated: Unknown size, total: 80.23 MiB) to /root/tensorflow_datasets/imdb_reviews/plain_text/1.0.0...\n",
            "Dataset imdb_reviews downloaded and prepared to /root/tensorflow_datasets/imdb_reviews/plain_text/1.0.0. Subsequent calls will reuse this data.\n"
          ]
        },
        {
          "output_type": "execute_result",
          "data": {
            "text/plain": [
              "(TensorSpec(shape=(), dtype=tf.string, name=None),\n",
              " TensorSpec(shape=(), dtype=tf.int64, name=None))"
            ]
          },
          "metadata": {},
          "execution_count": 3
        }
      ]
    },
    {
      "cell_type": "code",
      "source": [
        "for example, label in train_dataset.take(1):\n",
        "  print('text: ', example.numpy())\n",
        "  print('label: ', label.numpy())"
      ],
      "metadata": {
        "colab": {
          "base_uri": "https://localhost:8080/"
        },
        "id": "5CObtpmtSqqD",
        "outputId": "0f5d27b0-24a0-4a40-ef70-3a68afb683e3"
      },
      "execution_count": 4,
      "outputs": [
        {
          "output_type": "stream",
          "name": "stdout",
          "text": [
            "text:  b\"This was an absolutely terrible movie. Don't be lured in by Christopher Walken or Michael Ironside. Both are great actors, but this must simply be their worst role in history. Even their great acting could not redeem this movie's ridiculous storyline. This movie is an early nineties US propaganda piece. The most pathetic scenes were those when the Columbian rebels were making their cases for revolutions. Maria Conchita Alonso appeared phony, and her pseudo-love affair with Walken was nothing but a pathetic emotional plug in a movie that was devoid of any real meaning. I am disappointed that there are movies like this, ruining actor's like Christopher Walken's good name. I could barely sit through it.\"\n",
            "label:  0\n"
          ]
        }
      ]
    },
    {
      "cell_type": "code",
      "source": [
        "BUFFER_SIZE = 10000\n",
        "BATCH_SIZE = 64\n",
        "\n",
        "train_dataset = train_dataset.shuffle(BUFFER_SIZE).batch(BATCH_SIZE).prefetch(tf.data.AUTOTUNE)\n",
        "test_dataset = test_dataset.batch(BATCH_SIZE).prefetch(tf.data.AUTOTUNE)\n",
        "\n",
        "for example, label in train_dataset.take(1):\n",
        "  print('texts: ', example.numpy()[:3])\n",
        "  print()\n",
        "  print('labels: ', label.numpy()[:3])\n"
      ],
      "metadata": {
        "colab": {
          "base_uri": "https://localhost:8080/"
        },
        "id": "_RKU3bE5Ssty",
        "outputId": "058c60a7-7509-4385-c016-6f6cf186f328"
      },
      "execution_count": 5,
      "outputs": [
        {
          "output_type": "stream",
          "name": "stdout",
          "text": [
            "texts:  [b'this was the best bonnie and clyde movie i have seen. it has more accurate accounts of what happened and while it doesnt glorify their crimes it casts the pair in a normal light. i give this movie a 10. it has great actors,realistic scenes and excellent writers.'\n",
            " b\"I wonder who was responsible for this mess. The jokes wouldn't have worked for gilligan's island. If this had gone to series, would there have been jokes about Auschwitz, or would Eva have to replace her oven, only to have Adolf suggest the kind that seats 50?? Another post compared this show to I love Lucy. The problem with this is that Lucille Ball was a genius at physical comedy and bizarre situations, and this mess was just plain badly done and an insult to my intelligence. <br /><br />After the damage the Nazi's did to England and the number of people they killed, I would think the very concept of a comedy about Hitler would seem repugnant and most normal people would have killed this concept before any episodes were produced.\"\n",
            " b'Who would\\'ve imagined -- Hal Hartley creates a filmic corollary to Syriana while retaining his signature idiosyncratic style. The fusion is highly entertaining.<br /><br />Having not seen a Hal Hartley film for about a decade, I approached this one with some caution. His brilliant productions of the nineties had impressed critics and audiences with their unique style and dialog. The director\\'s earlier films featured colorful characters and offered close observations of life -- often in the region of Long Island, New York or in New York City itself -- that were offbeat and insightful.<br /><br />My initial caution stemmed from the description of this movie as a \"spy thriller\". To my pleasant surprise, Hartley manages to mesh his well established style and focus to produce a highly original drama of international intrigue. It works in more ways than one might imagine. Hartley\\'s film retains the dialog and character focus that are his trademarks, along with a singular cinematographic style.<br /><br />Moreover it is highly appropriate given the current situation in the world and the state of war that has been fostered by dark elements on all sides. Hartley has brought all his skills to something new -- a political film worthy of being mentioned in the same breath as Syriana. Truly he is coming into his own. The cast does a fine job of interpreting Hartley\\'s vision and style. Fans of Parker Posey will see her in full bloom here, still with us and more ripe and gorgeous than before.']\n",
            "\n",
            "labels:  [1 0 1]\n"
          ]
        }
      ]
    },
    {
      "cell_type": "markdown",
      "source": [
        "#### **Buat Teks Encoder**"
      ],
      "metadata": {
        "id": "yLyVDzJ_SwLF"
      }
    },
    {
      "cell_type": "code",
      "source": [
        "VOCAB_SIZE = 1000\n",
        "encoder = tf.keras.layers.TextVectorization(\n",
        "    max_tokens=VOCAB_SIZE)\n",
        "encoder.adapt(train_dataset.map(lambda text, label: text))"
      ],
      "metadata": {
        "id": "EXJGVQRjTvxn"
      },
      "execution_count": 6,
      "outputs": []
    },
    {
      "cell_type": "code",
      "source": [
        "vocab = np.array(encoder.get_vocabulary())\n",
        "vocab[:20]"
      ],
      "metadata": {
        "colab": {
          "base_uri": "https://localhost:8080/"
        },
        "id": "MfkkjS24Tw_X",
        "outputId": "a3c23cef-5455-4f01-de9d-5596bf9a624d"
      },
      "execution_count": 7,
      "outputs": [
        {
          "output_type": "execute_result",
          "data": {
            "text/plain": [
              "array(['', '[UNK]', 'the', 'and', 'a', 'of', 'to', 'is', 'in', 'it', 'i',\n",
              "       'this', 'that', 'br', 'was', 'as', 'for', 'with', 'movie', 'but'],\n",
              "      dtype='<U14')"
            ]
          },
          "metadata": {},
          "execution_count": 7
        }
      ]
    },
    {
      "cell_type": "code",
      "source": [
        "encoded_example = encoder(example)[:3].numpy()\n",
        "encoded_example"
      ],
      "metadata": {
        "colab": {
          "base_uri": "https://localhost:8080/"
        },
        "id": "a_pbI4b7Tx2S",
        "outputId": "8253629b-37f3-4c5c-9982-52874bbfb58f"
      },
      "execution_count": 8,
      "outputs": [
        {
          "output_type": "execute_result",
          "data": {
            "text/plain": [
              "array([[ 11,  14,   2, ...,   0,   0,   0],\n",
              "       [ 10, 570,  37, ...,   0,   0,   0],\n",
              "       [ 37,   1,   1, ...,   0,   0,   0]])"
            ]
          },
          "metadata": {},
          "execution_count": 8
        }
      ]
    },
    {
      "cell_type": "code",
      "source": [
        "for n in range(3):\n",
        "  print(\"Original: \", example[n].numpy())\n",
        "  print(\"Round-trip: \", \" \".join(vocab[encoded_example[n]]))\n",
        "  print()"
      ],
      "metadata": {
        "colab": {
          "base_uri": "https://localhost:8080/"
        },
        "id": "tXjpBlfLTy-9",
        "outputId": "182810f9-8a9a-4597-e7b9-bda2d962d6b7"
      },
      "execution_count": 9,
      "outputs": [
        {
          "output_type": "stream",
          "name": "stdout",
          "text": [
            "Original:  b'this was the best bonnie and clyde movie i have seen. it has more accurate accounts of what happened and while it doesnt glorify their crimes it casts the pair in a normal light. i give this movie a 10. it has great actors,realistic scenes and excellent writers.'\n",
            "Round-trip:  this was the best [UNK] and [UNK] movie i have seen it has more [UNK] [UNK] of what happened and while it doesnt [UNK] their [UNK] it [UNK] the [UNK] in a [UNK] light i give this movie a 10 it has great [UNK] scenes and excellent writers                                                                                                                                                                                                                                                                                                                                                                                                                                                                                                                                                                                                                                                                                                                                                                                                                                                                                                                                                                            \n",
            "\n",
            "Original:  b\"I wonder who was responsible for this mess. The jokes wouldn't have worked for gilligan's island. If this had gone to series, would there have been jokes about Auschwitz, or would Eva have to replace her oven, only to have Adolf suggest the kind that seats 50?? Another post compared this show to I love Lucy. The problem with this is that Lucille Ball was a genius at physical comedy and bizarre situations, and this mess was just plain badly done and an insult to my intelligence. <br /><br />After the damage the Nazi's did to England and the number of people they killed, I would think the very concept of a comedy about Hitler would seem repugnant and most normal people would have killed this concept before any episodes were produced.\"\n",
            "Round-trip:  i wonder who was [UNK] for this mess the jokes wouldnt have worked for [UNK] [UNK] if this had gone to series would there have been jokes about [UNK] or would [UNK] have to [UNK] her [UNK] only to have [UNK] [UNK] the kind that [UNK] [UNK] another [UNK] [UNK] this show to i love [UNK] the problem with this is that [UNK] [UNK] was a [UNK] at [UNK] comedy and [UNK] [UNK] and this mess was just [UNK] badly done and an [UNK] to my [UNK] br br after the [UNK] the [UNK] did to [UNK] and the number of people they killed i would think the very [UNK] of a comedy about [UNK] would seem [UNK] and most [UNK] people would have killed this [UNK] before any episodes were [UNK]                                                                                                                                                                                                                                                                                                                                                                                                                                                                                                                                                                                                                                                                                                                                                                                                                                                                                        \n",
            "\n",
            "Original:  b'Who would\\'ve imagined -- Hal Hartley creates a filmic corollary to Syriana while retaining his signature idiosyncratic style. The fusion is highly entertaining.<br /><br />Having not seen a Hal Hartley film for about a decade, I approached this one with some caution. His brilliant productions of the nineties had impressed critics and audiences with their unique style and dialog. The director\\'s earlier films featured colorful characters and offered close observations of life -- often in the region of Long Island, New York or in New York City itself -- that were offbeat and insightful.<br /><br />My initial caution stemmed from the description of this movie as a \"spy thriller\". To my pleasant surprise, Hartley manages to mesh his well established style and focus to produce a highly original drama of international intrigue. It works in more ways than one might imagine. Hartley\\'s film retains the dialog and character focus that are his trademarks, along with a singular cinematographic style.<br /><br />Moreover it is highly appropriate given the current situation in the world and the state of war that has been fostered by dark elements on all sides. Hartley has brought all his skills to something new -- a political film worthy of being mentioned in the same breath as Syriana. Truly he is coming into his own. The cast does a fine job of interpreting Hartley\\'s vision and style. Fans of Parker Posey will see her in full bloom here, still with us and more ripe and gorgeous than before.'\n",
            "Round-trip:  who [UNK] [UNK] [UNK] [UNK] [UNK] a [UNK] [UNK] to [UNK] while [UNK] his [UNK] [UNK] style the [UNK] is highly [UNK] br having not seen a [UNK] [UNK] film for about a [UNK] i [UNK] this one with some [UNK] his brilliant [UNK] of the [UNK] had [UNK] [UNK] and [UNK] with their unique style and dialog the directors earlier films [UNK] [UNK] characters and [UNK] close [UNK] of life often in the [UNK] of long [UNK] new york or in new york city itself that were [UNK] and [UNK] br my [UNK] [UNK] [UNK] from the [UNK] of this movie as a [UNK] thriller to my [UNK] surprise [UNK] manages to [UNK] his well [UNK] style and [UNK] to [UNK] a highly original drama of [UNK] [UNK] it works in more ways than one might imagine [UNK] film [UNK] the dialog and character [UNK] that are his [UNK] along with a [UNK] [UNK] [UNK] br [UNK] it is highly [UNK] given the [UNK] situation in the world and the [UNK] of war that has been [UNK] by dark elements on all [UNK] [UNK] has brought all his [UNK] to something new a political film [UNK] of being [UNK] in the same [UNK] as [UNK] truly he is coming into his own the cast does a fine job of [UNK] [UNK] [UNK] and style fans of [UNK] [UNK] will see her in full [UNK] here still with us and more [UNK] and [UNK] than before                                                                                                                                                                                                                                                                                                                                                                                                                                                                                                                                                                                                                                                                                                                                                                      \n",
            "\n"
          ]
        }
      ]
    },
    {
      "cell_type": "markdown",
      "source": [
        "#### **Buat Model**"
      ],
      "metadata": {
        "id": "ygPE4f4TUFL0"
      }
    },
    {
      "cell_type": "code",
      "source": [
        "model = tf.keras.Sequential([\n",
        "    encoder,\n",
        "    tf.keras.layers.Embedding(\n",
        "        input_dim=len(encoder.get_vocabulary()),\n",
        "        output_dim=64,\n",
        "        # Use masking to handle the variable sequence lengths\n",
        "        mask_zero=True),\n",
        "    tf.keras.layers.Bidirectional(tf.keras.layers.LSTM(64)),\n",
        "    tf.keras.layers.Dense(64, activation='relu'),\n",
        "    tf.keras.layers.Dense(1)\n",
        "])"
      ],
      "metadata": {
        "id": "o2g8f27pUKET"
      },
      "execution_count": 10,
      "outputs": []
    },
    {
      "cell_type": "code",
      "source": [
        "print([layer.supports_masking for layer in model.layers])"
      ],
      "metadata": {
        "colab": {
          "base_uri": "https://localhost:8080/"
        },
        "id": "uG05uWkoUMKX",
        "outputId": "30404fe7-3e7a-48d9-bc24-260a22adc081"
      },
      "execution_count": 11,
      "outputs": [
        {
          "output_type": "stream",
          "name": "stdout",
          "text": [
            "[False, True, True, True, True]\n"
          ]
        }
      ]
    },
    {
      "cell_type": "code",
      "source": [
        "# predict on a sample text without padding.\n",
        "sample_text = ('The movie was cool. The animation and the graphics '\n",
        "               'were out of this world. I would recommend this movie.')\n",
        "predictions = model.predict(np.array([sample_text]))\n",
        "print(predictions[0])"
      ],
      "metadata": {
        "colab": {
          "base_uri": "https://localhost:8080/"
        },
        "id": "PDpwtbyrUUVu",
        "outputId": "94f63cdd-63da-465f-fee8-946d5ffdaa1a"
      },
      "execution_count": 12,
      "outputs": [
        {
          "output_type": "stream",
          "name": "stdout",
          "text": [
            "1/1 [==============================] - 7s 7s/step\n",
            "[-0.00357804]\n"
          ]
        }
      ]
    },
    {
      "cell_type": "code",
      "source": [
        "# predict on a sample text with padding\n",
        "\n",
        "padding = \"the \" * 2000\n",
        "predictions = model.predict(np.array([sample_text, padding]))\n",
        "print(predictions[0])"
      ],
      "metadata": {
        "colab": {
          "base_uri": "https://localhost:8080/"
        },
        "id": "xX1pzUSHUkJn",
        "outputId": "5212b101-861b-49b8-fd51-7c30a11505fe"
      },
      "execution_count": 13,
      "outputs": [
        {
          "output_type": "stream",
          "name": "stdout",
          "text": [
            "1/1 [==============================] - 0s 79ms/step\n",
            "[-0.00357805]\n"
          ]
        }
      ]
    },
    {
      "cell_type": "code",
      "source": [
        "model.compile(loss=tf.keras.losses.BinaryCrossentropy(from_logits=True),\n",
        "              optimizer=tf.keras.optimizers.Adam(1e-4),\n",
        "              metrics=['accuracy'])"
      ],
      "metadata": {
        "id": "Zln7Dk8nUoKT"
      },
      "execution_count": 14,
      "outputs": []
    },
    {
      "cell_type": "markdown",
      "source": [
        "#### **Train Model**"
      ],
      "metadata": {
        "id": "cM2peSurUnGm"
      }
    },
    {
      "cell_type": "code",
      "source": [
        "history = model.fit(train_dataset, epochs=10,validation_data=test_dataset,validation_steps=30)"
      ],
      "metadata": {
        "colab": {
          "base_uri": "https://localhost:8080/"
        },
        "id": "dE6l_tHgVAB-",
        "outputId": "ad7e353c-ec3e-4e1d-889f-95f5ed5f3175"
      },
      "execution_count": 15,
      "outputs": [
        {
          "output_type": "stream",
          "name": "stdout",
          "text": [
            "Epoch 1/10\n",
            "391/391 [==============================] - 52s 105ms/step - loss: 0.6679 - accuracy: 0.5225 - val_loss: 0.5555 - val_accuracy: 0.6661\n",
            "Epoch 2/10\n",
            "391/391 [==============================] - 27s 68ms/step - loss: 0.4271 - accuracy: 0.7988 - val_loss: 0.3791 - val_accuracy: 0.8354\n",
            "Epoch 3/10\n",
            "391/391 [==============================] - 26s 67ms/step - loss: 0.3448 - accuracy: 0.8458 - val_loss: 0.3439 - val_accuracy: 0.8443\n",
            "Epoch 4/10\n",
            "391/391 [==============================] - 25s 64ms/step - loss: 0.3206 - accuracy: 0.8595 - val_loss: 0.3329 - val_accuracy: 0.8510\n",
            "Epoch 5/10\n",
            "391/391 [==============================] - 26s 66ms/step - loss: 0.3106 - accuracy: 0.8653 - val_loss: 0.3361 - val_accuracy: 0.8583\n",
            "Epoch 6/10\n",
            "391/391 [==============================] - 26s 65ms/step - loss: 0.3071 - accuracy: 0.8672 - val_loss: 0.3266 - val_accuracy: 0.8479\n",
            "Epoch 7/10\n",
            "391/391 [==============================] - 26s 65ms/step - loss: 0.3045 - accuracy: 0.8690 - val_loss: 0.3248 - val_accuracy: 0.8573\n",
            "Epoch 8/10\n",
            "391/391 [==============================] - 26s 67ms/step - loss: 0.2993 - accuracy: 0.8699 - val_loss: 0.3242 - val_accuracy: 0.8594\n",
            "Epoch 9/10\n",
            "391/391 [==============================] - 27s 68ms/step - loss: 0.2973 - accuracy: 0.8707 - val_loss: 0.3291 - val_accuracy: 0.8547\n",
            "Epoch 10/10\n",
            "391/391 [==============================] - 27s 70ms/step - loss: 0.2972 - accuracy: 0.8703 - val_loss: 0.3197 - val_accuracy: 0.8542\n"
          ]
        }
      ]
    },
    {
      "cell_type": "code",
      "source": [
        "test_loss, test_acc = model.evaluate(test_dataset)\n",
        "\n",
        "print('Test Loss:', test_loss)\n",
        "print('Test Accuracy:', test_acc)"
      ],
      "metadata": {
        "colab": {
          "base_uri": "https://localhost:8080/"
        },
        "id": "doLrE4SoZRua",
        "outputId": "eca544ca-642d-4b88-c789-ab52d40d8a2b"
      },
      "execution_count": 16,
      "outputs": [
        {
          "output_type": "stream",
          "name": "stdout",
          "text": [
            "391/391 [==============================] - 14s 36ms/step - loss: 0.3136 - accuracy: 0.8591\n",
            "Test Loss: 0.3135946989059448\n",
            "Test Accuracy: 0.8591200113296509\n"
          ]
        }
      ]
    },
    {
      "cell_type": "code",
      "source": [
        "plt.figure(figsize=(16, 8))\n",
        "plt.subplot(1, 2, 1)\n",
        "plot_graphs(history, 'accuracy')\n",
        "plt.ylim(None, 1)\n",
        "plt.subplot(1, 2, 2)\n",
        "plot_graphs(history, 'loss')\n",
        "plt.ylim(0, None)"
      ],
      "metadata": {
        "colab": {
          "base_uri": "https://localhost:8080/",
          "height": 718
        },
        "id": "NKkLfBD-ZVUP",
        "outputId": "56d0a0b2-ab9d-4a9a-c3c1-5b5e0a0718d3"
      },
      "execution_count": 17,
      "outputs": [
        {
          "output_type": "execute_result",
          "data": {
            "text/plain": [
              "(0.0, 0.6864505842328071)"
            ]
          },
          "metadata": {},
          "execution_count": 17
        },
        {
          "output_type": "display_data",
          "data": {
            "text/plain": [
              "<Figure size 1600x800 with 2 Axes>"
            ],
            "image/png": "[encoded data removed]"
          },
          "metadata": {}
        }
      ]
    },
    {
      "cell_type": "code",
      "source": [
        "sample_text = ('The movie was cool. The animation and the graphics''were out of this world. I would recommend this movie.')\n",
        "predictions = model.predict(np.array([sample_text]))"
      ],
      "metadata": {
        "colab": {
          "base_uri": "https://localhost:8080/"
        },
        "id": "ofmQaiCTZcTr",
        "outputId": "f13ad904-9b16-4c23-9e21-1919646c18b9"
      },
      "execution_count": 18,
      "outputs": [
        {
          "output_type": "stream",
          "name": "stdout",
          "text": [
            "1/1 [==============================] - 2s 2s/step\n"
          ]
        }
      ]
    },
    {
      "cell_type": "markdown",
      "source": [
        "#### **Stack two or more LSTM layers**"
      ],
      "metadata": {
        "id": "RetJNOIeajDq"
      }
    },
    {
      "cell_type": "code",
      "source": [
        "model = tf.keras.Sequential([encoder,\n",
        "tf.keras.layers.Embedding(len(encoder.get_vocabulary()), 64, mask_zero=True),\n",
        "tf.keras.layers.Bidirectional(tf.keras.layers.LSTM(64, return_sequences=True)),\n",
        "tf.keras.layers.Bidirectional(tf.keras.layers.LSTM(32)),\n",
        "tf.keras.layers.Dense(64, activation='relu'),\n",
        "tf.keras.layers.Dropout(0.5),\n",
        "tf.keras.layers.Dense(1)\n",
        "])"
      ],
      "metadata": {
        "id": "pSadYEaEaoEq"
      },
      "execution_count": 21,
      "outputs": []
    },
    {
      "cell_type": "code",
      "source": [
        "model.compile(loss=tf.keras.losses.BinaryCrossentropy(from_logits=True),\n",
        "              optimizer=tf.keras.optimizers.Adam(1e-4),\n",
        "              metrics=['accuracy'])"
      ],
      "metadata": {
        "id": "foArZ3hva3Ll"
      },
      "execution_count": 22,
      "outputs": []
    },
    {
      "cell_type": "code",
      "source": [
        "history = model.fit(train_dataset, epochs=10,\n",
        "                    validation_data=test_dataset,\n",
        "                    validation_steps=30)"
      ],
      "metadata": {
        "colab": {
          "base_uri": "https://localhost:8080/"
        },
        "id": "g_Af6-rwa-Gc",
        "outputId": "26ab6f2d-d360-4c87-ddb1-11a7701cb718"
      },
      "execution_count": 23,
      "outputs": [
        {
          "output_type": "stream",
          "name": "stdout",
          "text": [
            "Epoch 1/10\n",
            "391/391 [==============================] - 87s 175ms/step - loss: 0.6277 - accuracy: 0.5802 - val_loss: 0.4390 - val_accuracy: 0.8026\n",
            "Epoch 2/10\n",
            "391/391 [==============================] - 50s 127ms/step - loss: 0.3842 - accuracy: 0.8328 - val_loss: 0.3494 - val_accuracy: 0.8464\n",
            "Epoch 3/10\n",
            "391/391 [==============================] - 48s 122ms/step - loss: 0.3353 - accuracy: 0.8548 - val_loss: 0.3292 - val_accuracy: 0.8505\n",
            "Epoch 4/10\n",
            "391/391 [==============================] - 47s 120ms/step - loss: 0.3175 - accuracy: 0.8663 - val_loss: 0.3353 - val_accuracy: 0.8385\n",
            "Epoch 5/10\n",
            "391/391 [==============================] - 49s 124ms/step - loss: 0.3104 - accuracy: 0.8665 - val_loss: 0.3172 - val_accuracy: 0.8578\n",
            "Epoch 6/10\n",
            "391/391 [==============================] - 50s 127ms/step - loss: 0.3070 - accuracy: 0.8676 - val_loss: 0.3311 - val_accuracy: 0.8552\n",
            "Epoch 7/10\n",
            "391/391 [==============================] - 47s 120ms/step - loss: 0.3019 - accuracy: 0.8708 - val_loss: 0.3306 - val_accuracy: 0.8609\n",
            "Epoch 8/10\n",
            "391/391 [==============================] - 49s 124ms/step - loss: 0.2995 - accuracy: 0.8698 - val_loss: 0.3170 - val_accuracy: 0.8620\n",
            "Epoch 9/10\n",
            "391/391 [==============================] - 46s 118ms/step - loss: 0.2989 - accuracy: 0.8724 - val_loss: 0.3201 - val_accuracy: 0.8521\n",
            "Epoch 10/10\n",
            "391/391 [==============================] - 48s 122ms/step - loss: 0.2954 - accuracy: 0.8726 - val_loss: 0.3399 - val_accuracy: 0.8625\n"
          ]
        }
      ]
    },
    {
      "cell_type": "code",
      "source": [
        "test_loss, test_acc = model.evaluate(test_dataset)\n",
        "\n",
        "print('Test Loss:', test_loss)\n",
        "print('Test Accuracy:', test_acc)"
      ],
      "metadata": {
        "colab": {
          "base_uri": "https://localhost:8080/"
        },
        "id": "nfvBXdYkgIG1",
        "outputId": "ec1ebf5c-55d0-4146-b2dd-8b28f8621d92"
      },
      "execution_count": 24,
      "outputs": [
        {
          "output_type": "stream",
          "name": "stdout",
          "text": [
            "391/391 [==============================] - 22s 56ms/step - loss: 0.3397 - accuracy: 0.8632\n",
            "Test Loss: 0.33973777294158936\n",
            "Test Accuracy: 0.8632000088691711\n"
          ]
        }
      ]
    },
    {
      "cell_type": "code",
      "source": [
        "# predict on a sample text without padding.\n",
        "\n",
        "sample_text = ('The movie was not good. The animation and the graphics ' 'were terrible. I would not recommend this movie.')\n",
        "predictions = model.predict(np.array([sample_text]))\n",
        "print(predictions)"
      ],
      "metadata": {
        "colab": {
          "base_uri": "https://localhost:8080/"
        },
        "id": "WTOguuoqbY2N",
        "outputId": "326d7701-8a70-4f2a-c2e1-8ee3dc698f3f"
      },
      "execution_count": 25,
      "outputs": [
        {
          "output_type": "stream",
          "name": "stdout",
          "text": [
            "1/1 [==============================] - 6s 6s/step\n",
            "[[-1.8452525]]\n"
          ]
        }
      ]
    },
    {
      "cell_type": "code",
      "source": [
        "plt.figure(figsize=(16, 6))\n",
        "plt.subplot(1, 2, 1)\n",
        "plot_graphs(history, 'accuracy')\n",
        "plt.subplot(1, 2, 2)\n",
        "plot_graphs(history, 'loss')"
      ],
      "metadata": {
        "colab": {
          "base_uri": "https://localhost:8080/",
          "height": 542
        },
        "id": "VOSo1d9VghF4",
        "outputId": "f24ae880-55ec-4bbd-f12b-ab2186974339"
      },
      "execution_count": 26,
      "outputs": [
        {
          "output_type": "display_data",
          "data": {
            "text/plain": [
              "<Figure size 1600x600 with 2 Axes>"
            ],
            "image/png": "[encoded data removed]"
          },
          "metadata": {}
        }
      ]
    },
    {
      "cell_type": "markdown",
      "source": [
        "### **Praktikum 2**\n",
        "#### **Setup**"
      ],
      "metadata": {
        "id": "FRZygMbTg0em"
      }
    },
    {
      "cell_type": "code",
      "source": [
        "import tensorflow as tf\n",
        "import numpy as np\n",
        "import os\n",
        "import time"
      ],
      "metadata": {
        "id": "k-OZSWC5g7Jc"
      },
      "execution_count": 27,
      "outputs": []
    },
    {
      "cell_type": "markdown",
      "source": [
        "Download Dataset Shakespeare"
      ],
      "metadata": {
        "id": "BrnF2oXDhFQE"
      }
    },
    {
      "cell_type": "code",
      "source": [
        "path_to_file = tf.keras.utils.get_file('shakespeare.txt', 'https://storage.googleapis.com/download.tensorflow.org/data/shakespeare.txt')"
      ],
      "metadata": {
        "colab": {
          "base_uri": "https://localhost:8080/"
        },
        "id": "XcjjRHhTg9Ym",
        "outputId": "b27af1a7-2e2d-45e9-ba8a-5b56ea51ad47"
      },
      "execution_count": 28,
      "outputs": [
        {
          "output_type": "stream",
          "name": "stdout",
          "text": [
            "Downloading data from https://storage.googleapis.com/download.tensorflow.org/data/shakespeare.txt\n",
            "1115394/1115394 [==============================] - 0s 0us/step\n"
          ]
        }
      ]
    },
    {
      "cell_type": "markdown",
      "source": [
        "Load Data"
      ],
      "metadata": {
        "id": "WqayRkImhLjs"
      }
    },
    {
      "cell_type": "code",
      "source": [
        "# Read, then decode for py2 compat.\n",
        "text = open(path_to_file, 'rb').read().decode(encoding='utf-8')\n",
        "# length of text is the number of characters in it\n",
        "print(f'Length of text: {len(text)} characters')"
      ],
      "metadata": {
        "colab": {
          "base_uri": "https://localhost:8080/"
        },
        "id": "dMp8XqtthKWz",
        "outputId": "fb961479-a38f-4b37-ace8-fb1d00403289"
      },
      "execution_count": 29,
      "outputs": [
        {
          "output_type": "stream",
          "name": "stdout",
          "text": [
            "Length of text: 1115394 characters\n"
          ]
        }
      ]
    },
    {
      "cell_type": "code",
      "source": [
        "# Take a look at the first 250 characters in text\n",
        "print(text[:250])"
      ],
      "metadata": {
        "colab": {
          "base_uri": "https://localhost:8080/"
        },
        "id": "UU-r5gKNhPeL",
        "outputId": "b6bdc9fe-a347-4dec-b13f-507d9be00e72"
      },
      "execution_count": 30,
      "outputs": [
        {
          "output_type": "stream",
          "name": "stdout",
          "text": [
            "First Citizen:\n",
            "Before we proceed any further, hear me speak.\n",
            "\n",
            "All:\n",
            "Speak, speak.\n",
            "\n",
            "First Citizen:\n",
            "You are all resolved rather to die than to famish?\n",
            "\n",
            "All:\n",
            "Resolved. resolved.\n",
            "\n",
            "First Citizen:\n",
            "First, you know Caius Marcius is chief enemy to the people.\n",
            "\n"
          ]
        }
      ]
    },
    {
      "cell_type": "code",
      "source": [
        "# The unique characters in the file\n",
        "vocab = sorted(set(text))\n",
        "print(f'{len(vocab)} unique characters')"
      ],
      "metadata": {
        "colab": {
          "base_uri": "https://localhost:8080/"
        },
        "id": "jdsKyi45hRet",
        "outputId": "5d25c2ca-b81f-4082-daa8-6b8d1427cbad"
      },
      "execution_count": 31,
      "outputs": [
        {
          "output_type": "stream",
          "name": "stdout",
          "text": [
            "65 unique characters\n"
          ]
        }
      ]
    },
    {
      "cell_type": "markdown",
      "source": [
        "#### **Olah Teks**\n",
        "\n",
        "Vectorize Teks"
      ],
      "metadata": {
        "id": "KubkqOC6hZIA"
      }
    },
    {
      "cell_type": "code",
      "source": [
        "example_texts = ['abcdefg', 'xyz']\n",
        "chars = tf.strings.unicode_split(example_texts, input_encoding='UTF-8')\n",
        "chars"
      ],
      "metadata": {
        "colab": {
          "base_uri": "https://localhost:8080/"
        },
        "id": "ZkTlcusThvKo",
        "outputId": "5ccf88f9-0447-4bbf-d261-a63d84770e31"
      },
      "execution_count": 32,
      "outputs": [
        {
          "output_type": "execute_result",
          "data": {
            "text/plain": [
              "<tf.RaggedTensor [[b'a', b'b', b'c', b'd', b'e', b'f', b'g'], [b'x', b'y', b'z']]>"
            ]
          },
          "metadata": {},
          "execution_count": 32
        }
      ]
    },
    {
      "cell_type": "code",
      "source": [
        "ids_from_chars = tf.keras.layers.StringLookup(\n",
        "vocabulary=list(vocab), mask_token=None)"
      ],
      "metadata": {
        "id": "go70fzhrh-hF"
      },
      "execution_count": 33,
      "outputs": []
    },
    {
      "cell_type": "code",
      "source": [
        "ids = ids_from_chars(chars)\n",
        "ids"
      ],
      "metadata": {
        "colab": {
          "base_uri": "https://localhost:8080/"
        },
        "id": "o5N12CdBiCN1",
        "outputId": "662fd930-4e71-41e0-85fd-eec7f955561f"
      },
      "execution_count": 35,
      "outputs": [
        {
          "output_type": "execute_result",
          "data": {
            "text/plain": [
              "<tf.RaggedTensor [[40, 41, 42, 43, 44, 45, 46], [63, 64, 65]]>"
            ]
          },
          "metadata": {},
          "execution_count": 35
        }
      ]
    },
    {
      "cell_type": "code",
      "source": [
        "chars_from_ids = tf.keras.layers.StringLookup(\n",
        "    vocabulary=ids_from_chars.get_vocabulary(), invert=True, mask_token=None)"
      ],
      "metadata": {
        "id": "eVDktFBGiQ8q"
      },
      "execution_count": 36,
      "outputs": []
    },
    {
      "cell_type": "code",
      "source": [
        "chars = chars_from_ids(ids)\n",
        "chars"
      ],
      "metadata": {
        "colab": {
          "base_uri": "https://localhost:8080/"
        },
        "id": "pHb2H-3RiSqQ",
        "outputId": "a3bc071d-a876-4b2e-fbb8-b2944b8d8192"
      },
      "execution_count": 37,
      "outputs": [
        {
          "output_type": "execute_result",
          "data": {
            "text/plain": [
              "<tf.RaggedTensor [[b'a', b'b', b'c', b'd', b'e', b'f', b'g'], [b'x', b'y', b'z']]>"
            ]
          },
          "metadata": {},
          "execution_count": 37
        }
      ]
    },
    {
      "cell_type": "code",
      "source": [
        "tf.strings.reduce_join(chars, axis=-1).numpy()"
      ],
      "metadata": {
        "colab": {
          "base_uri": "https://localhost:8080/"
        },
        "id": "ayLKS1oeiVuc",
        "outputId": "9b09b592-6689-42c0-f59c-ca998a716266"
      },
      "execution_count": 38,
      "outputs": [
        {
          "output_type": "execute_result",
          "data": {
            "text/plain": [
              "array([b'abcdefg', b'xyz'], dtype=object)"
            ]
          },
          "metadata": {},
          "execution_count": 38
        }
      ]
    },
    {
      "cell_type": "code",
      "source": [
        "def text_from_ids(ids):\n",
        "    return tf.strings.reduce_join(chars_from_ids(ids), axis=-1)"
      ],
      "metadata": {
        "id": "nv0btsYriZAR"
      },
      "execution_count": 39,
      "outputs": []
    },
    {
      "cell_type": "markdown",
      "source": [
        "### Prediksi\n",
        "\n",
        "Membuat Trianing Set dan Target"
      ],
      "metadata": {
        "id": "aFbhSWvViiZX"
      }
    },
    {
      "cell_type": "code",
      "source": [
        "all_ids = ids_from_chars(tf.strings.unicode_split(text, 'UTF-8'))\n",
        "all_ids"
      ],
      "metadata": {
        "colab": {
          "base_uri": "https://localhost:8080/"
        },
        "id": "H4pGOCM_imG5",
        "outputId": "f16a1c79-2114-4e9a-ba4c-49c19613327e"
      },
      "execution_count": 41,
      "outputs": [
        {
          "output_type": "execute_result",
          "data": {
            "text/plain": [
              "<tf.Tensor: shape=(1115394,), dtype=int64, numpy=array([19, 48, 57, ..., 46,  9,  1])>"
            ]
          },
          "metadata": {},
          "execution_count": 41
        }
      ]
    },
    {
      "cell_type": "code",
      "source": [
        "ids_dataset = tf.data.Dataset.from_tensor_slices(all_ids)"
      ],
      "metadata": {
        "id": "Dll2IQPhirqs"
      },
      "execution_count": 42,
      "outputs": []
    },
    {
      "cell_type": "code",
      "source": [
        "for ids in ids_dataset.take(10):\n",
        "    print(chars_from_ids(ids).numpy().decode('utf-8'))"
      ],
      "metadata": {
        "colab": {
          "base_uri": "https://localhost:8080/"
        },
        "id": "YU4sUiRMitVo",
        "outputId": "eb2a50db-ad62-47e7-e0c3-a46cbf55bc5b"
      },
      "execution_count": 43,
      "outputs": [
        {
          "output_type": "stream",
          "name": "stdout",
          "text": [
            "F\n",
            "i\n",
            "r\n",
            "s\n",
            "t\n",
            " \n",
            "C\n",
            "i\n",
            "t\n",
            "i\n"
          ]
        }
      ]
    },
    {
      "cell_type": "code",
      "source": [
        "seq_length = 100"
      ],
      "metadata": {
        "id": "wK0UtbPZiy3w"
      },
      "execution_count": 44,
      "outputs": []
    },
    {
      "cell_type": "code",
      "source": [
        "sequences = ids_dataset.batch(seq_length+1, drop_remainder=True)\n",
        "\n",
        "for seq in sequences.take(1):\n",
        "  print(chars_from_ids(seq))"
      ],
      "metadata": {
        "colab": {
          "base_uri": "https://localhost:8080/"
        },
        "id": "vsSnEt_Yi1RN",
        "outputId": "7017c7cf-025b-41ed-945a-25efd83198f8"
      },
      "execution_count": 45,
      "outputs": [
        {
          "output_type": "stream",
          "name": "stdout",
          "text": [
            "tf.Tensor(\n",
            "[b'F' b'i' b'r' b's' b't' b' ' b'C' b'i' b't' b'i' b'z' b'e' b'n' b':'\n",
            " b'\\n' b'B' b'e' b'f' b'o' b'r' b'e' b' ' b'w' b'e' b' ' b'p' b'r' b'o'\n",
            " b'c' b'e' b'e' b'd' b' ' b'a' b'n' b'y' b' ' b'f' b'u' b'r' b't' b'h'\n",
            " b'e' b'r' b',' b' ' b'h' b'e' b'a' b'r' b' ' b'm' b'e' b' ' b's' b'p'\n",
            " b'e' b'a' b'k' b'.' b'\\n' b'\\n' b'A' b'l' b'l' b':' b'\\n' b'S' b'p' b'e'\n",
            " b'a' b'k' b',' b' ' b's' b'p' b'e' b'a' b'k' b'.' b'\\n' b'\\n' b'F' b'i'\n",
            " b'r' b's' b't' b' ' b'C' b'i' b't' b'i' b'z' b'e' b'n' b':' b'\\n' b'Y'\n",
            " b'o' b'u' b' '], shape=(101,), dtype=string)\n"
          ]
        }
      ]
    },
    {
      "cell_type": "code",
      "source": [
        "for seq in sequences.take(5):\n",
        "    print(text_from_ids(seq).numpy())"
      ],
      "metadata": {
        "colab": {
          "base_uri": "https://localhost:8080/"
        },
        "id": "8-kff4VFi3XI",
        "outputId": "e889e53f-bd6a-4070-c142-6d42fa299341"
      },
      "execution_count": 46,
      "outputs": [
        {
          "output_type": "stream",
          "name": "stdout",
          "text": [
            "b'First Citizen:\\nBefore we proceed any further, hear me speak.\\n\\nAll:\\nSpeak, speak.\\n\\nFirst Citizen:\\nYou '\n",
            "b'are all resolved rather to die than to famish?\\n\\nAll:\\nResolved. resolved.\\n\\nFirst Citizen:\\nFirst, you k'\n",
            "b\"now Caius Marcius is chief enemy to the people.\\n\\nAll:\\nWe know't, we know't.\\n\\nFirst Citizen:\\nLet us ki\"\n",
            "b\"ll him, and we'll have corn at our own price.\\nIs't a verdict?\\n\\nAll:\\nNo more talking on't; let it be d\"\n",
            "b'one: away, away!\\n\\nSecond Citizen:\\nOne word, good citizens.\\n\\nFirst Citizen:\\nWe are accounted poor citi'\n"
          ]
        }
      ]
    },
    {
      "cell_type": "code",
      "source": [
        "def split_input_target(sequence):\n",
        "  input_text = sequence[:-1]\n",
        "  target_text = sequence[1:]\n",
        "  return input_text, target_text"
      ],
      "metadata": {
        "id": "XcCgS7E1jFbm"
      },
      "execution_count": 47,
      "outputs": []
    },
    {
      "cell_type": "code",
      "source": [
        "split_input_target(list(\"Tensorflow\"))"
      ],
      "metadata": {
        "colab": {
          "base_uri": "https://localhost:8080/"
        },
        "id": "beKR8DGXjUo5",
        "outputId": "2b680ff2-13fe-440b-e01b-8761813ef59b"
      },
      "execution_count": 48,
      "outputs": [
        {
          "output_type": "execute_result",
          "data": {
            "text/plain": [
              "(['T', 'e', 'n', 's', 'o', 'r', 'f', 'l', 'o'],\n",
              " ['e', 'n', 's', 'o', 'r', 'f', 'l', 'o', 'w'])"
            ]
          },
          "metadata": {},
          "execution_count": 48
        }
      ]
    },
    {
      "cell_type": "code",
      "source": [
        "dataset = sequences.map(split_input_target)"
      ],
      "metadata": {
        "id": "RKnYb4I2jXqv"
      },
      "execution_count": 50,
      "outputs": []
    },
    {
      "cell_type": "code",
      "source": [
        "for input_example, target_example in dataset.take(1):\n",
        " print(\"Input :\", text_from_ids(input_example).numpy())\n",
        " print(\"Target:\", text_from_ids(target_example).numpy())"
      ],
      "metadata": {
        "colab": {
          "base_uri": "https://localhost:8080/"
        },
        "id": "C1hHD2ySjagJ",
        "outputId": "04767504-6442-4363-a232-0d14ed0ac024"
      },
      "execution_count": 51,
      "outputs": [
        {
          "output_type": "stream",
          "name": "stdout",
          "text": [
            "Input : b'First Citizen:\\nBefore we proceed any further, hear me speak.\\n\\nAll:\\nSpeak, speak.\\n\\nFirst Citizen:\\nYou'\n",
            "Target: b'irst Citizen:\\nBefore we proceed any further, hear me speak.\\n\\nAll:\\nSpeak, speak.\\n\\nFirst Citizen:\\nYou '\n"
          ]
        }
      ]
    },
    {
      "cell_type": "markdown",
      "source": [
        "Membuat Batch Training"
      ],
      "metadata": {
        "id": "oWMSPzCZjjjY"
      }
    },
    {
      "cell_type": "code",
      "source": [
        "# Batch size\n",
        "BATCH_SIZE = 64\n",
        "\n",
        "# Buffer size to shuffle the dataset\n",
        "# (TF data is designed to work with possibly infinite sequences,\n",
        "# so it doesn't attempt to shuffle the entire sequence in memory. Instead,\n",
        "# it maintains a buffer in which it shuffles elements).\n",
        "BUFFER_SIZE = 10000\n",
        "\n",
        "dataset = (\n",
        "    dataset\n",
        "    .shuffle(BUFFER_SIZE)\n",
        "    .batch(BATCH_SIZE, drop_remainder=True)\n",
        "    .prefetch(tf.data.experimental.AUTOTUNE))\n",
        "\n",
        "dataset"
      ],
      "metadata": {
        "colab": {
          "base_uri": "https://localhost:8080/"
        },
        "id": "huZQfQDajuYV",
        "outputId": "586e9d62-3d0b-4b90-f78f-b8a15584de00"
      },
      "execution_count": 52,
      "outputs": [
        {
          "output_type": "execute_result",
          "data": {
            "text/plain": [
              "<_PrefetchDataset element_spec=(TensorSpec(shape=(64, 100), dtype=tf.int64, name=None), TensorSpec(shape=(64, 100), dtype=tf.int64, name=None))>"
            ]
          },
          "metadata": {},
          "execution_count": 52
        }
      ]
    },
    {
      "cell_type": "markdown",
      "source": [
        "#### **Buat Model**"
      ],
      "metadata": {
        "id": "Kcr8pZQ9jwrS"
      }
    },
    {
      "cell_type": "code",
      "source": [
        "# Length of the vocabulary in StringLookup Layer\n",
        "vocab_size = len(ids_from_chars.get_vocabulary())\n",
        "\n",
        "# The embedding dimension\n",
        "embedding_dim = 256\n",
        "\n",
        "# Number of RNN units\n",
        "rnn_units = 1024"
      ],
      "metadata": {
        "id": "x2tBmU18jwH3"
      },
      "execution_count": 53,
      "outputs": []
    },
    {
      "cell_type": "code",
      "source": [
        "class MyModel(tf.keras.Model):\n",
        "  def __init__(self, vocab_size, embedding_dim, rnn_units):\n",
        "    super().__init__(self)\n",
        "    self.embedding = tf.keras.layers.Embedding(vocab_size, embedding_dim)\n",
        "    self.gru = tf.keras.layers.GRU(rnn_units,\n",
        "                                   return_sequences=True,\n",
        "                                   return_state=True)\n",
        "    self.dense = tf.keras.layers.Dense(vocab_size)\n",
        "\n",
        "  def call(self, inputs, states=None, return_state=False, training=False):\n",
        "    x = inputs\n",
        "    x = self.embedding(x, training=training)\n",
        "    if states is None:\n",
        "      states = self.gru.get_initial_state(x)\n",
        "    x, states = self.gru(x, initial_state=states, training=training)\n",
        "    x = self.dense(x, training=training)\n",
        "\n",
        "    if return_state:\n",
        "      return x, states\n",
        "    else:\n",
        "      return x"
      ],
      "metadata": {
        "id": "6XHlHtVnj_8y"
      },
      "execution_count": 54,
      "outputs": []
    },
    {
      "cell_type": "code",
      "source": [
        "model = MyModel(\n",
        "    vocab_size=vocab_size,\n",
        "    embedding_dim=embedding_dim,\n",
        "    rnn_units=rnn_units)"
      ],
      "metadata": {
        "id": "83WnZ14ekACp"
      },
      "execution_count": 55,
      "outputs": []
    },
    {
      "cell_type": "markdown",
      "source": [
        "#### **Uji Model**"
      ],
      "metadata": {
        "id": "A9ipJiDhkFbz"
      }
    },
    {
      "cell_type": "code",
      "source": [
        "for input_example_batch, target_example_batch in dataset.take(1):\n",
        "    example_batch_predictions = model(input_example_batch)\n",
        "    print(example_batch_predictions.shape, \"# (batch_size, sequence_length, vocab_size)\")"
      ],
      "metadata": {
        "colab": {
          "base_uri": "https://localhost:8080/"
        },
        "id": "BRKIuvb4kIY8",
        "outputId": "d8edbd55-9e72-4315-c9f4-bb71f6e1900f"
      },
      "execution_count": 56,
      "outputs": [
        {
          "output_type": "stream",
          "name": "stdout",
          "text": [
            "(64, 100, 66) # (batch_size, sequence_length, vocab_size)\n"
          ]
        }
      ]
    },
    {
      "cell_type": "code",
      "source": [
        "model.summary()"
      ],
      "metadata": {
        "colab": {
          "base_uri": "https://localhost:8080/"
        },
        "id": "KZJgIexwkKdW",
        "outputId": "0ab5b8f2-2a72-4e51-905a-6fb8227250cf"
      },
      "execution_count": 57,
      "outputs": [
        {
          "output_type": "stream",
          "name": "stdout",
          "text": [
            "Model: \"my_model\"\n",
            "_________________________________________________________________\n",
            " Layer (type)                Output Shape              Param #   \n",
            "=================================================================\n",
            " embedding_2 (Embedding)     multiple                  16896     \n",
            "                                                                 \n",
            " gru (GRU)                   multiple                  3938304   \n",
            "                                                                 \n",
            " dense_4 (Dense)             multiple                  67650     \n",
            "                                                                 \n",
            "=================================================================\n",
            "Total params: 4022850 (15.35 MB)\n",
            "Trainable params: 4022850 (15.35 MB)\n",
            "Non-trainable params: 0 (0.00 Byte)\n",
            "_________________________________________________________________\n"
          ]
        }
      ]
    },
    {
      "cell_type": "code",
      "source": [
        "sampled_indices = tf.random.categorical(example_batch_predictions[0], num_samples=1)\n",
        "sampled_indices = tf.squeeze(sampled_indices, axis=-1).numpy()"
      ],
      "metadata": {
        "id": "7S71F9fpkMR1"
      },
      "execution_count": 58,
      "outputs": []
    },
    {
      "cell_type": "code",
      "source": [
        "sampled_indices"
      ],
      "metadata": {
        "colab": {
          "base_uri": "https://localhost:8080/"
        },
        "id": "FD4Qire6kRPC",
        "outputId": "2801725e-5288-4309-9e55-cf81ae3a6957"
      },
      "execution_count": 59,
      "outputs": [
        {
          "output_type": "execute_result",
          "data": {
            "text/plain": [
              "array([57, 57, 45, 23, 65, 33, 27, 23, 65, 48, 12, 58, 37, 57, 24,  5, 27,\n",
              "       62, 60, 15, 32,  3, 12, 14,  7,  1, 46, 10, 59, 30,  0, 38, 42, 61,\n",
              "        4, 41, 34, 45,  7, 10, 53, 39, 45, 52, 11, 54, 36, 34, 64, 46, 47,\n",
              "        7, 13, 11, 41, 10, 54, 14,  9, 57, 53, 10, 59, 55, 58, 35,  7, 53,\n",
              "        8, 42, 49, 37, 18, 40, 62, 49, 11, 11, 52, 27, 39,  2, 57, 47, 33,\n",
              "       64,  7,  6,  6, 61, 65, 40, 63, 24, 35, 65, 18, 35, 27, 29])"
            ]
          },
          "metadata": {},
          "execution_count": 59
        }
      ]
    },
    {
      "cell_type": "code",
      "source": [
        "print(\"Input:\\n\", text_from_ids(input_example_batch[0]).numpy())\n",
        "print()\n",
        "print(\"Next Char Predictions:\\n\", text_from_ids(sampled_indices).numpy())"
      ],
      "metadata": {
        "colab": {
          "base_uri": "https://localhost:8080/"
        },
        "id": "0zm_sgMGkS29",
        "outputId": "e8eed3ec-0b49-4839-808b-9e210076016e"
      },
      "execution_count": 61,
      "outputs": [
        {
          "output_type": "stream",
          "name": "stdout",
          "text": [
            "Input:\n",
            " b' of death\\nHave they been merry! which their keepers call\\nA lightning before death: O, how may I\\nCall'\n",
            "\n",
            "Next Char Predictions:\n",
            " b\"rrfJzTNJzi;sXrK&NwuBS!;A,\\ng3tQ[UNK]Ycv$bUf,3nZfm:oWUygh,?:b3oA.rn3tpsV,n-cjXEawj::mNZ rhTy,''vzaxKVzEVNP\"\n"
          ]
        }
      ]
    },
    {
      "cell_type": "markdown",
      "source": [
        "#### **Train Model**"
      ],
      "metadata": {
        "id": "t0h2C-6ZkX6e"
      }
    },
    {
      "cell_type": "code",
      "source": [
        "loss = tf.losses.SparseCategoricalCrossentropy(from_logits=True)"
      ],
      "metadata": {
        "id": "-sRgKFlfkbOH"
      },
      "execution_count": 62,
      "outputs": []
    },
    {
      "cell_type": "code",
      "source": [
        "example_batch_mean_loss = loss(target_example_batch, example_batch_predictions)\n",
        "print(\"Prediction shape: \", example_batch_predictions.shape, \" # (batch_size, sequence_length, vocab_size)\")\n",
        "print(\"Mean loss:        \", example_batch_mean_loss)"
      ],
      "metadata": {
        "colab": {
          "base_uri": "https://localhost:8080/"
        },
        "id": "h3Yvrbglkdbp",
        "outputId": "cba2cd4b-6ebe-4bb8-a8d6-e6d18303bb1c"
      },
      "execution_count": 63,
      "outputs": [
        {
          "output_type": "stream",
          "name": "stdout",
          "text": [
            "Prediction shape:  (64, 100, 66)  # (batch_size, sequence_length, vocab_size)\n",
            "Mean loss:         tf.Tensor(4.188316, shape=(), dtype=float32)\n"
          ]
        }
      ]
    },
    {
      "cell_type": "code",
      "source": [
        "tf.exp(example_batch_mean_loss).numpy()"
      ],
      "metadata": {
        "colab": {
          "base_uri": "https://localhost:8080/"
        },
        "id": "6VbbNQB6kfRQ",
        "outputId": "2365cd9e-7807-448a-9107-258d0efe253d"
      },
      "execution_count": 64,
      "outputs": [
        {
          "output_type": "execute_result",
          "data": {
            "text/plain": [
              "65.91169"
            ]
          },
          "metadata": {},
          "execution_count": 64
        }
      ]
    },
    {
      "cell_type": "code",
      "source": [
        "model.compile(optimizer='adam', loss=loss)"
      ],
      "metadata": {
        "id": "5zfH4xYXkggg"
      },
      "execution_count": 65,
      "outputs": []
    },
    {
      "cell_type": "markdown",
      "source": [
        "Konfigurasi Checkpoints"
      ],
      "metadata": {
        "id": "oV6UBbK1ki64"
      }
    },
    {
      "cell_type": "code",
      "source": [
        "# Directory where the checkpoints will be saved\n",
        "checkpoint_dir = './training_checkpoints'\n",
        "# Name of the checkpoint files\n",
        "checkpoint_prefix = os.path.join(checkpoint_dir, \"ckpt_{epoch}\")\n",
        "\n",
        "checkpoint_callback = tf.keras.callbacks.ModelCheckpoint(\n",
        "    filepath=checkpoint_prefix,\n",
        "    save_weights_only=True)"
      ],
      "metadata": {
        "id": "llUEgq61kj04"
      },
      "execution_count": 66,
      "outputs": []
    },
    {
      "cell_type": "markdown",
      "source": [
        "Lakukan Proses Training"
      ],
      "metadata": {
        "id": "xa-z_6KikmtG"
      }
    },
    {
      "cell_type": "code",
      "source": [
        "EPOCHS = 20"
      ],
      "metadata": {
        "id": "LdVwP9klkoqy"
      },
      "execution_count": 68,
      "outputs": []
    },
    {
      "cell_type": "code",
      "source": [
        "history = model.fit(dataset, epochs=EPOCHS, callbacks=[checkpoint_callback])"
      ],
      "metadata": {
        "colab": {
          "base_uri": "https://localhost:8080/"
        },
        "id": "1GQ2ZVOLkrUL",
        "outputId": "7758ebda-91f3-4c0c-bf06-6ef27b386a73"
      },
      "execution_count": 69,
      "outputs": [
        {
          "output_type": "stream",
          "name": "stdout",
          "text": [
            "Epoch 1/20\n",
            "172/172 [==============================] - 15s 55ms/step - loss: 2.6865\n",
            "Epoch 2/20\n",
            "172/172 [==============================] - 11s 53ms/step - loss: 1.9633\n",
            "Epoch 3/20\n",
            "172/172 [==============================] - 11s 53ms/step - loss: 1.6876\n",
            "Epoch 4/20\n",
            "172/172 [==============================] - 11s 53ms/step - loss: 1.5306\n",
            "Epoch 5/20\n",
            "172/172 [==============================] - 11s 53ms/step - loss: 1.4348\n",
            "Epoch 6/20\n",
            "172/172 [==============================] - 11s 55ms/step - loss: 1.3683\n",
            "Epoch 7/20\n",
            "172/172 [==============================] - 11s 54ms/step - loss: 1.3156\n",
            "Epoch 8/20\n",
            "172/172 [==============================] - 11s 54ms/step - loss: 1.2710\n",
            "Epoch 9/20\n",
            "172/172 [==============================] - 11s 54ms/step - loss: 1.2290\n",
            "Epoch 10/20\n",
            "172/172 [==============================] - 11s 55ms/step - loss: 1.1887\n",
            "Epoch 11/20\n",
            "172/172 [==============================] - 11s 55ms/step - loss: 1.1497\n",
            "Epoch 12/20\n",
            "172/172 [==============================] - 11s 55ms/step - loss: 1.1066\n",
            "Epoch 13/20\n",
            "172/172 [==============================] - 11s 55ms/step - loss: 1.0616\n",
            "Epoch 14/20\n",
            "172/172 [==============================] - 12s 55ms/step - loss: 1.0160\n",
            "Epoch 15/20\n",
            "172/172 [==============================] - 11s 56ms/step - loss: 0.9664\n",
            "Epoch 16/20\n",
            "172/172 [==============================] - 11s 54ms/step - loss: 0.9160\n",
            "Epoch 17/20\n",
            "172/172 [==============================] - 11s 55ms/step - loss: 0.8650\n",
            "Epoch 18/20\n",
            "172/172 [==============================] - 11s 54ms/step - loss: 0.8141\n",
            "Epoch 19/20\n",
            "172/172 [==============================] - 11s 55ms/step - loss: 0.7656\n",
            "Epoch 20/20\n",
            "172/172 [==============================] - 12s 55ms/step - loss: 0.7196\n"
          ]
        }
      ]
    },
    {
      "cell_type": "markdown",
      "source": [
        "#### **Generate Teks**"
      ],
      "metadata": {
        "id": "8-u0ve5xnhFp"
      }
    },
    {
      "cell_type": "code",
      "source": [
        "class OneStep(tf.keras.Model):\n",
        "  def __init__(self, model, chars_from_ids, ids_from_chars, temperature=1.0):\n",
        "    super().__init__()\n",
        "    self.temperature = temperature\n",
        "    self.model = model\n",
        "    self.chars_from_ids = chars_from_ids\n",
        "    self.ids_from_chars = ids_from_chars\n",
        "\n",
        "    # Create a mask to prevent \"[UNK]\" from being generated.\n",
        "    skip_ids = self.ids_from_chars(['[UNK]'])[:, None]\n",
        "    sparse_mask = tf.SparseTensor(\n",
        "        # Put a -inf at each bad index.\n",
        "        values=[-float('inf')]*len(skip_ids),\n",
        "        indices=skip_ids,\n",
        "        # Match the shape to the vocabulary\n",
        "        dense_shape=[len(ids_from_chars.get_vocabulary())])\n",
        "    self.prediction_mask = tf.sparse.to_dense(sparse_mask)\n",
        "\n",
        "  @tf.function\n",
        "  def generate_one_step(self, inputs, states=None):\n",
        "    # Convert strings to token IDs.\n",
        "    input_chars = tf.strings.unicode_split(inputs, 'UTF-8')\n",
        "    input_ids = self.ids_from_chars(input_chars).to_tensor()\n",
        "\n",
        "    # Run the model.\n",
        "    # predicted_logits.shape is [batch, char, next_char_logits]\n",
        "    predicted_logits, states = self.model(inputs=input_ids, states=states,\n",
        "                                          return_state=True)\n",
        "    # Only use the last prediction.\n",
        "    predicted_logits = predicted_logits[:, -1, :]\n",
        "    predicted_logits = predicted_logits/self.temperature\n",
        "    # Apply the prediction mask: prevent \"[UNK]\" from being generated.\n",
        "    predicted_logits = predicted_logits + self.prediction_mask\n",
        "\n",
        "    # Sample the output logits to generate token IDs.\n",
        "    predicted_ids = tf.random.categorical(predicted_logits, num_samples=1)\n",
        "    predicted_ids = tf.squeeze(predicted_ids, axis=-1)\n",
        "\n",
        "    # Convert from token ids to characters\n",
        "    predicted_chars = self.chars_from_ids(predicted_ids)\n",
        "\n",
        "    # Return the characters and model state.\n",
        "    return predicted_chars, states"
      ],
      "metadata": {
        "id": "fZ0kr3atnkRX"
      },
      "execution_count": 70,
      "outputs": []
    },
    {
      "cell_type": "code",
      "source": [
        "one_step_model = OneStep(model, chars_from_ids, ids_from_chars)"
      ],
      "metadata": {
        "id": "EzngwYbsnnP5"
      },
      "execution_count": 71,
      "outputs": []
    },
    {
      "cell_type": "code",
      "source": [
        "start = time.time()\n",
        "states = None\n",
        "next_char = tf.constant(['ROMEO:'])\n",
        "result = [next_char]\n",
        "\n",
        "for n in range(1000):\n",
        "  next_char, states = one_step_model.generate_one_step(next_char, states=states)\n",
        "  result.append(next_char)\n",
        "\n",
        "result = tf.strings.join(result)\n",
        "end = time.time()\n",
        "print(result[0].numpy().decode('utf-8'), '\\n\\n' + '_'*80)\n",
        "print('\\nRun time:', end - start)"
      ],
      "metadata": {
        "colab": {
          "base_uri": "https://localhost:8080/"
        },
        "id": "_QOxO-GKns6V",
        "outputId": "adb5d483-df7d-4e84-d1b8-1232ba3acf98"
      },
      "execution_count": 72,
      "outputs": [
        {
          "output_type": "stream",
          "name": "stdout",
          "text": [
            "ROMEO:\n",
            "Edward, her consul, which never stand before\n",
            "By eleven darges on the juster scope.\n",
            "\n",
            "A Play, Lady:\n",
            "May think it not a cup,\n",
            "But 'tyoughly, madam.\n",
            "With violent thing that shows itself his valour stain'd\n",
            "Enthang all the applorning rates by their\n",
            "sevenance of the deeds of this employment.\n",
            "Take him after with flatery, and the firdomb of graves,\n",
            "Make justice hath here looks as clear'd into become\n",
            "A king of one table, and to obey breath,\n",
            "May in the duke and thine, the boy is runkled,' to some care\n",
            "And cries 'Detis,' indeed in Groucester,\n",
            "Who hath dispersed by possess'd.\n",
            "\n",
            "DUKE OF AUMERLE:\n",
            "Is it even in my tongue a rud brief.\n",
            "\n",
            "JULIET:\n",
            "Go, girl;\n",
            "For Romeo, what a propeech yet little's tack\n",
            "Most dignifated by this condition, is no money, to rise,\n",
            "In crooping with an uprish'd labour.\n",
            "\n",
            "ANGELO:\n",
            "Well, well, we'll met atorn this spring;\n",
            "For we arrived at this day which never be long\n",
            "Law as pier 'evort's pass.\n",
            "\n",
            "DUKE OF AUMERLE:\n",
            "No matter, provost! so I dall in, like to have\n",
            "O Romeo, that hath eaten the \n",
            "\n",
            "________________________________________________________________________________\n",
            "\n",
            "Run time: 4.82994818687439\n"
          ]
        }
      ]
    },
    {
      "cell_type": "code",
      "source": [
        "start = time.time()\n",
        "states = None\n",
        "next_char = tf.constant(['ROMEO:', 'ROMEO:', 'ROMEO:', 'ROMEO:', 'ROMEO:'])\n",
        "result = [next_char]\n",
        "\n",
        "for n in range(1000):\n",
        "  next_char, states = one_step_model.generate_one_step(next_char, states=states)\n",
        "  result.append(next_char)\n",
        "\n",
        "result = tf.strings.join(result)\n",
        "end = time.time()\n",
        "print(result, '\\n\\n' + '_'*80)\n",
        "print('\\nRun time:', end - start)"
      ],
      "metadata": {
        "colab": {
          "base_uri": "https://localhost:8080/"
        },
        "id": "5Yrsm_ZwnrXK",
        "outputId": "972d08f7-d29d-414e-9c8c-882d76d8434f"
      },
      "execution_count": 73,
      "outputs": [
        {
          "output_type": "stream",
          "name": "stdout",
          "text": [
            "tf.Tensor(\n",
            "[b\"ROMEO:\\nYea, with a cruel wedding guilty mother, madest me\\nIn arm'd our party knot, who, hit his appetite,\\nHow they look'd pale heartill wings it shall\\nWere for greater: therefore frolt us! how we set\\nthe charge he stands with kindness of our several\\npines such envysiting with against the gods\\nFor him, God, how his son's son is yours,\\nborne in France and lobly flooders.\\nThe name of Ragards and thou the letter with our state\\nTo this hour Hermione, there is dead; and yours;\\nHer heavour of this yieldings, nurse.\\n\\nRIVERS:\\nThe seating war we were for wanton form\\nOf death no more at home.\\n\\nClown:\\nHave I not, 're the cast I wail; then for his limbs usurp\\nThat it shall be my right. What your i'court\\nWith any thing encounters prove given me to myself,\\nI charged thee; fare 'tis time to know his nature\\nWith that high heavily kiss my shame, nor ease,\\nAnd rights him from mean: give thee them thither:\\nAnd wise me to a please thee, keep them out\\nThat cries 'Demil is to return to know\\nProved them that driven\"\n",
            " b\"ROMEO:\\nOne that I was and sovereign,\\nOn pure life's very heart, than though he would have lacked at\\nhimself to his brother, the which he goes with\\nLike us as approbation.\\n3 KING Rivers, take up such dissings\\nAre nust and twictes hard-born innocents, with blood,\\nWith such a pitch our title and these woes trankle:\\nSince once he won to work it, Mantua;\\nBut in this world will outwore and fear'd\\nOf this short nothing; field, and so asher\\nAs to beget mine arm: if\\na hundred magisement, where I fall, that 'twixt this\\neye?\\nO my doublets defend, though long, and red\\nit to thy heart when 'tis but spectal gentlemen.\\nThis is the fire-pointed of thy tongue;\\nFor I have many horses in the right,\\nNot clean-times for your lives. For her well motine's woe;\\nAnd do, I pray thee, against the clouds,\\nAnd lie with our command. I will keep right.\\n\\nWARWICK:\\nWhy looks your ground I'll piece thee to thy bless.\\n\\nSTANLEY:\\nNay, then; I have a touch of those too any thing\\nyour hands to dry them. He's at Lacunes with their \"\n",
            " b\"ROMEO:\\nTheir subjects, eyes, sword, one word to the palace;\\nKeep home, thy kindness and usmind leiss\\nIn our as long to bear with me, forewarns of it should be\\nAn apom' grave; holiant Friar, that\\nWhich in your flattering eccle?\\nBut your affections and two and thine weak;\\nNot like instained brood this marriage? O, thou.\\n\\nCORIOLANUS:\\nSay at that her:\\nPlanter our entertainment, look thou, juscy, and thou, pretty long\\nTo hide his malmonapt: then this reason my son\\nShould yet perhuse your fair displeasure; for this business\\nIs there be mariner to reason than any of him.\\n\\nKING HENRY VI:\\nWhy, that makes himself shall be thy age inferiant,\\nAnd yours, 'Wed all a body is rine of either\\nThat he did here with words: this gentleman Isabel.\\n\\nDUKE OF AUMERLE:\\nIs it letters to my penil.\\nThis, by my books for vain to save my oldest;\\nWhich we dids but rument turn bart sworn.\\n\\nOftho did usurp what\\nshe will not stain too, our three days again;\\nIn your lists and it off again,\\nWidow God and lie in coverity\\nKinging\"\n",
            " b\"ROMEO:\\nSupposes, so I dive him for't.\\n\\nFirst Citizen:\\nYour commentant citizens entreat your waters: withal,\\nProud byhy, to thy dove one doth emblown.\\nWhen this we loathed foul than it, or I,\\nThat bear the time when brings of times to cheque my life,--\\nFor either I did here all, Bupkingh,\\nDiesement home, he was this service is\\nfree into a lord, it privedly toward\\nShould go under your woes against yourself: and he is\\no'erlaw your words ere now to cut it fiss.\\n\\nTRANIO:\\nSee how they do you dead?\\nGod forgivene nor my sorrows unconveniently prince.\\n\\nCitizens:\\nLay, look you, Sir high at thy grief;\\nIt shall be so to bring it thus:\\nSo do I take my letter, then and orderly.\\n\\nPROSPERO:\\nNow I remember well of Winest.\\nCome, sirrah, then let the weighing eye: but at last\\nI will prove good a torment I for a cure\\nBut think'st thou suppose that you look on\\nWith my will obey's wales.\\n\\nFirst Servingman:\\nNo.\\n\\nTRANIO:\\nAnd time will not at our obidience and Gloucester\\nThan Happy naily where her spoirt to be curse\"\n",
            " b\"ROMEO:\\nNor call thee as it is.\\nThen be rich for England! A hundred cheers.\\nMy lords at Pomfret. Nay, be such as you,\\nAnd young ago our feeling, and the need\\nor the afflicted witty Were this afternoon: our Marian,\\nDid most uneager than a verger hie;\\nThat, in the most, set down at Venother;\\nFor what I cannot, be it bent and conquer:\\nBut then express your subjects soa,\\nThe poor offender me and pryiel.\\n\\nDUKE VINCENTIO:\\nBase men dismiss: the benefit of the duke\\nand wife, alide have made to each part\\nTo this misfortuney of a tale:\\nBy which looks! No man shall be my life; and I\\nDe pale the duke may enter. A coward!\\nThe duke! yes, madam: yet he died this fight\\nFor them at Oxfiritable thing, and shall but fire\\nFon doing in the loss,\\nBefore this arms in thieves. Why, 'tis not the blow,\\nFullyous and gull friends her up the issues; and there\\nI heard the number of honour and I king to reason\\nForgaged, of it: I know he would increase thee.\\n\\nAENitwas, I\\nPray him.\\n\\nFirst Conspirator:\\nMost swir, take 'tim of\"], shape=(5,), dtype=string) \n",
            "\n",
            "________________________________________________________________________________\n",
            "\n",
            "Run time: 6.130708456039429\n"
          ]
        }
      ]
    },
    {
      "cell_type": "markdown",
      "source": [
        "#### **Ekspor Model Generator**"
      ],
      "metadata": {
        "id": "eMoPq2b8n11x"
      }
    },
    {
      "cell_type": "code",
      "source": [
        "tf.saved_model.save(one_step_model, 'one_step')\n",
        "one_step_reloaded = tf.saved_model.load('one_step')"
      ],
      "metadata": {
        "colab": {
          "base_uri": "https://localhost:8080/"
        },
        "id": "Gg-LEyJcn44j",
        "outputId": "f05e532c-f794-4bcd-fef6-94eaa412398f"
      },
      "execution_count": 74,
      "outputs": [
        {
          "output_type": "stream",
          "name": "stderr",
          "text": [
            "WARNING:tensorflow:Skipping full serialization of Keras layer <__main__.OneStep object at 0x7ea6ea886380>, because it is not built.\n",
            "WARNING:tensorflow:Model's `__init__()` arguments contain non-serializable objects. Please implement a `get_config()` method in the subclassed Model for proper saving and loading. Defaulting to empty config.\n",
            "WARNING:tensorflow:Model's `__init__()` arguments contain non-serializable objects. Please implement a `get_config()` method in the subclassed Model for proper saving and loading. Defaulting to empty config.\n"
          ]
        }
      ]
    },
    {
      "cell_type": "code",
      "source": [
        "states = None\n",
        "next_char = tf.constant(['ROMEO:'])\n",
        "result = [next_char]\n",
        "\n",
        "for n in range(100):\n",
        "  next_char, states = one_step_reloaded.generate_one_step(next_char, states=states)\n",
        "  result.append(next_char)\n",
        "\n",
        "print(tf.strings.join(result)[0].numpy().decode(\"utf-8\"))"
      ],
      "metadata": {
        "colab": {
          "base_uri": "https://localhost:8080/"
        },
        "id": "7ZL_Na6sn6pt",
        "outputId": "0503d818-8804-41f8-fa1a-cc99be61cab6"
      },
      "execution_count": 75,
      "outputs": [
        {
          "output_type": "stream",
          "name": "stdout",
          "text": [
            "ROMEO:\n",
            "Of, but he takest thyself: bite mine young men\n",
            "That tirrut rebel in executed best of state,\n",
            "High-st\n"
          ]
        }
      ]
    },
    {
      "cell_type": "markdown",
      "source": [
        "### **Tugas**"
      ],
      "metadata": {
        "id": "Vg9So1POoIFb"
      }
    },
    {
      "cell_type": "markdown",
      "source": [
        "Prosedur pelatihan pada praktikum 2 merupakan prosedur sederhana, yang tidak memberi Anda banyak kendali. Model ini menggunakan \"teacher-forcing\" yang mencegah prediksi buruk diumpankan kembali ke model, sehingga model tidak pernah belajar untuk pulih dari kesalahan. Jadi, setelah Anda melihat cara menjalankan model secara manual, selanjutnya Anda akan mengimplementasikan custom loop pelatihan. Hal ini memberikan titik awal jika, misalnya, Anda ingin menerapkan pembelajaran kurikulum untuk membantu menstabilkan keluaran open-loop model. Bagian terpenting dari loop pelatihan khusus adalah fungsi langkah pelatihan. </br> </br> Gunakan tf.GradientTape untuk men track nilai gradient. Anda dapat mempelajari lebih lanjut tentang pendekatan ini dengan membaca eager execution guide. </br> </br> Prosedurnya adalah : </br>\n",
        "  1. Jalankan Model dan hitung loss dengan tf.GradientTape.\n",
        "  2. Hitung update dan terapkan pada model dengan optimizer\n"
      ],
      "metadata": {
        "id": "Vo6DM4wooMyP"
      }
    },
    {
      "cell_type": "code",
      "source": [
        "class CustomTraining(MyModel):\n",
        " @tf.function\n",
        " def train_step(self, inputs):\n",
        "      inputs, labels = inputs\n",
        "      with tf.GradientTape() as tape:\n",
        "        predictions = self(inputs, training=True)\n",
        "        loss = self.loss(labels, predictions)\n",
        "      grads = tape.gradient(loss, model.trainable_variables)\n",
        "      self.optimizer.apply_gradients(zip(grads, model.trainable_variables))\n",
        "\n",
        "      return {'loss': loss}"
      ],
      "metadata": {
        "id": "rZxi7JhRomFb"
      },
      "execution_count": 76,
      "outputs": []
    },
    {
      "cell_type": "markdown",
      "source": [
        "Kode diatas menerapkan train_step method sesuai dengan Keras' train_step conventions. Ini opsional, tetapi memungkinkan Anda mengubah perilaku langkah pelatihan dan tetap menggunakan keras Model.compile and Model.fit methods."
      ],
      "metadata": {
        "id": "gsnVgbnsovMj"
      }
    },
    {
      "cell_type": "code",
      "source": [
        "model = CustomTraining(\n",
        "    vocab_size=len(ids_from_chars.get_vocabulary()),\n",
        "    embedding_dim=embedding_dim,\n",
        "    rnn_units=rnn_units)"
      ],
      "metadata": {
        "id": "MMZo36LmoyBe"
      },
      "execution_count": 77,
      "outputs": []
    },
    {
      "cell_type": "code",
      "source": [
        "model.compile(optimizer = tf.keras.optimizers.Adam(),\n",
        "              loss=tf.keras.losses.SparseCategoricalCrossentropy(from_logits=True))"
      ],
      "metadata": {
        "id": "Xqd9sP8Sozkv"
      },
      "execution_count": 78,
      "outputs": []
    },
    {
      "cell_type": "code",
      "source": [
        "model.fit(dataset, epochs=1)"
      ],
      "metadata": {
        "colab": {
          "base_uri": "https://localhost:8080/"
        },
        "id": "9HUNpU8Zo02D",
        "outputId": "25d05678-333f-49a2-ee48-cf74edf750aa"
      },
      "execution_count": 79,
      "outputs": [
        {
          "output_type": "stream",
          "name": "stdout",
          "text": [
            "172/172 [==============================] - 17s 65ms/step - loss: 2.7049\n"
          ]
        },
        {
          "output_type": "execute_result",
          "data": {
            "text/plain": [
              "<keras.src.callbacks.History at 0x7ea6e81cf280>"
            ]
          },
          "metadata": {},
          "execution_count": 79
        }
      ]
    },
    {
      "cell_type": "markdown",
      "source": [
        "Atau jika ingin lebih mengetahui dalamnya, kita bisa membuat custom training loop sendiri:"
      ],
      "metadata": {
        "id": "xUCOQQvzo221"
      }
    },
    {
      "cell_type": "code",
      "source": [
        "EPOCHS = 10\n",
        "\n",
        "mean = tf.metrics.Mean()\n",
        "\n",
        "for epoch in range(EPOCHS):\n",
        "    start = time.time()\n",
        "\n",
        "    mean.reset_states()\n",
        "    for (batch_n, (inp, target)) in enumerate(dataset):\n",
        "      logs = model.train_step([inp, target])\n",
        "      mean.update_state(logs['loss'])\n",
        "\n",
        "      if batch_n % 50 == 0:\n",
        "         template = f\"Epoch {epoch+1} Batch {batch_n} Loss {logs['loss']:.4f}\"\n",
        "         print(template)\n",
        "\n",
        " # saving (checkpoint) the model every 5 epochs\n",
        "      if (epoch + 1) % 5 == 0:\n",
        "         model.save_weights(checkpoint_prefix.format(epoch=epoch))\n",
        "\n",
        "    print()\n",
        "    print(f'Epoch {epoch+1} Loss: {mean.result().numpy():.4f}')\n",
        "    print(f'Time taken for 1 epoch {time.time() - start:.2f} sec')\n",
        "    print(\"_\"*80)\n",
        "\n",
        "model.save_weights(checkpoint_prefix.format(epoch=epoch))"
      ],
      "metadata": {
        "colab": {
          "base_uri": "https://localhost:8080/"
        },
        "id": "wUDLP1b3o42l",
        "outputId": "9cab9389-2622-4ac3-b411-e8738f4bc185"
      },
      "execution_count": 80,
      "outputs": [
        {
          "output_type": "stream",
          "name": "stdout",
          "text": [
            "Epoch 1 Batch 0 Loss 2.1581\n",
            "Epoch 1 Batch 50 Loss 2.0340\n",
            "Epoch 1 Batch 100 Loss 1.9338\n",
            "Epoch 1 Batch 150 Loss 1.8642\n",
            "\n",
            "Epoch 1 Loss: 1.9809\n",
            "Time taken for 1 epoch 13.70 sec\n",
            "________________________________________________________________________________\n",
            "Epoch 2 Batch 0 Loss 1.8305\n",
            "Epoch 2 Batch 50 Loss 1.8029\n",
            "Epoch 2 Batch 100 Loss 1.7126\n",
            "Epoch 2 Batch 150 Loss 1.6429\n",
            "\n",
            "Epoch 2 Loss: 1.7057\n",
            "Time taken for 1 epoch 20.47 sec\n",
            "________________________________________________________________________________\n",
            "Epoch 3 Batch 0 Loss 1.5811\n",
            "Epoch 3 Batch 50 Loss 1.6112\n",
            "Epoch 3 Batch 100 Loss 1.5457\n",
            "Epoch 3 Batch 150 Loss 1.4778\n",
            "\n",
            "Epoch 3 Loss: 1.5461\n",
            "Time taken for 1 epoch 11.48 sec\n",
            "________________________________________________________________________________\n",
            "Epoch 4 Batch 0 Loss 1.4100\n",
            "Epoch 4 Batch 50 Loss 1.4264\n",
            "Epoch 4 Batch 100 Loss 1.4425\n",
            "Epoch 4 Batch 150 Loss 1.4310\n",
            "\n",
            "Epoch 4 Loss: 1.4493\n",
            "Time taken for 1 epoch 10.29 sec\n",
            "________________________________________________________________________________\n",
            "Epoch 5 Batch 0 Loss 1.3801\n",
            "Epoch 5 Batch 50 Loss 1.3947\n",
            "Epoch 5 Batch 100 Loss 1.3807\n",
            "Epoch 5 Batch 150 Loss 1.3740\n",
            "\n",
            "Epoch 5 Loss: 1.3819\n",
            "Time taken for 1 epoch 41.41 sec\n",
            "________________________________________________________________________________\n",
            "Epoch 6 Batch 0 Loss 1.3191\n",
            "Epoch 6 Batch 50 Loss 1.3345\n",
            "Epoch 6 Batch 100 Loss 1.3377\n",
            "Epoch 6 Batch 150 Loss 1.3454\n",
            "\n",
            "Epoch 6 Loss: 1.3302\n",
            "Time taken for 1 epoch 10.44 sec\n",
            "________________________________________________________________________________\n",
            "Epoch 7 Batch 0 Loss 1.2572\n",
            "Epoch 7 Batch 50 Loss 1.2972\n",
            "Epoch 7 Batch 100 Loss 1.2926\n",
            "Epoch 7 Batch 150 Loss 1.2902\n",
            "\n",
            "Epoch 7 Loss: 1.2858\n",
            "Time taken for 1 epoch 20.47 sec\n",
            "________________________________________________________________________________\n",
            "Epoch 8 Batch 0 Loss 1.2257\n",
            "Epoch 8 Batch 50 Loss 1.2693\n",
            "Epoch 8 Batch 100 Loss 1.2710\n",
            "Epoch 8 Batch 150 Loss 1.2560\n",
            "\n",
            "Epoch 8 Loss: 1.2453\n",
            "Time taken for 1 epoch 11.13 sec\n",
            "________________________________________________________________________________\n",
            "Epoch 9 Batch 0 Loss 1.1771\n",
            "Epoch 9 Batch 50 Loss 1.2367\n",
            "Epoch 9 Batch 100 Loss 1.1719\n",
            "Epoch 9 Batch 150 Loss 1.2154\n",
            "\n",
            "Epoch 9 Loss: 1.2064\n",
            "Time taken for 1 epoch 11.76 sec\n",
            "________________________________________________________________________________\n",
            "Epoch 10 Batch 0 Loss 1.1556\n",
            "Epoch 10 Batch 50 Loss 1.1388\n",
            "Epoch 10 Batch 100 Loss 1.1711\n",
            "Epoch 10 Batch 150 Loss 1.1756\n",
            "\n",
            "Epoch 10 Loss: 1.1664\n",
            "Time taken for 1 epoch 81.91 sec\n",
            "________________________________________________________________________________\n"
          ]
        }
      ]
    },
    {
      "cell_type": "markdown",
      "source": [
        "Perbedaan antara hasil dari praktikum 2 dan tugas terlihat dari estimasi waktu eksekusi epoch :\n",
        "- Estimasi waktu yang dibutuhkan praktikum 2 cenderung konstan dan jika pun ada perubahan estimasi waktu, itupun hanya selisih 1-4 detik. Contohnya pada epoch 1 dibutuhkan waktu 15s untuk mengeksekusi sedangkan epoch 2 hingga 19 hanya membutuhkan waktu selama 11s. Sementara itu epoch 20 membutuhkan waktu 12s untuk mengeksekusi.\n",
        "- Estimasi waktu yang dihasilkan dari eksekusi kode program pada Tugas memiliki selisih yang sangat signifikan. Epoch 1, 3, 4, 6, 8, 9 memiliki waktu eksekusi yang berada pada jangkauan 10 - 13s, sedangkan epoch 2, 5, 7, 10 membutuhkan waktu eksekusi lebih dari 20s."
      ],
      "metadata": {
        "id": "KDfPkLtPpXZr"
      }
    }
  ]
}