{
 "cells": [
  {
   "cell_type": "markdown",
   "metadata": {},
   "source": [
    "# Praktikum 1\n",
    "\n",
    "**RNN untuk Analisis Sentimen**\n",
    "\n",
    "Impor matplotlib dan buat fungsi pembantu untuk memplot grafik:"
   ]
  },
  {
   "cell_type": "code",
   "execution_count": null,
   "metadata": {},
   "outputs": [],
   "source": [
    "# first copy, paste, and install this through terminal\n",
    "pip install -q tfds-nightly tensorflow matplotlib"
   ]
  },
  {
   "cell_type": "code",
   "execution_count": 1,
   "metadata": {},
   "outputs": [],
   "source": [
    "import numpy as np\n",
    "import tensorflow_datasets as tfds\n",
    "import tensorflow as tf\n",
    " \n",
    "tfds.disable_progress_bar()\n"
   ]
  },
  {
   "cell_type": "code",
   "execution_count": 2,
   "metadata": {},
   "outputs": [],
   "source": [
    "# got error after paste? delete spaces and give space again (optional)\n",
    "import matplotlib.pyplot as plt\n",
    "\n",
    "def plot_graphs(history, metric):\n",
    "  plt.plot(history.history[metric]) \n",
    "  plt.plot(history.history['val_'+metric], '')\n",
    "  plt.xlabel(\"Epochs\")\n",
    "  plt.ylabel(metric)\n",
    "  plt.legend([metric, 'val_'+metric])"
   ]
  },
  {
   "cell_type": "markdown",
   "metadata": {},
   "source": [
    "**Setup input pipeline**\n",
    "\n",
    "Dataset ulasan film IMDB adalah kumpulan data klasifikasi biner—semua ulasan memiliki sentimen positif atau negatif.\n",
    "\n",
    "Download dataset menggunakan [TFDS](https://www.tensorflow.org/datasets). Lihat [loading text tutorial](https://www.tensorflow.org/tutorials/load_data/text) jika ingin me load data secara manual"
   ]
  },
  {
   "cell_type": "code",
   "execution_count": 3,
   "metadata": {},
   "outputs": [
    {
     "name": "stdout",
     "output_type": "stream",
     "text": [
      "\u001b[1mDownloading and preparing dataset Unknown size (download: Unknown size, generated: Unknown size, total: Unknown size) to C:\\Users\\Lenovo\\tensorflow_datasets\\imdb_reviews\\plain_text\\1.0.0...\u001b[0m\n",
      "\u001b[1mDataset imdb_reviews downloaded and prepared to C:\\Users\\Lenovo\\tensorflow_datasets\\imdb_reviews\\plain_text\\1.0.0. Subsequent calls will reuse this data.\u001b[0m\n"
     ]
    },
    {
     "data": {
      "text/plain": [
       "(TensorSpec(shape=(), dtype=tf.string, name=None),\n",
       " TensorSpec(shape=(), dtype=tf.int64, name=None))"
      ]
     },
     "execution_count": 3,
     "metadata": {},
     "output_type": "execute_result"
    }
   ],
   "source": [
    "dataset, info = tfds.load('imdb_reviews', with_info=True,\n",
    "                          as_supervised=True)\n",
    "train_dataset, test_dataset = dataset['train'], dataset['test']\n",
    "\n",
    "train_dataset.element_spec"
   ]
  },
  {
   "cell_type": "markdown",
   "metadata": {},
   "source": [
    "Awalnya ini mengembalikan dataset (teks, pasangan label):"
   ]
  },
  {
   "cell_type": "code",
   "execution_count": 4,
   "metadata": {},
   "outputs": [
    {
     "name": "stdout",
     "output_type": "stream",
     "text": [
      "text:  b\"This was an absolutely terrible movie. Don't be lured in by Christopher Walken or Michael Ironside. Both are great actors, but this must simply be their worst role in history. Even their great acting could not redeem this movie's ridiculous storyline. This movie is an early nineties US propaganda piece. The most pathetic scenes were those when the Columbian rebels were making their cases for revolutions. Maria Conchita Alonso appeared phony, and her pseudo-love affair with Walken was nothing but a pathetic emotional plug in a movie that was devoid of any real meaning. I am disappointed that there are movies like this, ruining actor's like Christopher Walken's good name. I could barely sit through it.\"\n",
      "label:  0\n"
     ]
    }
   ],
   "source": [
    "for example, label in train_dataset.take(1):\n",
    "  print('text: ', example.numpy())\n",
    "  print('label: ', label.numpy())"
   ]
  },
  {
   "cell_type": "markdown",
   "metadata": {},
   "source": [
    "Berikutnya acak data untuk pelatihan dan membuat kumpulan pasangan (teks, label) ini:"
   ]
  },
  {
   "cell_type": "code",
   "execution_count": 5,
   "metadata": {},
   "outputs": [
    {
     "name": "stdout",
     "output_type": "stream",
     "text": [
      "texts:  [b\"If you've ever seen this movie, you'd know that it! If you haven't, and want to see a classic BAD movie, I suggest you see this movie, because it ranks right down with the worst. So, if you're REALLY bored, go rent it. If you want to know what it's like, here's my little summary: Adam Sandler is hired to work on a giant cruise ship with some Ms Universe models and five other people. Adam doesn't like how one passenger is getting all the babes, and he tries to take over with the cheezy jokes. BUT WAIT! It only gets worse! You'll have to rent the movie yourself to see how bad it truly is.\"\n",
      " b'This was the first televised episode of the Columbo series (although it was filmed after \"Death Lends a Hand\")and it heralded one of the most successful TV series in history.<br /><br />Jack Cassidy (who played the murderer in the series three times) enthuses smugness, arrogance and self-assuredness in equal measure here, as Ken Franklin, one half of a mystery writing team who hatches an elaborate plot to kill off his partner, Jim Ferris (played by Martin Milner) who decides to terminate their professional relationship, leaving Franklin exposed as merely a good publicist rather than a prolific writer.<br /><br />The initial murder set-up is fantastic and Cassidy\\'s performance facilitates an arguable accolade that he was the best Columbo murderer in the series.<br /><br />Peter Falk is wonderfully understated in his role as Columbo and the character\\'s inherent traits and oddities, which are underlined by a seeming slowness and absent-mindedness, contrast particularly well with Cassidy\\'s character\\'s extreme smugness: one of their early scenes together where Ken Franklin fabricates a motive for the killing through Jim Ferris\\'s non-existent expo-see of identifying hit-men operating in the underworld exemplifies this very well. Franklin hints to Columbo this potential motive and Columbo (purposely or ignorantly) fails to latch on, forcing Franklin to express his disappointment in a markedly patronising manner and compare him unfavourably with the detective in the books, Mrs. Melville.<br /><br />Also, noteworthy is the early directorial contribution of 24 year old Steven Spielberg. Notwithstanding, some elementary inclusions of cameras shadowing the actors and actresses, he adds some stylish and elaborate touches to uphold the general professionalism of the episode. One particularly stark image is of Jim Feriss\\'s dead body lying on the settee, almost dark in the foreground, as Ken Franklin raises a glass to him in the background after he finishes answering a phone call to Ferris\\'s distraught wife. I have no doubt that working to a restrictive 10-14 day schedule, Spieberg\\'s efforts should not be underestimated.<br /><br />Unfortunately, the event of the second murder, necessitated by a blackmailing scheme which is plotted by a female friend of Franklin\\'s (and ironically referred to as \"sloppy\" by Columbo in his climatic summing up) takes the steam out of the whole thing. The cutting edge of the plot is compromised and the screen-time between Falk and Cassidy inexcusably lessens at this point to perhaps help the script-writer (Stephen Bocho) out of a tight corner, since he cannot singularly develop the story without another murder.<br /><br />The climax is the most disappointing aspect of this episode. The initial banter and exchange of words between Falk and Cassidy is strongly and effectively executed, but it merely advertises the fact that it should have happened more in the episode. The main aggravation lies with the sealing clue (if it can be called a clue): Cassidy\\'s character\\'s hitherto smugness and arrogance is amazingly expelled by a clue that really does little to imply his guilt; and once this is mentioned, he capitulates in a rather unspectacular and uncharacteristic fashion.<br /><br />All in all, a bold opening to the series, which inevitably advertises and foretells all that is good about Columbo, and, conversely, the problems associated with such ingenuity, i.e maintaining the high standards and particularly, creating a credible and suitably intelligent ending.'\n",
      " b\"I have loved this movie all of my life. It's such an intelligent story also, with plenty of classical allusions. eg. The ship that went missing decades earlier was called the Bellerophon. Well, in classical mythology this was the man who slew the Chimera, a legendary beast composed of two or more other creatures. In FP, Walter Pidgeon is clearly the chimera- himself and his Id monster. <br /><br />I like movies where the writers have clearly credited their audiences with a modicum of intelligence, unlike most modern blockbusters which spend $150m on special effects, but about $1.50 on a screenplay.<br /><br />Cheers\"]\n",
      "\n",
      "labels:  [0 1 1]\n"
     ]
    }
   ],
   "source": [
    "BUFFER_SIZE = 10000\n",
    "BATCH_SIZE = 64\n",
    "\n",
    "train_dataset = train_dataset.shuffle(BUFFER_SIZE).batch(BATCH_SIZE).prefetch(tf.data.AUTOTUNE)\n",
    "test_dataset = test_dataset.batch(BATCH_SIZE).prefetch(tf.data.AUTOTUNE)\n",
    "\n",
    "for example, label in train_dataset.take(1):\n",
    "  print('texts: ', example.numpy()[:3])\n",
    "  print()\n",
    "  print('labels: ', label.numpy()[:3])\n"
   ]
  },
  {
   "cell_type": "markdown",
   "metadata": {},
   "source": [
    "**Buat Teks Encoder**\n",
    "\n",
    "Teks mentah yang dimuat oleh tfds perlu diproses sebelum dapat digunakan dalam model. Cara termudah memproses teks untuk pelatihan adalah menggunakan lapisan TextVectorization. Lapisan ini memiliki banyak kemampuan, namun pada tutorial ini menggunakan perilaku default. Buat lapisan tersebut, dan teruskan teks kumpulan data ke metode .adapt lapisan:"
   ]
  },
  {
   "cell_type": "code",
   "execution_count": 6,
   "metadata": {},
   "outputs": [],
   "source": [
    "VOCAB_SIZE = 1000\n",
    "encoder = tf.keras.layers.TextVectorization(\n",
    "    max_tokens=VOCAB_SIZE)\n",
    "encoder.adapt(train_dataset.map(lambda text, label: text))"
   ]
  },
  {
   "cell_type": "markdown",
   "metadata": {},
   "source": [
    "Metode .adapt mengatur kosakata lapisan. 20 token pertama dapat dilihat dengan kode berikut. Setelah padding dan token yang tidak diketahui, mereka diurutkan berdasarkan frekuensi:"
   ]
  },
  {
   "cell_type": "code",
   "execution_count": 7,
   "metadata": {},
   "outputs": [
    {
     "data": {
      "text/plain": [
       "array(['', '[UNK]', 'the', 'and', 'a', 'of', 'to', 'is', 'in', 'it', 'i',\n",
       "       'this', 'that', 'br', 'was', 'as', 'for', 'with', 'movie', 'but'],\n",
       "      dtype='<U14')"
      ]
     },
     "execution_count": 7,
     "metadata": {},
     "output_type": "execute_result"
    }
   ],
   "source": [
    "# you got error after paste? delete the space and re-space again\n",
    "vocab = np.array(encoder.get_vocabulary())\n",
    "vocab[:20]"
   ]
  },
  {
   "cell_type": "markdown",
   "metadata": {},
   "source": [
    "Setelah kosakata diatur, lapisan dapat mengkodekan teks ke dalam indeks. Tensor indeks diberi bantalan 0 ke urutan terpanjang dalam batch (kecuali jika Anda menetapkan output_sequence_length tetap):"
   ]
  },
  {
   "cell_type": "code",
   "execution_count": 8,
   "metadata": {},
   "outputs": [
    {
     "data": {
      "text/plain": [
       "array([[ 45, 825, 122, ...,   0,   0,   0],\n",
       "       [ 11,  14,   2, ...,   0,   0,   0],\n",
       "       [ 10,  26, 434, ...,   0,   0,   0]], dtype=int64)"
      ]
     },
     "execution_count": 8,
     "metadata": {},
     "output_type": "execute_result"
    }
   ],
   "source": [
    "# delete the space again and re-space it lol\n",
    "encoded_example = encoder(example)[:3].numpy()\n",
    "encoded_example"
   ]
  },
  {
   "cell_type": "markdown",
   "metadata": {},
   "source": [
    "Dengan pengaturan default, prosesnya tidak dapat dibalik sepenuhnya. Ada dua alasan utama untuk itu: \n",
    "- Nilai default untuk argumen standarisasi preprocessing.TextVectorization adalah \"lower_and_strip_punctuation\". \n",
    "- Ukuran kosa kata yang terbatas dan kurangnya fallback berbasis karakter menghasilkan beberapa token yang tidak diketahui."
   ]
  },
  {
   "cell_type": "code",
   "execution_count": 9,
   "metadata": {},
   "outputs": [
    {
     "name": "stdout",
     "output_type": "stream",
     "text": [
      "Original:  b\"If you've ever seen this movie, you'd know that it! If you haven't, and want to see a classic BAD movie, I suggest you see this movie, because it ranks right down with the worst. So, if you're REALLY bored, go rent it. If you want to know what it's like, here's my little summary: Adam Sandler is hired to work on a giant cruise ship with some Ms Universe models and five other people. Adam doesn't like how one passenger is getting all the babes, and he tries to take over with the cheezy jokes. BUT WAIT! It only gets worse! You'll have to rent the movie yourself to see how bad it truly is.\"\n",
      "Round-trip:  if youve ever seen this movie [UNK] know that it if you havent and want to see a classic bad movie i [UNK] you see this movie because it [UNK] right down with the worst so if youre really [UNK] go rent it if you want to know what its like [UNK] my little [UNK] [UNK] [UNK] is [UNK] to work on a [UNK] [UNK] [UNK] with some [UNK] [UNK] [UNK] and five other people [UNK] doesnt like how one [UNK] is getting all the [UNK] and he tries to take over with the [UNK] jokes but wait it only gets worse youll have to rent the movie yourself to see how bad it truly is                                                                                                                                                                                                                                                                                                                                                                                                                                                                                                                                                                                                                                                                                                                                               \n",
      "\n",
      "Original:  b'This was the first televised episode of the Columbo series (although it was filmed after \"Death Lends a Hand\")and it heralded one of the most successful TV series in history.<br /><br />Jack Cassidy (who played the murderer in the series three times) enthuses smugness, arrogance and self-assuredness in equal measure here, as Ken Franklin, one half of a mystery writing team who hatches an elaborate plot to kill off his partner, Jim Ferris (played by Martin Milner) who decides to terminate their professional relationship, leaving Franklin exposed as merely a good publicist rather than a prolific writer.<br /><br />The initial murder set-up is fantastic and Cassidy\\'s performance facilitates an arguable accolade that he was the best Columbo murderer in the series.<br /><br />Peter Falk is wonderfully understated in his role as Columbo and the character\\'s inherent traits and oddities, which are underlined by a seeming slowness and absent-mindedness, contrast particularly well with Cassidy\\'s character\\'s extreme smugness: one of their early scenes together where Ken Franklin fabricates a motive for the killing through Jim Ferris\\'s non-existent expo-see of identifying hit-men operating in the underworld exemplifies this very well. Franklin hints to Columbo this potential motive and Columbo (purposely or ignorantly) fails to latch on, forcing Franklin to express his disappointment in a markedly patronising manner and compare him unfavourably with the detective in the books, Mrs. Melville.<br /><br />Also, noteworthy is the early directorial contribution of 24 year old Steven Spielberg. Notwithstanding, some elementary inclusions of cameras shadowing the actors and actresses, he adds some stylish and elaborate touches to uphold the general professionalism of the episode. One particularly stark image is of Jim Feriss\\'s dead body lying on the settee, almost dark in the foreground, as Ken Franklin raises a glass to him in the background after he finishes answering a phone call to Ferris\\'s distraught wife. I have no doubt that working to a restrictive 10-14 day schedule, Spieberg\\'s efforts should not be underestimated.<br /><br />Unfortunately, the event of the second murder, necessitated by a blackmailing scheme which is plotted by a female friend of Franklin\\'s (and ironically referred to as \"sloppy\" by Columbo in his climatic summing up) takes the steam out of the whole thing. The cutting edge of the plot is compromised and the screen-time between Falk and Cassidy inexcusably lessens at this point to perhaps help the script-writer (Stephen Bocho) out of a tight corner, since he cannot singularly develop the story without another murder.<br /><br />The climax is the most disappointing aspect of this episode. The initial banter and exchange of words between Falk and Cassidy is strongly and effectively executed, but it merely advertises the fact that it should have happened more in the episode. The main aggravation lies with the sealing clue (if it can be called a clue): Cassidy\\'s character\\'s hitherto smugness and arrogance is amazingly expelled by a clue that really does little to imply his guilt; and once this is mentioned, he capitulates in a rather unspectacular and uncharacteristic fashion.<br /><br />All in all, a bold opening to the series, which inevitably advertises and foretells all that is good about Columbo, and, conversely, the problems associated with such ingenuity, i.e maintaining the high standards and particularly, creating a credible and suitably intelligent ending.'\n",
      "Round-trip:  this was the first [UNK] episode of the [UNK] series although it was filmed after death [UNK] a [UNK] it [UNK] one of the most [UNK] tv series in [UNK] br jack [UNK] who played the [UNK] in the series three times [UNK] [UNK] [UNK] and [UNK] in [UNK] [UNK] here as [UNK] [UNK] one half of a mystery writing team who [UNK] an [UNK] plot to kill off his [UNK] [UNK] [UNK] played by [UNK] [UNK] who [UNK] to [UNK] their [UNK] relationship [UNK] [UNK] [UNK] as [UNK] a good [UNK] rather than a [UNK] [UNK] br the [UNK] murder [UNK] is fantastic and [UNK] performance [UNK] an [UNK] [UNK] that he was the best [UNK] [UNK] in the [UNK] br peter [UNK] is [UNK] [UNK] in his role as [UNK] and the characters [UNK] [UNK] and [UNK] which are [UNK] by a [UNK] [UNK] and [UNK] [UNK] particularly well with [UNK] characters [UNK] [UNK] one of their early scenes together where [UNK] [UNK] [UNK] a [UNK] for the killing through [UNK] [UNK] [UNK] [UNK] of [UNK] [UNK] [UNK] in the [UNK] [UNK] this very well [UNK] [UNK] to [UNK] this potential [UNK] and [UNK] [UNK] or [UNK] fails to [UNK] on [UNK] [UNK] to [UNK] his [UNK] in a [UNK] [UNK] [UNK] and [UNK] him [UNK] with the [UNK] in the [UNK] [UNK] [UNK] br also [UNK] is the early [UNK] [UNK] of [UNK] year old [UNK] [UNK] [UNK] some [UNK] [UNK] of [UNK] [UNK] the actors and [UNK] he [UNK] some [UNK] and [UNK] [UNK] to [UNK] the general [UNK] of the episode one particularly [UNK] [UNK] is of [UNK] [UNK] dead body [UNK] on the [UNK] almost dark in the [UNK] as [UNK] [UNK] [UNK] a [UNK] to him in the background after he [UNK] [UNK] a [UNK] call to [UNK] [UNK] wife i have no doubt that working to a [UNK] [UNK] day [UNK] [UNK] [UNK] should not be [UNK] br unfortunately the [UNK] of the second murder [UNK] by a [UNK] [UNK] which is [UNK] by a female friend of [UNK] and [UNK] [UNK] to as [UNK] by [UNK] in his [UNK] [UNK] up takes the [UNK] out of the whole thing the [UNK] [UNK] of the plot is [UNK] and the [UNK] between [UNK] and [UNK] [UNK] [UNK] at this point to perhaps help the [UNK] [UNK] [UNK] out of a [UNK] [UNK] since he cannot [UNK] [UNK] the story without another [UNK] br the [UNK] is the most [UNK] [UNK] of this episode the [UNK] [UNK] and [UNK] of words between [UNK] and [UNK] is [UNK] and [UNK] [UNK] but it [UNK] [UNK] the fact that it should have happened more in the episode the main [UNK] [UNK] with the [UNK] [UNK] if it can be called a [UNK] [UNK] characters [UNK] [UNK] and [UNK] is [UNK] [UNK] by a [UNK] that really does little to [UNK] his [UNK] and once this is [UNK] he [UNK] in a rather [UNK] and [UNK] [UNK] br all in all a [UNK] opening to the series which [UNK] [UNK] and [UNK] all that is good about [UNK] and [UNK] the problems [UNK] with such [UNK] [UNK] [UNK] the high [UNK] and particularly [UNK] a [UNK] and [UNK] [UNK] ending                                                                                                                                                                                                                                                                                                   \n",
      "\n",
      "Original:  b\"I have loved this movie all of my life. It's such an intelligent story also, with plenty of classical allusions. eg. The ship that went missing decades earlier was called the Bellerophon. Well, in classical mythology this was the man who slew the Chimera, a legendary beast composed of two or more other creatures. In FP, Walter Pidgeon is clearly the chimera- himself and his Id monster. <br /><br />I like movies where the writers have clearly credited their audiences with a modicum of intelligence, unlike most modern blockbusters which spend $150m on special effects, but about $1.50 on a screenplay.<br /><br />Cheers\"\n",
      "Round-trip:  i have loved this movie all of my life its such an [UNK] story also with plenty of [UNK] [UNK] [UNK] the [UNK] that went missing [UNK] earlier was called the [UNK] well in [UNK] [UNK] this was the man who [UNK] the [UNK] a [UNK] [UNK] [UNK] of two or more other [UNK] in [UNK] [UNK] [UNK] is clearly the [UNK] himself and his id monster br br i like movies where the writers have clearly [UNK] their [UNK] with a [UNK] of [UNK] unlike most modern [UNK] which [UNK] [UNK] on special effects but about [UNK] on a [UNK] br [UNK]                                                                                                                                                                                                                                                                                                                                                                                                                                                                                                                                                                                                                                                                                                                                                            \n",
      "\n"
     ]
    }
   ],
   "source": [
    "for n in range(3):\n",
    "  print(\"Original: \", example[n].numpy())\n",
    "  print(\"Round-trip: \", \" \".join(vocab[encoded_example[n]]))\n",
    "  print()"
   ]
  },
  {
   "cell_type": "markdown",
   "metadata": {},
   "source": [
    "**Buat Model**\n",
    "\n",
    "[What do you see? NOTHING IN HERE!!!](https://github.com/tensorflow/text/blob/master/docs/tutorials/images/bidirectional.png?raw=1)\n",
    "\n",
    "diagram model dapat dilihat pada gambar diatas (uhh, wat diagram? nvm, i can click the link)\n",
    "\n",
    "- Model ini dapat dibuat sebagai tf.keras.Sequential.\n",
    "- Lapisan pertama adalah encoder, yang mengubah teks menjadi urutan indeks token. \n",
    "- Setelah encoder adalah lapisan penyematan (embedding layer). Lapisan penyematan menyimpan satu vektor per kata. Saat dipanggil, ini mengubah rangkaian indeks kata menjadi rangkaian vektor. Vektor-vektor ini dapat dilatih. Setelah pelatihan (dengan data yang cukup), kata-kata dengan arti yang mirip sering kali memiliki vektor yang serupa. Pencarian indeks ini jauh lebih efisien daripada operasi setara dengan meneruskan vektor yang disandikan one-hot melalui lapisan tf.keras.layers.Dense. \n",
    "- Jaringan saraf berulang (RNN) memproses masukan urutan dengan melakukan iterasi melalui elemen. RNN meneruskan keluaran dari satu langkah waktu ke masukannya pada langkah waktu berikutnya. \n",
    "Pembungkus tf.keras.layers.Bidirection juga dapat digunakan dengan lapisan RNN. Ini menyebarkan masukan maju dan mundur melalui lapisan RNN dan kemudian menggabungkan keluaran akhir. \n",
    "- Keuntungan utama RNN dua arah adalah sinyal dari awal masukan tidak perlu diproses sepanjang waktu untuk memengaruhi keluaran. \n",
    "- Kerugian utama dari RNN dua arah adalah Anda tidak dapat melakukan streaming prediksi secara efisien saat kata-kata ditambahkan di akhir. \n",
    "Setelah RNN mengonversi urutan menjadi satu vektor, kedua lapisan tersebut.Dense melakukan beberapa pemrosesan akhir, dan mengonversi representasi vektor ini menjadi logit tunggal sebagai keluaran klasifikasi.\n",
    "\n",
    "Kode nya adalah sebagai berikut :"
   ]
  },
  {
   "cell_type": "code",
   "execution_count": 10,
   "metadata": {},
   "outputs": [],
   "source": [
    "model = tf.keras.Sequential([\n",
    "    encoder,\n",
    "    tf.keras.layers.Embedding(\n",
    "        input_dim=len(encoder.get_vocabulary()),\n",
    "        output_dim=64,\n",
    "        # Use masking to handle the variable sequence lengths\n",
    "        mask_zero=True),\n",
    "    tf.keras.layers.Bidirectional(tf.keras.layers.LSTM(64)),\n",
    "    tf.keras.layers.Dense(64, activation='relu'),\n",
    "    tf.keras.layers.Dense(1)\n",
    "])"
   ]
  },
  {
   "cell_type": "markdown",
   "metadata": {},
   "source": [
    "Harap dicatat bahwa model sekuensial Keras digunakan di sini karena semua lapisan dalam model hanya memiliki masukan tunggal dan menghasilkan keluaran tunggal. Jika Anda ingin menggunakan lapisan RNN stateful, Anda mungkin ingin membangun model Anda dengan API fungsional Keras atau subkelas model sehingga Anda dapat mengambil dan menggunakan kembali status lapisan RNN. Untuk detailnya bisa dilihat pada [Keras RNN guide.](https://www.tensorflow.org/guide/keras/rnn#rnn_state_reuse) \n",
    "\n",
    "Lapisan penyematan menggunakan masking ([uses masking](https://www.tensorflow.org/guide/keras/masking_and_padding)) untuk menangani panjang urutan yang bervariasi. Semua lapisan setelah penyematan dukungan penyematan "
   ]
  },
  {
   "cell_type": "code",
   "execution_count": 11,
   "metadata": {},
   "outputs": [
    {
     "name": "stdout",
     "output_type": "stream",
     "text": [
      "[False, True, True, True, True]\n"
     ]
    }
   ],
   "source": [
    "# delete and re-space lol\n",
    "print([layer.supports_masking for layer in model.layers])"
   ]
  },
  {
   "cell_type": "markdown",
   "metadata": {},
   "source": [
    "Untuk memastikan bahwa ini berfungsi seperti yang diharapkan, evaluasi sebuah kalimat dua kali. Pertama, satu kalimat sehingga tidak ada bantalan (padding) untuk disamarkan:"
   ]
  },
  {
   "cell_type": "code",
   "execution_count": 12,
   "metadata": {},
   "outputs": [
    {
     "name": "stdout",
     "output_type": "stream",
     "text": [
      "1/1 [==============================] - 3s 3s/step\n",
      "[-0.00598457]\n"
     ]
    }
   ],
   "source": [
    "# predict on a sample text without padding.\n",
    "\n",
    "sample_text = ('The movie was cool. The animation and the graphics '\n",
    "               'were out of this world. I would recommend this movie.')\n",
    "predictions = model.predict(np.array([sample_text]))\n",
    "print(predictions[0])"
   ]
  },
  {
   "cell_type": "markdown",
   "metadata": {},
   "source": [
    "Sekarang, evaluasi lagi dalam batch dengan kalimat yang lebih panjang. Hasilnya harus sama:"
   ]
  },
  {
   "cell_type": "code",
   "execution_count": 13,
   "metadata": {},
   "outputs": [
    {
     "name": "stdout",
     "output_type": "stream",
     "text": [
      "1/1 [==============================] - 0s 288ms/step\n",
      "[-0.00598457]\n"
     ]
    }
   ],
   "source": [
    "# predict on a sample text with padding\n",
    "\n",
    "padding = \"the \" * 2000\n",
    "predictions = model.predict(np.array([sample_text, padding]))\n",
    "print(predictions[0])"
   ]
  },
  {
   "cell_type": "markdown",
   "metadata": {},
   "source": [
    "compile model Keras untuk mengonfigurasi proses pelatihan:"
   ]
  },
  {
   "cell_type": "code",
   "execution_count": 14,
   "metadata": {},
   "outputs": [],
   "source": [
    "model.compile(loss=tf.keras.losses.BinaryCrossentropy(from_logits=True),\n",
    "              optimizer=tf.keras.optimizers.Adam(1e-4),\n",
    "              metrics=['accuracy'])"
   ]
  },
  {
   "cell_type": "markdown",
   "metadata": {},
   "source": [
    "**Train Model**"
   ]
  },
  {
   "cell_type": "code",
   "execution_count": 17,
   "metadata": {},
   "outputs": [
    {
     "name": "stdout",
     "output_type": "stream",
     "text": [
      "Epoch 1/10\n"
     ]
    },
    {
     "name": "stdout",
     "output_type": "stream",
     "text": [
      "391/391 [==============================] - 894s 2s/step - loss: 0.4094 - accuracy: 0.8050 - val_loss: 0.3788 - val_accuracy: 0.8240\n",
      "Epoch 2/10\n",
      "391/391 [==============================] - 922s 2s/step - loss: 0.3505 - accuracy: 0.8414 - val_loss: 0.3515 - val_accuracy: 0.8318\n",
      "Epoch 3/10\n",
      "391/391 [==============================] - 947s 2s/step - loss: 0.3300 - accuracy: 0.8529 - val_loss: 0.3356 - val_accuracy: 0.8521\n",
      "Epoch 4/10\n",
      "391/391 [==============================] - 937s 2s/step - loss: 0.3199 - accuracy: 0.8594 - val_loss: 0.3262 - val_accuracy: 0.8562\n",
      "Epoch 5/10\n",
      "391/391 [==============================] - 909s 2s/step - loss: 0.3127 - accuracy: 0.8640 - val_loss: 0.3304 - val_accuracy: 0.8609\n",
      "Epoch 6/10\n",
      "391/391 [==============================] - 1156s 3s/step - loss: 0.3099 - accuracy: 0.8653 - val_loss: 0.3279 - val_accuracy: 0.8547\n",
      "Epoch 7/10\n",
      "391/391 [==============================] - 1114s 3s/step - loss: 0.3058 - accuracy: 0.8675 - val_loss: 0.3453 - val_accuracy: 0.8286\n",
      "Epoch 8/10\n",
      "391/391 [==============================] - 1189s 3s/step - loss: 0.3049 - accuracy: 0.8676 - val_loss: 0.3214 - val_accuracy: 0.8583\n",
      "Epoch 9/10\n",
      "391/391 [==============================] - 1139s 3s/step - loss: 0.3038 - accuracy: 0.8701 - val_loss: 0.3210 - val_accuracy: 0.8526\n",
      "Epoch 10/10\n",
      "391/391 [==============================] - 1017s 3s/step - loss: 0.3004 - accuracy: 0.8704 - val_loss: 0.3240 - val_accuracy: 0.8547\n"
     ]
    }
   ],
   "source": [
    "# lazy on space? do tab\n",
    "history = model.fit(train_dataset, epochs=10,\n",
    "                    validation_data=test_dataset,\n",
    "                    validation_steps=30)\n",
    "# this probably take 2 hours or less to get it done, make it 2 epochs"
   ]
  },
  {
   "cell_type": "code",
   "execution_count": 18,
   "metadata": {},
   "outputs": [
    {
     "name": "stdout",
     "output_type": "stream",
     "text": [
      "391/391 [==============================] - 117s 299ms/step - loss: 0.3223 - accuracy: 0.8618\n",
      "Test Loss: 0.322266548871994\n",
      "Test Accuracy: 0.8618000149726868\n"
     ]
    }
   ],
   "source": [
    "test_loss, test_acc = model.evaluate(test_dataset)\n",
    "\n",
    "print('Test Loss:', test_loss)\n",
    "print('Test Accuracy:', test_acc)"
   ]
  },
  {
   "cell_type": "code",
   "execution_count": 19,
   "metadata": {},
   "outputs": [
    {
     "data": {
      "text/plain": [
       "(0.0, 0.4148492306470871)"
      ]
     },
     "execution_count": 19,
     "metadata": {},
     "output_type": "execute_result"
    },
    {
     "data": {
      "image/png": "[encoded data removed]",
      "text/plain": [
       "<Figure size 1600x800 with 2 Axes>"
      ]
     },
     "metadata": {},
     "output_type": "display_data"
    }
   ],
   "source": [
    "plt.figure(figsize=(16, 8))\n",
    "plt.subplot(1, 2, 1)\n",
    "plot_graphs(history, 'accuracy')\n",
    "plt.ylim(None, 1)\n",
    "plt.subplot(1, 2, 2)\n",
    "plot_graphs(history, 'loss')\n",
    "plt.ylim(0, None)"
   ]
  },
  {
   "cell_type": "markdown",
   "metadata": {},
   "source": [
    "Jalankan prediksi pada kalimat baru:\n",
    "Jika prediksi >= 0,0 berarti positif, jika tidak maka negatif."
   ]
  },
  {
   "cell_type": "code",
   "execution_count": 20,
   "metadata": {},
   "outputs": [
    {
     "name": "stdout",
     "output_type": "stream",
     "text": [
      "1/1 [==============================] - 3s 3s/step\n"
     ]
    }
   ],
   "source": [
    "sample_text = ('The movie was cool. The animation and the graphics '\n",
    "                'were out of this world. I would recommend this movie.')\n",
    "predictions = model.predict(np.array([sample_text]))"
   ]
  },
  {
   "cell_type": "markdown",
   "metadata": {},
   "source": [
    "**Stack two or more LSTM layers**\n",
    "\n",
    "Lapisan berulang Keras memiliki dua mode yang tersedia yang dikontrol oleh argumen konstruktor return_sequences :\n",
    "\n",
    "- Jika False, ia hanya mengembalikan keluaran terakhir untuk setiap urutan masukan (bentuk tensor 2D (batch_size, output_features)). Ini adalah default yang digunakan pada model sebelumnya. \n",
    "- Jika True, Sequence lengkap output berturut-turut untuk setiap langkah waktu dikembalikan (bentuk tensor 3D (ukuran_batch, langkah waktu, fitur_output)).\n",
    "\n",
    "Berikut adalah alur informasi dengan return_sequences=True:\n",
    "\n",
    "[Where's the pic? WHO KNOWS???](https://www.tensorflow.org/static/text/tutorials/images/layered_bidirectional.png)\n",
    "\n",
    "Hal yang menarik dari penggunaan RNN dengan return_sequences=True adalah outputnya masih memiliki 3 axis, sama seperti inputnya, sehingga bisa diteruskan ke layer RNN lain, seperti ini:"
   ]
  },
  {
   "cell_type": "code",
   "execution_count": 21,
   "metadata": {},
   "outputs": [],
   "source": [
    "model = tf.keras.Sequential([\n",
    "    encoder,\n",
    "    tf.keras.layers.Embedding(len(encoder.get_vocabulary()), 64, mask_zero=True),\n",
    "    tf.keras.layers.Bidirectional(tf.keras.layers.LSTM(64, return_sequences=True)),\n",
    "    tf.keras.layers.Bidirectional(tf.keras.layers.LSTM(32)),\n",
    "    tf.keras.layers.Dense(64, activation='relu'),\n",
    "    tf.keras.layers.Dropout(0.5),\n",
    "    tf.keras.layers.Dense(1)\n",
    "])"
   ]
  },
  {
   "cell_type": "code",
   "execution_count": 22,
   "metadata": {},
   "outputs": [],
   "source": [
    "model.compile(loss=tf.keras.losses.BinaryCrossentropy(from_logits=True),\n",
    "                optimizer=tf.keras.optimizers.Adam(1e-4),\n",
    "                metrics=['accuracy'])"
   ]
  },
  {
   "cell_type": "code",
   "execution_count": 23,
   "metadata": {},
   "outputs": [
    {
     "name": "stdout",
     "output_type": "stream",
     "text": [
      "391/391 [==============================] - 280s 688ms/step - loss: 0.6932 - accuracy: 0.5000\n",
      "Test Loss: 0.6931793093681335\n",
      "Test Accuracy: 0.5\n"
     ]
    }
   ],
   "source": [
    "test_loss, test_acc = model.evaluate(test_dataset)\n",
    "\n",
    "print('Test Loss:', test_loss)\n",
    "print('Test Accuracy:', test_acc)"
   ]
  },
  {
   "cell_type": "code",
   "execution_count": 24,
   "metadata": {},
   "outputs": [
    {
     "name": "stdout",
     "output_type": "stream",
     "text": [
      "1/1 [==============================] - 7s 7s/step\n",
      "[[0.00014493]]\n"
     ]
    }
   ],
   "source": [
    "# predict on a sample text without padding.\n",
    "\n",
    "sample_text = ('The movie was not good. The animation and the graphics '\n",
    "                'were terrible. I would not recommend this movie.')\n",
    "predictions = model.predict(np.array([sample_text]))\n",
    "print(predictions)"
   ]
  },
  {
   "cell_type": "code",
   "execution_count": 25,
   "metadata": {},
   "outputs": [
    {
     "data": {
      "image/png": "[encoded data removed]",
      "text/plain": [
       "<Figure size 1600x600 with 2 Axes>"
      ]
     },
     "metadata": {},
     "output_type": "display_data"
    }
   ],
   "source": [
    "plt.figure(figsize=(16, 6))\n",
    "plt.subplot(1, 2, 1)\n",
    "plot_graphs(history, 'accuracy')\n",
    "plt.subplot(1, 2, 2)\n",
    "plot_graphs(history, 'loss')"
   ]
  },
  {
   "cell_type": "markdown",
   "metadata": {},
   "source": [
    "**Catatan**\n",
    "\n",
    "Informasi menarik lain terkait dengan [GRU layers.](https://www.tensorflow.org/api_docs/python/tf/keras/layers/GRU)\n",
    "Informasi membuat custom RNN --> [Keras RNN Guide.](https://www.tensorflow.org/guide/keras/rnn)"
   ]
  },
  {
   "cell_type": "markdown",
   "metadata": {},
   "source": [
    "# Praktikum 2\n",
    "\n",
    "**Generator Teks dengan RNN**\n",
    "\n",
    "Praktikum ini mendemonstrasikan cara melakukan genearsi text menggunakan RNN. Dataset yang digunkan adalah dataset Shakespeare's writing from Andrej Karpathy's [The Unreasonable Effectiveness of Recurrent Neural Networks](http://karpathy.github.io/2015/05/21/rnn-effectiveness/). Jika diberikan urutan karakter dari data ini (\"Shakespear\"), latih model untuk memprediksi karakter berikutnya dalam urutan (\"e\"). Urutan teks yang lebih panjang dapat dihasilkan dengan memanggil model berulang kali.\n",
    "Note: Enable GPU acceleration to execute this notebook faster. In Colab: Runtime > Change runtime type > Hardware accelerator > GPU.\n",
    "Tutorial ini menggunakan tf.keras dan eager execution. Berikut adalah contoh output ketika model dalam tutorial ini dilatih selama 30 epoch, dan dimulai dengan prompt \"Q\":"
   ]
  },
  {
   "cell_type": "code",
   "execution_count": null,
   "metadata": {},
   "outputs": [],
   "source": [
    "# bro, it just sentences, ofc they don't work\n",
    "\n",
    "QUEENE:\n",
    "I had thought thou hadst a Roman; for the oracle,\n",
    "Thus by All bids the man against the word,\n",
    "Which are so weak of care, by old care done;\n",
    "Your children were in your holy love,\n",
    "And the precipitation through the bleeding throne.\n",
    "\n",
    "BISHOP OF ELY:\n",
    "Marry, and will, my lord, to weep in such a one were prettiest;\n",
    "Yet now I was adopted heir\n",
    "Of the world's lamentable day,\n",
    "To watch the next way with his father with his face?\n",
    "\n",
    "ESCALUS:\n",
    "The cause why then we are all resolved more sons.\n",
    "\n",
    "VOLUMNIA:\n",
    "O, no, no, no, no, no, no, no, no, no, no, no, no, no, no, no, no, no, no, no, no, it is no sin it should be dead,\n",
    "And love and pale as any will to that word.\n",
    "\n",
    "QUEEN ELIZABETH:\n",
    "But how long have I heard the soul for this world,\n",
    "And show his hands of life be proved to stand.\n",
    "\n",
    "PETRUCHIO:\n",
    "I say he look'd on, if I must be content\n",
    "To stay him from the fatal of our country's bliss.\n",
    "His lordship pluck'd from this sentence then for prey,\n",
    "And then let us twain, being the moon,\n",
    "were she such a case as fills m"
   ]
  },
  {
   "cell_type": "markdown",
   "metadata": {},
   "source": [
    "Meskipun beberapa kalimat memiliki tata bahasa, sebagian besar tidak masuk akal. Model belum mempelajari arti kata-kata, namun anggap saja: \n",
    "\n",
    "- Modelnya berbasis karakter. Saat pelatihan dimulai, model tidak mengetahui cara mengeja kata dalam bahasa Inggris, atau bahkan kata-kata tersebut merupakan satuan teks. \n",
    "- Struktur keluarannya menyerupai sandiwara—blok teks umumnya dimulai dengan nama pembicara, dengan huruf kapital semua mirip dengan kumpulan data. \n",
    "- Seperti yang ditunjukkan di bawah, model dilatih pada kumpulan teks kecil (masing-masing 100 karakter), dan masih mampu menghasilkan rangkaian teks yang lebih panjang dengan struktur yang koheren.\n",
    "\n",
    "**Setup**"
   ]
  },
  {
   "cell_type": "code",
   "execution_count": 26,
   "metadata": {},
   "outputs": [],
   "source": [
    "import tensorflow as tf\n",
    "import numpy as np\n",
    "import os\n",
    "import time"
   ]
  },
  {
   "cell_type": "markdown",
   "metadata": {},
   "source": [
    "Download Dataset Shakespeare\n",
    "Sesuaikan dengan lokasi data yang Anda punya."
   ]
  },
  {
   "cell_type": "code",
   "execution_count": 27,
   "metadata": {},
   "outputs": [
    {
     "name": "stdout",
     "output_type": "stream",
     "text": [
      "Downloading data from https://storage.googleapis.com/download.tensorflow.org/data/shakespeare.txt\n",
      "1115394/1115394 [==============================] - 1s 1us/step\n"
     ]
    }
   ],
   "source": [
    "path_to_file = tf.keras.utils.get_file('shakespeare.txt', 'https://storage.googleapis.com/download.tensorflow.org/data/shakespeare.txt') # mengunduh file text"
   ]
  },
  {
   "cell_type": "markdown",
   "metadata": {},
   "source": [
    "**Load Data**"
   ]
  },
  {
   "cell_type": "code",
   "execution_count": 28,
   "metadata": {},
   "outputs": [
    {
     "name": "stdout",
     "output_type": "stream",
     "text": [
      "Length of text: 1115394 characters\n"
     ]
    }
   ],
   "source": [
    "# Read, then decode for py2 compat.\n",
    "text = open(path_to_file, 'rb').read().decode(encoding='utf-8')\n",
    "# length of text is the number of characters in it\n",
    "print(f'Length of text: {len(text)} characters')"
   ]
  },
  {
   "cell_type": "code",
   "execution_count": 29,
   "metadata": {},
   "outputs": [
    {
     "name": "stdout",
     "output_type": "stream",
     "text": [
      "First Citizen:\n",
      "Before we proceed any further, hear me speak.\n",
      "\n",
      "All:\n",
      "Speak, speak.\n",
      "\n",
      "First Citizen:\n",
      "You are all resolved rather to die than to famish?\n",
      "\n",
      "All:\n",
      "Resolved. resolved.\n",
      "\n",
      "First Citizen:\n",
      "First, you know Caius Marcius is chief enemy to the people.\n",
      "\n"
     ]
    }
   ],
   "source": [
    "# Take a look at the first 250 characters in text\n",
    "print(text[:250])"
   ]
  },
  {
   "cell_type": "code",
   "execution_count": 30,
   "metadata": {},
   "outputs": [
    {
     "name": "stdout",
     "output_type": "stream",
     "text": [
      "65 unique characters\n"
     ]
    }
   ],
   "source": [
    "# The unique characters in the file\n",
    "vocab = sorted(set(text))\n",
    "print(f'{len(vocab)} unique characters')"
   ]
  },
  {
   "cell_type": "markdown",
   "metadata": {},
   "source": [
    "**Olah Teks**\n",
    "\n",
    "Vectorize Teks\n",
    "Sebelum training, Anda perlu mengonversi string menjadi representasi numerik. tf.keras.layers.StringLookup dapat mengubah setiap karakter menjadi ID numerik. Caranya adalah teks akan dipecah menjadi token terlebih dahulu."
   ]
  },
  {
   "cell_type": "code",
   "execution_count": 31,
   "metadata": {},
   "outputs": [
    {
     "data": {
      "text/plain": [
       "<tf.RaggedTensor [[b'a', b'b', b'c', b'd', b'e', b'f', b'g'], [b'x', b'y', b'z']]>"
      ]
     },
     "execution_count": 31,
     "metadata": {},
     "output_type": "execute_result"
    }
   ],
   "source": [
    "example_texts = ['abcdefg', 'xyz']\n",
    "chars = tf.strings.unicode_split(example_texts, input_encoding='UTF-8')\n",
    "chars"
   ]
  },
  {
   "cell_type": "markdown",
   "metadata": {},
   "source": [
    "sekarang buat tf.keras.layers.StringLookup layer:"
   ]
  },
  {
   "cell_type": "code",
   "execution_count": 32,
   "metadata": {},
   "outputs": [],
   "source": [
    "ids_from_chars = tf.keras.layers.StringLookup(vocabulary=list(vocab), mask_token=None)"
   ]
  },
  {
   "cell_type": "markdown",
   "metadata": {},
   "source": [
    "perintah diatas mengconvert token menjadi id"
   ]
  },
  {
   "cell_type": "code",
   "execution_count": 33,
   "metadata": {},
   "outputs": [
    {
     "data": {
      "text/plain": [
       "<tf.RaggedTensor [[40, 41, 42, 43, 44, 45, 46], [63, 64, 65]]>"
      ]
     },
     "execution_count": 33,
     "metadata": {},
     "output_type": "execute_result"
    }
   ],
   "source": [
    "ids = ids_from_chars(chars)\n",
    "ids"
   ]
  },
  {
   "cell_type": "markdown",
   "metadata": {},
   "source": [
    "Karena tujuan tutorial ini adalah untuk menghasilkan teks, penting juga untuk membalikkan representasi ini. Untuk ini Anda dapat menggunakan kode tf.keras.layers.StringLookup(..., invert=True).\n",
    "Catatan: pada kode ini, daripada meneruskan kosakata asli yang dihasilkan dengan diurutkan(set(teks)) gunakan metode get_vocabulary() dari tf.keras.layers.StringLookup sehingga token [UNK] disetel dengan cara yang sama."
   ]
  },
  {
   "cell_type": "code",
   "execution_count": 34,
   "metadata": {},
   "outputs": [],
   "source": [
    "chars_from_ids = tf.keras.layers.StringLookup(\n",
    "    vocabulary=ids_from_chars.get_vocabulary(), invert=True, mask_token=None)"
   ]
  },
  {
   "cell_type": "markdown",
   "metadata": {},
   "source": [
    "Lapisan ini mengconvert kembali karakter dari vektor ID, dan mengembalikannya sebagai karakter tf.RaggedTensor:"
   ]
  },
  {
   "cell_type": "code",
   "execution_count": 35,
   "metadata": {},
   "outputs": [
    {
     "data": {
      "text/plain": [
       "<tf.RaggedTensor [[b'a', b'b', b'c', b'd', b'e', b'f', b'g'], [b'x', b'y', b'z']]>"
      ]
     },
     "execution_count": 35,
     "metadata": {},
     "output_type": "execute_result"
    }
   ],
   "source": [
    "chars = chars_from_ids(ids)\n",
    "chars"
   ]
  },
  {
   "cell_type": "markdown",
   "metadata": {},
   "source": [
    "Anda dapat menggunakan tf.strings.reduce_join untuk menggabungkan kembali karakter menjadi string."
   ]
  },
  {
   "cell_type": "code",
   "execution_count": 36,
   "metadata": {},
   "outputs": [
    {
     "data": {
      "text/plain": [
       "array([b'abcdefg', b'xyz'], dtype=object)"
      ]
     },
     "execution_count": 36,
     "metadata": {},
     "output_type": "execute_result"
    }
   ],
   "source": [
    "tf.strings.reduce_join(chars, axis=-1).numpy()"
   ]
  },
  {
   "cell_type": "code",
   "execution_count": 37,
   "metadata": {},
   "outputs": [],
   "source": [
    "def text_from_ids(ids):\n",
    "    return tf.strings.reduce_join(chars_from_ids(ids), axis=-1)"
   ]
  },
  {
   "cell_type": "markdown",
   "metadata": {},
   "source": [
    "**Prediksi**\n",
    "\n",
    "Diberikan sebuah karakter, atau serangkaian karakter, karakter apa yang paling mungkin berikutnya? Ini adalah tugas yang harus Anda latih agar model dapat melakukannya. Masukan ke model akan berupa urutan karakter, dan Anda melatih model untuk memprediksi keluaran berupa karakter berikut pada setiap langkah waktu. Karena RNN mempertahankan keadaan internal yang bergantung pada elemen yang terlihat sebelumnya, mengingat semua karakter dihitung hingga saat ini, karakter apa selanjutnya?\n",
    "\n",
    "\n",
    "Membuat Trianing Set dan Target\n",
    "\n",
    "Selanjutnya bagilah teks menjadi contoh sequence. Setiap masukan sequence akan berisi karakter seq_length dari teks. Untuk setiap masukan sequence, target prediksi berisi teks dengan panjang yang sama, hanya digeser satu karakter ke kanan. Jadi, bagi teks menjadi beberapa bagian seq_length+1. Misalnya, seq_length adalah 4 dan teks kita adalah \"Hello\". Urutan masukannya adalah \"Hell\", dan urutan targetnya adalah \"ello\". Untuk melakukan ini, pertama-tama gunakan fungsi tf.data.Dataset.from_tensor_slices untuk mengonversi vektor teks menjadi aliran indeks karakter."
   ]
  },
  {
   "cell_type": "code",
   "execution_count": 38,
   "metadata": {},
   "outputs": [
    {
     "data": {
      "text/plain": [
       "<tf.Tensor: shape=(1115394,), dtype=int64, numpy=array([19, 48, 57, ..., 46,  9,  1], dtype=int64)>"
      ]
     },
     "execution_count": 38,
     "metadata": {},
     "output_type": "execute_result"
    }
   ],
   "source": [
    "all_ids = ids_from_chars(tf.strings.unicode_split(text, 'UTF-8'))\n",
    "all_ids"
   ]
  },
  {
   "cell_type": "code",
   "execution_count": 39,
   "metadata": {},
   "outputs": [],
   "source": [
    "ids_dataset = tf.data.Dataset.from_tensor_slices(all_ids)"
   ]
  },
  {
   "cell_type": "code",
   "execution_count": 40,
   "metadata": {},
   "outputs": [
    {
     "name": "stdout",
     "output_type": "stream",
     "text": [
      "F\n",
      "i\n",
      "r\n",
      "s\n",
      "t\n",
      " \n",
      "C\n",
      "i\n",
      "t\n",
      "i\n"
     ]
    }
   ],
   "source": [
    "for ids in ids_dataset.take(10):\n",
    "    print(chars_from_ids(ids).numpy().decode('utf-8'))"
   ]
  },
  {
   "cell_type": "code",
   "execution_count": 41,
   "metadata": {},
   "outputs": [],
   "source": [
    "seq_length = 100"
   ]
  },
  {
   "cell_type": "markdown",
   "metadata": {},
   "source": [
    "Metode batch memungkinkan Anda dengan mudah mengonversi karakter individual ini menjadi urutan ukuran yang diinginkan."
   ]
  },
  {
   "cell_type": "code",
   "execution_count": 42,
   "metadata": {},
   "outputs": [
    {
     "name": "stdout",
     "output_type": "stream",
     "text": [
      "tf.Tensor(\n",
      "[b'F' b'i' b'r' b's' b't' b' ' b'C' b'i' b't' b'i' b'z' b'e' b'n' b':'\n",
      " b'\\n' b'B' b'e' b'f' b'o' b'r' b'e' b' ' b'w' b'e' b' ' b'p' b'r' b'o'\n",
      " b'c' b'e' b'e' b'd' b' ' b'a' b'n' b'y' b' ' b'f' b'u' b'r' b't' b'h'\n",
      " b'e' b'r' b',' b' ' b'h' b'e' b'a' b'r' b' ' b'm' b'e' b' ' b's' b'p'\n",
      " b'e' b'a' b'k' b'.' b'\\n' b'\\n' b'A' b'l' b'l' b':' b'\\n' b'S' b'p' b'e'\n",
      " b'a' b'k' b',' b' ' b's' b'p' b'e' b'a' b'k' b'.' b'\\n' b'\\n' b'F' b'i'\n",
      " b'r' b's' b't' b' ' b'C' b'i' b't' b'i' b'z' b'e' b'n' b':' b'\\n' b'Y'\n",
      " b'o' b'u' b' '], shape=(101,), dtype=string)\n"
     ]
    }
   ],
   "source": [
    "sequences = ids_dataset.batch(seq_length+1, drop_remainder=True)\n",
    "\n",
    "for seq in sequences.take(1):\n",
    "  print(chars_from_ids(seq))"
   ]
  },
  {
   "cell_type": "markdown",
   "metadata": {},
   "source": [
    "akan lebih mudah untuk melihat apa yang dilakukan jika Anda menggabungkan token kembali menjadi string:"
   ]
  },
  {
   "cell_type": "code",
   "execution_count": 43,
   "metadata": {},
   "outputs": [
    {
     "name": "stdout",
     "output_type": "stream",
     "text": [
      "b'First Citizen:\\nBefore we proceed any further, hear me speak.\\n\\nAll:\\nSpeak, speak.\\n\\nFirst Citizen:\\nYou '\n",
      "b'are all resolved rather to die than to famish?\\n\\nAll:\\nResolved. resolved.\\n\\nFirst Citizen:\\nFirst, you k'\n",
      "b\"now Caius Marcius is chief enemy to the people.\\n\\nAll:\\nWe know't, we know't.\\n\\nFirst Citizen:\\nLet us ki\"\n",
      "b\"ll him, and we'll have corn at our own price.\\nIs't a verdict?\\n\\nAll:\\nNo more talking on't; let it be d\"\n",
      "b'one: away, away!\\n\\nSecond Citizen:\\nOne word, good citizens.\\n\\nFirst Citizen:\\nWe are accounted poor citi'\n"
     ]
    }
   ],
   "source": [
    "for seq in sequences.take(5):\n",
    "    print(text_from_ids(seq).numpy())"
   ]
  },
  {
   "cell_type": "markdown",
   "metadata": {},
   "source": [
    "Untuk pelatihan, Anda memerlukan kumpulan data pasangan (input, label). Dimana input dan label merupakan urutan. Pada setiap langkah waktu, inputnya adalah karakter saat ini dan labelnya adalah karakter berikutnya. Berikut adalah fungsi yang mengambil urutan sebagai masukan, menduplikasi, dan menggesernya untuk menyelaraskan masukan dan label untuk setiap langkah waktu:"
   ]
  },
  {
   "cell_type": "code",
   "execution_count": 44,
   "metadata": {},
   "outputs": [],
   "source": [
    "def split_input_target(sequence):   \n",
    "    input_text = sequence[:-1]\n",
    "    target_text = sequence[1:]\n",
    "    return input_text, target_text"
   ]
  },
  {
   "cell_type": "code",
   "execution_count": 45,
   "metadata": {},
   "outputs": [
    {
     "data": {
      "text/plain": [
       "(['T', 'e', 'n', 's', 'o', 'r', 'f', 'l', 'o'],\n",
       " ['e', 'n', 's', 'o', 'r', 'f', 'l', 'o', 'w'])"
      ]
     },
     "execution_count": 45,
     "metadata": {},
     "output_type": "execute_result"
    }
   ],
   "source": [
    "split_input_target(list(\"Tensorflow\"))"
   ]
  },
  {
   "cell_type": "code",
   "execution_count": 46,
   "metadata": {},
   "outputs": [],
   "source": [
    "dataset = sequences.map(split_input_target)"
   ]
  },
  {
   "cell_type": "code",
   "execution_count": 47,
   "metadata": {},
   "outputs": [
    {
     "name": "stdout",
     "output_type": "stream",
     "text": [
      "Input : b'First Citizen:\\nBefore we proceed any further, hear me speak.\\n\\nAll:\\nSpeak, speak.\\n\\nFirst Citizen:\\nYou'\n",
      "Target: b'irst Citizen:\\nBefore we proceed any further, hear me speak.\\n\\nAll:\\nSpeak, speak.\\n\\nFirst Citizen:\\nYou '\n"
     ]
    }
   ],
   "source": [
    "for input_example, target_example in dataset.take(1):\n",
    "    print(\"Input :\", text_from_ids(input_example).numpy())\n",
    "    print(\"Target:\", text_from_ids(target_example).numpy())"
   ]
  },
  {
   "cell_type": "markdown",
   "metadata": {},
   "source": [
    "Membuat Batch Training\n",
    "\n",
    "Anda menggunakan tf.data untuk membagi teks menjadi sequence yang dapat diatur. Namun sebelum memasukkan data ini ke dalam model, Anda perlu mengacak data dan mengemasnya ke dalam batch."
   ]
  },
  {
   "cell_type": "code",
   "execution_count": 48,
   "metadata": {},
   "outputs": [
    {
     "data": {
      "text/plain": [
       "<_PrefetchDataset element_spec=(TensorSpec(shape=(64, 100), dtype=tf.int64, name=None), TensorSpec(shape=(64, 100), dtype=tf.int64, name=None))>"
      ]
     },
     "execution_count": 48,
     "metadata": {},
     "output_type": "execute_result"
    }
   ],
   "source": [
    "# Batch size\n",
    "BATCH_SIZE = 64\n",
    "\n",
    "# Buffer size to shuffle the dataset\n",
    "# (TF data is designed to work with possibly infinite sequences,\n",
    "# so it doesn't attempt to shuffle the entire sequence in memory. Instead,\n",
    "# it maintains a buffer in which it shuffles elements).\n",
    "BUFFER_SIZE = 10000\n",
    "\n",
    "dataset = (\n",
    "    dataset\n",
    "    .shuffle(BUFFER_SIZE)\n",
    "    .batch(BATCH_SIZE, drop_remainder=True)\n",
    "    .prefetch(tf.data.experimental.AUTOTUNE))\n",
    "\n",
    "dataset"
   ]
  },
  {
   "cell_type": "markdown",
   "metadata": {},
   "source": [
    "**Buat Model**\n",
    "\n",
    "Bagian ini mendefinisikan model sebagai subkelas keras.Model (untuk lebih detilnya, lihat [Making new Layers and Models via subclassing](https://www.tensorflow.org/guide/keras/custom_layers_and_models)).\n",
    "\n",
    "Model yang kita bangun memiliki 3 lapisan neural network :\n",
    "\n",
    "- tf.keras.layers.Embedding: Lapisan masukan. Tabel pencarian yang dapat dilatih yang akan memetakan setiap karakter-ID ke vektor dengan dimensi embedding_dim; \n",
    "- tf.keras.layers.GRU: lapisan RNN dengan ukuran unit=rnn_units (Anda juga dapat menggunakan lapisan LSTM di sini.) \n",
    "- tf.keras.layers.Dense: Lapisan keluaran, dengan keluaran vocab_size. Ini menghasilkan satu logit untuk setiap karakter dalam kosakata. Ini adalah log kemungkinan setiap karakter menurut model."
   ]
  },
  {
   "cell_type": "code",
   "execution_count": 49,
   "metadata": {},
   "outputs": [],
   "source": [
    "# Length of the vocabulary in StringLookup Layer\n",
    "vocab_size = len(ids_from_chars.get_vocabulary())\n",
    "\n",
    "# The embedding dimension\n",
    "embedding_dim = 256\n",
    "\n",
    "# Number of RNN units\n",
    "rnn_units = 1024"
   ]
  },
  {
   "cell_type": "code",
   "execution_count": 50,
   "metadata": {},
   "outputs": [],
   "source": [
    "class MyModel(tf.keras.Model):\n",
    "  def __init__(self, vocab_size, embedding_dim, rnn_units):\n",
    "    super().__init__(self)\n",
    "    self.embedding = tf.keras.layers.Embedding(vocab_size, embedding_dim)\n",
    "    self.gru = tf.keras.layers.GRU(rnn_units,\n",
    "                                   return_sequences=True,\n",
    "                                   return_state=True)\n",
    "    self.dense = tf.keras.layers.Dense(vocab_size)\n",
    "\n",
    "  def call(self, inputs, states=None, return_state=False, training=False):\n",
    "    x = inputs\n",
    "    x = self.embedding(x, training=training)\n",
    "    if states is None:\n",
    "      states = self.gru.get_initial_state(x)\n",
    "    x, states = self.gru(x, initial_state=states, training=training)\n",
    "    x = self.dense(x, training=training)\n",
    "\n",
    "    if return_state:\n",
    "      return x, states\n",
    "    else:\n",
    "      return x"
   ]
  },
  {
   "cell_type": "code",
   "execution_count": 51,
   "metadata": {},
   "outputs": [],
   "source": [
    "model = MyModel(\n",
    "    vocab_size=vocab_size,\n",
    "    embedding_dim=embedding_dim,\n",
    "    rnn_units=rnn_units)"
   ]
  },
  {
   "cell_type": "markdown",
   "metadata": {},
   "source": [
    "Untuk setiap karakter, model mencari penyematan, menjalankan GRU satu langkah waktu dengan penyematan sebagai masukan, dan menerapkan dense layer untuk menghasilkan log yang memprediksi kemungkinan log karakter berikutnya:\n",
    "\n",
    "[Why do i put link instead of pic? because i'm brave and determined](https://github.com/tensorflow/text/blob/master/docs/tutorials/images/text_generation_training.png?raw=1)\n",
    "\n",
    "Note: Untuk pelatihan Anda bisa menggunakan model keras.Sequential di sini. Untuk menghasilkan teks nanti, Anda harus mengelola status internal RNN. Akan lebih mudah untuk memasukkan opsi input dan output status di awal, daripada mengatur ulang arsitektur model nanti. untuk detailnya bisa dilihat [Keras RNN guide](https://www.tensorflow.org/guide/keras/rnn#rnn_state_reuse).\n",
    "\n",
    "\n"
   ]
  },
  {
   "cell_type": "markdown",
   "metadata": {},
   "source": [
    "**Uji Model**\n",
    "\n",
    "Coba jalankan model dan cek apakah sidah sesuai dengan output\n",
    "pertama, cek bentuk dari output"
   ]
  },
  {
   "cell_type": "code",
   "execution_count": 52,
   "metadata": {},
   "outputs": [
    {
     "name": "stdout",
     "output_type": "stream",
     "text": [
      "(64, 100, 66) # (batch_size, sequence_length, vocab_size)\n"
     ]
    }
   ],
   "source": [
    "for input_example_batch, target_example_batch in dataset.take(1):\n",
    "    example_batch_predictions = model(input_example_batch)\n",
    "    print(example_batch_predictions.shape, \"# (batch_size, sequence_length, vocab_size)\")"
   ]
  },
  {
   "cell_type": "markdown",
   "metadata": {},
   "source": [
    "Dalam contoh di atas, panjang urutan masukan adalah 100 tetapi model dapat dijalankan pada masukan dengan panjang berapa pun:"
   ]
  },
  {
   "cell_type": "code",
   "execution_count": 53,
   "metadata": {},
   "outputs": [
    {
     "name": "stdout",
     "output_type": "stream",
     "text": [
      "Model: \"my_model\"\n",
      "_________________________________________________________________\n",
      " Layer (type)                Output Shape              Param #   \n",
      "=================================================================\n",
      " embedding_2 (Embedding)     multiple                  16896     \n",
      "                                                                 \n",
      " gru (GRU)                   multiple                  3938304   \n",
      "                                                                 \n",
      " dense_4 (Dense)             multiple                  67650     \n",
      "                                                                 \n",
      "=================================================================\n",
      "Total params: 4022850 (15.35 MB)\n",
      "Trainable params: 4022850 (15.35 MB)\n",
      "Non-trainable params: 0 (0.00 Byte)\n",
      "_________________________________________________________________\n"
     ]
    }
   ],
   "source": [
    "model.summary()"
   ]
  },
  {
   "cell_type": "markdown",
   "metadata": {},
   "source": [
    "Untuk mendapatkan prediksi aktual dari model, Anda perlu mengambil sampel dari distribusi keluaran, untuk mendapatkan indeks karakter aktual. Distribusi ini ditentukan oleh logit pada kosakata karakter. Catatan: Penting untuk mengambil sampel dari distribusi ini karena mengambil argmax dari distribusi tersebut dapat dengan mudah membuat model terjebak dalam infinote loop. Cobalah untuk contoh pertama di batch:"
   ]
  },
  {
   "cell_type": "code",
   "execution_count": 54,
   "metadata": {},
   "outputs": [],
   "source": [
    "sampled_indices = tf.random.categorical(example_batch_predictions[0], num_samples=1)\n",
    "sampled_indices = tf.squeeze(sampled_indices, axis=-1).numpy()"
   ]
  },
  {
   "cell_type": "markdown",
   "metadata": {},
   "source": [
    "Hal ini memberi kita, pada setiap langkah waktu, prediksi indeks karakter berikutnya:"
   ]
  },
  {
   "cell_type": "code",
   "execution_count": 55,
   "metadata": {},
   "outputs": [
    {
     "data": {
      "text/plain": [
       "array([38,  6, 11, 58, 29,  7, 64, 16, 64, 23,  1,  1, 26, 44, 61, 14, 13,\n",
       "        3, 55, 10, 16, 32, 48, 20, 17, 14, 55,  8, 38, 59,  8, 61, 38, 27,\n",
       "       48, 63, 29,  5, 59,  8, 33, 28,  9, 50,  7, 30, 43, 19, 24, 22, 27,\n",
       "       25,  4, 17, 50, 17,  2, 15, 49, 27, 59, 32, 23, 49, 57, 48,  9, 21,\n",
       "       52, 43, 10, 36, 58, 50,  1,  9, 19,  5, 60, 22, 24,  3, 21,  6, 59,\n",
       "       43, 23, 65, 50, 29, 37, 59,  5, 44, 26, 51,  6, 56, 56, 12],\n",
       "      dtype=int64)"
      ]
     },
     "execution_count": 55,
     "metadata": {},
     "output_type": "execute_result"
    }
   ],
   "source": [
    "sampled_indices"
   ]
  },
  {
   "cell_type": "markdown",
   "metadata": {},
   "source": [
    "Dekode kode berikut untuk melihat teks yang diprediksi oleh model tidak terlatih ini"
   ]
  },
  {
   "cell_type": "code",
   "execution_count": 56,
   "metadata": {},
   "outputs": [
    {
     "name": "stdout",
     "output_type": "stream",
     "text": [
      "Input:\n",
      " b'tter\\nTo make William Lord Hastings of our mind,\\nFor the instalment of this noble duke\\nIn the seat ro'\n",
      "\n",
      "Next Char Predictions:\n",
      " b\"Y':sP,yCyJ\\n\\nMevA?!p3CSiGDAp-Yt-vYNixP&t-TO.k,QdFKINL$DkD BjNtSJjri.Hmd3Wsk\\n.F&uIK!H'tdJzkPXt&eMl'qq;\"\n"
     ]
    }
   ],
   "source": [
    "print(\"Input:\\n\", text_from_ids(input_example_batch[0]).numpy())\n",
    "print()\n",
    "print(\"Next Char Predictions:\\n\", text_from_ids(sampled_indices).numpy())"
   ]
  },
  {
   "cell_type": "markdown",
   "metadata": {},
   "source": [
    "**Train Model**\n",
    "\n",
    "Pada titik ini permasalahan dapat dianggap sebagai permasalahan klasifikasi standar. Permasalahan dapat disimpulkan dengan : Berdasarkan status RNN sebelumnya, dan masukan langkah kali ini, prediksi kelas karakter berikutnya.\n",
    "Tambahan optimizer dan fungsi loss\n",
    "\n",
    "loss function tf.keras.losses.sparse_categorical_crossentropy standar berfungsi dalam kasus ini karena diterapkan di seluruh dimensi terakhir prediksi. Karena model Anda mengembalikan logits, Anda perlu mengatur flag from_logits."
   ]
  },
  {
   "cell_type": "code",
   "execution_count": 57,
   "metadata": {},
   "outputs": [],
   "source": [
    "loss = tf.losses.SparseCategoricalCrossentropy(from_logits=True)"
   ]
  },
  {
   "cell_type": "code",
   "execution_count": 58,
   "metadata": {},
   "outputs": [
    {
     "name": "stdout",
     "output_type": "stream",
     "text": [
      "Prediction shape:  (64, 100, 66)  # (batch_size, sequence_length, vocab_size)\n",
      "Mean loss:         tf.Tensor(4.1884313, shape=(), dtype=float32)\n"
     ]
    }
   ],
   "source": [
    "example_batch_mean_loss = loss(target_example_batch, example_batch_predictions)\n",
    "print(\"Prediction shape: \", example_batch_predictions.shape, \" # (batch_size, sequence_length, vocab_size)\")\n",
    "print(\"Mean loss:        \", example_batch_mean_loss)"
   ]
  },
  {
   "cell_type": "markdown",
   "metadata": {},
   "source": [
    "Model yang baru diinisialisasi tidak boleh terlalu yakin dengan dirinya sendiri, semua log keluaran harus memiliki besaran yang sama. Untuk mengonfirmasi hal ini, Anda dapat memeriksa bahwa eksponensial dari loss rata-rata harus kira-kira sama dengan ukuran kosakata. Loss yang jauh lebih tinggi berarti model tersebut yakin akan jawaban yang salah, dan memiliki inisialisasi yang buruk:"
   ]
  },
  {
   "cell_type": "code",
   "execution_count": 59,
   "metadata": {},
   "outputs": [
    {
     "data": {
      "text/plain": [
       "65.9193"
      ]
     },
     "execution_count": 59,
     "metadata": {},
     "output_type": "execute_result"
    }
   ],
   "source": [
    "tf.exp(example_batch_mean_loss).numpy()"
   ]
  },
  {
   "cell_type": "markdown",
   "metadata": {},
   "source": [
    "Konfigurasikan prosedur pelatihan menggunakan metode tf.keras.Model.compile. Gunakan tf.keras.optimizers.Adam dengan argumen default dan fungsi loss."
   ]
  },
  {
   "cell_type": "code",
   "execution_count": 60,
   "metadata": {},
   "outputs": [],
   "source": [
    "model.compile(optimizer='adam', loss=loss)"
   ]
  },
  {
   "cell_type": "markdown",
   "metadata": {},
   "source": [
    "Konfigurasi Checkpoints\n",
    "\n",
    "Gunakan tf.keras.callbacks.ModelCheckpoint untuk memastikan bahwa checkpoint disimpan selama pelatihan:"
   ]
  },
  {
   "cell_type": "code",
   "execution_count": 61,
   "metadata": {},
   "outputs": [],
   "source": [
    "# Directory where the checkpoints will be saved\n",
    "checkpoint_dir = './training_checkpoints'\n",
    "# Name of the checkpoint files\n",
    "checkpoint_prefix = os.path.join(checkpoint_dir, \"ckpt_{epoch}\")\n",
    "\n",
    "checkpoint_callback = tf.keras.callbacks.ModelCheckpoint(\n",
    "    filepath=checkpoint_prefix,\n",
    "    save_weights_only=True)"
   ]
  },
  {
   "cell_type": "markdown",
   "metadata": {},
   "source": [
    "Lakukan Proses Training\n",
    "\n",
    "Agar waktu pelatihan tidak terlalu lama, gunakan 10 epoch untuk melatih model. Di Colab, setel runtime ke GPU untuk pelatihan yang lebih cepat."
   ]
  },
  {
   "cell_type": "code",
   "execution_count": 67,
   "metadata": {},
   "outputs": [],
   "source": [
    "EPOCHS = 1"
   ]
  },
  {
   "cell_type": "code",
   "execution_count": 68,
   "metadata": {},
   "outputs": [
    {
     "name": "stdout",
     "output_type": "stream",
     "text": [
      "172/172 [==============================] - 452s 3s/step - loss: 2.5145\n"
     ]
    }
   ],
   "source": [
    "history = model.fit(dataset, epochs=EPOCHS, callbacks=[checkpoint_callback])"
   ]
  },
  {
   "cell_type": "markdown",
   "metadata": {},
   "source": [
    "**Generate Teks**\n",
    "\n",
    "Cara termudah untuk menghasilkan teks dengan model ini adalah dengan menjalankannya dalam loop, dan menyimpan status internal model saat Anda menjalankannya.\n",
    "\n",
    "[Tommy, what do you see? NOTHING!!](https://github.com/tensorflow/text/blob/master/docs/tutorials/images/text_generation_sampling.png?raw=1)\n",
    "\n",
    "Setiap kali Anda memanggil model, Anda memasukkan beberapa teks dan state internal. Model mengembalikan prediksi untuk karakter berikutnya dan state barunya. Masukkan kembali prediksi dan state ke model untuk terus menghasilkan teks.\n",
    "\n",
    "Berikut ini membuat prediksi satu langkah:"
   ]
  },
  {
   "cell_type": "code",
   "execution_count": 71,
   "metadata": {},
   "outputs": [],
   "source": [
    "class OneStep(tf.keras.Model):\n",
    "  def __init__(self, model, chars_from_ids, ids_from_chars, temperature=1.0):\n",
    "    super().__init__()\n",
    "    self.temperature = temperature\n",
    "    self.model = model\n",
    "    self.chars_from_ids = chars_from_ids\n",
    "    self.ids_from_chars = ids_from_chars\n",
    "\n",
    "    # Create a mask to prevent \"[UNK]\" from being generated.\n",
    "    skip_ids = self.ids_from_chars(['[UNK]'])[:, None]\n",
    "    sparse_mask = tf.SparseTensor(\n",
    "        # Put a -inf at each bad index.\n",
    "        values=[-float('inf')]*len(skip_ids),\n",
    "        indices=skip_ids,\n",
    "        # Match the shape to the vocabulary\n",
    "        dense_shape=[len(ids_from_chars.get_vocabulary())])\n",
    "    self.prediction_mask = tf.sparse.to_dense(sparse_mask)\n",
    "\n",
    "  @tf.function\n",
    "  def generate_one_step(self, inputs, states=None):\n",
    "    # Convert strings to token IDs.\n",
    "    input_chars = tf.strings.unicode_split(inputs, 'UTF-8')\n",
    "    input_ids = self.ids_from_chars(input_chars).to_tensor()\n",
    "\n",
    "    # Run the model.\n",
    "    # predicted_logits.shape is [batch, char, next_char_logits]\n",
    "    predicted_logits, states = self.model(inputs=input_ids, states=states,\n",
    "                                          return_state=True)\n",
    "    # Only use the last prediction.\n",
    "    predicted_logits = predicted_logits[:, -1, :]\n",
    "    predicted_logits = predicted_logits/self.temperature\n",
    "    # Apply the prediction mask: prevent \"[UNK]\" from being generated.\n",
    "    predicted_logits = predicted_logits + self.prediction_mask\n",
    "\n",
    "    # Sample the output logits to generate token IDs.\n",
    "    predicted_ids = tf.random.categorical(predicted_logits, num_samples=1)\n",
    "    predicted_ids = tf.squeeze(predicted_ids, axis=-1)\n",
    "\n",
    "    # Convert from token ids to characters\n",
    "    predicted_chars = self.chars_from_ids(predicted_ids)\n",
    "\n",
    "    # Return the characters and model state.\n",
    "    return predicted_chars, states"
   ]
  },
  {
   "cell_type": "code",
   "execution_count": 72,
   "metadata": {},
   "outputs": [],
   "source": [
    "one_step_model = OneStep(model, chars_from_ids, ids_from_chars)"
   ]
  },
  {
   "cell_type": "markdown",
   "metadata": {},
   "source": [
    "Jalankan secara berulang untuk menghasilkan beberapa teks. Melihat teks yang dihasilkan, Anda akan melihat model mengetahui kapan harus menggunakan huruf besar, membuat paragraf, dan meniru kosakata menulis seperti Shakespeare. Karena sedikitnya jumlah epoch pelatihan, model belum belajar membentuk kalimat runtut."
   ]
  },
  {
   "cell_type": "code",
   "execution_count": 73,
   "metadata": {},
   "outputs": [
    {
     "name": "stdout",
     "output_type": "stream",
     "text": [
      "ROMEO:\n",
      "For as theult th'cled wyoo fasich my sole not to pefongt?\n",
      "\n",
      "GLI ERIRI VIWA RHETE:\n",
      "My, thould! Gockis: ano nonk son shecerring;\n",
      "Kof the al conk this.\n",
      "\n",
      "CIPEETD:\n",
      "And he dio ker f laccint you withat.\n",
      "\n",
      "KIO:\n",
      "I, ou lenigo, my my leve thame rigaik.\n",
      "Gok Fors mowrir uper aby.?\n",
      "\n",
      "LARIO:\n",
      "Rour jot anf acpading wo tok you un tone hag the stowh ay l bandobn mundean\n",
      "I may, hy you hing ant mlyorere nithde\n",
      "now and gate\n",
      "Aht wow must se her me,\n",
      "Th a surst:\n",
      "Are love;\n",
      "I'd he qunead;\n",
      "you, for, tomuray metarset.\n",
      "Sow the oach that hac! I you th exet mabkeen, it wiching. An$wery\n",
      "fort cazenou,\n",
      "Ford se hfuriey to her, co shome Ceacy.\n",
      "Thend that how rowese aste,,\n",
      "Tick at the paith'se: hy than,\n",
      "Whan thou? hongs,\n",
      "Thou corepe, isu, leary!\n",
      "\n",
      "BPokKA VENT CERINCLO:\n",
      "O parens to gest mure aw farn,\n",
      "And rware'd Weich of the wor Hatht hash than ouerd.\n",
      "Thave if shave sond eed andes; soye o baimend.\n",
      "\n",
      "PIAND CIOO ESET:\n",
      "Prend; wort'tire, bems thie mear.\n",
      "\n",
      "POFTE,, I ald ta mesiw, I woum wher deer shick kt meneve them srece rgreiger.\n",
      " \n",
      "\n",
      "________________________________________________________________________________\n",
      "\n",
      "Run time: 4.021389961242676\n"
     ]
    }
   ],
   "source": [
    "start = time.time()\n",
    "states = None\n",
    "next_char = tf.constant(['ROMEO:'])\n",
    "result = [next_char]\n",
    "\n",
    "for n in range(1000):\n",
    "  next_char, states = one_step_model.generate_one_step(next_char, states=states)\n",
    "  result.append(next_char)\n",
    "\n",
    "result = tf.strings.join(result)\n",
    "end = time.time()\n",
    "print(result[0].numpy().decode('utf-8'), '\\n\\n' + '_'*80)\n",
    "print('\\nRun time:', end - start)"
   ]
  },
  {
   "cell_type": "markdown",
   "metadata": {},
   "source": [
    "Hal termudah yang dapat Anda lakukan untuk meningkatkan hasil adalah dengan melatihnya lebih lama (coba EPOCHS = 30). Anda juga dapat bereksperimen dengan string awal yang berbeda, mencoba menambahkan lapisan RNN lain untuk meningkatkan akurasi model, atau menyesuaikan parameter suhu untuk menghasilkan prediksi yang kurang lebih acak.\n",
    "\n",
    "Jika Anda ingin model menghasilkan teks lebih cepat, hal termudah yang dapat Anda lakukan adalah membuat teks secara batch. Pada contoh di bawah, model menghasilkan 5 keluaran dalam waktu yang hampir sama dengan waktu yang dibutuhkan untuk menghasilkan 1 keluaran di atas."
   ]
  },
  {
   "cell_type": "code",
   "execution_count": 74,
   "metadata": {},
   "outputs": [
    {
     "name": "stdout",
     "output_type": "stream",
     "text": [
      "tf.Tensor(\n",
      "[b\"ROMEO: my peten' thea hist nond thay\\nFallld.\\n\\nAn dor I der melm.\\nMay the guco ave your tust\\nTord, yo hack mund ce cellouy and sto', I troul have ghien hed you theiks\\nBow, mend told kid to lap.\\n\\nBLIOND:\\nMake ford alv reothing:\\nAn Lithing chourbut aichark;\\nAnd to ronve, ands ofo! \\nhingay dond?\\n\\nDUATILT:\\nA yo'k I\\nHendestinn. I rive mne isster and now-st sill ur fangeding sawing;\\nAnt elf digh tham and-Winge nod thes javsee, souechens an thisvenst our freet an tor'tingedeng, re kingen bo, whit, in atw ivay that A sunfy shigartent th thet Ius gom herledd rete, ste some, Ove, sheell live wist ceacke wey therciod to parceoursize\\nThen ntades. \\nFroven: the comido,, or coot thain the-pante, ank hedse's of pearit\\ndiest ders'ss,\\nGour jamy roveo Thand mat.\\n\\nLard woll whandein I: you,,\\nAnd sith win, mens he mirest.\\n\\nK ALIO:\\nHa ke harde digone; outs, on utr your!\\n\\nALIS:\\nNor s atw nourny I doum Cor. Jros! Lith math bringr. 'bloud\\nAnd at notl or thouly as se mos.\\n\\nFpermeec, wor pornou, coves.\\n\\nSEMKI HET:\\nHow \"\n",
      " b\"ROMEO:\\nI live stile, whid, anded whand, pranid we hen hith within staer-wars\\nArtron bes my thould me wartarle thel benonsend reade; int\\nMy cbeathen-\\nBedss thour mare fear nont be or cerntinieaghers:\\nArd cRead!\\nInt mo hould in wichco lons too gackougl,\\nFrusld'd da birgenther?\\n\\nJFLAMD:\\nOw lake thes thy Least no bent gordunt you siththe.\\nSit, Io h on, mend spangiseire for,\\nOre torend seelt\\nAnd Viunt!\\nTh thaut dasg thll wede,\\nThe koshs for the grecinomant--bly\\nTh thy gomy my the wared,\\nMy kand fwathelo,\\nY, e all, wot thay:\\nOf usteren an shis\\nO'l raake,\\nToy E'd perpiont winent ie thond ous fowno fo marstongarforeads ruth ato ond, becd un werlise,\\nWe tingise sam mer, my's en dutisint Matntist tars\\nMeligne niscin\\nE'd me simagn an'mand abene s hotr,\\nWo him us fore the thasis,\\nis sold te toply mfaks't lavere,\\nWhiscens to ma, giver aut son:\\nHed offoke dighiu. Coure tredingew,\\nMpon spaingery,\\nHave thu came prime ers iod gaict Axtlim sweis aswy shot ow hinga. 'wllathans ders.\\n\\nLUTTI ERHARD:\\nAras, May, t\"\n",
      " b\"ROMEO:\\nTha bur yourhe stae thevo of nod fimy mensid\\nThus yove r$ay\\nAveer-dith riswurgher have,\\nHever haw say the forparke\\n:ey you bo teondout tharon, but't suce caobintt,\\nCest nom nom yourd po-e meart for shaid brourtays-nge vithther.\\n\\nCaldI:\\nThere; so hang ofnow hald th srayt\\nNot noust futh wing! somnen,\\nAs h butd nombency meth hat ha led's tay sour them's, wo dyouf youll: thas ad fist nes im of houst: de goner' lat to:\\nButikn way beden tious to is, fime Laik wiot\\nMy\\nIa dure nune, stin toures wing end ither,\\nqut it should ltome con's thaveser beendmno fay gora itf kermers the mead dond woud wertay bes noth the methall.\\n\\nAUKI\\nCHES:\\nThow wildink, beve is ky to shere.\\n\\nGrrENY Muks Ip thieg, tou't' on bathen to he:\\nAh satce gall shess howe'it ou mine,\\nHur ie ducher benak dunbstowe suy in sellave ate. 'ftur\\nAld Home,\\nFor will you'd sing of thy WeNacltons as tound.\\n\\nPikpsis, istc? -win:\\nThom cood\\nAs me im, not, and dousd and the thien'd! and note, Jut, the homy ou tisus. Bustins\\nYour thes apest:\\n\"\n",
      " b\"ROMEO:\\nWhen as if ther mino richent misf thiut, I any ftorke hemk, ichaint?\\n\\nQENENUS:\\nOw and you beancedice asery.-\\nHIOZONAS:\\nThee: aviles come'st war's thount sharde,, wild the deack, the pirinca?\\n\\nhrus my usse;\\nWhy thisce'd we urs meed hit ard-vesw toulis be nousthe wie I cullourbey.\\n\\nAxd ullingenbon for pujonth sabld and Yoursthe,\\n\\nBimee,\\nThit h will hath for holld.\\n\\nKO BERFECO:\\nThe kin glatkry muwe gavers se, my thee thougw you and fioves hear watle t eet broun ty sis letver\\nIf uons se mad ant sougr me I protre dowe a'll toe matbote.\\n\\nEUN\\nMENTER:\\nWhow wlin wiy tha nobenole stienessad, sell anjot mand. I\\nSo me tortr love inours, and same may\\nLorma.\\nOus,\\nHesst-ere!--D kere,\\nYar youn sane, whet mepetarthon art wath t to\\nFur foll im her, sty aick!\\nThow beath gom\\nEfw as wed hise ga thele maitn soithans masth horen in puly eint rus twe greme how out\\nWirou is mave swas'de youncent.\\n\\nSFIY Y Evace now whald therd utent spatenour your and eow with them sond htofo, your fome,\\nRomis bnoule that\\nwor \"\n",
      " b\"ROMEO:\\n'st sind stiend hetourt'd\\nYou my countel-\\nWit your hersthou thee,\\nFryot hast wadero? tie wing, I wielnede!\\nFard of nouy, bust avered'rd's ghor winths, fes bfomas herk'ed theveven my lachingsso the lowe ion ult the tomerd.\\n\\nJAPEW:\\nMar my thea roveen,\\nnors. luth the sook:\\nIsw cold hon sitg , thes becol os Buteaved my tha gardith dod ist ar faid the sperpessom, sie wrich aw wikh treestune mally ghoug; Nous andee, thet om mus\\nWitt sak the kxe, Mond rot my spalduelones,\\n\\nMant you, I myous treis nithel;\\nFot you tour rtathith\\nFris now hut mur.\\n\\nLINOLY IO SANRII:\\nFrlu comome! old fet\\nTame inono ste ming tho s, poost.\\n\\nShORD:\\nI'd wingilm?\\n\\nof shas: I siond, wherl, to buttull you daks on, ir anes iad cound.\\n\\nWhin, I and aprou in ont reane a mull th that. Whelithur hive of whe'l to day if\\nIr ave four horst?\\nThat or vell, ass doy, su pee ceme, had mo sulats dood sharm,\\nFfourh wnor, I wald what ghis noe sastest an it sounstef-y usporanters bust dile warlind'\\nbe!\\nAnl my foud humed\\nAd thens cote oun\"], shape=(5,), dtype=string) \n",
      "\n",
      "________________________________________________________________________________\n",
      "\n",
      "Run time: 4.198525667190552\n"
     ]
    }
   ],
   "source": [
    "start = time.time()\n",
    "states = None\n",
    "next_char = tf.constant(['ROMEO:', 'ROMEO:', 'ROMEO:', 'ROMEO:', 'ROMEO:'])\n",
    "result = [next_char]\n",
    "\n",
    "for n in range(1000):\n",
    "  next_char, states = one_step_model.generate_one_step(next_char, states=states)\n",
    "  result.append(next_char)\n",
    "\n",
    "result = tf.strings.join(result)\n",
    "end = time.time()\n",
    "print(result, '\\n\\n' + '_'*80)\n",
    "print('\\nRun time:', end - start)"
   ]
  },
  {
   "cell_type": "markdown",
   "metadata": {},
   "source": [
    "**Ekspor Model Generator**\n",
    "\n",
    "Model satu langkah ini dapat dengan mudah disimpan dan digunakan kembali, memungkinkan Anda menggunakannya di mana pun tf.saved_model diterima."
   ]
  },
  {
   "cell_type": "code",
   "execution_count": 75,
   "metadata": {},
   "outputs": [
    {
     "name": "stdout",
     "output_type": "stream",
     "text": [
      "WARNING:tensorflow:Skipping full serialization of Keras layer <__main__.OneStep object at 0x000001E40FDB3CD0>, because it is not built.\n"
     ]
    },
    {
     "name": "stderr",
     "output_type": "stream",
     "text": [
      "WARNING:tensorflow:Skipping full serialization of Keras layer <__main__.OneStep object at 0x000001E40FDB3CD0>, because it is not built.\n"
     ]
    },
    {
     "name": "stdout",
     "output_type": "stream",
     "text": [
      "WARNING:tensorflow:Model's `__init__()` arguments contain non-serializable objects. Please implement a `get_config()` method in the subclassed Model for proper saving and loading. Defaulting to empty config.\n"
     ]
    },
    {
     "name": "stderr",
     "output_type": "stream",
     "text": [
      "WARNING:tensorflow:Model's `__init__()` arguments contain non-serializable objects. Please implement a `get_config()` method in the subclassed Model for proper saving and loading. Defaulting to empty config.\n"
     ]
    },
    {
     "name": "stdout",
     "output_type": "stream",
     "text": [
      "WARNING:tensorflow:Model's `__init__()` arguments contain non-serializable objects. Please implement a `get_config()` method in the subclassed Model for proper saving and loading. Defaulting to empty config.\n"
     ]
    },
    {
     "name": "stderr",
     "output_type": "stream",
     "text": [
      "WARNING:tensorflow:Model's `__init__()` arguments contain non-serializable objects. Please implement a `get_config()` method in the subclassed Model for proper saving and loading. Defaulting to empty config.\n"
     ]
    },
    {
     "name": "stdout",
     "output_type": "stream",
     "text": [
      "INFO:tensorflow:Assets written to: one_step\\assets\n"
     ]
    },
    {
     "name": "stderr",
     "output_type": "stream",
     "text": [
      "INFO:tensorflow:Assets written to: one_step\\assets\n"
     ]
    }
   ],
   "source": [
    "tf.saved_model.save(one_step_model, 'one_step')\n",
    "one_step_reloaded = tf.saved_model.load('one_step')"
   ]
  },
  {
   "cell_type": "code",
   "execution_count": 76,
   "metadata": {},
   "outputs": [
    {
     "name": "stdout",
     "output_type": "stream",
     "text": [
      "ROMEO:\n",
      "Whis me nount ptuter:\n",
      "I ho Kay she tike's, sold the too, ffoul I I hiralh the rored of on mour ulis\n"
     ]
    }
   ],
   "source": [
    "states = None\n",
    "next_char = tf.constant(['ROMEO:'])\n",
    "result = [next_char]\n",
    "\n",
    "for n in range(100):\n",
    "  next_char, states = one_step_reloaded.generate_one_step(next_char, states=states)\n",
    "  result.append(next_char)\n",
    "\n",
    "print(tf.strings.join(result)[0].numpy().decode(\"utf-8\"))"
   ]
  }
 ],
 "metadata": {
  "kernelspec": {
   "display_name": "base",
   "language": "python",
   "name": "python3"
  },
  "language_info": {
   "codemirror_mode": {
    "name": "ipython",
    "version": 3
   },
   "file_extension": ".py",
   "mimetype": "text/x-python",
   "name": "python",
   "nbconvert_exporter": "python",
   "pygments_lexer": "ipython3",
   "version": "3.11.4"
  },
  "orig_nbformat": 4
 },
 "nbformat": 4,
 "nbformat_minor": 2
}
