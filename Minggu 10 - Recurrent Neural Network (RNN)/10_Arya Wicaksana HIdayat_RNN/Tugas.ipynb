{
 "cells": [
  {
   "cell_type": "markdown",
   "metadata": {},
   "source": [
    "Tugas\n",
    "\n",
    "Prosedur pelatihan pada praktikum 2 merupakan prosedur sederhana, yang tidak memberi Anda banyak kendali. Model ini menggunakan \"teacher-forcing\" yang mencegah prediksi buruk diumpankan kembali ke model, sehingga model tidak pernah belajar untuk pulih dari kesalahan. Jadi, setelah Anda melihat cara menjalankan model secara manual, selanjutnya Anda akan mengimplementasikan custom loop pelatihan. Hal ini memberikan titik awal jika, misalnya, Anda ingin menerapkan pembelajaran kurikulum untuk membantu menstabilkan keluaran open-loop model. Bagian terpenting dari loop pelatihan khusus adalah fungsi langkah pelatihan.\n",
    "\n",
    "Gunakan [tf.GradientTape](https://www.tensorflow.org/api_docs/python/tf/GradientTape) untuk men track nilai gradient. Anda dapat mempelajari lebih lanjut tentang pendekatan ini dengan membaca [eager execution guide](https://www.tensorflow.org/guide/eager).\n",
    "\n",
    "Prosedurnya adalah \"\n",
    "\n",
    "- Jalankan Model dan hitung loss dengan [tf.GradientTape](https://www.tensorflow.org/api_docs/python/tf/GradientTape).\n",
    "- Hitung update dan terapkan pada model dengan optimizer"
   ]
  },
  {
   "cell_type": "code",
   "execution_count": null,
   "metadata": {},
   "outputs": [],
   "source": [
    "class CustomTraining(MyModel):\n",
    "  @tf.function\n",
    "  def train_step(self, inputs):\n",
    "    inputs, labels = inputs\n",
    "    with tf.GradientTape() as tape:\n",
    "        predictions = self(inputs, training=True)\n",
    "        loss = self.loss(labels, predictions)\n",
    "    grads = tape.gradient(loss, model.trainable_variables)\n",
    "    self.optimizer.apply_gradients(zip(grads, model.trainable_variables))\n",
    "    \n",
    "    return {'loss': loss}"
   ]
  },
  {
   "cell_type": "markdown",
   "metadata": {},
   "source": [
    "Kode diatas menerapkan train_step method sesuai dengan  [Keras' train_step conventions](https://www.tensorflow.org/guide/keras/customizing_what_happens_in_fit). Ini opsional, tetapi memungkinkan Anda mengubah perilaku langkah pelatihan dan tetap menggunakan keras [Model.compile](https://www.tensorflow.org/api_docs/python/tf/keras/Model#compile) and [Model.fit](https://www.tensorflow.org/api_docs/python/tf/keras/Model#fit) methods."
   ]
  },
  {
   "cell_type": "code",
   "execution_count": null,
   "metadata": {},
   "outputs": [],
   "source": [
    "model = CustomTraining(\n",
    "    vocab_size=len(ids_from_chars.get_vocabulary()),\n",
    "    embedding_dim=embedding_dim,\n",
    "    rnn_units=rnn_units)"
   ]
  },
  {
   "cell_type": "code",
   "execution_count": null,
   "metadata": {},
   "outputs": [],
   "source": [
    "model.compile(optimizer = tf.keras.optimizers.Adam(),\n",
    "                loss=tf.keras.losses.SparseCategoricalCrossentropy(from_logits=True))"
   ]
  },
  {
   "cell_type": "code",
   "execution_count": null,
   "metadata": {},
   "outputs": [],
   "source": [
    "model.fit(dataset, epochs=1)"
   ]
  },
  {
   "cell_type": "markdown",
   "metadata": {},
   "source": [
    "Atau jika ingin lebih mengetahui dalamnya, kita bisa membuat custom training loop sendiri:"
   ]
  },
  {
   "cell_type": "code",
   "execution_count": null,
   "metadata": {},
   "outputs": [],
   "source": [
    "EPOCHS = 10\n",
    "\n",
    "mean = tf.metrics.Mean()\n",
    "\n",
    "for epoch in range(EPOCHS):\n",
    "    start = time.time()\n",
    "\n",
    "    mean.reset_states()\n",
    "    for (batch_n, (inp, target)) in enumerate(dataset):\n",
    "        logs = model.train_step([inp, target])\n",
    "        mean.update_state(logs['loss'])\n",
    "\n",
    "        if batch_n % 50 == 0:\n",
    "            template = f\"Epoch {epoch+1} Batch {batch_n} Loss {logs['loss']:.4f}\"\n",
    "            print(template)\n",
    "\n",
    "    # saving (checkpoint) the model every 5 epochs\n",
    "    if (epoch + 1) % 5 == 0:\n",
    "        model.save_weights(checkpoint_prefix.format(epoch=epoch))\n",
    "\n",
    "    print()\n",
    "    print(f'Epoch {epoch+1} Loss: {mean.result().numpy():.4f}')\n",
    "    print(f'Time taken for 1 epoch {time.time() - start:.2f} sec')\n",
    "    print(\"_\"*80)\n",
    "\n",
    "model.save_weights(checkpoint_prefix.format(epoch=epoch))"
   ]
  },
  {
   "cell_type": "markdown",
   "metadata": {},
   "source": [
    "Jalankan kode diatas dan sebutkan perbedaanya dengan praktikum 2?\n",
    "\n",
    "**answer :**"
   ]
  },
  {
   "cell_type": "code",
   "execution_count": 2,
   "metadata": {},
   "outputs": [],
   "source": [
    "import numpy as np\n",
    "import tensorflow_datasets as tfds\n",
    "import tensorflow as tf\n",
    "\n",
    "tfds.disable_progress_bar()"
   ]
  },
  {
   "cell_type": "code",
   "execution_count": 3,
   "metadata": {},
   "outputs": [],
   "source": [
    "import matplotlib.pyplot as plt\n",
    "\n",
    "def plot_graphs(history, metric):\n",
    "  plt.plot(history.history[metric])\n",
    "  plt.plot(history.history['val_'+metric], '')\n",
    "  plt.xlabel(\"Epochs\")\n",
    "  plt.ylabel(metric)\n",
    "  plt.legend([metric, 'val_'+metric])"
   ]
  },
  {
   "cell_type": "code",
   "execution_count": 4,
   "metadata": {},
   "outputs": [
    {
     "data": {
      "text/plain": [
       "(TensorSpec(shape=(), dtype=tf.string, name=None),\n",
       " TensorSpec(shape=(), dtype=tf.int64, name=None))"
      ]
     },
     "execution_count": 4,
     "metadata": {},
     "output_type": "execute_result"
    }
   ],
   "source": [
    "dataset, info = tfds.load('imdb_reviews', with_info=True,\n",
    "                          as_supervised=True)\n",
    "train_dataset, test_dataset = dataset['train'], dataset['test']\n",
    "\n",
    "train_dataset.element_spec"
   ]
  },
  {
   "cell_type": "code",
   "execution_count": 5,
   "metadata": {},
   "outputs": [
    {
     "name": "stdout",
     "output_type": "stream",
     "text": [
      "text:  b\"This was an absolutely terrible movie. Don't be lured in by Christopher Walken or Michael Ironside. Both are great actors, but this must simply be their worst role in history. Even their great acting could not redeem this movie's ridiculous storyline. This movie is an early nineties US propaganda piece. The most pathetic scenes were those when the Columbian rebels were making their cases for revolutions. Maria Conchita Alonso appeared phony, and her pseudo-love affair with Walken was nothing but a pathetic emotional plug in a movie that was devoid of any real meaning. I am disappointed that there are movies like this, ruining actor's like Christopher Walken's good name. I could barely sit through it.\"\n",
      "label:  0\n"
     ]
    }
   ],
   "source": [
    "for example, label in train_dataset.take(1):\n",
    "  print('text: ', example.numpy())\n",
    "  print('label: ', label.numpy())"
   ]
  },
  {
   "cell_type": "code",
   "execution_count": 6,
   "metadata": {},
   "outputs": [
    {
     "name": "stdout",
     "output_type": "stream",
     "text": [
      "texts:  [b'I have been a fervent Hal Hartley supporter since I saw his short \"Surviving Desire\" in high school, and even then was still completely unmoored by his searingly brilliant \"Henry Fool.\" But this 10-year-later sequel is not only unnecessary, it\\'s disgraceful.<br /><br />After a choppy and expeditious start, \"Fay Grim\" devolves into pseudo-intellectualism, flat out boredom, and finally unwarranted - and unwanted - nihilism. And that\\'s just the plot.<br /><br />The majority of the new faces are as frivolous and poorly-developed as the movie: one particularly flat character ends up hogging half the time we spend with the infamous Henry Fool himself, and it\\'s his only spoken scene in the film!<br /><br />Jeff Goldblum\\'s Agent Fulbright, it seems, is the only bright character (a pun surely intended by Hartley as well). How, then, is he left? **SPOILER** Dead via a car bombing, easily making this the gentle-natured Hartley\\'s most violent film to date, and tonally all wrong in a film that\\'s already all wrong from the word go.<br /><br />As for the other new characters, Angus James, Ned Fool (or is it Grim?), not to mention Fay herself... well, I won\\'t spoil their fates, as the movie does a good enough job of that all on its own (when it isn\\'t busying itself with yet another godawful canted angle, which gives the disconcerting impression that Hartley is moving backwards from Auteur to crappy film student).<br /><br />This piece is a complete disaster, a dreadful mess that isn\\'t even good-humored enough to revel in its messiness. Instead it self-indulgently crams the typically fun hipster pretenses of its director into the \"real world\", one uglier and meaner than it need be but not nearly ugly or mean enough to come close to having anything to say. In doing so, Hartley tracks sh*t all over my memories of these people and the marvelous world he originally created for them.<br /><br />I have rarely been so depressed at the movies, and I\\'m counting \"Leaving Las Vegas,\" which at least developed fresh new characters we grew to love before destroying them, instead of immediately disregarding characters already beloved.<br /><br />Grim, indeed.'\n",
      " b\"My Tutor Friend is a well scripted romance comedy movie that has something similar to My Sassy Girl.. there's no kissing/sex scenes. Hollywood should learn more from Korean productions. Sex is not always required in a good romantic movie.<br /><br />The movie is of light hearted tone with occasional cartoon CG scenes blended into the movie. I like the part when Ji-Hoon almost kissed Su-Wan. The funniest moment is when Ji-Hoon punched Su-Wan's first love because he dumped Su-Wan for another girl and he is going to be a father soon. How he became a father was revealed in the next scene, which brings smiles to the audience.<br /><br />Mao points: 8/10\"\n",
      " b'Richard Willaims is an animation god. He was hampered in directing this film by the producer. The final product is a very uneven film with a very convoluted story, but some amazing moments of animation (like Emery Hawkins\\' \"Greedy\"). Joe Raposo\\'s repetitive music doesn\\'t help either. It was made in wide screen so the VHS doesn\\'t show it in all it\\'s glory, let\\'s hope for a letterboxed DVD someday. Still it\\'s worth watching for some eye popping animation.']\n",
      "\n",
      "labels:  [0 1 1]\n"
     ]
    }
   ],
   "source": [
    "BUFFER_SIZE = 10000\n",
    "BATCH_SIZE = 64\n",
    "\n",
    "train_dataset = train_dataset.shuffle(BUFFER_SIZE).batch(BATCH_SIZE).prefetch(tf.data.AUTOTUNE)\n",
    "test_dataset = test_dataset.batch(BATCH_SIZE).prefetch(tf.data.AUTOTUNE)\n",
    "\n",
    "for example, label in train_dataset.take(1):\n",
    "  print('texts: ', example.numpy()[:3])\n",
    "  print()\n",
    "  print('labels: ', label.numpy()[:3])"
   ]
  },
  {
   "cell_type": "code",
   "execution_count": 7,
   "metadata": {},
   "outputs": [],
   "source": [
    "VOCAB_SIZE = 1000\n",
    "encoder = tf.keras.layers.TextVectorization(\n",
    "    max_tokens=VOCAB_SIZE)\n",
    "encoder.adapt(train_dataset.map(lambda text, label: text))"
   ]
  },
  {
   "cell_type": "code",
   "execution_count": 8,
   "metadata": {},
   "outputs": [
    {
     "data": {
      "text/plain": [
       "array(['', '[UNK]', 'the', 'and', 'a', 'of', 'to', 'is', 'in', 'it', 'i',\n",
       "       'this', 'that', 'br', 'was', 'as', 'for', 'with', 'movie', 'but'],\n",
       "      dtype='<U14')"
      ]
     },
     "execution_count": 8,
     "metadata": {},
     "output_type": "execute_result"
    }
   ],
   "source": [
    "vocab = np.array(encoder.get_vocabulary())\n",
    "vocab[:20]"
   ]
  },
  {
   "cell_type": "code",
   "execution_count": 9,
   "metadata": {},
   "outputs": [
    {
     "data": {
      "text/plain": [
       "array([[ 10,  26,  75, ...,   0,   0,   0],\n",
       "       [ 56,   1, 465, ...,   0,   0,   0],\n",
       "       [724,   1,   7, ...,   0,   0,   0]], dtype=int64)"
      ]
     },
     "execution_count": 9,
     "metadata": {},
     "output_type": "execute_result"
    }
   ],
   "source": [
    "encoded_example = encoder(example)[:3].numpy()\n",
    "encoded_example"
   ]
  },
  {
   "cell_type": "code",
   "execution_count": 10,
   "metadata": {},
   "outputs": [
    {
     "name": "stdout",
     "output_type": "stream",
     "text": [
      "Original:  b'I have been a fervent Hal Hartley supporter since I saw his short \"Surviving Desire\" in high school, and even then was still completely unmoored by his searingly brilliant \"Henry Fool.\" But this 10-year-later sequel is not only unnecessary, it\\'s disgraceful.<br /><br />After a choppy and expeditious start, \"Fay Grim\" devolves into pseudo-intellectualism, flat out boredom, and finally unwarranted - and unwanted - nihilism. And that\\'s just the plot.<br /><br />The majority of the new faces are as frivolous and poorly-developed as the movie: one particularly flat character ends up hogging half the time we spend with the infamous Henry Fool himself, and it\\'s his only spoken scene in the film!<br /><br />Jeff Goldblum\\'s Agent Fulbright, it seems, is the only bright character (a pun surely intended by Hartley as well). How, then, is he left? **SPOILER** Dead via a car bombing, easily making this the gentle-natured Hartley\\'s most violent film to date, and tonally all wrong in a film that\\'s already all wrong from the word go.<br /><br />As for the other new characters, Angus James, Ned Fool (or is it Grim?), not to mention Fay herself... well, I won\\'t spoil their fates, as the movie does a good enough job of that all on its own (when it isn\\'t busying itself with yet another godawful canted angle, which gives the disconcerting impression that Hartley is moving backwards from Auteur to crappy film student).<br /><br />This piece is a complete disaster, a dreadful mess that isn\\'t even good-humored enough to revel in its messiness. Instead it self-indulgently crams the typically fun hipster pretenses of its director into the \"real world\", one uglier and meaner than it need be but not nearly ugly or mean enough to come close to having anything to say. In doing so, Hartley tracks sh*t all over my memories of these people and the marvelous world he originally created for them.<br /><br />I have rarely been so depressed at the movies, and I\\'m counting \"Leaving Las Vegas,\" which at least developed fresh new characters we grew to love before destroying them, instead of immediately disregarding characters already beloved.<br /><br />Grim, indeed.'\n",
      "Round-trip:  i have been a [UNK] [UNK] [UNK] [UNK] since i saw his short [UNK] [UNK] in high school and even then was still completely [UNK] by his [UNK] brilliant [UNK] [UNK] but this [UNK] sequel is not only [UNK] its [UNK] br after a [UNK] and [UNK] start [UNK] [UNK] [UNK] into [UNK] [UNK] out [UNK] and finally [UNK] and [UNK] [UNK] and thats just the [UNK] br the [UNK] of the new [UNK] are as [UNK] and [UNK] as the movie one particularly [UNK] character ends up [UNK] half the time we [UNK] with the [UNK] [UNK] [UNK] himself and its his only [UNK] scene in the filmbr br [UNK] [UNK] [UNK] [UNK] it seems is the only [UNK] character a [UNK] [UNK] [UNK] by [UNK] as well how then is he left [UNK] dead [UNK] a car [UNK] easily making this the [UNK] [UNK] most [UNK] film to [UNK] and [UNK] all wrong in a film thats already all wrong from the word [UNK] br as for the other new characters [UNK] james [UNK] [UNK] or is it [UNK] not to mention [UNK] herself well i wont [UNK] their [UNK] as the movie does a good enough job of that all on its own when it isnt [UNK] itself with yet another [UNK] [UNK] [UNK] which gives the [UNK] [UNK] that [UNK] is moving [UNK] from [UNK] to [UNK] film [UNK] br this piece is a complete [UNK] a [UNK] mess that isnt even [UNK] enough to [UNK] in its [UNK] instead it [UNK] [UNK] the [UNK] fun [UNK] [UNK] of its director into the real world one [UNK] and [UNK] than it need be but not nearly [UNK] or mean enough to come close to having anything to say in doing so [UNK] [UNK] [UNK] all over my [UNK] of these people and the [UNK] world he [UNK] [UNK] for [UNK] br i have [UNK] been so [UNK] at the movies and im [UNK] [UNK] [UNK] [UNK] which at least [UNK] [UNK] new characters we [UNK] to love before [UNK] them instead of [UNK] [UNK] characters already [UNK] br [UNK] indeed                                                                                                                                                                                                                                                                                                                                                                \n",
      "\n",
      "Original:  b\"My Tutor Friend is a well scripted romance comedy movie that has something similar to My Sassy Girl.. there's no kissing/sex scenes. Hollywood should learn more from Korean productions. Sex is not always required in a good romantic movie.<br /><br />The movie is of light hearted tone with occasional cartoon CG scenes blended into the movie. I like the part when Ji-Hoon almost kissed Su-Wan. The funniest moment is when Ji-Hoon punched Su-Wan's first love because he dumped Su-Wan for another girl and he is going to be a father soon. How he became a father was revealed in the next scene, which brings smiles to the audience.<br /><br />Mao points: 8/10\"\n",
      "Round-trip:  my [UNK] friend is a well [UNK] romance comedy movie that has something similar to my [UNK] girl theres no [UNK] scenes hollywood should learn more from [UNK] [UNK] sex is not always [UNK] in a good romantic moviebr br the movie is of light [UNK] [UNK] with [UNK] [UNK] [UNK] scenes [UNK] into the movie i like the part when [UNK] almost [UNK] [UNK] the [UNK] moment is when [UNK] [UNK] [UNK] first love because he [UNK] [UNK] for another girl and he is going to be a father soon how he became a father was [UNK] in the next scene which brings [UNK] to the [UNK] br [UNK] points [UNK]                                                                                                                                                                                                                                                                                                                                                                                                                                                                                                                                                                                                                  \n",
      "\n",
      "Original:  b'Richard Willaims is an animation god. He was hampered in directing this film by the producer. The final product is a very uneven film with a very convoluted story, but some amazing moments of animation (like Emery Hawkins\\' \"Greedy\"). Joe Raposo\\'s repetitive music doesn\\'t help either. It was made in wide screen so the VHS doesn\\'t show it in all it\\'s glory, let\\'s hope for a letterboxed DVD someday. Still it\\'s worth watching for some eye popping animation.'\n",
      "Round-trip:  richard [UNK] is an animation god he was [UNK] in directing this film by the [UNK] the final [UNK] is a very [UNK] film with a very [UNK] story but some amazing moments of animation like [UNK] [UNK] [UNK] joe [UNK] [UNK] music doesnt help either it was made in [UNK] screen so the [UNK] doesnt show it in all its [UNK] lets hope for a [UNK] dvd [UNK] still its worth watching for some eye [UNK] animation                                                                                                                                                                                                                                                                                                                                                                                                                                                                                                                                                                                                                                                    \n",
      "\n"
     ]
    }
   ],
   "source": [
    "for n in range(3):\n",
    "  print(\"Original: \", example[n].numpy())\n",
    "  print(\"Round-trip: \", \" \".join(vocab[encoded_example[n]]))\n",
    "  print()"
   ]
  },
  {
   "cell_type": "code",
   "execution_count": 11,
   "metadata": {},
   "outputs": [],
   "source": [
    "model = tf.keras.Sequential([\n",
    "    encoder,\n",
    "    tf.keras.layers.Embedding(\n",
    "        input_dim=len(encoder.get_vocabulary()),\n",
    "        output_dim=64,\n",
    "        # Use masking to handle the variable sequence lengths\n",
    "        mask_zero=True),\n",
    "    tf.keras.layers.Bidirectional(tf.keras.layers.LSTM(64)),\n",
    "    tf.keras.layers.Dense(64, activation='relu'),\n",
    "    tf.keras.layers.Dense(1)\n",
    "])"
   ]
  },
  {
   "cell_type": "code",
   "execution_count": 12,
   "metadata": {},
   "outputs": [
    {
     "name": "stdout",
     "output_type": "stream",
     "text": [
      "[False, True, True, True, True]\n"
     ]
    }
   ],
   "source": [
    "print([layer.supports_masking for layer in model.layers])"
   ]
  },
  {
   "cell_type": "code",
   "execution_count": 13,
   "metadata": {},
   "outputs": [
    {
     "name": "stdout",
     "output_type": "stream",
     "text": [
      "1/1 [==============================] - 6s 6s/step\n",
      "[0.00398385]\n"
     ]
    }
   ],
   "source": [
    "# predict on a sample text without padding.\n",
    "\n",
    "sample_text = ('The movie was cool. The animation and the graphics '\n",
    "               'were out of this world. I would recommend this movie.')\n",
    "predictions = model.predict(np.array([sample_text]))\n",
    "print(predictions[0])"
   ]
  },
  {
   "cell_type": "code",
   "execution_count": 14,
   "metadata": {},
   "outputs": [
    {
     "name": "stdout",
     "output_type": "stream",
     "text": [
      "1/1 [==============================] - 0s 387ms/step\n",
      "[0.00398385]\n"
     ]
    }
   ],
   "source": [
    "# predict on a sample text with padding\n",
    "\n",
    "padding = \"the \" * 2000\n",
    "predictions = model.predict(np.array([sample_text, padding]))\n",
    "print(predictions[0])"
   ]
  },
  {
   "cell_type": "code",
   "execution_count": 15,
   "metadata": {},
   "outputs": [],
   "source": [
    "model.compile(loss=tf.keras.losses.BinaryCrossentropy(from_logits=True),\n",
    "              optimizer=tf.keras.optimizers.Adam(1e-4),\n",
    "              metrics=['accuracy'])"
   ]
  },
  {
   "cell_type": "code",
   "execution_count": 19,
   "metadata": {},
   "outputs": [
    {
     "name": "stdout",
     "output_type": "stream",
     "text": [
      "Epoch 1/10\n"
     ]
    },
    {
     "name": "stdout",
     "output_type": "stream",
     "text": [
      "391/391 [==============================] - 904s 2s/step - loss: 0.4881 - accuracy: 0.7686 - val_loss: 0.4228 - val_accuracy: 0.8229\n",
      "Epoch 2/10\n",
      "391/391 [==============================] - 921s 2s/step - loss: 0.3895 - accuracy: 0.8320 - val_loss: 0.3667 - val_accuracy: 0.8469\n",
      "Epoch 3/10\n",
      "391/391 [==============================] - 908s 2s/step - loss: 0.3468 - accuracy: 0.8497 - val_loss: 0.3456 - val_accuracy: 0.8578\n",
      "Epoch 4/10\n",
      "391/391 [==============================] - 1098s 3s/step - loss: 0.3280 - accuracy: 0.8591 - val_loss: 0.3403 - val_accuracy: 0.8458\n",
      "Epoch 5/10\n",
      "391/391 [==============================] - 866s 2s/step - loss: 0.3170 - accuracy: 0.8652 - val_loss: 0.3265 - val_accuracy: 0.8583\n",
      "Epoch 6/10\n",
      "391/391 [==============================] - 914s 2s/step - loss: 0.3092 - accuracy: 0.8703 - val_loss: 0.3212 - val_accuracy: 0.8557\n",
      "Epoch 7/10\n",
      "391/391 [==============================] - 903s 2s/step - loss: 0.3036 - accuracy: 0.8698 - val_loss: 0.3211 - val_accuracy: 0.8641\n",
      "Epoch 8/10\n",
      "391/391 [==============================] - 905s 2s/step - loss: 0.3000 - accuracy: 0.8718 - val_loss: 0.3218 - val_accuracy: 0.8552\n",
      "Epoch 9/10\n",
      "391/391 [==============================] - 896s 2s/step - loss: 0.2992 - accuracy: 0.8733 - val_loss: 0.3308 - val_accuracy: 0.8474\n",
      "Epoch 10/10\n",
      "391/391 [==============================] - 902s 2s/step - loss: 0.2970 - accuracy: 0.8736 - val_loss: 0.3176 - val_accuracy: 0.8615\n"
     ]
    }
   ],
   "source": [
    "history = model.fit(train_dataset, epochs=10,\n",
    "                    validation_data=test_dataset,\n",
    "                    validation_steps=30)\n",
    "# this probably take 2 hours or less to get it done, make it 2 epochs"
   ]
  },
  {
   "cell_type": "code",
   "execution_count": 20,
   "metadata": {},
   "outputs": [
    {
     "name": "stdout",
     "output_type": "stream",
     "text": [
      "391/391 [==============================] - 129s 330ms/step - loss: 0.3154 - accuracy: 0.8626\n",
      "Test Loss: 0.31536927819252014\n",
      "Test Accuracy: 0.862559974193573\n"
     ]
    }
   ],
   "source": [
    "test_loss, test_acc = model.evaluate(test_dataset)\n",
    "\n",
    "print('Test Loss:', test_loss)\n",
    "print('Test Accuracy:', test_acc)"
   ]
  },
  {
   "cell_type": "code",
   "execution_count": 21,
   "metadata": {},
   "outputs": [
    {
     "data": {
      "text/plain": [
       "(0.0, 0.497666634619236)"
      ]
     },
     "execution_count": 21,
     "metadata": {},
     "output_type": "execute_result"
    },
    {
     "data": {
      "image/png": "[encoded data removed]",
      "text/plain": [
       "<Figure size 1600x800 with 2 Axes>"
      ]
     },
     "metadata": {},
     "output_type": "display_data"
    }
   ],
   "source": [
    "plt.figure(figsize=(16, 8))\n",
    "plt.subplot(1, 2, 1)\n",
    "plot_graphs(history, 'accuracy')\n",
    "plt.ylim(None, 1)\n",
    "plt.subplot(1, 2, 2)\n",
    "plot_graphs(history, 'loss')\n",
    "plt.ylim(0, None)"
   ]
  },
  {
   "cell_type": "code",
   "execution_count": 22,
   "metadata": {},
   "outputs": [
    {
     "name": "stdout",
     "output_type": "stream",
     "text": [
      "1/1 [==============================] - 5s 5s/step\n"
     ]
    }
   ],
   "source": [
    "sample_text = ('The movie was cool. The animation and the graphics '\n",
    "                'were out of this world. I would recommend this movie.')\n",
    "predictions = model.predict(np.array([sample_text]))"
   ]
  },
  {
   "cell_type": "code",
   "execution_count": 23,
   "metadata": {},
   "outputs": [],
   "source": [
    "model = tf.keras.Sequential([\n",
    "    encoder,\n",
    "    tf.keras.layers.Embedding(len(encoder.get_vocabulary()), 64, mask_zero=True),\n",
    "    tf.keras.layers.Bidirectional(tf.keras.layers.LSTM(64, return_sequences=True)),\n",
    "    tf.keras.layers.Bidirectional(tf.keras.layers.LSTM(32)),\n",
    "    tf.keras.layers.Dense(64, activation='relu'),\n",
    "    tf.keras.layers.Dropout(0.5),\n",
    "    tf.keras.layers.Dense(1)\n",
    "])"
   ]
  },
  {
   "cell_type": "code",
   "execution_count": 24,
   "metadata": {},
   "outputs": [],
   "source": [
    "model.compile(loss=tf.keras.losses.BinaryCrossentropy(from_logits=True),\n",
    "                optimizer=tf.keras.optimizers.Adam(1e-4),\n",
    "                metrics=['accuracy'])"
   ]
  },
  {
   "cell_type": "code",
   "execution_count": 25,
   "metadata": {},
   "outputs": [
    {
     "name": "stdout",
     "output_type": "stream",
     "text": [
      "391/391 [==============================] - 302s 742ms/step - loss: 0.6931 - accuracy: 0.5000\n",
      "Test Loss: 0.6931031942367554\n",
      "Test Accuracy: 0.5\n"
     ]
    }
   ],
   "source": [
    "test_loss, test_acc = model.evaluate(test_dataset)\n",
    "\n",
    "print('Test Loss:', test_loss)\n",
    "print('Test Accuracy:', test_acc)"
   ]
  },
  {
   "cell_type": "code",
   "execution_count": 26,
   "metadata": {},
   "outputs": [
    {
     "name": "stdout",
     "output_type": "stream",
     "text": [
      "1/1 [==============================] - 6s 6s/step\n",
      "[[-0.00421111]]\n"
     ]
    }
   ],
   "source": [
    "# predict on a sample text without padding.\n",
    "\n",
    "sample_text = ('The movie was not good. The animation and the graphics '\n",
    "                'were terrible. I would not recommend this movie.')\n",
    "predictions = model.predict(np.array([sample_text]))\n",
    "print(predictions)"
   ]
  },
  {
   "cell_type": "code",
   "execution_count": 27,
   "metadata": {},
   "outputs": [
    {
     "data": {
      "image/png": "[encoded data removed]",
      "text/plain": [
       "<Figure size 1600x600 with 2 Axes>"
      ]
     },
     "metadata": {},
     "output_type": "display_data"
    }
   ],
   "source": [
    "plt.figure(figsize=(16, 6))\n",
    "plt.subplot(1, 2, 1)\n",
    "plot_graphs(history, 'accuracy')\n",
    "plt.subplot(1, 2, 2)\n",
    "plot_graphs(history, 'loss')"
   ]
  },
  {
   "cell_type": "code",
   "execution_count": 28,
   "metadata": {},
   "outputs": [],
   "source": [
    "import tensorflow as tf\n",
    "import numpy as np\n",
    "import os\n",
    "import time"
   ]
  },
  {
   "cell_type": "code",
   "execution_count": 29,
   "metadata": {},
   "outputs": [],
   "source": [
    "path_to_file = tf.keras.utils.get_file('shakespeare.txt', 'https://storage.googleapis.com/download.tensorflow.org/data/shakespeare.txt')"
   ]
  },
  {
   "cell_type": "code",
   "execution_count": 30,
   "metadata": {},
   "outputs": [
    {
     "name": "stdout",
     "output_type": "stream",
     "text": [
      "Length of text: 1115394 characters\n"
     ]
    }
   ],
   "source": [
    "# Read, then decode for py2 compat.\n",
    "text = open(path_to_file, 'rb').read().decode(encoding='utf-8')\n",
    "# length of text is the number of characters in it\n",
    "print(f'Length of text: {len(text)} characters')"
   ]
  },
  {
   "cell_type": "code",
   "execution_count": 31,
   "metadata": {},
   "outputs": [
    {
     "name": "stdout",
     "output_type": "stream",
     "text": [
      "First Citizen:\n",
      "Before we proceed any further, hear me speak.\n",
      "\n",
      "All:\n",
      "Speak, speak.\n",
      "\n",
      "First Citizen:\n",
      "You are all resolved rather to die than to famish?\n",
      "\n",
      "All:\n",
      "Resolved. resolved.\n",
      "\n",
      "First Citizen:\n",
      "First, you know Caius Marcius is chief enemy to the people.\n",
      "\n"
     ]
    }
   ],
   "source": [
    "# Take a look at the first 250 characters in text\n",
    "print(text[:250])"
   ]
  },
  {
   "cell_type": "code",
   "execution_count": 32,
   "metadata": {},
   "outputs": [
    {
     "name": "stdout",
     "output_type": "stream",
     "text": [
      "65 unique characters\n"
     ]
    }
   ],
   "source": [
    "# The unique characters in the file\n",
    "vocab = sorted(set(text))\n",
    "print(f'{len(vocab)} unique characters')"
   ]
  },
  {
   "cell_type": "code",
   "execution_count": 33,
   "metadata": {},
   "outputs": [
    {
     "data": {
      "text/plain": [
       "<tf.RaggedTensor [[b'a', b'b', b'c', b'd', b'e', b'f', b'g'], [b'x', b'y', b'z']]>"
      ]
     },
     "execution_count": 33,
     "metadata": {},
     "output_type": "execute_result"
    }
   ],
   "source": [
    "example_texts = ['abcdefg', 'xyz']\n",
    "chars = tf.strings.unicode_split(example_texts, input_encoding='UTF-8')\n",
    "chars"
   ]
  },
  {
   "cell_type": "code",
   "execution_count": 34,
   "metadata": {},
   "outputs": [],
   "source": [
    "ids_from_chars = tf.keras.layers.StringLookup(vocabulary=list(vocab), mask_token=None)"
   ]
  },
  {
   "cell_type": "code",
   "execution_count": 35,
   "metadata": {},
   "outputs": [
    {
     "data": {
      "text/plain": [
       "<tf.RaggedTensor [[40, 41, 42, 43, 44, 45, 46], [63, 64, 65]]>"
      ]
     },
     "execution_count": 35,
     "metadata": {},
     "output_type": "execute_result"
    }
   ],
   "source": [
    "ids = ids_from_chars(chars)\n",
    "ids"
   ]
  },
  {
   "cell_type": "code",
   "execution_count": 36,
   "metadata": {},
   "outputs": [],
   "source": [
    "chars_from_ids = tf.keras.layers.StringLookup(\n",
    "    vocabulary=ids_from_chars.get_vocabulary(), invert=True, mask_token=None)"
   ]
  },
  {
   "cell_type": "code",
   "execution_count": 37,
   "metadata": {},
   "outputs": [
    {
     "data": {
      "text/plain": [
       "<tf.RaggedTensor [[b'a', b'b', b'c', b'd', b'e', b'f', b'g'], [b'x', b'y', b'z']]>"
      ]
     },
     "execution_count": 37,
     "metadata": {},
     "output_type": "execute_result"
    }
   ],
   "source": [
    "chars = chars_from_ids(ids)\n",
    "chars"
   ]
  },
  {
   "cell_type": "code",
   "execution_count": 38,
   "metadata": {},
   "outputs": [
    {
     "data": {
      "text/plain": [
       "array([b'abcdefg', b'xyz'], dtype=object)"
      ]
     },
     "execution_count": 38,
     "metadata": {},
     "output_type": "execute_result"
    }
   ],
   "source": [
    "tf.strings.reduce_join(chars, axis=-1).numpy()"
   ]
  },
  {
   "cell_type": "code",
   "execution_count": 39,
   "metadata": {},
   "outputs": [],
   "source": [
    "def text_from_ids(ids):\n",
    "    return tf.strings.reduce_join(chars_from_ids(ids), axis=-1)"
   ]
  },
  {
   "cell_type": "code",
   "execution_count": 40,
   "metadata": {},
   "outputs": [
    {
     "data": {
      "text/plain": [
       "<tf.Tensor: shape=(1115394,), dtype=int64, numpy=array([19, 48, 57, ..., 46,  9,  1], dtype=int64)>"
      ]
     },
     "execution_count": 40,
     "metadata": {},
     "output_type": "execute_result"
    }
   ],
   "source": [
    "all_ids = ids_from_chars(tf.strings.unicode_split(text, 'UTF-8'))\n",
    "all_ids"
   ]
  },
  {
   "cell_type": "code",
   "execution_count": 41,
   "metadata": {},
   "outputs": [],
   "source": [
    "ids_dataset = tf.data.Dataset.from_tensor_slices(all_ids)"
   ]
  },
  {
   "cell_type": "code",
   "execution_count": 42,
   "metadata": {},
   "outputs": [
    {
     "name": "stdout",
     "output_type": "stream",
     "text": [
      "F\n",
      "i\n",
      "r\n",
      "s\n",
      "t\n",
      " \n",
      "C\n",
      "i\n",
      "t\n",
      "i\n"
     ]
    }
   ],
   "source": [
    "for ids in ids_dataset.take(10):\n",
    "    print(chars_from_ids(ids).numpy().decode('utf-8'))"
   ]
  },
  {
   "cell_type": "code",
   "execution_count": 43,
   "metadata": {},
   "outputs": [],
   "source": [
    "seq_length = 100"
   ]
  },
  {
   "cell_type": "code",
   "execution_count": 44,
   "metadata": {},
   "outputs": [
    {
     "name": "stdout",
     "output_type": "stream",
     "text": [
      "tf.Tensor(\n",
      "[b'F' b'i' b'r' b's' b't' b' ' b'C' b'i' b't' b'i' b'z' b'e' b'n' b':'\n",
      " b'\\n' b'B' b'e' b'f' b'o' b'r' b'e' b' ' b'w' b'e' b' ' b'p' b'r' b'o'\n",
      " b'c' b'e' b'e' b'd' b' ' b'a' b'n' b'y' b' ' b'f' b'u' b'r' b't' b'h'\n",
      " b'e' b'r' b',' b' ' b'h' b'e' b'a' b'r' b' ' b'm' b'e' b' ' b's' b'p'\n",
      " b'e' b'a' b'k' b'.' b'\\n' b'\\n' b'A' b'l' b'l' b':' b'\\n' b'S' b'p' b'e'\n",
      " b'a' b'k' b',' b' ' b's' b'p' b'e' b'a' b'k' b'.' b'\\n' b'\\n' b'F' b'i'\n",
      " b'r' b's' b't' b' ' b'C' b'i' b't' b'i' b'z' b'e' b'n' b':' b'\\n' b'Y'\n",
      " b'o' b'u' b' '], shape=(101,), dtype=string)\n"
     ]
    }
   ],
   "source": [
    "sequences = ids_dataset.batch(seq_length+1, drop_remainder=True)\n",
    "\n",
    "for seq in sequences.take(1):\n",
    "  print(chars_from_ids(seq))"
   ]
  },
  {
   "cell_type": "code",
   "execution_count": 45,
   "metadata": {},
   "outputs": [
    {
     "name": "stdout",
     "output_type": "stream",
     "text": [
      "b'First Citizen:\\nBefore we proceed any further, hear me speak.\\n\\nAll:\\nSpeak, speak.\\n\\nFirst Citizen:\\nYou '\n",
      "b'are all resolved rather to die than to famish?\\n\\nAll:\\nResolved. resolved.\\n\\nFirst Citizen:\\nFirst, you k'\n",
      "b\"now Caius Marcius is chief enemy to the people.\\n\\nAll:\\nWe know't, we know't.\\n\\nFirst Citizen:\\nLet us ki\"\n",
      "b\"ll him, and we'll have corn at our own price.\\nIs't a verdict?\\n\\nAll:\\nNo more talking on't; let it be d\"\n",
      "b'one: away, away!\\n\\nSecond Citizen:\\nOne word, good citizens.\\n\\nFirst Citizen:\\nWe are accounted poor citi'\n"
     ]
    }
   ],
   "source": [
    "for seq in sequences.take(5):\n",
    "    print(text_from_ids(seq).numpy())"
   ]
  },
  {
   "cell_type": "code",
   "execution_count": 46,
   "metadata": {},
   "outputs": [],
   "source": [
    "def split_input_target(sequence):   \n",
    "    input_text = sequence[:-1]\n",
    "    target_text = sequence[1:]\n",
    "    return input_text, target_text"
   ]
  },
  {
   "cell_type": "code",
   "execution_count": 47,
   "metadata": {},
   "outputs": [
    {
     "data": {
      "text/plain": [
       "(['T', 'e', 'n', 's', 'o', 'r', 'f', 'l', 'o'],\n",
       " ['e', 'n', 's', 'o', 'r', 'f', 'l', 'o', 'w'])"
      ]
     },
     "execution_count": 47,
     "metadata": {},
     "output_type": "execute_result"
    }
   ],
   "source": [
    "split_input_target(list(\"Tensorflow\"))"
   ]
  },
  {
   "cell_type": "code",
   "execution_count": 48,
   "metadata": {},
   "outputs": [],
   "source": [
    "dataset = sequences.map(split_input_target)"
   ]
  },
  {
   "cell_type": "code",
   "execution_count": 49,
   "metadata": {},
   "outputs": [
    {
     "name": "stdout",
     "output_type": "stream",
     "text": [
      "Input : b'First Citizen:\\nBefore we proceed any further, hear me speak.\\n\\nAll:\\nSpeak, speak.\\n\\nFirst Citizen:\\nYou'\n",
      "Target: b'irst Citizen:\\nBefore we proceed any further, hear me speak.\\n\\nAll:\\nSpeak, speak.\\n\\nFirst Citizen:\\nYou '\n"
     ]
    }
   ],
   "source": [
    "for input_example, target_example in dataset.take(1):\n",
    "    print(\"Input :\", text_from_ids(input_example).numpy())\n",
    "    print(\"Target:\", text_from_ids(target_example).numpy())"
   ]
  },
  {
   "cell_type": "code",
   "execution_count": 50,
   "metadata": {},
   "outputs": [
    {
     "data": {
      "text/plain": [
       "<_PrefetchDataset element_spec=(TensorSpec(shape=(64, 100), dtype=tf.int64, name=None), TensorSpec(shape=(64, 100), dtype=tf.int64, name=None))>"
      ]
     },
     "execution_count": 50,
     "metadata": {},
     "output_type": "execute_result"
    }
   ],
   "source": [
    "# Batch size\n",
    "BATCH_SIZE = 64\n",
    "\n",
    "# Buffer size to shuffle the dataset\n",
    "# (TF data is designed to work with possibly infinite sequences,\n",
    "# so it doesn't attempt to shuffle the entire sequence in memory. Instead,\n",
    "# it maintains a buffer in which it shuffles elements).\n",
    "BUFFER_SIZE = 10000\n",
    "\n",
    "dataset = (\n",
    "    dataset\n",
    "    .shuffle(BUFFER_SIZE)\n",
    "    .batch(BATCH_SIZE, drop_remainder=True)\n",
    "    .prefetch(tf.data.experimental.AUTOTUNE))\n",
    "\n",
    "dataset"
   ]
  },
  {
   "cell_type": "code",
   "execution_count": 51,
   "metadata": {},
   "outputs": [],
   "source": [
    "# Length of the vocabulary in StringLookup Layer\n",
    "vocab_size = len(ids_from_chars.get_vocabulary())\n",
    "\n",
    "# The embedding dimension\n",
    "embedding_dim = 256\n",
    "\n",
    "# Number of RNN units\n",
    "rnn_units = 1024"
   ]
  },
  {
   "cell_type": "code",
   "execution_count": 52,
   "metadata": {},
   "outputs": [],
   "source": [
    "class MyModel(tf.keras.Model):\n",
    "  def __init__(self, vocab_size, embedding_dim, rnn_units):\n",
    "    super().__init__(self)\n",
    "    self.embedding = tf.keras.layers.Embedding(vocab_size, embedding_dim)\n",
    "    self.gru = tf.keras.layers.GRU(rnn_units,\n",
    "                                   return_sequences=True,\n",
    "                                   return_state=True)\n",
    "    self.dense = tf.keras.layers.Dense(vocab_size)\n",
    "\n",
    "  def call(self, inputs, states=None, return_state=False, training=False):\n",
    "    x = inputs\n",
    "    x = self.embedding(x, training=training)\n",
    "    if states is None:\n",
    "      states = self.gru.get_initial_state(x)\n",
    "    x, states = self.gru(x, initial_state=states, training=training)\n",
    "    x = self.dense(x, training=training)\n",
    "\n",
    "    if return_state:\n",
    "      return x, states\n",
    "    else:\n",
    "      return x"
   ]
  },
  {
   "cell_type": "code",
   "execution_count": 53,
   "metadata": {},
   "outputs": [],
   "source": [
    "model = MyModel(\n",
    "    vocab_size=vocab_size,\n",
    "    embedding_dim=embedding_dim,\n",
    "    rnn_units=rnn_units)"
   ]
  },
  {
   "cell_type": "code",
   "execution_count": 54,
   "metadata": {},
   "outputs": [
    {
     "name": "stdout",
     "output_type": "stream",
     "text": [
      "(64, 100, 66) # (batch_size, sequence_length, vocab_size)\n"
     ]
    }
   ],
   "source": [
    "for input_example_batch, target_example_batch in dataset.take(1):\n",
    "    example_batch_predictions = model(input_example_batch)\n",
    "    print(example_batch_predictions.shape, \"# (batch_size, sequence_length, vocab_size)\")"
   ]
  },
  {
   "cell_type": "code",
   "execution_count": 55,
   "metadata": {},
   "outputs": [
    {
     "name": "stdout",
     "output_type": "stream",
     "text": [
      "Model: \"my_model\"\n",
      "_________________________________________________________________\n",
      " Layer (type)                Output Shape              Param #   \n",
      "=================================================================\n",
      " embedding_2 (Embedding)     multiple                  16896     \n",
      "                                                                 \n",
      " gru (GRU)                   multiple                  3938304   \n",
      "                                                                 \n",
      " dense_4 (Dense)             multiple                  67650     \n",
      "                                                                 \n",
      "=================================================================\n",
      "Total params: 4022850 (15.35 MB)\n",
      "Trainable params: 4022850 (15.35 MB)\n",
      "Non-trainable params: 0 (0.00 Byte)\n",
      "_________________________________________________________________\n"
     ]
    }
   ],
   "source": [
    "model.summary()"
   ]
  },
  {
   "cell_type": "code",
   "execution_count": 56,
   "metadata": {},
   "outputs": [],
   "source": [
    "sampled_indices = tf.random.categorical(example_batch_predictions[0], num_samples=1)\n",
    "sampled_indices = tf.squeeze(sampled_indices, axis=-1).numpy()"
   ]
  },
  {
   "cell_type": "code",
   "execution_count": 57,
   "metadata": {},
   "outputs": [
    {
     "data": {
      "text/plain": [
       "array([59, 14, 49, 20, 27, 48, 13, 37, 33, 15, 44,  8,  5,  6, 45, 29, 63,\n",
       "       47,  8, 26, 39, 53, 10, 65, 60, 52, 52, 58, 22, 63, 57, 65, 40, 41,\n",
       "        8, 30,  8, 63, 31, 48, 13, 24, 37, 25,  5,  1, 42, 57, 37, 16, 41,\n",
       "        2, 37, 43, 33, 41, 60, 54, 48, 52,  1,  3, 28,  2, 12,  2, 24, 19,\n",
       "       30, 38, 55, 33, 27, 31, 56, 61, 48, 60, 34, 35, 61, 43, 56, 43,  8,\n",
       "        8, 30,  6, 15, 65, 55, 40, 61, 40, 21, 26, 46, 17, 29, 52],\n",
       "      dtype=int64)"
      ]
     },
     "execution_count": 57,
     "metadata": {},
     "output_type": "execute_result"
    }
   ],
   "source": [
    "sampled_indices"
   ]
  },
  {
   "cell_type": "code",
   "execution_count": 58,
   "metadata": {},
   "outputs": [
    {
     "name": "stdout",
     "output_type": "stream",
     "text": [
      "Input:\n",
      " b'ing annoyance to the treacherous feet\\nWhich with usurping steps do trample thee:\\nYield stinging nett'\n",
      "\n",
      "Next Char Predictions:\n",
      " b\"tAjGNi?XTBe-&'fPxh-MZn3zummsIxrzab-Q-xRi?KXL&\\ncrXCb XdTbuoim\\n!O ; KFQYpTNRqviuUVvdqd--Q'BzpavaHMgDPm\"\n"
     ]
    }
   ],
   "source": [
    "print(\"Input:\\n\", text_from_ids(input_example_batch[0]).numpy())\n",
    "print()\n",
    "print(\"Next Char Predictions:\\n\", text_from_ids(sampled_indices).numpy())"
   ]
  },
  {
   "cell_type": "code",
   "execution_count": 59,
   "metadata": {},
   "outputs": [],
   "source": [
    "loss = tf.losses.SparseCategoricalCrossentropy(from_logits=True)"
   ]
  },
  {
   "cell_type": "code",
   "execution_count": 60,
   "metadata": {},
   "outputs": [
    {
     "name": "stdout",
     "output_type": "stream",
     "text": [
      "Prediction shape:  (64, 100, 66)  # (batch_size, sequence_length, vocab_size)\n",
      "Mean loss:         tf.Tensor(4.1887746, shape=(), dtype=float32)\n"
     ]
    }
   ],
   "source": [
    "example_batch_mean_loss = loss(target_example_batch, example_batch_predictions)\n",
    "print(\"Prediction shape: \", example_batch_predictions.shape, \" # (batch_size, sequence_length, vocab_size)\")\n",
    "print(\"Mean loss:        \", example_batch_mean_loss)"
   ]
  },
  {
   "cell_type": "code",
   "execution_count": 61,
   "metadata": {},
   "outputs": [
    {
     "data": {
      "text/plain": [
       "65.94193"
      ]
     },
     "execution_count": 61,
     "metadata": {},
     "output_type": "execute_result"
    }
   ],
   "source": [
    "tf.exp(example_batch_mean_loss).numpy()"
   ]
  },
  {
   "cell_type": "code",
   "execution_count": 62,
   "metadata": {},
   "outputs": [],
   "source": [
    "model.compile(optimizer='adam', loss=loss)"
   ]
  },
  {
   "cell_type": "code",
   "execution_count": 63,
   "metadata": {},
   "outputs": [],
   "source": [
    "# Directory where the checkpoints will be saved\n",
    "checkpoint_dir = './training_checkpoints'\n",
    "# Name of the checkpoint files\n",
    "checkpoint_prefix = os.path.join(checkpoint_dir, \"ckpt_{epoch}\")\n",
    "\n",
    "checkpoint_callback = tf.keras.callbacks.ModelCheckpoint(\n",
    "    filepath=checkpoint_prefix,\n",
    "    save_weights_only=True)"
   ]
  },
  {
   "cell_type": "code",
   "execution_count": 65,
   "metadata": {},
   "outputs": [],
   "source": [
    "EPOCHS = 10"
   ]
  },
  {
   "cell_type": "code",
   "execution_count": 66,
   "metadata": {},
   "outputs": [
    {
     "name": "stdout",
     "output_type": "stream",
     "text": [
      "Epoch 1/10\n",
      "172/172 [==============================] - 385s 2s/step - loss: 2.7197\n",
      "Epoch 2/10\n",
      "172/172 [==============================] - 388s 2s/step - loss: 1.9914\n",
      "Epoch 3/10\n",
      "172/172 [==============================] - 386s 2s/step - loss: 1.7159\n",
      "Epoch 4/10\n",
      "172/172 [==============================] - 395s 2s/step - loss: 1.5523\n",
      "Epoch 5/10\n",
      "172/172 [==============================] - 392s 2s/step - loss: 1.4522\n",
      "Epoch 6/10\n",
      "172/172 [==============================] - 393s 2s/step - loss: 1.3830\n",
      "Epoch 7/10\n",
      "172/172 [==============================] - 397s 2s/step - loss: 1.3294\n",
      "Epoch 8/10\n",
      "172/172 [==============================] - 394s 2s/step - loss: 1.2846\n",
      "Epoch 9/10\n",
      "172/172 [==============================] - 395s 2s/step - loss: 1.2439\n",
      "Epoch 10/10\n",
      "172/172 [==============================] - 393s 2s/step - loss: 1.2036\n"
     ]
    }
   ],
   "source": [
    "history = model.fit(dataset, epochs=EPOCHS, callbacks=[checkpoint_callback])"
   ]
  },
  {
   "cell_type": "code",
   "execution_count": 67,
   "metadata": {},
   "outputs": [],
   "source": [
    "class CustomTraining(MyModel):\n",
    "  @tf.function\n",
    "  def train_step(self, inputs):\n",
    "    inputs, labels = inputs\n",
    "    with tf.GradientTape() as tape:\n",
    "        predictions = self(inputs, training=True)\n",
    "        loss = self.loss(labels, predictions)\n",
    "    grads = tape.gradient(loss, model.trainable_variables)\n",
    "    self.optimizer.apply_gradients(zip(grads, model.trainable_variables))\n",
    "    \n",
    "    return {'loss': loss}"
   ]
  },
  {
   "cell_type": "code",
   "execution_count": 68,
   "metadata": {},
   "outputs": [],
   "source": [
    "model = CustomTraining(\n",
    "    vocab_size=len(ids_from_chars.get_vocabulary()),\n",
    "    embedding_dim=embedding_dim,\n",
    "    rnn_units=rnn_units)"
   ]
  },
  {
   "cell_type": "code",
   "execution_count": 69,
   "metadata": {},
   "outputs": [],
   "source": [
    "model.compile(optimizer = tf.keras.optimizers.Adam(),\n",
    "                loss=tf.keras.losses.SparseCategoricalCrossentropy(from_logits=True))"
   ]
  },
  {
   "cell_type": "code",
   "execution_count": 71,
   "metadata": {},
   "outputs": [
    {
     "name": "stdout",
     "output_type": "stream",
     "text": [
      "Epoch 1/10\n"
     ]
    },
    {
     "name": "stdout",
     "output_type": "stream",
     "text": [
      "172/172 [==============================] - 483s 3s/step - loss: 2.6765\n",
      "Epoch 2/10\n",
      "172/172 [==============================] - 537s 3s/step - loss: 1.9658\n",
      "Epoch 3/10\n",
      "172/172 [==============================] - 537s 3s/step - loss: 1.6886\n",
      "Epoch 4/10\n",
      "172/172 [==============================] - 528s 3s/step - loss: 1.5313\n",
      "Epoch 5/10\n",
      "172/172 [==============================] - 511s 3s/step - loss: 1.4365\n",
      "Epoch 6/10\n",
      "172/172 [==============================] - 502s 3s/step - loss: 1.3697\n",
      "Epoch 7/10\n",
      "172/172 [==============================] - 607s 4s/step - loss: 1.3185\n",
      "Epoch 8/10\n",
      "172/172 [==============================] - 799s 5s/step - loss: 1.2742\n",
      "Epoch 9/10\n",
      "172/172 [==============================] - 778s 5s/step - loss: 1.2335\n",
      "Epoch 10/10\n",
      "172/172 [==============================] - 726s 4s/step - loss: 1.1935\n"
     ]
    },
    {
     "data": {
      "text/plain": [
       "<keras.src.callbacks.History at 0x21db13b2150>"
      ]
     },
     "execution_count": 71,
     "metadata": {},
     "output_type": "execute_result"
    }
   ],
   "source": [
    "model.fit(dataset, epochs=10)"
   ]
  },
  {
   "cell_type": "code",
   "execution_count": 72,
   "metadata": {},
   "outputs": [
    {
     "name": "stdout",
     "output_type": "stream",
     "text": [
      "Epoch 1 Batch 0 Loss 1.1086\n",
      "Epoch 1 Batch 50 Loss 1.1253\n",
      "Epoch 1 Batch 100 Loss 1.1459\n",
      "Epoch 1 Batch 150 Loss 1.1486\n",
      "\n",
      "Epoch 1 Loss: 1.1527\n",
      "Time taken for 1 epoch 513.37 sec\n",
      "________________________________________________________________________________\n",
      "Epoch 2 Batch 0 Loss 1.1007\n",
      "Epoch 2 Batch 50 Loss 1.0859\n",
      "Epoch 2 Batch 100 Loss 1.1388\n",
      "Epoch 2 Batch 150 Loss 1.1399\n",
      "\n",
      "Epoch 2 Loss: 1.1108\n",
      "Time taken for 1 epoch 455.48 sec\n",
      "________________________________________________________________________________\n",
      "Epoch 3 Batch 0 Loss 1.0302\n",
      "Epoch 3 Batch 50 Loss 1.0712\n",
      "Epoch 3 Batch 100 Loss 1.0543\n",
      "Epoch 3 Batch 150 Loss 1.0945\n",
      "\n",
      "Epoch 3 Loss: 1.0674\n",
      "Time taken for 1 epoch 515.84 sec\n",
      "________________________________________________________________________________\n",
      "Epoch 4 Batch 0 Loss 0.9929\n",
      "Epoch 4 Batch 50 Loss 1.0186\n",
      "Epoch 4 Batch 100 Loss 1.0362\n",
      "Epoch 4 Batch 150 Loss 1.0607\n",
      "\n",
      "Epoch 4 Loss: 1.0200\n",
      "Time taken for 1 epoch 517.97 sec\n",
      "________________________________________________________________________________\n",
      "Epoch 5 Batch 0 Loss 0.9440\n",
      "Epoch 5 Batch 50 Loss 0.9600\n",
      "Epoch 5 Batch 100 Loss 1.0012\n",
      "Epoch 5 Batch 150 Loss 0.9895\n",
      "\n",
      "Epoch 5 Loss: 0.9708\n",
      "Time taken for 1 epoch 497.36 sec\n",
      "________________________________________________________________________________\n",
      "Epoch 6 Batch 0 Loss 0.8853\n",
      "Epoch 6 Batch 50 Loss 0.9027\n",
      "Epoch 6 Batch 100 Loss 0.9420\n",
      "Epoch 6 Batch 150 Loss 0.9730\n",
      "\n",
      "Epoch 6 Loss: 0.9198\n",
      "Time taken for 1 epoch 10547.76 sec\n",
      "________________________________________________________________________________\n",
      "Epoch 7 Batch 0 Loss 0.8225\n",
      "Epoch 7 Batch 50 Loss 0.8780\n",
      "Epoch 7 Batch 100 Loss 0.8868\n",
      "Epoch 7 Batch 150 Loss 0.9119\n",
      "\n",
      "Epoch 7 Loss: 0.8680\n",
      "Time taken for 1 epoch 864.25 sec\n",
      "________________________________________________________________________________\n",
      "Epoch 8 Batch 0 Loss 0.7433\n",
      "Epoch 8 Batch 50 Loss 0.7785\n",
      "Epoch 8 Batch 100 Loss 0.8131\n",
      "Epoch 8 Batch 150 Loss 0.8561\n",
      "\n",
      "Epoch 8 Loss: 0.8160\n",
      "Time taken for 1 epoch 504.79 sec\n",
      "________________________________________________________________________________\n",
      "Epoch 9 Batch 0 Loss 0.6994\n",
      "Epoch 9 Batch 50 Loss 0.7440\n",
      "Epoch 9 Batch 100 Loss 0.7861\n",
      "Epoch 9 Batch 150 Loss 0.8095\n",
      "\n",
      "Epoch 9 Loss: 0.7663\n",
      "Time taken for 1 epoch 501.11 sec\n",
      "________________________________________________________________________________\n",
      "Epoch 10 Batch 0 Loss 0.7029\n",
      "Epoch 10 Batch 50 Loss 0.6983\n",
      "Epoch 10 Batch 100 Loss 0.7234\n",
      "Epoch 10 Batch 150 Loss 0.7587\n",
      "\n",
      "Epoch 10 Loss: 0.7182\n",
      "Time taken for 1 epoch 493.18 sec\n",
      "________________________________________________________________________________\n"
     ]
    }
   ],
   "source": [
    "EPOCHS = 10\n",
    "\n",
    "mean = tf.metrics.Mean()\n",
    "\n",
    "for epoch in range(EPOCHS):\n",
    "    start = time.time()\n",
    "\n",
    "    mean.reset_states()\n",
    "    for (batch_n, (inp, target)) in enumerate(dataset):\n",
    "        logs = model.train_step([inp, target])\n",
    "        mean.update_state(logs['loss'])\n",
    "\n",
    "        if batch_n % 50 == 0:\n",
    "            template = f\"Epoch {epoch+1} Batch {batch_n} Loss {logs['loss']:.4f}\"\n",
    "            print(template)\n",
    "\n",
    "    # saving (checkpoint) the model every 5 epochs\n",
    "    if (epoch + 1) % 5 == 0:\n",
    "        model.save_weights(checkpoint_prefix.format(epoch=epoch))\n",
    "\n",
    "    print()\n",
    "    print(f'Epoch {epoch+1} Loss: {mean.result().numpy():.4f}')\n",
    "    print(f'Time taken for 1 epoch {time.time() - start:.2f} sec')\n",
    "    print(\"_\"*80)\n",
    "\n",
    "model.save_weights(checkpoint_prefix.format(epoch=epoch))"
   ]
  }
 ],
 "metadata": {
  "kernelspec": {
   "display_name": "base",
   "language": "python",
   "name": "python3"
  },
  "language_info": {
   "codemirror_mode": {
    "name": "ipython",
    "version": 3
   },
   "file_extension": ".py",
   "mimetype": "text/x-python",
   "name": "python",
   "nbconvert_exporter": "python",
   "pygments_lexer": "ipython3",
   "version": "3.11.4"
  },
  "orig_nbformat": 4
 },
 "nbformat": 4,
 "nbformat_minor": 2
}
