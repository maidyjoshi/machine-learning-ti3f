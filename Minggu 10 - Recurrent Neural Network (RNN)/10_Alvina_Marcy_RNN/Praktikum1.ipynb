{
  "cells": [
    {
      "cell_type": "markdown",
      "metadata": {
        "id": "_wjpVRA0104f"
      },
      "source": [
        "## **Praktikum 1**"
      ]
    },
    {
      "cell_type": "markdown",
      "metadata": {
        "id": "1hkFYEYUZdgr"
      },
      "source": [
        "### **Job Sheet 10 : Recurrent Neural Network (RNN)**"
      ]
    },
    {
      "cell_type": "markdown",
      "metadata": {
        "id": "QgODKmCYcfCF"
      },
      "source": [
        "**Setup**\n",
        "\n",
        "Impor matplotlib dan buat fungsi pembantu untuk memplot grafik:"
      ]
    },
    {
      "cell_type": "code",
      "execution_count": null,
      "metadata": {
        "id": "4Te8eb4VZP3c"
      },
      "outputs": [],
      "source": [
        "import numpy as np  #untuk komputasi numerik\n",
        "import tensorflow_datasets as tfds #menyediakan akses ke berbagai dataset\n",
        "import tensorflow as tf\n",
        "\n",
        "tfds.disable_progress_bar() #untuk menonaktifkan tampilan bar kemajuan (progress bar)"
      ]
    },
    {
      "cell_type": "code",
      "execution_count": null,
      "metadata": {
        "id": "RfEvhRn2eQJJ"
      },
      "outputs": [],
      "source": [
        "# untuk visualisasi data\n",
        "import matplotlib.pyplot as plt\n",
        "\n",
        "def plot_graphs(history, metric):\n",
        "  plt.plot(history.history[metric])\n",
        "  plt.plot(history.history['val_'+metric], '')\n",
        "  plt.xlabel(\"Epochs\")\n",
        "  plt.ylabel(metric)\n",
        "  plt.legend([metric, 'val_'+metric])"
      ]
    },
    {
      "cell_type": "markdown",
      "metadata": {
        "id": "qK36HEfaHE-O"
      },
      "source": [
        "**penjelasan**:\n",
        "- history: objek yang menyimpan informasi tentang metrik yang diukur selama pelatihan model.\n",
        "- arameter ini mengacu pada metrik yang ingin divisualisasikan, seperti 'loss', 'accuracy', 'mae', 'mse'\n",
        "- plt.plot() untuk menggambar grafik\n",
        "- plt.xlabel() dan plt.ylabel() digunakan untuk memberi label sumbu x dan sumbu y pada grafik."
      ]
    },
    {
      "cell_type": "markdown",
      "metadata": {
        "id": "2eapaa-MlvTM"
      },
      "source": [
        "**Setup input pipeline**\n",
        "\n",
        "Dataset ulasan film IMDB adalah kumpulan data klasifikasi biner—semua ulasan memiliki sentimen positif atau negatif.\n",
        "\n",
        "Download dataset menggunakan TFDS. Lihat loading text tutorial jika ingin me load data secara manual\n"
      ]
    },
    {
      "cell_type": "code",
      "execution_count": null,
      "metadata": {
        "colab": {
          "base_uri": "https://localhost:8080/"
        },
        "id": "SlKSCrW0l75P",
        "outputId": "1b0d283f-dd90-4e55-8619-e96d3f2c2768"
      },
      "outputs": [
        {
          "name": "stdout",
          "output_type": "stream",
          "text": [
            "Downloading and preparing dataset 80.23 MiB (download: 80.23 MiB, generated: Unknown size, total: 80.23 MiB) to /root/tensorflow_datasets/imdb_reviews/plain_text/1.0.0...\n",
            "Dataset imdb_reviews downloaded and prepared to /root/tensorflow_datasets/imdb_reviews/plain_text/1.0.0. Subsequent calls will reuse this data.\n"
          ]
        },
        {
          "data": {
            "text/plain": [
              "(TensorSpec(shape=(), dtype=tf.string, name=None),\n",
              " TensorSpec(shape=(), dtype=tf.int64, name=None))"
            ]
          },
          "execution_count": 3,
          "metadata": {},
          "output_type": "execute_result"
        }
      ],
      "source": [
        "dataset, info = tfds.load('imdb_reviews', with_info=True,\n",
        "                          as_supervised=True)\n",
        "train_dataset, test_dataset = dataset['train'], dataset['test']\n",
        "\n",
        "train_dataset.element_spec"
      ]
    },
    {
      "cell_type": "markdown",
      "metadata": {
        "id": "iy4bCn7MmFNF"
      },
      "source": [
        "**penjelasan**  kode diatas, TensorFlow Datasets (TFDS) untuk memuat dataset 'imdb_reviews' yang terdiri dari ulasan film dari IMDB (Internet Movie Database) dengan pengaturan as_supervised=True, yang berarti data akan dimuat dalam bentuk yang sesuai untuk pelatihan model supervisi."
      ]
    },
    {
      "cell_type": "markdown",
      "metadata": {
        "id": "CPcU0eQvmNOn"
      },
      "source": [
        "Awalnya ini mengembalikan dataset (teks, pasangan label):"
      ]
    },
    {
      "cell_type": "code",
      "execution_count": null,
      "metadata": {
        "colab": {
          "base_uri": "https://localhost:8080/"
        },
        "id": "uvzFYPU6mOT-",
        "outputId": "37fb7d29-35c3-438f-c1f0-2bd86ecd478d"
      },
      "outputs": [
        {
          "name": "stdout",
          "output_type": "stream",
          "text": [
            "text:  b\"This was an absolutely terrible movie. Don't be lured in by Christopher Walken or Michael Ironside. Both are great actors, but this must simply be their worst role in history. Even their great acting could not redeem this movie's ridiculous storyline. This movie is an early nineties US propaganda piece. The most pathetic scenes were those when the Columbian rebels were making their cases for revolutions. Maria Conchita Alonso appeared phony, and her pseudo-love affair with Walken was nothing but a pathetic emotional plug in a movie that was devoid of any real meaning. I am disappointed that there are movies like this, ruining actor's like Christopher Walken's good name. I could barely sit through it.\"\n",
            "label:  0\n"
          ]
        }
      ],
      "source": [
        "for example, label in train_dataset.take(1):\n",
        "  print('text: ', example.numpy())\n",
        "  print('label: ', label.numpy())"
      ]
    },
    {
      "cell_type": "markdown",
      "metadata": {
        "id": "flVrjcrQuVVy"
      },
      "source": [
        "Berikutnya acak data untuk pelatihan dan membuat kumpulan pasangan (teks, label) ini:"
      ]
    },
    {
      "cell_type": "code",
      "execution_count": null,
      "metadata": {
        "colab": {
          "base_uri": "https://localhost:8080/"
        },
        "id": "Xc5cbloguVAo",
        "outputId": "819dddf7-daaa-406d-82d2-0390557c185d"
      },
      "outputs": [
        {
          "name": "stdout",
          "output_type": "stream",
          "text": [
            "texts:  [b\"This Documentary (Now available free on Video.Google.Com) is a fantastic demonstration of the power of ordinary people to overcome injustice. Everyone must see this.<br /><br />Chavez was elected in a landslide vote in 1998. His platform was to divert the fantastic oil wealth from the 20% middle class to the 80% poor. He banned foreign drift net fishing in Venezuelan waters. He sent 10,000 Cuban doctors to the slums to treat the sick for free. He wiped out illiteracy and set up new free Universities. <br /><br />But it was his 30% tax on oil company profits that got him in trouble with the Bush administration. In 2002, while Irish film makers Kim Bartley and Donnacha O'Briain were interviewing Chavez inside the Presidential Palace about his social programs, a CIA backed coup was launched. With the cameras rolling, Chavez was captured and flown out of the country. It was announced on national TV that he had 'resigned'.<br /><br />But the poor of Venezuela didn't believe the media. They went to the Palace in their millions and demanded that Chavez be returned. In the face of such overwhelming numbers, the military turned on the coup leaders and the plotters fled to the US. Chavez was rescued by military helicopter and returned to jubilation.\"\n",
            " b\"I just can't believe that these games can get so much better, but they do. Unfortunately I had to rent a Dreamcast to play it, but even though I did beat it I can't wait to buy it for PS2. This is the only series of games that I must own all of them even if I have beaten them many times over. I hope they never stop making this type of game even if the series must come to an end.<br /><br />\"\n",
            " b'Hayden Christianson and Jessica Alba two of my least favourite actors of this century team up in what is quite possibly the flattest attempt at remake the already dire The Butterfly Effect. Awake is so dull and so utterly uninteresting that you\\'d be better off asleep. Terrance Howard still recovering from the diabolical August Rush puts up a decent fight as the sadistic doctor who seems hell bent on killing Christianson and after viewing his performance I would gladly assists.<br /><br />Alba, still recovering after Fantastic Four Rise of the Silver surfer. Is naturally disastrous and equally unwatchable as she always was. Only once has she ever been rather brilliant at that was in the safe hands of master director Robert Rodriguez in Sin City. Could it possibly be that Jessica alba isn\\'t as poor of an actress as most give her credit for and is is possibly that her acting abilities are being weight down by a poor script. If so then that would explain Awake. What with a script that would shame that of Plan 9 from Outer Space.<br /><br />Jessica Alba, Hayden Christenson, and Terrence Howard star in first-time director/screenwriter Joby Harold\\'s nerve-jangling psychological thriller about a man who experiences the frighteningly common surgical phenomenon known as \"aesthetic awareness,\" in which those laid out on the operating table remain acutely aware of what is going on around them despite remaining completely paralyzed and unable to cry out for help. When a successful young young man (Christenson) goes under the knife and realizes that the anaesthesia hasn\\'t quite done its job, the horror quickly sets in as his worried wife (Alba) waits anxiously and a terrifying drama unfolds in the operating room.<br /><br />Hoping to do for operating tables what Final Destination did for planes, this first effort from director Joby Harold pivots on a blood-frosting conceit. The pre-credits sequence tells us one in 700 people suffers from a phenomenon known as \\'anaesthetic awareness\\', where the patient remains conscious but paralysed during surgery. One such unfortunate individual is Clayton Beresford Jr (Hayden Christensen), who finds himself wide awake during a heart transplant... and he can feel every single slice.<br /><br />Intermittently inventive as it probes away at his tortured psyche, Awake fails to inject true terror into its novel premise. Spiralling from chilling simplicity into absurd conspiracy, it\\'s hindered by stilted turns from Christensen and Jessica Alba. You\\'ll wish you\\'d popped a sedative before watching\\xc2\\x85 <br /><br />VERDICT: Awake is at very best extremely undemanding. A pull no punches film that undoubtedly looked better on paper. As a film though its awfully generic and extremely derived. Awake fails to inject terror into its novel premise. The end result is really quite lousy. Alba and Christian are the very least of your worries as the films main flaw lies in its inability to scare its audience. Awake is a film you\\'ll most likely sleep through.']\n",
            "\n",
            "labels:  [1 1 0]\n"
          ]
        }
      ],
      "source": [
        "BUFFER_SIZE = 10000\n",
        "BATCH_SIZE = 64\n",
        "\n",
        "train_dataset = train_dataset.shuffle(BUFFER_SIZE).batch(BATCH_SIZE).prefetch(tf.data.AUTOTUNE)\n",
        "test_dataset = test_dataset.batch(BATCH_SIZE).prefetch(tf.data.AUTOTUNE)\n",
        "\n",
        "for example, label in train_dataset.take(1):\n",
        "  print('texts: ', example.numpy()[:3])\n",
        "  print()\n",
        "  print('labels: ', label.numpy()[:3])\n"
      ]
    },
    {
      "cell_type": "markdown",
      "metadata": {
        "id": "p45EUZ77ubDX"
      },
      "source": [
        "**Buat Teks Encoder**\n",
        "\n",
        "Teks mentah yang dimuat oleh tfds perlu diproses sebelum dapat digunakan dalam model."
      ]
    },
    {
      "cell_type": "code",
      "execution_count": null,
      "metadata": {
        "id": "ZoRZ2TVUuet0"
      },
      "outputs": [],
      "source": [
        "VOCAB_SIZE = 1000\n",
        "encoder = tf.keras.layers.TextVectorization(\n",
        "    max_tokens=VOCAB_SIZE)\n",
        "encoder.adapt(train_dataset.map(lambda text, label: text))"
      ]
    },
    {
      "cell_type": "markdown",
      "metadata": {
        "id": "A67HblP3um-n"
      },
      "source": [
        "Metode .adapt mengatur kosakata lapisan. 20 token pertama dapat dilihat dengan kode berikut. Setelah padding dan token yang tidak diketahui, mereka diurutkan berdasarkan frekuensi:"
      ]
    },
    {
      "cell_type": "code",
      "execution_count": null,
      "metadata": {
        "colab": {
          "base_uri": "https://localhost:8080/"
        },
        "id": "CE23EZRruptJ",
        "outputId": "3a37607d-e072-4fd5-fb98-0abd6be2d72d"
      },
      "outputs": [
        {
          "data": {
            "text/plain": [
              "array(['', '[UNK]', 'the', 'and', 'a', 'of', 'to', 'is', 'in', 'it', 'i',\n",
              "       'this', 'that', 'br', 'was', 'as', 'for', 'with', 'movie', 'but'],\n",
              "      dtype='<U14')"
            ]
          },
          "execution_count": 7,
          "metadata": {},
          "output_type": "execute_result"
        }
      ],
      "source": [
        "vocab = np.array(encoder.get_vocabulary())\n",
        "vocab[:20]"
      ]
    },
    {
      "cell_type": "markdown",
      "metadata": {
        "id": "uYTYnpXuuwaa"
      },
      "source": [
        "Setelah kosakata diatur, lapisan dapat mengkodekan teks ke dalam indeks. Tensor indeks diberi bantalan 0 ke urutan terpanjang dalam batch (kecuali jika Anda menetapkan output_sequence_length tetap):"
      ]
    },
    {
      "cell_type": "code",
      "execution_count": null,
      "metadata": {
        "colab": {
          "base_uri": "https://localhost:8080/"
        },
        "id": "kP5Q768suxBf",
        "outputId": "fe547e32-9ab7-48ca-fa97-dafed18538c5"
      },
      "outputs": [
        {
          "data": {
            "text/plain": [
              "array([[ 11, 671, 150, ...,   0,   0,   0],\n",
              "       [ 10,  41, 175, ...,   0,   0,   0],\n",
              "       [  1,   1,   3, ...,   0,   0,   0]])"
            ]
          },
          "execution_count": 8,
          "metadata": {},
          "output_type": "execute_result"
        }
      ],
      "source": [
        "encoded_example = encoder(example)[:3].numpy()\n",
        "encoded_example"
      ]
    },
    {
      "cell_type": "markdown",
      "metadata": {
        "id": "27ZG6F4mu2ec"
      },
      "source": [
        "Dengan pengaturan default, prosesnya tidak dapat dibalik sepenuhnya. Ada dua alasan utama untuk itu:\n",
        "\n",
        "- Nilai default untuk argumen standarisasi preprocessing.TextVectorization adalah \"lower_and_strip_punctuation\".\n",
        "- Ukuran kosa kata yang terbatas dan kurangnya fallback berbasis karakter menghasilkan beberapa token yang tidak diketahui."
      ]
    },
    {
      "cell_type": "code",
      "execution_count": null,
      "metadata": {
        "colab": {
          "base_uri": "https://localhost:8080/"
        },
        "id": "gg3PJc2Eu47f",
        "outputId": "30210f13-c9f5-4a72-d2d2-d6c61abcafdd"
      },
      "outputs": [
        {
          "name": "stdout",
          "output_type": "stream",
          "text": [
            "Original:  b\"This Documentary (Now available free on Video.Google.Com) is a fantastic demonstration of the power of ordinary people to overcome injustice. Everyone must see this.<br /><br />Chavez was elected in a landslide vote in 1998. His platform was to divert the fantastic oil wealth from the 20% middle class to the 80% poor. He banned foreign drift net fishing in Venezuelan waters. He sent 10,000 Cuban doctors to the slums to treat the sick for free. He wiped out illiteracy and set up new free Universities. <br /><br />But it was his 30% tax on oil company profits that got him in trouble with the Bush administration. In 2002, while Irish film makers Kim Bartley and Donnacha O'Briain were interviewing Chavez inside the Presidential Palace about his social programs, a CIA backed coup was launched. With the cameras rolling, Chavez was captured and flown out of the country. It was announced on national TV that he had 'resigned'.<br /><br />But the poor of Venezuela didn't believe the media. They went to the Palace in their millions and demanded that Chavez be returned. In the face of such overwhelming numbers, the military turned on the coup leaders and the plotters fled to the US. Chavez was rescued by military helicopter and returned to jubilation.\"\n",
            "Round-trip:  this documentary now [UNK] free on [UNK] is a fantastic [UNK] of the power of [UNK] people to [UNK] [UNK] everyone must see [UNK] br [UNK] was [UNK] in a [UNK] [UNK] in [UNK] his [UNK] was to [UNK] the fantastic [UNK] [UNK] from the 20 middle class to the [UNK] poor he [UNK] [UNK] [UNK] [UNK] [UNK] in [UNK] [UNK] he [UNK] [UNK] [UNK] [UNK] to the [UNK] to [UNK] the [UNK] for free he [UNK] out [UNK] and set up new free [UNK] br br but it was his [UNK] [UNK] on [UNK] [UNK] [UNK] that got him in [UNK] with the [UNK] [UNK] in [UNK] while [UNK] film [UNK] [UNK] [UNK] and [UNK] [UNK] were [UNK] [UNK] inside the [UNK] [UNK] about his [UNK] [UNK] a [UNK] [UNK] [UNK] was [UNK] with the [UNK] [UNK] [UNK] was [UNK] and [UNK] out of the country it was [UNK] on [UNK] tv that he had [UNK] br but the poor of [UNK] didnt believe the [UNK] they went to the [UNK] in their [UNK] and [UNK] that [UNK] be [UNK] in the face of such [UNK] [UNK] the [UNK] turned on the [UNK] [UNK] and the [UNK] [UNK] to the us [UNK] was [UNK] by [UNK] [UNK] and [UNK] to [UNK]                                                                                                                                                                                                                                                                                                                                                                                                                                                                                                                                                                                                                                                                     \n",
            "\n",
            "Original:  b\"I just can't believe that these games can get so much better, but they do. Unfortunately I had to rent a Dreamcast to play it, but even though I did beat it I can't wait to buy it for PS2. This is the only series of games that I must own all of them even if I have beaten them many times over. I hope they never stop making this type of game even if the series must come to an end.<br /><br />\"\n",
            "Round-trip:  i just cant believe that these [UNK] can get so much better but they do unfortunately i had to rent a [UNK] to play it but even though i did [UNK] it i cant wait to buy it for [UNK] this is the only series of [UNK] that i must own all of them even if i have [UNK] them many times over i hope they never stop making this type of game even if the series must come to an [UNK] br                                                                                                                                                                                                                                                                                                                                                                                                                                                                                                                                                                                                                                                                                                                                                                                                      \n",
            "\n",
            "Original:  b'Hayden Christianson and Jessica Alba two of my least favourite actors of this century team up in what is quite possibly the flattest attempt at remake the already dire The Butterfly Effect. Awake is so dull and so utterly uninteresting that you\\'d be better off asleep. Terrance Howard still recovering from the diabolical August Rush puts up a decent fight as the sadistic doctor who seems hell bent on killing Christianson and after viewing his performance I would gladly assists.<br /><br />Alba, still recovering after Fantastic Four Rise of the Silver surfer. Is naturally disastrous and equally unwatchable as she always was. Only once has she ever been rather brilliant at that was in the safe hands of master director Robert Rodriguez in Sin City. Could it possibly be that Jessica alba isn\\'t as poor of an actress as most give her credit for and is is possibly that her acting abilities are being weight down by a poor script. If so then that would explain Awake. What with a script that would shame that of Plan 9 from Outer Space.<br /><br />Jessica Alba, Hayden Christenson, and Terrence Howard star in first-time director/screenwriter Joby Harold\\'s nerve-jangling psychological thriller about a man who experiences the frighteningly common surgical phenomenon known as \"aesthetic awareness,\" in which those laid out on the operating table remain acutely aware of what is going on around them despite remaining completely paralyzed and unable to cry out for help. When a successful young young man (Christenson) goes under the knife and realizes that the anaesthesia hasn\\'t quite done its job, the horror quickly sets in as his worried wife (Alba) waits anxiously and a terrifying drama unfolds in the operating room.<br /><br />Hoping to do for operating tables what Final Destination did for planes, this first effort from director Joby Harold pivots on a blood-frosting conceit. The pre-credits sequence tells us one in 700 people suffers from a phenomenon known as \\'anaesthetic awareness\\', where the patient remains conscious but paralysed during surgery. One such unfortunate individual is Clayton Beresford Jr (Hayden Christensen), who finds himself wide awake during a heart transplant... and he can feel every single slice.<br /><br />Intermittently inventive as it probes away at his tortured psyche, Awake fails to inject true terror into its novel premise. Spiralling from chilling simplicity into absurd conspiracy, it\\'s hindered by stilted turns from Christensen and Jessica Alba. You\\'ll wish you\\'d popped a sedative before watching\\xc2\\x85 <br /><br />VERDICT: Awake is at very best extremely undemanding. A pull no punches film that undoubtedly looked better on paper. As a film though its awfully generic and extremely derived. Awake fails to inject terror into its novel premise. The end result is really quite lousy. Alba and Christian are the very least of your worries as the films main flaw lies in its inability to scare its audience. Awake is a film you\\'ll most likely sleep through.'\n",
            "Round-trip:  [UNK] [UNK] and [UNK] [UNK] two of my least [UNK] actors of this [UNK] team up in what is quite possibly the [UNK] attempt at remake the already [UNK] the [UNK] effect [UNK] is so dull and so [UNK] [UNK] that [UNK] be better off [UNK] [UNK] [UNK] still [UNK] from the [UNK] [UNK] [UNK] [UNK] up a decent fight as the [UNK] [UNK] who seems hell [UNK] on killing [UNK] and after viewing his performance i would [UNK] [UNK] br [UNK] still [UNK] after fantastic four [UNK] of the [UNK] [UNK] is [UNK] [UNK] and [UNK] [UNK] as she always was only once has she ever been rather brilliant at that was in the [UNK] hands of [UNK] director robert [UNK] in [UNK] city could it possibly be that [UNK] [UNK] isnt as poor of an actress as most give her [UNK] for and is is possibly that her acting [UNK] are being [UNK] down by a poor script if so then that would [UNK] [UNK] what with a script that would shame that of [UNK] [UNK] from [UNK] [UNK] br [UNK] [UNK] [UNK] [UNK] and [UNK] [UNK] star in [UNK] [UNK] [UNK] [UNK] [UNK] [UNK] thriller about a man who [UNK] the [UNK] [UNK] [UNK] [UNK] known as [UNK] [UNK] in which those [UNK] out on the [UNK] [UNK] [UNK] [UNK] [UNK] of what is going on around them despite [UNK] completely [UNK] and [UNK] to [UNK] out for help when a [UNK] young young man [UNK] goes under the [UNK] and [UNK] that the [UNK] [UNK] quite done its job the horror quickly sets in as his [UNK] wife [UNK] [UNK] [UNK] and a [UNK] drama [UNK] in the [UNK] [UNK] br [UNK] to do for [UNK] [UNK] what final [UNK] did for [UNK] this first effort from director [UNK] [UNK] [UNK] on a [UNK] [UNK] the [UNK] sequence tells us one in [UNK] people [UNK] from a [UNK] known as [UNK] [UNK] where the [UNK] [UNK] [UNK] but [UNK] during [UNK] one such [UNK] [UNK] is [UNK] [UNK] [UNK] [UNK] [UNK] who finds himself [UNK] [UNK] during a heart [UNK] and he can feel every single [UNK] br [UNK] [UNK] as it [UNK] away at his [UNK] [UNK] [UNK] fails to [UNK] true [UNK] into its novel premise [UNK] from [UNK] [UNK] into [UNK] [UNK] its [UNK] by [UNK] turns from [UNK] and [UNK] [UNK] youll wish [UNK] [UNK] a [UNK] before [UNK] br br [UNK] [UNK] is at very best extremely [UNK] a [UNK] no [UNK] film that [UNK] looked better on [UNK] as a film though its [UNK] [UNK] and extremely [UNK] [UNK] fails to [UNK] [UNK] into its novel premise the end result is really quite [UNK] [UNK] and [UNK] are the very least of your [UNK] as the films main [UNK] [UNK] in its [UNK] to [UNK] its audience [UNK] is a film youll most [UNK] [UNK] through                                                                                                                                                                                                                                                                                                                                                                                   \n",
            "\n"
          ]
        }
      ],
      "source": [
        "for n in range(3):\n",
        "  print(\"Original: \", example[n].numpy())\n",
        "  print(\"Round-trip: \", \" \".join(vocab[encoded_example[n]]))\n",
        "  print()"
      ]
    },
    {
      "cell_type": "markdown",
      "metadata": {
        "id": "I100yMghvBb0"
      },
      "source": [
        "**Buat Model**\n",
        "\n",
        "diagram model dapat dilihat pada gambar diatas\n",
        "1. Model ini dapat dibuat sebagai tf.keras.Sequential.\n",
        "2. Lapisan pertama adalah encoder, yang mengubah teks menjadi urutan indeks token.\n",
        "3. Setelah encoder adalah lapisan penyematan (embedding layer). Lapisan penyematan menyimpan satu vektor per kata. Saat dipanggil, ini mengubah rangkaian indeks kata menjadi rangkaian vektor. Vektor-vektor ini dapat dilatih. Setelah pelatihan (dengan data yang cukup), kata-kata dengan arti yang mirip sering kali memiliki vektor yang serupa. Pencarian indeks ini jauh lebih efisien daripada operasi setara dengan meneruskan vektor yang disandikan one-hot melalui lapisan tf.keras.layers.Dense.\n",
        "4. Jaringan saraf berulang (RNN) memproses masukan urutan dengan melakukan iterasi melalui elemen. RNN meneruskan keluaran dari satu langkah waktu ke masukannya pada langkah waktu berikutnya.\n",
        "Pembungkus tf.keras.layers.Bidirection juga dapat digunakan dengan lapisan RNN. Ini menyebarkan masukan maju dan mundur melalui lapisan RNN dan kemudian menggabungkan keluaran akhir.\n",
        "    - Keuntungan utama RNN dua arah adalah sinyal dari awal masukan tidak perlu diproses sepanjang waktu untuk memengaruhi keluaran.\n",
        "    - Kerugian utama dari RNN dua arah adalah Anda tidak dapat melakukan streaming prediksi secara efisien saat kata-kata ditambahkan di akhir.\n",
        "5. Setelah RNN mengonversi urutan menjadi satu vektor, kedua lapisan tersebut.Dense melakukan beberapa pemrosesan akhir, dan mengonversi representasi vektor ini menjadi logit tunggal sebagai keluaran klasifikasi.\n",
        "\n",
        "Kode nya adalah sebagai berikut :"
      ]
    },
    {
      "cell_type": "code",
      "execution_count": null,
      "metadata": {
        "id": "7AMoS1C0vEJi"
      },
      "outputs": [],
      "source": [
        "model = tf.keras.Sequential([\n",
        "    encoder,\n",
        "    tf.keras.layers.Embedding(\n",
        "        input_dim=len(encoder.get_vocabulary()),\n",
        "        output_dim=64,\n",
        "        # Use masking to handle the variable sequence lengths\n",
        "        mask_zero=True),\n",
        "    tf.keras.layers.Bidirectional(tf.keras.layers.LSTM(64)),\n",
        "    tf.keras.layers.Dense(64, activation='relu'),\n",
        "    tf.keras.layers.Dense(1)\n",
        "])"
      ]
    },
    {
      "cell_type": "markdown",
      "metadata": {
        "id": "3lhOl7u8IGSM"
      },
      "source": [
        "**penjelasan**:\n",
        "- tf.keras.layers.Embedding: Lapisan embedding yang memetakan setiap token (atau kata) dalam teks ke dalam ruang vektor berdimensi 64.\n",
        "- input_dim digunakan untuk menentukan jumlah token yang mungkin\n",
        "- output_dim adalah dimensi dari vektor embedding yang dihasilkan.\n",
        "\n",
        "Model ini dapat digunakan untuk tugas yang melibatkan pemrosesan teks dan prediksi nilai kontinu\n"
      ]
    },
    {
      "cell_type": "markdown",
      "metadata": {
        "id": "5W64FcZ2vMNm"
      },
      "source": [
        "Model sekuensial Keras digunakan di sini karena semua lapisan dalam model hanya memiliki masukan tunggal dan menghasilkan keluaran tunggal.\n",
        "\n",
        "Jika Anda ingin menggunakan lapisan RNN stateful, Anda mungkin ingin membangun model Anda dengan API fungsional Keras atau subkelas model sehingga Anda dapat mengambil dan menggunakan kembali status lapisan RNN.\n",
        "\n",
        "Untuk detailnya bisa dilihat pada Keras RNN guide\n",
        "\n",
        "Lapisan penyematan menggunakan masking (uses masking ) untuk menangani panjang urutan yang bervariasi. Semua lapisan setelah penyematan dukungan penyematan"
      ]
    },
    {
      "cell_type": "code",
      "execution_count": null,
      "metadata": {
        "colab": {
          "base_uri": "https://localhost:8080/"
        },
        "id": "-WadI0IPvVSt",
        "outputId": "24a1cbed-58ec-48d9-f1d3-07ee3894319a"
      },
      "outputs": [
        {
          "name": "stdout",
          "output_type": "stream",
          "text": [
            "[False, True, True, True, True]\n"
          ]
        }
      ],
      "source": [
        "print([layer.supports_masking for layer in model.layers])"
      ]
    },
    {
      "cell_type": "markdown",
      "metadata": {
        "id": "Umx6OAD0vXsb"
      },
      "source": [
        "Untuk memastikan bahwa ini berfungsi seperti yang diharapkan, evaluasi sebuah kalimat dua kali. Pertama, satu kalimat sehingga tidak ada bantalan (padding) untuk disamarkan:"
      ]
    },
    {
      "cell_type": "code",
      "execution_count": null,
      "metadata": {
        "colab": {
          "base_uri": "https://localhost:8080/"
        },
        "id": "FisfRcqSvXTM",
        "outputId": "e1279f4f-7928-4257-de11-f24154fe5fa2"
      },
      "outputs": [
        {
          "name": "stdout",
          "output_type": "stream",
          "text": [
            "1/1 [==============================] - 7s 7s/step\n",
            "[0.00028764]\n"
          ]
        }
      ],
      "source": [
        "# predict on a sample text without padding.\n",
        "\n",
        "sample_text = ('The movie was cool. The animation and the graphics '\n",
        "               'were out of this world. I would recommend this movie.')\n",
        "predictions = model.predict(np.array([sample_text]))\n",
        "print(predictions[0])"
      ]
    },
    {
      "cell_type": "markdown",
      "metadata": {
        "id": "wmbGf3x1veBy"
      },
      "source": [
        "Evaluasi lagi dalam batch dengan kalimat yang lebih panjang. Hasilnya harus sama:"
      ]
    },
    {
      "cell_type": "code",
      "execution_count": null,
      "metadata": {
        "colab": {
          "base_uri": "https://localhost:8080/"
        },
        "id": "PqnDFPL-vf4_",
        "outputId": "28df3d32-ece5-4007-e76b-46b85e74fef6"
      },
      "outputs": [
        {
          "name": "stdout",
          "output_type": "stream",
          "text": [
            "1/1 [==============================] - 0s 61ms/step\n",
            "[0.00028764]\n"
          ]
        }
      ],
      "source": [
        "# predict on a sample text with padding\n",
        "\n",
        "padding = \"the \" * 2000\n",
        "predictions = model.predict(np.array([sample_text, padding]))\n",
        "print(predictions[0])"
      ]
    },
    {
      "cell_type": "markdown",
      "metadata": {
        "id": "5BprhP4Dvj_x"
      },
      "source": [
        "compile model Keras untuk mengonfigurasi proses pelatihan:"
      ]
    },
    {
      "cell_type": "code",
      "execution_count": null,
      "metadata": {
        "id": "Dfa8xUmkvkkM"
      },
      "outputs": [],
      "source": [
        "model.compile(loss=tf.keras.losses.BinaryCrossentropy(from_logits=True),\n",
        "              optimizer=tf.keras.optimizers.Adam(1e-4),\n",
        "              metrics=['accuracy'])"
      ]
    },
    {
      "cell_type": "markdown",
      "metadata": {
        "id": "SA9hvAevvmql"
      },
      "source": [
        "**Train Model**"
      ]
    },
    {
      "cell_type": "code",
      "execution_count": null,
      "metadata": {
        "colab": {
          "base_uri": "https://localhost:8080/"
        },
        "id": "cA0G3v1Gvo63",
        "outputId": "fc3b5b69-6092-4421-dc7c-d3ba2c91444c"
      },
      "outputs": [
        {
          "name": "stdout",
          "output_type": "stream",
          "text": [
            "Epoch 1/10\n",
            "391/391 [==============================] - 52s 102ms/step - loss: 0.6379 - accuracy: 0.5648 - val_loss: 0.4918 - val_accuracy: 0.7557\n",
            "Epoch 2/10\n",
            "391/391 [==============================] - 28s 70ms/step - loss: 0.4188 - accuracy: 0.8088 - val_loss: 0.3959 - val_accuracy: 0.8250\n",
            "Epoch 3/10\n",
            "391/391 [==============================] - 25s 64ms/step - loss: 0.3554 - accuracy: 0.8451 - val_loss: 0.3503 - val_accuracy: 0.8500\n",
            "Epoch 4/10\n",
            "391/391 [==============================] - 26s 65ms/step - loss: 0.3330 - accuracy: 0.8574 - val_loss: 0.3412 - val_accuracy: 0.8599\n",
            "Epoch 5/10\n",
            "391/391 [==============================] - 25s 64ms/step - loss: 0.3174 - accuracy: 0.8646 - val_loss: 0.3385 - val_accuracy: 0.8641\n",
            "Epoch 6/10\n",
            "391/391 [==============================] - 24s 61ms/step - loss: 0.3110 - accuracy: 0.8678 - val_loss: 0.3442 - val_accuracy: 0.8391\n",
            "Epoch 7/10\n",
            "391/391 [==============================] - 25s 62ms/step - loss: 0.3055 - accuracy: 0.8696 - val_loss: 0.3421 - val_accuracy: 0.8594\n",
            "Epoch 8/10\n",
            "391/391 [==============================] - 25s 63ms/step - loss: 0.3024 - accuracy: 0.8720 - val_loss: 0.3198 - val_accuracy: 0.8604\n",
            "Epoch 9/10\n",
            "391/391 [==============================] - 25s 64ms/step - loss: 0.3009 - accuracy: 0.8723 - val_loss: 0.3227 - val_accuracy: 0.8562\n",
            "Epoch 10/10\n",
            "391/391 [==============================] - 25s 64ms/step - loss: 0.2960 - accuracy: 0.8751 - val_loss: 0.3315 - val_accuracy: 0.8630\n"
          ]
        }
      ],
      "source": [
        "history = model.fit(train_dataset, epochs=10,validation_data=test_dataset,validation_steps=30)"
      ]
    },
    {
      "cell_type": "code",
      "execution_count": null,
      "metadata": {
        "colab": {
          "base_uri": "https://localhost:8080/"
        },
        "id": "uMjjK2Rbv09L",
        "outputId": "111deb8c-d22f-493d-b5b1-361056001ac8"
      },
      "outputs": [
        {
          "name": "stdout",
          "output_type": "stream",
          "text": [
            "391/391 [==============================] - 17s 43ms/step - loss: 0.3298 - accuracy: 0.8618\n",
            "Test Loss: 0.3298164904117584\n",
            "Test Accuracy: 0.8617600202560425\n"
          ]
        }
      ],
      "source": [
        "test_loss, test_acc = model.evaluate(test_dataset)\n",
        "\n",
        "print('Test Loss:', test_loss)\n",
        "print('Test Accuracy:', test_acc)"
      ]
    },
    {
      "cell_type": "code",
      "execution_count": null,
      "metadata": {
        "colab": {
          "base_uri": "https://localhost:8080/",
          "height": 363
        },
        "id": "0LyjhTqrv28-",
        "outputId": "510285cb-0c75-4041-9f95-f3cff8f207da"
      },
      "outputs": [
        {
          "data": {
            "text/plain": [
              "(0.0, 0.6550392925739288)"
            ]
          },
          "execution_count": 17,
          "metadata": {},
          "output_type": "execute_result"
        },
        {
          "data": {
            "image/png": "[encoded data removed]",
            "text/plain": [
              "<Figure size 1600x800 with 2 Axes>"
            ]
          },
          "metadata": {},
          "output_type": "display_data"
        }
      ],
      "source": [
        "plt.figure(figsize=(16, 8))\n",
        "plt.subplot(1, 2, 1)\n",
        "plot_graphs(history, 'accuracy')\n",
        "plt.ylim(None, 1)\n",
        "plt.subplot(1, 2, 2)\n",
        "plot_graphs(history, 'loss')\n",
        "plt.ylim(0, None)"
      ]
    },
    {
      "cell_type": "markdown",
      "metadata": {
        "id": "SMg3YZ9LwZ6P"
      },
      "source": [
        "Jalankan prediksi pada kalimat baru:\n",
        "\n",
        "Jika prediksi >= 0,0 berarti positif, jika tidak maka negatif."
      ]
    },
    {
      "cell_type": "code",
      "execution_count": null,
      "metadata": {
        "colab": {
          "base_uri": "https://localhost:8080/"
        },
        "id": "lfuQJHE6wb9r",
        "outputId": "b3c9c3e7-744e-4812-d98c-e0dddb970a7a"
      },
      "outputs": [
        {
          "name": "stdout",
          "output_type": "stream",
          "text": [
            "1/1 [==============================] - 3s 3s/step\n"
          ]
        }
      ],
      "source": [
        "sample_text = ('The movie was cool. The animation and the graphics '\n",
        "                'were out of this world. I would recommend this movie.')\n",
        "predictions = model.predict(np.array([sample_text]))"
      ]
    },
    {
      "cell_type": "markdown",
      "metadata": {
        "id": "8cBOg0GPlq9e"
      },
      "source": [
        "**Stack two or more LSTM layers**"
      ]
    },
    {
      "cell_type": "markdown",
      "metadata": {
        "id": "Q_D9t5r1lvOq"
      },
      "source": [
        "Hal yang menarik dari penggunaan RNN dengan return_sequences=True adalah outputnya masih memiliki 3 axis, sama seperti inputnya, sehingga bisa diteruskan ke layer RNN lain, seperti ini:"
      ]
    },
    {
      "cell_type": "code",
      "execution_count": null,
      "metadata": {
        "id": "kV7eYzpulyj1"
      },
      "outputs": [],
      "source": [
        "model = tf.keras.Sequential([\n",
        "    encoder,\n",
        "    tf.keras.layers.Embedding(len(encoder.get_vocabulary()), 64, mask_zero=True),\n",
        "    tf.keras.layers.Bidirectional(tf.keras.layers.LSTM(64, return_sequences=True)),\n",
        "    tf.keras.layers.Bidirectional(tf.keras.layers.LSTM(32)),\n",
        "    tf.keras.layers.Dense(64, activation='relu'),\n",
        "    tf.keras.layers.Dropout(0.5),\n",
        "    tf.keras.layers.Dense(1)\n",
        "])"
      ]
    },
    {
      "cell_type": "code",
      "execution_count": null,
      "metadata": {
        "id": "5Jbhhfukl_yV"
      },
      "outputs": [],
      "source": [
        "model.compile(loss=tf.keras.losses.BinaryCrossentropy(from_logits=True),\n",
        "              optimizer=tf.keras.optimizers.Adam(1e-4),\n",
        "              metrics=['accuracy'])"
      ]
    },
    {
      "cell_type": "code",
      "execution_count": null,
      "metadata": {
        "colab": {
          "base_uri": "https://localhost:8080/"
        },
        "id": "VG6ZMORhmHAZ",
        "outputId": "08cdff27-5e14-4aa2-da8e-574d21b9d166"
      },
      "outputs": [
        {
          "name": "stdout",
          "output_type": "stream",
          "text": [
            "Epoch 1/10\n",
            "391/391 [==============================] - 80s 157ms/step - loss: 0.6090 - accuracy: 0.5972 - val_loss: 0.4140 - val_accuracy: 0.8193\n",
            "Epoch 2/10\n",
            "391/391 [==============================] - 46s 116ms/step - loss: 0.3720 - accuracy: 0.8375 - val_loss: 0.3470 - val_accuracy: 0.8417\n",
            "Epoch 3/10\n",
            "391/391 [==============================] - 45s 114ms/step - loss: 0.3321 - accuracy: 0.8559 - val_loss: 0.3331 - val_accuracy: 0.8490\n",
            "Epoch 4/10\n",
            "391/391 [==============================] - 47s 121ms/step - loss: 0.3160 - accuracy: 0.8647 - val_loss: 0.3448 - val_accuracy: 0.8562\n",
            "Epoch 5/10\n",
            "391/391 [==============================] - 47s 120ms/step - loss: 0.3122 - accuracy: 0.8658 - val_loss: 0.3336 - val_accuracy: 0.8354\n",
            "Epoch 6/10\n",
            "391/391 [==============================] - 48s 121ms/step - loss: 0.3035 - accuracy: 0.8695 - val_loss: 0.3304 - val_accuracy: 0.8599\n",
            "Epoch 7/10\n",
            "391/391 [==============================] - 48s 121ms/step - loss: 0.3012 - accuracy: 0.8698 - val_loss: 0.3251 - val_accuracy: 0.8547\n",
            "Epoch 8/10\n",
            "391/391 [==============================] - 45s 114ms/step - loss: 0.2988 - accuracy: 0.8693 - val_loss: 0.3238 - val_accuracy: 0.8630\n",
            "Epoch 9/10\n",
            "391/391 [==============================] - 46s 118ms/step - loss: 0.2955 - accuracy: 0.8730 - val_loss: 0.3448 - val_accuracy: 0.8344\n",
            "Epoch 10/10\n",
            "391/391 [==============================] - 45s 115ms/step - loss: 0.2954 - accuracy: 0.8721 - val_loss: 0.3213 - val_accuracy: 0.8526\n"
          ]
        }
      ],
      "source": [
        "history = model.fit(train_dataset, epochs=10,\n",
        "                    validation_data=test_dataset,\n",
        "                    validation_steps=30)"
      ]
    },
    {
      "cell_type": "code",
      "execution_count": null,
      "metadata": {
        "colab": {
          "base_uri": "https://localhost:8080/"
        },
        "id": "OnU5FWSdpLBZ",
        "outputId": "3a079c7a-7be9-4e31-d281-890e896d21de"
      },
      "outputs": [
        {
          "name": "stdout",
          "output_type": "stream",
          "text": [
            "391/391 [==============================] - 20s 51ms/step - loss: 0.3162 - accuracy: 0.8578\n",
            "Test Loss: 0.316239595413208\n",
            "Test Accuracy: 0.8577600121498108\n"
          ]
        }
      ],
      "source": [
        "test_loss, test_acc = model.evaluate(test_dataset)\n",
        "\n",
        "print('Test Loss:', test_loss)\n",
        "print('Test Accuracy:', test_acc)"
      ]
    },
    {
      "cell_type": "code",
      "execution_count": null,
      "metadata": {
        "colab": {
          "base_uri": "https://localhost:8080/"
        },
        "id": "T3Co7FGQpSm1",
        "outputId": "37846768-8a4d-46ed-eb0a-fd5c7a43b649"
      },
      "outputs": [
        {
          "name": "stdout",
          "output_type": "stream",
          "text": [
            "1/1 [==============================] - 5s 5s/step\n",
            "[[-1.9666377]]\n"
          ]
        }
      ],
      "source": [
        "# predict on a sample text without padding.\n",
        "\n",
        "sample_text = ('The movie was not good. The animation and the graphics '\n",
        "              'were terrible. I would not recommend this movie.')\n",
        "predictions = model.predict(np.array([sample_text]))\n",
        "print(predictions)"
      ]
    },
    {
      "cell_type": "code",
      "execution_count": null,
      "metadata": {
        "colab": {
          "base_uri": "https://localhost:8080/",
          "height": 267
        },
        "id": "rwlQrBFwpWnw",
        "outputId": "875470d7-5068-400d-fe47-6431daea66de"
      },
      "outputs": [
        {
          "data": {
            "image/png": "[encoded data removed]",
            "text/plain": [
              "<Figure size 1600x600 with 2 Axes>"
            ]
          },
          "metadata": {},
          "output_type": "display_data"
        }
      ],
      "source": [
        "plt.figure(figsize=(16, 6))\n",
        "plt.subplot(1, 2, 1)\n",
        "plot_graphs(history, 'accuracy')\n",
        "plt.subplot(1, 2, 2)\n",
        "plot_graphs(history, 'loss')"
      ]
    }
  ],
  "metadata": {
    "accelerator": "GPU",
    "colab": {
      "gpuType": "T4",
      "provenance": []
    },
    "kernelspec": {
      "display_name": "Python 3",
      "name": "python3"
    },
    "language_info": {
      "name": "python"
    }
  },
  "nbformat": 4,
  "nbformat_minor": 0
}
