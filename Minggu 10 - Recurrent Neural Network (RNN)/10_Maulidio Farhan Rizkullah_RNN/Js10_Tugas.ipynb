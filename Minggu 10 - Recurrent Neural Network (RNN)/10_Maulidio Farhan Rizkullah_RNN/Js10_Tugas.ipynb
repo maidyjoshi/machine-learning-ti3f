{
  "nbformat": 4,
  "nbformat_minor": 0,
  "metadata": {
    "colab": {
      "provenance": [],
      "gpuType": "T4"
    },
    "kernelspec": {
      "name": "python3",
      "display_name": "Python 3"
    },
    "language_info": {
      "name": "python"
    },
    "accelerator": "GPU"
  },
  "cells": [
    {
      "cell_type": "markdown",
      "source": [
        "### Maulidio Farhan Rizkullah\n",
        "### 2141720041\n",
        "### 19\n",
        "### 3F"
      ],
      "metadata": {
        "id": "4Krchrk396j-"
      }
    },
    {
      "cell_type": "markdown",
      "source": [
        "### Kode Pada Praktikum 2"
      ],
      "metadata": {
        "id": "Jvp1eONgCrMv"
      }
    },
    {
      "cell_type": "code",
      "execution_count": 3,
      "metadata": {
        "id": "Ve0qle0LvIid"
      },
      "outputs": [],
      "source": [
        "# import library\n",
        "import tensorflow as tf\n",
        "import numpy as np\n",
        "import os\n",
        "import time"
      ]
    },
    {
      "cell_type": "code",
      "source": [
        "# Mendapatkan path file untuk dataset Shakespeare dari URL\n",
        "path_to_file = tf.keras.utils.get_file('shakespeare.txt', 'https://storage.googleapis.com/download.tensorflow.org/data/shakespeare.txt')\n"
      ],
      "metadata": {
        "colab": {
          "base_uri": "https://localhost:8080/"
        },
        "id": "CYRQEgogyj5w",
        "outputId": "4361d3a5-87cf-4b29-ce78-5fa64986c863"
      },
      "execution_count": 4,
      "outputs": [
        {
          "output_type": "stream",
          "name": "stdout",
          "text": [
            "Downloading data from https://storage.googleapis.com/download.tensorflow.org/data/shakespeare.txt\n",
            "1115394/1115394 [==============================] - 0s 0us/step\n"
          ]
        }
      ]
    },
    {
      "cell_type": "code",
      "source": [
        "# Membaca isi file dan mendekodekannya sebagai teks dengan encoding utf-8\n",
        "text = open(path_to_file, 'rb').read().decode(encoding='utf-8')\n",
        "\n",
        "# Mencetak panjang teks dalam karakter\n",
        "print(f'Length of text: {len(text)} characters')\n"
      ],
      "metadata": {
        "colab": {
          "base_uri": "https://localhost:8080/"
        },
        "id": "O2eJzaQiypr4",
        "outputId": "b8424343-0586-4b9e-b72f-2c32c9a9903b"
      },
      "execution_count": 5,
      "outputs": [
        {
          "output_type": "stream",
          "name": "stdout",
          "text": [
            "Length of text: 1115394 characters\n"
          ]
        }
      ]
    },
    {
      "cell_type": "code",
      "source": [
        "# Mencetak 250 karakter pertama dari teks\n",
        "print(text[:250])\n"
      ],
      "metadata": {
        "colab": {
          "base_uri": "https://localhost:8080/"
        },
        "id": "s4t2AMl-y4vF",
        "outputId": "f9ba3738-b0e3-4447-9a9d-c35c4d08a7d0"
      },
      "execution_count": 6,
      "outputs": [
        {
          "output_type": "stream",
          "name": "stdout",
          "text": [
            "First Citizen:\n",
            "Before we proceed any further, hear me speak.\n",
            "\n",
            "All:\n",
            "Speak, speak.\n",
            "\n",
            "First Citizen:\n",
            "You are all resolved rather to die than to famish?\n",
            "\n",
            "All:\n",
            "Resolved. resolved.\n",
            "\n",
            "First Citizen:\n",
            "First, you know Caius Marcius is chief enemy to the people.\n",
            "\n"
          ]
        }
      ]
    },
    {
      "cell_type": "code",
      "source": [
        "# Membuat kamus dari karakter unik dalam teks dan mengurutkannya\n",
        "vocab = sorted(set(text))\n",
        "\n",
        "# Mencetak jumlah karakter unik dalam teks\n",
        "print(f'{len(vocab)} unique characters')\n"
      ],
      "metadata": {
        "colab": {
          "base_uri": "https://localhost:8080/"
        },
        "id": "noGB_wl5zDQh",
        "outputId": "d3451d18-67b3-4b1a-9e22-52fa39c1a33b"
      },
      "execution_count": 7,
      "outputs": [
        {
          "output_type": "stream",
          "name": "stdout",
          "text": [
            "65 unique characters\n"
          ]
        }
      ]
    },
    {
      "cell_type": "code",
      "source": [
        "# Memecah teks contoh menjadi karakter-karakter menggunakan Unicode split\n",
        "example_texts = ['abcdefg', 'xyz']\n",
        "chars = tf.strings.unicode_split(example_texts, input_encoding='UTF-8')\n",
        "\n",
        "# Menampilkan hasil pemecahan karakter\n",
        "chars\n"
      ],
      "metadata": {
        "colab": {
          "base_uri": "https://localhost:8080/"
        },
        "id": "jT1uGmV2zL2z",
        "outputId": "9428894c-a116-443b-8df8-5fe204403b38"
      },
      "execution_count": 8,
      "outputs": [
        {
          "output_type": "execute_result",
          "data": {
            "text/plain": [
              "<tf.RaggedTensor [[b'a', b'b', b'c', b'd', b'e', b'f', b'g'], [b'x', b'y', b'z']]>"
            ]
          },
          "metadata": {},
          "execution_count": 8
        }
      ]
    },
    {
      "cell_type": "code",
      "source": [
        "# Membuat layer StringLookup untuk mengonversi karakter menjadi ID\n",
        "ids_from_chars = tf.keras.layers.StringLookup(\n",
        "    vocabulary=list(vocab),\n",
        "    mask_token=None\n",
        ")\n"
      ],
      "metadata": {
        "id": "Jw5A59ktzUzg"
      },
      "execution_count": 9,
      "outputs": []
    },
    {
      "cell_type": "code",
      "source": [
        "# Menggunakan layer StringLookup untuk mengonversi karakter menjadi ID\n",
        "ids = ids_from_chars(chars)\n",
        "\n",
        "# Menampilkan hasil konversi\n",
        "ids\n"
      ],
      "metadata": {
        "colab": {
          "base_uri": "https://localhost:8080/"
        },
        "id": "w0a6Lcggzd8-",
        "outputId": "b6b83678-141a-4d42-964b-a5a7b6a01d85"
      },
      "execution_count": 10,
      "outputs": [
        {
          "output_type": "execute_result",
          "data": {
            "text/plain": [
              "<tf.RaggedTensor [[40, 41, 42, 43, 44, 45, 46], [63, 64, 65]]>"
            ]
          },
          "metadata": {},
          "execution_count": 10
        }
      ]
    },
    {
      "cell_type": "code",
      "source": [
        "# Membuat layer StringLookup untuk mengonversi ID kembali menjadi karakter\n",
        "chars_from_ids = tf.keras.layers.StringLookup(\n",
        "    vocabulary=ids_from_chars.get_vocabulary(),\n",
        "    invert=True,\n",
        "    mask_token=None\n",
        ")\n"
      ],
      "metadata": {
        "id": "dT7i7udFznxz"
      },
      "execution_count": 11,
      "outputs": []
    },
    {
      "cell_type": "code",
      "source": [
        "# Menggunakan layer StringLookup untuk mengonversi ID kembali menjadi karakter\n",
        "chars = chars_from_ids(ids)\n",
        "\n",
        "# Menampilkan hasil konversi\n",
        "chars\n"
      ],
      "metadata": {
        "colab": {
          "base_uri": "https://localhost:8080/"
        },
        "id": "iqiB1bhFzs4L",
        "outputId": "40f2d81a-89e9-4e08-dd88-d8b89c1878d1"
      },
      "execution_count": 12,
      "outputs": [
        {
          "output_type": "execute_result",
          "data": {
            "text/plain": [
              "<tf.RaggedTensor [[b'a', b'b', b'c', b'd', b'e', b'f', b'g'], [b'x', b'y', b'z']]>"
            ]
          },
          "metadata": {},
          "execution_count": 12
        }
      ]
    },
    {
      "cell_type": "code",
      "source": [
        "# Menggunakan tf.strings.reduce_join untuk menggabungkan karakter-karakter kembali menjadi teks\n",
        "tf.strings.reduce_join(chars, axis=-1).numpy()\n"
      ],
      "metadata": {
        "colab": {
          "base_uri": "https://localhost:8080/"
        },
        "id": "x3e8vnYEz0Ak",
        "outputId": "6b89faa1-bf59-4b3a-9079-d6cf84343635"
      },
      "execution_count": 13,
      "outputs": [
        {
          "output_type": "execute_result",
          "data": {
            "text/plain": [
              "array([b'abcdefg', b'xyz'], dtype=object)"
            ]
          },
          "metadata": {},
          "execution_count": 13
        }
      ]
    },
    {
      "cell_type": "code",
      "source": [
        "# Mendefinisikan fungsi untuk mengonversi ID kembali menjadi teks\n",
        "def text_from_ids(ids):\n",
        "    return tf.strings.reduce_join(chars_from_ids(ids), axis=-1)\n"
      ],
      "metadata": {
        "id": "cjSZvUH2z5u3"
      },
      "execution_count": 14,
      "outputs": []
    },
    {
      "cell_type": "code",
      "source": [
        "# Menggunakan layer StringLookup untuk mengonversi semua karakter dalam teks menjadi ID\n",
        "all_ids = ids_from_chars(tf.strings.unicode_split(text, 'UTF-8'))\n",
        "\n",
        "# Menampilkan hasil konversi\n",
        "all_ids\n"
      ],
      "metadata": {
        "colab": {
          "base_uri": "https://localhost:8080/"
        },
        "id": "X_8uxGqbz-ok",
        "outputId": "bc56dd97-99f1-42cb-82c7-2d589e700bad"
      },
      "execution_count": 15,
      "outputs": [
        {
          "output_type": "execute_result",
          "data": {
            "text/plain": [
              "<tf.Tensor: shape=(1115394,), dtype=int64, numpy=array([19, 48, 57, ..., 46,  9,  1])>"
            ]
          },
          "metadata": {},
          "execution_count": 15
        }
      ]
    },
    {
      "cell_type": "code",
      "source": [
        "# Membuat dataset dari tensor ID\n",
        "ids_dataset = tf.data.Dataset.from_tensor_slices(all_ids)\n"
      ],
      "metadata": {
        "id": "VNsi2uIB0ad0"
      },
      "execution_count": 16,
      "outputs": []
    },
    {
      "cell_type": "code",
      "source": [
        "# Menampilkan karakter-karakter pertama dalam 10 tensor ID\n",
        "for ids in ids_dataset.take(10):\n",
        "    print(chars_from_ids(ids).numpy().decode('utf-8'))"
      ],
      "metadata": {
        "colab": {
          "base_uri": "https://localhost:8080/"
        },
        "id": "nKpwapXu0e8N",
        "outputId": "af970e3a-4af0-4cfb-b0ce-4a930f85ba38"
      },
      "execution_count": 15,
      "outputs": [
        {
          "output_type": "stream",
          "name": "stdout",
          "text": [
            "F\n",
            "i\n",
            "r\n",
            "s\n",
            "t\n",
            " \n",
            "C\n",
            "i\n",
            "t\n",
            "i\n"
          ]
        }
      ]
    },
    {
      "cell_type": "code",
      "source": [
        "# Menentukan panjang urutan yang diinginkan\n",
        "seq_length = 100"
      ],
      "metadata": {
        "id": "s9WLIZZG0g-T"
      },
      "execution_count": 17,
      "outputs": []
    },
    {
      "cell_type": "code",
      "source": [
        "# Membuat urutan dari dataset dengan panjang yang ditentukan\n",
        "sequences = ids_dataset.batch(seq_length+1, drop_remainder=True)\n",
        "\n",
        "# Menampilkan urutan karakter pertama dalam satu batch\n",
        "for seq in sequences.take(1):\n",
        "  print(chars_from_ids(seq))"
      ],
      "metadata": {
        "colab": {
          "base_uri": "https://localhost:8080/"
        },
        "id": "DbfFo6TH0jVT",
        "outputId": "9294cc43-27d2-4d9e-95cc-baf52378bef7"
      },
      "execution_count": 18,
      "outputs": [
        {
          "output_type": "stream",
          "name": "stdout",
          "text": [
            "tf.Tensor(\n",
            "[b'F' b'i' b'r' b's' b't' b' ' b'C' b'i' b't' b'i' b'z' b'e' b'n' b':'\n",
            " b'\\n' b'B' b'e' b'f' b'o' b'r' b'e' b' ' b'w' b'e' b' ' b'p' b'r' b'o'\n",
            " b'c' b'e' b'e' b'd' b' ' b'a' b'n' b'y' b' ' b'f' b'u' b'r' b't' b'h'\n",
            " b'e' b'r' b',' b' ' b'h' b'e' b'a' b'r' b' ' b'm' b'e' b' ' b's' b'p'\n",
            " b'e' b'a' b'k' b'.' b'\\n' b'\\n' b'A' b'l' b'l' b':' b'\\n' b'S' b'p' b'e'\n",
            " b'a' b'k' b',' b' ' b's' b'p' b'e' b'a' b'k' b'.' b'\\n' b'\\n' b'F' b'i'\n",
            " b'r' b's' b't' b' ' b'C' b'i' b't' b'i' b'z' b'e' b'n' b':' b'\\n' b'Y'\n",
            " b'o' b'u' b' '], shape=(101,), dtype=string)\n"
          ]
        }
      ]
    },
    {
      "cell_type": "code",
      "source": [
        "# Menampilkan teks dari lima urutan pertama\n",
        "for seq in sequences.take(5):\n",
        "    print(text_from_ids(seq).numpy())"
      ],
      "metadata": {
        "colab": {
          "base_uri": "https://localhost:8080/"
        },
        "id": "T3wN60OM0m0w",
        "outputId": "1504a1c9-6af7-4c20-9ebf-40f63d73f94f"
      },
      "execution_count": 19,
      "outputs": [
        {
          "output_type": "stream",
          "name": "stdout",
          "text": [
            "b'First Citizen:\\nBefore we proceed any further, hear me speak.\\n\\nAll:\\nSpeak, speak.\\n\\nFirst Citizen:\\nYou '\n",
            "b'are all resolved rather to die than to famish?\\n\\nAll:\\nResolved. resolved.\\n\\nFirst Citizen:\\nFirst, you k'\n",
            "b\"now Caius Marcius is chief enemy to the people.\\n\\nAll:\\nWe know't, we know't.\\n\\nFirst Citizen:\\nLet us ki\"\n",
            "b\"ll him, and we'll have corn at our own price.\\nIs't a verdict?\\n\\nAll:\\nNo more talking on't; let it be d\"\n",
            "b'one: away, away!\\n\\nSecond Citizen:\\nOne word, good citizens.\\n\\nFirst Citizen:\\nWe are accounted poor citi'\n"
          ]
        }
      ]
    },
    {
      "cell_type": "code",
      "source": [
        "# Mendefinisikan fungsi untuk membagi input dan target dari suatu urutan\n",
        "def split_input_target(sequence):\n",
        "    input_text = sequence[:-1]\n",
        "    target_text = sequence[1:]\n",
        "    return input_text, target_text\n"
      ],
      "metadata": {
        "id": "RvdoS_cx1Lcf"
      },
      "execution_count": 20,
      "outputs": []
    },
    {
      "cell_type": "code",
      "source": [
        "# Memanggil fungsi pada contoh urutan\n",
        "split_input_target(list(\"Tensorflow\"))"
      ],
      "metadata": {
        "colab": {
          "base_uri": "https://localhost:8080/"
        },
        "id": "f1tlFwhn1N48",
        "outputId": "887895f0-267f-4e29-a497-d346846f78fd"
      },
      "execution_count": 21,
      "outputs": [
        {
          "output_type": "execute_result",
          "data": {
            "text/plain": [
              "(['T', 'e', 'n', 's', 'o', 'r', 'f', 'l', 'o'],\n",
              " ['e', 'n', 's', 'o', 'r', 'f', 'l', 'o', 'w'])"
            ]
          },
          "metadata": {},
          "execution_count": 21
        }
      ]
    },
    {
      "cell_type": "code",
      "source": [
        "\n",
        "# Membuat dataset dari urutan dengan input dan target yang terpisah\n",
        "dataset = sequences.map(split_input_target)"
      ],
      "metadata": {
        "id": "01Yi1OWj1Pe-"
      },
      "execution_count": 22,
      "outputs": []
    },
    {
      "cell_type": "code",
      "source": [
        "# Menampilkan contoh input dan target dari dataset\n",
        "for input_example, target_example in dataset.take(1):\n",
        "    print(\"Input :\", text_from_ids(input_example).numpy())\n",
        "    print(\"Target:\", text_from_ids(target_example).numpy())"
      ],
      "metadata": {
        "colab": {
          "base_uri": "https://localhost:8080/"
        },
        "id": "YvLq6pAc1RVn",
        "outputId": "170bcc07-07ff-48b5-d7b8-5acd595dcbe1"
      },
      "execution_count": 23,
      "outputs": [
        {
          "output_type": "stream",
          "name": "stdout",
          "text": [
            "Input : b'First Citizen:\\nBefore we proceed any further, hear me speak.\\n\\nAll:\\nSpeak, speak.\\n\\nFirst Citizen:\\nYou'\n",
            "Target: b'irst Citizen:\\nBefore we proceed any further, hear me speak.\\n\\nAll:\\nSpeak, speak.\\n\\nFirst Citizen:\\nYou '\n"
          ]
        }
      ]
    },
    {
      "cell_type": "code",
      "source": [
        "# Ukuran batch\n",
        "BATCH_SIZE = 64\n",
        "\n",
        "# Ukuran buffer untuk mengacak dataset\n",
        "# (TF data dirancang untuk bekerja dengan urutan yang mungkin tak terbatas,\n",
        "# sehingga tidak mencoba untuk mengacak seluruh urutan dalam memori. Sebaliknya,\n",
        "# ia menjaga buffer di mana ia mengacak elemen).\n",
        "BUFFER_SIZE = 10000\n",
        "\n",
        "# Membuat dataset dengan mengacak, mengelompokkan, dan memuat dengan prefetch\n",
        "dataset = (\n",
        "    dataset\n",
        "    .shuffle(BUFFER_SIZE)\n",
        "    .batch(BATCH_SIZE, drop_remainder=True)\n",
        "    .prefetch(tf.data.experimental.AUTOTUNE))\n",
        "\n",
        "# Menampilkan dataset\n",
        "dataset\n"
      ],
      "metadata": {
        "colab": {
          "base_uri": "https://localhost:8080/"
        },
        "id": "V7sjgYxB1ZE6",
        "outputId": "1264bf0a-861d-4c20-f78b-06a48c39f10b"
      },
      "execution_count": 24,
      "outputs": [
        {
          "output_type": "execute_result",
          "data": {
            "text/plain": [
              "<_PrefetchDataset element_spec=(TensorSpec(shape=(64, 100), dtype=tf.int64, name=None), TensorSpec(shape=(64, 100), dtype=tf.int64, name=None))>"
            ]
          },
          "metadata": {},
          "execution_count": 24
        }
      ]
    },
    {
      "cell_type": "code",
      "source": [
        "# Panjang kamus dalam layer StringLookup\n",
        "vocab_size = len(ids_from_chars.get_vocabulary())\n",
        "\n",
        "# Dimensi embedding\n",
        "embedding_dim = 256\n",
        "\n",
        "# Jumlah unit RNN\n",
        "rnn_units = 1024"
      ],
      "metadata": {
        "id": "YjHOJ9tr1wui"
      },
      "execution_count": 25,
      "outputs": []
    },
    {
      "cell_type": "code",
      "source": [
        "# Mendefinisikan kelas model yang merupakan turunan dari tf.keras.Model\n",
        "class MyModel(tf.keras.Model):\n",
        "  def __init__(self, vocab_size, embedding_dim, rnn_units):\n",
        "    super().__init__(self)\n",
        "    # Lapisan embedding untuk mengonversi ID menjadi vektor embedding\n",
        "    self.embedding = tf.keras.layers.Embedding(vocab_size, embedding_dim)\n",
        "    # Lapisan GRU (Gated Recurrent Unit) untuk pemrosesan urutan\n",
        "    self.gru = tf.keras.layers.GRU(rnn_units,\n",
        "                                   return_sequences=True,\n",
        "                                   return_state=True)\n",
        "    # Lapisan Dense untuk menghasilkan output final\n",
        "    self.dense = tf.keras.layers.Dense(vocab_size)\n",
        "\n",
        "  def call(self, inputs, states=None, return_state=False, training=False):\n",
        "    x = inputs\n",
        "    # Melakukan embedding pada input\n",
        "    x = self.embedding(x, training=training)\n",
        "    # Mendapatkan nilai awal state GRU jika tidak ada\n",
        "    if states is None:\n",
        "      states = self.gru.get_initial_state(x)\n",
        "    # Melakukan proses GRU pada urutan input\n",
        "    x, states = self.gru(x, initial_state=states, training=training)\n",
        "    # Melakukan lapisan Dense pada hasil GRU\n",
        "    x = self.dense(x, training=training)\n",
        "\n",
        "    # Mengembalikan hasil dan state jika diperlukan\n",
        "    if return_state:\n",
        "      return x, states\n",
        "    else:\n",
        "      return x"
      ],
      "metadata": {
        "id": "-_q2r_v42UA0"
      },
      "execution_count": 26,
      "outputs": []
    },
    {
      "cell_type": "code",
      "source": [
        "# Membuat objek model menggunakan kelas yang telah didefinisikan\n",
        "model = MyModel(\n",
        "    vocab_size=vocab_size,\n",
        "    embedding_dim=embedding_dim,\n",
        "    rnn_units=rnn_units)"
      ],
      "metadata": {
        "id": "mt99HVB62W-P"
      },
      "execution_count": 27,
      "outputs": []
    },
    {
      "cell_type": "code",
      "source": [
        "# Melakukan prediksi pada satu batch contoh input dari dataset\n",
        "for input_example_batch, target_example_batch in dataset.take(1):\n",
        "    example_batch_predictions = model(input_example_batch)\n",
        "    print(example_batch_predictions.shape, \"# (batch_size, sequence_length, vocab_size)\")\n"
      ],
      "metadata": {
        "colab": {
          "base_uri": "https://localhost:8080/"
        },
        "id": "0digWdu82d4H",
        "outputId": "a5b58b58-ecc4-4923-aeb9-2a0ec4b75026"
      },
      "execution_count": 28,
      "outputs": [
        {
          "output_type": "stream",
          "name": "stdout",
          "text": [
            "(64, 100, 66) # (batch_size, sequence_length, vocab_size)\n"
          ]
        }
      ]
    },
    {
      "cell_type": "code",
      "source": [
        "# Menampilkan ringkasan arsitektur model\n",
        "model.summary()"
      ],
      "metadata": {
        "colab": {
          "base_uri": "https://localhost:8080/"
        },
        "id": "2Xm7-9u129Zm",
        "outputId": "6a623c89-c931-44b9-8319-6d3dd61b754a"
      },
      "execution_count": 29,
      "outputs": [
        {
          "output_type": "stream",
          "name": "stdout",
          "text": [
            "Model: \"my_model\"\n",
            "_________________________________________________________________\n",
            " Layer (type)                Output Shape              Param #   \n",
            "=================================================================\n",
            " embedding (Embedding)       multiple                  16896     \n",
            "                                                                 \n",
            " gru (GRU)                   multiple                  3938304   \n",
            "                                                                 \n",
            " dense (Dense)               multiple                  67650     \n",
            "                                                                 \n",
            "=================================================================\n",
            "Total params: 4022850 (15.35 MB)\n",
            "Trainable params: 4022850 (15.35 MB)\n",
            "Non-trainable params: 0 (0.00 Byte)\n",
            "_________________________________________________________________\n"
          ]
        }
      ]
    },
    {
      "cell_type": "code",
      "source": [
        "# Menghasilkan indeks teracak dari distribusi prediksi\n",
        "sampled_indices = tf.random.categorical(example_batch_predictions[0], num_samples=1)\n",
        "sampled_indices = tf.squeeze(sampled_indices, axis=-1).numpy()"
      ],
      "metadata": {
        "id": "cVXvHtFl2_al"
      },
      "execution_count": 30,
      "outputs": []
    },
    {
      "cell_type": "code",
      "source": [
        "sampled_indices"
      ],
      "metadata": {
        "colab": {
          "base_uri": "https://localhost:8080/"
        },
        "id": "Yt4Uf-4c3F3S",
        "outputId": "9c33afac-ff80-4e70-a054-5dce2df54496"
      },
      "execution_count": 31,
      "outputs": [
        {
          "output_type": "execute_result",
          "data": {
            "text/plain": [
              "array([41, 63, 50, 26, 38, 40, 29, 11, 31, 34, 65, 46, 14, 65, 21, 39, 57,\n",
              "       39, 16, 55,  2, 60, 41, 12,  6,  3, 31, 58, 43, 14, 50, 29, 28, 18,\n",
              "       34, 43, 44, 18, 11, 30, 21,  7, 16, 19, 32, 54,  2, 36, 43, 22, 29,\n",
              "        8, 38, 24,  8, 32, 63, 14, 36, 15, 52, 55, 21, 16, 38, 21,  0,  9,\n",
              "       10, 15,  0, 32, 29, 22, 13, 53, 52, 10, 21, 12, 63, 29, 28, 56, 56,\n",
              "       13, 55, 27, 12,  2, 29, 49, 25, 27, 18, 16,  2,  4, 13,  6])"
            ]
          },
          "metadata": {},
          "execution_count": 31
        }
      ]
    },
    {
      "cell_type": "code",
      "source": [
        "# Menampilkan contoh input dan prediksi karakter berikutnya\n",
        "print(\"Input:\\n\", text_from_ids(input_example_batch[0]).numpy())\n",
        "print()\n",
        "print(\"Next Char Predictions:\\n\", text_from_ids(sampled_indices).numpy())"
      ],
      "metadata": {
        "colab": {
          "base_uri": "https://localhost:8080/"
        },
        "id": "ZF_oEQiX3Icp",
        "outputId": "3609ffb3-b3f2-442c-9fbc-71f01cdf69f4"
      },
      "execution_count": 32,
      "outputs": [
        {
          "output_type": "stream",
          "name": "stdout",
          "text": [
            "Input:\n",
            " b' what makes robbers bold but too much lenity?\\nBootless are plaints, and cureless are my wounds;\\nNo w'\n",
            "\n",
            "Next Char Predictions:\n",
            " b\"bxkMYaP:RUzgAzHZrZCp ub;'!RsdAkPOEUdeE:QH,CFSo WdIP-YK-SxAWBmpHCYH[UNK].3B[UNK]SPI?nm3H;xPOqq?pN; PjLNEC $?'\"\n"
          ]
        }
      ]
    },
    {
      "cell_type": "code",
      "source": [
        "# Menggunakan SparseCategoricalCrossentropy sebagai fungsi loss\n",
        "loss = tf.losses.SparseCategoricalCrossentropy(from_logits=True)\n"
      ],
      "metadata": {
        "id": "dUqkSIRn3W7V"
      },
      "execution_count": 33,
      "outputs": []
    },
    {
      "cell_type": "code",
      "source": [
        "# Menghitung rata-rata loss pada contoh batch\n",
        "example_batch_mean_loss = loss(target_example_batch, example_batch_predictions)\n",
        "print(\"Prediction shape: \", example_batch_predictions.shape, \" # (batch_size, sequence_length, vocab_size)\")\n",
        "print(\"Mean loss:        \", example_batch_mean_loss)"
      ],
      "metadata": {
        "colab": {
          "base_uri": "https://localhost:8080/"
        },
        "id": "K0xt6qNl3uIW",
        "outputId": "8a16be5a-d29f-4618-b54d-852869b761ed"
      },
      "execution_count": 34,
      "outputs": [
        {
          "output_type": "stream",
          "name": "stdout",
          "text": [
            "Prediction shape:  (64, 100, 66)  # (batch_size, sequence_length, vocab_size)\n",
            "Mean loss:         tf.Tensor(4.1901917, shape=(), dtype=float32)\n"
          ]
        }
      ]
    },
    {
      "cell_type": "code",
      "source": [
        "# Menghitung eksp dari rata-rata loss\n",
        "tf.exp(example_batch_mean_loss).numpy()"
      ],
      "metadata": {
        "colab": {
          "base_uri": "https://localhost:8080/"
        },
        "id": "ng4Z5Rsq3vrS",
        "outputId": "0a1b870b-7c1c-4a44-f665-adee96697c66"
      },
      "execution_count": 35,
      "outputs": [
        {
          "output_type": "execute_result",
          "data": {
            "text/plain": [
              "66.03545"
            ]
          },
          "metadata": {},
          "execution_count": 35
        }
      ]
    },
    {
      "cell_type": "code",
      "source": [
        "# Mengompilasi model dengan optimizer Adam dan fungsi loss SparseCategoricalCrossentropy\n",
        "model.compile(optimizer='adam', loss=loss)"
      ],
      "metadata": {
        "id": "dmJwKZ3F3xXG"
      },
      "execution_count": 36,
      "outputs": []
    },
    {
      "cell_type": "code",
      "source": [
        "# Direktori tempat checkpoint akan disimpan\n",
        "checkpoint_dir = './training_checkpoints'\n",
        "# Nama file checkpoint\n",
        "checkpoint_prefix = os.path.join(checkpoint_dir, \"ckpt_{epoch}\")\n",
        "\n",
        "# Callback untuk menyimpan checkpoint\n",
        "checkpoint_callback = tf.keras.callbacks.ModelCheckpoint(\n",
        "    filepath=checkpoint_prefix,\n",
        "    save_weights_only=True)\n"
      ],
      "metadata": {
        "id": "_FWjTPEe3-d4"
      },
      "execution_count": 37,
      "outputs": []
    },
    {
      "cell_type": "code",
      "source": [
        "# Jumlah epoch\n",
        "EPOCHS = 10"
      ],
      "metadata": {
        "id": "e1yD44vP50Vi"
      },
      "execution_count": 38,
      "outputs": []
    },
    {
      "cell_type": "code",
      "source": [
        "# Melatih model dengan dataset dan menyimpan checkpoint\n",
        "history = model.fit(dataset, epochs=EPOCHS, callbacks=[checkpoint_callback])"
      ],
      "metadata": {
        "colab": {
          "base_uri": "https://localhost:8080/"
        },
        "id": "atax3AX162yM",
        "outputId": "06befee4-07e2-4cf5-b4ca-ea349c97b02c"
      },
      "execution_count": 39,
      "outputs": [
        {
          "output_type": "stream",
          "name": "stdout",
          "text": [
            "Epoch 1/10\n",
            "172/172 [==============================] - 13s 53ms/step - loss: 2.7326\n",
            "Epoch 2/10\n",
            "172/172 [==============================] - 10s 51ms/step - loss: 1.9956\n",
            "Epoch 3/10\n",
            "172/172 [==============================] - 11s 52ms/step - loss: 1.7167\n",
            "Epoch 4/10\n",
            "172/172 [==============================] - 12s 53ms/step - loss: 1.5548\n",
            "Epoch 5/10\n",
            "172/172 [==============================] - 11s 53ms/step - loss: 1.4549\n",
            "Epoch 6/10\n",
            "172/172 [==============================] - 11s 54ms/step - loss: 1.3857\n",
            "Epoch 7/10\n",
            "172/172 [==============================] - 11s 55ms/step - loss: 1.3337\n",
            "Epoch 8/10\n",
            "172/172 [==============================] - 12s 55ms/step - loss: 1.2889\n",
            "Epoch 9/10\n",
            "172/172 [==============================] - 11s 56ms/step - loss: 1.2487\n",
            "Epoch 10/10\n",
            "172/172 [==============================] - 12s 57ms/step - loss: 1.2093\n"
          ]
        }
      ]
    },
    {
      "cell_type": "markdown",
      "source": [
        "### Tugas"
      ],
      "metadata": {
        "id": "HWIwlAY8EdQ6"
      }
    },
    {
      "cell_type": "code",
      "source": [
        "# Mendefinisikan kelas CustomTraining yang merupakan turunan dari kelas MyModel\n",
        "class CustomTraining(MyModel):\n",
        "    @tf.function\n",
        "    def train_step(self, inputs):\n",
        "        # Mendapatkan input dan label dari batch dataset\n",
        "        inputs, labels = inputs\n",
        "        # Membuka GradientTape untuk mencatat operasi dalam perhitungan gradien\n",
        "        with tf.GradientTape() as tape:\n",
        "            # Mengeksekusi model pada input untuk mendapatkan prediksi\n",
        "            predictions = self(inputs, training=True)\n",
        "            # Menghitung nilai kerugian antara prediksi dan label\n",
        "            loss = self.loss(labels, predictions)\n",
        "        # Menghitung gradien dari nilai kerugian terhadap parameter model\n",
        "        grads = tape.gradient(loss, self.trainable_variables)\n",
        "        # Menggunakan optimizer untuk menerapkan gradien dan memperbarui parameter model\n",
        "        self.optimizer.apply_gradients(zip(grads, self.trainable_variables))\n",
        "\n",
        "        # Mengembalikan nilai kerugian sebagai output dari langkah pelatihan\n",
        "        return {'loss': loss}\n"
      ],
      "metadata": {
        "id": "fs9DaPqYEiFf"
      },
      "execution_count": 40,
      "outputs": []
    },
    {
      "cell_type": "code",
      "source": [
        "# Membuat objek model CustomTraining\n",
        "model = CustomTraining(\n",
        "    vocab_size=len(ids_from_chars.get_vocabulary()),\n",
        "    embedding_dim=embedding_dim,\n",
        "    rnn_units=rnn_units)\n"
      ],
      "metadata": {
        "id": "hRyRk6aCFNrV"
      },
      "execution_count": 41,
      "outputs": []
    },
    {
      "cell_type": "code",
      "source": [
        "# Mengompilasi model dengan optimizer Adam dan fungsi kerugian SparseCategoricalCrossentropy\n",
        "model.compile(optimizer=tf.keras.optimizers.Adam(),\n",
        "              loss=tf.keras.losses.SparseCategoricalCrossentropy(from_logits=True))"
      ],
      "metadata": {
        "id": "f3pkKkfFFTx4"
      },
      "execution_count": 42,
      "outputs": []
    },
    {
      "cell_type": "code",
      "source": [
        "# Melatih model untuk satu epoch menggunakan dataset\n",
        "model.fit(dataset, epochs=1)"
      ],
      "metadata": {
        "colab": {
          "base_uri": "https://localhost:8080/"
        },
        "id": "CpuDdz_NFa9Q",
        "outputId": "3c2df387-908c-4604-a61b-691649ab59ac"
      },
      "execution_count": 43,
      "outputs": [
        {
          "output_type": "stream",
          "name": "stdout",
          "text": [
            "172/172 [==============================] - 15s 58ms/step - loss: 2.7086\n"
          ]
        },
        {
          "output_type": "execute_result",
          "data": {
            "text/plain": [
              "<keras.src.callbacks.History at 0x7c0e53b11630>"
            ]
          },
          "metadata": {},
          "execution_count": 43
        }
      ]
    },
    {
      "cell_type": "code",
      "source": [
        "# Jumlah epoch tambahan yang ingin dilatih\n",
        "EPOCHS = 10"
      ],
      "metadata": {
        "id": "RepXksGEFdy6"
      },
      "execution_count": 44,
      "outputs": []
    },
    {
      "cell_type": "code",
      "source": [
        "# Menggunakan metrik Mean untuk menghitung rata-rata kerugian\n",
        "mean = tf.metrics.Mean()\n",
        "\n",
        "# Melakukan pelatihan selama beberapa epoch\n",
        "for epoch in range(EPOCHS):\n",
        "    start = time.time()\n",
        "\n",
        "    # Mereset nilai metrik Mean untuk setiap epoch\n",
        "    mean.reset_states()\n",
        "\n",
        "    # Iterasi melalui setiap batch dalam dataset\n",
        "    for (batch_n, (inp, target)) in enumerate(dataset):\n",
        "        # Mengambil log hasil dari satu langkah pelatihan\n",
        "        logs = model.train_step([inp, target])\n",
        "        # Memperbarui nilai metrik Mean dengan nilai kerugian\n",
        "        mean.update_state(logs['loss'])\n",
        "\n",
        "        # Menampilkan informasi setiap 50 batch\n",
        "        if batch_n % 50 == 0:\n",
        "            template = f\"Epoch {epoch+1} Batch {batch_n} Loss {logs['loss']:.4f}\"\n",
        "            print(template)\n",
        "\n",
        "    # Menyimpan model setiap 5 epoch\n",
        "    if (epoch + 1) % 5 == 0:\n",
        "        model.save_weights(checkpoint_prefix.format(epoch=epoch))\n",
        "\n",
        "    print()\n",
        "    print(f'Epoch {epoch+1} Loss: {mean.result().numpy():.4f}')\n",
        "    print(f'Time taken for 1 epoch {time.time() - start:.2f} sec')\n",
        "    print(\"_\"*80)\n",
        "\n",
        "# Menyimpan model setelah pelatihan selesai\n",
        "model.save_weights(checkpoint_prefix.format(epoch=epoch))"
      ],
      "metadata": {
        "colab": {
          "base_uri": "https://localhost:8080/"
        },
        "id": "M2zTWLGsFYz5",
        "outputId": "9cd85f8f-e0f1-4d82-bbe2-658c5729f7b8"
      },
      "execution_count": 45,
      "outputs": [
        {
          "output_type": "stream",
          "name": "stdout",
          "text": [
            "Epoch 1 Batch 0 Loss 2.1927\n",
            "Epoch 1 Batch 50 Loss 2.0528\n",
            "Epoch 1 Batch 100 Loss 1.9181\n",
            "Epoch 1 Batch 150 Loss 1.8359\n",
            "\n",
            "Epoch 1 Loss: 1.9838\n",
            "Time taken for 1 epoch 13.14 sec\n",
            "________________________________________________________________________________\n",
            "Epoch 2 Batch 0 Loss 1.8187\n",
            "Epoch 2 Batch 50 Loss 1.7773\n",
            "Epoch 2 Batch 100 Loss 1.7005\n",
            "Epoch 2 Batch 150 Loss 1.6109\n",
            "\n",
            "Epoch 2 Loss: 1.7087\n",
            "Time taken for 1 epoch 11.92 sec\n",
            "________________________________________________________________________________\n",
            "Epoch 3 Batch 0 Loss 1.5734\n",
            "Epoch 3 Batch 50 Loss 1.5550\n",
            "Epoch 3 Batch 100 Loss 1.5859\n",
            "Epoch 3 Batch 150 Loss 1.4878\n",
            "\n",
            "Epoch 3 Loss: 1.5490\n",
            "Time taken for 1 epoch 12.04 sec\n",
            "________________________________________________________________________________\n",
            "Epoch 4 Batch 0 Loss 1.4409\n",
            "Epoch 4 Batch 50 Loss 1.4275\n",
            "Epoch 4 Batch 100 Loss 1.5038\n",
            "Epoch 4 Batch 150 Loss 1.4089\n",
            "\n",
            "Epoch 4 Loss: 1.4515\n",
            "Time taken for 1 epoch 10.92 sec\n",
            "________________________________________________________________________________\n",
            "Epoch 5 Batch 0 Loss 1.3449\n",
            "Epoch 5 Batch 50 Loss 1.3436\n",
            "Epoch 5 Batch 100 Loss 1.3910\n",
            "Epoch 5 Batch 150 Loss 1.4146\n",
            "\n",
            "Epoch 5 Loss: 1.3833\n",
            "Time taken for 1 epoch 11.04 sec\n",
            "________________________________________________________________________________\n",
            "Epoch 6 Batch 0 Loss 1.3366\n",
            "Epoch 6 Batch 50 Loss 1.3381\n",
            "Epoch 6 Batch 100 Loss 1.3545\n",
            "Epoch 6 Batch 150 Loss 1.3637\n",
            "\n",
            "Epoch 6 Loss: 1.3302\n",
            "Time taken for 1 epoch 11.03 sec\n",
            "________________________________________________________________________________\n",
            "Epoch 7 Batch 0 Loss 1.2673\n",
            "Epoch 7 Batch 50 Loss 1.2995\n",
            "Epoch 7 Batch 100 Loss 1.2991\n",
            "Epoch 7 Batch 150 Loss 1.2669\n",
            "\n",
            "Epoch 7 Loss: 1.2863\n",
            "Time taken for 1 epoch 10.93 sec\n",
            "________________________________________________________________________________\n",
            "Epoch 8 Batch 0 Loss 1.2300\n",
            "Epoch 8 Batch 50 Loss 1.2310\n",
            "Epoch 8 Batch 100 Loss 1.2546\n",
            "Epoch 8 Batch 150 Loss 1.2601\n",
            "\n",
            "Epoch 8 Loss: 1.2455\n",
            "Time taken for 1 epoch 12.20 sec\n",
            "________________________________________________________________________________\n",
            "Epoch 9 Batch 0 Loss 1.1875\n",
            "Epoch 9 Batch 50 Loss 1.1324\n",
            "Epoch 9 Batch 100 Loss 1.1919\n",
            "Epoch 9 Batch 150 Loss 1.1920\n",
            "\n",
            "Epoch 9 Loss: 1.2058\n",
            "Time taken for 1 epoch 11.63 sec\n",
            "________________________________________________________________________________\n",
            "Epoch 10 Batch 0 Loss 1.1482\n",
            "Epoch 10 Batch 50 Loss 1.1613\n",
            "Epoch 10 Batch 100 Loss 1.1577\n",
            "Epoch 10 Batch 150 Loss 1.1855\n",
            "\n",
            "Epoch 10 Loss: 1.1655\n",
            "Time taken for 1 epoch 11.01 sec\n",
            "________________________________________________________________________________\n"
          ]
        }
      ]
    },
    {
      "cell_type": "markdown",
      "source": [
        "### Perbedaan dengan praktikum 2"
      ],
      "metadata": {
        "id": "rO4vpH4WhYCo"
      }
    },
    {
      "cell_type": "markdown",
      "source": [
        "Pada praktikum 2 pelatihan menggunakan metode model.fit langsung pada dataset. Fungsi SparseCategoricalCrossentropy digunakan sebagai fungsi loss. Sedangkan pada tugas, model dilatih dengan menggunakan langkah-langkah pelatihan custom yang diimplementasikan dalam class CustomTraining. Proses ini dilakukan dalam loop training dengan menggunakan metrik mean untuk menghitung rata-rata loss. Dalam class CustomTraining juga terdapat tf.GradientTape yang digunakan untuk mencatat operasi dan menghitung gradien. Hal ini memberikan lebih banyak kendali terhadap proses training. Pada praktikum 2 lebih menitikberatkan metode bawaan model.fit, sedangkan tugas memberikan fleksibilitas lebih besar dengan implementasi langkah custom training dalam class CustomTraining."
      ],
      "metadata": {
        "id": "79edWooXhdE_"
      }
    }
  ]
}