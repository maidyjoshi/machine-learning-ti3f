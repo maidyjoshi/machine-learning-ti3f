{
  "nbformat": 4,
  "nbformat_minor": 0,
  "metadata": {
    "colab": {
      "provenance": []
    },
    "kernelspec": {
      "name": "python3",
      "display_name": "Python 3"
    },
    "language_info": {
      "name": "python"
    }
  },
  "cells": [
    {
      "cell_type": "markdown",
      "source": [
        "# **WEEK 10 MACHINE LEARNING**\n",
        "## PRAKTIKUM 10\n",
        "NAMA: MAIDY PUTRI JOSHI\n",
        "\n",
        "NIM: 2141720060\n",
        "\n",
        "KELAS: TI-3F\n",
        "\n",
        "**DAFTAR ISI:**\n",
        "\n",
        "1. PRAKTIKUM 1\n",
        "2. PRAKTIKUM 2\n",
        "3. TUGAS PRAKTIKUM"
      ],
      "metadata": {
        "id": "6YSiKel2jKw-"
      }
    },
    {
      "cell_type": "code",
      "execution_count": null,
      "metadata": {
        "id": "3A-UmNUwq16R"
      },
      "outputs": [],
      "source": [
        "# Import library NumPy sebagai np\n",
        "import numpy as np\n",
        "\n",
        "# Import TensorFlow Datasets sebagai tfds\n",
        "import tensorflow_datasets as tfds\n",
        "\n",
        "# Import TensorFlow sebagai tf\n",
        "import tensorflow as tf\n",
        "\n",
        "# Menonaktifkan progress bar dari TensorFlow Datasets\n",
        "tfds.disable_progress_bar()"
      ]
    },
    {
      "cell_type": "code",
      "source": [
        "# Import library Matplotlib sebagai plt\n",
        "import matplotlib.pyplot as plt\n",
        "\n",
        "# Fungsi untuk membuat plot grafik dari histori pelatihan\n",
        "def plot_graphs(history, metric):\n",
        "\n",
        "  plt.plot(history.history[metric]) # Menyusun plot dari nilai metric pada setiap epoch pada data pelatihan\n",
        "  plt.plot(history.history['val_'+metric], '') # Menyusun plot dari nilai metric pada setiap epoch pada data validasi, menggunakan garis putus-putus ('')\n",
        "  plt.xlabel(\"Epochs\") # Menambahkan label sumbu x dengan teks \"Epochs\"\n",
        "  plt.ylabel(metric) # Menambahkan label sumbu y dengan teks metric yang diberikan\n",
        "  plt.legend([metric, 'val_'+metric]) # Menambahkan legenda ke plot, menunjukkan label metric dan 'val_metric'"
      ],
      "metadata": {
        "id": "nriSOGl7rli3"
      },
      "execution_count": null,
      "outputs": []
    },
    {
      "cell_type": "code",
      "source": [
        "# Menggunakan TensorFlow Datasets untuk memuat dataset 'imdb_reviews' dengan informasi dataset\n",
        "# as_supervised=True digunakan agar data dapat dimuat sebagai pasangan (data, label)\n",
        "dataset, info = tfds.load('imdb_reviews', with_info=True, as_supervised=True)\n",
        "\n",
        "# Memisahkan dataset menjadi bagian pelatihan dan uji\n",
        "train_dataset, test_dataset = dataset['train'], dataset['test']\n",
        "\n",
        "# Menampilkan informasi tentang struktur elemen pada bagian pelatihan dataset\n",
        "train_dataset.element_spec\n"
      ],
      "metadata": {
        "colab": {
          "base_uri": "https://localhost:8080/"
        },
        "id": "n5WK7dwrsrbb",
        "outputId": "dd6118bc-5037-439c-ab00-2f8b29b393a6"
      },
      "execution_count": null,
      "outputs": [
        {
          "output_type": "stream",
          "name": "stdout",
          "text": [
            "Downloading and preparing dataset 80.23 MiB (download: 80.23 MiB, generated: Unknown size, total: 80.23 MiB) to /root/tensorflow_datasets/imdb_reviews/plain_text/1.0.0...\n",
            "Dataset imdb_reviews downloaded and prepared to /root/tensorflow_datasets/imdb_reviews/plain_text/1.0.0. Subsequent calls will reuse this data.\n"
          ]
        },
        {
          "output_type": "execute_result",
          "data": {
            "text/plain": [
              "(TensorSpec(shape=(), dtype=tf.string, name=None),\n",
              " TensorSpec(shape=(), dtype=tf.int64, name=None))"
            ]
          },
          "metadata": {},
          "execution_count": 6
        }
      ]
    },
    {
      "cell_type": "code",
      "source": [
        "# Mengambil satu contoh (pasangan data dan label) dari bagian pelatihan dataset\n",
        "for example, label in train_dataset.take(1):\n",
        "  # Mencetak nilai data (text) dari contoh menggunakan metode .numpy()\n",
        "  print('text: ', example.numpy())\n",
        "  # Mencetak nilai label dari contoh menggunakan metode .numpy()\n",
        "  print('label: ', label.numpy())"
      ],
      "metadata": {
        "colab": {
          "base_uri": "https://localhost:8080/"
        },
        "id": "BT1bf352s2Yz",
        "outputId": "b68b66a2-91c7-40f4-8960-7cec31eaf6f6"
      },
      "execution_count": null,
      "outputs": [
        {
          "output_type": "stream",
          "name": "stdout",
          "text": [
            "text:  b\"This was an absolutely terrible movie. Don't be lured in by Christopher Walken or Michael Ironside. Both are great actors, but this must simply be their worst role in history. Even their great acting could not redeem this movie's ridiculous storyline. This movie is an early nineties US propaganda piece. The most pathetic scenes were those when the Columbian rebels were making their cases for revolutions. Maria Conchita Alonso appeared phony, and her pseudo-love affair with Walken was nothing but a pathetic emotional plug in a movie that was devoid of any real meaning. I am disappointed that there are movies like this, ruining actor's like Christopher Walken's good name. I could barely sit through it.\"\n",
            "label:  0\n"
          ]
        }
      ]
    },
    {
      "cell_type": "markdown",
      "source": [
        "Berikutnya acak data untuk pelatihan dan membuat kumpulan pasangan (teks, label) ini:"
      ],
      "metadata": {
        "id": "Z6OxBcaktKhU"
      }
    },
    {
      "cell_type": "code",
      "source": [
        "# Mengatur ukuran buffer untuk pengacakan dataset\n",
        "BUFFER_SIZE = 10000\n",
        "\n",
        "# Mengatur ukuran batch yang akan digunakan pada pelatihan dan pengujian\n",
        "BATCH_SIZE = 64\n",
        "\n",
        "# Pengacakan, pembagian batch, dan prefetching untuk bagian pelatihan dataset\n",
        "train_dataset = train_dataset.shuffle(BUFFER_SIZE).batch(BATCH_SIZE).prefetch(tf.data.AUTOTUNE)\n",
        "\n",
        "# Pembagian batch dan prefetching untuk bagian uji dataset\n",
        "test_dataset = test_dataset.batch(BATCH_SIZE).prefetch(tf.data.AUTOTUNE)\n",
        "\n",
        "# Mengambil satu batch (pasangan data dan label) dari bagian pelatihan dataset\n",
        "for example, label in train_dataset.take(1):\n",
        "  # Mencetak tiga nilai data (texts) dari contoh menggunakan metode .numpy() untuk beberapa contoh\n",
        "  print('texts: ', example.numpy()[:3])\n",
        "  print()\n",
        "  # Mencetak tiga nilai label dari contoh menggunakan metode .numpy() untuk beberapa contoh\n",
        "  print('labels: ', label.numpy()[:3])\n"
      ],
      "metadata": {
        "colab": {
          "base_uri": "https://localhost:8080/"
        },
        "id": "bVWOn2vEtIMW",
        "outputId": "3f9e9d2c-351a-4027-cb76-d9c5927e0862"
      },
      "execution_count": null,
      "outputs": [
        {
          "output_type": "stream",
          "name": "stdout",
          "text": [
            "texts:  [b'Keanu Reeves stars as a friend of a popular high school student who suddenly commits suicide...he and his friends go through emotional turmoil and share their reactions to this horrible incident...Good acting by Reeves and a young Jennifer Rubin..but on the whole is a little too much.. 4 of 10'\n",
            " b\"Rodney Dangerfield isn't the main character of this movie. He's barely in it. Most of the screen time is dominated by unfunny jokes. One running gag is that a character is named Jerk Off. There are also lots of erection jokes, where the punch line is someone has an erection. This movie is as funny as Kirstie Ally's British accent is convincing.<br /><br />This movie started off like a weak action movie: five minutes of back story and then bam! Unfunny jokes. But, aside from the terrible writing, the movie is also poorly directed and the acting is terrible. Also, this movie does the old bad comedy clich\\xc3\\xa9 of having lots of well-known B-movie actors. Harland Williams, Gilbert Godfried, Randy Quaid, and Phil La Mar. These are just some of the people that spend more time on the screen than Rodney, even though he's billed as the main character. Don't be surprised to find this movie at a drug store selling for five bucks. Even that is too much.\"\n",
            " b\"I have been a Star Trek fan for as long as I can remember. When they announced the planning and premiere of the fifth series I was very excited.<br /><br />The premiere of Enterprise was well worth the wait. It was well done with the perfect setting and a great acting job done by all the characters. The NX-01, Enterprise is the perfect vessel to show the beginnings of what many people have come to love.<br /><br />Scott Bakula was just superior as Captain Jonathan Archer. Jolene Blalock gave a commanding performance as Subcommander T'Pol. That it just two people of this wonderful new crew that is boldly going to take us into the great history of Starfleet.<br /><br />Enterprise looks like it's going to be a good series well worth watching, and I recommend that. Watch it.\"]\n",
            "\n",
            "labels:  [0 0 1]\n"
          ]
        }
      ]
    },
    {
      "cell_type": "markdown",
      "source": [
        "**Buat Teks Encoder**\n",
        "\n",
        "Teks mentah yang dimuat oleh tfds perlu diproses sebelum dapat digunakan dalam model. Cara termudah memproses teks untuk pelatihan adalah menggunakan lapisan TextVectorization. Lapisan ini memiliki banyak kemampuan, namun pada tutorial ini menggunakan perilaku default. Buat lapisan tersebut, dan teruskan teks kumpulan data ke metode .adapt lapisan:"
      ],
      "metadata": {
        "id": "rGqEZuR_tWbe"
      }
    },
    {
      "cell_type": "code",
      "source": [
        "# Menentukan ukuran vokabular yang akan digunakan\n",
        "VOCAB_SIZE = 1000\n",
        "\n",
        "# Membuat layer TextVectorization dengan konfigurasi jumlah maksimum token (vokabular)\n",
        "encoder = tf.keras.layers.TextVectorization(\n",
        "    max_tokens=VOCAB_SIZE)\n",
        "\n",
        "# Mengadaptasi layer TextVectorization ke dataset pelatihan\n",
        "encoder.adapt(train_dataset.map(lambda text, label: text))"
      ],
      "metadata": {
        "id": "pUZ4hdvhtfUr"
      },
      "execution_count": null,
      "outputs": []
    },
    {
      "cell_type": "markdown",
      "source": [
        "Metode .adapt mengatur kosakata lapisan. 20 token pertama dapat dilihat dengan kode berikut. Setelah padding dan token yang tidak diketahui, mereka diurutkan berdasarkan frekuensi:"
      ],
      "metadata": {
        "id": "w6gZpoGFtjna"
      }
    },
    {
      "cell_type": "code",
      "source": [
        "# Mendapatkan vokabular dari layer TextVectorization\n",
        "vocab = np.array(encoder.get_vocabulary())\n",
        "\n",
        "# Mencetak 20 token pertama dari vokabular\n",
        "vocab[:20]"
      ],
      "metadata": {
        "colab": {
          "base_uri": "https://localhost:8080/"
        },
        "id": "1V4kr3S5tou4",
        "outputId": "723bde83-3a31-43cf-b7af-878e3f5662a9"
      },
      "execution_count": null,
      "outputs": [
        {
          "output_type": "execute_result",
          "data": {
            "text/plain": [
              "array(['', '[UNK]', 'the', 'and', 'a', 'of', 'to', 'is', 'in', 'it', 'i',\n",
              "       'this', 'that', 'br', 'was', 'as', 'for', 'with', 'movie', 'but'],\n",
              "      dtype='<U14')"
            ]
          },
          "metadata": {},
          "execution_count": 10
        }
      ]
    },
    {
      "cell_type": "markdown",
      "source": [
        "Setelah kosakata diatur, lapisan dapat mengkodekan teks ke dalam indeks. Tensor indeks diberi bantalan 0 ke urutan terpanjang dalam batch (kecuali jika Anda menetapkan output_sequence_length tetap):"
      ],
      "metadata": {
        "id": "0aMb5cI3tu8p"
      }
    },
    {
      "cell_type": "code",
      "source": [
        "# Menggunakan layer TextVectorization (encoder) untuk mengkodekan contoh teks\n",
        "encoded_example = encoder(example)[:3].numpy()\n",
        "\n",
        "# Mencetak hasil encoding untuk tiga contoh pertama\n",
        "encoded_example"
      ],
      "metadata": {
        "colab": {
          "base_uri": "https://localhost:8080/"
        },
        "id": "bfY_wxX4ttAw",
        "outputId": "1a9dcbaf-5588-4e13-dfa5-0d97224db129"
      },
      "execution_count": null,
      "outputs": [
        {
          "output_type": "execute_result",
          "data": {
            "text/plain": [
              "array([[  1,   1, 390, ...,   0,   0,   0],\n",
              "       [  1,   1, 207, ...,   0,   0,   0],\n",
              "       [ 10,  26,  75, ...,   0,   0,   0]])"
            ]
          },
          "metadata": {},
          "execution_count": 11
        }
      ]
    },
    {
      "cell_type": "markdown",
      "source": [
        "Dengan pengaturan default, prosesnya tidak dapat dibalik sepenuhnya. Ada dua alasan utama untuk itu:\n",
        "- Nilai default untuk argumen standarisasi preprocessing.TextVectorization adalah \"lower_and_strip_punctuation\".\n",
        "- Ukuran kosa kata yang terbatas dan kurangnya fallback berbasis karakter menghasilkan beberapa token yang tidak diketahui."
      ],
      "metadata": {
        "id": "QRPytwXMt6lO"
      }
    },
    {
      "cell_type": "code",
      "source": [
        "# Melakukan loop untuk tiga contoh\n",
        "for n in range(3):\n",
        "  # Mencetak teks asli dari contoh\n",
        "  print(\"Original: \", example[n].numpy())\n",
        "  # Mencetak teks yang telah di-\"round-trip\" (dikodekan dan didekodekan kembali)\n",
        "  print(\"Round-trip: \", \" \".join(vocab[encoded_example[n]]))\n",
        "  # Mencetak baris kosong untuk pemisah antar contoh\n",
        "  print()"
      ],
      "metadata": {
        "colab": {
          "base_uri": "https://localhost:8080/"
        },
        "id": "3OpPvzF9uG0k",
        "outputId": "0cfd3e09-b0d4-4b4a-dfe0-15f4f73cfd85"
      },
      "execution_count": null,
      "outputs": [
        {
          "output_type": "stream",
          "name": "stdout",
          "text": [
            "Original:  b'Keanu Reeves stars as a friend of a popular high school student who suddenly commits suicide...he and his friends go through emotional turmoil and share their reactions to this horrible incident...Good acting by Reeves and a young Jennifer Rubin..but on the whole is a little too much.. 4 of 10'\n",
            "Round-trip:  [UNK] [UNK] stars as a friend of a [UNK] high school [UNK] who [UNK] [UNK] [UNK] and his friends go through emotional [UNK] and [UNK] their [UNK] to this horrible [UNK] acting by [UNK] and a young [UNK] [UNK] on the whole is a little too much 4 of 10                                                                                                                                                                                                                                                                                                                                                                                                                                                                                                                                                                                                                                                                                                                                                                                                                                                                                                            \n",
            "\n",
            "Original:  b\"Rodney Dangerfield isn't the main character of this movie. He's barely in it. Most of the screen time is dominated by unfunny jokes. One running gag is that a character is named Jerk Off. There are also lots of erection jokes, where the punch line is someone has an erection. This movie is as funny as Kirstie Ally's British accent is convincing.<br /><br />This movie started off like a weak action movie: five minutes of back story and then bam! Unfunny jokes. But, aside from the terrible writing, the movie is also poorly directed and the acting is terrible. Also, this movie does the old bad comedy clich\\xc3\\xa9 of having lots of well-known B-movie actors. Harland Williams, Gilbert Godfried, Randy Quaid, and Phil La Mar. These are just some of the people that spend more time on the screen than Rodney, even though he's billed as the main character. Don't be surprised to find this movie at a drug store selling for five bucks. Even that is too much.\"\n",
            "Round-trip:  [UNK] [UNK] isnt the main character of this movie hes [UNK] in it most of the screen time is [UNK] by [UNK] jokes one running [UNK] is that a character is named [UNK] off there are also lots of [UNK] jokes where the [UNK] line is someone has an [UNK] this movie is as funny as [UNK] [UNK] british [UNK] is [UNK] br this movie started off like a weak action movie five minutes of back story and then [UNK] [UNK] jokes but [UNK] from the terrible writing the movie is also poorly directed and the acting is terrible also this movie does the old bad comedy [UNK] of having lots of [UNK] [UNK] actors [UNK] [UNK] [UNK] [UNK] [UNK] [UNK] and [UNK] la [UNK] these are just some of the people that [UNK] more time on the screen than [UNK] even though hes [UNK] as the main character dont be surprised to find this movie at a [UNK] [UNK] [UNK] for five [UNK] even that is too much                                                                                                                                                                                                                                                                                                                                                                                                                                                                                                                                                                                                                                                                                                                                                                                     \n",
            "\n",
            "Original:  b\"I have been a Star Trek fan for as long as I can remember. When they announced the planning and premiere of the fifth series I was very excited.<br /><br />The premiere of Enterprise was well worth the wait. It was well done with the perfect setting and a great acting job done by all the characters. The NX-01, Enterprise is the perfect vessel to show the beginnings of what many people have come to love.<br /><br />Scott Bakula was just superior as Captain Jonathan Archer. Jolene Blalock gave a commanding performance as Subcommander T'Pol. That it just two people of this wonderful new crew that is boldly going to take us into the great history of Starfleet.<br /><br />Enterprise looks like it's going to be a good series well worth watching, and I recommend that. Watch it.\"\n",
            "Round-trip:  i have been a star [UNK] fan for as long as i can remember when they [UNK] the [UNK] and [UNK] of the [UNK] series i was very [UNK] br the [UNK] of [UNK] was well worth the wait it was well done with the perfect setting and a great acting job done by all the characters the [UNK] [UNK] is the perfect [UNK] to show the [UNK] of what many people have come to [UNK] br [UNK] [UNK] was just [UNK] as [UNK] [UNK] [UNK] [UNK] [UNK] gave a [UNK] performance as [UNK] [UNK] that it just two people of this wonderful new [UNK] that is [UNK] going to take us into the great history of [UNK] br [UNK] looks like its going to be a good series well worth watching and i recommend that watch it                                                                                                                                                                                                                                                                                                                                                                                                                                                                                                                                                                                                                                                                                                                                                                                                                    \n",
            "\n"
          ]
        }
      ]
    },
    {
      "cell_type": "markdown",
      "source": [
        "diagram model dapat dilihat pada gambar diatas\n",
        "\n",
        "1. Model ini dapat dibuat sebagai tf.keras.Sequential.\n",
        "2. Lapisan pertama adalah encoder, yang mengubah teks menjadi urutan indeks token.\n",
        "3. Setelah encoder adalah lapisan penyematan (embedding layer). Lapisan penyematan menyimpan satu vektor per kata. Saat dipanggil, ini mengubah rangkaian indeks kata menjadi rangkaian vektor. Vektor-vektor ini dapat dilatih. Setelah pelatihan (dengan data yang cukup), kata-kata dengan arti yang mirip sering kali memiliki vektor yang serupa. Pencarian indeks ini jauh lebih efisien daripada operasi setara dengan meneruskan vektor yang disandikan one-hot melalui lapisan tf.keras.layers.Dense.\n",
        "4. Jaringan saraf berulang (RNN) memproses masukan urutan dengan melakukan iterasi melalui elemen. RNN meneruskan keluaran dari satu langkah waktu ke masukannya pada langkah waktu berikutnya.\n",
        "Pembungkus tf.keras.layers.Bidirection juga dapat digunakan dengan lapisan RNN. Ini menyebarkan masukan maju dan mundur melalui lapisan RNN dan kemudian menggabungkan keluaran akhir.\n",
        "- Keuntungan utama RNN dua arah adalah sinyal dari awal masukan tidak perlu diproses sepanjang waktu untuk memengaruhi keluaran.\n",
        "- Kerugian utama dari RNN dua arah adalah Anda tidak dapat melakukan streaming prediksi secara efisien saat kata-kata ditambahkan di akhir.\n",
        "5. Setelah RNN mengonversi urutan menjadi satu vektor, kedua lapisan tersebut.Dense melakukan beberapa pemrosesan akhir, dan mengonversi representasi vektor ini menjadi logit tunggal sebagai keluaran klasifikasi\n",
        "\n",
        "Kode nya adalah sebagai berikut :"
      ],
      "metadata": {
        "id": "UGBATSD2uRBN"
      }
    },
    {
      "cell_type": "code",
      "source": [
        "# Membuat model sequential dengan layer-layer berikut:\n",
        "model = tf.keras.Sequential([\n",
        "    # Layer TextVectorization (encoder) untuk mengubah teks menjadi representasi numerik\n",
        "    encoder,\n",
        "    # Layer Embedding untuk mapping representasi numerik ke vektor berdimensi 64\n",
        "    tf.keras.layers.Embedding(\n",
        "        input_dim=len(encoder.get_vocabulary()),\n",
        "        output_dim=64,\n",
        "        # Menggunakan masking untuk menangani panjang urutan yang bervariasi\n",
        "        mask_zero=True),\n",
        "    # Layer Bidirectional LSTM dengan 64 unit untuk memahami konteks sepanjang urutan\n",
        "    tf.keras.layers.Bidirectional(tf.keras.layers.LSTM(64)),\n",
        "    # Layer Dense dengan 64 unit dan aktivasi ReLU\n",
        "    tf.keras.layers.Dense(64, activation='relu'),\n",
        "    # Layer Dense dengan 1 unit untuk output binary (binary classification)\n",
        "    tf.keras.layers.Dense(1)\n",
        "])"
      ],
      "metadata": {
        "id": "EBrPhdX7uwF4"
      },
      "execution_count": null,
      "outputs": []
    },
    {
      "cell_type": "code",
      "source": [
        "print([layer.supports_masking for layer in model.layers])"
      ],
      "metadata": {
        "colab": {
          "base_uri": "https://localhost:8080/"
        },
        "id": "1OEzuoWYu9jD",
        "outputId": "a54a81a8-635e-4684-90eb-7a0f32b82803"
      },
      "execution_count": null,
      "outputs": [
        {
          "output_type": "stream",
          "name": "stdout",
          "text": [
            "[False, True, True, True, True]\n"
          ]
        }
      ]
    },
    {
      "cell_type": "markdown",
      "source": [
        "Untuk memastikan bahwa ini berfungsi seperti yang diharapkan, evaluasi sebuah kalimat dua kali. Pertama, satu kalimat sehingga tidak ada bantalan (padding) untuk disamarkan:"
      ],
      "metadata": {
        "id": "RlHRHXKlvG_R"
      }
    },
    {
      "cell_type": "code",
      "source": [
        "# predict on a sample text without padding.\n",
        "\n",
        "sample_text = ('The movie was cool. The animation and the graphics '\n",
        "               'were out of this world. I would recommend this movie.')\n",
        "predictions = model.predict(np.array([sample_text]))\n",
        "print(predictions[0])"
      ],
      "metadata": {
        "colab": {
          "base_uri": "https://localhost:8080/"
        },
        "id": "p8IqaPJNvF86",
        "outputId": "4dec9f5a-514f-49a0-827e-fd6aa303410a"
      },
      "execution_count": null,
      "outputs": [
        {
          "output_type": "stream",
          "name": "stdout",
          "text": [
            "1/1 [==============================] - 4s 4s/step\n",
            "[-0.01421347]\n"
          ]
        }
      ]
    },
    {
      "cell_type": "markdown",
      "source": [
        "Sekarang, evaluasi lagi dalam batch dengan kalimat yang lebih panjang. Hasilnya harus sama:"
      ],
      "metadata": {
        "id": "J1y2ev7YvK2C"
      }
    },
    {
      "cell_type": "code",
      "source": [
        "# predict on a sample text with padding\n",
        "\n",
        "padding = \"the \" * 2000\n",
        "predictions = model.predict(np.array([sample_text, padding]))\n",
        "print(predictions[0])"
      ],
      "metadata": {
        "colab": {
          "base_uri": "https://localhost:8080/"
        },
        "id": "jhEXBW8VvMbo",
        "outputId": "91da35e5-a9a0-4e78-b4b2-81d65e09dc8b"
      },
      "execution_count": null,
      "outputs": [
        {
          "output_type": "stream",
          "name": "stdout",
          "text": [
            "1/1 [==============================] - 0s 372ms/step\n",
            "[-0.01421347]\n"
          ]
        }
      ]
    },
    {
      "cell_type": "markdown",
      "source": [
        "compile model Keras untuk mengonfigurasi proses pelatihan:"
      ],
      "metadata": {
        "id": "U5B0tExavQlb"
      }
    },
    {
      "cell_type": "code",
      "source": [
        "model.compile(loss=tf.keras.losses.BinaryCrossentropy(from_logits=True),\n",
        "              optimizer=tf.keras.optimizers.Adam(1e-4),\n",
        "              metrics=['accuracy'])"
      ],
      "metadata": {
        "id": "RH4y1KlRvSbP"
      },
      "execution_count": null,
      "outputs": []
    },
    {
      "cell_type": "code",
      "source": [
        "history = model.fit(train_dataset, epochs=10,\n",
        "                    validation_data=test_dataset,\n",
        "                    validation_steps=30)"
      ],
      "metadata": {
        "colab": {
          "base_uri": "https://localhost:8080/"
        },
        "id": "LocdOvEqvV2w",
        "outputId": "816d4135-22ec-4322-b0cf-9737baabf5e4"
      },
      "execution_count": null,
      "outputs": [
        {
          "output_type": "stream",
          "name": "stdout",
          "text": [
            "Epoch 1/10\n",
            "391/391 [==============================] - 889s 2s/step - loss: 0.6328 - accuracy: 0.5719 - val_loss: 0.4731 - val_accuracy: 0.7615\n",
            "Epoch 2/10\n",
            "391/391 [==============================] - 865s 2s/step - loss: 0.4306 - accuracy: 0.7914 - val_loss: 0.3939 - val_accuracy: 0.8281\n",
            "Epoch 3/10\n",
            "391/391 [==============================] - 890s 2s/step - loss: 0.3598 - accuracy: 0.8401 - val_loss: 0.3525 - val_accuracy: 0.8500\n",
            "Epoch 4/10\n",
            "391/391 [==============================] - 720s 2s/step - loss: 0.3282 - accuracy: 0.8592 - val_loss: 0.3457 - val_accuracy: 0.8490\n",
            "Epoch 5/10\n",
            "391/391 [==============================] - 672s 2s/step - loss: 0.3165 - accuracy: 0.8632 - val_loss: 0.3286 - val_accuracy: 0.8552\n",
            "Epoch 6/10\n",
            "391/391 [==============================] - 676s 2s/step - loss: 0.3082 - accuracy: 0.8696 - val_loss: 0.3281 - val_accuracy: 0.8562\n",
            "Epoch 7/10\n",
            "391/391 [==============================] - 692s 2s/step - loss: 0.3060 - accuracy: 0.8692 - val_loss: 0.3246 - val_accuracy: 0.8542\n",
            "Epoch 8/10\n",
            "391/391 [==============================] - 667s 2s/step - loss: 0.3008 - accuracy: 0.8717 - val_loss: 0.3247 - val_accuracy: 0.8490\n",
            "Epoch 9/10\n",
            "391/391 [==============================] - 649s 2s/step - loss: 0.2967 - accuracy: 0.8751 - val_loss: 0.3209 - val_accuracy: 0.8562\n",
            "Epoch 10/10\n",
            "391/391 [==============================] - 666s 2s/step - loss: 0.2956 - accuracy: 0.8744 - val_loss: 0.3219 - val_accuracy: 0.8630\n"
          ]
        }
      ]
    },
    {
      "cell_type": "code",
      "source": [
        "# Evaluasi model pada dataset uji dan mendapatkan nilai loss dan akurasi\n",
        "test_loss, test_acc = model.evaluate(test_dataset)\n",
        "\n",
        "# Mencetak nilai loss pada dataset uji\n",
        "print('Test Loss:', test_loss)\n",
        "\n",
        "# Mencetak nilai akurasi pada dataset uji\n",
        "print('Test Accuracy:', test_acc)"
      ],
      "metadata": {
        "colab": {
          "base_uri": "https://localhost:8080/"
        },
        "id": "llAwRp4KveEv",
        "outputId": "21298b65-c9d3-4084-b5d6-cb42cae7c99e"
      },
      "execution_count": null,
      "outputs": [
        {
          "output_type": "stream",
          "name": "stdout",
          "text": [
            "391/391 [==============================] - 205s 525ms/step - loss: 0.3178 - accuracy: 0.8648\n",
            "Test Loss: 0.3177594840526581\n",
            "Test Accuracy: 0.864799976348877\n"
          ]
        }
      ]
    },
    {
      "cell_type": "code",
      "source": [
        "# Membuat gambar berukuran 16x8 inci\n",
        "plt.figure(figsize=(16, 8))\n",
        "\n",
        "# Membuat subplot pertama (1 baris, 2 kolom, subplot pertama)\n",
        "plt.subplot(1, 2, 1)\n",
        "# Memanggil fungsi plot_graphs untuk plot akurasi dari histori pelatihan\n",
        "plot_graphs(history, 'accuracy')\n",
        "# Mengatur batas y dari subplot pertama menjadi (None, 1)\n",
        "plt.ylim(None, 1)\n",
        "\n",
        "# Membuat subplot kedua (1 baris, 2 kolom, subplot kedua)\n",
        "plt.subplot(1, 2, 2)\n",
        "# Memanggil fungsi plot_graphs untuk plot loss dari histori pelatihan\n",
        "plot_graphs(history, 'loss')\n",
        "# Mengatur batas y dari subplot kedua menjadi (0, None)\n",
        "plt.ylim(0, None)\n"
      ],
      "metadata": {
        "colab": {
          "base_uri": "https://localhost:8080/",
          "height": 719
        },
        "id": "9OMH4hz7voaf",
        "outputId": "c7beb510-4ce4-4376-bd11-cab2a7c27646"
      },
      "execution_count": null,
      "outputs": [
        {
          "output_type": "execute_result",
          "data": {
            "text/plain": [
              "(0.0, 0.6496644005179405)"
            ]
          },
          "metadata": {},
          "execution_count": 20
        },
        {
          "output_type": "display_data",
          "data": {
            "text/plain": [
              "<Figure size 1600x800 with 2 Axes>"
            ],
            "image/png": "[encoded data removed]"
          },
          "metadata": {}
        }
      ]
    },
    {
      "cell_type": "markdown",
      "source": [
        "Jalankan prediksi pada kalimat baru:\n",
        "\n",
        "Jika prediksi >= 0,0 berarti positif, jika tidak maka negatif."
      ],
      "metadata": {
        "id": "RcvW4Irrvwdc"
      }
    },
    {
      "cell_type": "code",
      "source": [
        "# Menentukan teks sampel untuk melakukan prediksi\n",
        "sample_text = ('The movie was cool. The animation and the graphics '\n",
        "               'were out of this world. I would recommend this movie.')\n",
        "\n",
        "# Melakukan prediksi menggunakan model pada teks sampel yang diberikan\n",
        "predictions = model.predict(np.array([sample_text]))"
      ],
      "metadata": {
        "colab": {
          "base_uri": "https://localhost:8080/"
        },
        "id": "3J76dHY7v5-r",
        "outputId": "982968b6-0661-4e26-e471-8ad60daed41c"
      },
      "execution_count": null,
      "outputs": [
        {
          "output_type": "stream",
          "name": "stdout",
          "text": [
            "1/1 [==============================] - 3s 3s/step\n"
          ]
        }
      ]
    },
    {
      "cell_type": "markdown",
      "source": [
        "Hal yang menarik dari penggunaan RNN dengan return_sequences=True adalah outputnya masih memiliki 3 axis, sama seperti inputnya, sehingga bisa diteruskan ke layer RNN lain, seperti ini:"
      ],
      "metadata": {
        "id": "nEgGIk-3wDjy"
      }
    },
    {
      "cell_type": "code",
      "source": [
        "# Membuat model sequential dengan layer-layer berikut:\n",
        "model = tf.keras.Sequential([\n",
        "    # Layer TextVectorization (encoder) untuk mengubah teks menjadi representasi numerik\n",
        "    encoder,\n",
        "    # Layer Embedding untuk mapping representasi numerik ke vektor berdimensi 64 dengan masking\n",
        "    tf.keras.layers.Embedding(len(encoder.get_vocabulary()), 64, mask_zero=True),\n",
        "    # Layer Bidirectional LSTM dengan 64 unit untuk memahami konteks sepanjang urutan\n",
        "    tf.keras.layers.Bidirectional(tf.keras.layers.LSTM(64, return_sequences=True)),\n",
        "    # Layer Bidirectional LSTM dengan 32 unit\n",
        "    tf.keras.layers.Bidirectional(tf.keras.layers.LSTM(32)),\n",
        "    # Layer Dense dengan 64 unit dan aktivasi ReLU\n",
        "    tf.keras.layers.Dense(64, activation='relu'),\n",
        "    # Layer Dropout untuk mengurangi overfitting\n",
        "    tf.keras.layers.Dropout(0.5),\n",
        "    # Layer Dense dengan 1 unit untuk output binary (binary classification)\n",
        "    tf.keras.layers.Dense(1)\n",
        "])"
      ],
      "metadata": {
        "id": "ONhc9lbBwCkh"
      },
      "execution_count": null,
      "outputs": []
    },
    {
      "cell_type": "code",
      "source": [
        "# Mengompilasi model dengan menggunakan Binary Crossentropy sebagai fungsi loss\n",
        "# from_logits=True digunakan karena model memberikan output logits tanpa aktivasi sigmoid\n",
        "# Optimizer yang digunakan adalah Adam dengan learning rate 1e-4\n",
        "# Metrik yang diukur adalah akurasi\n",
        "model.compile(\n",
        "    loss=tf.keras.losses.BinaryCrossentropy(from_logits=True),\n",
        "    optimizer=tf.keras.optimizers.Adam(1e-4),\n",
        "    metrics=['accuracy']\n",
        ")"
      ],
      "metadata": {
        "id": "eto7O0fmwTU3"
      },
      "execution_count": null,
      "outputs": []
    },
    {
      "cell_type": "code",
      "source": [
        "# Melatih model menggunakan dataset pelatihan dengan 10 epochs\n",
        "# validation_data adalah dataset uji yang digunakan untuk validasi selama pelatihan\n",
        "# validation_steps menentukan jumlah langkah validasi yang diambil pada setiap epoch\n",
        "history = model.fit(\n",
        "    train_dataset,\n",
        "    epochs=10,\n",
        "    validation_data=test_dataset,\n",
        "    validation_steps=30\n",
        ")"
      ],
      "metadata": {
        "colab": {
          "base_uri": "https://localhost:8080/"
        },
        "id": "Tj0OFqY2wdqV",
        "outputId": "c1994b55-bf71-4704-8a1b-717c9982d2ac"
      },
      "execution_count": null,
      "outputs": [
        {
          "output_type": "stream",
          "name": "stdout",
          "text": [
            "Epoch 1/10\n",
            "391/391 [==============================] - 1483s 4s/step - loss: 0.2913 - accuracy: 0.8769 - val_loss: 0.3205 - val_accuracy: 0.8646\n",
            "Epoch 2/10\n",
            "391/391 [==============================] - 1460s 4s/step - loss: 0.2896 - accuracy: 0.8773 - val_loss: 0.3284 - val_accuracy: 0.8474\n",
            "Epoch 3/10\n",
            "391/391 [==============================] - 1453s 4s/step - loss: 0.2873 - accuracy: 0.8772 - val_loss: 0.3351 - val_accuracy: 0.8354\n",
            "Epoch 4/10\n",
            "391/391 [==============================] - 1453s 4s/step - loss: 0.2846 - accuracy: 0.8775 - val_loss: 0.3277 - val_accuracy: 0.8401\n",
            "Epoch 5/10\n",
            "391/391 [==============================] - 1483s 4s/step - loss: 0.2830 - accuracy: 0.8791 - val_loss: 0.3485 - val_accuracy: 0.8625\n",
            "Epoch 6/10\n",
            "391/391 [==============================] - 1484s 4s/step - loss: 0.2815 - accuracy: 0.8794 - val_loss: 0.3332 - val_accuracy: 0.8516\n",
            "Epoch 7/10\n",
            "391/391 [==============================] - 1538s 4s/step - loss: 0.2805 - accuracy: 0.8801 - val_loss: 0.3309 - val_accuracy: 0.8495\n",
            "Epoch 8/10\n",
            "391/391 [==============================] - 1514s 4s/step - loss: 0.2797 - accuracy: 0.8790 - val_loss: 0.3357 - val_accuracy: 0.8333\n",
            "Epoch 9/10\n",
            "391/391 [==============================] - 1496s 4s/step - loss: 0.2793 - accuracy: 0.8804 - val_loss: 0.3352 - val_accuracy: 0.8562\n",
            "Epoch 10/10\n",
            "391/391 [==============================] - 1520s 4s/step - loss: 0.2738 - accuracy: 0.8837 - val_loss: 0.3412 - val_accuracy: 0.8568\n"
          ]
        }
      ]
    },
    {
      "cell_type": "code",
      "source": [
        "# Evaluasi model pada dataset uji dan mendapatkan nilai loss dan akurasi\n",
        "test_loss, test_acc = model.evaluate(test_dataset)\n",
        "\n",
        "# Mencetak nilai loss pada dataset uji\n",
        "print('Test Loss:', test_loss)\n",
        "\n",
        "# Mencetak nilai akurasi pada dataset uji\n",
        "print('Test Accuracy:', test_acc)"
      ],
      "metadata": {
        "colab": {
          "base_uri": "https://localhost:8080/"
        },
        "id": "R-AodpgswiJy",
        "outputId": "3f14c1cb-16ed-46e3-bc21-0052187e57d8"
      },
      "execution_count": null,
      "outputs": [
        {
          "output_type": "stream",
          "name": "stdout",
          "text": [
            "391/391 [==============================] - 375s 958ms/step - loss: 0.3338 - accuracy: 0.8587\n",
            "Test Loss: 0.3337913751602173\n",
            "Test Accuracy: 0.858680009841919\n"
          ]
        }
      ]
    },
    {
      "cell_type": "code",
      "source": [
        "# Melakukan prediksi pada sebuah teks sampel tanpa padding\n",
        "sample_text = ('The movie was not good. The animation and the graphics '\n",
        "               'were terrible. I would not recommend this movie.')\n",
        "\n",
        "# Melakukan prediksi menggunakan model pada teks sampel yang diberikan\n",
        "predictions = model.predict(np.array([sample_text]))\n",
        "\n",
        "# Mencetak hasil prediksi\n",
        "print(predictions)"
      ],
      "metadata": {
        "colab": {
          "base_uri": "https://localhost:8080/"
        },
        "id": "2MKvf7v3wv3S",
        "outputId": "2158c759-a20e-40a1-dc05-210e3b73b300"
      },
      "execution_count": null,
      "outputs": [
        {
          "output_type": "stream",
          "name": "stdout",
          "text": [
            "1/1 [==============================] - 12s 12s/step\n",
            "[[-1.8343757]]\n"
          ]
        }
      ]
    },
    {
      "cell_type": "code",
      "source": [
        "# Membuat gambar berukuran 16x6 inci dengan dua subplot\n",
        "plt.figure(figsize=(16, 6))\n",
        "\n",
        "# Membuat subplot pertama (1 baris, 2 kolom, subplot pertama)\n",
        "plt.subplot(1, 2, 1)\n",
        "# Memanggil fungsi plot_graphs untuk plot akurasi dari histori pelatihan\n",
        "plot_graphs(history, 'accuracy')\n",
        "\n",
        "# Membuat subplot kedua (1 baris, 2 kolom, subplot kedua)\n",
        "plt.subplot(1, 2, 2)\n",
        "# Memanggil fungsi plot_graphs untuk plot loss dari histori pelatihan\n",
        "plot_graphs(history, 'loss')"
      ],
      "metadata": {
        "colab": {
          "base_uri": "https://localhost:8080/",
          "height": 542
        },
        "id": "C4pkApD7wynH",
        "outputId": "de008f15-a6f2-47a9-d33b-1f994236046c"
      },
      "execution_count": null,
      "outputs": [
        {
          "output_type": "display_data",
          "data": {
            "text/plain": [
              "<Figure size 1600x600 with 2 Axes>"
            ],
            "image/png": "[encoded data removed]"
          },
          "metadata": {}
        }
      ]
    },
    {
      "cell_type": "markdown",
      "source": [
        "# **PRAKTIKUM 2 - Generator Teks dengan RNN**"
      ],
      "metadata": {
        "id": "EaPn3TPwxFUm"
      }
    },
    {
      "cell_type": "markdown",
      "source": [
        "Praktikum ini mendemonstrasikan cara melakukan genearsi text menggunakan RNN. Dataset yang digunkan adalah dataset Shakespeare's writing from Andrej Karpathy's The Unreasonable Effectiveness of Recurrent Neural Networks. Jika diberikan urutan karakter dari data ini (\"Shakespear\"), latih model untuk memprediksi karakter berikutnya dalam urutan (\"e\"). Urutan teks yang lebih panjang dapat dihasilkan dengan memanggil model berulang kali.\n",
        "\n",
        "Note: Enable GPU acceleration to execute this notebook faster. In Colab: Runtime > Change runtime type > Hardware accelerator > GPU.\n",
        "\n",
        "Tutorial ini menggunakan tf.keras dan eager execution. Berikut adalah contoh output ketika model dalam tutorial ini dilatih selama 30 epoch, dan dimulai dengan prompt \"Q\":"
      ],
      "metadata": {
        "id": "A15gmsUmxOCF"
      }
    },
    {
      "cell_type": "code",
      "source": [
        "import tensorflow as tf\n",
        "import numpy as np\n",
        "import os\n",
        "import time"
      ],
      "metadata": {
        "id": "Tl2NsUOpxLFl"
      },
      "execution_count": null,
      "outputs": []
    },
    {
      "cell_type": "markdown",
      "source": [
        "Download Dataset Shakespeare\n",
        "\n",
        "Sesuaikan dengan lokasi data yang Anda punya."
      ],
      "metadata": {
        "id": "Ej5zjvFoxmAx"
      }
    },
    {
      "cell_type": "code",
      "source": [
        "path_to_file = tf.keras.utils.get_file('shakespeare.txt', 'https://storage.googleapiS.com/download.tensorflow.org/data/shakespeare.txt')"
      ],
      "metadata": {
        "colab": {
          "base_uri": "https://localhost:8080/"
        },
        "id": "VAh2AXkHxkz0",
        "outputId": "ffe430d7-48ac-406a-b2d9-6e58117d9384"
      },
      "execution_count": null,
      "outputs": [
        {
          "output_type": "stream",
          "name": "stdout",
          "text": [
            "Downloading data from https://storage.googleapiS.com/download.tensorflow.org/data/shakespeare.txt\n",
            "1115394/1115394 [==============================] - 0s 0us/step\n"
          ]
        }
      ]
    },
    {
      "cell_type": "markdown",
      "source": [
        "Load Data"
      ],
      "metadata": {
        "id": "0uHkcWXJx4LZ"
      }
    },
    {
      "cell_type": "code",
      "source": [
        "# Read, then decode for py2 compat.\n",
        "text = open(path_to_file, 'rb').read().decode(encoding='utf-8')\n",
        "# length of text is the number of characters in it\n",
        "print(f'Length of text: {len(text)} characters')"
      ],
      "metadata": {
        "colab": {
          "base_uri": "https://localhost:8080/"
        },
        "id": "q_PNvCnDx1oN",
        "outputId": "dfef06bb-d3ca-4e69-fae7-2729a7ce2f91"
      },
      "execution_count": null,
      "outputs": [
        {
          "output_type": "stream",
          "name": "stdout",
          "text": [
            "Length of text: 1115394 characters\n"
          ]
        }
      ]
    },
    {
      "cell_type": "code",
      "source": [
        "# Take a look at the first 250 characters in text\n",
        "print(text[:250])"
      ],
      "metadata": {
        "colab": {
          "base_uri": "https://localhost:8080/"
        },
        "id": "kb4o_LYbx692",
        "outputId": "6b1c1bcb-3c8a-45cf-f231-0a3484ace98b"
      },
      "execution_count": null,
      "outputs": [
        {
          "output_type": "stream",
          "name": "stdout",
          "text": [
            "First Citizen:\n",
            "Before we proceed any further, hear me speak.\n",
            "\n",
            "All:\n",
            "Speak, speak.\n",
            "\n",
            "First Citizen:\n",
            "You are all resolved rather to die than to famish?\n",
            "\n",
            "All:\n",
            "Resolved. resolved.\n",
            "\n",
            "First Citizen:\n",
            "First, you know Caius Marcius is chief enemy to the people.\n",
            "\n"
          ]
        }
      ]
    },
    {
      "cell_type": "code",
      "source": [
        "# The unique characters in the file\n",
        "vocab = sorted(set(text))\n",
        "print(f'{len(vocab)} unique characters')"
      ],
      "metadata": {
        "colab": {
          "base_uri": "https://localhost:8080/"
        },
        "id": "888T3Faix8b4",
        "outputId": "4ad27919-c303-4eb2-da09-fcb39de384a4"
      },
      "execution_count": null,
      "outputs": [
        {
          "output_type": "stream",
          "name": "stdout",
          "text": [
            "65 unique characters\n"
          ]
        }
      ]
    },
    {
      "cell_type": "markdown",
      "source": [
        "**Olah Teks**\n",
        "\n",
        "Vectorize Teks\n",
        "Sebelum training, Anda perlu mengonversi string menjadi representasi numerik. tf.keras.layers.StringLookup dapat mengubah setiap karakter menjadi ID numerik. Caranya adalah teks akan dipecah menjadi token terlebih dahulu."
      ],
      "metadata": {
        "id": "Ki_6SX5Gx-7P"
      }
    },
    {
      "cell_type": "code",
      "source": [
        "# Menentukan teks contoh sebagai list\n",
        "example_texts = ['abcdefg', 'xyz']\n",
        "\n",
        "# Membagi setiap karakter dalam teks contoh menggunakan unicode_split\n",
        "# dengan input_encoding='UTF-8'\n",
        "chars = tf.strings.unicode_split(example_texts, input_encoding='UTF-8')\n",
        "\n",
        "# Mencetak hasil pembagian karakter\n",
        "chars"
      ],
      "metadata": {
        "colab": {
          "base_uri": "https://localhost:8080/"
        },
        "id": "tnOcV3XYyPup",
        "outputId": "b02cd475-bec2-4873-9599-06a77fa2cc9e"
      },
      "execution_count": null,
      "outputs": [
        {
          "output_type": "execute_result",
          "data": {
            "text/plain": [
              "<tf.RaggedTensor [[b'a', b'b', b'c', b'd', b'e', b'f', b'g'], [b'x', b'y', b'z']]>"
            ]
          },
          "metadata": {},
          "execution_count": 9
        }
      ]
    },
    {
      "cell_type": "markdown",
      "source": [
        "sekarang buat tf.keras.layers.StringLookup layer:"
      ],
      "metadata": {
        "id": "Hny9AVGhyW3_"
      }
    },
    {
      "cell_type": "code",
      "source": [
        "# Membuat layer StringLookup untuk mengubah karakter menjadi ID\n",
        "# dengan menggunakan vokabular yang diperoleh sebelumnya\n",
        "# mask_token=None digunakan karena tidak ada token khusus untuk masking\n",
        "ids_from_chars = tf.keras.layers.StringLookup(\n",
        "    vocabulary=list(vocab),\n",
        "    mask_token=None\n",
        ")"
      ],
      "metadata": {
        "id": "SGOb4glSyTTh"
      },
      "execution_count": null,
      "outputs": []
    },
    {
      "cell_type": "markdown",
      "source": [
        "perintah diatas mengconvert token menjadi id"
      ],
      "metadata": {
        "id": "ajXToUkgyZH_"
      }
    },
    {
      "cell_type": "code",
      "source": [
        "# Menggunakan layer StringLookup (ids_from_chars) untuk mengubah setiap karakter dalam chars menjadi ID\n",
        "ids = ids_from_chars(chars)\n",
        "\n",
        "# Mencetak hasil ID dari setiap karakter\n",
        "ids\n"
      ],
      "metadata": {
        "colab": {
          "base_uri": "https://localhost:8080/"
        },
        "id": "0KuY1aLZyg0g",
        "outputId": "9f274303-287d-4f44-8a40-0d47018eddcb"
      },
      "execution_count": null,
      "outputs": [
        {
          "output_type": "execute_result",
          "data": {
            "text/plain": [
              "<tf.RaggedTensor [[40, 41, 42, 43, 44, 45, 46], [63, 64, 65]]>"
            ]
          },
          "metadata": {},
          "execution_count": 11
        }
      ]
    },
    {
      "cell_type": "markdown",
      "source": [
        "Karena tujuan tutorial ini adalah untuk menghasilkan teks, penting juga untuk membalikkan representasi ini. Untuk ini Anda dapat menggunakan kode tf.keras.layers.StringLookup(..., invert=True).\n",
        "\n",
        "Catatan: pada kode ini, daripada meneruskan kosakata asli yang dihasilkan dengan diurutkan(set(teks)) gunakan metode get_vocabulary() dari tf.keras.layers.StringLookup sehingga token [UNK] disetel dengan cara yang sama."
      ],
      "metadata": {
        "id": "BKmuNBLsykyo"
      }
    },
    {
      "cell_type": "code",
      "source": [
        "# Membuat layer StringLookup untuk mengonversi karakter ke ID dan sebaliknya.\n",
        "chars_from_ids = tf.keras.layers.StringLookup(\n",
        "    # Menggunakan vocabulary yang diambil dari ids_from_chars untuk mapping karakter ke ID.\n",
        "    vocabulary=ids_from_chars.get_vocabulary(),\n",
        "    # Invert=True mengizinkan konversi ID ke karakter.\n",
        "    invert=True,\n",
        "    # Mengatur mask_token ke None karena tidak ada mask token yang digunakan.\n",
        "    mask_token=None\n",
        ")"
      ],
      "metadata": {
        "id": "mBIuTfsFzhTf"
      },
      "execution_count": null,
      "outputs": []
    },
    {
      "cell_type": "markdown",
      "source": [
        "Lapisan ini mengconvert kembali karakter dari vektor ID, dan mengembalikannya sebagai karakter tf.RaggedTensor:"
      ],
      "metadata": {
        "id": "LQkd7W23zhvV"
      }
    },
    {
      "cell_type": "code",
      "source": [
        "# Menggunakan layer StringLookup (chars_from_ids) untuk mengonversi ID ke karakter.\n",
        "chars = chars_from_ids(ids)\n",
        "\n",
        "# Melakukan pengonversian ID ke karakter menggunakan layer StringLookup.\n",
        "chars"
      ],
      "metadata": {
        "colab": {
          "base_uri": "https://localhost:8080/"
        },
        "id": "4-jf2t-uzm96",
        "outputId": "a4bae5f9-c8f0-47de-9ff4-645193bdaeba"
      },
      "execution_count": null,
      "outputs": [
        {
          "output_type": "execute_result",
          "data": {
            "text/plain": [
              "<tf.RaggedTensor [[b'a', b'b', b'c', b'd', b'e', b'f', b'g'], [b'x', b'y', b'z']]>"
            ]
          },
          "metadata": {},
          "execution_count": 13
        }
      ]
    },
    {
      "cell_type": "markdown",
      "source": [
        "Anda dapat menggunakan tf.strings.reduce_join untuk menggabungkan kembali karakter menjadi string."
      ],
      "metadata": {
        "id": "YsChp_hXzyG2"
      }
    },
    {
      "cell_type": "code",
      "source": [
        "# Menggunakan tf.strings.reduce_join untuk menggabungkan karakter ke dalam satu string.\n",
        "# Axis=-1 berarti penggabungan dilakukan sepanjang dimensi terakhir (axis terakhir).\n",
        "# Mengonversi hasil tensor ke dalam bentuk numpy array.\n",
        "resulting_string = tf.strings.reduce_join(chars, axis=-1).numpy()"
      ],
      "metadata": {
        "id": "aXbTdgd0zy_F"
      },
      "execution_count": null,
      "outputs": []
    },
    {
      "cell_type": "code",
      "source": [
        "# Membuat fungsi text_from_ids untuk mengonversi rangkaian ID menjadi teks.\n",
        "def text_from_ids(ids):\n",
        "    # Menggunakan chars_from_ids untuk mengonversi ID ke karakter.\n",
        "    chars = chars_from_ids(ids)\n",
        "    # Menggunakan tf.strings.reduce_join untuk menggabungkan karakter menjadi satu string.\n",
        "    # Axis=-1 berarti penggabungan dilakukan sepanjang dimensi terakhir (axis terakhir).\n",
        "    return tf.strings.reduce_join(chars, axis=-1)"
      ],
      "metadata": {
        "id": "o0kC543rz-db"
      },
      "execution_count": null,
      "outputs": []
    },
    {
      "cell_type": "markdown",
      "source": [
        "Diberikan sebuah karakter, atau serangkaian karakter, karakter apa yang paling mungkin berikutnya? Ini adalah tugas yang harus Anda latih agar model dapat melakukannya. Masukan ke model akan berupa urutan karakter, dan Anda melatih model untuk memprediksi keluaran berupa karakter berikut pada setiap langkah waktu. Karena RNN mempertahankan keadaan internal yang bergantung pada elemen yang terlihat sebelumnya, mengingat semua karakter dihitung hingga saat ini, karakter apa selanjutnya?\n",
        "\n",
        "Membuat Trianing Set dan Target\n",
        "\n",
        "Selanjutnya bagilah teks menjadi contoh sequence. Setiap masukan sequence akan berisi karakter seq_length dari teks. Untuk setiap masukan sequence, target prediksi berisi teks dengan panjang yang sama, hanya digeser satu karakter ke kanan. Jadi, bagi teks menjadi beberapa bagian seq_length+1. Misalnya, seq_length adalah 4 dan teks kita adalah \"Hello\". Urutan masukannya adalah \"Hell\", dan urutan targetnya adalah \"ello\". Untuk melakukan ini, pertama-tama gunakan fungsi tf.data.Dataset.from_tensor_slices untuk mengonversi vektor teks menjadi aliran indeks karakter."
      ],
      "metadata": {
        "id": "vsH-pzCm0Ewi"
      }
    },
    {
      "cell_type": "code",
      "source": [
        "# Menggunakan ids_from_chars untuk mengonversi teks menjadi serangkaian ID.\n",
        "all_ids = ids_from_chars(tf.strings.unicode_split(text, 'UTF-8'))\n",
        "\n",
        "# Melakukan konversi teks ke serangkaian ID menggunakan metode unicode_split pada encoding UTF-8.\n",
        "all_ids"
      ],
      "metadata": {
        "colab": {
          "base_uri": "https://localhost:8080/"
        },
        "id": "caFj0xwW0S2V",
        "outputId": "f4c1ac77-48c7-4a65-8c2e-fd3e18b58864"
      },
      "execution_count": null,
      "outputs": [
        {
          "output_type": "execute_result",
          "data": {
            "text/plain": [
              "<tf.Tensor: shape=(1115394,), dtype=int64, numpy=array([19, 48, 57, ..., 46,  9,  1])>"
            ]
          },
          "metadata": {},
          "execution_count": 16
        }
      ]
    },
    {
      "cell_type": "code",
      "source": [
        "# Membuat dataset TensorFlow dari tensor serangkaian ID menggunakan from_tensor_slices.\n",
        "ids_dataset = tf.data.Dataset.from_tensor_slices(all_ids)\n",
        "\n",
        "# Setiap elemen dalam dataset akan menjadi satu ID dari serangkaian ID."
      ],
      "metadata": {
        "id": "yGMBxQY00ZsO"
      },
      "execution_count": null,
      "outputs": []
    },
    {
      "cell_type": "code",
      "source": [
        "# Mengambil 10 elemen pertama dari ids_dataset dan mencetak hasil konversi ke teks.\n",
        "for ids in ids_dataset.take(10):\n",
        "    # Menggunakan chars_from_ids untuk mengonversi ID ke karakter, lalu dikonversi menjadi numpy array.\n",
        "    # Hasilnya kemudian didecode menggunakan UTF-8 untuk mencetak teks.\n",
        "    print(chars_from_ids(ids).numpy().decode('utf-8'))"
      ],
      "metadata": {
        "colab": {
          "base_uri": "https://localhost:8080/"
        },
        "id": "QxMb26I70dpv",
        "outputId": "a644a1b2-b43d-47b5-903d-f8c67df4b9af"
      },
      "execution_count": null,
      "outputs": [
        {
          "output_type": "stream",
          "name": "stdout",
          "text": [
            "F\n",
            "i\n",
            "r\n",
            "s\n",
            "t\n",
            " \n",
            "C\n",
            "i\n",
            "t\n",
            "i\n"
          ]
        }
      ]
    },
    {
      "cell_type": "code",
      "source": [
        "# Menentukan panjang sekuens (sequence length) menjadi 100.\n",
        "seq_length = 100\n",
        "\n",
        "# Panjang sekuens digunakan untuk menentukan panjang setiap potongan data dalam dataset."
      ],
      "metadata": {
        "id": "58mQf69i0o5K"
      },
      "execution_count": null,
      "outputs": []
    },
    {
      "cell_type": "markdown",
      "source": [
        "Metode batch memungkinkan Anda dengan mudah mengonversi karakter individual ini menjadi urutan ukuran yang diinginkan."
      ],
      "metadata": {
        "id": "X0pz8-HF0rAq"
      }
    },
    {
      "cell_type": "code",
      "source": [
        "# Membagi dataset serangkaian ID menjadi potongan-potongan sekuens dengan panjang seq_length+1.\n",
        "# drop_remainder=True memastikan bahwa setiap potongan memiliki panjang yang sama.\n",
        "sequences = ids_dataset.batch(seq_length+1, drop_remainder=True)\n",
        "\n",
        "# Mengambil satu potongan sekuens dari dataset dan mencetak hasil konversi ID ke karakter.\n",
        "for seq in sequences.take(1):\n",
        "  # Menggunakan chars_from_ids untuk mengonversi ID ke karakter.\n",
        "  print(chars_from_ids(seq))"
      ],
      "metadata": {
        "colab": {
          "base_uri": "https://localhost:8080/"
        },
        "id": "IAKA6ETz0v8h",
        "outputId": "35da5c4b-ce8a-4fe9-a2ff-0bb9344d1730"
      },
      "execution_count": null,
      "outputs": [
        {
          "output_type": "stream",
          "name": "stdout",
          "text": [
            "tf.Tensor(\n",
            "[b'F' b'i' b'r' b's' b't' b' ' b'C' b'i' b't' b'i' b'z' b'e' b'n' b':'\n",
            " b'\\n' b'B' b'e' b'f' b'o' b'r' b'e' b' ' b'w' b'e' b' ' b'p' b'r' b'o'\n",
            " b'c' b'e' b'e' b'd' b' ' b'a' b'n' b'y' b' ' b'f' b'u' b'r' b't' b'h'\n",
            " b'e' b'r' b',' b' ' b'h' b'e' b'a' b'r' b' ' b'm' b'e' b' ' b's' b'p'\n",
            " b'e' b'a' b'k' b'.' b'\\n' b'\\n' b'A' b'l' b'l' b':' b'\\n' b'S' b'p' b'e'\n",
            " b'a' b'k' b',' b' ' b's' b'p' b'e' b'a' b'k' b'.' b'\\n' b'\\n' b'F' b'i'\n",
            " b'r' b's' b't' b' ' b'C' b'i' b't' b'i' b'z' b'e' b'n' b':' b'\\n' b'Y'\n",
            " b'o' b'u' b' '], shape=(101,), dtype=string)\n"
          ]
        }
      ]
    },
    {
      "cell_type": "markdown",
      "source": [
        "akan lebih mudah untuk melihat apa yang dilakukan jika Anda menggabungkan token kembali menjadi string:"
      ],
      "metadata": {
        "id": "EK0bhYS400j_"
      }
    },
    {
      "cell_type": "code",
      "source": [
        "# Mengambil lima potongan sekuens dari dataset dan mencetak hasil konversi ID ke teks.\n",
        "for seq in sequences.take(5):\n",
        "    # Menggunakan fungsi text_from_ids untuk mengonversi ID ke teks, lalu diconvert ke dalam bentuk numpy array.\n",
        "    print(text_from_ids(seq).numpy())"
      ],
      "metadata": {
        "colab": {
          "base_uri": "https://localhost:8080/"
        },
        "id": "aZqMNr_B00Gg",
        "outputId": "064ce5a5-8891-4791-b770-f5c750dbb6e3"
      },
      "execution_count": null,
      "outputs": [
        {
          "output_type": "stream",
          "name": "stdout",
          "text": [
            "b'First Citizen:\\nBefore we proceed any further, hear me speak.\\n\\nAll:\\nSpeak, speak.\\n\\nFirst Citizen:\\nYou '\n",
            "b'are all resolved rather to die than to famish?\\n\\nAll:\\nResolved. resolved.\\n\\nFirst Citizen:\\nFirst, you k'\n",
            "b\"now Caius Marcius is chief enemy to the people.\\n\\nAll:\\nWe know't, we know't.\\n\\nFirst Citizen:\\nLet us ki\"\n",
            "b\"ll him, and we'll have corn at our own price.\\nIs't a verdict?\\n\\nAll:\\nNo more talking on't; let it be d\"\n",
            "b'one: away, away!\\n\\nSecond Citizen:\\nOne word, good citizens.\\n\\nFirst Citizen:\\nWe are accounted poor citi'\n"
          ]
        }
      ]
    },
    {
      "cell_type": "markdown",
      "source": [
        "Untuk pelatihan, Anda memerlukan kumpulan data pasangan (input, label). Dimana input dan label merupakan urutan. Pada setiap langkah waktu, inputnya adalah karakter saat ini dan labelnya adalah karakter berikutnya. Berikut adalah fungsi yang mengambil urutan sebagai masukan, menduplikasi, dan menggesernya untuk menyelaraskan masukan dan label untuk setiap langkah waktu:"
      ],
      "metadata": {
        "id": "Z3GI2PsB05lW"
      }
    },
    {
      "cell_type": "code",
      "source": [
        "# Mendefinisikan fungsi split_input_target untuk membagi setiap sekuens menjadi input dan target.\n",
        "def split_input_target(sequence):\n",
        "    # input_text adalah sekuens kecuali elemen terakhir.\n",
        "    input_text = sequence[:-1]\n",
        "    # target_text adalah sekuens kecuali elemen pertama.\n",
        "    target_text = sequence[1:]\n",
        "    return input_text, target_text"
      ],
      "metadata": {
        "id": "2xVZ8PZr09IA"
      },
      "execution_count": null,
      "outputs": []
    },
    {
      "cell_type": "code",
      "source": [
        "# Menggunakan fungsi split_input_target untuk membagi sekuens karakter \"Tensorflow\" menjadi input dan target.\n",
        "split_input_target(list(\"Tensorflow\"))\n",
        "# Output: (['T', 'e', 'n', 's', 'o', 'r', 'f', 'l', 'o'], ['e', 'n', 's', 'o', 'r', 'f', 'l', 'o', 'w'])"
      ],
      "metadata": {
        "colab": {
          "base_uri": "https://localhost:8080/"
        },
        "id": "DHXShjkI1Q5K",
        "outputId": "a5022fda-69a2-4e09-9c5c-d1d83403b8db"
      },
      "execution_count": null,
      "outputs": [
        {
          "output_type": "execute_result",
          "data": {
            "text/plain": [
              "(['T', 'e', 'n', 's', 'o', 'r', 'f', 'l', 'o'],\n",
              " ['e', 'n', 's', 'o', 'r', 'f', 'l', 'o', 'w'])"
            ]
          },
          "metadata": {},
          "execution_count": 23
        }
      ]
    },
    {
      "cell_type": "code",
      "source": [
        "# Menerapkan fungsi split_input_target pada setiap elemen dalam dataset sequences.\n",
        "dataset = sequences.map(split_input_target)\n",
        "\n",
        "# Hasilnya adalah dataset baru yang berisi pasangan input dan target untuk setiap sekuens."
      ],
      "metadata": {
        "id": "vUxWNzeF1TGT"
      },
      "execution_count": null,
      "outputs": []
    },
    {
      "cell_type": "code",
      "source": [
        "# Mengambil satu contoh input dan target dari dataset, lalu mencetak hasil konversi ID ke teks.\n",
        "for input_example, target_example in dataset.take(1):\n",
        "    # Mencetak teks dari input_example.\n",
        "    print(\"Input :\", text_from_ids(input_example).numpy())\n",
        "    # Mencetak teks dari target_example.\n",
        "    print(\"Target:\", text_from_ids(target_example).numpy())"
      ],
      "metadata": {
        "colab": {
          "base_uri": "https://localhost:8080/"
        },
        "id": "zwIYxu7y1eaB",
        "outputId": "944254ae-e15b-4f3e-d70e-869495723bb0"
      },
      "execution_count": null,
      "outputs": [
        {
          "output_type": "stream",
          "name": "stdout",
          "text": [
            "Input : b'First Citizen:\\nBefore we proceed any further, hear me speak.\\n\\nAll:\\nSpeak, speak.\\n\\nFirst Citizen:\\nYou'\n",
            "Target: b'irst Citizen:\\nBefore we proceed any further, hear me speak.\\n\\nAll:\\nSpeak, speak.\\n\\nFirst Citizen:\\nYou '\n"
          ]
        }
      ]
    },
    {
      "cell_type": "markdown",
      "source": [
        "Membuat Batch Training\n",
        "\n",
        "Anda menggunakan tf.data untuk membagi teks menjadi sequence yang dapat diatur. Namun sebelum memasukkan data ini ke dalam model, Anda perlu mengacak data dan mengemasnya ke dalam batch."
      ],
      "metadata": {
        "id": "2epuXmRX1hz-"
      }
    },
    {
      "cell_type": "code",
      "source": [
        "# Batch size\n",
        "BATCH_SIZE = 64\n",
        "\n",
        "# Buffer size to shuffle the dataset\n",
        "# (TF data is designed to work with possibly infinite sequences,\n",
        "# so it doesn't attempt to shuffle the entire sequence in memory. Instead,\n",
        "# it maintains a buffer in which it shuffles elements).\n",
        "BUFFER_SIZE = 10000\n",
        "\n",
        "dataset = (\n",
        "    dataset\n",
        "    .shuffle(BUFFER_SIZE)\n",
        "    .batch(BATCH_SIZE, drop_remainder=True)\n",
        "    .prefetch(tf.data.experimental.AUTOTUNE))\n",
        "\n",
        "dataset"
      ],
      "metadata": {
        "colab": {
          "base_uri": "https://localhost:8080/"
        },
        "id": "xGZFdZpu1kYc",
        "outputId": "b4ccd03f-3a4b-49c5-d8ef-f5c48cb824a8"
      },
      "execution_count": null,
      "outputs": [
        {
          "output_type": "execute_result",
          "data": {
            "text/plain": [
              "<_PrefetchDataset element_spec=(TensorSpec(shape=(64, 100), dtype=tf.int64, name=None), TensorSpec(shape=(64, 100), dtype=tf.int64, name=None))>"
            ]
          },
          "metadata": {},
          "execution_count": 26
        }
      ]
    },
    {
      "cell_type": "markdown",
      "source": [
        "Buat Model\n",
        "\n",
        "Bagian ini mendefinisikan model sebagai subkelas keras.Model (untuk lebih detilnya, lihat Making new Layers and Models via subclassing).\n",
        "\n",
        "Model yang kita bangun memiliki 3 lapisan neural network :\n",
        "- tf.keras.layers.Embedding: Lapisan masukan. Tabel pencarian yang dapat dilatih yang akan memetakan setiap karakter-ID ke vektor dengan dimensi embedding_dim;\n",
        "- tf.keras.layers.GRU: lapisan RNN dengan ukuran unit=rnn_units (Anda juga dapat menggunakan lapisan LSTM di sini.)\n",
        "- tf.keras.layers.Dense: Lapisan keluaran, dengan keluaran vocab_size. Ini menghasilkan satu logit untuk setiap karakter dalam kosakata. Ini adalah log kemungkinan setiap karakter menurut model."
      ],
      "metadata": {
        "id": "w7XyiQhh1n0Z"
      }
    },
    {
      "cell_type": "code",
      "source": [
        "# Jumlah kata dalam vokabuler yang digunakan oleh layer StringLookup.\n",
        "vocab_size = len(ids_from_chars.get_vocabulary())\n",
        "\n",
        "# Dimensi embedding yang digunakan dalam model.\n",
        "embedding_dim = 256\n",
        "\n",
        "# Jumlah unit dalam layer RNN (Recurrent Neural Network).\n",
        "rnn_units = 1024"
      ],
      "metadata": {
        "id": "hQ-k5ByT10nc"
      },
      "execution_count": null,
      "outputs": []
    },
    {
      "cell_type": "code",
      "source": [
        "# Mendefinisikan kelas MyModel sebagai subkelas dari tf.keras.Model.\n",
        "class MyModel(tf.keras.Model):\n",
        "    def __init__(self, vocab_size, embedding_dim, rnn_units):\n",
        "        super().__init__(self)\n",
        "\n",
        "        # Layer embedding untuk mengonversi ID ke dalam vektor embedding.\n",
        "        self.embedding = tf.keras.layers.Embedding(vocab_size, embedding_dim)\n",
        "\n",
        "        # Layer GRU (Gated Recurrent Unit) sebagai tipe layer RNN.\n",
        "        self.gru = tf.keras.layers.GRU(\n",
        "            rnn_units,\n",
        "            return_sequences=True,\n",
        "            return_state=True\n",
        "        )\n",
        "\n",
        "        # Layer Dense untuk memprediksi vokabuler berikutnya.\n",
        "        self.dense = tf.keras.layers.Dense(vocab_size)\n",
        "\n",
        "    def call(self, inputs, states=None, return_state=False, training=False):\n",
        "        x = inputs\n",
        "        x = self.embedding(x, training=training)\n",
        "\n",
        "        # Jika states tidak diberikan, dapatkan initial state dari layer GRU.\n",
        "        if states is None:\n",
        "            states = self.gru.get_initial_state(x)\n",
        "\n",
        "        # Melakukan operasi GRU pada input dengan initial state yang sesuai.\n",
        "        x, states = self.gru(x, initial_state=states, training=training)\n",
        "\n",
        "        # Melakukan prediksi menggunakan layer Dense.\n",
        "        x = self.dense(x, training=training)\n",
        "\n",
        "        # Mengembalikan output dan (opsional) state terakhir.\n",
        "        if return_state:\n",
        "            return x, states\n",
        "        else:\n",
        "            return x"
      ],
      "metadata": {
        "id": "6t7am98C17mb"
      },
      "execution_count": null,
      "outputs": []
    },
    {
      "cell_type": "code",
      "source": [
        "# Membuat instance dari kelas MyModel dengan parameter yang telah ditentukan sebelumnya.\n",
        "model = MyModel(\n",
        "    vocab_size=vocab_size,\n",
        "    embedding_dim=embedding_dim,\n",
        "    rnn_units=rnn_units\n",
        ")"
      ],
      "metadata": {
        "id": "a6SdgJPh2GVs"
      },
      "execution_count": null,
      "outputs": []
    },
    {
      "cell_type": "markdown",
      "source": [
        "Untuk setiap karakter, model mencari penyematan, menjalankan GRU satu langkah waktu dengan penyematan sebagai masukan, dan menerapkan dense layer untuk menghasilkan log yang memprediksi kemungkinan log karakter berikutnya:\n",
        "\n",
        "Note: Untuk pelatihan Anda bisa menggunakan model keras.Sequential di sini. Untuk menghasilkan teks nanti, Anda harus mengelola status internal RNN. Akan lebih mudah untuk memasukkan opsi input dan output status di awal, daripada mengatur ulang arsitektur model nanti. untuk detailnya bisa dilihat Keras RNN guide."
      ],
      "metadata": {
        "id": "D_EwObAr2JB_"
      }
    },
    {
      "cell_type": "markdown",
      "source": [
        "**Uji Model**\n",
        "\n",
        "Coba jalankan model dan cek apakah sidah sesuai dengan output pertama, cek bentuk dari output"
      ],
      "metadata": {
        "id": "rR7HzK1A2Pcx"
      }
    },
    {
      "cell_type": "code",
      "source": [
        "# Mengambil satu batch contoh input dan target dari dataset.\n",
        "for input_example_batch, target_example_batch in dataset.take(1):\n",
        "    # Melakukan prediksi menggunakan model pada batch contoh input.\n",
        "    example_batch_predictions = model(input_example_batch)\n",
        "\n",
        "    # Mencetak dimensi hasil prediksi.\n",
        "    print(example_batch_predictions.shape, \"# (batch_size, sequence_length, vocab_size)\")"
      ],
      "metadata": {
        "colab": {
          "base_uri": "https://localhost:8080/"
        },
        "id": "lR_nS4NH2IPq",
        "outputId": "936a648f-770c-4f2a-dde1-200e55eb7879"
      },
      "execution_count": null,
      "outputs": [
        {
          "output_type": "stream",
          "name": "stdout",
          "text": [
            "(64, 100, 66) # (batch_size, sequence_length, vocab_size)\n"
          ]
        }
      ]
    },
    {
      "cell_type": "code",
      "source": [
        "model.summary()"
      ],
      "metadata": {
        "colab": {
          "base_uri": "https://localhost:8080/"
        },
        "id": "MDO2i3EJ2asi",
        "outputId": "ea945869-0860-4e71-d683-f1ed70e81bfe"
      },
      "execution_count": null,
      "outputs": [
        {
          "output_type": "stream",
          "name": "stdout",
          "text": [
            "Model: \"my_model\"\n",
            "_________________________________________________________________\n",
            " Layer (type)                Output Shape              Param #   \n",
            "=================================================================\n",
            " embedding (Embedding)       multiple                  16896     \n",
            "                                                                 \n",
            " gru (GRU)                   multiple                  3938304   \n",
            "                                                                 \n",
            " dense (Dense)               multiple                  67650     \n",
            "                                                                 \n",
            "=================================================================\n",
            "Total params: 4022850 (15.35 MB)\n",
            "Trainable params: 4022850 (15.35 MB)\n",
            "Non-trainable params: 0 (0.00 Byte)\n",
            "_________________________________________________________________\n"
          ]
        }
      ]
    },
    {
      "cell_type": "markdown",
      "source": [
        "Untuk mendapatkan prediksi aktual dari model, Anda perlu mengambil sampel dari distribusi keluaran, untuk mendapatkan indeks karakter aktual. Distribusi ini ditentukan oleh logit pada kosakata karakter. Catatan: Penting untuk mengambil sampel dari distribusi ini karena mengambil argmax dari distribusi tersebut dapat dengan mudah membuat model terjebak dalam infinote loop. Cobalah untuk contoh pertama di batch:"
      ],
      "metadata": {
        "id": "4UdmcRJ92cEU"
      }
    },
    {
      "cell_type": "code",
      "source": [
        "# Menggunakan distribusi kategori acak (random.categorical) untuk mengambil sampel indeks dari prediksi.\n",
        "sampled_indices = tf.random.categorical(example_batch_predictions[0], num_samples=1)\n",
        "\n",
        "# Menghilangkan dimensi yang tidak perlu menggunakan squeeze dan mengonversi hasil ke dalam numpy array.\n",
        "sampled_indices = tf.squeeze(sampled_indices, axis=-1).numpy()"
      ],
      "metadata": {
        "id": "H_UfuEHG2ba-"
      },
      "execution_count": null,
      "outputs": []
    },
    {
      "cell_type": "markdown",
      "source": [
        "Hal ini memberi kita, pada setiap langkah waktu, prediksi indeks karakter berikutnya:"
      ],
      "metadata": {
        "id": "IOMwyf_W2k-c"
      }
    },
    {
      "cell_type": "code",
      "source": [
        "sampled_indices"
      ],
      "metadata": {
        "colab": {
          "base_uri": "https://localhost:8080/"
        },
        "id": "PlgOKCVX2koZ",
        "outputId": "14b07622-c0c5-42f2-88f8-3df4d6ee4001"
      },
      "execution_count": null,
      "outputs": [
        {
          "output_type": "execute_result",
          "data": {
            "text/plain": [
              "array([56, 46,  8, 60, 16, 30, 47, 32, 46, 28, 11, 18, 59, 24, 30, 10, 16,\n",
              "       36, 36, 26, 18, 37, 39, 32, 23, 61, 62, 30, 56, 57, 10, 12, 14, 64,\n",
              "       13, 51, 32,  2, 40, 48, 31, 38,  2, 19, 26, 45, 29, 54, 49, 22,  0,\n",
              "       47, 56, 59, 43,  9,  0, 41, 25, 44, 36,  3, 38, 65,  9, 51, 13, 19,\n",
              "       40, 12,  7, 51, 30, 43, 39, 53, 27, 20,  2, 30, 21, 56, 65, 38, 16,\n",
              "       16, 24, 56, 48, 36,  8,  1, 13, 10,  4, 60, 16,  3, 17, 38])"
            ]
          },
          "metadata": {},
          "execution_count": 33
        }
      ]
    },
    {
      "cell_type": "markdown",
      "source": [
        "Dekode kode berikut untuk melihat teks yang diprediksi oleh model tidak terlatih ini:"
      ],
      "metadata": {
        "id": "zv5n7yHb2ngv"
      }
    },
    {
      "cell_type": "code",
      "source": [
        "# Mencetak teks dari contoh input dalam batch.\n",
        "print(\"Input:\\n\", text_from_ids(input_example_batch[0]).numpy())\n",
        "print()\n",
        "\n",
        "# Mencetak teks dari prediksi karakter berikutnya.\n",
        "print(\"Next Char Predictions:\\n\", text_from_ids(sampled_indices).numpy())"
      ],
      "metadata": {
        "colab": {
          "base_uri": "https://localhost:8080/"
        },
        "id": "UnX7X5Ap2r9V",
        "outputId": "ac53bab4-f865-4d3e-8789-fa65b091fd8f"
      },
      "execution_count": null,
      "outputs": [
        {
          "output_type": "stream",
          "name": "stdout",
          "text": [
            "Input:\n",
            " b'?\\n\\nAUFIDIUS:\\nAll places yield to him ere he sits down;\\nAnd the nobility of Rome are his:\\nThe senator'\n",
            "\n",
            "Next Char Predictions:\n",
            " b'qg-uCQhSgO:EtKQ3CWWMEXZSJvwQqr3;Ay?lS aiRY FMfPojI[UNK]hqtd.[UNK]bLeW!Yz.l?Fa;,lQdZnNG QHqzYCCKqiW-\\n?3$uC!DY'\n"
          ]
        }
      ]
    },
    {
      "cell_type": "markdown",
      "source": [
        "**Train Model**\n",
        "\n",
        "Pada titik ini permasalahan dapat dianggap sebagai permasalahan klasifikasi standar. Permasalahan dapat disimpulkan dengan : Berdasarkan status RNN sebelumnya, dan masukan langkah kali ini, prediksi kelas karakter berikutnya."
      ],
      "metadata": {
        "id": "3TEc_4xe2zfX"
      }
    },
    {
      "cell_type": "markdown",
      "source": [
        "Tambahan optimizer dan fungsi loss"
      ],
      "metadata": {
        "id": "gv65cfQg23YR"
      }
    },
    {
      "cell_type": "markdown",
      "source": [
        "loss function tf.keras.losses.sparse_categorical_crossentropy standar berfungsi dalam kasus ini karena diterapkan di seluruh dimensi terakhir prediksi. Karena model Anda mengembalikan logits, Anda perlu mengatur flag from_logits."
      ],
      "metadata": {
        "id": "swcU-5L725sC"
      }
    },
    {
      "cell_type": "code",
      "source": [
        "# Menggunakan fungsi SparseCategoricalCrossentropy sebagai fungsi loss.\n",
        "loss = tf.losses.SparseCategoricalCrossentropy(from_logits=True)"
      ],
      "metadata": {
        "id": "far4d0r53A9z"
      },
      "execution_count": null,
      "outputs": []
    },
    {
      "cell_type": "code",
      "source": [
        "# Menghitung nilai loss pada contoh batch menggunakan SparseCategoricalCrossentropy.\n",
        "example_batch_mean_loss = loss(target_example_batch, example_batch_predictions)\n",
        "\n",
        "# Mencetak dimensi hasil prediksi dan nilai rata-rata loss pada contoh batch.\n",
        "print(\"Prediction shape: \", example_batch_predictions.shape, \" # (batch_size, sequence_length, vocab_size)\")\n",
        "print(\"Mean loss:        \", example_batch_mean_loss)"
      ],
      "metadata": {
        "colab": {
          "base_uri": "https://localhost:8080/"
        },
        "id": "C4owGHr83C-s",
        "outputId": "9eb531d4-705e-4e1a-faa0-cd20bcf622f1"
      },
      "execution_count": null,
      "outputs": [
        {
          "output_type": "stream",
          "name": "stdout",
          "text": [
            "Prediction shape:  (64, 100, 66)  # (batch_size, sequence_length, vocab_size)\n",
            "Mean loss:         tf.Tensor(4.1903367, shape=(), dtype=float32)\n"
          ]
        }
      ]
    },
    {
      "cell_type": "markdown",
      "source": [
        "Model yang baru diinisialisasi tidak boleh terlalu yakin dengan dirinya sendiri, semua log keluaran harus memiliki besaran yang sama. Untuk mengonfirmasi hal ini, Anda dapat memeriksa bahwa eksponensial dari loss rata-rata harus kira-kira sama dengan ukuran kosakata. Loss yang jauh lebih tinggi berarti model tersebut yakin akan jawaban yang salah, dan memiliki inisialisasi yang buruk:"
      ],
      "metadata": {
        "id": "ih7pZJwf3F3C"
      }
    },
    {
      "cell_type": "code",
      "source": [
        "tf.exp(example_batch_mean_loss).numpy()"
      ],
      "metadata": {
        "colab": {
          "base_uri": "https://localhost:8080/"
        },
        "id": "I383nl-E3Hao",
        "outputId": "f6bb41c5-b63c-4142-c51e-56ed63384efa"
      },
      "execution_count": null,
      "outputs": [
        {
          "output_type": "execute_result",
          "data": {
            "text/plain": [
              "66.04502"
            ]
          },
          "metadata": {},
          "execution_count": 37
        }
      ]
    },
    {
      "cell_type": "markdown",
      "source": [
        "Konfigurasikan prosedur pelatihan menggunakan metode tf.keras.Model.compile. Gunakan tf.keras.optimizers.Adam dengan argumen default dan fungsi loss."
      ],
      "metadata": {
        "id": "NZEqSKIk3I-y"
      }
    },
    {
      "cell_type": "code",
      "source": [
        "model.compile(optimizer='adam', loss=loss)"
      ],
      "metadata": {
        "id": "zuQZLM853K9I"
      },
      "execution_count": null,
      "outputs": []
    },
    {
      "cell_type": "markdown",
      "source": [
        "Konfigurasi Checkpoints\n",
        "\n",
        "Gunakan tf.keras.callbacks.ModelCheckpoint untuk memastikan bahwa checkpoint disimpan selama pelatihan:"
      ],
      "metadata": {
        "id": "2y1hilYj3Ogg"
      }
    },
    {
      "cell_type": "code",
      "source": [
        "# Menentukan direktori tempat checkpoint akan disimpan.\n",
        "checkpoint_dir = './training_checkpoints'\n",
        "\n",
        "# Menentukan nama file checkpoint dengan format \"ckpt_epoch\".\n",
        "checkpoint_prefix = os.path.join(checkpoint_dir, \"ckpt_{epoch}\")\n",
        "\n",
        "# Membuat callback untuk menyimpan checkpoint model.\n",
        "checkpoint_callback = tf.keras.callbacks.ModelCheckpoint(\n",
        "    filepath=checkpoint_prefix,\n",
        "    save_weights_only=True\n",
        ")"
      ],
      "metadata": {
        "id": "YEeNeL293Vsf"
      },
      "execution_count": null,
      "outputs": []
    },
    {
      "cell_type": "markdown",
      "source": [
        "Lakukan Proses Training\n",
        "\n",
        "Agar waktu pelatihan tidak terlalu lama, gunakan 10 epoch untuk melatih model. Di Colab, setel runtime ke GPU untuk pelatihan yang lebih cepat."
      ],
      "metadata": {
        "id": "kJryhxd-3YbH"
      }
    },
    {
      "cell_type": "code",
      "source": [
        "EPOCHS = 10"
      ],
      "metadata": {
        "id": "KpGEoh_W3aY1"
      },
      "execution_count": null,
      "outputs": []
    },
    {
      "cell_type": "code",
      "source": [
        "history = model.fit(dataset, epochs=EPOCHS, callbacks=[checkpoint_callback])"
      ],
      "metadata": {
        "colab": {
          "base_uri": "https://localhost:8080/",
          "height": 446
        },
        "id": "mjnXbe5y3dd_",
        "outputId": "ea9d99c9-34ea-46c6-f251-0b4ae3de36c6"
      },
      "execution_count": null,
      "outputs": [
        {
          "output_type": "stream",
          "name": "stdout",
          "text": [
            "Epoch 1/10\n",
            "172/172 [==============================] - 930s 5s/step - loss: 2.7221\n",
            "Epoch 2/10\n",
            "172/172 [==============================] - 908s 5s/step - loss: 1.9865\n",
            "Epoch 3/10\n",
            " 64/172 [==========>...................] - ETA: 9:46 - loss: 1.7734"
          ]
        },
        {
          "output_type": "error",
          "ename": "KeyboardInterrupt",
          "evalue": "ignored",
          "traceback": [
            "\u001b[0;31m---------------------------------------------------------------------------\u001b[0m",
            "\u001b[0;31mKeyboardInterrupt\u001b[0m                         Traceback (most recent call last)",
            "\u001b[0;32m<ipython-input-41-25e345c13e8b>\u001b[0m in \u001b[0;36m<cell line: 1>\u001b[0;34m()\u001b[0m\n\u001b[0;32m----> 1\u001b[0;31m \u001b[0mhistory\u001b[0m \u001b[0;34m=\u001b[0m \u001b[0mmodel\u001b[0m\u001b[0;34m.\u001b[0m\u001b[0mfit\u001b[0m\u001b[0;34m(\u001b[0m\u001b[0mdataset\u001b[0m\u001b[0;34m,\u001b[0m \u001b[0mepochs\u001b[0m\u001b[0;34m=\u001b[0m\u001b[0mEPOCHS\u001b[0m\u001b[0;34m,\u001b[0m \u001b[0mcallbacks\u001b[0m\u001b[0;34m=\u001b[0m\u001b[0;34m[\u001b[0m\u001b[0mcheckpoint_callback\u001b[0m\u001b[0;34m]\u001b[0m\u001b[0;34m)\u001b[0m\u001b[0;34m\u001b[0m\u001b[0;34m\u001b[0m\u001b[0m\n\u001b[0m",
            "\u001b[0;32m/usr/local/lib/python3.10/dist-packages/keras/src/utils/traceback_utils.py\u001b[0m in \u001b[0;36merror_handler\u001b[0;34m(*args, **kwargs)\u001b[0m\n\u001b[1;32m     63\u001b[0m         \u001b[0mfiltered_tb\u001b[0m \u001b[0;34m=\u001b[0m \u001b[0;32mNone\u001b[0m\u001b[0;34m\u001b[0m\u001b[0;34m\u001b[0m\u001b[0m\n\u001b[1;32m     64\u001b[0m         \u001b[0;32mtry\u001b[0m\u001b[0;34m:\u001b[0m\u001b[0;34m\u001b[0m\u001b[0;34m\u001b[0m\u001b[0m\n\u001b[0;32m---> 65\u001b[0;31m             \u001b[0;32mreturn\u001b[0m \u001b[0mfn\u001b[0m\u001b[0;34m(\u001b[0m\u001b[0;34m*\u001b[0m\u001b[0margs\u001b[0m\u001b[0;34m,\u001b[0m \u001b[0;34m**\u001b[0m\u001b[0mkwargs\u001b[0m\u001b[0;34m)\u001b[0m\u001b[0;34m\u001b[0m\u001b[0;34m\u001b[0m\u001b[0m\n\u001b[0m\u001b[1;32m     66\u001b[0m         \u001b[0;32mexcept\u001b[0m \u001b[0mException\u001b[0m \u001b[0;32mas\u001b[0m \u001b[0me\u001b[0m\u001b[0;34m:\u001b[0m\u001b[0;34m\u001b[0m\u001b[0;34m\u001b[0m\u001b[0m\n\u001b[1;32m     67\u001b[0m             \u001b[0mfiltered_tb\u001b[0m \u001b[0;34m=\u001b[0m \u001b[0m_process_traceback_frames\u001b[0m\u001b[0;34m(\u001b[0m\u001b[0me\u001b[0m\u001b[0;34m.\u001b[0m\u001b[0m__traceback__\u001b[0m\u001b[0;34m)\u001b[0m\u001b[0;34m\u001b[0m\u001b[0;34m\u001b[0m\u001b[0m\n",
            "\u001b[0;32m/usr/local/lib/python3.10/dist-packages/keras/src/engine/training.py\u001b[0m in \u001b[0;36mfit\u001b[0;34m(self, x, y, batch_size, epochs, verbose, callbacks, validation_split, validation_data, shuffle, class_weight, sample_weight, initial_epoch, steps_per_epoch, validation_steps, validation_batch_size, validation_freq, max_queue_size, workers, use_multiprocessing)\u001b[0m\n\u001b[1;32m   1781\u001b[0m                         ):\n\u001b[1;32m   1782\u001b[0m                             \u001b[0mcallbacks\u001b[0m\u001b[0;34m.\u001b[0m\u001b[0mon_train_batch_begin\u001b[0m\u001b[0;34m(\u001b[0m\u001b[0mstep\u001b[0m\u001b[0;34m)\u001b[0m\u001b[0;34m\u001b[0m\u001b[0;34m\u001b[0m\u001b[0m\n\u001b[0;32m-> 1783\u001b[0;31m                             \u001b[0mtmp_logs\u001b[0m \u001b[0;34m=\u001b[0m \u001b[0mself\u001b[0m\u001b[0;34m.\u001b[0m\u001b[0mtrain_function\u001b[0m\u001b[0;34m(\u001b[0m\u001b[0miterator\u001b[0m\u001b[0;34m)\u001b[0m\u001b[0;34m\u001b[0m\u001b[0;34m\u001b[0m\u001b[0m\n\u001b[0m\u001b[1;32m   1784\u001b[0m                             \u001b[0;32mif\u001b[0m \u001b[0mdata_handler\u001b[0m\u001b[0;34m.\u001b[0m\u001b[0mshould_sync\u001b[0m\u001b[0;34m:\u001b[0m\u001b[0;34m\u001b[0m\u001b[0;34m\u001b[0m\u001b[0m\n\u001b[1;32m   1785\u001b[0m                                 \u001b[0mcontext\u001b[0m\u001b[0;34m.\u001b[0m\u001b[0masync_wait\u001b[0m\u001b[0;34m(\u001b[0m\u001b[0;34m)\u001b[0m\u001b[0;34m\u001b[0m\u001b[0;34m\u001b[0m\u001b[0m\n",
            "\u001b[0;32m/usr/local/lib/python3.10/dist-packages/tensorflow/python/util/traceback_utils.py\u001b[0m in \u001b[0;36merror_handler\u001b[0;34m(*args, **kwargs)\u001b[0m\n\u001b[1;32m    148\u001b[0m     \u001b[0mfiltered_tb\u001b[0m \u001b[0;34m=\u001b[0m \u001b[0;32mNone\u001b[0m\u001b[0;34m\u001b[0m\u001b[0;34m\u001b[0m\u001b[0m\n\u001b[1;32m    149\u001b[0m     \u001b[0;32mtry\u001b[0m\u001b[0;34m:\u001b[0m\u001b[0;34m\u001b[0m\u001b[0;34m\u001b[0m\u001b[0m\n\u001b[0;32m--> 150\u001b[0;31m       \u001b[0;32mreturn\u001b[0m \u001b[0mfn\u001b[0m\u001b[0;34m(\u001b[0m\u001b[0;34m*\u001b[0m\u001b[0margs\u001b[0m\u001b[0;34m,\u001b[0m \u001b[0;34m**\u001b[0m\u001b[0mkwargs\u001b[0m\u001b[0;34m)\u001b[0m\u001b[0;34m\u001b[0m\u001b[0;34m\u001b[0m\u001b[0m\n\u001b[0m\u001b[1;32m    151\u001b[0m     \u001b[0;32mexcept\u001b[0m \u001b[0mException\u001b[0m \u001b[0;32mas\u001b[0m \u001b[0me\u001b[0m\u001b[0;34m:\u001b[0m\u001b[0;34m\u001b[0m\u001b[0;34m\u001b[0m\u001b[0m\n\u001b[1;32m    152\u001b[0m       \u001b[0mfiltered_tb\u001b[0m \u001b[0;34m=\u001b[0m \u001b[0m_process_traceback_frames\u001b[0m\u001b[0;34m(\u001b[0m\u001b[0me\u001b[0m\u001b[0;34m.\u001b[0m\u001b[0m__traceback__\u001b[0m\u001b[0;34m)\u001b[0m\u001b[0;34m\u001b[0m\u001b[0;34m\u001b[0m\u001b[0m\n",
            "\u001b[0;32m/usr/local/lib/python3.10/dist-packages/tensorflow/python/eager/polymorphic_function/polymorphic_function.py\u001b[0m in \u001b[0;36m__call__\u001b[0;34m(self, *args, **kwds)\u001b[0m\n\u001b[1;32m    829\u001b[0m \u001b[0;34m\u001b[0m\u001b[0m\n\u001b[1;32m    830\u001b[0m       \u001b[0;32mwith\u001b[0m \u001b[0mOptionalXlaContext\u001b[0m\u001b[0;34m(\u001b[0m\u001b[0mself\u001b[0m\u001b[0;34m.\u001b[0m\u001b[0m_jit_compile\u001b[0m\u001b[0;34m)\u001b[0m\u001b[0;34m:\u001b[0m\u001b[0;34m\u001b[0m\u001b[0;34m\u001b[0m\u001b[0m\n\u001b[0;32m--> 831\u001b[0;31m         \u001b[0mresult\u001b[0m \u001b[0;34m=\u001b[0m \u001b[0mself\u001b[0m\u001b[0;34m.\u001b[0m\u001b[0m_call\u001b[0m\u001b[0;34m(\u001b[0m\u001b[0;34m*\u001b[0m\u001b[0margs\u001b[0m\u001b[0;34m,\u001b[0m \u001b[0;34m**\u001b[0m\u001b[0mkwds\u001b[0m\u001b[0;34m)\u001b[0m\u001b[0;34m\u001b[0m\u001b[0;34m\u001b[0m\u001b[0m\n\u001b[0m\u001b[1;32m    832\u001b[0m \u001b[0;34m\u001b[0m\u001b[0m\n\u001b[1;32m    833\u001b[0m       \u001b[0mnew_tracing_count\u001b[0m \u001b[0;34m=\u001b[0m \u001b[0mself\u001b[0m\u001b[0;34m.\u001b[0m\u001b[0mexperimental_get_tracing_count\u001b[0m\u001b[0;34m(\u001b[0m\u001b[0;34m)\u001b[0m\u001b[0;34m\u001b[0m\u001b[0;34m\u001b[0m\u001b[0m\n",
            "\u001b[0;32m/usr/local/lib/python3.10/dist-packages/tensorflow/python/eager/polymorphic_function/polymorphic_function.py\u001b[0m in \u001b[0;36m_call\u001b[0;34m(self, *args, **kwds)\u001b[0m\n\u001b[1;32m    865\u001b[0m       \u001b[0;31m# In this case we have created variables on the first call, so we run the\u001b[0m\u001b[0;34m\u001b[0m\u001b[0;34m\u001b[0m\u001b[0m\n\u001b[1;32m    866\u001b[0m       \u001b[0;31m# defunned version which is guaranteed to never create variables.\u001b[0m\u001b[0;34m\u001b[0m\u001b[0;34m\u001b[0m\u001b[0m\n\u001b[0;32m--> 867\u001b[0;31m       return tracing_compilation.call_function(\n\u001b[0m\u001b[1;32m    868\u001b[0m           \u001b[0margs\u001b[0m\u001b[0;34m,\u001b[0m \u001b[0mkwds\u001b[0m\u001b[0;34m,\u001b[0m \u001b[0mself\u001b[0m\u001b[0;34m.\u001b[0m\u001b[0m_no_variable_creation_config\u001b[0m\u001b[0;34m\u001b[0m\u001b[0;34m\u001b[0m\u001b[0m\n\u001b[1;32m    869\u001b[0m       )\n",
            "\u001b[0;32m/usr/local/lib/python3.10/dist-packages/tensorflow/python/eager/polymorphic_function/tracing_compilation.py\u001b[0m in \u001b[0;36mcall_function\u001b[0;34m(args, kwargs, tracing_options)\u001b[0m\n\u001b[1;32m    137\u001b[0m   \u001b[0mbound_args\u001b[0m \u001b[0;34m=\u001b[0m \u001b[0mfunction\u001b[0m\u001b[0;34m.\u001b[0m\u001b[0mfunction_type\u001b[0m\u001b[0;34m.\u001b[0m\u001b[0mbind\u001b[0m\u001b[0;34m(\u001b[0m\u001b[0;34m*\u001b[0m\u001b[0margs\u001b[0m\u001b[0;34m,\u001b[0m \u001b[0;34m**\u001b[0m\u001b[0mkwargs\u001b[0m\u001b[0;34m)\u001b[0m\u001b[0;34m\u001b[0m\u001b[0;34m\u001b[0m\u001b[0m\n\u001b[1;32m    138\u001b[0m   \u001b[0mflat_inputs\u001b[0m \u001b[0;34m=\u001b[0m \u001b[0mfunction\u001b[0m\u001b[0;34m.\u001b[0m\u001b[0mfunction_type\u001b[0m\u001b[0;34m.\u001b[0m\u001b[0munpack_inputs\u001b[0m\u001b[0;34m(\u001b[0m\u001b[0mbound_args\u001b[0m\u001b[0;34m)\u001b[0m\u001b[0;34m\u001b[0m\u001b[0;34m\u001b[0m\u001b[0m\n\u001b[0;32m--> 139\u001b[0;31m   return function._call_flat(  # pylint: disable=protected-access\n\u001b[0m\u001b[1;32m    140\u001b[0m       \u001b[0mflat_inputs\u001b[0m\u001b[0;34m,\u001b[0m \u001b[0mcaptured_inputs\u001b[0m\u001b[0;34m=\u001b[0m\u001b[0mfunction\u001b[0m\u001b[0;34m.\u001b[0m\u001b[0mcaptured_inputs\u001b[0m\u001b[0;34m\u001b[0m\u001b[0;34m\u001b[0m\u001b[0m\n\u001b[1;32m    141\u001b[0m   )\n",
            "\u001b[0;32m/usr/local/lib/python3.10/dist-packages/tensorflow/python/eager/polymorphic_function/concrete_function.py\u001b[0m in \u001b[0;36m_call_flat\u001b[0;34m(self, tensor_inputs, captured_inputs)\u001b[0m\n\u001b[1;32m   1262\u001b[0m         and executing_eagerly):\n\u001b[1;32m   1263\u001b[0m       \u001b[0;31m# No tape is watching; skip to running the function.\u001b[0m\u001b[0;34m\u001b[0m\u001b[0;34m\u001b[0m\u001b[0m\n\u001b[0;32m-> 1264\u001b[0;31m       \u001b[0;32mreturn\u001b[0m \u001b[0mself\u001b[0m\u001b[0;34m.\u001b[0m\u001b[0m_inference_function\u001b[0m\u001b[0;34m.\u001b[0m\u001b[0mflat_call\u001b[0m\u001b[0;34m(\u001b[0m\u001b[0margs\u001b[0m\u001b[0;34m)\u001b[0m\u001b[0;34m\u001b[0m\u001b[0;34m\u001b[0m\u001b[0m\n\u001b[0m\u001b[1;32m   1265\u001b[0m     forward_backward = self._select_forward_and_backward_functions(\n\u001b[1;32m   1266\u001b[0m         \u001b[0margs\u001b[0m\u001b[0;34m,\u001b[0m\u001b[0;34m\u001b[0m\u001b[0;34m\u001b[0m\u001b[0m\n",
            "\u001b[0;32m/usr/local/lib/python3.10/dist-packages/tensorflow/python/eager/polymorphic_function/atomic_function.py\u001b[0m in \u001b[0;36mflat_call\u001b[0;34m(self, args)\u001b[0m\n\u001b[1;32m    215\u001b[0m   \u001b[0;32mdef\u001b[0m \u001b[0mflat_call\u001b[0m\u001b[0;34m(\u001b[0m\u001b[0mself\u001b[0m\u001b[0;34m,\u001b[0m \u001b[0margs\u001b[0m\u001b[0;34m:\u001b[0m \u001b[0mSequence\u001b[0m\u001b[0;34m[\u001b[0m\u001b[0mcore\u001b[0m\u001b[0;34m.\u001b[0m\u001b[0mTensor\u001b[0m\u001b[0;34m]\u001b[0m\u001b[0;34m)\u001b[0m \u001b[0;34m->\u001b[0m \u001b[0mAny\u001b[0m\u001b[0;34m:\u001b[0m\u001b[0;34m\u001b[0m\u001b[0;34m\u001b[0m\u001b[0m\n\u001b[1;32m    216\u001b[0m     \u001b[0;34m\"\"\"Calls with tensor inputs and returns the structured output.\"\"\"\u001b[0m\u001b[0;34m\u001b[0m\u001b[0;34m\u001b[0m\u001b[0m\n\u001b[0;32m--> 217\u001b[0;31m     \u001b[0mflat_outputs\u001b[0m \u001b[0;34m=\u001b[0m \u001b[0mself\u001b[0m\u001b[0;34m(\u001b[0m\u001b[0;34m*\u001b[0m\u001b[0margs\u001b[0m\u001b[0;34m)\u001b[0m\u001b[0;34m\u001b[0m\u001b[0;34m\u001b[0m\u001b[0m\n\u001b[0m\u001b[1;32m    218\u001b[0m     \u001b[0;32mreturn\u001b[0m \u001b[0mself\u001b[0m\u001b[0;34m.\u001b[0m\u001b[0mfunction_type\u001b[0m\u001b[0;34m.\u001b[0m\u001b[0mpack_output\u001b[0m\u001b[0;34m(\u001b[0m\u001b[0mflat_outputs\u001b[0m\u001b[0;34m)\u001b[0m\u001b[0;34m\u001b[0m\u001b[0;34m\u001b[0m\u001b[0m\n\u001b[1;32m    219\u001b[0m \u001b[0;34m\u001b[0m\u001b[0m\n",
            "\u001b[0;32m/usr/local/lib/python3.10/dist-packages/tensorflow/python/eager/polymorphic_function/atomic_function.py\u001b[0m in \u001b[0;36m__call__\u001b[0;34m(self, *args)\u001b[0m\n\u001b[1;32m    250\u001b[0m         \u001b[0;32mwith\u001b[0m \u001b[0mrecord\u001b[0m\u001b[0;34m.\u001b[0m\u001b[0mstop_recording\u001b[0m\u001b[0;34m(\u001b[0m\u001b[0;34m)\u001b[0m\u001b[0;34m:\u001b[0m\u001b[0;34m\u001b[0m\u001b[0;34m\u001b[0m\u001b[0m\n\u001b[1;32m    251\u001b[0m           \u001b[0;32mif\u001b[0m \u001b[0mself\u001b[0m\u001b[0;34m.\u001b[0m\u001b[0m_bound_context\u001b[0m\u001b[0;34m.\u001b[0m\u001b[0mexecuting_eagerly\u001b[0m\u001b[0;34m(\u001b[0m\u001b[0;34m)\u001b[0m\u001b[0;34m:\u001b[0m\u001b[0;34m\u001b[0m\u001b[0;34m\u001b[0m\u001b[0m\n\u001b[0;32m--> 252\u001b[0;31m             outputs = self._bound_context.call_function(\n\u001b[0m\u001b[1;32m    253\u001b[0m                 \u001b[0mself\u001b[0m\u001b[0;34m.\u001b[0m\u001b[0mname\u001b[0m\u001b[0;34m,\u001b[0m\u001b[0;34m\u001b[0m\u001b[0;34m\u001b[0m\u001b[0m\n\u001b[1;32m    254\u001b[0m                 \u001b[0mlist\u001b[0m\u001b[0;34m(\u001b[0m\u001b[0margs\u001b[0m\u001b[0;34m)\u001b[0m\u001b[0;34m,\u001b[0m\u001b[0;34m\u001b[0m\u001b[0;34m\u001b[0m\u001b[0m\n",
            "\u001b[0;32m/usr/local/lib/python3.10/dist-packages/tensorflow/python/eager/context.py\u001b[0m in \u001b[0;36mcall_function\u001b[0;34m(self, name, tensor_inputs, num_outputs)\u001b[0m\n\u001b[1;32m   1477\u001b[0m     \u001b[0mcancellation_context\u001b[0m \u001b[0;34m=\u001b[0m \u001b[0mcancellation\u001b[0m\u001b[0;34m.\u001b[0m\u001b[0mcontext\u001b[0m\u001b[0;34m(\u001b[0m\u001b[0;34m)\u001b[0m\u001b[0;34m\u001b[0m\u001b[0;34m\u001b[0m\u001b[0m\n\u001b[1;32m   1478\u001b[0m     \u001b[0;32mif\u001b[0m \u001b[0mcancellation_context\u001b[0m \u001b[0;32mis\u001b[0m \u001b[0;32mNone\u001b[0m\u001b[0;34m:\u001b[0m\u001b[0;34m\u001b[0m\u001b[0;34m\u001b[0m\u001b[0m\n\u001b[0;32m-> 1479\u001b[0;31m       outputs = execute.execute(\n\u001b[0m\u001b[1;32m   1480\u001b[0m           \u001b[0mname\u001b[0m\u001b[0;34m.\u001b[0m\u001b[0mdecode\u001b[0m\u001b[0;34m(\u001b[0m\u001b[0;34m\"utf-8\"\u001b[0m\u001b[0;34m)\u001b[0m\u001b[0;34m,\u001b[0m\u001b[0;34m\u001b[0m\u001b[0;34m\u001b[0m\u001b[0m\n\u001b[1;32m   1481\u001b[0m           \u001b[0mnum_outputs\u001b[0m\u001b[0;34m=\u001b[0m\u001b[0mnum_outputs\u001b[0m\u001b[0;34m,\u001b[0m\u001b[0;34m\u001b[0m\u001b[0;34m\u001b[0m\u001b[0m\n",
            "\u001b[0;32m/usr/local/lib/python3.10/dist-packages/tensorflow/python/eager/execute.py\u001b[0m in \u001b[0;36mquick_execute\u001b[0;34m(op_name, num_outputs, inputs, attrs, ctx, name)\u001b[0m\n\u001b[1;32m     58\u001b[0m         \u001b[0;32mfor\u001b[0m \u001b[0mt\u001b[0m \u001b[0;32min\u001b[0m \u001b[0minputs\u001b[0m\u001b[0;34m\u001b[0m\u001b[0;34m\u001b[0m\u001b[0m\n\u001b[1;32m     59\u001b[0m     ]\n\u001b[0;32m---> 60\u001b[0;31m     tensors = pywrap_tfe.TFE_Py_Execute(ctx._handle, device_name, op_name,\n\u001b[0m\u001b[1;32m     61\u001b[0m                                         inputs, attrs, num_outputs)\n\u001b[1;32m     62\u001b[0m   \u001b[0;32mexcept\u001b[0m \u001b[0mcore\u001b[0m\u001b[0;34m.\u001b[0m\u001b[0m_NotOkStatusException\u001b[0m \u001b[0;32mas\u001b[0m \u001b[0me\u001b[0m\u001b[0;34m:\u001b[0m\u001b[0;34m\u001b[0m\u001b[0;34m\u001b[0m\u001b[0m\n",
            "\u001b[0;31mKeyboardInterrupt\u001b[0m: "
          ]
        }
      ]
    },
    {
      "cell_type": "markdown",
      "source": [
        "**Generate Teks**\n",
        "\n",
        "Cara termudah untuk menghasilkan teks dengan model ini adalah dengan menjalankannya dalam loop, dan menyimpan status internal model saat Anda menjalankannya.\n",
        "\n",
        "Setiap kali Anda memanggil model, Anda memasukkan beberapa teks dan state internal. Model mengembalikan prediksi untuk karakter berikutnya dan state barunya. Masukkan kembali prediksi dan state ke model untuk terus menghasilkan teks.\n",
        "\n",
        "Berikut ini membuat prediksi satu langkah:"
      ],
      "metadata": {
        "id": "t-FA0-413iwl"
      }
    },
    {
      "cell_type": "code",
      "source": [
        "# Mendefinisikan kelas OneStep sebagai subkelas dari tf.keras.Model.\n",
        "class OneStep(tf.keras.Model):\n",
        "    def __init__(self, model, chars_from_ids, ids_from_chars, temperature=1.0):\n",
        "        super().__init__()\n",
        "        self.temperature = temperature\n",
        "        self.model = model\n",
        "        self.chars_from_ids = chars_from_ids\n",
        "        self.ids_from_chars = ids_from_chars\n",
        "\n",
        "        # Membuat mask untuk mencegah \"[UNK]\" dihasilkan.\n",
        "        skip_ids = self.ids_from_chars(['[UNK]'])[:, None]\n",
        "        sparse_mask = tf.SparseTensor(\n",
        "            # Menetapkan -inf pada setiap indeks yang tidak diinginkan.\n",
        "            values=[-float('inf')] * len(skip_ids),\n",
        "            indices=skip_ids,\n",
        "            # Menyesuaikan bentuk mask dengan vokabuler.\n",
        "            dense_shape=[len(ids_from_chars.get_vocabulary())])\n",
        "        self.prediction_mask = tf.sparse.to_dense(sparse_mask)\n",
        "\n",
        "    @tf.function\n",
        "    def generate_one_step(self, inputs, states=None):\n",
        "        # Mengonversi string ke token ID.\n",
        "        input_chars = tf.strings.unicode_split(inputs, 'UTF-8')\n",
        "        input_ids = self.ids_from_chars(input_chars).to_tensor()\n",
        "\n",
        "        # Menjalankan model.\n",
        "        # predicted_logits.shape adalah [batch, char, next_char_logits]\n",
        "        predicted_logits, states = self.model(inputs=input_ids, states=states,\n",
        "                                              return_state=True)\n",
        "        # Hanya menggunakan prediksi terakhir.\n",
        "        predicted_logits = predicted_logits[:, -1, :]\n",
        "        predicted_logits = predicted_logits / self.temperature\n",
        "        # Mengaplikasikan prediction_mask: mencegah \"[UNK]\" dihasilkan.\n",
        "        predicted_logits = predicted_logits + self.prediction_mask\n",
        "\n",
        "        # Mengambil sampel token IDs dari output logits.\n",
        "        predicted_ids = tf.random.categorical(predicted_logits, num_samples=1)\n",
        "        predicted_ids = tf.squeeze(predicted_ids, axis=-1)\n",
        "\n",
        "        # Mengonversi dari token ID ke karakter.\n",
        "        predicted_chars = self.chars_from_ids(predicted_ids)\n",
        "\n",
        "        # Mengembalikan karakter dan state model.\n",
        "        return predicted_chars, states"
      ],
      "metadata": {
        "id": "-rFfEtdV3sIR"
      },
      "execution_count": null,
      "outputs": []
    },
    {
      "cell_type": "code",
      "source": [
        "one_step_model = OneStep(model, chars_from_ids, ids_from_chars)"
      ],
      "metadata": {
        "id": "1huCkj2e3zo0"
      },
      "execution_count": null,
      "outputs": []
    },
    {
      "cell_type": "markdown",
      "source": [
        "Jalankan secara berulang untuk menghasilkan beberapa teks. Melihat teks yang dihasilkan, Anda akan melihat model mengetahui kapan harus menggunakan huruf besar, membuat paragraf, dan meniru kosakata menulis seperti Shakespeare. Karena sedikitnya jumlah epoch pelatihan, model belum belajar membentuk kalimat runtut."
      ],
      "metadata": {
        "id": "kcH4u5zf37Yi"
      }
    },
    {
      "cell_type": "code",
      "source": [
        "# Mengukur waktu mulai.\n",
        "start = time.time()\n",
        "\n",
        "# Inisialisasi state model.\n",
        "states = None\n",
        "\n",
        "# Token awal yang diberikan.\n",
        "next_char = tf.constant(['ROMEO:'])\n",
        "\n",
        "# Menyimpan hasil generasi.\n",
        "result = [next_char]\n",
        "\n",
        "# Melakukan generasi untuk 1000 karakter.\n",
        "for n in range(1000):\n",
        "    # Menghasilkan satu karakter berikutnya dan state model.\n",
        "    next_char, states = one_step_model.generate_one_step(next_char, states=states)\n",
        "    # Menambahkan karakter hasil generasi ke dalam list result.\n",
        "    result.append(next_char)\n",
        "\n",
        "# Menggabungkan hasil generasi menjadi satu string.\n",
        "result = tf.strings.join(result)\n",
        "\n",
        "# Mengukur waktu selesai.\n",
        "end = time.time()\n",
        "\n",
        "# Mencetak hasil generasi dan waktu eksekusi.\n",
        "print(result[0].numpy().decode('utf-8'), '\\n\\n' + '_'*80)\n",
        "print('\\nRun time:', end - start)"
      ],
      "metadata": {
        "colab": {
          "base_uri": "https://localhost:8080/"
        },
        "id": "D_-8S3Nf4A1u",
        "outputId": "409ba531-5066-41d6-fad3-da2f77d701d8"
      },
      "execution_count": null,
      "outputs": [
        {
          "output_type": "stream",
          "name": "stdout",
          "text": [
            "ROMEO:\n",
            "Nither! lord my dosber:\n",
            "We crithen, Sirceat my now!\n",
            "Entake a coul bo?\n",
            "This siarsen styight,\n",
            "Norst I fear, in gleck?\n",
            "Bo some he by grinousce to make them a willd; thou dost nems; ag Pesi'tous being she\n",
            "Thanse move tunts! you woused,\n",
            "And we of thim, IApe, rewirgs, him, but I seever you buther heards,\n",
            "But I de confterpion eneing; and there it the glige\n",
            "The will, who heam wap; and even!\n",
            "A all soul arrencent.\n",
            "\n",
            "GLUUE:\n",
            "\n",
            "TERUMIO:\n",
            "Afar she hir wetfing a foryers away eve\n",
            "Duter him dy'd his deech,\n",
            "So hase! ctofices the geest.\n",
            "\n",
            "BicULIS:\n",
            "For CIUGHERLA:\n",
            "Go me, that would not shill ere? Maka! hight mak a more betsmedow.\n",
            "\n",
            "LORCEN:\n",
            "My gont manks know thines: frem Exwand\n",
            "Sigch it wild my labif! of Yece!\n",
            "Theil houltsters, I mot a sean, love's I was there O harp?\n",
            "\n",
            "HENRY VI\n",
            "S:\n",
            "If the eire of This courding olepory 3\n",
            "Whose herpo bey rewerm!\n",
            "Ye should breake of ty she\n",
            "broldience my either age not!\n",
            "Clowne so say oy the my from But.\n",
            "\n",
            "QUEEN MANGARET:\n",
            "Ho, my graged this cruad?\n",
            "And, lord. Beids? with mincastes you \n",
            "\n",
            "________________________________________________________________________________\n",
            "\n",
            "Run time: 4.269752502441406\n"
          ]
        }
      ]
    },
    {
      "cell_type": "markdown",
      "source": [
        "Hal termudah yang dapat Anda lakukan untuk meningkatkan hasil adalah dengan melatihnya lebih lama (coba EPOCHS = 30). Anda juga dapat bereksperimen dengan string awal yang berbeda, mencoba menambahkan lapisan RNN lain untuk meningkatkan akurasi model, atau menyesuaikan parameter suhu untuk menghasilkan prediksi yang kurang lebih acak.\n",
        "\n",
        "Jika Anda ingin model menghasilkan teks lebih cepat, hal termudah yang dapat Anda lakukan adalah membuat teks secara batch. Pada contoh di bawah, model menghasilkan 5 keluaran dalam waktu yang hampir sama dengan waktu yang dibutuhkan untuk menghasilkan 1 keluaran di atas."
      ],
      "metadata": {
        "id": "wkBWl7F24Dxn"
      }
    },
    {
      "cell_type": "code",
      "source": [
        "# Mengukur waktu mulai.\n",
        "start = time.time()\n",
        "\n",
        "# Inisialisasi state model.\n",
        "states = None\n",
        "\n",
        "# Token awal yang diberikan (dalam batch).\n",
        "next_char = tf.constant(['ROMEO:', 'ROMEO:', 'ROMEO:', 'ROMEO:', 'ROMEO:'])\n",
        "\n",
        "# Menyimpan hasil generasi.\n",
        "result = [next_char]\n",
        "\n",
        "# Melakukan generasi untuk 1000 karakter.\n",
        "for n in range(1000):\n",
        "    # Menghasilkan satu karakter berikutnya dan state model.\n",
        "    next_char, states = one_step_model.generate_one_step(next_char, states=states)\n",
        "    # Menambahkan karakter hasil generasi ke dalam list result.\n",
        "    result.append(next_char)\n",
        "\n",
        "# Menggabungkan hasil generasi menjadi satu string.\n",
        "result = tf.strings.join(result)\n",
        "\n",
        "# Mengukur waktu selesai.\n",
        "end = time.time()\n",
        "\n",
        "# Mencetak hasil generasi dan waktu eksekusi.\n",
        "print(result, '\\n\\n' + '_'*80)\n",
        "print('\\nRun time:', end - start)"
      ],
      "metadata": {
        "colab": {
          "base_uri": "https://localhost:8080/"
        },
        "id": "wO5Z7u144I7m",
        "outputId": "e70df5f5-f305-40bc-bfa6-3949f606cc01"
      },
      "execution_count": null,
      "outputs": [
        {
          "output_type": "stream",
          "name": "stdout",
          "text": [
            "tf.Tensor(\n",
            "[b\"ROMEO:\\nI swife Carearp; be it be tree,\\nYo trem, not me then be no tieds.\\nAnd APan, swase; thou heart, nom letter didh offorice,:\\nRayer, a degating\\nwhink not a prucend a destle; hir spead; look'ds leak'd to meat,\\nThere he she the do nother bestantle shall better's diess.\\nThat! What we un I so way's staight shall and:\\nTo cheepmated have, thy nase youl plicered: my she\\nwho'l foules frought, as I s leak\\nLoy' math and mance ampearwy by the womand.\\n\\nQUEEN BALTARUS:\\nWery, eet's of a voliease, swreaz'd the mistrose daral.\\n\\nKI RICHY MARG SICWARDI:\\nFor midse mo ole the astage clued,\\nAnd eve be evered wefe I kind trou them Idired,\\nIs foulder clow; O warghy my gowd,\\nBut we past a sump her sood office, arvale, yee,\\nIf he hid were be orst.\\nThe caust wh I kand Colforts, I'll tey my loks\\nyou though awher 'still thy is mat\\nAnd make foos nithe'st nored, and net?\\n\\nBRATUS:\\nWho, you shild shall seect I fela ade sunnea stay to pay\\n\\nBePexdARD:\\nNo, lat! Ineman!\\nLoves to herry gread, ancely good mann?\\nI am I seak a \"\n",
            " b\"ROMEO:\\nNous overencealle scooke maids of our commings\\nI shell from Richamell,\\nAnd mean should I un, I sand.\\n\\nNurove:\\nSnould as wede it a sacu't notter when\\ndive make'd hass! and him, We way, and my lo\\nto destoich,y and wime of Norouranty gonour reevanced frice hathing.\\nEngord these come. But you, him desiens with hound, ye miss\\nIntrownerss suchart. I he try with fiert a placemors foop!\\nIf comertion, And you swan: if how whou dads wise.\\n\\nPETRUCHO:\\nHark life the issenty, selver Periasing mount.\\nThy discauribes, so wo perviceires of York:\\nThou ad not sackench Jurinst of with, given.\\n\\nCATILIO:\\nI my glace an tray the veranity and uppance om leken:\\nFoots we haunge! to her ever, heterjed-byee\\nthe curned in here, fallow, it is fillt not here\\nLead, mist that I fould yourout Brnighter Evort'd wither's foriedt?\\n\\nKATANIUS:\\nMy lord, sot so't my not,\\nCithe, will I sil! crove thee forther,\\nWhoneseims op yours awe from\\nThau thy will to gress onald four fropeit-like ho batisitnes;\\nThey that lise op now; had \"\n",
            " b\"ROMEO:\\nNo hock offer bat't: yourst cinces to tay.\\n\\nGLAUCIOLO:\\nThis to dyable? nath'd and this reyes sims;\\nFook is had you come to crase; thou hath withinged\\nAt has your graceive trean ot a kided,\\nMad's collss;\\nThe oming tomen the bungr'dieft, hath cause feldy.\\nFarace, you said pore and paursed nother\\nEvince hering fardom thy scelaws\\nOf her your dufefold wime's sitle you hothour a dray fay no e fat frack.\\nThe goobingsion a maurots, and am a courd colfo.\\nThe calfor netser dunters is Clarmats:\\nAnd the ustren that wime op kiss\\nI weake honour stroogether, Lirett How at deace, and shall fareth;\\nWith them not buh mine! But, seep fithes if she wist;\\nAnd prop the prounes in Curecio, and son:\\nToo life, shilld frey these a chastlings,\\nFray should suck of most, consuet!\\n\\nLERENCE:\\nRather held you to the may-y and sweet hen goye af\\nBoincr you, should her you blet desturen, swanins am,\\nI winge you call exce were is I would she will despresce,\\nAnd we decins it. Withing a vains unjeching wit\\nRitidle swell st\"\n",
            " b\"ROMEO:\\nFor him the chise croves, whis sight hear thee?\\nI was I day love, my commony;\\nCimingul befiedert if nos the mestermon.\\nAnd wo whould geath's know.\\n\\nESCLARD:\\nHath werm; I dead.\\n\\nLARCANTE:\\nWele, think your wither, a deken, th mead?\\nA, a for the ma: Herviench:\\nSidy, fol I ere bid fither fail.\\nOf See, yeadl,\\nA deing and my hen sayfel gisly, come atiseep thesefore that wish fere\\nwith, they go him, strosed and ded; than gooding.\\nCRADY I:\\nWhis benarn athe;\\ntill bad o herrale a blooth should effold,\\nGlow sif to the courder warry,\\nTur thyow. when I kneese, stanker's toly stens,\\nBus hus sughternice ot procke, fird of corminges; and noble lord.\\nWhiching I? May, you swatt fell fadings I\\nReirs: so, light how heem Thicks, how lord: hould,\\nAnd time!\\nThe sum of our dood men: or the fell.\\nSay, was, more yat-for on my high your offer.\\nCome, lite hell,\\nFird plesces sir, how, newsink the carse awein that truaked.\\nSow, whick as Grifow:\\nYou, let by cows:\\nWhere a hight fill this feee cother:\\nWhick be it you\"\n",
            " b\"ROMEO:\\nSen'dy gurkty brotole your you.\\n\\nKING LOWARD II:\\nMadis, Kis verzend no\\n!\\npround he hastees menhand Since fither,\\nI woo should lest y herifer it should\\nThan distowher in eviran, Treed restued\\nOs he how ours warr of heash made thun\\ncouls, the moniose pooro a sppeak:\\nOu his riget sweep with somesturebress,\\nThou not to the h ither,\\nThe teepandy privonty hambe to firgh!\\nClad veram tranksem the mander gensly may,\\nAs is 'twall's comfloves soue a grokt werk of gol.\\nIs doth degurater my fare they whouse pray\\nTo musted maker their slought is hase arreshings.\\n\\nRATH:\\nWhich I dear did upbland'd:\\nI make of Goy I would gentle surd:\\nIt is yet a vecaurming.\\n\\nRICANTE:\\nGount mo: have singre's upproticale but house,\\nMistice do me, his reephers: bo dods cound ange thee,\\nA tood liver not sim. ;\\nwhor panss for that priends us befoit,\\nFor I know, how my load, and heep my so.\\n\\nade Armanp:\\nAnd is gelp, I hiss ke that that hislf-deas:\\nFor you ho lough xience: forthie the fitten beard:\\nMy mackious compinging and\"], shape=(5,), dtype=string) \n",
            "\n",
            "________________________________________________________________________________\n",
            "\n",
            "Run time: 6.387131690979004\n"
          ]
        }
      ]
    },
    {
      "cell_type": "markdown",
      "source": [
        "**Ekspor Model Generator**\n",
        "\n",
        "Model satu langkah ini dapat dengan mudah disimpan dan digunakan kembali, memungkinkan Anda menggunakannya di mana pun tf.saved_model diterima."
      ],
      "metadata": {
        "id": "l2k9PmHg4JX3"
      }
    },
    {
      "cell_type": "code",
      "source": [
        "# Menyimpan model ke dalam format SavedModel.\n",
        "tf.saved_model.save(one_step_model, 'one_step')\n",
        "\n",
        "# Memuat model kembali dari SavedModel.\n",
        "one_step_reloaded = tf.saved_model.load('one_step')"
      ],
      "metadata": {
        "colab": {
          "base_uri": "https://localhost:8080/"
        },
        "id": "3RKKiNGC4SzB",
        "outputId": "95bbd0d9-72a0-4040-b1bf-17644bcbce80"
      },
      "execution_count": null,
      "outputs": [
        {
          "output_type": "stream",
          "name": "stderr",
          "text": [
            "WARNING:tensorflow:Skipping full serialization of Keras layer <__main__.OneStep object at 0x7fd21095f430>, because it is not built.\n",
            "WARNING:tensorflow:Model's `__init__()` arguments contain non-serializable objects. Please implement a `get_config()` method in the subclassed Model for proper saving and loading. Defaulting to empty config.\n",
            "WARNING:tensorflow:Model's `__init__()` arguments contain non-serializable objects. Please implement a `get_config()` method in the subclassed Model for proper saving and loading. Defaulting to empty config.\n"
          ]
        }
      ]
    },
    {
      "cell_type": "code",
      "source": [
        "# Inisialisasi state model.\n",
        "states = None\n",
        "\n",
        "# Token awal yang diberikan.\n",
        "next_char = tf.constant(['ROMEO:'])\n",
        "\n",
        "# Menyimpan hasil generasi.\n",
        "result = [next_char]\n",
        "\n",
        "# Melakukan generasi untuk 100 karakter.\n",
        "for n in range(100):\n",
        "    # Menghasilkan satu karakter berikutnya dan state model menggunakan model yang sudah dimuat.\n",
        "    next_char, states = one_step_reloaded.generate_one_step(next_char, states=states)\n",
        "    # Menambahkan karakter hasil generasi ke dalam list result.\n",
        "    result.append(next_char)\n",
        "\n",
        "# Menggabungkan hasil generasi menjadi satu string dan mencetak.\n",
        "print(tf.strings.join(result)[0].numpy().decode(\"utf-8\"))"
      ],
      "metadata": {
        "colab": {
          "base_uri": "https://localhost:8080/"
        },
        "id": "tMECy4Bq4T9Q",
        "outputId": "37de04af-b4a0-40e7-d3d9-f3e8a48eb0d8"
      },
      "execution_count": null,
      "outputs": [
        {
          "output_type": "stream",
          "name": "stdout",
          "text": [
            "ROMEO:\n",
            "Thy seally so lord agenge of dime,\n",
            "Thesents my the gonsed of norse,\n",
            "I may, not, de jayes warid'd bi\n"
          ]
        }
      ]
    },
    {
      "cell_type": "markdown",
      "source": [
        "# **TUGAS PRAKTIKUM**"
      ],
      "metadata": {
        "id": "SrrCcW9LVUtL"
      }
    }
  ]
}