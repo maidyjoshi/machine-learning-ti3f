{
  "cells": [
    {
      "cell_type": "markdown",
      "metadata": {
        "id": "3T22ueImYnFF"
      },
      "source": [
        "# **Praktikum 1**\n",
        "RNN untuk Analisis Sentimen<p>\n",
        "\n",
        "<!-- **Download Dataset Terlebih Dahulu**<p>\n",
        "[Data Set web.csv(klik)](data/Iris.csv) -->\n",
        "\n",
        "### **Setup**\n",
        "Impor matplotlib dan buat fungsi pembantu untuk memplot grafik:\n",
        "\n",
        "\n"
      ]
    },
    {
      "cell_type": "code",
      "execution_count": 1,
      "metadata": {
        "id": "iy_uZ_K2YnFM"
      },
      "outputs": [],
      "source": [
        "import numpy as np\n",
        "import tensorflow_datasets as tfds\n",
        "import tensorflow as tf\n",
        "\n",
        "tfds.disable_progress_bar()"
      ]
    },
    {
      "cell_type": "code",
      "execution_count": 2,
      "metadata": {
        "id": "3Xc4O7i2Yw3U"
      },
      "outputs": [],
      "source": [
        "import matplotlib.pyplot as plt\n",
        "\n",
        "def plot_graphs(history, metric):\n",
        "  plt.plot(history.history[metric])\n",
        "  plt.plot(history.history['val_'+metric], '')\n",
        "  plt.xlabel(\"Epochs\")\n",
        "  plt.ylabel(metric)\n",
        "  plt.legend([metric, 'val_'+metric])"
      ]
    },
    {
      "cell_type": "markdown",
      "metadata": {
        "id": "tcQZqdmPY9y9"
      },
      "source": [
        "### **Setup input pipeline**\n",
        "\n",
        "Dataset ulasan film IMDB adalah kumpulan data klasifikasi biner—semua ulasan memiliki sentimen positif atau negatif. <p>\n",
        "Download dataset menggunakan TFDS. Lihat loading text tutorial jika ingin me load data secara manual"
      ]
    },
    {
      "cell_type": "code",
      "execution_count": 3,
      "metadata": {
        "colab": {
          "base_uri": "https://localhost:8080/"
        },
        "id": "1iFaqowFY9gv",
        "outputId": "46064b43-7fb1-4471-a902-88f1c9deaeb9"
      },
      "outputs": [
        {
          "name": "stdout",
          "output_type": "stream",
          "text": [
            "Downloading and preparing dataset 80.23 MiB (download: 80.23 MiB, generated: Unknown size, total: 80.23 MiB) to /root/tensorflow_datasets/imdb_reviews/plain_text/1.0.0...\n",
            "Dataset imdb_reviews downloaded and prepared to /root/tensorflow_datasets/imdb_reviews/plain_text/1.0.0. Subsequent calls will reuse this data.\n"
          ]
        },
        {
          "data": {
            "text/plain": [
              "(TensorSpec(shape=(), dtype=tf.string, name=None),\n",
              " TensorSpec(shape=(), dtype=tf.int64, name=None))"
            ]
          },
          "execution_count": 3,
          "metadata": {},
          "output_type": "execute_result"
        }
      ],
      "source": [
        "dataset, info = tfds.load('imdb_reviews', with_info=True,\n",
        "                          as_supervised=True)\n",
        "train_dataset, test_dataset = dataset['train'], dataset['test']\n",
        "\n",
        "train_dataset.element_spec"
      ]
    },
    {
      "cell_type": "markdown",
      "metadata": {
        "id": "P8h2lWBgZZLT"
      },
      "source": [
        "Awalnya ini mengembalikan dataset (teks, pasangan label):"
      ]
    },
    {
      "cell_type": "code",
      "execution_count": 4,
      "metadata": {
        "colab": {
          "base_uri": "https://localhost:8080/"
        },
        "id": "wR2E19Q3ZbU2",
        "outputId": "2c7f4111-a6f1-43ac-c13b-67a57f173d87"
      },
      "outputs": [
        {
          "name": "stdout",
          "output_type": "stream",
          "text": [
            "text:  b\"This was an absolutely terrible movie. Don't be lured in by Christopher Walken or Michael Ironside. Both are great actors, but this must simply be their worst role in history. Even their great acting could not redeem this movie's ridiculous storyline. This movie is an early nineties US propaganda piece. The most pathetic scenes were those when the Columbian rebels were making their cases for revolutions. Maria Conchita Alonso appeared phony, and her pseudo-love affair with Walken was nothing but a pathetic emotional plug in a movie that was devoid of any real meaning. I am disappointed that there are movies like this, ruining actor's like Christopher Walken's good name. I could barely sit through it.\"\n",
            "label:  0\n"
          ]
        }
      ],
      "source": [
        "for example, label in train_dataset.take(1):\n",
        "  print('text: ', example.numpy())\n",
        "  print('label: ', label.numpy())"
      ]
    },
    {
      "cell_type": "code",
      "execution_count": 5,
      "metadata": {
        "colab": {
          "base_uri": "https://localhost:8080/"
        },
        "id": "tcn_ylGSZe4E",
        "outputId": "92c89d01-0502-49ad-ad84-61845752e958"
      },
      "outputs": [
        {
          "name": "stdout",
          "output_type": "stream",
          "text": [
            "text:  b\"This was an absolutely terrible movie. Don't be lured in by Christopher Walken or Michael Ironside. Both are great actors, but this must simply be their worst role in history. Even their great acting could not redeem this movie's ridiculous storyline. This movie is an early nineties US propaganda piece. The most pathetic scenes were those when the Columbian rebels were making their cases for revolutions. Maria Conchita Alonso appeared phony, and her pseudo-love affair with Walken was nothing but a pathetic emotional plug in a movie that was devoid of any real meaning. I am disappointed that there are movies like this, ruining actor's like Christopher Walken's good name. I could barely sit through it.\"\n",
            "label:  0\n"
          ]
        }
      ],
      "source": [
        "for example, label in train_dataset.take(1):\n",
        "  print('text: ', example.numpy())\n",
        "  print('label: ', label.numpy())"
      ]
    },
    {
      "cell_type": "markdown",
      "metadata": {
        "id": "spD206NVZd4-"
      },
      "source": [
        "Berikutnya acak data untuk pelatihan dan membuat kumpulan pasangan (teks, label) ini:"
      ]
    },
    {
      "cell_type": "code",
      "execution_count": 6,
      "metadata": {
        "colab": {
          "base_uri": "https://localhost:8080/"
        },
        "id": "iWl5iNn7Zjwi",
        "outputId": "ff642e21-7b8b-478b-d09c-205396c96f59"
      },
      "outputs": [
        {
          "name": "stdout",
          "output_type": "stream",
          "text": [
            "texts:  [b'It would help to know why it took so long for a book as movie-ready\\' as \"The House Next Door\" to be adapted for film or television. The book was copyrighted in 1978. One reason could be problems designing \\'the house\\'. The house in this Lifetime film is really so ugly that I can\\'t imagine anyone buying it. In fact it\\'s so ugly that someone would probably have come and destroyed it as soon as it was built.<br /><br />I\\'m not crazy about horror genre books, but this one was hard to put down when I came across it around ten years ago. The main characters are not the kind of people to look for anything occult in life, and this is one of the book\\'s strengths. They are not people who would conclude that the architect was some type of demon..(or the devil personified) without witnessing and analyzing the events described so well in the book. However, it is a downbeat book for the most part, and I don\\'t think that appeals to the people who run Lifetime. Maybe someone will come up with another version of the book in years to come. A better house..better music..a better screenplay and darker lighting...would certainly help.'\n",
            " b'This is the worst movie I have ever seen. I was going to get up and leave at Tape 4 but I stuck it out. I now consider myself a Masochist! Afghanistan? Come on guys! Who\\'s the idiot who forgot to hide the Sanskrit billboards? I thought the lead actor(George Calil) was particularly inept. Apart from the bad acting and over zealous camera shake, I thought using the events of 9/11 as a reason to make \"Larson the Lunatic Implodes, all over a screen near you\" disgraceful and irreverent to the victims of 9/11. Using a phone call from Larson\\'s wife, Sarah, supposedly from one of the terrorist held planes on that day, was appalling. The camera shake didn\\'t make me feel sick, that cold hearted stunt did.'\n",
            " b'Ah, the best and funniest movie about female football fans, only slightly better than the 1982 saga of teenage delusion set in North London (qv). By the way, I just watched this on Film 4 [2008-12-21] and am ruing my inability to set the PVR).<br /><br />This is easily my second favourite football movie after \"Mike Bassett: England Manager\", but this time with the added twist of looking like a guerrilla piece of movie-making from a team who apparently keep making movies which are banned in the country in which they are made (just think about the bit where the girls are taken from the stadium just as the Sun is setting: fast reactions all round). <br /><br />It is rare for a movie to make me laugh out loud, but when the rural soldier escorted one of the girls into the lavvies while forcing her to wear an inpromptu mask made from a poster of Ali Daei, I couldn\\'t stop waking the others in the house with my snorts, especially when the young soldier misunderstood the grandfather\\'s calls for assistance... <br /><br />Speaking of the toilets, I just wish I could speak Farsi so that I could work out the writing on the toilet walls (yes, there were a few scribblings in Roman script, but they mostly referred to wanky American rock bands).<br /><br />Also, on the rural-and-Farsi theme, don\\'t you reckon that Omid Djalili sounds like a yokel when he talks Farsi? Listen to the custody sergeant in this movie and then go \"Yup.\"<br /><br />I\\'m not going to bore on about the sexual politics of Iran, and I\\'m not going to bore on about the dubious acting; my love for this movie comes from the script and the editing: top notch stuff.<br /><br />Here\\'s a list of my top favourite football movies: 1. Mike Bassett, England Manager 2. Offside 3. Those Glory Glory Days 4. A Shot at Glory 5. The Arsenal Stadium Mystery']\n",
            "\n",
            "labels:  [0 0 1]\n"
          ]
        }
      ],
      "source": [
        "BUFFER_SIZE = 10000\n",
        "BATCH_SIZE = 64\n",
        "\n",
        "train_dataset = train_dataset.shuffle(BUFFER_SIZE).batch(BATCH_SIZE).prefetch(tf.data.AUTOTUNE)\n",
        "test_dataset = test_dataset.batch(BATCH_SIZE).prefetch(tf.data.AUTOTUNE)\n",
        "\n",
        "for example, label in train_dataset.take(1):\n",
        "  print('texts: ', example.numpy()[:3])\n",
        "  print()\n",
        "  print('labels: ', label.numpy()[:3])\n"
      ]
    },
    {
      "cell_type": "markdown",
      "metadata": {
        "id": "h3wWVkoCZouF"
      },
      "source": [
        "### **Buat Teks Encoder**\n",
        "Teks mentah yang dimuat oleh tfds perlu diproses sebelum dapat digunakan dalam model. Cara termudah memproses teks untuk pelatihan adalah menggunakan lapisan TextVectorization. Lapisan ini memiliki banyak kemampuan, namun pada tutorial ini menggunakan perilaku default. Buat lapisan tersebut, dan teruskan teks kumpulan data ke metode .adapt lapisan:"
      ]
    },
    {
      "cell_type": "code",
      "execution_count": 7,
      "metadata": {
        "id": "ihxpxiMxZuRb"
      },
      "outputs": [],
      "source": [
        "VOCAB_SIZE = 1000\n",
        "encoder = tf.keras.layers.TextVectorization(\n",
        "    max_tokens=VOCAB_SIZE)\n",
        "encoder.adapt(train_dataset.map(lambda text, label: text))"
      ]
    },
    {
      "cell_type": "markdown",
      "metadata": {
        "id": "CJA3LitOZyPc"
      },
      "source": [
        "Metode .adapt mengatur kosakata lapisan. 20 token pertama dapat dilihat dengan kode berikut. Setelah padding dan token yang tidak diketahui, mereka diurutkan berdasarkan frekuensi:"
      ]
    },
    {
      "cell_type": "code",
      "execution_count": 8,
      "metadata": {
        "colab": {
          "base_uri": "https://localhost:8080/"
        },
        "id": "1wjfOSalZzx7",
        "outputId": "bc0c938b-2ecf-435b-f79e-4e4e31694d6e"
      },
      "outputs": [
        {
          "data": {
            "text/plain": [
              "array(['', '[UNK]', 'the', 'and', 'a', 'of', 'to', 'is', 'in', 'it', 'i',\n",
              "       'this', 'that', 'br', 'was', 'as', 'for', 'with', 'movie', 'but'],\n",
              "      dtype='<U14')"
            ]
          },
          "execution_count": 8,
          "metadata": {},
          "output_type": "execute_result"
        }
      ],
      "source": [
        "vocab = np.array(encoder.get_vocabulary())\n",
        "vocab[:20]"
      ]
    },
    {
      "cell_type": "markdown",
      "metadata": {
        "id": "bl7MNmVrZ_QD"
      },
      "source": [
        "Setelah kosakata diatur, lapisan dapat mengkodekan teks ke dalam indeks. Tensor indeks diberi bantalan 0 ke urutan terpanjang dalam batch (kecuali jika Anda menetapkan output_sequence_length tetap):"
      ]
    },
    {
      "cell_type": "code",
      "execution_count": 9,
      "metadata": {
        "colab": {
          "base_uri": "https://localhost:8080/"
        },
        "id": "00hV19QxaBKq",
        "outputId": "c128ba81-d61a-423e-b518-778648278dc5"
      },
      "outputs": [
        {
          "data": {
            "text/plain": [
              "array([[  9,  59, 328, ...,   0,   0,   0],\n",
              "       [ 11,   7,   2, ...,   0,   0,   0],\n",
              "       [  1,   2, 115, ...,   0,   0,   0]])"
            ]
          },
          "execution_count": 9,
          "metadata": {},
          "output_type": "execute_result"
        }
      ],
      "source": [
        "encoded_example = encoder(example)[:3].numpy()\n",
        "encoded_example"
      ]
    },
    {
      "cell_type": "markdown",
      "metadata": {
        "id": "SDKuJ5T5aGis"
      },
      "source": [
        "Dengan pengaturan default, prosesnya tidak dapat dibalik sepenuhnya. Ada dua alasan utama untuk itu: <p>\n",
        "- Nilai default untuk argumen standarisasi preprocessing.TextVectorization adalah \"lower_and_strip_punctuation\".\n",
        "- Ukuran kosa kata yang terbatas dan kurangnya fallback berbasis karakter menghasilkan beberapa token yang tidak diketahui."
      ]
    },
    {
      "cell_type": "code",
      "execution_count": 10,
      "metadata": {
        "colab": {
          "base_uri": "https://localhost:8080/"
        },
        "id": "QsV3jie5aKzu",
        "outputId": "c5c01433-f17e-4c8d-e099-42c9121f99ee"
      },
      "outputs": [
        {
          "name": "stdout",
          "output_type": "stream",
          "text": [
            "Original:  b'It would help to know why it took so long for a book as movie-ready\\' as \"The House Next Door\" to be adapted for film or television. The book was copyrighted in 1978. One reason could be problems designing \\'the house\\'. The house in this Lifetime film is really so ugly that I can\\'t imagine anyone buying it. In fact it\\'s so ugly that someone would probably have come and destroyed it as soon as it was built.<br /><br />I\\'m not crazy about horror genre books, but this one was hard to put down when I came across it around ten years ago. The main characters are not the kind of people to look for anything occult in life, and this is one of the book\\'s strengths. They are not people who would conclude that the architect was some type of demon..(or the devil personified) without witnessing and analyzing the events described so well in the book. However, it is a downbeat book for the most part, and I don\\'t think that appeals to the people who run Lifetime. Maybe someone will come up with another version of the book in years to come. A better house..better music..a better screenplay and darker lighting...would certainly help.'\n",
            "Round-trip:  it would help to know why it took so long for a book as [UNK] as the house next [UNK] to be [UNK] for film or television the book was [UNK] in [UNK] one reason could be problems [UNK] the house the house in this [UNK] film is really so [UNK] that i cant imagine anyone [UNK] it in fact its so [UNK] that someone would probably have come and [UNK] it as soon as it was [UNK] br im not crazy about horror genre [UNK] but this one was hard to put down when i came across it around ten years ago the main characters are not the kind of people to look for anything [UNK] in life and this is one of the [UNK] [UNK] they are not people who would [UNK] that the [UNK] was some type of [UNK] the [UNK] [UNK] without [UNK] and [UNK] the events [UNK] so well in the book however it is a [UNK] book for the most part and i dont think that [UNK] to the people who run [UNK] maybe someone will come up with another version of the book in years to come a better [UNK] [UNK] better screenplay and [UNK] [UNK] certainly help                                                                                                                                                                                                                                                                                                                                                                                                                                                                                                                                                                                                     \n",
            "\n",
            "Original:  b'This is the worst movie I have ever seen. I was going to get up and leave at Tape 4 but I stuck it out. I now consider myself a Masochist! Afghanistan? Come on guys! Who\\'s the idiot who forgot to hide the Sanskrit billboards? I thought the lead actor(George Calil) was particularly inept. Apart from the bad acting and over zealous camera shake, I thought using the events of 9/11 as a reason to make \"Larson the Lunatic Implodes, all over a screen near you\" disgraceful and irreverent to the victims of 9/11. Using a phone call from Larson\\'s wife, Sarah, supposedly from one of the terrorist held planes on that day, was appalling. The camera shake didn\\'t make me feel sick, that cold hearted stunt did.'\n",
            "Round-trip:  this is the worst movie i have ever seen i was going to get up and leave at [UNK] 4 but i [UNK] it out i now [UNK] myself a [UNK] [UNK] come on guys whos the [UNK] who [UNK] to [UNK] the [UNK] [UNK] i thought the lead [UNK] [UNK] was particularly [UNK] apart from the bad acting and over [UNK] camera [UNK] i thought using the events of [UNK] as a reason to make [UNK] the [UNK] [UNK] all over a screen near you [UNK] and [UNK] to the [UNK] of [UNK] using a [UNK] call from [UNK] wife [UNK] [UNK] from one of the [UNK] [UNK] [UNK] on that day was [UNK] the camera [UNK] didnt make me feel [UNK] that [UNK] [UNK] [UNK] did                                                                                                                                                                                                                                                                                                                                                                                                                                                                                                                                                                                                                                                                                  \n",
            "\n",
            "Original:  b'Ah, the best and funniest movie about female football fans, only slightly better than the 1982 saga of teenage delusion set in North London (qv). By the way, I just watched this on Film 4 [2008-12-21] and am ruing my inability to set the PVR).<br /><br />This is easily my second favourite football movie after \"Mike Bassett: England Manager\", but this time with the added twist of looking like a guerrilla piece of movie-making from a team who apparently keep making movies which are banned in the country in which they are made (just think about the bit where the girls are taken from the stadium just as the Sun is setting: fast reactions all round). <br /><br />It is rare for a movie to make me laugh out loud, but when the rural soldier escorted one of the girls into the lavvies while forcing her to wear an inpromptu mask made from a poster of Ali Daei, I couldn\\'t stop waking the others in the house with my snorts, especially when the young soldier misunderstood the grandfather\\'s calls for assistance... <br /><br />Speaking of the toilets, I just wish I could speak Farsi so that I could work out the writing on the toilet walls (yes, there were a few scribblings in Roman script, but they mostly referred to wanky American rock bands).<br /><br />Also, on the rural-and-Farsi theme, don\\'t you reckon that Omid Djalili sounds like a yokel when he talks Farsi? Listen to the custody sergeant in this movie and then go \"Yup.\"<br /><br />I\\'m not going to bore on about the sexual politics of Iran, and I\\'m not going to bore on about the dubious acting; my love for this movie comes from the script and the editing: top notch stuff.<br /><br />Here\\'s a list of my top favourite football movies: 1. Mike Bassett, England Manager 2. Offside 3. Those Glory Glory Days 4. A Shot at Glory 5. The Arsenal Stadium Mystery'\n",
            "Round-trip:  [UNK] the best and [UNK] movie about female [UNK] fans only [UNK] better than the [UNK] [UNK] of [UNK] [UNK] set in [UNK] [UNK] [UNK] by the way i just watched this on film 4 [UNK] and am [UNK] my [UNK] to set the [UNK] br this is easily my second [UNK] [UNK] movie after [UNK] [UNK] [UNK] [UNK] but this time with the [UNK] twist of looking like a [UNK] piece of [UNK] from a team who apparently keep making movies which are [UNK] in the country in which they are made just think about the bit where the girls are taken from the [UNK] just as the [UNK] is setting fast [UNK] all [UNK] br br it is [UNK] for a movie to make me laugh out [UNK] but when the [UNK] [UNK] [UNK] one of the girls into the [UNK] while [UNK] her to [UNK] an [UNK] [UNK] made from a [UNK] of [UNK] [UNK] i couldnt stop [UNK] the others in the house with my [UNK] especially when the young [UNK] [UNK] the [UNK] [UNK] for [UNK] br br [UNK] of the [UNK] i just wish i could [UNK] [UNK] so that i could work out the writing on the [UNK] [UNK] yes there were a few [UNK] in [UNK] script but they mostly [UNK] to [UNK] american rock [UNK] br also on the [UNK] theme dont you [UNK] that [UNK] [UNK] sounds like a [UNK] when he [UNK] [UNK] [UNK] to the [UNK] [UNK] in this movie and then go [UNK] br im not going to [UNK] on about the sexual [UNK] of [UNK] and im not going to [UNK] on about the [UNK] acting my love for this movie comes from the script and the editing top [UNK] [UNK] br [UNK] a [UNK] of my top [UNK] [UNK] movies 1 [UNK] [UNK] [UNK] [UNK] 2 [UNK] 3 those [UNK] [UNK] days 4 a shot at [UNK] 5 the [UNK] [UNK] mystery                                                                                                                                                                                                                                                                                                                                                                                                                                                                           \n",
            "\n"
          ]
        }
      ],
      "source": [
        "for n in range(3):\n",
        "  print(\"Original: \", example[n].numpy())\n",
        "  print(\"Round-trip: \", \" \".join(vocab[encoded_example[n]]))\n",
        "  print()"
      ]
    },
    {
      "cell_type": "markdown",
      "metadata": {
        "id": "2OKwGoOVaOL1"
      },
      "source": [
        "### **Buat Model**\n",
        "\n",
        "<img src = \"https://raw.githubusercontent.com/tensorflow/text/master/docs/tutorials/images/bidirectional.png\"><p>\n",
        "\n",
        "diagram model dapat dilihat pada gambar diatas\n",
        "\n",
        "1. Model ini dapat dibuat sebagai tf.keras.Sequential.\n",
        "2. Lapisan pertama adalah encoder, yang mengubah teks menjadi urutan indeks token.\n",
        "3. Setelah encoder adalah lapisan penyematan (embedding layer). Lapisan penyematan menyimpan satu vektor per kata. Saat dipanggil, ini mengubah rangkaian indeks kata menjadi rangkaian vektor. Vektor-vektor ini dapat dilatih. Setelah pelatihan (dengan data yang cukup), kata-kata dengan arti yang mirip sering kali memiliki vektor yang serupa. Pencarian indeks ini jauh lebih efisien daripada operasi setara dengan meneruskan vektor yang disandikan one-hot melalui lapisan tf.keras.layers.Dense.\n",
        "4. Jaringan saraf berulang (RNN) memproses masukan urutan dengan melakukan iterasi melalui elemen. RNN meneruskan keluaran dari satu langkah waktu ke masukannya pada langkah waktu berikutnya.\n",
        "Pembungkus tf.keras.layers.Bidirection juga dapat digunakan dengan lapisan RNN. Ini menyebarkan masukan maju dan mundur melalui lapisan RNN dan kemudian menggabungkan keluaran akhir.\n",
        "- Keuntungan utama RNN dua arah adalah sinyal dari awal masukan tidak perlu diproses sepanjang waktu untuk memengaruhi keluaran.\n",
        "- Kerugian utama dari RNN dua arah adalah Anda tidak dapat melakukan streaming prediksi secara efisien saat kata-kata ditambahkan di akhir.\n",
        "5. Setelah RNN mengonversi urutan menjadi satu vektor, kedua lapisan tersebut.Dense melakukan beberapa pemrosesan akhir, dan mengonversi representasi vektor ini menjadi logit tunggal sebagai keluaran klasifikasi.\n",
        "\n",
        "Kode nya adalah sebagai berikut :"
      ]
    },
    {
      "cell_type": "code",
      "execution_count": 11,
      "metadata": {
        "id": "r3dc5GRqbWfG"
      },
      "outputs": [],
      "source": [
        "model = tf.keras.Sequential([\n",
        "    encoder,\n",
        "    tf.keras.layers.Embedding(\n",
        "        input_dim=len(encoder.get_vocabulary()),\n",
        "        output_dim=64,\n",
        "        # Use masking to handle the variable sequence lengths\n",
        "        mask_zero=True),\n",
        "    tf.keras.layers.Bidirectional(tf.keras.layers.LSTM(64)),\n",
        "    tf.keras.layers.Dense(64, activation='relu'),\n",
        "    tf.keras.layers.Dense(1)\n",
        "])"
      ]
    },
    {
      "cell_type": "markdown",
      "metadata": {
        "id": "Ad80BtMNba_g"
      },
      "source": [
        "Harap dicatat bahwa model sekuensial Keras digunakan di sini karena semua lapisan dalam model hanya memiliki masukan tunggal dan menghasilkan keluaran tunggal. Jika Anda ingin menggunakan lapisan RNN stateful, Anda mungkin ingin membangun model Anda dengan API fungsional Keras atau subkelas model sehingga Anda dapat mengambil dan menggunakan kembali status lapisan RNN. Untuk detailnya bisa dilihat pada Keras RNN guide <p>\n",
        "Lapisan penyematan menggunakan masking (uses masking ) untuk menangani panjang urutan yang bervariasi. Semua lapisan setelah penyematan dukungan penyematan"
      ]
    },
    {
      "cell_type": "code",
      "execution_count": 12,
      "metadata": {
        "colab": {
          "base_uri": "https://localhost:8080/"
        },
        "id": "9Q7X-2opbd8U",
        "outputId": "5c7eca42-d267-4b47-940b-e42437911761"
      },
      "outputs": [
        {
          "name": "stdout",
          "output_type": "stream",
          "text": [
            "[False, True, True, True, True]\n"
          ]
        }
      ],
      "source": [
        "print([layer.supports_masking for layer in model.layers])"
      ]
    },
    {
      "cell_type": "markdown",
      "metadata": {
        "id": "etVSnxTjbqMb"
      },
      "source": [
        "Untuk memastikan bahwa ini berfungsi seperti yang diharapkan, evaluasi sebuah kalimat dua kali. Pertama, satu kalimat sehingga tidak ada bantalan (padding) untuk disamarkan:"
      ]
    },
    {
      "cell_type": "code",
      "execution_count": 13,
      "metadata": {
        "colab": {
          "base_uri": "https://localhost:8080/"
        },
        "id": "VFYkqhlHbsEE",
        "outputId": "36ebfb4c-c73f-4be0-c294-ee8fcd747a61"
      },
      "outputs": [
        {
          "name": "stdout",
          "output_type": "stream",
          "text": [
            "1/1 [==============================] - 7s 7s/step\n",
            "[0.00257929]\n"
          ]
        }
      ],
      "source": [
        "# predict on a sample text without padding.\n",
        "\n",
        "sample_text = ('The movie was cool. The animation and the graphics '\n",
        "               'were out of this world. I would recommend this movie.')\n",
        "predictions = model.predict(np.array([sample_text]))\n",
        "print(predictions[0])"
      ]
    },
    {
      "cell_type": "markdown",
      "metadata": {
        "id": "kht5ferAbv_A"
      },
      "source": [
        "Sekarang, evaluasi lagi dalam batch dengan kalimat yang lebih panjang. Hasilnya harus sama:"
      ]
    },
    {
      "cell_type": "code",
      "execution_count": 14,
      "metadata": {
        "colab": {
          "base_uri": "https://localhost:8080/"
        },
        "id": "G4iRYVCZbxj4",
        "outputId": "45e8cfd7-200d-4565-8aa0-5dc8859c96e2"
      },
      "outputs": [
        {
          "name": "stdout",
          "output_type": "stream",
          "text": [
            "1/1 [==============================] - 0s 61ms/step\n",
            "[0.00257929]\n"
          ]
        }
      ],
      "source": [
        "# predict on a sample text with padding\n",
        "\n",
        "padding = \"the \" * 2000\n",
        "predictions = model.predict(np.array([sample_text, padding]))\n",
        "print(predictions[0])"
      ]
    },
    {
      "cell_type": "markdown",
      "metadata": {
        "id": "vxOiPdHFb0xA"
      },
      "source": [
        "compile model Keras untuk mengonfigurasi proses pelatihan:"
      ]
    },
    {
      "cell_type": "code",
      "execution_count": 15,
      "metadata": {
        "id": "MrpNXd9-b2aZ"
      },
      "outputs": [],
      "source": [
        "model.compile(loss=tf.keras.losses.BinaryCrossentropy(from_logits=True),\n",
        "              optimizer=tf.keras.optimizers.Adam(1e-4),\n",
        "              metrics=['accuracy'])"
      ]
    },
    {
      "cell_type": "markdown",
      "metadata": {
        "id": "r32QUWpJb4q2"
      },
      "source": [
        "### **Train Mode**"
      ]
    },
    {
      "cell_type": "code",
      "execution_count": 16,
      "metadata": {
        "colab": {
          "base_uri": "https://localhost:8080/"
        },
        "id": "3Gc0rHELb7PR",
        "outputId": "cadd8d72-784f-4107-c69e-cf506f62d070"
      },
      "outputs": [
        {
          "name": "stdout",
          "output_type": "stream",
          "text": [
            "Epoch 1/10\n",
            "391/391 [==============================] - 51s 103ms/step - loss: 0.6268 - accuracy: 0.5908 - val_loss: 0.4586 - val_accuracy: 0.7714\n",
            "Epoch 2/10\n",
            "391/391 [==============================] - 23s 59ms/step - loss: 0.3901 - accuracy: 0.8232 - val_loss: 0.3628 - val_accuracy: 0.8365\n",
            "Epoch 3/10\n",
            "391/391 [==============================] - 25s 63ms/step - loss: 0.3352 - accuracy: 0.8533 - val_loss: 0.3318 - val_accuracy: 0.8505\n",
            "Epoch 4/10\n",
            "391/391 [==============================] - 25s 63ms/step - loss: 0.3185 - accuracy: 0.8618 - val_loss: 0.3266 - val_accuracy: 0.8547\n",
            "Epoch 5/10\n",
            "391/391 [==============================] - 24s 62ms/step - loss: 0.3129 - accuracy: 0.8633 - val_loss: 0.3246 - val_accuracy: 0.8547\n",
            "Epoch 6/10\n",
            "391/391 [==============================] - 25s 63ms/step - loss: 0.3059 - accuracy: 0.8680 - val_loss: 0.3359 - val_accuracy: 0.8557\n",
            "Epoch 7/10\n",
            "391/391 [==============================] - 24s 60ms/step - loss: 0.3042 - accuracy: 0.8691 - val_loss: 0.3207 - val_accuracy: 0.8568\n",
            "Epoch 8/10\n",
            "391/391 [==============================] - 23s 59ms/step - loss: 0.3001 - accuracy: 0.8729 - val_loss: 0.3213 - val_accuracy: 0.8562\n",
            "Epoch 9/10\n",
            "391/391 [==============================] - 24s 62ms/step - loss: 0.2990 - accuracy: 0.8705 - val_loss: 0.3254 - val_accuracy: 0.8542\n",
            "Epoch 10/10\n",
            "391/391 [==============================] - 25s 62ms/step - loss: 0.2988 - accuracy: 0.8716 - val_loss: 0.3318 - val_accuracy: 0.8620\n"
          ]
        }
      ],
      "source": [
        "history = model.fit(train_dataset, epochs=10, validation_data=test_dataset, validation_steps=30)"
      ]
    },
    {
      "cell_type": "code",
      "execution_count": 17,
      "metadata": {
        "colab": {
          "base_uri": "https://localhost:8080/"
        },
        "id": "bCvpugENecQ0",
        "outputId": "242759b4-6ff2-483d-db3c-c8c39a932cef"
      },
      "outputs": [
        {
          "name": "stdout",
          "output_type": "stream",
          "text": [
            "391/391 [==============================] - 18s 47ms/step - loss: 0.3302 - accuracy: 0.8599\n",
            "Test Loss: 0.3302217721939087\n",
            "Test Accuracy: 0.8599200248718262\n"
          ]
        }
      ],
      "source": [
        "test_loss, test_acc = model.evaluate(test_dataset)\n",
        "\n",
        "print('Test Loss:', test_loss)\n",
        "print('Test Accuracy:', test_acc)"
      ]
    },
    {
      "cell_type": "code",
      "execution_count": 18,
      "metadata": {
        "colab": {
          "base_uri": "https://localhost:8080/",
          "height": 718
        },
        "id": "IqHTv_rF0tEZ",
        "outputId": "4f9176ab-7eff-42dd-d96f-be297dd41693"
      },
      "outputs": [
        {
          "data": {
            "text/plain": [
              "(0.0, 0.6431897431612015)"
            ]
          },
          "execution_count": 18,
          "metadata": {},
          "output_type": "execute_result"
        },
        {
          "data": {
            "image/png": "[encoded data removed]",
            "text/plain": [
              "<Figure size 1600x800 with 2 Axes>"
            ]
          },
          "metadata": {},
          "output_type": "display_data"
        }
      ],
      "source": [
        "plt.figure(figsize=(16, 8))\n",
        "plt.subplot(1, 2, 1)\n",
        "plot_graphs(history, 'accuracy')\n",
        "plt.ylim(None, 1)\n",
        "plt.subplot(1, 2, 2)\n",
        "plot_graphs(history, 'loss')\n",
        "plt.ylim(0, None)"
      ]
    },
    {
      "cell_type": "markdown",
      "metadata": {
        "id": "D15DUX2O0oFT"
      },
      "source": [
        "Jalankan prediksi pada kalimat baru:<p>\n",
        "Jika prediksi >= 0,0 berarti positif, jika tidak maka negatif."
      ]
    },
    {
      "cell_type": "code",
      "execution_count": 19,
      "metadata": {
        "colab": {
          "base_uri": "https://localhost:8080/"
        },
        "id": "RqVwsnMD1WhC",
        "outputId": "6ae40e30-2443-41bb-a4bc-d54f4ad7cc1a"
      },
      "outputs": [
        {
          "name": "stdout",
          "output_type": "stream",
          "text": [
            "1/1 [==============================] - 3s 3s/step\n",
            "[0.8979464]\n"
          ]
        }
      ],
      "source": [
        "\n",
        "sample_text = ('The movie was cool. The animation and the graphics '\n",
        "                'were out of this world. I would recommend this movie.')\n",
        "predictions = model.predict(np.array([sample_text]))\n",
        "print(predictions[0])"
      ]
    },
    {
      "cell_type": "markdown",
      "metadata": {
        "id": "kZ5eTzzI1eA0"
      },
      "source": [
        "### **Stack two or more LSTM layers**\n",
        "Lapisan berulang Keras memiliki dua mode yang tersedia yang dikontrol oleh argumen konstruktor return_sequences :<p>\n",
        "- Jika False, ia hanya mengembalikan keluaran terakhir untuk setiap urutan masukan (bentuk tensor 2D (batch_size, output_features)). Ini adalah default yang digunakan pada model sebelumnya.\n",
        "- Jika True, Sequence lengkap output berturut-turut untuk setiap langkah waktu dikembalikan (bentuk tensor 3D (ukuran_batch, langkah waktu, fitur_output)).\n",
        "\n",
        "Berikut adalah alur informasi dengan return_sequences=True:\n",
        "\n",
        "<img src = \"https://www.tensorflow.org/static/text/tutorials/images/layered_bidirectional.png\"><p>"
      ]
    },
    {
      "cell_type": "markdown",
      "metadata": {
        "id": "Q5qb7idC1wII"
      },
      "source": [
        "Hal yang menarik dari penggunaan RNN dengan return_sequences=True adalah outputnya masih memiliki 3 axis, sama seperti inputnya, sehingga bisa diteruskan ke layer RNN lain, seperti ini:"
      ]
    },
    {
      "cell_type": "code",
      "execution_count": 20,
      "metadata": {
        "id": "DGe91DpH1xrD"
      },
      "outputs": [],
      "source": [
        "\n",
        "model = tf.keras.Sequential([\n",
        "    encoder,\n",
        "    tf.keras.layers.Embedding(len(encoder.get_vocabulary()), 64, mask_zero=True),\n",
        "    tf.keras.layers.Bidirectional(tf.keras.layers.LSTM(64, return_sequences=True)),\n",
        "    tf.keras.layers.Bidirectional(tf.keras.layers.LSTM(32)),\n",
        "    tf.keras.layers.Dense(64, activation='relu'),\n",
        "    tf.keras.layers.Dropout(0.5),\n",
        "    tf.keras.layers.Dense(1)\n",
        "])"
      ]
    },
    {
      "cell_type": "code",
      "execution_count": 21,
      "metadata": {
        "id": "6DcEBZzl19sE"
      },
      "outputs": [],
      "source": [
        "\n",
        "model.compile(loss=tf.keras.losses.BinaryCrossentropy(from_logits=True),\n",
        "              optimizer=tf.keras.optimizers.Adam(1e-4),\n",
        "              metrics=['accuracy'])"
      ]
    },
    {
      "cell_type": "code",
      "execution_count": 22,
      "metadata": {
        "colab": {
          "base_uri": "https://localhost:8080/"
        },
        "id": "PmDD1vG62IZv",
        "outputId": "10834c41-4b15-498e-bcfe-d13cd0a4acc1"
      },
      "outputs": [
        {
          "name": "stdout",
          "output_type": "stream",
          "text": [
            "Epoch 1/10\n",
            "391/391 [==============================] - 81s 152ms/step - loss: 0.6276 - accuracy: 0.5861 - val_loss: 0.4789 - val_accuracy: 0.7161\n",
            "Epoch 2/10\n",
            "391/391 [==============================] - 45s 115ms/step - loss: 0.4099 - accuracy: 0.8103 - val_loss: 0.3951 - val_accuracy: 0.8135\n",
            "Epoch 3/10\n",
            "391/391 [==============================] - 44s 113ms/step - loss: 0.3506 - accuracy: 0.8506 - val_loss: 0.3421 - val_accuracy: 0.8411\n",
            "Epoch 4/10\n",
            "391/391 [==============================] - 43s 110ms/step - loss: 0.3289 - accuracy: 0.8604 - val_loss: 0.3336 - val_accuracy: 0.8401\n",
            "Epoch 5/10\n",
            "391/391 [==============================] - 44s 113ms/step - loss: 0.3175 - accuracy: 0.8664 - val_loss: 0.3236 - val_accuracy: 0.8609\n",
            "Epoch 6/10\n",
            "391/391 [==============================] - 45s 115ms/step - loss: 0.3134 - accuracy: 0.8660 - val_loss: 0.3305 - val_accuracy: 0.8526\n",
            "Epoch 7/10\n",
            "391/391 [==============================] - 43s 109ms/step - loss: 0.3089 - accuracy: 0.8685 - val_loss: 0.3177 - val_accuracy: 0.8552\n",
            "Epoch 8/10\n",
            "391/391 [==============================] - 44s 111ms/step - loss: 0.3046 - accuracy: 0.8713 - val_loss: 0.3181 - val_accuracy: 0.8625\n",
            "Epoch 9/10\n",
            "391/391 [==============================] - 45s 115ms/step - loss: 0.3004 - accuracy: 0.8713 - val_loss: 0.3194 - val_accuracy: 0.8609\n",
            "Epoch 10/10\n",
            "391/391 [==============================] - 44s 111ms/step - loss: 0.3003 - accuracy: 0.8732 - val_loss: 0.3148 - val_accuracy: 0.8635\n"
          ]
        }
      ],
      "source": [
        "\n",
        "history = model.fit(train_dataset, epochs=10,\n",
        "                    validation_data=test_dataset,\n",
        "                    validation_steps=30)"
      ]
    },
    {
      "cell_type": "code",
      "execution_count": 23,
      "metadata": {
        "colab": {
          "base_uri": "https://localhost:8080/"
        },
        "id": "U9oSdoALNmAC",
        "outputId": "61dbd2fa-278f-47a2-f67b-0de28d65f74a"
      },
      "outputs": [
        {
          "name": "stdout",
          "output_type": "stream",
          "text": [
            "391/391 [==============================] - 18s 47ms/step - loss: 0.3130 - accuracy: 0.8594\n",
            "Test Loss: 0.3130374550819397\n",
            "Test Accuracy: 0.8593599796295166\n"
          ]
        }
      ],
      "source": [
        "test_loss, test_acc = model.evaluate(test_dataset)\n",
        "\n",
        "print('Test Loss:', test_loss)\n",
        "print('Test Accuracy:', test_acc)"
      ]
    },
    {
      "cell_type": "code",
      "execution_count": 24,
      "metadata": {
        "colab": {
          "base_uri": "https://localhost:8080/"
        },
        "id": "GkSSZTMMNwF3",
        "outputId": "8f953561-c072-4897-bf9a-d1baf0456187"
      },
      "outputs": [
        {
          "name": "stdout",
          "output_type": "stream",
          "text": [
            "1/1 [==============================] - 6s 6s/step\n",
            "[[-2.1858766]]\n"
          ]
        }
      ],
      "source": [
        "\n",
        "# predict on a sample text without padding.\n",
        "\n",
        "sample_text = ('The movie was not good. The animation and the graphics '\n",
        "                'were terrible. I would not recommend this movie.')\n",
        "predictions = model.predict(np.array([sample_text]))\n",
        "print(predictions)"
      ]
    },
    {
      "cell_type": "code",
      "execution_count": 25,
      "metadata": {
        "colab": {
          "base_uri": "https://localhost:8080/",
          "height": 542
        },
        "id": "m9O_wC_8Ny7G",
        "outputId": "a477a77c-c527-4b1d-8e84-1ed1a0f82726"
      },
      "outputs": [
        {
          "data": {
            "image/png": "[encoded data removed]",
            "text/plain": [
              "<Figure size 1600x600 with 2 Axes>"
            ]
          },
          "metadata": {},
          "output_type": "display_data"
        }
      ],
      "source": [
        "plt.figure(figsize=(16, 6))\n",
        "plt.subplot(1, 2, 1)\n",
        "plot_graphs(history, 'accuracy')\n",
        "plt.subplot(1, 2, 2)\n",
        "plot_graphs(history, 'loss')"
      ]
    }
  ],
  "metadata": {
    "accelerator": "GPU",
    "colab": {
      "gpuType": "T4",
      "provenance": []
    },
    "kernelspec": {
      "display_name": "Python 3",
      "name": "python3"
    },
    "language_info": {
      "codemirror_mode": {
        "name": "ipython",
        "version": 3
      },
      "file_extension": ".py",
      "mimetype": "text/x-python",
      "name": "python",
      "nbconvert_exporter": "python",
      "pygments_lexer": "ipython3",
      "version": "3.11.4"
    }
  },
  "nbformat": 4,
  "nbformat_minor": 0
}
