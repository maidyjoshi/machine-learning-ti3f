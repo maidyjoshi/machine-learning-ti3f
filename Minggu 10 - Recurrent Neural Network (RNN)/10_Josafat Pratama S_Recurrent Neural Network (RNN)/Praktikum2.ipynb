{
 "cells": [
  {
   "cell_type": "code",
   "execution_count": 1,
   "id": "caacac64",
   "metadata": {
    "_cell_guid": "b1076dfc-b9ad-4769-8c92-a6c4dae69d19",
    "_uuid": "8f2839f25d086af736a60e9eeb907d3b93b6e0e5",
    "execution": {
     "iopub.execute_input": "2023-11-07T04:21:28.171228Z",
     "iopub.status.busy": "2023-11-07T04:21:28.170853Z",
     "iopub.status.idle": "2023-11-07T04:21:37.037830Z",
     "shell.execute_reply": "2023-11-07T04:21:37.036919Z"
    },
    "papermill": {
     "duration": 8.88384,
     "end_time": "2023-11-07T04:21:37.040141",
     "exception": false,
     "start_time": "2023-11-07T04:21:28.156301",
     "status": "completed"
    },
    "tags": []
   },
   "outputs": [
    {
     "name": "stderr",
     "output_type": "stream",
     "text": [
      "/opt/conda/lib/python3.10/site-packages/scipy/__init__.py:146: UserWarning: A NumPy version >=1.16.5 and <1.23.0 is required for this version of SciPy (detected version 1.23.5\n",
      "  warnings.warn(f\"A NumPy version >={np_minversion} and <{np_maxversion}\"\n"
     ]
    }
   ],
   "source": [
    "import tensorflow as tf\n",
    "import numpy as np\n",
    "import os\n",
    "import time"
   ]
  },
  {
   "cell_type": "code",
   "execution_count": 2,
   "id": "cb8b8b86",
   "metadata": {
    "execution": {
     "iopub.execute_input": "2023-11-07T04:21:37.068274Z",
     "iopub.status.busy": "2023-11-07T04:21:37.067563Z",
     "iopub.status.idle": "2023-11-07T04:21:37.151755Z",
     "shell.execute_reply": "2023-11-07T04:21:37.150825Z"
    },
    "papermill": {
     "duration": 0.100217,
     "end_time": "2023-11-07T04:21:37.153820",
     "exception": false,
     "start_time": "2023-11-07T04:21:37.053603",
     "status": "completed"
    },
    "tags": []
   },
   "outputs": [
    {
     "name": "stdout",
     "output_type": "stream",
     "text": [
      "Downloading data from https://storage.googleapis.com/download.tensorflow.org/data/shakespeare.txt\n",
      "1115394/1115394 [==============================] - 0s 0us/step\n"
     ]
    }
   ],
   "source": [
    "path_to_file = tf.keras.utils.get_file('shakespeare.txt', 'https://storage.googleapis.com/download.tensorflow.org/data/shakespeare.txt')"
   ]
  },
  {
   "cell_type": "code",
   "execution_count": 3,
   "id": "61a781f7",
   "metadata": {
    "execution": {
     "iopub.execute_input": "2023-11-07T04:21:37.183114Z",
     "iopub.status.busy": "2023-11-07T04:21:37.182742Z",
     "iopub.status.idle": "2023-11-07T04:21:37.190298Z",
     "shell.execute_reply": "2023-11-07T04:21:37.189294Z"
    },
    "papermill": {
     "duration": 0.023786,
     "end_time": "2023-11-07T04:21:37.192277",
     "exception": false,
     "start_time": "2023-11-07T04:21:37.168491",
     "status": "completed"
    },
    "tags": []
   },
   "outputs": [
    {
     "name": "stdout",
     "output_type": "stream",
     "text": [
      "Length of text: 1115394 characters\n"
     ]
    }
   ],
   "source": [
    "# Read, then decode for py2 compat.\n",
    "text = open(path_to_file, 'rb').read().decode(encoding='utf-8')\n",
    "# length of text is the number of characters in it\n",
    "print(f'Length of text: {len(text)} characters')"
   ]
  },
  {
   "cell_type": "code",
   "execution_count": 4,
   "id": "fdb35d15",
   "metadata": {
    "execution": {
     "iopub.execute_input": "2023-11-07T04:21:37.220114Z",
     "iopub.status.busy": "2023-11-07T04:21:37.219460Z",
     "iopub.status.idle": "2023-11-07T04:21:37.224529Z",
     "shell.execute_reply": "2023-11-07T04:21:37.223587Z"
    },
    "papermill": {
     "duration": 0.021278,
     "end_time": "2023-11-07T04:21:37.226625",
     "exception": false,
     "start_time": "2023-11-07T04:21:37.205347",
     "status": "completed"
    },
    "tags": []
   },
   "outputs": [
    {
     "name": "stdout",
     "output_type": "stream",
     "text": [
      "First Citizen:\n",
      "Before we proceed any further, hear me speak.\n",
      "\n",
      "All:\n",
      "Speak, speak.\n",
      "\n",
      "First Citizen:\n",
      "You are all resolved rather to die than to famish?\n",
      "\n",
      "All:\n",
      "Resolved. resolved.\n",
      "\n",
      "First Citizen:\n",
      "First, you know Caius Marcius is chief enemy to the people.\n",
      "\n"
     ]
    }
   ],
   "source": [
    "# Take a look at the first 250 characters in text\n",
    "print(text[:250])"
   ]
  },
  {
   "cell_type": "code",
   "execution_count": 5,
   "id": "bf61603d",
   "metadata": {
    "execution": {
     "iopub.execute_input": "2023-11-07T04:21:37.254142Z",
     "iopub.status.busy": "2023-11-07T04:21:37.253792Z",
     "iopub.status.idle": "2023-11-07T04:21:37.278426Z",
     "shell.execute_reply": "2023-11-07T04:21:37.277569Z"
    },
    "papermill": {
     "duration": 0.041187,
     "end_time": "2023-11-07T04:21:37.280882",
     "exception": false,
     "start_time": "2023-11-07T04:21:37.239695",
     "status": "completed"
    },
    "tags": []
   },
   "outputs": [
    {
     "name": "stdout",
     "output_type": "stream",
     "text": [
      "65 unique characters\n"
     ]
    }
   ],
   "source": [
    "# The unique characters in the file\n",
    "vocab = sorted(set(text))\n",
    "print(f'{len(vocab)} unique characters')"
   ]
  },
  {
   "cell_type": "code",
   "execution_count": 6,
   "id": "9757201a",
   "metadata": {
    "execution": {
     "iopub.execute_input": "2023-11-07T04:21:37.314016Z",
     "iopub.status.busy": "2023-11-07T04:21:37.313722Z",
     "iopub.status.idle": "2023-11-07T04:21:40.599265Z",
     "shell.execute_reply": "2023-11-07T04:21:40.598337Z"
    },
    "papermill": {
     "duration": 3.30356,
     "end_time": "2023-11-07T04:21:40.601442",
     "exception": false,
     "start_time": "2023-11-07T04:21:37.297882",
     "status": "completed"
    },
    "tags": []
   },
   "outputs": [
    {
     "data": {
      "text/plain": [
       "<tf.RaggedTensor [[b'a', b'b', b'c', b'd', b'e', b'f', b'g'], [b'x', b'y', b'z']]>"
      ]
     },
     "execution_count": 6,
     "metadata": {},
     "output_type": "execute_result"
    }
   ],
   "source": [
    "example_texts = ['abcdefg', 'xyz']\n",
    "chars = tf.strings.unicode_split(example_texts, input_encoding='UTF-8')\n",
    "chars"
   ]
  },
  {
   "cell_type": "code",
   "execution_count": 7,
   "id": "e0e76a59",
   "metadata": {
    "execution": {
     "iopub.execute_input": "2023-11-07T04:21:40.629711Z",
     "iopub.status.busy": "2023-11-07T04:21:40.629402Z",
     "iopub.status.idle": "2023-11-07T04:21:40.665218Z",
     "shell.execute_reply": "2023-11-07T04:21:40.664392Z"
    },
    "papermill": {
     "duration": 0.052404,
     "end_time": "2023-11-07T04:21:40.667332",
     "exception": false,
     "start_time": "2023-11-07T04:21:40.614928",
     "status": "completed"
    },
    "tags": []
   },
   "outputs": [],
   "source": [
    "ids_from_chars = tf.keras.layers.StringLookup(vocabulary=list(vocab), mask_token=None)"
   ]
  },
  {
   "cell_type": "code",
   "execution_count": 8,
   "id": "0214abd5",
   "metadata": {
    "execution": {
     "iopub.execute_input": "2023-11-07T04:21:40.695635Z",
     "iopub.status.busy": "2023-11-07T04:21:40.695302Z",
     "iopub.status.idle": "2023-11-07T04:21:40.705719Z",
     "shell.execute_reply": "2023-11-07T04:21:40.704844Z"
    },
    "papermill": {
     "duration": 0.026762,
     "end_time": "2023-11-07T04:21:40.707709",
     "exception": false,
     "start_time": "2023-11-07T04:21:40.680947",
     "status": "completed"
    },
    "tags": []
   },
   "outputs": [
    {
     "data": {
      "text/plain": [
       "<tf.RaggedTensor [[40, 41, 42, 43, 44, 45, 46], [63, 64, 65]]>"
      ]
     },
     "execution_count": 8,
     "metadata": {},
     "output_type": "execute_result"
    }
   ],
   "source": [
    "ids = ids_from_chars(chars)\n",
    "ids"
   ]
  },
  {
   "cell_type": "code",
   "execution_count": 9,
   "id": "b17ef66a",
   "metadata": {
    "execution": {
     "iopub.execute_input": "2023-11-07T04:21:40.735711Z",
     "iopub.status.busy": "2023-11-07T04:21:40.735420Z",
     "iopub.status.idle": "2023-11-07T04:21:40.752588Z",
     "shell.execute_reply": "2023-11-07T04:21:40.751678Z"
    },
    "papermill": {
     "duration": 0.033411,
     "end_time": "2023-11-07T04:21:40.754573",
     "exception": false,
     "start_time": "2023-11-07T04:21:40.721162",
     "status": "completed"
    },
    "tags": []
   },
   "outputs": [],
   "source": [
    "chars_from_ids = tf.keras.layers.StringLookup(\n",
    "    vocabulary=ids_from_chars.get_vocabulary(), invert=True, mask_token=None)"
   ]
  },
  {
   "cell_type": "code",
   "execution_count": 10,
   "id": "dfaa30db",
   "metadata": {
    "execution": {
     "iopub.execute_input": "2023-11-07T04:21:40.783143Z",
     "iopub.status.busy": "2023-11-07T04:21:40.782814Z",
     "iopub.status.idle": "2023-11-07T04:21:40.790714Z",
     "shell.execute_reply": "2023-11-07T04:21:40.789717Z"
    },
    "papermill": {
     "duration": 0.024356,
     "end_time": "2023-11-07T04:21:40.792612",
     "exception": false,
     "start_time": "2023-11-07T04:21:40.768256",
     "status": "completed"
    },
    "tags": []
   },
   "outputs": [
    {
     "data": {
      "text/plain": [
       "<tf.RaggedTensor [[b'a', b'b', b'c', b'd', b'e', b'f', b'g'], [b'x', b'y', b'z']]>"
      ]
     },
     "execution_count": 10,
     "metadata": {},
     "output_type": "execute_result"
    }
   ],
   "source": [
    "chars = chars_from_ids(ids)\n",
    "chars"
   ]
  },
  {
   "cell_type": "code",
   "execution_count": 11,
   "id": "595a33c9",
   "metadata": {
    "execution": {
     "iopub.execute_input": "2023-11-07T04:21:40.820495Z",
     "iopub.status.busy": "2023-11-07T04:21:40.820215Z",
     "iopub.status.idle": "2023-11-07T04:21:40.910676Z",
     "shell.execute_reply": "2023-11-07T04:21:40.909757Z"
    },
    "papermill": {
     "duration": 0.10681,
     "end_time": "2023-11-07T04:21:40.912716",
     "exception": false,
     "start_time": "2023-11-07T04:21:40.805906",
     "status": "completed"
    },
    "tags": []
   },
   "outputs": [
    {
     "data": {
      "text/plain": [
       "array([b'abcdefg', b'xyz'], dtype=object)"
      ]
     },
     "execution_count": 11,
     "metadata": {},
     "output_type": "execute_result"
    }
   ],
   "source": [
    "tf.strings.reduce_join(chars, axis=-1).numpy()"
   ]
  },
  {
   "cell_type": "code",
   "execution_count": 12,
   "id": "bf567326",
   "metadata": {
    "execution": {
     "iopub.execute_input": "2023-11-07T04:21:40.985311Z",
     "iopub.status.busy": "2023-11-07T04:21:40.984572Z",
     "iopub.status.idle": "2023-11-07T04:21:40.989126Z",
     "shell.execute_reply": "2023-11-07T04:21:40.988256Z"
    },
    "papermill": {
     "duration": 0.064512,
     "end_time": "2023-11-07T04:21:40.990991",
     "exception": false,
     "start_time": "2023-11-07T04:21:40.926479",
     "status": "completed"
    },
    "tags": []
   },
   "outputs": [],
   "source": [
    "def text_from_ids(ids):\n",
    "    return tf.strings.reduce_join(chars_from_ids(ids), axis=-1)"
   ]
  },
  {
   "cell_type": "code",
   "execution_count": 13,
   "id": "09c174b9",
   "metadata": {
    "execution": {
     "iopub.execute_input": "2023-11-07T04:21:41.019312Z",
     "iopub.status.busy": "2023-11-07T04:21:41.019048Z",
     "iopub.status.idle": "2023-11-07T04:21:41.546074Z",
     "shell.execute_reply": "2023-11-07T04:21:41.545142Z"
    },
    "papermill": {
     "duration": 0.543659,
     "end_time": "2023-11-07T04:21:41.548247",
     "exception": false,
     "start_time": "2023-11-07T04:21:41.004588",
     "status": "completed"
    },
    "tags": []
   },
   "outputs": [
    {
     "data": {
      "text/plain": [
       "<tf.Tensor: shape=(1115394,), dtype=int64, numpy=array([19, 48, 57, ..., 46,  9,  1])>"
      ]
     },
     "execution_count": 13,
     "metadata": {},
     "output_type": "execute_result"
    }
   ],
   "source": [
    "all_ids = ids_from_chars(tf.strings.unicode_split(text, 'UTF-8'))\n",
    "all_ids"
   ]
  },
  {
   "cell_type": "code",
   "execution_count": 14,
   "id": "a35a803b",
   "metadata": {
    "execution": {
     "iopub.execute_input": "2023-11-07T04:21:41.577800Z",
     "iopub.status.busy": "2023-11-07T04:21:41.577512Z",
     "iopub.status.idle": "2023-11-07T04:21:41.584491Z",
     "shell.execute_reply": "2023-11-07T04:21:41.583747Z"
    },
    "papermill": {
     "duration": 0.023654,
     "end_time": "2023-11-07T04:21:41.586490",
     "exception": false,
     "start_time": "2023-11-07T04:21:41.562836",
     "status": "completed"
    },
    "tags": []
   },
   "outputs": [],
   "source": [
    "ids_dataset = tf.data.Dataset.from_tensor_slices(all_ids)"
   ]
  },
  {
   "cell_type": "code",
   "execution_count": 15,
   "id": "9e2ba8fa",
   "metadata": {
    "execution": {
     "iopub.execute_input": "2023-11-07T04:21:41.615123Z",
     "iopub.status.busy": "2023-11-07T04:21:41.614809Z",
     "iopub.status.idle": "2023-11-07T04:21:41.674472Z",
     "shell.execute_reply": "2023-11-07T04:21:41.673442Z"
    },
    "papermill": {
     "duration": 0.076406,
     "end_time": "2023-11-07T04:21:41.676539",
     "exception": false,
     "start_time": "2023-11-07T04:21:41.600133",
     "status": "completed"
    },
    "tags": []
   },
   "outputs": [
    {
     "name": "stdout",
     "output_type": "stream",
     "text": [
      "F\n",
      "i\n",
      "r\n",
      "s\n",
      "t\n",
      " \n",
      "C\n",
      "i\n",
      "t\n",
      "i\n"
     ]
    }
   ],
   "source": [
    "for ids in ids_dataset.take(10):\n",
    "    print(chars_from_ids(ids).numpy().decode('utf-8'))"
   ]
  },
  {
   "cell_type": "code",
   "execution_count": 16,
   "id": "78258eb5",
   "metadata": {
    "execution": {
     "iopub.execute_input": "2023-11-07T04:21:41.705332Z",
     "iopub.status.busy": "2023-11-07T04:21:41.705055Z",
     "iopub.status.idle": "2023-11-07T04:21:41.708845Z",
     "shell.execute_reply": "2023-11-07T04:21:41.708026Z"
    },
    "papermill": {
     "duration": 0.020438,
     "end_time": "2023-11-07T04:21:41.710857",
     "exception": false,
     "start_time": "2023-11-07T04:21:41.690419",
     "status": "completed"
    },
    "tags": []
   },
   "outputs": [],
   "source": [
    "seq_length = 100"
   ]
  },
  {
   "cell_type": "code",
   "execution_count": 17,
   "id": "f39f058b",
   "metadata": {
    "execution": {
     "iopub.execute_input": "2023-11-07T04:21:41.739301Z",
     "iopub.status.busy": "2023-11-07T04:21:41.739039Z",
     "iopub.status.idle": "2023-11-07T04:21:41.757345Z",
     "shell.execute_reply": "2023-11-07T04:21:41.756335Z"
    },
    "papermill": {
     "duration": 0.034759,
     "end_time": "2023-11-07T04:21:41.759256",
     "exception": false,
     "start_time": "2023-11-07T04:21:41.724497",
     "status": "completed"
    },
    "tags": []
   },
   "outputs": [
    {
     "name": "stdout",
     "output_type": "stream",
     "text": [
      "tf.Tensor(\n",
      "[b'F' b'i' b'r' b's' b't' b' ' b'C' b'i' b't' b'i' b'z' b'e' b'n' b':'\n",
      " b'\\n' b'B' b'e' b'f' b'o' b'r' b'e' b' ' b'w' b'e' b' ' b'p' b'r' b'o'\n",
      " b'c' b'e' b'e' b'd' b' ' b'a' b'n' b'y' b' ' b'f' b'u' b'r' b't' b'h'\n",
      " b'e' b'r' b',' b' ' b'h' b'e' b'a' b'r' b' ' b'm' b'e' b' ' b's' b'p'\n",
      " b'e' b'a' b'k' b'.' b'\\n' b'\\n' b'A' b'l' b'l' b':' b'\\n' b'S' b'p' b'e'\n",
      " b'a' b'k' b',' b' ' b's' b'p' b'e' b'a' b'k' b'.' b'\\n' b'\\n' b'F' b'i'\n",
      " b'r' b's' b't' b' ' b'C' b'i' b't' b'i' b'z' b'e' b'n' b':' b'\\n' b'Y'\n",
      " b'o' b'u' b' '], shape=(101,), dtype=string)\n"
     ]
    }
   ],
   "source": [
    "sequences = ids_dataset.batch(seq_length+1, drop_remainder=True)\n",
    "\n",
    "for seq in sequences.take(1):\n",
    "    print(chars_from_ids(seq))"
   ]
  },
  {
   "cell_type": "code",
   "execution_count": 18,
   "id": "c87c07ca",
   "metadata": {
    "execution": {
     "iopub.execute_input": "2023-11-07T04:21:41.788474Z",
     "iopub.status.busy": "2023-11-07T04:21:41.788174Z",
     "iopub.status.idle": "2023-11-07T04:21:41.803881Z",
     "shell.execute_reply": "2023-11-07T04:21:41.802912Z"
    },
    "papermill": {
     "duration": 0.032851,
     "end_time": "2023-11-07T04:21:41.806095",
     "exception": false,
     "start_time": "2023-11-07T04:21:41.773244",
     "status": "completed"
    },
    "tags": []
   },
   "outputs": [
    {
     "name": "stdout",
     "output_type": "stream",
     "text": [
      "b'First Citizen:\\nBefore we proceed any further, hear me speak.\\n\\nAll:\\nSpeak, speak.\\n\\nFirst Citizen:\\nYou '\n",
      "b'are all resolved rather to die than to famish?\\n\\nAll:\\nResolved. resolved.\\n\\nFirst Citizen:\\nFirst, you k'\n",
      "b\"now Caius Marcius is chief enemy to the people.\\n\\nAll:\\nWe know't, we know't.\\n\\nFirst Citizen:\\nLet us ki\"\n",
      "b\"ll him, and we'll have corn at our own price.\\nIs't a verdict?\\n\\nAll:\\nNo more talking on't; let it be d\"\n",
      "b'one: away, away!\\n\\nSecond Citizen:\\nOne word, good citizens.\\n\\nFirst Citizen:\\nWe are accounted poor citi'\n"
     ]
    }
   ],
   "source": [
    "for seq in sequences.take(5):\n",
    "    print(text_from_ids(seq).numpy())"
   ]
  },
  {
   "cell_type": "code",
   "execution_count": 19,
   "id": "acccf26c",
   "metadata": {
    "execution": {
     "iopub.execute_input": "2023-11-07T04:21:41.836581Z",
     "iopub.status.busy": "2023-11-07T04:21:41.836231Z",
     "iopub.status.idle": "2023-11-07T04:21:41.840741Z",
     "shell.execute_reply": "2023-11-07T04:21:41.839896Z"
    },
    "papermill": {
     "duration": 0.021957,
     "end_time": "2023-11-07T04:21:41.842736",
     "exception": false,
     "start_time": "2023-11-07T04:21:41.820779",
     "status": "completed"
    },
    "tags": []
   },
   "outputs": [],
   "source": [
    "def split_input_target(sequence):\n",
    "    input_text = sequence[:-1]\n",
    "    target_text = sequence[1:]\n",
    "    return input_text, target_text"
   ]
  },
  {
   "cell_type": "code",
   "execution_count": 20,
   "id": "38be4c3b",
   "metadata": {
    "execution": {
     "iopub.execute_input": "2023-11-07T04:21:41.872835Z",
     "iopub.status.busy": "2023-11-07T04:21:41.872552Z",
     "iopub.status.idle": "2023-11-07T04:21:41.878599Z",
     "shell.execute_reply": "2023-11-07T04:21:41.877722Z"
    },
    "papermill": {
     "duration": 0.022733,
     "end_time": "2023-11-07T04:21:41.880449",
     "exception": false,
     "start_time": "2023-11-07T04:21:41.857716",
     "status": "completed"
    },
    "tags": []
   },
   "outputs": [
    {
     "data": {
      "text/plain": [
       "(['T', 'e', 'n', 's', 'o', 'r', 'f', 'l', 'o'],\n",
       " ['e', 'n', 's', 'o', 'r', 'f', 'l', 'o', 'w'])"
      ]
     },
     "execution_count": 20,
     "metadata": {},
     "output_type": "execute_result"
    }
   ],
   "source": [
    "split_input_target(list(\"Tensorflow\"))"
   ]
  },
  {
   "cell_type": "code",
   "execution_count": 21,
   "id": "bce46489",
   "metadata": {
    "execution": {
     "iopub.execute_input": "2023-11-07T04:21:41.910011Z",
     "iopub.status.busy": "2023-11-07T04:21:41.909395Z",
     "iopub.status.idle": "2023-11-07T04:21:41.967669Z",
     "shell.execute_reply": "2023-11-07T04:21:41.966405Z"
    },
    "papermill": {
     "duration": 0.076082,
     "end_time": "2023-11-07T04:21:41.970550",
     "exception": false,
     "start_time": "2023-11-07T04:21:41.894468",
     "status": "completed"
    },
    "tags": []
   },
   "outputs": [],
   "source": [
    "dataset = sequences.map(split_input_target)"
   ]
  },
  {
   "cell_type": "code",
   "execution_count": 22,
   "id": "9a6f87d8",
   "metadata": {
    "execution": {
     "iopub.execute_input": "2023-11-07T04:21:42.000667Z",
     "iopub.status.busy": "2023-11-07T04:21:42.000339Z",
     "iopub.status.idle": "2023-11-07T04:21:42.037260Z",
     "shell.execute_reply": "2023-11-07T04:21:42.036411Z"
    },
    "papermill": {
     "duration": 0.054178,
     "end_time": "2023-11-07T04:21:42.039355",
     "exception": false,
     "start_time": "2023-11-07T04:21:41.985177",
     "status": "completed"
    },
    "tags": []
   },
   "outputs": [
    {
     "name": "stdout",
     "output_type": "stream",
     "text": [
      "Input : b'First Citizen:\\nBefore we proceed any further, hear me speak.\\n\\nAll:\\nSpeak, speak.\\n\\nFirst Citizen:\\nYou'\n",
      "Target: b'irst Citizen:\\nBefore we proceed any further, hear me speak.\\n\\nAll:\\nSpeak, speak.\\n\\nFirst Citizen:\\nYou '\n"
     ]
    }
   ],
   "source": [
    "for input_example,target_example in dataset.take(1):\n",
    "    print(\"Input :\", text_from_ids(input_example).numpy())\n",
    "    print(\"Target:\", text_from_ids(target_example).numpy())"
   ]
  },
  {
   "cell_type": "markdown",
   "id": "fc4dd428",
   "metadata": {
    "papermill": {
     "duration": 0.017688,
     "end_time": "2023-11-07T04:21:42.071841",
     "exception": false,
     "start_time": "2023-11-07T04:21:42.054153",
     "status": "completed"
    },
    "tags": []
   },
   "source": [
    "# Membuat Batch Training"
   ]
  },
  {
   "cell_type": "code",
   "execution_count": 23,
   "id": "3ff04b39",
   "metadata": {
    "execution": {
     "iopub.execute_input": "2023-11-07T04:21:42.110668Z",
     "iopub.status.busy": "2023-11-07T04:21:42.109957Z",
     "iopub.status.idle": "2023-11-07T04:21:42.129710Z",
     "shell.execute_reply": "2023-11-07T04:21:42.128778Z"
    },
    "papermill": {
     "duration": 0.040905,
     "end_time": "2023-11-07T04:21:42.131797",
     "exception": false,
     "start_time": "2023-11-07T04:21:42.090892",
     "status": "completed"
    },
    "tags": []
   },
   "outputs": [
    {
     "data": {
      "text/plain": [
       "<_PrefetchDataset element_spec=(TensorSpec(shape=(64, 100), dtype=tf.int64, name=None), TensorSpec(shape=(64, 100), dtype=tf.int64, name=None))>"
      ]
     },
     "execution_count": 23,
     "metadata": {},
     "output_type": "execute_result"
    }
   ],
   "source": [
    "# Batch size\n",
    "BATCH_SIZE = 64\n",
    "\n",
    "# Buffer size to shuffle the dataset\n",
    "# (TF data is designed to work with possibly infinite sequences,\n",
    "# so it doesn't attempt to shuffle the entire sequence in memory. Instead,\n",
    "# it maintains a buffer in which it shuffles elements).\n",
    "BUFFER_SIZE = 10000\n",
    "\n",
    "dataset = (\n",
    "    dataset\n",
    "    .shuffle(BUFFER_SIZE)\n",
    "    .batch(BATCH_SIZE, drop_remainder=True)\n",
    "    .prefetch(tf.data.experimental.AUTOTUNE))\n",
    "\n",
    "dataset"
   ]
  },
  {
   "cell_type": "markdown",
   "id": "fd66a727",
   "metadata": {
    "papermill": {
     "duration": 0.014255,
     "end_time": "2023-11-07T04:21:42.160801",
     "exception": false,
     "start_time": "2023-11-07T04:21:42.146546",
     "status": "completed"
    },
    "tags": []
   },
   "source": [
    "# Buat Model"
   ]
  },
  {
   "cell_type": "code",
   "execution_count": 24,
   "id": "50441007",
   "metadata": {
    "execution": {
     "iopub.execute_input": "2023-11-07T04:21:42.190837Z",
     "iopub.status.busy": "2023-11-07T04:21:42.190501Z",
     "iopub.status.idle": "2023-11-07T04:21:42.196235Z",
     "shell.execute_reply": "2023-11-07T04:21:42.195510Z"
    },
    "papermill": {
     "duration": 0.022925,
     "end_time": "2023-11-07T04:21:42.198183",
     "exception": false,
     "start_time": "2023-11-07T04:21:42.175258",
     "status": "completed"
    },
    "tags": []
   },
   "outputs": [],
   "source": [
    "# Length of the vocabulary in StringLookup Layer\n",
    "vocab_size = len(ids_from_chars.get_vocabulary())\n",
    "\n",
    "# The embedding dimension\n",
    "embedding_dim = 256\n",
    "\n",
    "# Number of RNN units\n",
    "rnn_units = 1024"
   ]
  },
  {
   "cell_type": "code",
   "execution_count": 25,
   "id": "72f04397",
   "metadata": {
    "execution": {
     "iopub.execute_input": "2023-11-07T04:21:42.227880Z",
     "iopub.status.busy": "2023-11-07T04:21:42.227554Z",
     "iopub.status.idle": "2023-11-07T04:21:42.235372Z",
     "shell.execute_reply": "2023-11-07T04:21:42.234518Z"
    },
    "papermill": {
     "duration": 0.024941,
     "end_time": "2023-11-07T04:21:42.237309",
     "exception": false,
     "start_time": "2023-11-07T04:21:42.212368",
     "status": "completed"
    },
    "tags": []
   },
   "outputs": [],
   "source": [
    "class MyModel(tf.keras.Model):\n",
    "  def __init__(self, vocab_size, embedding_dim, rnn_units):\n",
    "    super().__init__(self)\n",
    "    self.embedding = tf.keras.layers.Embedding(vocab_size, embedding_dim)\n",
    "    self.gru = tf.keras.layers.GRU(rnn_units,\n",
    "                                   return_sequences=True,\n",
    "                                   return_state=True)\n",
    "    self.dense = tf.keras.layers.Dense(vocab_size)\n",
    "\n",
    "  def call(self, inputs, states=None, return_state=False, training=False):\n",
    "    x = inputs\n",
    "    x = self.embedding(x, training=training)\n",
    "    if states is None:\n",
    "      states = self.gru.get_initial_state(x)\n",
    "    x, states = self.gru(x, initial_state=states, training=training)\n",
    "    x = self.dense(x, training=training)\n",
    "\n",
    "    if return_state:\n",
    "      return x, states\n",
    "    else:\n",
    "      return x"
   ]
  },
  {
   "cell_type": "code",
   "execution_count": 26,
   "id": "b8faae09",
   "metadata": {
    "execution": {
     "iopub.execute_input": "2023-11-07T04:21:42.267355Z",
     "iopub.status.busy": "2023-11-07T04:21:42.267048Z",
     "iopub.status.idle": "2023-11-07T04:21:42.289585Z",
     "shell.execute_reply": "2023-11-07T04:21:42.288829Z"
    },
    "papermill": {
     "duration": 0.040111,
     "end_time": "2023-11-07T04:21:42.291844",
     "exception": false,
     "start_time": "2023-11-07T04:21:42.251733",
     "status": "completed"
    },
    "tags": []
   },
   "outputs": [],
   "source": [
    "model = MyModel(\n",
    "    vocab_size=vocab_size,\n",
    "    embedding_dim=embedding_dim,\n",
    "    rnn_units=rnn_units)"
   ]
  },
  {
   "cell_type": "markdown",
   "id": "faf91766",
   "metadata": {
    "papermill": {
     "duration": 0.014026,
     "end_time": "2023-11-07T04:21:42.320321",
     "exception": false,
     "start_time": "2023-11-07T04:21:42.306295",
     "status": "completed"
    },
    "tags": []
   },
   "source": [
    "# Uji Model"
   ]
  },
  {
   "cell_type": "code",
   "execution_count": 27,
   "id": "789cb44c",
   "metadata": {
    "execution": {
     "iopub.execute_input": "2023-11-07T04:21:42.350713Z",
     "iopub.status.busy": "2023-11-07T04:21:42.350373Z",
     "iopub.status.idle": "2023-11-07T04:21:46.960072Z",
     "shell.execute_reply": "2023-11-07T04:21:46.958390Z"
    },
    "papermill": {
     "duration": 4.628397,
     "end_time": "2023-11-07T04:21:46.963028",
     "exception": false,
     "start_time": "2023-11-07T04:21:42.334631",
     "status": "completed"
    },
    "tags": []
   },
   "outputs": [
    {
     "name": "stdout",
     "output_type": "stream",
     "text": [
      "(64, 100, 66) # (batch_size, sequence_length, vocab_size)\n"
     ]
    }
   ],
   "source": [
    "for input_example_batch, target_example_batch in dataset.take(1):\n",
    "    example_batch_predictions = model(input_example_batch)\n",
    "    print(example_batch_predictions.shape, \"# (batch_size, sequence_length, vocab_size)\")"
   ]
  },
  {
   "cell_type": "code",
   "execution_count": 28,
   "id": "b5266f2e",
   "metadata": {
    "execution": {
     "iopub.execute_input": "2023-11-07T04:21:46.999329Z",
     "iopub.status.busy": "2023-11-07T04:21:46.998988Z",
     "iopub.status.idle": "2023-11-07T04:21:47.017917Z",
     "shell.execute_reply": "2023-11-07T04:21:47.016914Z"
    },
    "papermill": {
     "duration": 0.043426,
     "end_time": "2023-11-07T04:21:47.023986",
     "exception": false,
     "start_time": "2023-11-07T04:21:46.980560",
     "status": "completed"
    },
    "tags": []
   },
   "outputs": [
    {
     "name": "stdout",
     "output_type": "stream",
     "text": [
      "Model: \"my_model\"\n",
      "_________________________________________________________________\n",
      " Layer (type)                Output Shape              Param #   \n",
      "=================================================================\n",
      " embedding (Embedding)       multiple                  16896     \n",
      "                                                                 \n",
      " gru (GRU)                   multiple                  3938304   \n",
      "                                                                 \n",
      " dense (Dense)               multiple                  67650     \n",
      "                                                                 \n",
      "=================================================================\n",
      "Total params: 4,022,850\n",
      "Trainable params: 4,022,850\n",
      "Non-trainable params: 0\n",
      "_________________________________________________________________\n"
     ]
    }
   ],
   "source": [
    "model.summary()"
   ]
  },
  {
   "cell_type": "code",
   "execution_count": 29,
   "id": "456d3c24",
   "metadata": {
    "execution": {
     "iopub.execute_input": "2023-11-07T04:21:47.059505Z",
     "iopub.status.busy": "2023-11-07T04:21:47.059204Z",
     "iopub.status.idle": "2023-11-07T04:21:47.070957Z",
     "shell.execute_reply": "2023-11-07T04:21:47.070252Z"
    },
    "papermill": {
     "duration": 0.032358,
     "end_time": "2023-11-07T04:21:47.073006",
     "exception": false,
     "start_time": "2023-11-07T04:21:47.040648",
     "status": "completed"
    },
    "tags": []
   },
   "outputs": [],
   "source": [
    "sampled_indices = tf.random.categorical(example_batch_predictions[0], num_samples=1)\n",
    "sampled_indices = tf.squeeze(sampled_indices, axis=-1).numpy()"
   ]
  },
  {
   "cell_type": "code",
   "execution_count": 30,
   "id": "fd68373a",
   "metadata": {
    "execution": {
     "iopub.execute_input": "2023-11-07T04:21:47.105894Z",
     "iopub.status.busy": "2023-11-07T04:21:47.105590Z",
     "iopub.status.idle": "2023-11-07T04:21:47.111851Z",
     "shell.execute_reply": "2023-11-07T04:21:47.111039Z"
    },
    "papermill": {
     "duration": 0.025134,
     "end_time": "2023-11-07T04:21:47.113924",
     "exception": false,
     "start_time": "2023-11-07T04:21:47.088790",
     "status": "completed"
    },
    "tags": []
   },
   "outputs": [
    {
     "data": {
      "text/plain": [
       "array([ 3, 35, 23, 44, 27,  5, 38, 34,  8, 50, 10, 29, 39, 42, 37, 38, 27,\n",
       "       44, 48, 61, 58, 14, 36, 32, 28, 11, 53,  9, 22, 19,  4, 17, 16,  0,\n",
       "       31, 34, 56, 33, 53, 57, 34, 31, 64, 42, 42, 47, 22,  5, 58, 34, 16,\n",
       "       10, 33, 49, 62, 10, 37, 45, 45, 58,  0,  3, 34, 33, 53, 35, 30, 57,\n",
       "       61, 62, 37, 13, 12, 37, 19, 32,  8, 38, 39, 18, 24, 64, 38, 32, 37,\n",
       "       14, 37, 52, 26, 31, 15, 54, 40, 17, 55,  6, 35, 41, 20, 35])"
      ]
     },
     "execution_count": 30,
     "metadata": {},
     "output_type": "execute_result"
    }
   ],
   "source": [
    "sampled_indices"
   ]
  },
  {
   "cell_type": "code",
   "execution_count": 31,
   "id": "5f0c184c",
   "metadata": {
    "execution": {
     "iopub.execute_input": "2023-11-07T04:21:47.146995Z",
     "iopub.status.busy": "2023-11-07T04:21:47.146683Z",
     "iopub.status.idle": "2023-11-07T04:21:47.155649Z",
     "shell.execute_reply": "2023-11-07T04:21:47.154766Z"
    },
    "papermill": {
     "duration": 0.027456,
     "end_time": "2023-11-07T04:21:47.157575",
     "exception": false,
     "start_time": "2023-11-07T04:21:47.130119",
     "status": "completed"
    },
    "tags": []
   },
   "outputs": [
    {
     "name": "stdout",
     "output_type": "stream",
     "text": [
      "Input:\n",
      " b'e grand conspirator, Abbot of Westminster,\\nWith clog of conscience and sour melancholy\\nHath yielded '\n",
      "\n",
      "Next Char Predictions:\n",
      " b\"!VJeN&YU-k3PZcXYNeivsAWSO:n.IF$DC[UNK]RUqTnrURycchI&sUC3Tjw3Xffs[UNK]!UTnVQrvwX?;XFS-YZEKyYSXAXmMRBoaDp'VbGV\"\n"
     ]
    }
   ],
   "source": [
    "print(\"Input:\\n\", text_from_ids(input_example_batch[0]).numpy())\n",
    "print()\n",
    "print(\"Next Char Predictions:\\n\", text_from_ids(sampled_indices).numpy())"
   ]
  },
  {
   "cell_type": "markdown",
   "id": "06c6e6ec",
   "metadata": {
    "papermill": {
     "duration": 0.015688,
     "end_time": "2023-11-07T04:21:47.189217",
     "exception": false,
     "start_time": "2023-11-07T04:21:47.173529",
     "status": "completed"
    },
    "tags": []
   },
   "source": [
    "# Train Model"
   ]
  },
  {
   "cell_type": "markdown",
   "id": "a8ac16ee",
   "metadata": {
    "papermill": {
     "duration": 0.015917,
     "end_time": "2023-11-07T04:21:47.220567",
     "exception": false,
     "start_time": "2023-11-07T04:21:47.204650",
     "status": "completed"
    },
    "tags": []
   },
   "source": [
    "**Optimizer dan fungsi loss**"
   ]
  },
  {
   "cell_type": "code",
   "execution_count": 32,
   "id": "c03bc727",
   "metadata": {
    "execution": {
     "iopub.execute_input": "2023-11-07T04:21:47.253386Z",
     "iopub.status.busy": "2023-11-07T04:21:47.253083Z",
     "iopub.status.idle": "2023-11-07T04:21:47.257297Z",
     "shell.execute_reply": "2023-11-07T04:21:47.256448Z"
    },
    "papermill": {
     "duration": 0.022652,
     "end_time": "2023-11-07T04:21:47.259155",
     "exception": false,
     "start_time": "2023-11-07T04:21:47.236503",
     "status": "completed"
    },
    "tags": []
   },
   "outputs": [],
   "source": [
    "loss = tf.losses.SparseCategoricalCrossentropy(from_logits=True)"
   ]
  },
  {
   "cell_type": "code",
   "execution_count": 33,
   "id": "e94b3792",
   "metadata": {
    "execution": {
     "iopub.execute_input": "2023-11-07T04:21:47.291811Z",
     "iopub.status.busy": "2023-11-07T04:21:47.291555Z",
     "iopub.status.idle": "2023-11-07T04:21:47.314359Z",
     "shell.execute_reply": "2023-11-07T04:21:47.313391Z"
    },
    "papermill": {
     "duration": 0.041512,
     "end_time": "2023-11-07T04:21:47.316363",
     "exception": false,
     "start_time": "2023-11-07T04:21:47.274851",
     "status": "completed"
    },
    "tags": []
   },
   "outputs": [
    {
     "name": "stdout",
     "output_type": "stream",
     "text": [
      "Prediction shape:  (64, 100, 66)  # (batch_size, sequence_length, vocab_size)\n",
      "Mean loss:         tf.Tensor(4.188867, shape=(), dtype=float32)\n"
     ]
    }
   ],
   "source": [
    "example_batch_mean_loss = loss(target_example_batch, example_batch_predictions)\n",
    "print(\"Prediction shape: \", example_batch_predictions.shape, \" # (batch_size, sequence_length, vocab_size)\")\n",
    "print(\"Mean loss:        \", example_batch_mean_loss)"
   ]
  },
  {
   "cell_type": "code",
   "execution_count": 34,
   "id": "532a7a8a",
   "metadata": {
    "execution": {
     "iopub.execute_input": "2023-11-07T04:21:47.348982Z",
     "iopub.status.busy": "2023-11-07T04:21:47.348640Z",
     "iopub.status.idle": "2023-11-07T04:21:47.356331Z",
     "shell.execute_reply": "2023-11-07T04:21:47.355524Z"
    },
    "papermill": {
     "duration": 0.026083,
     "end_time": "2023-11-07T04:21:47.358150",
     "exception": false,
     "start_time": "2023-11-07T04:21:47.332067",
     "status": "completed"
    },
    "tags": []
   },
   "outputs": [
    {
     "data": {
      "text/plain": [
       "65.94804"
      ]
     },
     "execution_count": 34,
     "metadata": {},
     "output_type": "execute_result"
    }
   ],
   "source": [
    "tf.exp(example_batch_mean_loss).numpy()"
   ]
  },
  {
   "cell_type": "code",
   "execution_count": 35,
   "id": "203e51e1",
   "metadata": {
    "execution": {
     "iopub.execute_input": "2023-11-07T04:21:47.391606Z",
     "iopub.status.busy": "2023-11-07T04:21:47.390732Z",
     "iopub.status.idle": "2023-11-07T04:21:47.406635Z",
     "shell.execute_reply": "2023-11-07T04:21:47.405900Z"
    },
    "papermill": {
     "duration": 0.034656,
     "end_time": "2023-11-07T04:21:47.408622",
     "exception": false,
     "start_time": "2023-11-07T04:21:47.373966",
     "status": "completed"
    },
    "tags": []
   },
   "outputs": [],
   "source": [
    "model.compile(optimizer='adam', loss=loss)"
   ]
  },
  {
   "cell_type": "markdown",
   "id": "23a136a1",
   "metadata": {
    "papermill": {
     "duration": 0.015601,
     "end_time": "2023-11-07T04:21:47.440444",
     "exception": false,
     "start_time": "2023-11-07T04:21:47.424843",
     "status": "completed"
    },
    "tags": []
   },
   "source": [
    "**Konfigurasi checkpoints**"
   ]
  },
  {
   "cell_type": "code",
   "execution_count": 36,
   "id": "9daaee7f",
   "metadata": {
    "execution": {
     "iopub.execute_input": "2023-11-07T04:21:47.473300Z",
     "iopub.status.busy": "2023-11-07T04:21:47.472999Z",
     "iopub.status.idle": "2023-11-07T04:21:47.477734Z",
     "shell.execute_reply": "2023-11-07T04:21:47.477001Z"
    },
    "papermill": {
     "duration": 0.023561,
     "end_time": "2023-11-07T04:21:47.479657",
     "exception": false,
     "start_time": "2023-11-07T04:21:47.456096",
     "status": "completed"
    },
    "tags": []
   },
   "outputs": [],
   "source": [
    "# Directory where the checkpoints will be saved\n",
    "checkpoint_dir = './training_checkpoints'\n",
    "# Name of the checkpoint files\n",
    "checkpoint_prefix = os.path.join(checkpoint_dir, \"ckpt_{epoch}\")\n",
    "\n",
    "checkpoint_callback = tf.keras.callbacks.ModelCheckpoint(\n",
    "    filepath=checkpoint_prefix,\n",
    "    save_weights_only=True)"
   ]
  },
  {
   "cell_type": "markdown",
   "id": "f71373f2",
   "metadata": {
    "papermill": {
     "duration": 0.015717,
     "end_time": "2023-11-07T04:21:47.511018",
     "exception": false,
     "start_time": "2023-11-07T04:21:47.495301",
     "status": "completed"
    },
    "tags": []
   },
   "source": [
    "**Proses Training**"
   ]
  },
  {
   "cell_type": "code",
   "execution_count": 37,
   "id": "8c54384e",
   "metadata": {
    "execution": {
     "iopub.execute_input": "2023-11-07T04:21:47.544344Z",
     "iopub.status.busy": "2023-11-07T04:21:47.544018Z",
     "iopub.status.idle": "2023-11-07T04:21:47.548136Z",
     "shell.execute_reply": "2023-11-07T04:21:47.547178Z"
    },
    "papermill": {
     "duration": 0.023357,
     "end_time": "2023-11-07T04:21:47.550153",
     "exception": false,
     "start_time": "2023-11-07T04:21:47.526796",
     "status": "completed"
    },
    "tags": []
   },
   "outputs": [],
   "source": [
    "EPOCHS = 20"
   ]
  },
  {
   "cell_type": "code",
   "execution_count": 38,
   "id": "f602ad67",
   "metadata": {
    "execution": {
     "iopub.execute_input": "2023-11-07T04:21:47.583200Z",
     "iopub.status.busy": "2023-11-07T04:21:47.582885Z",
     "iopub.status.idle": "2023-11-07T04:24:37.038942Z",
     "shell.execute_reply": "2023-11-07T04:24:37.037916Z"
    },
    "papermill": {
     "duration": 169.474962,
     "end_time": "2023-11-07T04:24:37.041077",
     "exception": false,
     "start_time": "2023-11-07T04:21:47.566115",
     "status": "completed"
    },
    "tags": []
   },
   "outputs": [
    {
     "name": "stdout",
     "output_type": "stream",
     "text": [
      "Epoch 1/20\n",
      "172/172 [==============================] - 12s 44ms/step - loss: 2.7232\n",
      "Epoch 2/20\n",
      "172/172 [==============================] - 8s 38ms/step - loss: 1.9854\n",
      "Epoch 3/20\n",
      "172/172 [==============================] - 8s 37ms/step - loss: 1.7067\n",
      "Epoch 4/20\n",
      "172/172 [==============================] - 8s 38ms/step - loss: 1.5467\n",
      "Epoch 5/20\n",
      "172/172 [==============================] - 8s 37ms/step - loss: 1.4487\n",
      "Epoch 6/20\n",
      "172/172 [==============================] - 8s 37ms/step - loss: 1.3806\n",
      "Epoch 7/20\n",
      "172/172 [==============================] - 8s 37ms/step - loss: 1.3280\n",
      "Epoch 8/20\n",
      "172/172 [==============================] - 8s 37ms/step - loss: 1.2833\n",
      "Epoch 9/20\n",
      "172/172 [==============================] - 8s 37ms/step - loss: 1.2426\n",
      "Epoch 10/20\n",
      "172/172 [==============================] - 8s 37ms/step - loss: 1.2027\n",
      "Epoch 11/20\n",
      "172/172 [==============================] - 8s 37ms/step - loss: 1.1637\n",
      "Epoch 12/20\n",
      "172/172 [==============================] - 8s 37ms/step - loss: 1.1223\n",
      "Epoch 13/20\n",
      "172/172 [==============================] - 8s 37ms/step - loss: 1.0793\n",
      "Epoch 14/20\n",
      "172/172 [==============================] - 8s 37ms/step - loss: 1.0338\n",
      "Epoch 15/20\n",
      "172/172 [==============================] - 8s 37ms/step - loss: 0.9870\n",
      "Epoch 16/20\n",
      "172/172 [==============================] - 8s 37ms/step - loss: 0.9369\n",
      "Epoch 17/20\n",
      "172/172 [==============================] - 8s 37ms/step - loss: 0.8849\n",
      "Epoch 18/20\n",
      "172/172 [==============================] - 8s 37ms/step - loss: 0.8333\n",
      "Epoch 19/20\n",
      "172/172 [==============================] - 8s 37ms/step - loss: 0.7844\n",
      "Epoch 20/20\n",
      "172/172 [==============================] - 8s 37ms/step - loss: 0.7351\n"
     ]
    }
   ],
   "source": [
    "history = model.fit(dataset, epochs=EPOCHS, callbacks=[checkpoint_callback])"
   ]
  },
  {
   "cell_type": "markdown",
   "id": "b03fc014",
   "metadata": {
    "papermill": {
     "duration": 0.144287,
     "end_time": "2023-11-07T04:24:37.335508",
     "exception": false,
     "start_time": "2023-11-07T04:24:37.191221",
     "status": "completed"
    },
    "tags": []
   },
   "source": [
    "## Generate Teks"
   ]
  },
  {
   "cell_type": "code",
   "execution_count": 39,
   "id": "0876a57a",
   "metadata": {
    "execution": {
     "iopub.execute_input": "2023-11-07T04:24:37.628647Z",
     "iopub.status.busy": "2023-11-07T04:24:37.627849Z",
     "iopub.status.idle": "2023-11-07T04:24:37.638737Z",
     "shell.execute_reply": "2023-11-07T04:24:37.637907Z"
    },
    "papermill": {
     "duration": 0.159545,
     "end_time": "2023-11-07T04:24:37.640694",
     "exception": false,
     "start_time": "2023-11-07T04:24:37.481149",
     "status": "completed"
    },
    "tags": []
   },
   "outputs": [],
   "source": [
    "class OneStep(tf.keras.Model):\n",
    "  def __init__(self, model, chars_from_ids, ids_from_chars, temperature=1.0):\n",
    "    super().__init__()\n",
    "    self.temperature =temperature\n",
    "    self.model = model\n",
    "    self.chars_from_ids = chars_from_ids\n",
    "    self.ids_from_chars = ids_from_chars\n",
    "\n",
    "    # Create a mask to prevent \"[UNK]\" from being generated.\n",
    "    skip_ids = self.ids_from_chars(['[UNK]'])[:, None]\n",
    "    sparse_mask = tf.SparseTensor(\n",
    "        # Put a -inf at each bad index.\n",
    "        values=[-float('inf')]*len(skip_ids),\n",
    "        indices=skip_ids,\n",
    "        # Match the shape to the vocabulary\n",
    "        dense_shape=[len(ids_from_chars.get_vocabulary())])\n",
    "    self.prediction_mask = tf.sparse.to_dense(sparse_mask)\n",
    "\n",
    "  @tf.function\n",
    "  def generate_one_step(self, inputs, states=None):\n",
    "    # Convert strings to token IDs.\n",
    "    input_chars = tf.strings.unicode_split(inputs, 'UTF-8')\n",
    "    input_ids = self.ids_from_chars(input_chars).to_tensor()\n",
    "\n",
    "    # Run the model.\n",
    "    # predicted_logits.shape is [batch, char, next_char_logits]\n",
    "    predicted_logits, states = self.model(inputs=input_ids, states=states, return_state=True)\n",
    "    # Only use the last prediction.\n",
    "    predicted_logits = predicted_logits[:, -1, :]\n",
    "    predicted_logits = predicted_logits/self.temperature\n",
    "    # Apply the prediction mask: prevent \"[UNK]\" from being generated.\n",
    "    predicted_logits = predicted_logits + self.prediction_mask\n",
    "\n",
    "    # Sample the output logits to generate token IDs.\n",
    "    predicted_ids = tf.random.categorical(predicted_logits, num_samples=1)\n",
    "    predicted_ids = tf.squeeze(predicted_ids, axis=-1)\n",
    "\n",
    "    # Convert from token ids to characters\n",
    "    predicted_chars = self.chars_from_ids(predicted_ids)\n",
    "\n",
    "    # Return the characters and model state.\n",
    "    return predicted_chars, states"
   ]
  },
  {
   "cell_type": "code",
   "execution_count": 40,
   "id": "0dc69709",
   "metadata": {
    "execution": {
     "iopub.execute_input": "2023-11-07T04:24:37.932656Z",
     "iopub.status.busy": "2023-11-07T04:24:37.932299Z",
     "iopub.status.idle": "2023-11-07T04:24:37.951718Z",
     "shell.execute_reply": "2023-11-07T04:24:37.950969Z"
    },
    "papermill": {
     "duration": 0.167848,
     "end_time": "2023-11-07T04:24:37.953732",
     "exception": false,
     "start_time": "2023-11-07T04:24:37.785884",
     "status": "completed"
    },
    "tags": []
   },
   "outputs": [],
   "source": [
    "one_step_model = OneStep(model, chars_from_ids, ids_from_chars)"
   ]
  },
  {
   "cell_type": "code",
   "execution_count": 41,
   "id": "9ccfaeb2",
   "metadata": {
    "execution": {
     "iopub.execute_input": "2023-11-07T04:24:38.244706Z",
     "iopub.status.busy": "2023-11-07T04:24:38.244356Z",
     "iopub.status.idle": "2023-11-07T04:24:41.227427Z",
     "shell.execute_reply": "2023-11-07T04:24:41.226342Z"
    },
    "papermill": {
     "duration": 3.131486,
     "end_time": "2023-11-07T04:24:41.229947",
     "exception": false,
     "start_time": "2023-11-07T04:24:38.098461",
     "status": "completed"
    },
    "tags": []
   },
   "outputs": [
    {
     "name": "stdout",
     "output_type": "stream",
     "text": [
      "ROMEO:\n",
      "Plain and this, bid give's and her father?\n",
      "\n",
      "PETRUCHIO:\n",
      "Is constant your tongue?\n",
      "\n",
      "Messenger:\n",
      "Such proclamation hath no soldiers much appointed,\n",
      "Seeming and maintain,\n",
      "Men after manifest of all death is sanct,\n",
      "To wring up thy father, though not you told\n",
      "me see, even next I have served govern'd Aufidius,\n",
      "We'll buy for another.'\n",
      "\n",
      "MERCUTIO:\n",
      "Have not the chamely know our reasons?\n",
      "\n",
      "COMINIUS:\n",
      "Peace! the king hath man is chedged from\n",
      "the dearer than you have few'd of mighty may, may be so blead,\n",
      "Whither good down to your friend, I would not have,\n",
      "The villain was a grave upan tents,\n",
      "And all the vessels of the king hath come to great a word;\n",
      "Nor shall I talk of arts, or misely she\n",
      "I see your loyal speech, I have reign on him,\n",
      "For I had so much false as efter.\n",
      "\n",
      "ESCALUS:\n",
      "Well, I must go come; But those embty Isabello,\n",
      "That I have sent a look worth Frozener,\n",
      "With tender planes, of what's of reasons are good\n",
      "for that I am sure displanced: they foolish aged,\n",
      "Cunding the citizen: I have fond,\n",
      "Whose lan \n",
      "\n",
      "________________________________________________________________________________\n",
      "\n",
      "Run time: 2.974745988845825\n"
     ]
    }
   ],
   "source": [
    "start = time.time()\n",
    "states = None\n",
    "next_char = tf.constant(['ROMEO:'])\n",
    "result = [next_char]\n",
    "\n",
    "for n in range(1000):\n",
    "  next_char, states = one_step_model.generate_one_step(next_char, states=states)\n",
    "  result.append(next_char)\n",
    "\n",
    "result = tf.strings.join(result)\n",
    "end = time.time()\n",
    "print(result[0].numpy().decode('utf-8'), '\\n\\n' + '_'*80)\n",
    "print('\\nRun time:', end - start)"
   ]
  },
  {
   "cell_type": "code",
   "execution_count": 42,
   "id": "7723adec",
   "metadata": {
    "execution": {
     "iopub.execute_input": "2023-11-07T04:24:41.523921Z",
     "iopub.status.busy": "2023-11-07T04:24:41.523547Z",
     "iopub.status.idle": "2023-11-07T04:24:44.653963Z",
     "shell.execute_reply": "2023-11-07T04:24:44.653028Z"
    },
    "papermill": {
     "duration": 3.280115,
     "end_time": "2023-11-07T04:24:44.656883",
     "exception": false,
     "start_time": "2023-11-07T04:24:41.376768",
     "status": "completed"
    },
    "tags": []
   },
   "outputs": [
    {
     "name": "stdout",
     "output_type": "stream",
     "text": [
      "tf.Tensor(\n",
      "[b\"ROMEO:\\nObey your grace! you noted suit?\\n\\nFirst Citizen:\\nOn hast stayled--will be so. Hast thou, Hortensio?\\n\\nNORTHUM:\\nThen pardon me, for shame. Pardon me, father.\\n\\nWESTMORELAND:\\nI go along, I'll give my heart.\\n\\nPOLIXENES:\\nThat's my true marriage?\\n\\nCAMILLO:\\nHe is.\\n\\nROMEO:\\nWhat should I dare belong with this,--his name,\\nChange this supposed pillory. As I can,\\nBut he shall satisfy me soond to us!\\n\\nGLOUCESTER:\\nEven home, my lord,--\\n\\nKING RICHARD III:\\nThat is not past all prayer: so look thee is this it?\\n\\nCLIFFORD:\\nHe would not stay. then,--\\n\\nABHORSON:\\nHe dies by white rushes on a subject, that you have,\\nMy ways is fairly to somewhat into our note.\\nHere comes the powerful black o' the court.\\nHarsh he were slave, do greet me from the evil;\\nThat ne'er shall smile at Tybalt? Why call you against the time?\\n\\nJULIET:\\nGood prince, hence! I am must be seven executioner,\\nAnd you before 'tis but for lay and weep:\\nScarce happy Marcius, other seen,\\nWhich now the tribunes of do Isabel, to say\\nhe would not sta\"\n",
      " b\"ROMEO:\\nThou hast neither have a filling of a father's house\\nGrey death. He shall not reat us with the which,\\nThat in a man-may would have silly by my good\\nTongerous ask down kin; 'tis my most precious Fren\\nIs to the troubler of the king.\\n\\nFLORIZEL:\\nWe must walk in!\\nFetch us their sovereign places himself\\nfortune seems, her face on this fast-fortune on\\nmy ears! What do you never from me?\\nWhen you are come to meet them voice; 'tis a shrip\\nIn mine opinion, one mis-shept prove with\\nconsidered.\\n\\nMENENIUS:\\nIf it be so,\\nLet much of Marcius, they say, such sorrow assay,\\nAnd gird, the hand which kisses to heaven,\\nIf nothing hath been great Helpory, Say, my gracio, thou hast caught\\nTo hear Cominius.\\n\\nCORIOLANUS:\\nBe call'd England, he says she:\\n'Tis babey, sir, and thus; see, twenty senators,\\nThat come as receims the caparison a\\nday should be colour it in Padua; and prevent the\\nHousest prove assurance, as it is but bonin.\\n\\nPETRUCHIO:\\nWhy, thy skyiciar, what way can certain there?\\nEven so shrink it as a\"\n",
      " b\"ROMEO:\\nI have not reason with a look upon more\\nslaughter, I may surnall not at commanded\\nThat in schools boldly serve more flatterers court\\nWith you unknown to this way to France,\\nAnd the drunken sleep unto myself,\\nThat which you look upon thy death.\\n\\nISABELLA:\\nPlantagenet, could not at your appetite\\nWill say some forfeit of the parliament-horsement.\\nIf your maidenheads grown majesty God from so sudden;\\nFor God one Richard dark nights; I think of it\\nnot.\\n\\nPETRUCHIO:\\n\\nProvost:\\n\\nISABELLA:\\nThen I'll be his thinking.\\n\\nPETRUCHIO:\\nNay, now I wofe; why, there let up her aught!\\n\\nISABELLA:\\nNever be, boy.\\n\\nClown:\\nLick in those friends are wollow on a cause, she king,\\nWailing our majesty, their blood is mine,\\nWho, I presume, he should speak, fellows, or very death,\\nIn thy heav up and policy, set it not before\\nMay give us our report than this of France;\\nAnd gave him worthy and usurp from weath\\nHath stamp'd upon thy formurable. Come,\\nIf thou yet revail, a forty hour,\\nAnd many great dreams to my swift wra\"\n",
      " b\"ROMEO:\\nI pray the gods she must be censured,\\nMake a scher, after a hell of women's free\\nAnd made the world--\\n\\nCAMILLO:\\nThis is the young; thyself!\\nWe are slanueted as a true join;--what, shall I jest\\nI' the rather persuaded,\\nPuts with your faithful strength, which I for France\\nit force, poor leave, by the powerfor' that to long\\nTo Satisfy; but my fair robe's uncle,\\nHe wall, as heavenly have often\\nparticular.\\n\\nCORIOLANUS:\\nMy lady shall be so very means but,\\nbut yet you subject serve my thanks to speak.\\nBut 'tis not so.\\n\\nMENENIUS:\\nThis is done, and help you till you on\\nyour writing.\\n\\nDUKE OF AUMERLE:\\nI nave heart's sweet infective 'twee's veil.\\n\\nKING EDWARD IV:\\nSweet rasman, what a curse shall make some cheques\\nOf dracherio?\\n\\nProvost:\\nPardon me, good good sweet saint, for from his meed\\nIn companion he; and my service down\\nDo, what is poor and policy strike\\nThan the dear innocent suit with quickly.\\n\\nISABELLA:\\nSee, you do meet me still with me; yet your gentlemen,\\nThat obedient to rejoice than d\"\n",
      " b\"ROMEO:\\nPrithee, pray, give me a cap to year.\\nI have a jot of thine own proud Petruchio's wife,\\nIf you'll not previous Mowbray's guilty death,\\nI never did very grow by me; next,\\nThough less of his death outwain misley my pack\\nFrom the world--for she whom I choke you\\nOf his mercy hath got that new from her,\\nShall cive an enemy to too.\\nWhat is yecrothed gallate how he has believed?\\n\\nLORD WILLOUGHBY:\\nAnd many an unkindness are numberlaps worn,\\nAnd meet him of his apparent.\\n\\nPETRUCHIO:\\nI cannot speak!\\n\\nMENENIUS:\\nFor that insquends' rabest more beauteous little,\\nIf women once more talk hold, usurp his\\ndaughter,--night lay forsworn it born, but knee\\nThat you can cry the place, I am he springs, for\\nI'll not speak of hearts; and my good lord, with lovers' can:\\nDivined, court, my harvius, made thee from south,\\nEccapabled of them. I\\nwith nothing. I am resolved for this all-a\\npleasure; I think, or pity me, Ludiace as\\nyou give me with your battle; then west blewing-halance\\nI' the young prince will be rev\"], shape=(5,), dtype=string) \n",
      "\n",
      "________________________________________________________________________________\n",
      "\n",
      "Run time: 3.1236350536346436\n"
     ]
    }
   ],
   "source": [
    "start = time.time()\n",
    "states = None\n",
    "next_char = tf.constant(['ROMEO:', 'ROMEO:', 'ROMEO:', 'ROMEO:', 'ROMEO:'])\n",
    "result = [next_char]\n",
    "\n",
    "for n in range(1000):\n",
    "  next_char, states = one_step_model.generate_one_step(next_char, states=states)\n",
    "  result.append(next_char)\n",
    "\n",
    "result = tf.strings.join(result)\n",
    "end = time.time()\n",
    "print(result, '\\n\\n' + '_'*80)\n",
    "print('\\nRun time:', end - start)"
   ]
  },
  {
   "cell_type": "markdown",
   "id": "05431197",
   "metadata": {
    "papermill": {
     "duration": 0.145695,
     "end_time": "2023-11-07T04:24:44.952721",
     "exception": false,
     "start_time": "2023-11-07T04:24:44.807026",
     "status": "completed"
    },
    "tags": []
   },
   "source": [
    "## Ekspor Moel Generator"
   ]
  },
  {
   "cell_type": "code",
   "execution_count": 43,
   "id": "6cee7254",
   "metadata": {
    "execution": {
     "iopub.execute_input": "2023-11-07T04:24:45.253697Z",
     "iopub.status.busy": "2023-11-07T04:24:45.253331Z",
     "iopub.status.idle": "2023-11-07T04:24:51.862640Z",
     "shell.execute_reply": "2023-11-07T04:24:51.861818Z"
    },
    "papermill": {
     "duration": 6.766106,
     "end_time": "2023-11-07T04:24:51.865044",
     "exception": false,
     "start_time": "2023-11-07T04:24:45.098938",
     "status": "completed"
    },
    "tags": []
   },
   "outputs": [],
   "source": [
    "tf.saved_model.save(one_step_model, 'one_step')\n",
    "one_step_reloaded = tf.saved_model.load('one_step')"
   ]
  },
  {
   "cell_type": "code",
   "execution_count": 44,
   "id": "b8b32506",
   "metadata": {
    "execution": {
     "iopub.execute_input": "2023-11-07T04:24:52.176370Z",
     "iopub.status.busy": "2023-11-07T04:24:52.175657Z",
     "iopub.status.idle": "2023-11-07T04:24:52.679618Z",
     "shell.execute_reply": "2023-11-07T04:24:52.678393Z"
    },
    "papermill": {
     "duration": 0.667133,
     "end_time": "2023-11-07T04:24:52.681648",
     "exception": false,
     "start_time": "2023-11-07T04:24:52.014515",
     "status": "completed"
    },
    "tags": []
   },
   "outputs": [
    {
     "name": "stdout",
     "output_type": "stream",
     "text": [
      "ROMEO:\n",
      "Not will, ignoin! and, when men are young wife?\n",
      "The son of death touch'd with claim, which eld\n",
      "We u\n"
     ]
    }
   ],
   "source": [
    "states = None\n",
    "next_char = tf.constant(['ROMEO:'])\n",
    "result = [next_char]\n",
    "\n",
    "for n in range(100):\n",
    "  next_char, states = one_step_reloaded.generate_one_step(next_char, states=states)\n",
    "  result.append(next_char)\n",
    "\n",
    "print(tf.strings.join(result)[0].numpy().decode(\"utf-8\"))"
   ]
  }
 ],
 "metadata": {
  "kernelspec": {
   "display_name": "Python 3",
   "language": "python",
   "name": "python3"
  },
  "language_info": {
   "codemirror_mode": {
    "name": "ipython",
    "version": 3
   },
   "file_extension": ".py",
   "mimetype": "text/x-python",
   "name": "python",
   "nbconvert_exporter": "python",
   "pygments_lexer": "ipython3",
   "version": "3.10.12"
  },
  "papermill": {
   "default_parameters": {},
   "duration": 211.653146,
   "end_time": "2023-11-07T04:24:56.456283",
   "environment_variables": {},
   "exception": null,
   "input_path": "__notebook__.ipynb",
   "output_path": "__notebook__.ipynb",
   "parameters": {},
   "start_time": "2023-11-07T04:21:24.803137",
   "version": "2.4.0"
  }
 },
 "nbformat": 4,
 "nbformat_minor": 5
}
