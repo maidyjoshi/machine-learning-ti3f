{
  "cells": [
    {
      "cell_type": "markdown",
      "metadata": {},
      "source": [
        "# Nama      : Brian Mohamad Safiudin\n",
        "# NIM       : 2141720133\n",
        "# Kelas     : TI - 3F"
      ]
    },
    {
      "cell_type": "markdown",
      "metadata": {},
      "source": [
        "---\n",
        "# **Tugas Praktikum Perceptron dan ANN - Pertemuan 9**\n",
        "---\n",
        "##### Lakukan klasifikasi pada data MNIST dengan menggunakan model ANN\n",
        "##### Anda diperbolehkan melakukan eksplorasi terhadap,\n",
        "- Metode pra pengolahan\n",
        "- Pemilihan fitur\n",
        "- Arsitektur ANN\n",
        "- Fungsi Aktiviasi\n",
        "##### ANN diimplementasikan dengan menggunakan tensorflow.\n",
        "##### DIKERJAKAN SECARA BERKELOMPOK\n",
        "##### JELASKAN HASIL YANG ANDA DAPATKAN,\n",
        "- AKURASI\n",
        "- CONFUSION MATRIX\n",
        "- KONFIGURASI MODEL --> MULAI DARI PRA PENGOLAHAN SAMPAI ARSITEKTUR ANN"
      ]
    },
    {
      "cell_type": "markdown",
      "metadata": {},
      "source": [
        "---\n",
        "# **Import Library**\n",
        "---"
      ]
    },
    {
      "cell_type": "code",
      "execution_count": 1,
      "metadata": {
        "id": "l-AKaJz5-Eac"
      },
      "outputs": [],
      "source": [
        "import tensorflow as tf\n",
        "from tensorflow import keras\n",
        "from tensorflow.keras import layers\n",
        "import matplotlib.pyplot as plt"
      ]
    },
    {
      "cell_type": "markdown",
      "metadata": {},
      "source": [
        "---\n",
        "# **Muat data MNIST**\n",
        "---"
      ]
    },
    {
      "cell_type": "code",
      "execution_count": 2,
      "metadata": {},
      "outputs": [
        {
          "name": "stdout",
          "output_type": "stream",
          "text": [
            "Downloading data from https://storage.googleapis.com/tensorflow/tf-keras-datasets/mnist.npz\n",
            "11490434/11490434 [==============================] - 54s 5us/step\n"
          ]
        }
      ],
      "source": [
        "mnist = keras.datasets.mnist\n",
        "(train_images, train_labels), (test_images, test_labels) = mnist.load_data()"
      ]
    },
    {
      "cell_type": "markdown",
      "metadata": {},
      "source": [
        "---\n",
        "# **Pra Pengolahan Data**\n",
        "---"
      ]
    },
    {
      "cell_type": "code",
      "execution_count": 3,
      "metadata": {},
      "outputs": [],
      "source": [
        "train_images = train_images.reshape(-1, 28*28)\n",
        "test_images = test_images.reshape(-1, 28*28)"
      ]
    },
    {
      "cell_type": "code",
      "execution_count": 4,
      "metadata": {},
      "outputs": [],
      "source": [
        "train_images = train_images / 255.0\n",
        "test_images = test_images / 255.0"
      ]
    },
    {
      "cell_type": "markdown",
      "metadata": {},
      "source": [
        "---\n",
        "# **Arsitektur ANN**\n",
        "---"
      ]
    },
    {
      "cell_type": "code",
      "execution_count": 5,
      "metadata": {},
      "outputs": [],
      "source": [
        "model = keras.Sequential([\n",
        "    layers.Dense(128, activation='relu', input_shape=(784,)),\n",
        "    layers.Dense(64, activation='relu'),\n",
        "    layers.Dense(10, activation='softmax')\n",
        "])"
      ]
    },
    {
      "cell_type": "markdown",
      "metadata": {},
      "source": [
        "---\n",
        "# **Kompilasi Model**\n",
        "---"
      ]
    },
    {
      "cell_type": "code",
      "execution_count": 6,
      "metadata": {},
      "outputs": [],
      "source": [
        "model.compile(optimizer='adam',\n",
        "              loss='sparse_categorical_crossentropy',\n",
        "              metrics=['accuracy'])"
      ]
    },
    {
      "cell_type": "markdown",
      "metadata": {},
      "source": [
        "---\n",
        "# **Pelatihan Model**\n",
        "---"
      ]
    },
    {
      "cell_type": "code",
      "execution_count": 7,
      "metadata": {},
      "outputs": [
        {
          "name": "stdout",
          "output_type": "stream",
          "text": [
            "Epoch 1/10\n",
            "1500/1500 [==============================] - 7s 4ms/step - loss: 0.2682 - accuracy: 0.9225 - val_loss: 0.1434 - val_accuracy: 0.9586\n",
            "Epoch 2/10\n",
            "1500/1500 [==============================] - 6s 4ms/step - loss: 0.1137 - accuracy: 0.9660 - val_loss: 0.1158 - val_accuracy: 0.9651\n",
            "Epoch 3/10\n",
            "1500/1500 [==============================] - 6s 4ms/step - loss: 0.0800 - accuracy: 0.9754 - val_loss: 0.0975 - val_accuracy: 0.9696\n",
            "Epoch 4/10\n",
            "1500/1500 [==============================] - 6s 4ms/step - loss: 0.0588 - accuracy: 0.9817 - val_loss: 0.0953 - val_accuracy: 0.9699\n",
            "Epoch 5/10\n",
            "1500/1500 [==============================] - 6s 4ms/step - loss: 0.0459 - accuracy: 0.9856 - val_loss: 0.1036 - val_accuracy: 0.9703\n",
            "Epoch 6/10\n",
            "1500/1500 [==============================] - 6s 4ms/step - loss: 0.0377 - accuracy: 0.9876 - val_loss: 0.0897 - val_accuracy: 0.9754\n",
            "Epoch 7/10\n",
            "1500/1500 [==============================] - 6s 4ms/step - loss: 0.0309 - accuracy: 0.9893 - val_loss: 0.1004 - val_accuracy: 0.9732\n",
            "Epoch 8/10\n",
            "1500/1500 [==============================] - 6s 4ms/step - loss: 0.0238 - accuracy: 0.9921 - val_loss: 0.1032 - val_accuracy: 0.9757\n",
            "Epoch 9/10\n",
            "1500/1500 [==============================] - 6s 4ms/step - loss: 0.0215 - accuracy: 0.9931 - val_loss: 0.1058 - val_accuracy: 0.9735\n",
            "Epoch 10/10\n",
            "1500/1500 [==============================] - 6s 4ms/step - loss: 0.0216 - accuracy: 0.9926 - val_loss: 0.1132 - val_accuracy: 0.9721\n"
          ]
        },
        {
          "data": {
            "text/plain": [
              "<keras.src.callbacks.History at 0x1ba1ddf9290>"
            ]
          },
          "execution_count": 7,
          "metadata": {},
          "output_type": "execute_result"
        }
      ],
      "source": [
        "model.fit(train_images, train_labels, epochs=10, validation_split=0.2)"
      ]
    },
    {
      "cell_type": "markdown",
      "metadata": {},
      "source": [
        "---\n",
        "# **Evaluasi Model**\n",
        "---"
      ]
    },
    {
      "cell_type": "code",
      "execution_count": 8,
      "metadata": {},
      "outputs": [
        {
          "name": "stdout",
          "output_type": "stream",
          "text": [
            "313/313 [==============================] - 1s 2ms/step - loss: 0.0925 - accuracy: 0.9756\n",
            "Test accuracy: 0.9756\n"
          ]
        }
      ],
      "source": [
        "test_loss, test_accuracy = model.evaluate(test_images, test_labels)\n",
        "print(\"Test accuracy: {:.4f}\".format(test_accuracy))"
      ]
    },
    {
      "cell_type": "markdown",
      "metadata": {},
      "source": [
        "---\n",
        "# **Confusion Matrix**\n",
        "---"
      ]
    },
    {
      "cell_type": "code",
      "execution_count": 9,
      "metadata": {},
      "outputs": [
        {
          "name": "stdout",
          "output_type": "stream",
          "text": [
            "313/313 [==============================] - 1s 2ms/step\n",
            "[[ 971    0    4    1    0    1    1    0    1    1]\n",
            " [   0 1130    2    1    0    0    2    0    0    0]\n",
            " [   2    2 1016    2    3    0    1    3    3    0]\n",
            " [   1    0    5  992    0    3    0    5    4    0]\n",
            " [   2    0    4    0  954    1    6    5    1    9]\n",
            " [   3    0    0   11    0  870    4    1    2    1]\n",
            " [   5    2    0    1    3    3  943    0    1    0]\n",
            " [   2    5    9    5    0    0    1  995    4    7]\n",
            " [   3    1   10   13    2    5    4    4  930    2]\n",
            " [   2    5    1   15   13    7    1    6    4  955]]\n"
          ]
        }
      ],
      "source": [
        "from sklearn.metrics import confusion_matrix\n",
        "\n",
        "predicted_labels = model.predict(test_images)\n",
        "predicted_labels = [tf.argmax(label).numpy() for label in predicted_labels]\n",
        "\n",
        "confusion = confusion_matrix(test_labels, predicted_labels)\n",
        "print(confusion)"
      ]
    },
    {
      "cell_type": "markdown",
      "metadata": {},
      "source": [
        "---\n",
        "# **Hasil Yang Saya Dapatkan**\n",
        "---\n",
        "- Confusion Matrix\n",
        "```\n",
        "313/313 [==============================] - 1s 2ms/step - loss: 0.0925 - accuracy: 0.9756\n",
        "```\n",
        "- Akurasi model pada data pengujian adalah sekitar 97.56%.\n",
        "```\n",
        "313/313 [==============================] - 1s 2ms/step\n",
        "[[ 971    0    4    1    0    1    1    0    1    1]\n",
        " [   0 1130    2    1    0    0    2    0    0    0]\n",
        " [   2    2 1016    2    3    0    1    3    3    0]\n",
        " [   1    0    5  992    0    3    0    5    4    0]\n",
        " [   2    0    4    0  954    1    6    5    1    9]\n",
        " [   3    0    0   11    0  870    4    1    2    1]\n",
        " [   5    2    0    1    3    3  943    0    1    0]\n",
        " [   2    5    9    5    0    0    1  995    4    7]\n",
        " [   3    1   10   13    2    5    4    4  930    2]\n",
        " [   2    5    1   15   13    7    1    6    4  955]]\n",
        "```\n",
        "##### Konfigurasi model\n",
        "- Pra Pengolahan Data: Citra-citra dari dataset MNIST dilatih setelah diubah menjadi vektor 1D dan dinormalisasi agar berada dalam rentang 0 hingga 1.  \n",
        "\n",
        "Arsitektur ANN:\n",
        "  - Hidden layer pertama memiliki 128 unit dengan aktivasi ReLU.\n",
        "  - Hidden layer kedua memiliki 64 unit dengan aktivasi ReLU.\n",
        "  - Output layer memiliki 10 unit (sesuai dengan jumlah kelas digit) dengan aktivasi softmax.  \n",
        "  - Model menggunakan arsitektur ANN dengan tiga lapisan, yaitu satu lapisan input, dua lapisan tersembunyi, dan satu lapisan output.\n",
        "  - Input layer memiliki 784 unit (28x28 piksel) dan fungsi aktivasi ReLU.\n",
        "\n",
        "##### Pelatihan Model: \n",
        "- Hasil: Model mencapai akurasi sekitar 97.56% pada data pengujian, yang menunjukkan kemampuan yang sangat baik dalam mengklasifikasikan digit-digit MNIST.\n",
        "- Model dilatih selama 10 epoch dengan menggunakan optimizer 'adam', loss function 'sparse_categorical_crossentropy' (karena ini adalah masalah klasifikasi multikelas), dan metrik akurasi.  "
      ]
    }
  ],
  "metadata": {
    "colab": {
      "authorship_tag": "ABX9TyOM7KZtXhaq2zCuNYpGLVkP",
      "include_colab_link": true,
      "provenance": []
    },
    "kernelspec": {
      "display_name": "Python 3",
      "name": "python3"
    },
    "language_info": {
      "codemirror_mode": {
        "name": "ipython",
        "version": 3
      },
      "file_extension": ".py",
      "mimetype": "text/x-python",
      "name": "python",
      "nbconvert_exporter": "python",
      "pygments_lexer": "ipython3",
      "version": "3.11.4"
    }
  },
  "nbformat": 4,
  "nbformat_minor": 0
}
