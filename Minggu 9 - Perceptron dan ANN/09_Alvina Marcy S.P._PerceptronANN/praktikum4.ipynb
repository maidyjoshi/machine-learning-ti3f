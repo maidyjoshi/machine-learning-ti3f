{
  "nbformat": 4,
  "nbformat_minor": 0,
  "metadata": {
    "colab": {
      "provenance": []
    },
    "kernelspec": {
      "name": "python3",
      "display_name": "Python 3"
    },
    "language_info": {
      "name": "python"
    }
  },
  "cells": [
    {
      "cell_type": "markdown",
      "source": [
        "**Deskripsi**\n",
        "\n",
        "Pada praktikum kali ini, Anda diminta untuk membuat model ANN untuk mengklasifikasi potensi seorang customer akan meninggalkan perusahaan Anda atau tidak. Istirlah populer dari fenomena ini disebut sebagai 'churn'. Tingkat churn yang tinggi (chrun rate) akan berdampak tidak baik bagi perusahaan.\n",
        "\n",
        "### Langkah 1 - Import Library"
      ],
      "metadata": {
        "id": "eP62-Rlvr3ll"
      }
    },
    {
      "cell_type": "code",
      "execution_count": 1,
      "metadata": {
        "id": "XjjU1JDErLdK"
      },
      "outputs": [],
      "source": [
        "import numpy as np  # Mengimpor modul 'numpy' dan memberinya alias 'np'. NumPy digunakan untuk komputasi numerik.\n",
        "import pandas as pd  # Mengimpor modul 'pandas' dan memberinya alias 'pd'. Pandas digunakan untuk analisis dan manipulasi data.\n",
        "import tensorflow as tf  # Mengimpor modul 'tensorflow'. TensorFlow adalah pustaka yang digunakan untuk pengembangan dan pelatihan model jaringan saraf tiruan."
      ]
    },
    {
      "cell_type": "markdown",
      "source": [
        "### langkah 2 - Load Data\n"
      ],
      "metadata": {
        "id": "voVRB9B7sWEu"
      }
    },
    {
      "cell_type": "code",
      "source": [
        "# connect ke drive\n",
        "from google.colab import drive\n",
        "drive.mount('/content/drive')"
      ],
      "metadata": {
        "colab": {
          "base_uri": "https://localhost:8080/"
        },
        "id": "PGDJ3_eZsH0A",
        "outputId": "33019330-3a5a-4df1-c405-913efe69d5c5"
      },
      "execution_count": 2,
      "outputs": [
        {
          "output_type": "stream",
          "name": "stdout",
          "text": [
            "Drive already mounted at /content/drive; to attempt to forcibly remount, call drive.mount(\"/content/drive\", force_remount=True).\n"
          ]
        }
      ]
    },
    {
      "cell_type": "code",
      "source": [
        "# Membaca dataset dari file CSV dan menyimpannya ke dalam variabel 'dataset'.\n",
        "dataset = pd.read_csv('/content/drive/MyDrive/ML/Churn_Modelling.csv')\n",
        "\n",
        "X = dataset.iloc[:, 3:-1].values  # Mengekstrak fitur (X) dari dataset.\n",
        "y = dataset.iloc[:, -1].values  # Mengekstrak label kelas (y) dari dataset.\n",
        "\n",
        "# tampilkan\n",
        "print(X)"
      ],
      "metadata": {
        "colab": {
          "base_uri": "https://localhost:8080/"
        },
        "id": "XO9CRsGBsaYU",
        "outputId": "7f7a44c9-17f7-4edc-f31a-17c2cbcda567"
      },
      "execution_count": 3,
      "outputs": [
        {
          "output_type": "stream",
          "name": "stdout",
          "text": [
            "[[619 'France' 'Female' ... 1 1 101348.88]\n",
            " [608 'Spain' 'Female' ... 0 1 112542.58]\n",
            " [502 'France' 'Female' ... 1 0 113931.57]\n",
            " ...\n",
            " [709 'France' 'Female' ... 0 1 42085.58]\n",
            " [772 'Germany' 'Male' ... 1 0 92888.52]\n",
            " [792 'France' 'Female' ... 1 0 38190.78]]\n"
          ]
        }
      ]
    },
    {
      "cell_type": "markdown",
      "source": [
        "### langkah 3 - Encoding Data Kategorikal"
      ],
      "metadata": {
        "id": "RoIwPiqOsmTi"
      }
    },
    {
      "cell_type": "code",
      "source": [
        "# Mengimpor modul yang diperlukan\n",
        "from sklearn.preprocessing import LabelEncoder  # Mengimpor modul 'LabelEncoder' dari 'sklearn.preprocessing'. Modul ini digunakan untuk mengkodekan variabel kategorikal menjadi numerik.\n",
        "\n",
        "# Membuat objek LabelEncoder\n",
        "le = LabelEncoder()  # Membuat objek 'le' dari kelas 'LabelEncoder'.\n",
        "\n",
        "# Mengkodekan kolom ketiga (X[:, 2]) dari variabel kategorikal menjadi numerik\n",
        "X[:, 2] = le.fit_transform(X[:, 2])  # Menggunakan objek 'le' untuk mengkodekan kolom ketiga dari 'X' menjadi nilai numerik. Hasilnya akan disimpan kembali di kolom ketiga 'X'.\n",
        "\n",
        "# tampilkan\n",
        "print(X)"
      ],
      "metadata": {
        "colab": {
          "base_uri": "https://localhost:8080/"
        },
        "id": "-1C-8Dfbs7Ir",
        "outputId": "ac93a99e-6110-4921-f298-ac2b4bea2897"
      },
      "execution_count": 4,
      "outputs": [
        {
          "output_type": "stream",
          "name": "stdout",
          "text": [
            "[[619 'France' 0 ... 1 1 101348.88]\n",
            " [608 'Spain' 0 ... 0 1 112542.58]\n",
            " [502 'France' 0 ... 1 0 113931.57]\n",
            " ...\n",
            " [709 'France' 0 ... 0 1 42085.58]\n",
            " [772 'Germany' 1 ... 1 0 92888.52]\n",
            " [792 'France' 0 ... 1 0 38190.78]]\n"
          ]
        }
      ]
    },
    {
      "cell_type": "markdown",
      "source": [
        "### angkah 4 - Encoding Kolom \"Geography\" dengan One Hot Encoder"
      ],
      "metadata": {
        "id": "6jBVTYb5tNM4"
      }
    },
    {
      "cell_type": "code",
      "source": [
        "# Mengimpor modul yang diperlukan dari library Scikit-Learn\n",
        "from sklearn.compose import ColumnTransformer\n",
        "from sklearn.preprocessing import OneHotEncoder\n",
        "\n",
        "# Membuat objek ColumnTransformer untuk mengubah kolom data\n",
        "# dengan indeks 1 (kolom kedua) menggunakan OneHotEncoder, dan mengizinkan kolom lainnya tetap tidak diubah ('passthrough')\n",
        "ct = ColumnTransformer(transformers=[('encoder', OneHotEncoder(), [1])], remainder='passthrough')\n",
        "\n",
        "# Menggunakan ColumnTransformer untuk mengubah data X, dan\n",
        "# hasilnya disimpan dalam bentuk array numpy (X)\n",
        "X = np.array(ct.fit_transform(X))\n",
        "\n",
        "print(X)"
      ],
      "metadata": {
        "colab": {
          "base_uri": "https://localhost:8080/"
        },
        "id": "Q2dXHP4lsqF6",
        "outputId": "0b79da92-4de9-4386-bfa9-5e1f73a21161"
      },
      "execution_count": 5,
      "outputs": [
        {
          "output_type": "stream",
          "name": "stdout",
          "text": [
            "[[1.0 0.0 0.0 ... 1 1 101348.88]\n",
            " [0.0 0.0 1.0 ... 0 1 112542.58]\n",
            " [1.0 0.0 0.0 ... 1 0 113931.57]\n",
            " ...\n",
            " [1.0 0.0 0.0 ... 0 1 42085.58]\n",
            " [0.0 1.0 0.0 ... 1 0 92888.52]\n",
            " [1.0 0.0 0.0 ... 1 0 38190.78]]\n"
          ]
        }
      ]
    },
    {
      "cell_type": "markdown",
      "source": [
        "### Langkah 5 -  Split Data"
      ],
      "metadata": {
        "id": "hrqQK5UrtYaT"
      }
    },
    {
      "cell_type": "code",
      "source": [
        "from sklearn.model_selection import train_test_split  # import library yang dibutuhkan untuk penggunaan sickit-learn\n",
        "X_train, X_test, y_train, y_test = train_test_split(X, y, test_size = 0.2, random_state = 0)  # Melakukan spilt data test dan train"
      ],
      "metadata": {
        "id": "xe8HMmlMtdk-"
      },
      "execution_count": 6,
      "outputs": []
    },
    {
      "cell_type": "markdown",
      "source": [
        "### Langkah 6 - Scaling Fitur"
      ],
      "metadata": {
        "id": "R6dq51U2uDPN"
      }
    },
    {
      "cell_type": "code",
      "source": [
        "from sklearn.preprocessing import StandardScaler # Membantu dalam standarisasi fitur\n",
        "sc = StandardScaler() # Membuat objek StandardScaler\n",
        "X_train = sc.fit_transform(X_train) # melakukan standarisasi pada data uji X_train\n",
        "X_test = sc.transform(X_test) # melakukan standarisasi pada data tes X_test"
      ],
      "metadata": {
        "id": "sGSLtHSJuHB3"
      },
      "execution_count": 7,
      "outputs": []
    },
    {
      "cell_type": "markdown",
      "source": [
        "## Membuat Model ANN\n",
        "\n",
        "### Langkah 1 - Inisiasi Model ANN"
      ],
      "metadata": {
        "id": "HyB4YVAxubFz"
      }
    },
    {
      "cell_type": "code",
      "source": [
        "ann = tf.keras.models.Sequential() # Membuat model neural network Sequential"
      ],
      "metadata": {
        "id": "nKlnWdNsudNI"
      },
      "execution_count": 8,
      "outputs": []
    },
    {
      "cell_type": "markdown",
      "source": [
        "### Langkah 2 - Membuat Input Layer dan Hidden Layer Pertama\n"
      ],
      "metadata": {
        "id": "2ZzU9M0sul70"
      }
    },
    {
      "cell_type": "code",
      "source": [
        "ann.add(tf.keras.layers.Dense(units=6, activation='relu')) # menambahkan sebuah layer fully connected, atau dikenal juga sebagai dense layer\n",
        "# Fungsi aktivasi Rectified Linear Unit (ReLU) menghasilkan input secara langsung jika positif; jika tidak, menghasilkan nol."
      ],
      "metadata": {
        "id": "bXcHNkBMuogt"
      },
      "execution_count": 9,
      "outputs": []
    },
    {
      "cell_type": "markdown",
      "source": [
        "### Langkah 3 - Membuat Hidden Layer Kedua"
      ],
      "metadata": {
        "id": "AD81KANDuq-u"
      }
    },
    {
      "cell_type": "code",
      "source": [
        "ann.add(tf.keras.layers.Dense(units=6, activation='relu'))"
      ],
      "metadata": {
        "id": "HbZpKxepw353"
      },
      "execution_count": 10,
      "outputs": []
    },
    {
      "cell_type": "markdown",
      "source": [
        "### Langkah 4 - Membuat Output layer"
      ],
      "metadata": {
        "id": "6tp3CBVtw5tF"
      }
    },
    {
      "cell_type": "code",
      "source": [
        "ann.add(tf.keras.layers.Dense(units=1, activation='sigmoid')) # menambahkan sebuah layer fully connected (dense layer)\n",
        "# Fungsi aktivasi Sigmoid mengubah setiap nilai output menjadi nilai antara 0 dan 1, yang bisa diinterpretasikan sebagai probabilitas."
      ],
      "metadata": {
        "id": "IViLCdDvutQr"
      },
      "execution_count": 11,
      "outputs": []
    },
    {
      "cell_type": "markdown",
      "source": [
        "## Training Model\n",
        "\n",
        "### Langkah 1 - Compile Model (Menyatukan Arsitektru) ANN"
      ],
      "metadata": {
        "id": "jN4LojpIuwaN"
      }
    },
    {
      "cell_type": "code",
      "source": [
        "ann.compile(optimizer = 'adam', loss = 'binary_crossentropy', metrics = ['accuracy']) # Optimizer ADAM (Adaptive Moment Estimation) untuk memperbarui bobot\n",
        "# binary_crossentropy, sebagai loss function untuk klasifikasi binari\n",
        "# ‘accuracy’ sebagai metrik yang menghitung persentase prediksi"
      ],
      "metadata": {
        "id": "EZnQTjH9u8Gd"
      },
      "execution_count": 12,
      "outputs": []
    },
    {
      "cell_type": "markdown",
      "source": [
        "### Langkah 2 - Fitting Model"
      ],
      "metadata": {
        "id": "Jnau6jCmu_5J"
      }
    },
    {
      "cell_type": "code",
      "source": [
        "ann.fit(X_train, y_train, batch_size = 32, epochs = 100) # Melatih model ANN"
      ],
      "metadata": {
        "colab": {
          "base_uri": "https://localhost:8080/"
        },
        "id": "b5q0r1m7vEcJ",
        "outputId": "18871c33-0f0b-44ff-ff5c-4c546655faff"
      },
      "execution_count": 13,
      "outputs": [
        {
          "output_type": "stream",
          "name": "stdout",
          "text": [
            "Epoch 1/100\n",
            "250/250 [==============================] - 3s 4ms/step - loss: 0.5104 - accuracy: 0.7950\n",
            "Epoch 2/100\n",
            "250/250 [==============================] - 1s 4ms/step - loss: 0.4554 - accuracy: 0.7960\n",
            "Epoch 3/100\n",
            "250/250 [==============================] - 1s 4ms/step - loss: 0.4401 - accuracy: 0.7961\n",
            "Epoch 4/100\n",
            "250/250 [==============================] - 1s 4ms/step - loss: 0.4325 - accuracy: 0.8009\n",
            "Epoch 5/100\n",
            "250/250 [==============================] - 1s 4ms/step - loss: 0.4265 - accuracy: 0.8098\n",
            "Epoch 6/100\n",
            "250/250 [==============================] - 1s 5ms/step - loss: 0.4207 - accuracy: 0.8140\n",
            "Epoch 7/100\n",
            "250/250 [==============================] - 1s 5ms/step - loss: 0.4135 - accuracy: 0.8190\n",
            "Epoch 8/100\n",
            "250/250 [==============================] - 2s 8ms/step - loss: 0.4039 - accuracy: 0.8285\n",
            "Epoch 9/100\n",
            "250/250 [==============================] - 2s 8ms/step - loss: 0.3918 - accuracy: 0.8366\n",
            "Epoch 10/100\n",
            "250/250 [==============================] - 2s 9ms/step - loss: 0.3802 - accuracy: 0.8439\n",
            "Epoch 11/100\n",
            "250/250 [==============================] - 2s 9ms/step - loss: 0.3710 - accuracy: 0.8503\n",
            "Epoch 12/100\n",
            "250/250 [==============================] - 1s 6ms/step - loss: 0.3638 - accuracy: 0.8518\n",
            "Epoch 13/100\n",
            "250/250 [==============================] - 1s 4ms/step - loss: 0.3584 - accuracy: 0.8547\n",
            "Epoch 14/100\n",
            "250/250 [==============================] - 1s 5ms/step - loss: 0.3541 - accuracy: 0.8566\n",
            "Epoch 15/100\n",
            "250/250 [==============================] - 1s 3ms/step - loss: 0.3508 - accuracy: 0.8562\n",
            "Epoch 16/100\n",
            "250/250 [==============================] - 1s 3ms/step - loss: 0.3482 - accuracy: 0.8597\n",
            "Epoch 17/100\n",
            "250/250 [==============================] - 1s 4ms/step - loss: 0.3464 - accuracy: 0.8604\n",
            "Epoch 18/100\n",
            "250/250 [==============================] - 1s 4ms/step - loss: 0.3447 - accuracy: 0.8611\n",
            "Epoch 19/100\n",
            "250/250 [==============================] - 1s 5ms/step - loss: 0.3439 - accuracy: 0.8601\n",
            "Epoch 20/100\n",
            "250/250 [==============================] - 1s 4ms/step - loss: 0.3426 - accuracy: 0.8606\n",
            "Epoch 21/100\n",
            "250/250 [==============================] - 0s 2ms/step - loss: 0.3417 - accuracy: 0.8611\n",
            "Epoch 22/100\n",
            "250/250 [==============================] - 1s 2ms/step - loss: 0.3409 - accuracy: 0.8606\n",
            "Epoch 23/100\n",
            "250/250 [==============================] - 1s 3ms/step - loss: 0.3407 - accuracy: 0.8619\n",
            "Epoch 24/100\n",
            "250/250 [==============================] - 1s 3ms/step - loss: 0.3406 - accuracy: 0.8615\n",
            "Epoch 25/100\n",
            "250/250 [==============================] - 1s 3ms/step - loss: 0.3398 - accuracy: 0.8604\n",
            "Epoch 26/100\n",
            "250/250 [==============================] - 1s 3ms/step - loss: 0.3395 - accuracy: 0.8620\n",
            "Epoch 27/100\n",
            "250/250 [==============================] - 1s 3ms/step - loss: 0.3393 - accuracy: 0.8615\n",
            "Epoch 28/100\n",
            "250/250 [==============================] - 1s 3ms/step - loss: 0.3389 - accuracy: 0.8626\n",
            "Epoch 29/100\n",
            "250/250 [==============================] - 1s 3ms/step - loss: 0.3388 - accuracy: 0.8626\n",
            "Epoch 30/100\n",
            "250/250 [==============================] - 1s 3ms/step - loss: 0.3383 - accuracy: 0.8619\n",
            "Epoch 31/100\n",
            "250/250 [==============================] - 1s 3ms/step - loss: 0.3385 - accuracy: 0.8622\n",
            "Epoch 32/100\n",
            "250/250 [==============================] - 1s 3ms/step - loss: 0.3382 - accuracy: 0.8641\n",
            "Epoch 33/100\n",
            "250/250 [==============================] - 1s 2ms/step - loss: 0.3381 - accuracy: 0.8631\n",
            "Epoch 34/100\n",
            "250/250 [==============================] - 1s 2ms/step - loss: 0.3375 - accuracy: 0.8625\n",
            "Epoch 35/100\n",
            "250/250 [==============================] - 1s 2ms/step - loss: 0.3374 - accuracy: 0.8627\n",
            "Epoch 36/100\n",
            "250/250 [==============================] - 1s 2ms/step - loss: 0.3375 - accuracy: 0.8631\n",
            "Epoch 37/100\n",
            "250/250 [==============================] - 1s 2ms/step - loss: 0.3375 - accuracy: 0.8639\n",
            "Epoch 38/100\n",
            "250/250 [==============================] - 1s 2ms/step - loss: 0.3371 - accuracy: 0.8626\n",
            "Epoch 39/100\n",
            "250/250 [==============================] - 1s 2ms/step - loss: 0.3368 - accuracy: 0.8635\n",
            "Epoch 40/100\n",
            "250/250 [==============================] - 1s 2ms/step - loss: 0.3367 - accuracy: 0.8633\n",
            "Epoch 41/100\n",
            "250/250 [==============================] - 1s 2ms/step - loss: 0.3371 - accuracy: 0.8639\n",
            "Epoch 42/100\n",
            "250/250 [==============================] - 1s 2ms/step - loss: 0.3368 - accuracy: 0.8630\n",
            "Epoch 43/100\n",
            "250/250 [==============================] - 1s 2ms/step - loss: 0.3367 - accuracy: 0.8636\n",
            "Epoch 44/100\n",
            "250/250 [==============================] - 1s 2ms/step - loss: 0.3369 - accuracy: 0.8624\n",
            "Epoch 45/100\n",
            "250/250 [==============================] - 1s 2ms/step - loss: 0.3363 - accuracy: 0.8645\n",
            "Epoch 46/100\n",
            "250/250 [==============================] - 1s 2ms/step - loss: 0.3364 - accuracy: 0.8634\n",
            "Epoch 47/100\n",
            "250/250 [==============================] - 1s 2ms/step - loss: 0.3362 - accuracy: 0.8633\n",
            "Epoch 48/100\n",
            "250/250 [==============================] - 1s 2ms/step - loss: 0.3362 - accuracy: 0.8640\n",
            "Epoch 49/100\n",
            "250/250 [==============================] - 1s 2ms/step - loss: 0.3362 - accuracy: 0.8631\n",
            "Epoch 50/100\n",
            "250/250 [==============================] - 1s 2ms/step - loss: 0.3360 - accuracy: 0.8634\n",
            "Epoch 51/100\n",
            "250/250 [==============================] - 1s 2ms/step - loss: 0.3360 - accuracy: 0.8635\n",
            "Epoch 52/100\n",
            "250/250 [==============================] - 1s 3ms/step - loss: 0.3360 - accuracy: 0.8634\n",
            "Epoch 53/100\n",
            "250/250 [==============================] - 1s 3ms/step - loss: 0.3359 - accuracy: 0.8641\n",
            "Epoch 54/100\n",
            "250/250 [==============================] - 1s 3ms/step - loss: 0.3357 - accuracy: 0.8639\n",
            "Epoch 55/100\n",
            "250/250 [==============================] - 1s 3ms/step - loss: 0.3358 - accuracy: 0.8626\n",
            "Epoch 56/100\n",
            "250/250 [==============================] - 1s 3ms/step - loss: 0.3357 - accuracy: 0.8639\n",
            "Epoch 57/100\n",
            "250/250 [==============================] - 1s 3ms/step - loss: 0.3358 - accuracy: 0.8636\n",
            "Epoch 58/100\n",
            "250/250 [==============================] - 1s 3ms/step - loss: 0.3354 - accuracy: 0.8635\n",
            "Epoch 59/100\n",
            "250/250 [==============================] - 1s 3ms/step - loss: 0.3351 - accuracy: 0.8645\n",
            "Epoch 60/100\n",
            "250/250 [==============================] - 1s 3ms/step - loss: 0.3353 - accuracy: 0.8637\n",
            "Epoch 61/100\n",
            "250/250 [==============================] - 1s 3ms/step - loss: 0.3353 - accuracy: 0.8646\n",
            "Epoch 62/100\n",
            "250/250 [==============================] - 1s 2ms/step - loss: 0.3352 - accuracy: 0.8639\n",
            "Epoch 63/100\n",
            "250/250 [==============================] - 1s 2ms/step - loss: 0.3350 - accuracy: 0.8636\n",
            "Epoch 64/100\n",
            "250/250 [==============================] - 1s 2ms/step - loss: 0.3350 - accuracy: 0.8639\n",
            "Epoch 65/100\n",
            "250/250 [==============================] - 1s 2ms/step - loss: 0.3349 - accuracy: 0.8646\n",
            "Epoch 66/100\n",
            "250/250 [==============================] - 1s 2ms/step - loss: 0.3348 - accuracy: 0.8637\n",
            "Epoch 67/100\n",
            "250/250 [==============================] - 0s 2ms/step - loss: 0.3348 - accuracy: 0.8637\n",
            "Epoch 68/100\n",
            "250/250 [==============================] - 1s 2ms/step - loss: 0.3347 - accuracy: 0.8649\n",
            "Epoch 69/100\n",
            "250/250 [==============================] - 1s 2ms/step - loss: 0.3346 - accuracy: 0.8635\n",
            "Epoch 70/100\n",
            "250/250 [==============================] - 0s 2ms/step - loss: 0.3345 - accuracy: 0.8651\n",
            "Epoch 71/100\n",
            "250/250 [==============================] - 0s 2ms/step - loss: 0.3347 - accuracy: 0.8644\n",
            "Epoch 72/100\n",
            "250/250 [==============================] - 1s 2ms/step - loss: 0.3345 - accuracy: 0.8643\n",
            "Epoch 73/100\n",
            "250/250 [==============================] - 1s 2ms/step - loss: 0.3343 - accuracy: 0.8644\n",
            "Epoch 74/100\n",
            "250/250 [==============================] - 1s 2ms/step - loss: 0.3345 - accuracy: 0.8627\n",
            "Epoch 75/100\n",
            "250/250 [==============================] - 1s 2ms/step - loss: 0.3341 - accuracy: 0.8637\n",
            "Epoch 76/100\n",
            "250/250 [==============================] - 1s 2ms/step - loss: 0.3345 - accuracy: 0.8640\n",
            "Epoch 77/100\n",
            "250/250 [==============================] - 0s 2ms/step - loss: 0.3344 - accuracy: 0.8620\n",
            "Epoch 78/100\n",
            "250/250 [==============================] - 1s 2ms/step - loss: 0.3341 - accuracy: 0.8649\n",
            "Epoch 79/100\n",
            "250/250 [==============================] - 1s 2ms/step - loss: 0.3341 - accuracy: 0.8634\n",
            "Epoch 80/100\n",
            "250/250 [==============================] - 1s 2ms/step - loss: 0.3340 - accuracy: 0.8631\n",
            "Epoch 81/100\n",
            "250/250 [==============================] - 1s 3ms/step - loss: 0.3342 - accuracy: 0.8645\n",
            "Epoch 82/100\n",
            "250/250 [==============================] - 1s 3ms/step - loss: 0.3341 - accuracy: 0.8636\n",
            "Epoch 83/100\n",
            "250/250 [==============================] - 1s 3ms/step - loss: 0.3344 - accuracy: 0.8643\n",
            "Epoch 84/100\n",
            "250/250 [==============================] - 1s 3ms/step - loss: 0.3341 - accuracy: 0.8637\n",
            "Epoch 85/100\n",
            "250/250 [==============================] - 1s 3ms/step - loss: 0.3342 - accuracy: 0.8639\n",
            "Epoch 86/100\n",
            "250/250 [==============================] - 1s 3ms/step - loss: 0.3343 - accuracy: 0.8641\n",
            "Epoch 87/100\n",
            "250/250 [==============================] - 1s 3ms/step - loss: 0.3345 - accuracy: 0.8640\n",
            "Epoch 88/100\n",
            "250/250 [==============================] - 1s 3ms/step - loss: 0.3339 - accuracy: 0.8654\n",
            "Epoch 89/100\n",
            "250/250 [==============================] - 1s 3ms/step - loss: 0.3341 - accuracy: 0.8631\n",
            "Epoch 90/100\n",
            "250/250 [==============================] - 1s 3ms/step - loss: 0.3335 - accuracy: 0.8644\n",
            "Epoch 91/100\n",
            "250/250 [==============================] - 1s 2ms/step - loss: 0.3343 - accuracy: 0.8644\n",
            "Epoch 92/100\n",
            "250/250 [==============================] - 1s 2ms/step - loss: 0.3338 - accuracy: 0.8646\n",
            "Epoch 93/100\n",
            "250/250 [==============================] - 1s 2ms/step - loss: 0.3342 - accuracy: 0.8643\n",
            "Epoch 94/100\n",
            "250/250 [==============================] - 1s 2ms/step - loss: 0.3337 - accuracy: 0.8630\n",
            "Epoch 95/100\n",
            "250/250 [==============================] - 0s 2ms/step - loss: 0.3340 - accuracy: 0.8652\n",
            "Epoch 96/100\n",
            "250/250 [==============================] - 1s 2ms/step - loss: 0.3336 - accuracy: 0.8627\n",
            "Epoch 97/100\n",
            "250/250 [==============================] - 0s 2ms/step - loss: 0.3336 - accuracy: 0.8644\n",
            "Epoch 98/100\n",
            "250/250 [==============================] - 1s 2ms/step - loss: 0.3340 - accuracy: 0.8634\n",
            "Epoch 99/100\n",
            "250/250 [==============================] - 1s 2ms/step - loss: 0.3339 - accuracy: 0.8640\n",
            "Epoch 100/100\n",
            "250/250 [==============================] - 0s 2ms/step - loss: 0.3336 - accuracy: 0.8646\n"
          ]
        },
        {
          "output_type": "execute_result",
          "data": {
            "text/plain": [
              "<keras.src.callbacks.History at 0x7e464009c8b0>"
            ]
          },
          "metadata": {},
          "execution_count": 13
        }
      ]
    },
    {
      "cell_type": "markdown",
      "source": [
        "## Membuat Prediksi\n",
        "Diberikan informais sebagai berikut,\n",
        "\n",
        "\n",
        "- Geography: France\n",
        "- Credit Score: 600\n",
        "- Gender: Male\n",
        "- Age: 40 years old\n",
        "- Tenure: 3 years\n",
        "- Balance: 60000\n",
        "- Number of Products: 2\n",
        "- Does this customer have a credit card ? Yes\n",
        "- Is this customer an Active Member: Yes\n",
        "- Estimated Salary: $50000\n",
        "\n",
        "Apakah customer tersebut perlu dipertahankan?\n",
        "\n",
        "**Modelkan Data Baru dan Buat Prediksi**"
      ],
      "metadata": {
        "id": "QyhqpgsPvJRL"
      }
    },
    {
      "cell_type": "code",
      "source": [
        "print(ann.predict(sc.transform([[1, 0, 0, 600, 1, 40, 3, 60000, 2, 1, 1, 50000]])) > 0.5)"
      ],
      "metadata": {
        "colab": {
          "base_uri": "https://localhost:8080/"
        },
        "id": "HNo3JM8lviBw",
        "outputId": "545a179a-bae8-44b6-8e8a-07887a9e2777"
      },
      "execution_count": 14,
      "outputs": [
        {
          "output_type": "stream",
          "name": "stdout",
          "text": [
            "1/1 [==============================] - 0s 163ms/step\n",
            "[[False]]\n"
          ]
        }
      ]
    },
    {
      "cell_type": "markdown",
      "source": [
        "### Prediksi Dengan Data Testing"
      ],
      "metadata": {
        "id": "3DBZJyAz7nWo"
      }
    },
    {
      "cell_type": "code",
      "source": [
        "y_pred = ann.predict(X_test) # melakukan prediksi nilai berdasarkan X_test\n",
        "y_pred = (y_pred > 0.5) # digunakan dalam konteks klasifikasi biner ketika Anda ingin mengonversi nilai-nilai prediksi menjadi label kelas\n",
        "print(np.concatenate((y_pred.reshape(len(y_pred),1), y_test.reshape(len(y_test),1)),1)) # menggabungkan dan menampilkan 2 array"
      ],
      "metadata": {
        "colab": {
          "base_uri": "https://localhost:8080/"
        },
        "id": "8StBrHZg7l9l",
        "outputId": "7e234631-de7b-4ed0-c21f-73658321dfb1"
      },
      "execution_count": 15,
      "outputs": [
        {
          "output_type": "stream",
          "name": "stdout",
          "text": [
            "63/63 [==============================] - 0s 2ms/step\n",
            "[[0 0]\n",
            " [0 1]\n",
            " [0 0]\n",
            " ...\n",
            " [0 0]\n",
            " [0 0]\n",
            " [0 0]]\n"
          ]
        }
      ]
    },
    {
      "cell_type": "markdown",
      "source": [
        "### Cek Akurasi dan Confison Matrix"
      ],
      "metadata": {
        "id": "DToFEEYk7tCZ"
      }
    },
    {
      "cell_type": "code",
      "source": [
        "from sklearn.metrics import confusion_matrix, accuracy_score # Berguna dalam menghitung akurasi skor dan confusion matrix\n",
        "cm = confusion_matrix(y_test, y_pred) # menghitung confusion matrix berdasarkan hasil tes dan prediksi\n",
        "print(cm) # menampilkan hasil confusion matrix\n",
        "accuracy_score(y_test, y_pred) # menghitung dan menampilkan akurasi matrix berdasarkan hasil tes dan prediksi"
      ],
      "metadata": {
        "colab": {
          "base_uri": "https://localhost:8080/"
        },
        "id": "A22MphSZ7x3i",
        "outputId": "4291dfd0-2a7d-4c23-b4ea-ca6f76d6fc54"
      },
      "execution_count": 17,
      "outputs": [
        {
          "output_type": "stream",
          "name": "stdout",
          "text": [
            "[[1508   87]\n",
            " [ 189  216]]\n"
          ]
        },
        {
          "output_type": "execute_result",
          "data": {
            "text/plain": [
              "0.862"
            ]
          },
          "metadata": {},
          "execution_count": 17
        }
      ]
    }
  ]
}