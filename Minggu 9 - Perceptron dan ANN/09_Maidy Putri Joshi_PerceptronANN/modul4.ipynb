{
 "cells": [
  {
   "cell_type": "markdown",
   "metadata": {},
   "source": [
    "Langkah 1 - Import Library"
   ]
  },
  {
   "cell_type": "code",
   "execution_count": 3,
   "metadata": {},
   "outputs": [
    {
     "name": "stdout",
     "output_type": "stream",
     "text": [
      "Defaulting to user installation because normal site-packages is not writeable\n",
      "Requirement already satisfied: tensorflow in c:\\users\\maidy putri joshi\\appdata\\roaming\\python\\python311\\site-packages (2.14.0)\n",
      "Requirement already satisfied: tensorflow-intel==2.14.0 in c:\\users\\maidy putri joshi\\appdata\\roaming\\python\\python311\\site-packages (from tensorflow) (2.14.0)\n",
      "Requirement already satisfied: absl-py>=1.0.0 in c:\\users\\maidy putri joshi\\appdata\\roaming\\python\\python311\\site-packages (from tensorflow-intel==2.14.0->tensorflow) (2.0.0)\n",
      "Requirement already satisfied: astunparse>=1.6.0 in c:\\users\\maidy putri joshi\\appdata\\roaming\\python\\python311\\site-packages (from tensorflow-intel==2.14.0->tensorflow) (1.6.3)\n",
      "Requirement already satisfied: flatbuffers>=23.5.26 in c:\\users\\maidy putri joshi\\appdata\\roaming\\python\\python311\\site-packages (from tensorflow-intel==2.14.0->tensorflow) (23.5.26)\n",
      "Requirement already satisfied: gast!=0.5.0,!=0.5.1,!=0.5.2,>=0.2.1 in c:\\users\\maidy putri joshi\\appdata\\roaming\\python\\python311\\site-packages (from tensorflow-intel==2.14.0->tensorflow) (0.5.4)\n",
      "Requirement already satisfied: google-pasta>=0.1.1 in c:\\users\\maidy putri joshi\\appdata\\roaming\\python\\python311\\site-packages (from tensorflow-intel==2.14.0->tensorflow) (0.2.0)\n",
      "Requirement already satisfied: h5py>=2.9.0 in c:\\programdata\\anaconda3\\lib\\site-packages (from tensorflow-intel==2.14.0->tensorflow) (3.7.0)\n",
      "Requirement already satisfied: libclang>=13.0.0 in c:\\users\\maidy putri joshi\\appdata\\roaming\\python\\python311\\site-packages (from tensorflow-intel==2.14.0->tensorflow) (16.0.6)\n",
      "Requirement already satisfied: ml-dtypes==0.2.0 in c:\\users\\maidy putri joshi\\appdata\\roaming\\python\\python311\\site-packages (from tensorflow-intel==2.14.0->tensorflow) (0.2.0)\n",
      "Requirement already satisfied: numpy>=1.23.5 in c:\\programdata\\anaconda3\\lib\\site-packages (from tensorflow-intel==2.14.0->tensorflow) (1.24.3)\n",
      "Requirement already satisfied: opt-einsum>=2.3.2 in c:\\users\\maidy putri joshi\\appdata\\roaming\\python\\python311\\site-packages (from tensorflow-intel==2.14.0->tensorflow) (3.3.0)\n",
      "Requirement already satisfied: packaging in c:\\users\\maidy putri joshi\\appdata\\roaming\\python\\python311\\site-packages (from tensorflow-intel==2.14.0->tensorflow) (23.2)\n",
      "Requirement already satisfied: protobuf!=4.21.0,!=4.21.1,!=4.21.2,!=4.21.3,!=4.21.4,!=4.21.5,<5.0.0dev,>=3.20.3 in c:\\users\\maidy putri joshi\\appdata\\roaming\\python\\python311\\site-packages (from tensorflow-intel==2.14.0->tensorflow) (4.25.0)\n",
      "Requirement already satisfied: setuptools in c:\\programdata\\anaconda3\\lib\\site-packages (from tensorflow-intel==2.14.0->tensorflow) (68.0.0)\n",
      "Requirement already satisfied: six>=1.12.0 in c:\\users\\maidy putri joshi\\appdata\\roaming\\python\\python311\\site-packages (from tensorflow-intel==2.14.0->tensorflow) (1.16.0)\n",
      "Requirement already satisfied: termcolor>=1.1.0 in c:\\users\\maidy putri joshi\\appdata\\roaming\\python\\python311\\site-packages (from tensorflow-intel==2.14.0->tensorflow) (2.3.0)\n",
      "Requirement already satisfied: typing-extensions>=3.6.6 in c:\\programdata\\anaconda3\\lib\\site-packages (from tensorflow-intel==2.14.0->tensorflow) (4.7.1)\n",
      "Requirement already satisfied: wrapt<1.15,>=1.11.0 in c:\\programdata\\anaconda3\\lib\\site-packages (from tensorflow-intel==2.14.0->tensorflow) (1.14.1)\n",
      "Requirement already satisfied: tensorflow-io-gcs-filesystem>=0.23.1 in c:\\users\\maidy putri joshi\\appdata\\roaming\\python\\python311\\site-packages (from tensorflow-intel==2.14.0->tensorflow) (0.31.0)\n",
      "Requirement already satisfied: grpcio<2.0,>=1.24.3 in c:\\users\\maidy putri joshi\\appdata\\roaming\\python\\python311\\site-packages (from tensorflow-intel==2.14.0->tensorflow) (1.59.2)\n",
      "Requirement already satisfied: tensorboard<2.15,>=2.14 in c:\\users\\maidy putri joshi\\appdata\\roaming\\python\\python311\\site-packages (from tensorflow-intel==2.14.0->tensorflow) (2.14.1)\n",
      "Requirement already satisfied: tensorflow-estimator<2.15,>=2.14.0 in c:\\users\\maidy putri joshi\\appdata\\roaming\\python\\python311\\site-packages (from tensorflow-intel==2.14.0->tensorflow) (2.14.0)\n",
      "Requirement already satisfied: keras<2.15,>=2.14.0 in c:\\users\\maidy putri joshi\\appdata\\roaming\\python\\python311\\site-packages (from tensorflow-intel==2.14.0->tensorflow) (2.14.0)\n",
      "Requirement already satisfied: wheel<1.0,>=0.23.0 in c:\\programdata\\anaconda3\\lib\\site-packages (from astunparse>=1.6.0->tensorflow-intel==2.14.0->tensorflow) (0.38.4)\n",
      "Requirement already satisfied: google-auth<3,>=1.6.3 in c:\\users\\maidy putri joshi\\appdata\\roaming\\python\\python311\\site-packages (from tensorboard<2.15,>=2.14->tensorflow-intel==2.14.0->tensorflow) (2.23.4)\n",
      "Requirement already satisfied: google-auth-oauthlib<1.1,>=0.5 in c:\\users\\maidy putri joshi\\appdata\\roaming\\python\\python311\\site-packages (from tensorboard<2.15,>=2.14->tensorflow-intel==2.14.0->tensorflow) (1.0.0)\n",
      "Requirement already satisfied: markdown>=2.6.8 in c:\\programdata\\anaconda3\\lib\\site-packages (from tensorboard<2.15,>=2.14->tensorflow-intel==2.14.0->tensorflow) (3.4.1)\n",
      "Requirement already satisfied: requests<3,>=2.21.0 in c:\\programdata\\anaconda3\\lib\\site-packages (from tensorboard<2.15,>=2.14->tensorflow-intel==2.14.0->tensorflow) (2.31.0)\n",
      "Requirement already satisfied: tensorboard-data-server<0.8.0,>=0.7.0 in c:\\users\\maidy putri joshi\\appdata\\roaming\\python\\python311\\site-packages (from tensorboard<2.15,>=2.14->tensorflow-intel==2.14.0->tensorflow) (0.7.2)\n",
      "Requirement already satisfied: werkzeug>=1.0.1 in c:\\programdata\\anaconda3\\lib\\site-packages (from tensorboard<2.15,>=2.14->tensorflow-intel==2.14.0->tensorflow) (2.2.3)\n",
      "Requirement already satisfied: cachetools<6.0,>=2.0.0 in c:\\users\\maidy putri joshi\\appdata\\roaming\\python\\python311\\site-packages (from google-auth<3,>=1.6.3->tensorboard<2.15,>=2.14->tensorflow-intel==2.14.0->tensorflow) (5.3.2)\n",
      "Requirement already satisfied: pyasn1-modules>=0.2.1 in c:\\programdata\\anaconda3\\lib\\site-packages (from google-auth<3,>=1.6.3->tensorboard<2.15,>=2.14->tensorflow-intel==2.14.0->tensorflow) (0.2.8)\n",
      "Requirement already satisfied: rsa<5,>=3.1.4 in c:\\users\\maidy putri joshi\\appdata\\roaming\\python\\python311\\site-packages (from google-auth<3,>=1.6.3->tensorboard<2.15,>=2.14->tensorflow-intel==2.14.0->tensorflow) (4.9)\n",
      "Requirement already satisfied: requests-oauthlib>=0.7.0 in c:\\users\\maidy putri joshi\\appdata\\roaming\\python\\python311\\site-packages (from google-auth-oauthlib<1.1,>=0.5->tensorboard<2.15,>=2.14->tensorflow-intel==2.14.0->tensorflow) (1.3.1)\n",
      "Requirement already satisfied: charset-normalizer<4,>=2 in c:\\programdata\\anaconda3\\lib\\site-packages (from requests<3,>=2.21.0->tensorboard<2.15,>=2.14->tensorflow-intel==2.14.0->tensorflow) (2.0.4)\n",
      "Requirement already satisfied: idna<4,>=2.5 in c:\\programdata\\anaconda3\\lib\\site-packages (from requests<3,>=2.21.0->tensorboard<2.15,>=2.14->tensorflow-intel==2.14.0->tensorflow) (3.4)\n",
      "Requirement already satisfied: urllib3<3,>=1.21.1 in c:\\programdata\\anaconda3\\lib\\site-packages (from requests<3,>=2.21.0->tensorboard<2.15,>=2.14->tensorflow-intel==2.14.0->tensorflow) (1.26.16)\n",
      "Requirement already satisfied: certifi>=2017.4.17 in c:\\programdata\\anaconda3\\lib\\site-packages (from requests<3,>=2.21.0->tensorboard<2.15,>=2.14->tensorflow-intel==2.14.0->tensorflow) (2023.7.22)\n",
      "Requirement already satisfied: MarkupSafe>=2.1.1 in c:\\programdata\\anaconda3\\lib\\site-packages (from werkzeug>=1.0.1->tensorboard<2.15,>=2.14->tensorflow-intel==2.14.0->tensorflow) (2.1.1)\n",
      "Requirement already satisfied: pyasn1<0.5.0,>=0.4.6 in c:\\programdata\\anaconda3\\lib\\site-packages (from pyasn1-modules>=0.2.1->google-auth<3,>=1.6.3->tensorboard<2.15,>=2.14->tensorflow-intel==2.14.0->tensorflow) (0.4.8)\n",
      "Requirement already satisfied: oauthlib>=3.0.0 in c:\\users\\maidy putri joshi\\appdata\\roaming\\python\\python311\\site-packages (from requests-oauthlib>=0.7.0->google-auth-oauthlib<1.1,>=0.5->tensorboard<2.15,>=2.14->tensorflow-intel==2.14.0->tensorflow) (3.2.2)\n",
      "Note: you may need to restart the kernel to use updated packages.\n"
     ]
    }
   ],
   "source": [
    "%pip install tensorflow"
   ]
  },
  {
   "cell_type": "code",
   "execution_count": 4,
   "metadata": {},
   "outputs": [],
   "source": [
    "import numpy as np\n",
    "import pandas as pd\n",
    "import tensorflow as tf"
   ]
  },
  {
   "cell_type": "markdown",
   "metadata": {},
   "source": [
    "Langkah 2 - Load Data"
   ]
  },
  {
   "cell_type": "code",
   "execution_count": 5,
   "metadata": {},
   "outputs": [],
   "source": [
    "# Membaca dataset dari file 'Churn_Modelling.csv' menggunakan pandas dan menyimpannya ke dalam variabel dataset\n",
    "dataset = pd.read_csv('Churn_Modelling.csv')\n",
    "\n",
    "# Memilih fitur dari dataset (kolom 4 hingga kolom sebelum terakhir) dan mengkonversinya ke dalam larik (array) numpy\n",
    "X = dataset.iloc[:, 3:-1].values\n",
    "# Variabel X akan berisi fitur atau atribut dari dataset yang akan digunakan untuk prediksi\n",
    "\n",
    "# Memilih label atau target dari dataset (kolom terakhir) dan mengkonversinya ke dalam larik (array) numpy\n",
    "y = dataset.iloc[:, -1].values\n",
    "# Variabel y akan berisi label atau target yang akan diprediksi oleh model"
   ]
  },
  {
   "cell_type": "code",
   "execution_count": 6,
   "metadata": {},
   "outputs": [
    {
     "name": "stdout",
     "output_type": "stream",
     "text": [
      "[[619 'France' 'Female' ... 1 1 101348.88]\n",
      " [608 'Spain' 'Female' ... 0 1 112542.58]\n",
      " [502 'France' 'Female' ... 1 0 113931.57]\n",
      " ...\n",
      " [709 'France' 'Female' ... 0 1 42085.58]\n",
      " [772 'Germany' 'Male' ... 1 0 92888.52]\n",
      " [792 'France' 'Female' ... 1 0 38190.78]]\n"
     ]
    }
   ],
   "source": [
    "print(X)"
   ]
  },
  {
   "cell_type": "markdown",
   "metadata": {},
   "source": [
    "Langkah 3 - Encoding Data Kategorikal"
   ]
  },
  {
   "cell_type": "code",
   "execution_count": 7,
   "metadata": {},
   "outputs": [],
   "source": [
    "from sklearn.preprocessing import LabelEncoder\n",
    "\n",
    "# Mengimpor LabelEncoder dari modul sklearn.preprocessing\n",
    "# LabelEncoder digunakan untuk mengubah nilai pada suatu kolom menjadi nilai numerik\n",
    "\n",
    "le = LabelEncoder()  # Membuat objek LabelEncoder\n",
    "\n",
    "# Mengubah nilai pada kolom ke-2 dari array X ke nilai numerik\n",
    "# Fungsi fit_transform dari LabelEncoder digunakan untuk mengubah nilai pada kolom tertentu menjadi nilai numerik\n",
    "X[:, 2] = le.fit_transform(X[:, 2])\n",
    "\n",
    "# Kolom ke-2 diubah menjadi nilai numerik dan disimpan kembali ke array X\n",
    "# Nilai yang semula kategorikal diubah menjadi representasi numerik\n"
   ]
  },
  {
   "cell_type": "code",
   "execution_count": 8,
   "metadata": {},
   "outputs": [
    {
     "name": "stdout",
     "output_type": "stream",
     "text": [
      "[[619 'France' 0 ... 1 1 101348.88]\n",
      " [608 'Spain' 0 ... 0 1 112542.58]\n",
      " [502 'France' 0 ... 1 0 113931.57]\n",
      " ...\n",
      " [709 'France' 0 ... 0 1 42085.58]\n",
      " [772 'Germany' 1 ... 1 0 92888.52]\n",
      " [792 'France' 0 ... 1 0 38190.78]]\n"
     ]
    }
   ],
   "source": [
    "print(X)"
   ]
  },
  {
   "cell_type": "markdown",
   "metadata": {},
   "source": [
    "Langkah 4 - Encoding Kolom \"Geography\" dengan One Hot Encoder"
   ]
  },
  {
   "cell_type": "code",
   "execution_count": 9,
   "metadata": {},
   "outputs": [],
   "source": [
    "from sklearn.compose import ColumnTransformer\n",
    "from sklearn.preprocessing import OneHotEncoder\n",
    "\n",
    "# Mengimpor ColumnTransformer dan OneHotEncoder dari modul sklearn.compose dan sklearn.preprocessing\n",
    "\n",
    "# Membuat objek ColumnTransformer untuk mentransformasi kolom kategorikal menjadi representasi numerik\n",
    "# transformers parameter menyediakan informasi tentang transformasi yang akan dilakukan\n",
    "# ('encoder', OneHotEncoder(), [1]) menunjukkan bahwa kolom ke-1 akan diubah menjadi representasi one-hot encoding\n",
    "# remainder='passthrough' mengindikasikan bahwa kolom yang tidak diubah akan dilewatkan tanpa perubahan\n",
    "ct = ColumnTransformer(transformers=[('encoder', OneHotEncoder(), [1])], remainder='passthrough')\n",
    "\n",
    "# Melakukan transformasi terhadap array X menggunakan ColumnTransformer yang telah dibuat\n",
    "# Hasil transformasi disimpan kembali ke dalam array X\n",
    "X = np.array(ct.fit_transform(X))\n"
   ]
  },
  {
   "cell_type": "code",
   "execution_count": 10,
   "metadata": {},
   "outputs": [
    {
     "name": "stdout",
     "output_type": "stream",
     "text": [
      "[[1.0 0.0 0.0 ... 1 1 101348.88]\n",
      " [0.0 0.0 1.0 ... 0 1 112542.58]\n",
      " [1.0 0.0 0.0 ... 1 0 113931.57]\n",
      " ...\n",
      " [1.0 0.0 0.0 ... 0 1 42085.58]\n",
      " [0.0 1.0 0.0 ... 1 0 92888.52]\n",
      " [1.0 0.0 0.0 ... 1 0 38190.78]]\n"
     ]
    }
   ],
   "source": [
    "print(X)"
   ]
  },
  {
   "cell_type": "markdown",
   "metadata": {},
   "source": [
    "Langkah 5 - Split Data"
   ]
  },
  {
   "cell_type": "code",
   "execution_count": 11,
   "metadata": {},
   "outputs": [],
   "source": [
    "from sklearn.model_selection import train_test_split\n",
    "\n",
    "# Mengimpor fungsi train_test_split dari modul sklearn.model_selection\n",
    "\n",
    "# Memisahkan dataset menjadi data latih (train) dan data uji (test)\n",
    "# X adalah dataset fitur, y adalah dataset target\n",
    "# test_size=0.2 menunjukkan proporsi data yang akan digunakan untuk data uji (20% dari total data)\n",
    "# random_state=0 digunakan untuk memberikan keacakan yang sama pada pembagian setiap kali program dijalankan\n",
    "X_train, X_test, y_train, y_test = train_test_split(X, y, test_size=0.2, random_state=0)\n",
    "\n",
    "# Data dibagi menjadi X_train (fitur latih), X_test (fitur uji), y_train (label latih), y_test (label uji)\n",
    "# X_train dan y_train adalah data yang akan digunakan untuk melatih model\n",
    "# X_test dan y_test adalah data yang akan digunakan untuk menguji kinerja model yang telah dilatih\n"
   ]
  },
  {
   "cell_type": "markdown",
   "metadata": {},
   "source": [
    "Langkah 6 - Scaling Fitur"
   ]
  },
  {
   "cell_type": "code",
   "execution_count": 12,
   "metadata": {},
   "outputs": [],
   "source": [
    "from sklearn.preprocessing import StandardScaler\n",
    "\n",
    "# Importing the StandardScaler from the sklearn.preprocessing module\n",
    "\n",
    "sc = StandardScaler()  # Creating an instance of StandardScaler\n",
    "\n",
    "# Standardizing (scaling) the features in the training set\n",
    "# fit_transform function scales the training set features\n",
    "X_train = sc.fit_transform(X_train)\n",
    "\n",
    "# Using the mean and standard deviation obtained from the training set to transform the test set\n",
    "# transform function applies the same transformation to the test set features\n",
    "X_test = sc.transform(X_test)\n"
   ]
  },
  {
   "cell_type": "markdown",
   "metadata": {},
   "source": [
    "# Membuat Model ANN"
   ]
  },
  {
   "cell_type": "markdown",
   "metadata": {},
   "source": [
    "Langkah 1 - Inisiasi Model ANN"
   ]
  },
  {
   "cell_type": "code",
   "execution_count": 15,
   "metadata": {},
   "outputs": [],
   "source": [
    "ann = tf.keras.models.Sequential()"
   ]
  },
  {
   "cell_type": "markdown",
   "metadata": {},
   "source": [
    "Langkah 2 - Membuat Input Layer dan Hidden Layer Pertama"
   ]
  },
  {
   "cell_type": "code",
   "execution_count": 16,
   "metadata": {},
   "outputs": [],
   "source": [
    "# Menambahkan lapisan Dense ke dalam model neural network (ANN)\n",
    "# 'ann' mungkin merupakan objek model neural network yang telah dibuat sebelumnya\n",
    "# 'Dense' mengindikasikan bahwa setiap neuron dalam lapisan ini terhubung dengan setiap neuron pada lapisan sebelumnya\n",
    "# 'units=6' menunjukkan bahwa lapisan memiliki 6 neuron\n",
    "# 'activation='relu'' menunjukkan penggunaan fungsi aktivasi ReLU pada lapisan tersebut\n",
    "ann.add(tf.keras.layers.Dense(units=6, activation='relu'))"
   ]
  },
  {
   "cell_type": "markdown",
   "metadata": {},
   "source": [
    "Langkah 3 - Membuat Hidden Layer Kedua"
   ]
  },
  {
   "cell_type": "code",
   "execution_count": 17,
   "metadata": {},
   "outputs": [],
   "source": [
    "ann.add(tf.keras.layers.Dense(units=6, activation='relu'))"
   ]
  },
  {
   "cell_type": "markdown",
   "metadata": {},
   "source": [
    "Langkah 4 - Membuat Output Layer"
   ]
  },
  {
   "cell_type": "code",
   "execution_count": 18,
   "metadata": {},
   "outputs": [],
   "source": [
    "ann.add(tf.keras.layers.Dense(units=1, activation='sigmoid'))"
   ]
  },
  {
   "cell_type": "markdown",
   "metadata": {},
   "source": [
    "# Training Model"
   ]
  },
  {
   "cell_type": "markdown",
   "metadata": {},
   "source": [
    "Langkah 1 - Compile Model (Menyatukan Arsitektur) ANN"
   ]
  },
  {
   "cell_type": "code",
   "execution_count": 19,
   "metadata": {},
   "outputs": [],
   "source": [
    "# Compile model Jaringan Saraf Tiruan (ANN)\n",
    "# 'ann' merupakan model jaringan saraf yang telah dibuat sebelumnya\n",
    "\n",
    "# Menggunakan optimizer 'adam' untuk melakukan optimisasi model selama pelatihan\n",
    "# Loss function 'binary_crossentropy' digunakan untuk mengukur perbedaan distribusi probabilitas pada masalah klasifikasi biner\n",
    "# Metrics yang diukur selama pelatihan adalah 'accuracy', yang mengindikasikan tingkat keakuratan model\n",
    "\n",
    "ann.compile(optimizer='adam', loss='binary_crossentropy', metrics=['accuracy'])"
   ]
  },
  {
   "cell_type": "markdown",
   "metadata": {},
   "source": [
    "Langkah 2 - Fitting Model"
   ]
  },
  {
   "cell_type": "code",
   "execution_count": 20,
   "metadata": {},
   "outputs": [
    {
     "name": "stdout",
     "output_type": "stream",
     "text": [
      "Epoch 1/100\n",
      "250/250 [==============================] - 3s 4ms/step - loss: 0.6609 - accuracy: 0.6314\n",
      "Epoch 2/100\n",
      "250/250 [==============================] - 1s 4ms/step - loss: 0.4810 - accuracy: 0.7959\n",
      "Epoch 3/100\n",
      "250/250 [==============================] - 1s 4ms/step - loss: 0.4424 - accuracy: 0.8037\n",
      "Epoch 4/100\n",
      "250/250 [==============================] - 1s 4ms/step - loss: 0.4256 - accuracy: 0.8138\n",
      "Epoch 5/100\n",
      "250/250 [==============================] - 1s 5ms/step - loss: 0.4161 - accuracy: 0.8188\n",
      "Epoch 6/100\n",
      "250/250 [==============================] - 1s 5ms/step - loss: 0.4093 - accuracy: 0.8192\n",
      "Epoch 7/100\n",
      "250/250 [==============================] - 1s 5ms/step - loss: 0.4031 - accuracy: 0.8241\n",
      "Epoch 8/100\n",
      "250/250 [==============================] - 1s 5ms/step - loss: 0.3959 - accuracy: 0.8299\n",
      "Epoch 9/100\n",
      "250/250 [==============================] - 1s 4ms/step - loss: 0.3864 - accuracy: 0.8361\n",
      "Epoch 10/100\n",
      "250/250 [==============================] - 1s 6ms/step - loss: 0.3766 - accuracy: 0.8445\n",
      "Epoch 11/100\n",
      "250/250 [==============================] - 1s 4ms/step - loss: 0.3685 - accuracy: 0.8484\n",
      "Epoch 12/100\n",
      "250/250 [==============================] - 1s 6ms/step - loss: 0.3626 - accuracy: 0.8508\n",
      "Epoch 13/100\n",
      "250/250 [==============================] - 1s 5ms/step - loss: 0.3584 - accuracy: 0.8519\n",
      "Epoch 14/100\n",
      "250/250 [==============================] - 1s 5ms/step - loss: 0.3560 - accuracy: 0.8536\n",
      "Epoch 15/100\n",
      "250/250 [==============================] - 1s 6ms/step - loss: 0.3537 - accuracy: 0.8529\n",
      "Epoch 16/100\n",
      "250/250 [==============================] - 1s 5ms/step - loss: 0.3525 - accuracy: 0.8551\n",
      "Epoch 17/100\n",
      "250/250 [==============================] - 2s 7ms/step - loss: 0.3514 - accuracy: 0.8566\n",
      "Epoch 18/100\n",
      "250/250 [==============================] - 1s 4ms/step - loss: 0.3508 - accuracy: 0.8562\n",
      "Epoch 19/100\n",
      "250/250 [==============================] - 1s 4ms/step - loss: 0.3500 - accuracy: 0.8568\n",
      "Epoch 20/100\n",
      "250/250 [==============================] - 2s 6ms/step - loss: 0.3494 - accuracy: 0.8565\n",
      "Epoch 21/100\n",
      "250/250 [==============================] - 1s 5ms/step - loss: 0.3490 - accuracy: 0.8587\n",
      "Epoch 22/100\n",
      "250/250 [==============================] - 2s 7ms/step - loss: 0.3488 - accuracy: 0.8584\n",
      "Epoch 23/100\n",
      "250/250 [==============================] - 1s 4ms/step - loss: 0.3485 - accuracy: 0.8569\n",
      "Epoch 24/100\n",
      "250/250 [==============================] - 1s 4ms/step - loss: 0.3480 - accuracy: 0.8601\n",
      "Epoch 25/100\n",
      "250/250 [==============================] - 1s 4ms/step - loss: 0.3478 - accuracy: 0.8595\n",
      "Epoch 26/100\n",
      "250/250 [==============================] - 1s 4ms/step - loss: 0.3474 - accuracy: 0.8584\n",
      "Epoch 27/100\n",
      "250/250 [==============================] - 1s 6ms/step - loss: 0.3473 - accuracy: 0.8586\n",
      "Epoch 28/100\n",
      "250/250 [==============================] - 1s 6ms/step - loss: 0.3472 - accuracy: 0.8593\n",
      "Epoch 29/100\n",
      "250/250 [==============================] - 1s 4ms/step - loss: 0.3470 - accuracy: 0.8577\n",
      "Epoch 30/100\n",
      "250/250 [==============================] - 1s 5ms/step - loss: 0.3469 - accuracy: 0.8596\n",
      "Epoch 31/100\n",
      "250/250 [==============================] - 1s 6ms/step - loss: 0.3466 - accuracy: 0.8577\n",
      "Epoch 32/100\n",
      "250/250 [==============================] - 1s 5ms/step - loss: 0.3463 - accuracy: 0.8580\n",
      "Epoch 33/100\n",
      "250/250 [==============================] - 2s 8ms/step - loss: 0.3463 - accuracy: 0.8589\n",
      "Epoch 34/100\n",
      "250/250 [==============================] - 2s 8ms/step - loss: 0.3461 - accuracy: 0.8608\n",
      "Epoch 35/100\n",
      "250/250 [==============================] - 5s 18ms/step - loss: 0.3461 - accuracy: 0.8596\n",
      "Epoch 36/100\n",
      "250/250 [==============================] - 2s 6ms/step - loss: 0.3458 - accuracy: 0.8584\n",
      "Epoch 37/100\n",
      "250/250 [==============================] - 2s 8ms/step - loss: 0.3462 - accuracy: 0.8609\n",
      "Epoch 38/100\n",
      "250/250 [==============================] - 1s 5ms/step - loss: 0.3461 - accuracy: 0.8602\n",
      "Epoch 39/100\n",
      "250/250 [==============================] - 2s 7ms/step - loss: 0.3456 - accuracy: 0.8595\n",
      "Epoch 40/100\n",
      "250/250 [==============================] - 1s 5ms/step - loss: 0.3456 - accuracy: 0.8581\n",
      "Epoch 41/100\n",
      "250/250 [==============================] - 1s 4ms/step - loss: 0.3457 - accuracy: 0.8609\n",
      "Epoch 42/100\n",
      "250/250 [==============================] - 2s 7ms/step - loss: 0.3453 - accuracy: 0.8608\n",
      "Epoch 43/100\n",
      "250/250 [==============================] - 1s 5ms/step - loss: 0.3454 - accuracy: 0.8601\n",
      "Epoch 44/100\n",
      "250/250 [==============================] - 1s 4ms/step - loss: 0.3454 - accuracy: 0.8621\n",
      "Epoch 45/100\n",
      "250/250 [==============================] - 1s 5ms/step - loss: 0.3454 - accuracy: 0.8619\n",
      "Epoch 46/100\n",
      "250/250 [==============================] - 1s 5ms/step - loss: 0.3452 - accuracy: 0.8599\n",
      "Epoch 47/100\n",
      "250/250 [==============================] - 1s 5ms/step - loss: 0.3451 - accuracy: 0.8614\n",
      "Epoch 48/100\n",
      "250/250 [==============================] - 1s 5ms/step - loss: 0.3451 - accuracy: 0.8612\n",
      "Epoch 49/100\n",
      "250/250 [==============================] - 1s 4ms/step - loss: 0.3449 - accuracy: 0.8595\n",
      "Epoch 50/100\n",
      "250/250 [==============================] - 1s 5ms/step - loss: 0.3449 - accuracy: 0.8608\n",
      "Epoch 51/100\n",
      "250/250 [==============================] - 1s 5ms/step - loss: 0.3448 - accuracy: 0.8608\n",
      "Epoch 52/100\n",
      "250/250 [==============================] - 1s 4ms/step - loss: 0.3450 - accuracy: 0.8621\n",
      "Epoch 53/100\n",
      "250/250 [==============================] - 2s 6ms/step - loss: 0.3445 - accuracy: 0.8608\n",
      "Epoch 54/100\n",
      "250/250 [==============================] - 2s 7ms/step - loss: 0.3445 - accuracy: 0.8606\n",
      "Epoch 55/100\n",
      "250/250 [==============================] - 2s 9ms/step - loss: 0.3448 - accuracy: 0.8622\n",
      "Epoch 56/100\n",
      "250/250 [==============================] - 2s 6ms/step - loss: 0.3443 - accuracy: 0.8611\n",
      "Epoch 57/100\n",
      "250/250 [==============================] - 1s 6ms/step - loss: 0.3443 - accuracy: 0.8615\n",
      "Epoch 58/100\n",
      "250/250 [==============================] - 1s 5ms/step - loss: 0.3446 - accuracy: 0.8605\n",
      "Epoch 59/100\n",
      "250/250 [==============================] - 2s 6ms/step - loss: 0.3443 - accuracy: 0.8622\n",
      "Epoch 60/100\n",
      "250/250 [==============================] - 2s 8ms/step - loss: 0.3442 - accuracy: 0.8604\n",
      "Epoch 61/100\n",
      "250/250 [==============================] - 1s 5ms/step - loss: 0.3443 - accuracy: 0.8602\n",
      "Epoch 62/100\n",
      "250/250 [==============================] - 1s 6ms/step - loss: 0.3444 - accuracy: 0.8612\n",
      "Epoch 63/100\n",
      "250/250 [==============================] - 1s 5ms/step - loss: 0.3443 - accuracy: 0.8621\n",
      "Epoch 64/100\n",
      "250/250 [==============================] - 2s 6ms/step - loss: 0.3442 - accuracy: 0.8629\n",
      "Epoch 65/100\n",
      "250/250 [==============================] - 2s 8ms/step - loss: 0.3442 - accuracy: 0.8615\n",
      "Epoch 66/100\n",
      "250/250 [==============================] - 1s 5ms/step - loss: 0.3437 - accuracy: 0.8610\n",
      "Epoch 67/100\n",
      "250/250 [==============================] - 2s 7ms/step - loss: 0.3437 - accuracy: 0.8593\n",
      "Epoch 68/100\n",
      "250/250 [==============================] - 2s 6ms/step - loss: 0.3438 - accuracy: 0.8600\n",
      "Epoch 69/100\n",
      "250/250 [==============================] - 2s 8ms/step - loss: 0.3435 - accuracy: 0.8620\n",
      "Epoch 70/100\n",
      "250/250 [==============================] - 1s 6ms/step - loss: 0.3435 - accuracy: 0.8612\n",
      "Epoch 71/100\n",
      "250/250 [==============================] - 1s 5ms/step - loss: 0.3437 - accuracy: 0.8601\n",
      "Epoch 72/100\n",
      "250/250 [==============================] - 2s 8ms/step - loss: 0.3434 - accuracy: 0.8624\n",
      "Epoch 73/100\n",
      "250/250 [==============================] - 2s 9ms/step - loss: 0.3436 - accuracy: 0.8615\n",
      "Epoch 74/100\n",
      "250/250 [==============================] - 3s 11ms/step - loss: 0.3435 - accuracy: 0.8619\n",
      "Epoch 75/100\n",
      "250/250 [==============================] - 4s 16ms/step - loss: 0.3438 - accuracy: 0.8614\n",
      "Epoch 76/100\n",
      "250/250 [==============================] - 2s 6ms/step - loss: 0.3433 - accuracy: 0.8601\n",
      "Epoch 77/100\n",
      "250/250 [==============================] - 2s 7ms/step - loss: 0.3429 - accuracy: 0.8624\n",
      "Epoch 78/100\n",
      "250/250 [==============================] - 1s 4ms/step - loss: 0.3428 - accuracy: 0.8615\n",
      "Epoch 79/100\n",
      "250/250 [==============================] - 1s 5ms/step - loss: 0.3433 - accuracy: 0.8614\n",
      "Epoch 80/100\n",
      "250/250 [==============================] - 1s 6ms/step - loss: 0.3428 - accuracy: 0.8616\n",
      "Epoch 81/100\n",
      "250/250 [==============================] - 1s 5ms/step - loss: 0.3428 - accuracy: 0.8615\n",
      "Epoch 82/100\n",
      "250/250 [==============================] - 2s 7ms/step - loss: 0.3428 - accuracy: 0.8614\n",
      "Epoch 83/100\n",
      "250/250 [==============================] - 2s 6ms/step - loss: 0.3428 - accuracy: 0.8611\n",
      "Epoch 84/100\n",
      "250/250 [==============================] - 2s 9ms/step - loss: 0.3425 - accuracy: 0.8609\n",
      "Epoch 85/100\n",
      "250/250 [==============================] - 1s 5ms/step - loss: 0.3429 - accuracy: 0.8634\n",
      "Epoch 86/100\n",
      "250/250 [==============================] - 1s 5ms/step - loss: 0.3426 - accuracy: 0.8624\n",
      "Epoch 87/100\n",
      "250/250 [==============================] - 1s 6ms/step - loss: 0.3427 - accuracy: 0.8614\n",
      "Epoch 88/100\n",
      "250/250 [==============================] - 1s 5ms/step - loss: 0.3423 - accuracy: 0.8614\n",
      "Epoch 89/100\n",
      "250/250 [==============================] - 2s 7ms/step - loss: 0.3423 - accuracy: 0.8612\n",
      "Epoch 90/100\n",
      "250/250 [==============================] - 1s 5ms/step - loss: 0.3422 - accuracy: 0.8611\n",
      "Epoch 91/100\n",
      "250/250 [==============================] - 2s 8ms/step - loss: 0.3419 - accuracy: 0.8616\n",
      "Epoch 92/100\n",
      "250/250 [==============================] - 1s 5ms/step - loss: 0.3417 - accuracy: 0.8618\n",
      "Epoch 93/100\n",
      "250/250 [==============================] - 1s 4ms/step - loss: 0.3416 - accuracy: 0.8604\n",
      "Epoch 94/100\n",
      "250/250 [==============================] - 2s 7ms/step - loss: 0.3421 - accuracy: 0.8605\n",
      "Epoch 95/100\n",
      "250/250 [==============================] - 1s 5ms/step - loss: 0.3418 - accuracy: 0.8604\n",
      "Epoch 96/100\n",
      "250/250 [==============================] - 2s 6ms/step - loss: 0.3416 - accuracy: 0.8608\n",
      "Epoch 97/100\n",
      "250/250 [==============================] - 1s 4ms/step - loss: 0.3413 - accuracy: 0.8595\n",
      "Epoch 98/100\n",
      "250/250 [==============================] - 1s 5ms/step - loss: 0.3417 - accuracy: 0.8618\n",
      "Epoch 99/100\n",
      "250/250 [==============================] - 1s 5ms/step - loss: 0.3414 - accuracy: 0.8611\n",
      "Epoch 100/100\n",
      "250/250 [==============================] - 1s 4ms/step - loss: 0.3413 - accuracy: 0.8609\n"
     ]
    },
    {
     "data": {
      "text/plain": [
       "<keras.src.callbacks.History at 0x23e62f56610>"
      ]
     },
     "execution_count": 20,
     "metadata": {},
     "output_type": "execute_result"
    }
   ],
   "source": [
    "# Melatih (fit) model Jaringan Saraf Tiruan (ANN) dengan data latih\n",
    "# 'ann' adalah model jaringan saraf yang akan dilatih\n",
    "\n",
    "# X_train adalah data fitur (fitur latih), y_train adalah label atau target (label latih)\n",
    "# Proses pelatihan dilakukan dengan batch_size=32, di mana data dibagi menjadi batch-batch kecil\n",
    "# Epochs=100 menunjukkan jumlah iterasi atau putaran data selama pelatihan model\n",
    "\n",
    "ann.fit(X_train, y_train, batch_size=32, epochs=100)\n"
   ]
  },
  {
   "cell_type": "markdown",
   "metadata": {},
   "source": [
    "## Membuat Prediksi\n",
    "Diberikan informasi sebagai berikut,\n",
    "- Geography: France\n",
    "- Credit Score: 600\n",
    "- Gender: Male\n",
    "- Age: 40 years old\n",
    "- Tenure: 3 years\n",
    "- Balance: $ 60000\n",
    "- Number of Products: 2\n",
    "- Does this customer have a credit card ? Yes\n",
    "- Is this customer an Active Member: Yes\n",
    "- Estimated Salary: $ 50000\n",
    "\n",
    "Apakah customer tersebut perlu dipertahankan?\n"
   ]
  },
  {
   "cell_type": "markdown",
   "metadata": {},
   "source": [
    "Modelkan Data Baru dan Buat Prediksi"
   ]
  },
  {
   "cell_type": "code",
   "execution_count": 21,
   "metadata": {},
   "outputs": [
    {
     "name": "stdout",
     "output_type": "stream",
     "text": [
      "1/1 [==============================] - 0s 310ms/step\n",
      "[[False]]\n"
     ]
    }
   ],
   "source": [
    "# Melakukan prediksi menggunakan model Jaringan Saraf Tiruan (ANN) terhadap data yang diubah skala (scaled data)\n",
    "# 'ann' adalah model jaringan saraf yang telah dilatih sebelumnya\n",
    "\n",
    "# Data diubah menggunakan StandardScaler (sc.transform) agar sesuai dengan skala yang digunakan selama pelatihan\n",
    "# Setelah dilakukan prediksi, perbandingan dilakukan apakah nilai prediksi lebih besar dari 0.5\n",
    "\n",
    "prediction = ann.predict(sc.transform([[1, 0, 0, 600, 1, 40, 3, 60000, 2, 1, 1, 50000]])) > 0.5\n",
    "print(prediction)"
   ]
  },
  {
   "cell_type": "markdown",
   "metadata": {},
   "source": [
    "Apakah hasilnya False?\n",
    "\n",
    "Jawab: Ya, Hasilnya False"
   ]
  },
  {
   "cell_type": "markdown",
   "metadata": {},
   "source": [
    "Prediksi Dengan Data Testing"
   ]
  },
  {
   "cell_type": "code",
   "execution_count": 22,
   "metadata": {},
   "outputs": [
    {
     "name": "stdout",
     "output_type": "stream",
     "text": [
      "63/63 [==============================] - 0s 3ms/step\n",
      "[[0 0]\n",
      " [0 1]\n",
      " [0 0]\n",
      " ...\n",
      " [0 0]\n",
      " [0 0]\n",
      " [0 0]]\n"
     ]
    }
   ],
   "source": [
    "# Melakukan prediksi terhadap data uji menggunakan model Jaringan Saraf Tiruan (ANN)\n",
    "y_pred = ann.predict(X_test)\n",
    "\n",
    "# Menggunakan ambang batas 0.5 untuk mengklasifikasikan hasil prediksi sebagai True atau False\n",
    "y_pred = (y_pred > 0.5)\n",
    "\n",
    "# Mencetak hasil prediksi dan nilai sebenarnya dalam satu kolom\n",
    "# Menggabungkan hasil prediksi dengan nilai sebenarnya dari data uji (y_test)\n",
    "print(np.concatenate((y_pred.reshape(len(y_pred),1), y_test.reshape(len(y_test),1)), 1))"
   ]
  },
  {
   "cell_type": "markdown",
   "metadata": {},
   "source": [
    "Cek Akurasi dan Confusion Matrix"
   ]
  },
  {
   "cell_type": "code",
   "execution_count": 23,
   "metadata": {},
   "outputs": [
    {
     "name": "stdout",
     "output_type": "stream",
     "text": [
      "[[1508   87]\n",
      " [ 190  215]]\n"
     ]
    },
    {
     "data": {
      "text/plain": [
       "0.8615"
      ]
     },
     "execution_count": 23,
     "metadata": {},
     "output_type": "execute_result"
    }
   ],
   "source": [
    "from sklearn.metrics import confusion_matrix, accuracy_score\n",
    "\n",
    "# Membuat confusion matrix (matriks kebingungan) untuk mengevaluasi performa model\n",
    "# y_test adalah nilai sebenarnya dari data uji, y_pred adalah hasil prediksi\n",
    "cm = confusion_matrix(y_test, y_pred)\n",
    "\n",
    "# Mencetak matriks kebingungan (confusion matrix)\n",
    "print(cm)\n",
    "\n",
    "# Menghitung dan mencetak nilai akurasi dari model\n",
    "# Membandingkan hasil prediksi (y_pred) dengan nilai sebenarnya (y_test)\n",
    "accuracy_score(y_test, y_pred)\n"
   ]
  }
 ],
 "metadata": {
  "kernelspec": {
   "display_name": "base",
   "language": "python",
   "name": "python3"
  },
  "language_info": {
   "codemirror_mode": {
    "name": "ipython",
    "version": 3
   },
   "file_extension": ".py",
   "mimetype": "text/x-python",
   "name": "python",
   "nbconvert_exporter": "python",
   "pygments_lexer": "ipython3",
   "version": "3.11.4"
  }
 },
 "nbformat": 4,
 "nbformat_minor": 2
}
