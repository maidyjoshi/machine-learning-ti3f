{
 "cells": [
  {
   "cell_type": "code",
   "execution_count": 4,
   "metadata": {},
   "outputs": [],
   "source": [
    "# Mengimpor fungsi fetch_20newsgroups dari modul sklearn.datasets\n",
    "# Fungsi ini digunakan untuk mengunduh dataset 20 Newsgroups yang berisi kumpulan posting dari grup diskusi internet\n",
    "from sklearn.datasets import fetch_20newsgroups\n",
    "\n",
    "# Mengimpor TfidfVectorizer dari modul sklearn.feature_extraction.text\n",
    "# TfidfVectorizer digunakan untuk mengonversi kumpulan dokumen teks menjadi vektor fitur berdasarkan frekuensi dan bobot TF-IDF\n",
    "from sklearn.feature_extraction.text import TfidfVectorizer\n",
    "\n",
    "# Mengimpor model Perceptron dari modul sklearn.linear_model\n",
    "# Perceptron adalah algoritma pembelajaran mesin untuk klasifikasi biner atau multi-kelas\n",
    "from sklearn.linear_model import Perceptron\n",
    "\n",
    "# Mengimpor fungsi f1_score dan classification_report dari modul sklearn.metrics\n",
    "# f1_score digunakan untuk mengukur presisi dan recall dari model, sementara classification_report memberikan laporan berbagai metrik evaluasi\n",
    "from sklearn.metrics import f1_score, classification_report\n"
   ]
  },
  {
   "cell_type": "markdown",
   "metadata": {},
   "source": [
    "Langkah 2 - Pilih Label dan Split Data"
   ]
  },
  {
   "cell_type": "code",
   "execution_count": 5,
   "metadata": {},
   "outputs": [],
   "source": [
    "# Menentukan kategori yang ingin diunduh dari dataset 20 Newsgroups\n",
    "categories = ['rec.sport.hockey', 'rec.sport.baseball', 'rec.autos']\n",
    "\n",
    "# Mengunduh data latih dari dataset 20 Newsgroups dengan kategori yang telah ditentukan\n",
    "# Parameter 'subset' menentukan subset yang akan diunduh (dalam hal ini, data latih)\n",
    "# Parameter 'categories' menentukan kategori dari data yang diunduh\n",
    "# Parameter 'remove' menghapus bagian tertentu dari setiap dokumen seperti 'headers', 'footers', dan 'quotes'\n",
    "newsgroups_train = fetch_20newsgroups(subset='train', categories=categories, remove=('headers', 'footers', 'quotes'))\n",
    "\n",
    "# Mengunduh data uji dari dataset 20 Newsgroups dengan kategori yang telah ditentukan\n",
    "# Parameter 'subset' menentukan subset yang akan diunduh (dalam hal ini, data uji)\n",
    "# Parameter 'categories' menentukan kategori dari data yang diunduh\n",
    "# Parameter 'remove' menghapus bagian tertentu dari setiap dokumen seperti 'headers', 'footers', dan 'quotes'\n",
    "newsgroups_test = fetch_20newsgroups(subset='test', categories=categories, remove=('headers', 'footers', 'quotes'))\n"
   ]
  },
  {
   "cell_type": "markdown",
   "metadata": {},
   "source": [
    "Langkah 3 - Ekstrak Fitur dan Buat Model Perceptron"
   ]
  },
  {
   "cell_type": "code",
   "execution_count": 6,
   "metadata": {},
   "outputs": [
    {
     "name": "stdout",
     "output_type": "stream",
     "text": [
      "              precision    recall  f1-score   support\n",
      "\n",
      "           0       0.88      0.88      0.88       396\n",
      "           1       0.82      0.83      0.83       397\n",
      "           2       0.88      0.87      0.87       399\n",
      "\n",
      "    accuracy                           0.86      1192\n",
      "   macro avg       0.86      0.86      0.86      1192\n",
      "weighted avg       0.86      0.86      0.86      1192\n",
      "\n"
     ]
    }
   ],
   "source": [
    "# Membuat objek TfidfVectorizer\n",
    "# TfidfVectorizer digunakan untuk mengonversi teks menjadi vektor fitur berdasarkan skema pembobotan TF-IDF\n",
    "vectorizer = TfidfVectorizer()\n",
    "\n",
    "# Mengonversi data teks dari data latih menjadi vektor fitur menggunakan TfidfVectorizer\n",
    "# Fit_transform digunakan untuk melatih vektorisasi teks pada data latih\n",
    "X_train = vectorizer.fit_transform(newsgroups_train.data)\n",
    "\n",
    "# Mengonversi data teks dari data uji menjadi vektor fitur menggunakan TfidfVectorizer\n",
    "# Transform digunakan untuk menerapkan vektorisasi yang sudah dipelajari pada data uji\n",
    "X_test = vectorizer.transform(newsgroups_test.data)\n",
    "\n",
    "# Membuat objek Perceptron sebagai model klasifikasi dengan random_state=11\n",
    "clf = Perceptron(random_state=11)\n",
    "\n",
    "# Melatih model Perceptron dengan data latih yang sudah diventorisasi dan label targetnya\n",
    "clf.fit(X_train, newsgroups_train.target)\n",
    "\n",
    "# Melakukan prediksi pada data uji menggunakan model yang telah dilatih\n",
    "predictions = clf.predict(X_test)\n",
    "\n",
    "# Menampilkan laporan klasifikasi yang membandingkan label sebenarnya dari data uji dengan prediksi yang diberikan oleh model\n",
    "print(classification_report(newsgroups_test.target, predictions))\n"
   ]
  }
 ],
 "metadata": {
  "kernelspec": {
   "display_name": "base",
   "language": "python",
   "name": "python3"
  },
  "language_info": {
   "codemirror_mode": {
    "name": "ipython",
    "version": 3
   },
   "file_extension": ".py",
   "mimetype": "text/x-python",
   "name": "python",
   "nbconvert_exporter": "python",
   "pygments_lexer": "ipython3",
   "version": "3.11.4"
  }
 },
 "nbformat": 4,
 "nbformat_minor": 2
}
