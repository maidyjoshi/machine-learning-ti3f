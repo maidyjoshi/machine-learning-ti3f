{
  "cells": [
    {
      "cell_type": "markdown",
      "metadata": {},
      "source": [
        "## **Jobsheet 9 | Pertemuan 9**\n",
        "## **Perceptron & ANN**"
      ]
    },
    {
      "cell_type": "markdown",
      "metadata": {
        "id": "h1LzFmaMs4Ho"
      },
      "source": [
        "### **Tugas**\n",
        "\n",
        "\n",
        "*  Lakukan klasifikasi pada data MNIST dengan menggunakan model ANN\n",
        "*  Anda diperbolehkan melakukan eksplorasi terhadap,\n",
        "    1. Metode pra pengolahan\n",
        "    2. Pemilihan fitur\n",
        "    3. Arsitektur ANN\n",
        "    4. Fungsi Aktiviasi\n",
        "\n",
        "*  ANN diimplementasikan dengan menggunakan tensorflow.\n",
        "*  DIKERJAKAN SECARA BERKELOMPOK\n",
        "*  JELASKAN HASIL YANG ANDA DAPATKAN,\n",
        "    1. AKURASI\n",
        "    2. CONFUSION MATRIX\n",
        "    3. KONFIGURASI MODEL --> MULAI DARI PRA PENGOLAHAN SAMPAI ARSITEKTUR ANN"
      ]
    },
    {
      "cell_type": "code",
      "execution_count": 1,
      "metadata": {
        "id": "Z301paa_32Y8"
      },
      "outputs": [],
      "source": [
        "import tensorflow as tf\n",
        "from tensorflow.keras import layers, models\n",
        "from sklearn.datasets import fetch_openml\n",
        "from sklearn.model_selection import train_test_split\n",
        "import numpy as np\n",
        "import matplotlib.pyplot as plt\n",
        "from sklearn.metrics import confusion_matrix, accuracy_score\n",
        "from sklearn.decomposition import PCA\n",
        "from tensorflow.keras.optimizers import Adam"
      ]
    },
    {
      "cell_type": "markdown",
      "metadata": {
        "id": "1IDaMb8832Y9"
      },
      "source": [
        "## **Load Data**"
      ]
    },
    {
      "cell_type": "code",
      "execution_count": 2,
      "metadata": {
        "colab": {
          "base_uri": "https://localhost:8080/"
        },
        "id": "x6ySQZTa32Y-",
        "outputId": "2225d921-6f0e-4e3b-da1e-58cc2948bf62"
      },
      "outputs": [
        {
          "name": "stderr",
          "output_type": "stream",
          "text": [
            "c:\\Users\\adien\\anaconda3\\Lib\\site-packages\\sklearn\\datasets\\_openml.py:1002: FutureWarning: The default value of `parser` will change from `'liac-arff'` to `'auto'` in 1.4. You can set `parser='auto'` to silence this warning. Therefore, an `ImportError` will be raised from 1.4 if the dataset is dense and pandas is not installed. Note that the pandas parser may return different data types. See the Notes Section in fetch_openml's API doc for details.\n",
            "  warn(\n"
          ]
        }
      ],
      "source": [
        "# Unduh dataset MNIST dari scikit-learn\n",
        "mnist = fetch_openml('mnist_784')"
      ]
    },
    {
      "cell_type": "code",
      "execution_count": 3,
      "metadata": {
        "id": "kvsZ0y3h32ZA"
      },
      "outputs": [],
      "source": [
        "# Pisahkan data gambar dan label\n",
        "X = mnist.data.astype('float32')\n",
        "y = mnist.target.astype('int')"
      ]
    },
    {
      "cell_type": "markdown",
      "metadata": {
        "id": "fmM1406-32ZB"
      },
      "source": [
        "## **Pra-pemrosesan**"
      ]
    },
    {
      "cell_type": "markdown",
      "metadata": {
        "id": "md7FVc9k32ZB"
      },
      "source": [
        "### **Scaling**"
      ]
    },
    {
      "cell_type": "code",
      "execution_count": 4,
      "metadata": {
        "id": "a6Yd0-Jn32ZC"
      },
      "outputs": [],
      "source": [
        "X /= 255.0"
      ]
    },
    {
      "cell_type": "markdown",
      "metadata": {
        "id": "9TAKXVYb32ZD"
      },
      "source": [
        "### **Flatten**"
      ]
    },
    {
      "cell_type": "code",
      "execution_count": 5,
      "metadata": {
        "id": "avLcrrqv32ZE"
      },
      "outputs": [],
      "source": [
        "#images = images.values.reshape(images.shape[0], -1)"
      ]
    },
    {
      "cell_type": "markdown",
      "metadata": {
        "id": "5ev6i52R32ZE"
      },
      "source": [
        "## **Split Data**"
      ]
    },
    {
      "cell_type": "code",
      "execution_count": 6,
      "metadata": {
        "id": "Qe7LWKV632ZF"
      },
      "outputs": [],
      "source": [
        "X_train, X_test, y_train, y_test = train_test_split(X, y, test_size=0.2, random_state=42)"
      ]
    },
    {
      "cell_type": "markdown",
      "metadata": {
        "id": "_5ZWs1B832ZG"
      },
      "source": [
        "### **Ektraksi Fitur**"
      ]
    },
    {
      "cell_type": "code",
      "execution_count": 7,
      "metadata": {
        "id": "aakB5HVY32ZG"
      },
      "outputs": [],
      "source": [
        "# Inisialisasi objek PCA dengan jumlah komponen yang diinginkan (misalnya, 100 komponen)\n",
        "n_components = 200  # Ubah sesuai dengan kebutuhan Anda\n",
        "pca = PCA(n_components=n_components)\n",
        "\n",
        "# Fit-transform pada data pelatihan\n",
        "X_train_pca= pca.fit_transform(X_train)\n",
        "\n",
        "# Transformasi data pengujian\n",
        "X_test_pca = pca.transform(X_test)"
      ]
    },
    {
      "cell_type": "markdown",
      "metadata": {
        "id": "yHovFxwh32ZH"
      },
      "source": [
        "## **Arsitektur Model ANN**"
      ]
    },
    {
      "cell_type": "code",
      "execution_count": 8,
      "metadata": {
        "id": "433R3CH732ZI"
      },
      "outputs": [],
      "source": [
        "model = models.Sequential([\n",
        "    layers.Flatten(input_shape=(n_components,)),\n",
        "    #layers.Input(shape = n_components),\n",
        "    layers.Dense(n_components, activation='relu'),\n",
        "    layers.Dense(64, activation='relu'),\n",
        "    layers.Dense(10, activation='softmax')\n",
        "])"
      ]
    },
    {
      "cell_type": "markdown",
      "metadata": {
        "id": "8_FbiSY732ZI"
      },
      "source": [
        "## **Kompilasi Model**"
      ]
    },
    {
      "cell_type": "code",
      "execution_count": 9,
      "metadata": {
        "id": "VVb_AfDj2ZHL"
      },
      "outputs": [],
      "source": [
        "learning_rate = 0.001\n",
        "optimizer = Adam(learning_rate=learning_rate)\n",
        "\n",
        "model.compile(optimizer=optimizer,\n",
        "              loss='sparse_categorical_crossentropy',\n",
        "              metrics=['accuracy'])"
      ]
    },
    {
      "cell_type": "code",
      "execution_count": 12,
      "metadata": {
        "colab": {
          "base_uri": "https://localhost:8080/"
        },
        "id": "KAnc8llEo0wh",
        "outputId": "a264ac95-ba0b-4852-814a-47000e985a25"
      },
      "outputs": [
        {
          "name": "stdout",
          "output_type": "stream",
          "text": [
            "Model: \"sequential\"\n",
            "_________________________________________________________________\n",
            " Layer (type)                Output Shape              Param #   \n",
            "=================================================================\n",
            " flatten (Flatten)           (None, 200)               0         \n",
            "                                                                 \n",
            " dense (Dense)               (None, 200)               40200     \n",
            "                                                                 \n",
            " dense_1 (Dense)             (None, 64)                12864     \n",
            "                                                                 \n",
            " dense_2 (Dense)             (None, 10)                650       \n",
            "                                                                 \n",
            "=================================================================\n",
            "Total params: 53714 (209.82 KB)\n",
            "Trainable params: 53714 (209.82 KB)\n",
            "Non-trainable params: 0 (0.00 Byte)\n",
            "_________________________________________________________________\n"
          ]
        }
      ],
      "source": [
        "model.summary()"
      ]
    },
    {
      "cell_type": "markdown",
      "metadata": {
        "id": "IGHsQu3u32ZL"
      },
      "source": [
        "## **Training Model**"
      ]
    },
    {
      "cell_type": "code",
      "execution_count": 13,
      "metadata": {
        "colab": {
          "base_uri": "https://localhost:8080/"
        },
        "id": "aGr_i3Kr32ZM",
        "outputId": "9c545231-4d36-4784-c6f7-562ebaf67fa3"
      },
      "outputs": [
        {
          "name": "stdout",
          "output_type": "stream",
          "text": [
            "Epoch 1/20\n",
            "1400/1400 [==============================] - 4s 2ms/step - loss: 0.2640 - accuracy: 0.9259 - val_loss: 0.1364 - val_accuracy: 0.9568\n",
            "Epoch 2/20\n",
            "1400/1400 [==============================] - 2s 2ms/step - loss: 0.0882 - accuracy: 0.9733 - val_loss: 0.0961 - val_accuracy: 0.9701\n",
            "Epoch 3/20\n",
            "1400/1400 [==============================] - 3s 2ms/step - loss: 0.0496 - accuracy: 0.9853 - val_loss: 0.1015 - val_accuracy: 0.9707\n",
            "Epoch 4/20\n",
            "1400/1400 [==============================] - 2s 2ms/step - loss: 0.0334 - accuracy: 0.9900 - val_loss: 0.1003 - val_accuracy: 0.9710\n",
            "Epoch 5/20\n",
            "1400/1400 [==============================] - 2s 2ms/step - loss: 0.0196 - accuracy: 0.9941 - val_loss: 0.1026 - val_accuracy: 0.9719\n",
            "Epoch 6/20\n",
            "1400/1400 [==============================] - 2s 2ms/step - loss: 0.0166 - accuracy: 0.9950 - val_loss: 0.1074 - val_accuracy: 0.9728\n",
            "Epoch 7/20\n",
            "1400/1400 [==============================] - 2s 2ms/step - loss: 0.0147 - accuracy: 0.9951 - val_loss: 0.1299 - val_accuracy: 0.9694\n",
            "Epoch 8/20\n",
            "1400/1400 [==============================] - 2s 2ms/step - loss: 0.0101 - accuracy: 0.9967 - val_loss: 0.1367 - val_accuracy: 0.9696\n",
            "Epoch 9/20\n",
            "1400/1400 [==============================] - 2s 2ms/step - loss: 0.0127 - accuracy: 0.9960 - val_loss: 0.1381 - val_accuracy: 0.9717\n",
            "Epoch 10/20\n",
            "1400/1400 [==============================] - 2s 2ms/step - loss: 0.0103 - accuracy: 0.9966 - val_loss: 0.1198 - val_accuracy: 0.9759\n",
            "Epoch 11/20\n",
            "1400/1400 [==============================] - 2s 2ms/step - loss: 0.0072 - accuracy: 0.9979 - val_loss: 0.1267 - val_accuracy: 0.9744\n",
            "Epoch 12/20\n",
            "1400/1400 [==============================] - 2s 2ms/step - loss: 0.0098 - accuracy: 0.9968 - val_loss: 0.1604 - val_accuracy: 0.9695\n",
            "Epoch 13/20\n",
            "1400/1400 [==============================] - 3s 2ms/step - loss: 0.0076 - accuracy: 0.9977 - val_loss: 0.1509 - val_accuracy: 0.9733\n",
            "Epoch 14/20\n",
            "1400/1400 [==============================] - 3s 2ms/step - loss: 0.0090 - accuracy: 0.9970 - val_loss: 0.1603 - val_accuracy: 0.9711\n",
            "Epoch 15/20\n",
            "1400/1400 [==============================] - 2s 2ms/step - loss: 0.0094 - accuracy: 0.9966 - val_loss: 0.1650 - val_accuracy: 0.9709\n",
            "Epoch 16/20\n",
            "1400/1400 [==============================] - 2s 2ms/step - loss: 0.0051 - accuracy: 0.9983 - val_loss: 0.1637 - val_accuracy: 0.9706\n",
            "Epoch 17/20\n",
            "1400/1400 [==============================] - 2s 2ms/step - loss: 0.0059 - accuracy: 0.9981 - val_loss: 0.1818 - val_accuracy: 0.9716\n",
            "Epoch 18/20\n",
            "1400/1400 [==============================] - 2s 2ms/step - loss: 0.0076 - accuracy: 0.9977 - val_loss: 0.1609 - val_accuracy: 0.9749\n",
            "Epoch 19/20\n",
            "1400/1400 [==============================] - 2s 2ms/step - loss: 0.0063 - accuracy: 0.9981 - val_loss: 0.1786 - val_accuracy: 0.9735\n",
            "Epoch 20/20\n",
            "1400/1400 [==============================] - 2s 2ms/step - loss: 0.0073 - accuracy: 0.9979 - val_loss: 0.1666 - val_accuracy: 0.9737\n"
          ]
        }
      ],
      "source": [
        "history = model.fit(X_train_pca, y_train, epochs=20, validation_split=0.2)"
      ]
    },
    {
      "cell_type": "code",
      "execution_count": 14,
      "metadata": {
        "colab": {
          "base_uri": "https://localhost:8080/"
        },
        "id": "YXAWuwJz32ZN",
        "outputId": "3c7a790c-85b2-4e54-f8e7-74be2ea58772"
      },
      "outputs": [
        {
          "name": "stdout",
          "output_type": "stream",
          "text": [
            "Loss:\n",
            "[0.2640492022037506, 0.0882457047700882, 0.049585457891225815, 0.03344859927892685, 0.019633958116173744, 0.01655232533812523, 0.014722315594553947, 0.010108007118105888, 0.012728027999401093, 0.010342735797166824, 0.007207653019577265, 0.009845341555774212, 0.00761457858607173, 0.008994377218186855, 0.009434684179723263, 0.005136293359100819, 0.005870066583156586, 0.007578776217997074, 0.006266801152378321, 0.0073263454250991344]\n",
            "Validation Loss:\n",
            "[0.13639821112155914, 0.09614657610654831, 0.10145855695009232, 0.10031414777040482, 0.1025601327419281, 0.10743188112974167, 0.12993842363357544, 0.13666163384914398, 0.13809439539909363, 0.11982482671737671, 0.12666258215904236, 0.16035504639148712, 0.15093842148780823, 0.16028465330600739, 0.1649852693080902, 0.16366489231586456, 0.1817604899406433, 0.16094166040420532, 0.17856401205062866, 0.16660308837890625]\n",
            "Accuracy:\n",
            "[0.9258705377578735, 0.9733259081840515, 0.9852901697158813, 0.9900223016738892, 0.9941071271896362, 0.9950446486473083, 0.9951115846633911, 0.9967187643051147, 0.9959598183631897, 0.9965624809265137, 0.9978794455528259, 0.9968080520629883, 0.9976562261581421, 0.9970312714576721, 0.9965848326683044, 0.9983258843421936, 0.9981026649475098, 0.9977008700370789, 0.998058021068573, 0.9978571534156799]\n",
            "Validation Accuracy:\n",
            "[0.9567857384681702, 0.9700892567634583, 0.970714271068573, 0.9709821343421936, 0.971875011920929, 0.9727678298950195, 0.9693750143051147, 0.9696428775787354, 0.9716964364051819, 0.9758928418159485, 0.9743750095367432, 0.9694643020629883, 0.9733035564422607, 0.9710714221000671, 0.9708928465843201, 0.9706249833106995, 0.9716071486473083, 0.9749107360839844, 0.9734821319580078, 0.9737499952316284]\n"
          ]
        }
      ],
      "source": [
        "# Kemudian Anda dapat mengakses informasi seperti ini:\n",
        "loss = history.history['loss']  # Histori nilai loss pada setiap epoch\n",
        "val_loss = history.history['val_loss']  # Histori nilai loss pada setiap epoch saat validasi\n",
        "accuracy = history.history['accuracy']  # Histori nilai akurasi pada setiap epoch\n",
        "val_accuracy = history.history['val_accuracy']  # Histori nilai akurasi pada setiap epoch saat validasi\n",
        "\n",
        "print(\"Loss:\")\n",
        "print(loss)\n",
        "\n",
        "print(\"Validation Loss:\")\n",
        "print(val_loss)\n",
        "\n",
        "print(\"Accuracy:\")\n",
        "print(accuracy)\n",
        "\n",
        "print(\"Validation Accuracy:\")\n",
        "print(val_accuracy)"
      ]
    },
    {
      "cell_type": "markdown",
      "metadata": {
        "id": "rKcdSI1832ZO"
      },
      "source": [
        "## **Evaluasi Model**"
      ]
    },
    {
      "cell_type": "markdown",
      "metadata": {
        "id": "iYN4_oF4okOs"
      },
      "source": [
        "**Membuat Prediksi**"
      ]
    },
    {
      "cell_type": "code",
      "execution_count": 15,
      "metadata": {
        "colab": {
          "base_uri": "https://localhost:8080/",
          "height": 825
        },
        "id": "oLBBp23sowFr",
        "outputId": "bbea5b52-f586-4728-f011-e01a47b6d7a3"
      },
      "outputs": [
        {
          "name": "stdout",
          "output_type": "stream",
          "text": [
            "438/438 [==============================] - 1s 2ms/step\n"
          ]
        },
        {
          "data": {
            "image/png": "[encoded data removed]",
            "text/plain": [
              "<Figure size 1200x800 with 15 Axes>"
            ]
          },
          "metadata": {},
          "output_type": "display_data"
        }
      ],
      "source": [
        "# Membuat prediksi pada data pengujian\n",
        "predictions = model.predict(X_test_pca)\n",
        "y_pred = np.argmax(predictions, axis=1)\n",
        "\n",
        "# Menampilkan beberapa contoh hasil prediksi\n",
        "num_examples_to_show = 15  # Ubah sesuai kebutuhan\n",
        "\n",
        "# Mengatur tata letak subplot menjadi 3 baris dan 5 kolom (3x5)\n",
        "fig, axes = plt.subplots(3, 5, figsize=(12, 8))\n",
        "fig.subplots_adjust(hspace=0.5)\n",
        "\n",
        "for i in range(num_examples_to_show):\n",
        "    sample_image = X_test.iloc[i].values\n",
        "    actual_label = y_test.iloc[i]\n",
        "    predicted_label = y_pred[i]\n",
        "\n",
        "    # Menampilkan gambar di subplot yang sesuai\n",
        "    ax = axes[i // 5, i % 5]\n",
        "    ax.imshow(sample_image.reshape(28, 28), cmap='gray')\n",
        "\n",
        "    # Memeriksa apakah label sesuai\n",
        "    if actual_label == predicted_label:\n",
        "        title_color = 'black'\n",
        "    else:\n",
        "        title_color = 'red'\n",
        "\n",
        "    ax.set_title(f\"Actual: {actual_label}\\nPredicted: {predicted_label}\")\n",
        "    ax.axis('off')\n",
        "\n",
        "plt.tight_layout()\n",
        "plt.show()"
      ]
    },
    {
      "cell_type": "markdown",
      "metadata": {
        "id": "-OC0vOIw32ZS"
      },
      "source": [
        "### **Akurasi**"
      ]
    },
    {
      "cell_type": "code",
      "execution_count": 16,
      "metadata": {
        "colab": {
          "base_uri": "https://localhost:8080/"
        },
        "id": "H4zqiGQC32ZT",
        "outputId": "2887e536-5f15-444e-8b8a-872765c83f53"
      },
      "outputs": [
        {
          "name": "stdout",
          "output_type": "stream",
          "text": [
            "438/438 [==============================] - 1s 1ms/step - loss: 0.1875 - accuracy: 0.9724\n",
            "Akurasi pada data pengujian: 0.97\n"
          ]
        }
      ],
      "source": [
        "test_loss, test_acc = model.evaluate(X_test_pca, y_test)\n",
        "print(f'Akurasi pada data pengujian: {test_acc:.2f}')"
      ]
    },
    {
      "cell_type": "code",
      "execution_count": 17,
      "metadata": {
        "colab": {
          "base_uri": "https://localhost:8080/"
        },
        "id": "-TG91GDm32ZU",
        "outputId": "dc4e4c5e-26fb-449c-eb7e-79e05d552e24"
      },
      "outputs": [
        {
          "name": "stdout",
          "output_type": "stream",
          "text": [
            "1750/1750 [==============================] - 3s 2ms/step - loss: 0.0344 - accuracy: 0.9944\n",
            "Akurasi pada data pelatihan: 0.99\n"
          ]
        }
      ],
      "source": [
        "train_loss, train_acc = model.evaluate(X_train_pca, y_train)\n",
        "print(f'Akurasi pada data pelatihan: {train_acc:.2f}')"
      ]
    },
    {
      "cell_type": "markdown",
      "metadata": {
        "id": "E7yohlat32ZV"
      },
      "source": [
        "### **Confusion Matriks**"
      ]
    },
    {
      "cell_type": "code",
      "execution_count": 21,
      "metadata": {
        "colab": {
          "base_uri": "https://localhost:8080/"
        },
        "id": "-YXep6qT32ZW",
        "outputId": "09541bb3-d83f-4330-f06d-4f1ff10d07f6"
      },
      "outputs": [
        {
          "name": "stdout",
          "output_type": "stream",
          "text": [
            "Matriks Kebingungan:\n",
            "[[1308    1    2    1    3    3   11    8    5    1]\n",
            " [   0 1585    3    2    2    0    0    7    1    0]\n",
            " [   0    6 1349    3    3    0    2    6    9    2]\n",
            " [   1    1   13 1386    0   15    0    6    7    4]\n",
            " [   0    0    3    1 1262    0    6    2    4   17]\n",
            " [   2    3    0   14    2 1222   11    2   13    4]\n",
            " [   5    3    1    1    2    3 1376    0    5    0]\n",
            " [   2    1   16    0    5    1    1 1460    3   14]\n",
            " [   4    8    9    6    4    5    3    4 1307    7]\n",
            " [   4    3    2    8   18    3    0   10   13 1359]]\n"
          ]
        }
      ],
      "source": [
        "# Membuat matriks kebingungan\n",
        "confusion = confusion_matrix(y_test, y_pred)\n",
        "print('Matriks Kebingungan:')\n",
        "print(confusion)"
      ]
    },
    {
      "cell_type": "markdown",
      "metadata": {
        "id": "GtJ_jad832ZX"
      },
      "source": [
        "### **Konfigurasi Model**\n",
        "\n",
        "*   **Lapisan Input**: Lapisan ini menerima representasi gambar setelah reduksi dimensi PCA, dan meratakan data menjadi satu dimensi. Ini penting karena sebagian besar model ANN mengharapkan masukan dalam bentuk vektor satu dimensi.\n",
        "\n",
        "*   **Hidden Layers**: Ada dua lapisan tersembunyi dengan aktivasi ReLU. Jumlah neuron pada lapisan pertama adalah 128, dan pada lapisan kedua adalah 64. Penggunaan ReLU digunakan untuk mengatasi masalah non-linearitas.\n",
        "\n",
        "*   **Output Layer**: Lapisan keluaran memiliki 10 neuron, yang sesuai dengan jumlah kelas yang mungkin dalam klasifikasi digit dari 0 hingga 9. Penggunaan fungsi aktivasi softmax di lapisan ini menghasilkan probabilitas distribusi kelas, yang memungkinkan model mengeluarkan prediksi kelas yang paling mungkin.\n",
        "\n",
        "*   **Learning Rate dan Optimizer** : Learning rate sebesar 0.001 digunakan dengan optimizer Adam. Nilai ini adalah pilihan yang umum dan seringkali memberikan konvergensi yang baik dalam pelatihan. Adam adalah optimizer yang efisien dan adaptif yang banyak digunakan dalam deep learning.\n",
        "\n",
        "*   **Fungsi Kerugian** ('sparse_categorical_crossentropy'): Fungsi kerugian yang digunakan 'sparse_categorical_crossentropy'. Fungsi ini mengukur kesalahan dalam klasifikasi dan membantu model untuk mengoptimalkan prediksi kelas.\n"
      ]
    }
  ],
  "metadata": {
    "colab": {
      "authorship_tag": "ABX9TyOzn8amrkFcXXDVtLhhKArf",
      "include_colab_link": true,
      "provenance": []
    },
    "kernelspec": {
      "display_name": "Python 3",
      "name": "python3"
    },
    "language_info": {
      "codemirror_mode": {
        "name": "ipython",
        "version": 3
      },
      "file_extension": ".py",
      "mimetype": "text/x-python",
      "name": "python",
      "nbconvert_exporter": "python",
      "pygments_lexer": "ipython3",
      "version": "3.11.4"
    }
  },
  "nbformat": 4,
  "nbformat_minor": 0
}
