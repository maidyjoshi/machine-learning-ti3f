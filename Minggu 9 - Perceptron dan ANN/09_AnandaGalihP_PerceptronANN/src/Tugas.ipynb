{
  "nbformat": 4,
  "nbformat_minor": 0,
  "metadata": {
    "colab": {
      "provenance": []
    },
    "kernelspec": {
      "name": "python3",
      "display_name": "Python 3"
    },
    "language_info": {
      "name": "python"
    }
  },
  "cells": [
    {
      "cell_type": "markdown",
      "source": [
        "# Tugas\n",
        "- Lakukan klasifikasi pada data MNIST dengan menggunakan model ANN\n",
        "- Anda diperbolehkan melakukan eksplorasi terhadap,\n",
        "  - Metode pra pengolahan\n",
        "  - Pemilihan fitur\n",
        "  - Arsitektur ANN\n",
        "  - Fungsi Aktiviasi\n",
        "- ANN diimplementasikan dengan menggunakan tensorflow.\n",
        "- DIKERJAKAN SECARA BERKELOMPOK\n",
        "- JELASKAN HASIL YANG ANDA DAPATKAN,\n",
        "  - AKURASI\n",
        "  - CONFUSION MATRIX\n",
        "  - KONFIGURASI MODEL --> MULAI DARI PRA PENGOLAHAN SAMPAI ARSITEKTUR ANN"
      ],
      "metadata": {
        "id": "2s84JzKsJ0yL"
      }
    },
    {
      "cell_type": "code",
      "source": [
        "# connect ke drive\n",
        "from google.colab import drive\n",
        "drive.mount('/content/drive')"
      ],
      "metadata": {
        "colab": {
          "base_uri": "https://localhost:8080/"
        },
        "id": "Z0ReTsuG7NW8",
        "outputId": "d11eeee7-5418-4a41-eec9-a3af53a9ec93"
      },
      "execution_count": 5,
      "outputs": [
        {
          "output_type": "stream",
          "name": "stdout",
          "text": [
            "Drive already mounted at /content/drive; to attempt to forcibly remount, call drive.mount(\"/content/drive\", force_remount=True).\n"
          ]
        }
      ]
    },
    {
      "cell_type": "code",
      "source": [
        "import numpy as np  # Mengimpor library NumPy untuk manipulasi data numerik.\n",
        "from sklearn.pipeline import make_pipeline  # Mengimpor make_pipeline untuk membuat pipeline pemrosesan data.\n",
        "from sklearn.preprocessing import MinMaxScaler  # Mengimpor MinMaxScaler untuk penskalaan data.\n",
        "from sklearn import datasets  # Mengimpor datasets dari Scikit-Learn untuk mengakses dataset bawaan.\n",
        "from sklearn.model_selection import train_test_split  # Mengimpor train_test_split untuk membagi data menjadi data latih dan data uji.\n",
        "import matplotlib.pyplot as plt  # Mengimpor matplotlib.pyplot untuk visualisasi data.\n",
        "from sklearn.svm import SVC  # Mengimpor Support Vector Classifier (SVC) dari Scikit-Learn.\n",
        "from sklearn.decomposition import PCA as RandomizedPCA  # Mengimpor Principal Component Analysis (PCA) dari Scikit-Learn dengan alias RandomizedPCA.\n",
        "from sklearn.naive_bayes import GaussianNB  # Mengimpor Naive Bayes classifier dari Scikit-Learn.\n",
        "from sklearn.metrics import accuracy_score, classification_report, confusion_matrix  # Mengimpor metrik evaluasi klasifikasi.\n",
        "from sklearn.datasets import fetch_openml  # Mengimpor fetch_openml dari Scikit-Learn untuk mengakses dataset dari OpenML."
      ],
      "metadata": {
        "id": "zBbM1VDSLtVV"
      },
      "execution_count": 20,
      "outputs": []
    },
    {
      "cell_type": "code",
      "source": [
        "# Mengambil dataset MNIST dari OpenML menggunakan datasets.fetch_openml()\n",
        "mnist = datasets.fetch_openml(\"mnist_784\")\n",
        "\n",
        "# Menampilkan jumlah sampel atau data points dalam dataset MNIST\n",
        "print(\"Jumlah sampel:\", mnist.data.shape[0])  # Jumlah sampel/data points\n",
        "\n",
        "# Menampilkan dimensi dari setiap sampel dalam dataset MNIST\n",
        "print(\"Dimensi setiap sampel:\", mnist.data.shape[1])  # Dimensi setiap sampel\n",
        "\n",
        "# Menampilkan jumlah kelas yang ada dalam dataset MNIST dengan menghitung jumlah nilai unik pada target\n",
        "print(\"Jumlah kelas:\", len(mnist.target.unique()))\n"
      ],
      "metadata": {
        "colab": {
          "base_uri": "https://localhost:8080/"
        },
        "id": "68xCtpjyL56M",
        "outputId": "18bba8cf-ebf6-42e1-9c39-9eb3a6a6e992"
      },
      "execution_count": 21,
      "outputs": [
        {
          "output_type": "stream",
          "name": "stderr",
          "text": [
            "/usr/local/lib/python3.10/dist-packages/sklearn/datasets/_openml.py:968: FutureWarning: The default value of `parser` will change from `'liac-arff'` to `'auto'` in 1.4. You can set `parser='auto'` to silence this warning. Therefore, an `ImportError` will be raised from 1.4 if the dataset is dense and pandas is not installed. Note that the pandas parser may return different data types. See the Notes Section in fetch_openml's API doc for details.\n",
            "  warn(\n"
          ]
        },
        {
          "output_type": "stream",
          "name": "stdout",
          "text": [
            "Jumlah sampel: 70000\n",
            "Dimensi setiap sampel: 784\n",
            "Jumlah kelas: 10\n"
          ]
        }
      ]
    },
    {
      "cell_type": "code",
      "source": [
        "# Eksplorasi Dataset\n",
        "\n",
        "# Menghitung jumlah masing-masing label dalam dataset MNIST\n",
        "labels, counts = np.unique(mnist.target, return_counts=True)\n",
        "print(\"Jumlah data setiap label:\")\n",
        "for label, count in zip(labels, counts):\n",
        "    print(f\"Label {label}: {count} data\")\n",
        "\n",
        "# Membuat visualisasi distribusi label dalam dataset MNIST menggunakan diagram batang\n",
        "plt.figure(figsize=(10, 6))\n",
        "plt.bar(labels, counts, tick_label=labels)\n",
        "\n",
        "# Menambahkan label pada sumbu x dan y serta judul pada plot\n",
        "plt.xlabel('Label')\n",
        "plt.ylabel('Count')\n",
        "plt.title('Distribution of Labels in MNIST Dataset')\n",
        "\n",
        "# Menampilkan plot\n",
        "plt.show()"
      ],
      "metadata": {
        "colab": {
          "base_uri": "https://localhost:8080/",
          "height": 639
        },
        "id": "8GIWQwNUMhok",
        "outputId": "dd153f92-e079-4f8b-8a11-61a4e5c62934"
      },
      "execution_count": 22,
      "outputs": [
        {
          "output_type": "stream",
          "name": "stdout",
          "text": [
            "Jumlah data setiap label:\n",
            "Label 0: 6903 data\n",
            "Label 1: 7877 data\n",
            "Label 2: 6990 data\n",
            "Label 3: 7141 data\n",
            "Label 4: 6824 data\n",
            "Label 5: 6313 data\n",
            "Label 6: 6876 data\n",
            "Label 7: 7293 data\n",
            "Label 8: 6825 data\n",
            "Label 9: 6958 data\n"
          ]
        },
        {
          "output_type": "display_data",
          "data": {
            "text/plain": [
              "<Figure size 1000x600 with 1 Axes>"
            ],
            "image/png": "[encoded data removed]"
          },
          "metadata": {}
        }
      ]
    },
    {
      "cell_type": "code",
      "source": [
        "# Mengonversi data MNIST ke tipe data float32\n",
        "X = mnist.data.astype('float32')\n",
        "\n",
        "# Mengonversi target MNIST ke tipe data integer (int)\n",
        "y = mnist.target.astype('int')\n",
        "\n",
        "# Menampilkan dimensi dari data X\n",
        "X.shape"
      ],
      "metadata": {
        "colab": {
          "base_uri": "https://localhost:8080/"
        },
        "id": "WF1wbIMVMv5Z",
        "outputId": "01b5cfc5-b7cb-47f4-c384-94807e28eb47"
      },
      "execution_count": 24,
      "outputs": [
        {
          "output_type": "execute_result",
          "data": {
            "text/plain": [
              "(70000, 784)"
            ]
          },
          "metadata": {},
          "execution_count": 24
        }
      ]
    },
    {
      "cell_type": "code",
      "source": [
        "# Membuat objek MinMaxScaler untuk melakukan penskalaan data\n",
        "scalling = MinMaxScaler()\n",
        "\n",
        "# Melakukan penskalaan data pada X menggunakan MinMaxScaler\n",
        "X_scalling = scalling.fit_transform(X)\n",
        "\n",
        "# Menampilkan lima baris pertama dari data yang telah discaling\n",
        "print(X_scalling[:5])"
      ],
      "metadata": {
        "colab": {
          "base_uri": "https://localhost:8080/"
        },
        "id": "s_7ZBp1hNJXu",
        "outputId": "8d4ca82b-e5c3-4ae9-937f-4263af532ea8"
      },
      "execution_count": 25,
      "outputs": [
        {
          "output_type": "stream",
          "name": "stdout",
          "text": [
            "[[0. 0. 0. ... 0. 0. 0.]\n",
            " [0. 0. 0. ... 0. 0. 0.]\n",
            " [0. 0. 0. ... 0. 0. 0.]\n",
            " [0. 0. 0. ... 0. 0. 0.]\n",
            " [0. 0. 0. ... 0. 0. 0.]]\n"
          ]
        }
      ]
    },
    {
      "cell_type": "code",
      "source": [
        "# Ekstraksi Fitur PCA\n",
        "\n",
        "# Mengimpor modul GridSearchCV dari library Scikit-Learn untuk pencarian hiperparameter\n",
        "from sklearn.model_selection import GridSearchCV\n",
        "\n",
        "# Menentukan jumlah komponen utama (principal components) yang akan digunakan dalam PCA\n",
        "n_components = 200\n",
        "\n",
        "# Membuat objek PCA (Principal Component Analysis) dengan parameter yang telah ditentukan\n",
        "pca = RandomizedPCA(n_components=n_components, whiten=True, random_state=42)\n",
        "\n",
        "# Melakukan PCA (reduksi dimensi) pada data yang telah discaling (X_scalling)\n",
        "X_pca = pca.fit_transform(X_scalling)\n",
        "\n",
        "# Memisahkan data menjadi data latih dan data uji menggunakan train_test_split\n",
        "X_train, X_test, y_train, y_test = train_test_split(X_pca, y, test_size=0.2, random_state=42)"
      ],
      "metadata": {
        "id": "ZAlYg8UiNRVY"
      },
      "execution_count": 27,
      "outputs": []
    },
    {
      "cell_type": "code",
      "source": [
        "# Flattening\n",
        "\n",
        "# Mengubah bentuk (reshape) data X_pca menjadi bentuk yang datar (flattened)\n",
        "X_flattened = X_pca.reshape(X_pca.shape[0], -1)"
      ],
      "metadata": {
        "id": "Py5plSBjNh67"
      },
      "execution_count": 28,
      "outputs": []
    },
    {
      "cell_type": "code",
      "source": [
        "# Buat Model ANN\n",
        "\n",
        "import tensorflow as tf\n",
        "from tensorflow import keras"
      ],
      "metadata": {
        "id": "wOnJPmbJNqHL"
      },
      "execution_count": 29,
      "outputs": []
    },
    {
      "cell_type": "code",
      "source": [
        "# Membuat objek model Sequential, yang merupakan kerangka dasar untuk membangun model neural network\n",
        "model = keras.Sequential([\n",
        "    # Input layer dengan Flatten untuk mengubah data menjadi vektor datar dengan panjang n_components\n",
        "    keras.layers.Flatten(input_shape=(n_components,)),\n",
        "\n",
        "    # Hidden layer pertama dengan 128 neuron dan fungsi aktivasi ReLU\n",
        "    keras.layers.Dense(128, activation='relu'),\n",
        "\n",
        "    # Hidden layer kedua dengan 64 neuron dan fungsi aktivasi ReLU\n",
        "    keras.layers.Dense(64, activation='relu'),\n",
        "\n",
        "    # Output layer dengan 10 neuron (sesuai dengan jumlah kelas) dan fungsi aktivasi softmax\n",
        "    keras.layers.Dense(10, activation='softmax')\n",
        "])\n",
        "\n",
        "# Menampilkan ringkasan model, termasuk informasi tentang setiap lapisan\n",
        "model.summary()"
      ],
      "metadata": {
        "colab": {
          "base_uri": "https://localhost:8080/"
        },
        "id": "2U5qrCn6N2WY",
        "outputId": "9e860627-179f-4cf5-ae1c-839974e5b488"
      },
      "execution_count": 30,
      "outputs": [
        {
          "output_type": "stream",
          "name": "stdout",
          "text": [
            "Model: \"sequential_1\"\n",
            "_________________________________________________________________\n",
            " Layer (type)                Output Shape              Param #   \n",
            "=================================================================\n",
            " flatten (Flatten)           (None, 200)               0         \n",
            "                                                                 \n",
            " dense_3 (Dense)             (None, 128)               25728     \n",
            "                                                                 \n",
            " dense_4 (Dense)             (None, 64)                8256      \n",
            "                                                                 \n",
            " dense_5 (Dense)             (None, 10)                650       \n",
            "                                                                 \n",
            "=================================================================\n",
            "Total params: 34634 (135.29 KB)\n",
            "Trainable params: 34634 (135.29 KB)\n",
            "Non-trainable params: 0 (0.00 Byte)\n",
            "_________________________________________________________________\n"
          ]
        }
      ]
    },
    {
      "cell_type": "code",
      "source": [
        "# Training Model\n",
        "\n",
        "# Mengompilasi model neural network dengan pengaturan optimizer, loss function, dan metrik evaluasi\n",
        "model.compile(optimizer='adam',  # Menggunakan optimizer Adam untuk optimisasi\n",
        "              loss='sparse_categorical_crossentropy',  # Menggunakan loss function sparse_categorical_crossentropy untuk masalah klasifikasi\n",
        "              metrics=['accuracy'])  # Menyertakan metrik akurasi sebagai metrik evaluasi"
      ],
      "metadata": {
        "id": "fGhg-o39N8cU"
      },
      "execution_count": 31,
      "outputs": []
    },
    {
      "cell_type": "code",
      "source": [
        "# Melatih model neural network menggunakan data latih (X_train dan y_train)\n",
        "history = model.fit(X_train, y_train, epochs=20, batch_size=64, validation_split=0.2)"
      ],
      "metadata": {
        "colab": {
          "base_uri": "https://localhost:8080/"
        },
        "id": "66Nzn2a0OdMh",
        "outputId": "5f70d0cd-ff2a-46c0-f938-0f3ec3fa166b"
      },
      "execution_count": 32,
      "outputs": [
        {
          "output_type": "stream",
          "name": "stdout",
          "text": [
            "Epoch 1/20\n",
            "700/700 [==============================] - 5s 5ms/step - loss: 0.5772 - accuracy: 0.8267 - val_loss: 0.2482 - val_accuracy: 0.9265\n",
            "Epoch 2/20\n",
            "700/700 [==============================] - 2s 4ms/step - loss: 0.1733 - accuracy: 0.9499 - val_loss: 0.1940 - val_accuracy: 0.9430\n",
            "Epoch 3/20\n",
            "700/700 [==============================] - 2s 3ms/step - loss: 0.1044 - accuracy: 0.9694 - val_loss: 0.1756 - val_accuracy: 0.9479\n",
            "Epoch 4/20\n",
            "700/700 [==============================] - 3s 4ms/step - loss: 0.0666 - accuracy: 0.9805 - val_loss: 0.1722 - val_accuracy: 0.9509\n",
            "Epoch 5/20\n",
            "700/700 [==============================] - 3s 5ms/step - loss: 0.0416 - accuracy: 0.9884 - val_loss: 0.1865 - val_accuracy: 0.9489\n",
            "Epoch 6/20\n",
            "700/700 [==============================] - 3s 4ms/step - loss: 0.0287 - accuracy: 0.9921 - val_loss: 0.1955 - val_accuracy: 0.9496\n",
            "Epoch 7/20\n",
            "700/700 [==============================] - 3s 4ms/step - loss: 0.0197 - accuracy: 0.9946 - val_loss: 0.2068 - val_accuracy: 0.9475\n",
            "Epoch 8/20\n",
            "700/700 [==============================] - 2s 4ms/step - loss: 0.0196 - accuracy: 0.9942 - val_loss: 0.2241 - val_accuracy: 0.9480\n",
            "Epoch 9/20\n",
            "700/700 [==============================] - 2s 3ms/step - loss: 0.0154 - accuracy: 0.9952 - val_loss: 0.2272 - val_accuracy: 0.9481\n",
            "Epoch 10/20\n",
            "700/700 [==============================] - 3s 5ms/step - loss: 0.0167 - accuracy: 0.9947 - val_loss: 0.2468 - val_accuracy: 0.9479\n",
            "Epoch 11/20\n",
            "700/700 [==============================] - 3s 5ms/step - loss: 0.0138 - accuracy: 0.9953 - val_loss: 0.2278 - val_accuracy: 0.9540\n",
            "Epoch 12/20\n",
            "700/700 [==============================] - 3s 4ms/step - loss: 0.0086 - accuracy: 0.9975 - val_loss: 0.2469 - val_accuracy: 0.9531\n",
            "Epoch 13/20\n",
            "700/700 [==============================] - 3s 5ms/step - loss: 0.0142 - accuracy: 0.9948 - val_loss: 0.2531 - val_accuracy: 0.9518\n",
            "Epoch 14/20\n",
            "700/700 [==============================] - 7s 11ms/step - loss: 0.0104 - accuracy: 0.9964 - val_loss: 0.2548 - val_accuracy: 0.9540\n",
            "Epoch 15/20\n",
            "700/700 [==============================] - 5s 7ms/step - loss: 0.0122 - accuracy: 0.9957 - val_loss: 0.2760 - val_accuracy: 0.9524\n",
            "Epoch 16/20\n",
            "700/700 [==============================] - 4s 6ms/step - loss: 0.0101 - accuracy: 0.9962 - val_loss: 0.2764 - val_accuracy: 0.9526\n",
            "Epoch 17/20\n",
            "700/700 [==============================] - 4s 6ms/step - loss: 0.0103 - accuracy: 0.9965 - val_loss: 0.3031 - val_accuracy: 0.9520\n",
            "Epoch 18/20\n",
            "700/700 [==============================] - 3s 4ms/step - loss: 0.0112 - accuracy: 0.9962 - val_loss: 0.2891 - val_accuracy: 0.9529\n",
            "Epoch 19/20\n",
            "700/700 [==============================] - 3s 4ms/step - loss: 0.0061 - accuracy: 0.9980 - val_loss: 0.2934 - val_accuracy: 0.9529\n",
            "Epoch 20/20\n",
            "700/700 [==============================] - 2s 3ms/step - loss: 0.0083 - accuracy: 0.9974 - val_loss: 0.3082 - val_accuracy: 0.9519\n"
          ]
        }
      ]
    },
    {
      "cell_type": "code",
      "source": [
        "# Menggunakan model untuk mengevaluasi data uji (X_test dan y_test)\n",
        "test_loss, test_acc = model.evaluate(X_test, y_test)\n",
        "\n",
        "# Menampilkan akurasi pada data uji\n",
        "print(f\"Akurasi data uji: {test_acc:.2f}\")\n",
        "\n",
        "# Menggunakan model untuk mengevaluasi data uji (X_test dan y_test)\n",
        "test_loss, test_acc = model.evaluate(X_test, y_test)\n",
        "\n",
        "# Menampilkan akurasi pada data uji\n",
        "print(f\"Akurasi data uji: {test_acc:.2f}\")"
      ],
      "metadata": {
        "colab": {
          "base_uri": "https://localhost:8080/"
        },
        "id": "FtR1wqSGPfBq",
        "outputId": "773c9154-92b9-46b0-d926-337bc147ae3a"
      },
      "execution_count": 33,
      "outputs": [
        {
          "output_type": "stream",
          "name": "stdout",
          "text": [
            "438/438 [==============================] - 1s 2ms/step - loss: 0.3197 - accuracy: 0.9558\n",
            "Akurasi data uji: 0.96\n",
            "438/438 [==============================] - 1s 2ms/step - loss: 0.3197 - accuracy: 0.9558\n",
            "Akurasi data uji: 0.96\n"
          ]
        }
      ]
    },
    {
      "cell_type": "code",
      "source": [
        "# Melakukan prediksi dengan model pada data uji (X_test)\n",
        "predict = model.predict(X_test)\n",
        "\n",
        "# Mengambil label prediksi dengan nilai terbesar (argmax) dari setiap hasil prediksi\n",
        "prediction_labels = np.argmax(predict, axis=1)\n",
        "\n",
        "# Membangun matriks kebingungan (confusion matrix) dengan membandingkan label aktual (y_test) dan label prediksi\n",
        "confusion = confusion_matrix(y_test, prediction_labels)\n",
        "\n",
        "# Menampilkan matriks kebingungan\n",
        "print(\"Confusion Matrix\")\n",
        "print(confusion)"
      ],
      "metadata": {
        "colab": {
          "base_uri": "https://localhost:8080/"
        },
        "id": "qYhsMjWLPjDJ",
        "outputId": "a270c7c9-4711-4ba2-fab0-a71f780cfd88"
      },
      "execution_count": 34,
      "outputs": [
        {
          "output_type": "stream",
          "name": "stdout",
          "text": [
            "438/438 [==============================] - 3s 7ms/step\n",
            "Confusion Matrix\n",
            "[[1305    0    7    1    0    3   11    5    9    2]\n",
            " [   1 1575    8    3    2    0    1    6    4    0]\n",
            " [   6    5 1323    4    9    3    5   13   10    2]\n",
            " [   3    2   18 1356    2   14    0   11   17   10]\n",
            " [   0    0    9    0 1260    1    3    0    2   20]\n",
            " [   2    2    5   35    3 1181   13    1   21   10]\n",
            " [   6    4    6    0   14    8 1346    1   10    1]\n",
            " [   2    2   14    6   12    0    0 1443    3   21]\n",
            " [   6    7   18   19    4    6    7    7 1275    8]\n",
            " [   4    5    1    9   44    7    1   20   12 1317]]\n"
          ]
        }
      ]
    }
  ]
}