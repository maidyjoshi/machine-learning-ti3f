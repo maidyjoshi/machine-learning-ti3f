{
 "cells": [
  {
   "cell_type": "markdown",
   "metadata": {},
   "source": [
    "**Langkah 1-Import Library**"
   ]
  },
  {
   "cell_type": "code",
   "execution_count": 1,
   "metadata": {},
   "outputs": [
    {
     "name": "stderr",
     "output_type": "stream",
     "text": [
      "c:\\Users\\Hp\\anaconda3\\lib\\site-packages\\scipy\\__init__.py:146: UserWarning: A NumPy version >=1.16.5 and <1.23.0 is required for this version of SciPy (detected version 1.26.0\n",
      "  warnings.warn(f\"A NumPy version >={np_minversion} and <{np_maxversion}\"\n"
     ]
    }
   ],
   "source": [
    "# Melakukan Import Library\n",
    "\n",
    "import numpy as np\n",
    "import matplotlib.pyplot as plt\n",
    "import pandas as pd\n",
    "import seaborn as sns"
   ]
  },
  {
   "cell_type": "markdown",
   "metadata": {},
   "source": [
    "**Langkah 2-Load Data dan visualisasi**"
   ]
  },
  {
   "cell_type": "code",
   "execution_count": 2,
   "metadata": {},
   "outputs": [
    {
     "data": {
      "image/png": "[encoded data removed]",
      "text/plain": [
       "<Figure size 432x288 with 1 Axes>"
      ]
     },
     "metadata": {
      "needs_background": "light"
     },
     "output_type": "display_data"
    }
   ],
   "source": [
    "# Membaca data\n",
    "df = pd.read_csv('iris.csv', header=None)\n",
    "\n",
    "# Membagi dataset menjadi 3 subset\n",
    "setosa = df[df[4] == 'Iris-setosa']\n",
    "versicolor = df[df[4] == 'Iris-versicolor']\n",
    "virginica = df[df[4] == 'Iris-virginica']\n",
    "\n",
    "# Mendefinisikan  variabel a, b dengan nilai 0, 3 yang difungsikan sebagai fungsi x dan y dalam scatter plot\n",
    "a, b = 0, 3\n",
    "# Membuat scatter plot menggunakan sumbu x dan y dengan titik o berwarna merah\n",
    "plt.scatter(setosa[a], setosa[b], color='red', marker='o', label='setosa')\n",
    "# Membuat scatter plot menggunakan sumbu x dan y dengen titik x berwarna biru\n",
    "plt.scatter(versicolor[a], versicolor[b], color='blue', marker='x', label='versicolor')\n",
    "\n",
    "# Memberi label pada scatter plot sumbu x dan y \n",
    "plt.xlabel('Petal Length')\n",
    "plt.ylabel('Sepal Length')\n",
    "# Memberi label penjelasan warna dan label \n",
    "plt.legend(loc='upper left')\n",
    "# Menambahkan grid pada scatter plot\n",
    "plt.grid()\n",
    "# Menampilkan plot\n",
    "plt.show()"
   ]
  },
  {
   "cell_type": "markdown",
   "metadata": {},
   "source": [
    "**Langkah 3 - Membuat Kelas Perceptron**"
   ]
  },
  {
   "cell_type": "code",
   "execution_count": 5,
   "metadata": {},
   "outputs": [],
   "source": [
    "# Melakukan inisialisai pada objek untuk mengontrol kecepatan Perceptron dan jumlah epoch yang akan digunakan\n",
    "class Perceptron(object):\n",
    "    def __init__(self, eta=0.01, n_iter=10):\n",
    "        self.eta = eta\n",
    "        self.n_iter = n_iter\n",
    "    \n",
    "    # Melatih model x dan y\n",
    "    def fit(self, X, y):\n",
    "        \n",
    "        # Menginisialisasi bobot dengan nilai 0\n",
    "        self.w_ = np.zeros(1 + X.shape[1])\n",
    "        # Menyimpan data jumlah kesalahan klasifikasi\n",
    "        self.errors_ = []\n",
    "        \n",
    "        # Melakukan prediksi\n",
    "        for _ in range(self.n_iter):\n",
    "            errors = 0\n",
    "            for xi, target in zip(X, y):\n",
    "                update = self.eta * (target - self.predict(xi))\n",
    "                self.w_[0] += update\n",
    "                self.w_[1:] += update * xi\n",
    "                errors += int(update != 0.0)\n",
    "            self.errors_.append(errors)\n",
    "        return self\n",
    "    \n",
    "    # Menghitung hasil perkalian \n",
    "    def net_input(self, X):\n",
    "        return np.dot(X, self.w_[1:]) + self.w_[0]\n",
    "    \n",
    "    # Melakukan prediksi berdasarkan hasil yang telah dihitung oleh metode 'net_input' untuk menampilkan input yang jika lebih besar atau sama dengan 0, maka model memprediksi kelas 1, dan sebaliknya model memprediksi kelas -1\n",
    "    def predict(self, X):\n",
    "        return np.where(self.net_input(X) >= 0.0, 1, -1)"
   ]
  },
  {
   "cell_type": "markdown",
   "metadata": {},
   "source": [
    "**Langkah 4-Pilih Data dan Encoding label**"
   ]
  },
  {
   "cell_type": "code",
   "execution_count": 6,
   "metadata": {},
   "outputs": [],
   "source": [
    "# pilih 100 data awal\n",
    "y = df.iloc[0:100, 4].values \n",
    "# ganti coding label\n",
    "y = np.where(y == 'Iris-setosa', -1, 1) \n",
    "# slice data latih\n",
    "X = df.iloc[0:100, [0, 3]].values "
   ]
  },
  {
   "cell_type": "markdown",
   "metadata": {},
   "source": [
    "**Langkah 5-Fitting Model**"
   ]
  },
  {
   "cell_type": "code",
   "execution_count": 7,
   "metadata": {},
   "outputs": [
    {
     "data": {
      "text/plain": [
       "<__main__.Perceptron at 0x22002beeca0>"
      ]
     },
     "execution_count": 7,
     "metadata": {},
     "output_type": "execute_result"
    }
   ],
   "source": [
    "# Membuat objek dengan menginisialisasi parameter untuk mengukur kecepatan \n",
    "ppn = Perceptron(eta=0.1, n_iter=10)\n",
    "# Melatih model untuk melakukan prediksi berdasarkan data\n",
    "ppn.fit(X, y)"
   ]
  },
  {
   "cell_type": "markdown",
   "metadata": {},
   "source": [
    "**Langkah 6-Visualisasi Nilai Eror Per Epoch**"
   ]
  },
  {
   "cell_type": "code",
   "execution_count": 8,
   "metadata": {},
   "outputs": [
    {
     "data": {
      "image/png": "[encoded data removed]",
      "text/plain": [
       "<Figure size 432x288 with 1 Axes>"
      ]
     },
     "metadata": {
      "needs_background": "light"
     },
     "output_type": "display_data"
    }
   ],
   "source": [
    "# Membuat garis plot dari sumbu x dan y\n",
    "plt.plot(range(1, len(ppn.errors_)+1), ppn.errors_)\n",
    "# Memberi label pada sumbu x\n",
    "plt.xlabel('Epochs')\n",
    "# Memberi label pada sumbu y\n",
    "plt.ylabel('Number of updates')\n",
    "# Menampilkan plot\n",
    "plt.show()"
   ]
  },
  {
   "cell_type": "markdown",
   "metadata": {},
   "source": [
    "**Langkah 7-Visualisasi Decision Boundary**"
   ]
  },
  {
   "cell_type": "code",
   "execution_count": 9,
   "metadata": {},
   "outputs": [],
   "source": [
    "# Membuat fungsi untuk plot decision region\n",
    "\n",
    "from matplotlib.colors import ListedColormap\n",
    "\n",
    "def plot_decision_regions(X, y, classifier, resolution=0.02):\n",
    "    # Mengatur generator penanda dan peta warna\n",
    "    markers = ('s', 'x', 'o', '^', 'v')\n",
    "    colors = ('r', 'b', 'g', 'k', 'grey')\n",
    "    cmap = ListedColormap(colors[:len(np.unique(y))])\n",
    "    \n",
    "    # Wilayah plot  keputusan dengan membuat sepasang array grid xx1 dan xx2 melalui fungsi meshgrid di Numpy\n",
    "    x1_min, x1_max = X[:, 0].min() - 1, X[:, 0].max() + 1\n",
    "    x2_min, x2_max = X[:, 1].min() - 1, X[:, 1].max() + 1\n",
    "    xx1, xx2 = np.meshgrid(np.arange(x1_min, x1_max, resolution), np.arange(x2_min, x2_max, resolution))\n",
    "    \n",
    "    # Memprediksi label kelas z dari titik kisi\n",
    "    Z = classifier.predict(np.array([xx1.ravel(),xx2.ravel()]).T)\n",
    "    Z = Z.reshape(xx1.shape)\n",
    "    \n",
    "    # Menggambar kontur menggunakan matplotlib\n",
    "    plt.contourf(xx1, xx2, Z, alpha=0.4, cmap=cmap)\n",
    "    plt.xlim(xx1.min(), xx1.max())\n",
    "    plt.ylim(xx2.min(), xx2.max())\n",
    "    \n",
    "    # Memvisualisasi data\n",
    "    for i, cl in enumerate(np.unique(y)):\n",
    "        plt.scatter(x=X[y==cl, 0], y=X[y==cl, 1], alpha=0.8, c=cmap(i), marker=markers[i], label=cl)"
   ]
  }
 ],
 "metadata": {
  "kernelspec": {
   "display_name": "base",
   "language": "python",
   "name": "python3"
  },
  "language_info": {
   "codemirror_mode": {
    "name": "ipython",
    "version": 3
   },
   "file_extension": ".py",
   "mimetype": "text/x-python",
   "name": "python",
   "nbconvert_exporter": "python",
   "pygments_lexer": "ipython3",
   "version": "3.9.7"
  }
 },
 "nbformat": 4,
 "nbformat_minor": 2
}
