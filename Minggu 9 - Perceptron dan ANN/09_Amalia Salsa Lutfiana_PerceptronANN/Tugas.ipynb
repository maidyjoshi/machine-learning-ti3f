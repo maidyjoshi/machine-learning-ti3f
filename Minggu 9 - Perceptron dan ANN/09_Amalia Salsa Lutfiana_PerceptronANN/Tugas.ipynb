{
 "cells": [
  {
   "cell_type": "markdown",
   "metadata": {},
   "source": [
    "# Tugas"
   ]
  },
  {
   "cell_type": "markdown",
   "metadata": {},
   "source": [
    "- Lakukan klasifikasi pada data MNIST dengan menggunakan model ANN\n",
    "- Anda diperbolehkan melakukan eksplorasi terhadap,\n",
    "  - Metode pra pengolahan\n",
    "  - Pemilihan fitur\n",
    "  - Arsitektur ANN\n",
    "  - Fungsi Aktiviasi\n",
    "- ANN diimplementasikan dengan menggunakan tensorflow.\n",
    "- DIKERJAKAN SECARA BERKELOMPOK\n",
    "- JELASKAN HASIL YANG ANDA DAPATKAN,\n",
    "  - AKURASI\n",
    "  - CONFUSION MATRIX\n",
    "  - KONFIGURASI MODEL --> MULAI DARI PRA PENGOLAHAN SAMPAI ARSITEKTUR ANNN"
   ]
  },
  {
   "cell_type": "code",
   "execution_count": 2,
   "metadata": {},
   "outputs": [
    {
     "name": "stderr",
     "output_type": "stream",
     "text": [
      "c:\\Users\\Hp\\anaconda3\\lib\\site-packages\\scipy\\__init__.py:146: UserWarning: A NumPy version >=1.16.5 and <1.23.0 is required for this version of SciPy (detected version 1.26.0\n",
      "  warnings.warn(f\"A NumPy version >={np_minversion} and <{np_maxversion}\"\n"
     ]
    }
   ],
   "source": [
    "import tensorflow as tf\n",
    "from keras import layers, models\n",
    "from sklearn.datasets import fetch_openml\n",
    "from sklearn.model_selection import train_test_split\n",
    "import numpy as np\n",
    "import matplotlib.pyplot as plt\n",
    "from sklearn.metrics import confusion_matrix"
   ]
  },
  {
   "cell_type": "code",
   "execution_count": 3,
   "metadata": {},
   "outputs": [
    {
     "name": "stderr",
     "output_type": "stream",
     "text": [
      "c:\\Users\\Hp\\anaconda3\\lib\\site-packages\\pandas\\core\\arrays\\categorical.py:528: RuntimeWarning: invalid value encountered in cast\n",
      "  fill_value = lib.item_from_zerodim(np.array(np.nan).astype(dtype))\n"
     ]
    },
    {
     "name": "stdout",
     "output_type": "stream",
     "text": [
      "Epoch 1/10\n",
      "1400/1400 [==============================] - 32s 22ms/step - loss: 0.1842 - accuracy: 0.9436 - val_loss: 0.0804 - val_accuracy: 0.9740\n",
      "Epoch 2/10\n",
      "1400/1400 [==============================] - 31s 22ms/step - loss: 0.0584 - accuracy: 0.9819 - val_loss: 0.0520 - val_accuracy: 0.9826\n",
      "Epoch 3/10\n",
      "1400/1400 [==============================] - 39s 28ms/step - loss: 0.0359 - accuracy: 0.9889 - val_loss: 0.0575 - val_accuracy: 0.9807\n",
      "Epoch 4/10\n",
      "1400/1400 [==============================] - 33s 23ms/step - loss: 0.0261 - accuracy: 0.9918 - val_loss: 0.0531 - val_accuracy: 0.9837\n",
      "Epoch 5/10\n",
      "1400/1400 [==============================] - 32s 23ms/step - loss: 0.0168 - accuracy: 0.9943 - val_loss: 0.0552 - val_accuracy: 0.9846\n",
      "Epoch 6/10\n",
      "1400/1400 [==============================] - 32s 23ms/step - loss: 0.0126 - accuracy: 0.9958 - val_loss: 0.0638 - val_accuracy: 0.9839\n",
      "Epoch 7/10\n",
      "1400/1400 [==============================] - 33s 23ms/step - loss: 0.0124 - accuracy: 0.9960 - val_loss: 0.0650 - val_accuracy: 0.9834\n",
      "Epoch 8/10\n",
      "1400/1400 [==============================] - 32s 23ms/step - loss: 0.0112 - accuracy: 0.9964 - val_loss: 0.0540 - val_accuracy: 0.9871\n",
      "Epoch 9/10\n",
      "1400/1400 [==============================] - 34s 24ms/step - loss: 0.0064 - accuracy: 0.9981 - val_loss: 0.0619 - val_accuracy: 0.9860\n",
      "Epoch 10/10\n",
      "1400/1400 [==============================] - 29s 21ms/step - loss: 0.0065 - accuracy: 0.9978 - val_loss: 0.0560 - val_accuracy: 0.9876\n",
      "438/438 [==============================] - 2s 4ms/step - loss: 0.0691 - accuracy: 0.9855\n",
      "Akurasi pada data pengujian: 0.99\n"
     ]
    }
   ],
   "source": [
    "# Mengunduh dataset MNIST\n",
    "mnist = fetch_openml('mnist_784')\n",
    "\n",
    "# Memisahkan data gambar dan label\n",
    "images = mnist.data.astype('float32')\n",
    "labels = mnist.target.astype('int')\n",
    "\n",
    "# Skalakan data\n",
    "images /= 255.0 \n",
    "\n",
    "# Membagi data menjadi data pelatihan dan pengujian\n",
    "train_images, test_images, train_labels, test_labels = train_test_split(\n",
    "    images, labels, test_size=0.2, random_state=42)\n",
    "\n",
    "# Mendefinisikan arsitektur model ANN\n",
    "model = models.Sequential([\n",
    "    layers.Reshape(target_shape=(28, 28, 1), input_shape=(784,)),\n",
    "    layers.Conv2D(32, (3, 3), activation='relu', input_shape=(28, 28, 1)),\n",
    "    layers.MaxPooling2D((2, 2)),\n",
    "    layers.Flatten(),\n",
    "    layers.Dense(128, activation='relu'),\n",
    "    layers.Dense(64, activation='relu'),\n",
    "    layers.Dense(10, activation='softmax')\n",
    "])\n",
    "\n",
    "# Melakukan kompilasi terhadap model\n",
    "model.compile(optimizer='adam',\n",
    "              loss='sparse_categorical_crossentropy',\n",
    "              metrics=['accuracy'])\n",
    "\n",
    "# Melatih model\n",
    "history = model.fit(train_images, train_labels,\n",
    "                    epochs=10, validation_split=0.2)\n",
    "\n",
    "# Melakukan evaluasi model pada data pengujian\n",
    "test_loss, test_acc = model.evaluate(test_images, test_labels)\n",
    "print(f'Akurasi pada data pengujian: {test_acc:.2f}')"
   ]
  },
  {
   "cell_type": "code",
   "execution_count": 3,
   "metadata": {},
   "outputs": [
    {
     "name": "stdout",
     "output_type": "stream",
     "text": [
      "1750/1750 [==============================] - 9s 5ms/step - loss: 0.0140 - accuracy: 0.9968\n",
      "Akurasi pada data pelatihan: 1.00\n"
     ]
    }
   ],
   "source": [
    "# Melakukan evaluasi terhadap akurasi data pelatihan\n",
    "train_loss, train_acc = model.evaluate(train_images, train_labels)\n",
    "print(f'Akurasi pada data pelatihan: {train_acc:.2f}')"
   ]
  },
  {
   "cell_type": "code",
   "execution_count": 4,
   "metadata": {},
   "outputs": [
    {
     "name": "stdout",
     "output_type": "stream",
     "text": [
      "438/438 [==============================] - 2s 5ms/step\n",
      "Matriks Kebingungan:\n",
      "[[1327    1    3    0    0    2    6    2    2    0]\n",
      " [   0 1592    3    0    1    0    0    3    1    0]\n",
      " [   0    5 1363    3    2    0    0    4    1    2]\n",
      " [   0    3    7 1408    0    6    0    4    1    4]\n",
      " [   1    0    1    0 1277    0    0    3    0   13]\n",
      " [   1    0    0    6    0 1255    7    0    4    0]\n",
      " [   4    0    0    0    3    6 1382    0    0    1]\n",
      " [   1    2    7    0    3    0    0 1487    0    3]\n",
      " [   0    5   11    2    3    5    4    5 1310   12]\n",
      " [   5    1    1    4    7    4    0   10    2 1386]]\n"
     ]
    }
   ],
   "source": [
    "# Membuat prediksi pada data pengujian\n",
    "predictions = model.predict(test_images)\n",
    "predicted_labels = np.argmax(predictions, axis=1)\n",
    "\n",
    "# Membuat matriks kebingungan\n",
    "confusion = confusion_matrix(test_labels, predicted_labels)\n",
    "print('Matriks Kebingungan:')\n",
    "print(confusion)"
   ]
  },
  {
   "cell_type": "markdown",
   "metadata": {},
   "source": [
    "### **KESIMPULAN AKHIR**\n",
    "\n",
    "1. Akurasi\n",
    "\n",
    "  - Hasil akurasi : 0.98\n",
    "  - Menunjukkan akurasi yang tinggi dan dapat dikatakan sebagai\n",
    "    prediksi data yang baik\n",
    "\n",
    "2. Confusion Matrix\n",
    "\n",
    "  - Matriks yang memiliki ukuran 10x10 sel, yaitu 10 barisa dan 10 kolom\n",
    "  - Pada indeks ke-0 atau Baris pertama memberi gambaran pada kelas 0 yang sebenarnya, di dalamnya terdapat 1329 sampel asli dan beberapa yang salah diklasifikasikan sebagai kelas lain. begitu pula untuk 9 baris berikutnya.\n",
    "  - Pada kolom pertama (indeks 0) memberi gambaran terhadap prediksi kelas 0 yag berisikan 1338 prediksi benar, dan beberapa yang salah. Begitu pula pada kolom-kolom berikutnya hingga kelas 9\n",
    "\n",
    "3. Konfigurasi Model\n",
    "  - Pra-pemrosesan\n",
    "        \n",
    "    - mengubah rentang nilai piksel  gambar.\n",
    "    - Membagi data gambar dan label ke dalam dua set terpisah (data pelatihan dan data pengujian)\n",
    "  \n",
    "  - Mendifinisikan Arsitektur Model ANN\n",
    "\n",
    "    - Mendefinisikan arsitektur dari model ANN, meliputi lapisan konvolusi, max pooling, dan fully connected, yang akan digunakan untuk melakukan klasifikasi gambar.\n",
    "  \n",
    "  - Kompilasi Model\n",
    "\n",
    "    -  Melakukan kompilasi terhadap model neural network dan menentukan bagaimana model akan melakukan pembelajaran dan evaluasi selama proses pelatihan.\n",
    "\n",
    "  - Melatih Model\n",
    "\n",
    "    - Pada tahapan ini hasil pelatihan akan disimpan dalam objek history, yang digunakan untuk menganalisis dan memvisualisasikan kinerja model selama pelatihan. Ketika tahap pelatihan telah selesai, model akan siap digunakan untuk menemukan prediksi pada data.\n",
    "\n",
    "  - Evaluasi Model pada Data Pengujian\n",
    "\n",
    "    - Menampilkan hasil seberapa baik model yang dijalankan dalam melakukan klasifikasi pada data baru dan tidak terlihat sebelumnya."
   ]
  }
 ],
 "metadata": {
  "kernelspec": {
   "display_name": "base",
   "language": "python",
   "name": "python3"
  },
  "language_info": {
   "codemirror_mode": {
    "name": "ipython",
    "version": 3
   },
   "file_extension": ".py",
   "mimetype": "text/x-python",
   "name": "python",
   "nbconvert_exporter": "python",
   "pygments_lexer": "ipython3",
   "version": "3.9.7"
  }
 },
 "nbformat": 4,
 "nbformat_minor": 2
}
