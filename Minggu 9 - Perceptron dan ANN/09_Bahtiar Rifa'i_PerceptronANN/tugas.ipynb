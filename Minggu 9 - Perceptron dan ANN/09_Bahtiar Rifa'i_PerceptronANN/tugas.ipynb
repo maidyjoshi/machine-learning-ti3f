{
  "cells": [
    {
      "cell_type": "markdown",
      "metadata": {
        "id": "t6N4KA5LoW-2"
      },
      "source": [
        "**TUGAS PRAKTIKUM**\n",
        "1. Lakukan klasifikasi pada data MNIST dengan menggunakan model ANN\n",
        "2. Anda diperbolehkan melakukan eksplorasi terhadap,\n",
        "  - Metode pra pengolahan\n",
        "  - Pemilihan fitur\n",
        "  - Arsitektur ANN\n",
        "  - Fungsi Aktiviasi\n",
        "3. ANN diimplementasikan dengan menggunakan tensowflow\n",
        "4. JELASKAN HASIL YANG ANDA DAPATKAN.\n",
        "  - AKURASI\n",
        "  - CONFUSION MATRIX\n",
        "  - KONFIGURASI MODEL --> MULAI DARI PRA PENGOLAHAN SAMPAI ARSITEKTUR ANN"
      ]
    },
    {
      "cell_type": "markdown",
      "metadata": {
        "id": "CC-ME66soW-5"
      },
      "source": [
        "**Langkah 1 - Impor Library**\n"
      ]
    },
    {
      "cell_type": "code",
      "execution_count": 1,
      "metadata": {
        "ExecuteTime": {
          "end_time": "2023-11-16T05:29:27.084933600Z",
          "start_time": "2023-11-16T05:29:22.930073600Z"
        },
        "id": "YjqpBTZIoW-5"
      },
      "outputs": [],
      "source": [
        "import numpy as np\n",
        "from sklearn.datasets import fetch_openml\n",
        "from sklearn.preprocessing import MinMaxScaler\n",
        "from sklearn.decomposition import PCA\n",
        "from sklearn.model_selection import train_test_split\n",
        "from keras.models import Sequential\n",
        "from keras.layers import Dense\n",
        "from sklearn.metrics import confusion_matrix"
      ]
    },
    {
      "cell_type": "code",
      "execution_count": 2,
      "outputs": [],
      "source": [
        "data_mnist = fetch_openml('mnist_784', version=1, parser='auto')"
      ],
      "metadata": {
        "ExecuteTime": {
          "end_time": "2023-11-16T05:29:35.290748800Z",
          "start_time": "2023-11-16T05:29:27.084933600Z"
        },
        "id": "CrBzRWxQoW-6"
      }
    },
    {
      "cell_type": "markdown",
      "metadata": {
        "id": "mCiNVxCGoW-7"
      },
      "source": [
        "**Langkah 2 - Eksplorasi Dataset**"
      ]
    },
    {
      "cell_type": "code",
      "execution_count": 3,
      "metadata": {
        "ExecuteTime": {
          "end_time": "2023-11-12T04:44:48.896477400Z",
          "start_time": "2023-11-12T04:44:48.870011200Z"
        },
        "colab": {
          "base_uri": "https://localhost:8080/"
        },
        "id": "5C3wlrrNoW-7",
        "outputId": "985eb9e7-948a-476c-8576-47815f4b23a5"
      },
      "outputs": [
        {
          "output_type": "stream",
          "name": "stdout",
          "text": [
            "Jumlah sampel MNIST: 70000\n",
            "Dimensi setiap sampel MNIST: 784\n",
            "Jumlah kelas MNIST: 10\n"
          ]
        }
      ],
      "source": [
        "# Melihat dimensi data\n",
        "print(\"Jumlah sampel MNIST:\", data_mnist.data.shape[0])  # Jumlah sampel\n",
        "print(\"Dimensi setiap sampel MNIST:\", data_mnist.data.shape[1])  # Dimensi setiap sampel\n",
        "print(\"Jumlah kelas MNIST:\", len(set(data_mnist.target)))  # Jumlah kelas"
      ]
    },
    {
      "cell_type": "code",
      "execution_count": 4,
      "metadata": {
        "ExecuteTime": {
          "end_time": "2023-11-12T04:16:11.912539Z",
          "start_time": "2023-11-12T04:16:11.909435400Z"
        },
        "id": "ycEWrwtroW-7"
      },
      "outputs": [],
      "source": [
        "# mengambil data dan label\n",
        "X = data_mnist.data.astype('float32')\n",
        "y = data_mnist.target.astype('int')"
      ]
    },
    {
      "cell_type": "code",
      "execution_count": 5,
      "metadata": {
        "ExecuteTime": {
          "start_time": "2023-11-12T04:16:11.912539Z"
        },
        "colab": {
          "base_uri": "https://localhost:8080/"
        },
        "id": "dWzyqZCpoW-8",
        "outputId": "722ed5d4-75c7-455b-957e-b85d76c2b76e"
      },
      "outputs": [
        {
          "output_type": "execute_result",
          "data": {
            "text/plain": [
              "(70000, 784)"
            ]
          },
          "metadata": {},
          "execution_count": 5
        }
      ],
      "source": [
        "X.shape"
      ]
    },
    {
      "cell_type": "code",
      "execution_count": 6,
      "metadata": {
        "ExecuteTime": {
          "end_time": "2023-11-12T04:16:11.914533800Z",
          "start_time": "2023-11-12T04:16:11.914533800Z"
        },
        "id": "N2zt3GDEoW-8"
      },
      "outputs": [],
      "source": [
        "# scaling data menggunakan MinMaxScaler\n",
        "scaler = MinMaxScaler()\n",
        "X_scalling = scaler.fit_transform(X)"
      ]
    },
    {
      "cell_type": "code",
      "execution_count": 7,
      "metadata": {
        "ExecuteTime": {
          "end_time": "2023-11-12T04:16:11.946456500Z",
          "start_time": "2023-11-12T04:16:11.917525600Z"
        },
        "colab": {
          "base_uri": "https://localhost:8080/"
        },
        "id": "vsmFqArDoW-8",
        "outputId": "1e01c391-daa0-44af-d832-5e735ad87f9d"
      },
      "outputs": [
        {
          "output_type": "stream",
          "name": "stdout",
          "text": [
            "[[0. 0. 0. ... 0. 0. 0.]\n",
            " [0. 0. 0. ... 0. 0. 0.]\n",
            " [0. 0. 0. ... 0. 0. 0.]\n",
            " [0. 0. 0. ... 0. 0. 0.]\n",
            " [0. 0. 0. ... 0. 0. 0.]]\n"
          ]
        }
      ],
      "source": [
        "print(X_scalling[:5])"
      ]
    },
    {
      "cell_type": "markdown",
      "metadata": {
        "id": "HAE18yoLoW-8"
      },
      "source": [
        "**Langkah 3 - Ekstraksi Fitur dan Split Data**"
      ]
    },
    {
      "cell_type": "code",
      "execution_count": 8,
      "metadata": {
        "ExecuteTime": {
          "start_time": "2023-11-12T04:16:11.919520800Z"
        },
        "id": "YdcDTfAhoW-8"
      },
      "outputs": [],
      "source": [
        "pca = PCA(n_components=200)\n",
        "X_pca = pca.fit_transform(X_scalling)"
      ]
    },
    {
      "cell_type": "code",
      "execution_count": 9,
      "metadata": {
        "ExecuteTime": {
          "start_time": "2023-11-12T04:16:11.923510400Z"
        },
        "id": "XehMCAlwoW-9"
      },
      "outputs": [],
      "source": [
        "# Split dataset menjadi data pelatihan dan data pengujian\n",
        "X_train, X_test, y_train, y_test = train_test_split(X_pca, y, test_size = 0.2, random_state = 42)"
      ]
    },
    {
      "cell_type": "markdown",
      "metadata": {
        "id": "vKQ62J8ZoW-9"
      },
      "source": [
        "**Langkah 4 - Membangun Model ANN**"
      ]
    },
    {
      "cell_type": "code",
      "execution_count": 10,
      "metadata": {
        "ExecuteTime": {
          "start_time": "2023-11-12T04:16:11.925504300Z"
        },
        "colab": {
          "base_uri": "https://localhost:8080/"
        },
        "id": "48_g17VToW-9",
        "outputId": "bfbdceb8-f565-4bb5-a2e3-51d187af0dcb"
      },
      "outputs": [
        {
          "output_type": "stream",
          "name": "stdout",
          "text": [
            "Model: \"sequential\"\n",
            "_________________________________________________________________\n",
            " Layer (type)                Output Shape              Param #   \n",
            "=================================================================\n",
            " dense (Dense)               (None, 128)               25728     \n",
            "                                                                 \n",
            " dense_1 (Dense)             (None, 64)                8256      \n",
            "                                                                 \n",
            " dense_2 (Dense)             (None, 32)                2080      \n",
            "                                                                 \n",
            " dense_3 (Dense)             (None, 10)                330       \n",
            "                                                                 \n",
            "=================================================================\n",
            "Total params: 36394 (142.16 KB)\n",
            "Trainable params: 36394 (142.16 KB)\n",
            "Non-trainable params: 0 (0.00 Byte)\n",
            "_________________________________________________________________\n"
          ]
        }
      ],
      "source": [
        "# Membuat model ANN\n",
        "model = Sequential()\n",
        "\n",
        "# Tambahkan lapisan input\n",
        "model.add(Dense(units=128, activation='relu', input_dim=200))  # 128 unit pada lapisan tersembunyi pertama\n",
        "\n",
        "# Tambahkan lapisan tersembunyi pertama\n",
        "model.add(Dense(units=64, activation='relu'))  # 64 unit pada lapisan tersembunyi kedua\n",
        "\n",
        "# Tambahkan lapisan tersembunyi kedua\n",
        "model.add(Dense(units=32, activation='relu'))  # 32 unit pada lapisan tersembunyi ketiga\n",
        "\n",
        "# Tambahkan lapisan output\n",
        "model.add(Dense(units=10, activation='softmax'))  # 10 unit pada lapisan output untuk klasifikasi 10 kelas\n",
        "\n",
        "model.summary()"
      ]
    },
    {
      "cell_type": "markdown",
      "metadata": {
        "id": "FwKdB5LBoW-9"
      },
      "source": [
        "**Langkah 5 - Training Model**"
      ]
    },
    {
      "cell_type": "code",
      "execution_count": 11,
      "metadata": {
        "ExecuteTime": {
          "start_time": "2023-11-12T04:16:11.927498600Z"
        },
        "id": "gF7NY0VXoW-9"
      },
      "outputs": [],
      "source": [
        "# Kompilasi model ANN\n",
        "model.compile(optimizer='adam', loss='sparse_categorical_crossentropy', metrics=['accuracy'])"
      ]
    },
    {
      "cell_type": "code",
      "execution_count": 12,
      "metadata": {
        "ExecuteTime": {
          "start_time": "2023-11-12T04:16:11.930491700Z"
        },
        "colab": {
          "base_uri": "https://localhost:8080/"
        },
        "id": "HfzsgceQoW-9",
        "outputId": "6b91e81f-376e-427e-e9cf-ba1612f00264"
      },
      "outputs": [
        {
          "output_type": "stream",
          "name": "stdout",
          "text": [
            "Epoch 1/10\n",
            "1400/1400 [==============================] - 7s 4ms/step - loss: 0.3044 - accuracy: 0.9125 - val_loss: 0.1539 - val_accuracy: 0.9524\n",
            "Epoch 2/10\n",
            "1400/1400 [==============================] - 8s 6ms/step - loss: 0.1018 - accuracy: 0.9683 - val_loss: 0.1095 - val_accuracy: 0.9663\n",
            "Epoch 3/10\n",
            "1400/1400 [==============================] - 8s 6ms/step - loss: 0.0593 - accuracy: 0.9816 - val_loss: 0.1186 - val_accuracy: 0.9655\n",
            "Epoch 4/10\n",
            "1400/1400 [==============================] - 6s 4ms/step - loss: 0.0411 - accuracy: 0.9873 - val_loss: 0.1106 - val_accuracy: 0.9681\n",
            "Epoch 5/10\n",
            "1400/1400 [==============================] - 6s 4ms/step - loss: 0.0285 - accuracy: 0.9906 - val_loss: 0.1232 - val_accuracy: 0.9677\n",
            "Epoch 6/10\n",
            "1400/1400 [==============================] - 5s 3ms/step - loss: 0.0257 - accuracy: 0.9909 - val_loss: 0.1352 - val_accuracy: 0.9660\n",
            "Epoch 7/10\n",
            "1400/1400 [==============================] - 7s 5ms/step - loss: 0.0189 - accuracy: 0.9932 - val_loss: 0.1289 - val_accuracy: 0.9701\n",
            "Epoch 8/10\n",
            "1400/1400 [==============================] - 5s 3ms/step - loss: 0.0168 - accuracy: 0.9940 - val_loss: 0.1422 - val_accuracy: 0.9680\n",
            "Epoch 9/10\n",
            "1400/1400 [==============================] - 5s 4ms/step - loss: 0.0138 - accuracy: 0.9957 - val_loss: 0.1483 - val_accuracy: 0.9686\n",
            "Epoch 10/10\n",
            "1400/1400 [==============================] - 7s 5ms/step - loss: 0.0146 - accuracy: 0.9943 - val_loss: 0.1443 - val_accuracy: 0.9699\n",
            "438/438 [==============================] - 2s 3ms/step - loss: 0.1590 - accuracy: 0.9681\n",
            "Loss: 0.15898793935775757\n",
            "Accuracy: 0.9680714011192322\n"
          ]
        }
      ],
      "source": [
        "# Melatih model menggunakan data pelatihan\n",
        "model.fit(X_train, y_train, epochs=10, batch_size=32, validation_split=0.2)  # Contoh menggunakan 10 epoch dan ukuran batch 32\n",
        "\n",
        "# Evaluasi model menggunakan data pengujian\n",
        "loss, accuracy = model.evaluate(X_test, y_test)\n",
        "print(\"Loss:\", loss)\n",
        "print(\"Accuracy:\", accuracy)"
      ]
    },
    {
      "cell_type": "markdown",
      "metadata": {
        "id": "Xw4gIiT3oW--"
      },
      "source": [
        "**Langkah 6 - Evaluasi**"
      ]
    },
    {
      "cell_type": "code",
      "execution_count": 13,
      "metadata": {
        "ExecuteTime": {
          "start_time": "2023-11-12T04:16:11.935477200Z"
        },
        "colab": {
          "base_uri": "https://localhost:8080/"
        },
        "id": "BZTi_7EEoW--",
        "outputId": "09294ec9-adb6-4b6f-dd38-a04082876e57"
      },
      "outputs": [
        {
          "output_type": "stream",
          "name": "stdout",
          "text": [
            "1750/1750 [==============================] - 4s 2ms/step - loss: 0.0360 - accuracy: 0.9916\n",
            "Train Loss: 0.035982392728328705\n",
            "Train Accuracy: 0.991553544998169\n"
          ]
        }
      ],
      "source": [
        "# Evaluasi model pada data pelatihan\n",
        "train_loss, train_accuracy = model.evaluate(X_train, y_train)\n",
        "print(\"Train Loss:\", train_loss)\n",
        "print(\"Train Accuracy:\", train_accuracy)"
      ]
    },
    {
      "cell_type": "code",
      "execution_count": 14,
      "metadata": {
        "ExecuteTime": {
          "start_time": "2023-11-12T04:16:11.935477200Z"
        },
        "colab": {
          "base_uri": "https://localhost:8080/"
        },
        "id": "vGFQZRFdoW--",
        "outputId": "ad2f658b-48c7-4492-c502-ef90c2d8868c"
      },
      "outputs": [
        {
          "output_type": "stream",
          "name": "stdout",
          "text": [
            "438/438 [==============================] - 1s 2ms/step - loss: 0.1590 - accuracy: 0.9681\n",
            "Test Loss: 0.15898793935775757\n",
            "Test Accuracy: 0.9680714011192322\n"
          ]
        }
      ],
      "source": [
        "# Evaluasi model pada data pengujian\n",
        "test_loss, test_accuracy = model.evaluate(X_test, y_test)\n",
        "print(\"Test Loss:\", test_loss)\n",
        "print(\"Test Accuracy:\", test_accuracy)"
      ]
    },
    {
      "cell_type": "code",
      "execution_count": 15,
      "metadata": {
        "ExecuteTime": {
          "start_time": "2023-11-12T04:16:11.937472800Z"
        },
        "colab": {
          "base_uri": "https://localhost:8080/"
        },
        "id": "arVI4Ko5oW--",
        "outputId": "d6167b5f-6928-4565-edf8-1a91d58a18f6"
      },
      "outputs": [
        {
          "output_type": "stream",
          "name": "stdout",
          "text": [
            "438/438 [==============================] - 1s 2ms/step\n",
            "Confusion Matrix:\n",
            "[[1319    0    6    0    0    4    5    1    5    3]\n",
            " [   1 1576    4    5    2    0    1    4    4    3]\n",
            " [   3    3 1335    3    1    3    6    9   10    7]\n",
            " [   0    1   14 1383    0   16    0    7    6    6]\n",
            " [   2    2    4    1 1233    3    6    4    4   36]\n",
            " [   2    1    0   23    0 1228    3    0   11    5]\n",
            " [   6    1    2    0    4    9 1368    0    6    0]\n",
            " [   4    5   13    4    1    4    0 1445    0   27]\n",
            " [   4    7    2   17    0    9    6    4 1297   11]\n",
            " [   5    2    2   11    9    5    0    9    8 1369]]\n"
          ]
        }
      ],
      "source": [
        "# Melakukan prediksi menggunakan model pada data pengujian\n",
        "predictions = model.predict(X_test)\n",
        "\n",
        "# Mengubah prediksi dari format one-hot encoded ke kelas\n",
        "predicted_classes = np.argmax(predictions, axis=1)\n",
        "\n",
        "# Menghitung confusion matrix\n",
        "confusion_mtx = confusion_matrix(y_test, predicted_classes)\n",
        "\n",
        "print(\"Confusion Matrix:\")\n",
        "print(confusion_mtx)"
      ]
    }
  ],
  "metadata": {
    "kernelspec": {
      "display_name": "base",
      "language": "python",
      "name": "python3"
    },
    "language_info": {
      "codemirror_mode": {
        "name": "ipython",
        "version": 3
      },
      "file_extension": ".py",
      "mimetype": "text/x-python",
      "name": "python",
      "nbconvert_exporter": "python",
      "pygments_lexer": "ipython3",
      "version": "3.8.8"
    },
    "colab": {
      "provenance": []
    }
  },
  "nbformat": 4,
  "nbformat_minor": 0
}