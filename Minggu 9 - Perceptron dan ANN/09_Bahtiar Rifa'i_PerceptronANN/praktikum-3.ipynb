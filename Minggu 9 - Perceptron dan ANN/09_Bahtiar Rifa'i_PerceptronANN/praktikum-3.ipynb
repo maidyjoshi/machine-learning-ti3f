{
 "cells": [
  {
   "cell_type": "markdown",
   "source": [
    "**Praktikum**"
   ],
   "metadata": {
    "collapsed": false
   },
   "id": "b03ce9e0b91b9c48"
  },
  {
   "cell_type": "markdown",
   "source": [
    "**Nilai Logika XOR dengan MLP**\n",
    "\n",
    "Pada kasus sederhana ini, Anda akan menggunakan MLP untuk mendapatkan nilai biner yang dioperasikan dengan logika XOR. Perlu diingat bahwa nilai XOR berbeda dengan OR, XOR hanya akan bernilai benar jika salah satu nilai yang benar, bukan keduanya atau tidak sama sekali."
   ],
   "metadata": {
    "collapsed": false
   },
   "id": "eda0e9e8782dbba7"
  },
  {
   "cell_type": "code",
   "execution_count": 1,
   "outputs": [],
   "source": [
    "# Import Library\n",
    "from sklearn.neural_network import MLPClassifier"
   ],
   "metadata": {
    "collapsed": false,
    "ExecuteTime": {
     "end_time": "2023-10-24T12:58:31.612495500Z",
     "start_time": "2023-10-24T12:58:31.317652500Z"
    }
   },
   "id": "df567c4f807af88"
  },
  {
   "cell_type": "code",
   "execution_count": 2,
   "outputs": [],
   "source": [
    "# Buat Data\n",
    "y = [0, 1, 1, 0] # label\n",
    "X = [[0, 0], [0, 1], [1, 0], [1, 1]] # data"
   ],
   "metadata": {
    "collapsed": false,
    "ExecuteTime": {
     "end_time": "2023-10-24T12:58:31.623648900Z",
     "start_time": "2023-10-24T12:58:31.615487100Z"
    }
   },
   "id": "c7e81c707fcbc463"
  },
  {
   "cell_type": "code",
   "execution_count": 5,
   "outputs": [
    {
     "name": "stdout",
     "output_type": "stream",
     "text": [
      "MLPClassifier(activation='logistic', hidden_layer_sizes=(2,), max_iter=100,\n",
      "              random_state=20, solver='lbfgs')\n"
     ]
    }
   ],
   "source": [
    "# Fit model\n",
    "clf = MLPClassifier(solver='lbfgs', activation='logistic', hidden_layer_sizes=(2,), max_iter=100, random_state=20)\n",
    "clf.fit(X, y)\n",
    "print(clf.fit(X, y))"
   ],
   "metadata": {
    "collapsed": false,
    "ExecuteTime": {
     "end_time": "2023-10-24T13:33:02.893996500Z",
     "start_time": "2023-10-24T13:33:02.841702Z"
    }
   },
   "id": "90c2069401268ef7"
  },
  {
   "cell_type": "code",
   "execution_count": 6,
   "outputs": [
    {
     "name": "stdout",
     "output_type": "stream",
     "text": [
      "Accuracy: 1.0\n",
      "True: 0, Predicted: 0\n",
      "True: 1, Predicted: 1\n",
      "True: 1, Predicted: 1\n",
      "True: 0, Predicted: 0\n"
     ]
    }
   ],
   "source": [
    "# Prediksi\n",
    "pred = clf.predict(X)\n",
    "print('Accuracy: %s' % clf.score(X, y))\n",
    "for i,p in enumerate(pred[:10]):\n",
    "    print('True: %s, Predicted: %s' % (y[i], p))"
   ],
   "metadata": {
    "collapsed": false,
    "ExecuteTime": {
     "end_time": "2023-10-24T13:33:07.188249100Z",
     "start_time": "2023-10-24T13:33:07.139264500Z"
    }
   },
   "id": "bcaf9eb40bc2b082"
  },
  {
   "cell_type": "code",
   "execution_count": null,
   "outputs": [],
   "source": [],
   "metadata": {
    "collapsed": false
   },
   "id": "a1f5c6b5f0785a76"
  }
 ],
 "metadata": {
  "kernelspec": {
   "display_name": "Python 3",
   "language": "python",
   "name": "python3"
  },
  "language_info": {
   "codemirror_mode": {
    "name": "ipython",
    "version": 2
   },
   "file_extension": ".py",
   "mimetype": "text/x-python",
   "name": "python",
   "nbconvert_exporter": "python",
   "pygments_lexer": "ipython2",
   "version": "2.7.6"
  }
 },
 "nbformat": 4,
 "nbformat_minor": 5
}
