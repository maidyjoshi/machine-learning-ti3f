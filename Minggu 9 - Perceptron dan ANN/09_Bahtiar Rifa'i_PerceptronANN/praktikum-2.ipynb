{
 "cells": [
  {
   "cell_type": "markdown",
   "source": [
    "**Praktikum 2**"
   ],
   "metadata": {
    "collapsed": false
   },
   "id": "89ec0d50ebbedeeb"
  },
  {
   "cell_type": "markdown",
   "source": [
    "**Klasifikasi Berita dengan Perceptron**\n",
    "\n",
    "Dalam kasus ini, Anda akan melakukan klasifiaksi berita berdasarkan 3 kategori, yaitu Sport Hockey, Sport Baseball, dan Otomotif. Proses klasifikasi akan menggunakan model Perceptron."
   ],
   "metadata": {
    "collapsed": false
   },
   "id": "497748cabfb29fbc"
  },
  {
   "cell_type": "code",
   "execution_count": 1,
   "outputs": [],
   "source": [
    "# Import Library\n",
    "from sklearn.datasets import fetch_20newsgroups # download dataset\n",
    "from sklearn.feature_extraction.text import TfidfVectorizer\n",
    "from sklearn.linear_model import Perceptron\n",
    "from sklearn.metrics import f1_score, classification_report"
   ],
   "metadata": {
    "collapsed": false,
    "ExecuteTime": {
     "end_time": "2023-10-24T12:55:33.737731300Z",
     "start_time": "2023-10-24T12:55:33.330144200Z"
    }
   },
   "id": "f65be02d5061db9"
  },
  {
   "cell_type": "code",
   "execution_count": 2,
   "outputs": [],
   "source": [
    "# Pilih Label dan Split Data\n",
    "categories = ['rec.sport.hockey', 'rec.sport.baseball', 'rec.autos']\n",
    "newsgroups_train = fetch_20newsgroups(subset='train', categories=categories, remove=('headers', 'footers', 'quotes'))\n",
    "newsgroups_test = fetch_20newsgroups(subset='test', categories=categories, remove=('headers', 'footers', 'quotes'))"
   ],
   "metadata": {
    "collapsed": false,
    "ExecuteTime": {
     "end_time": "2023-10-24T13:08:32.913545Z",
     "start_time": "2023-10-24T12:55:33.739726100Z"
    }
   },
   "id": "d5d6c10dbab0cf98"
  },
  {
   "cell_type": "code",
   "execution_count": 3,
   "outputs": [
    {
     "name": "stdout",
     "output_type": "stream",
     "text": [
      "              precision    recall  f1-score   support\n",
      "\n",
      "           0       0.88      0.88      0.88       396\n",
      "           1       0.82      0.83      0.83       397\n",
      "           2       0.88      0.87      0.87       399\n",
      "\n",
      "    accuracy                           0.86      1192\n",
      "   macro avg       0.86      0.86      0.86      1192\n",
      "weighted avg       0.86      0.86      0.86      1192\n"
     ]
    }
   ],
   "source": [
    "# Ekstrak Fitur dan Buat Model Perceptron\n",
    "\n",
    "# Ekstrak Fitur\n",
    "vectorizer = TfidfVectorizer()\n",
    "\n",
    "# Fit fitur\n",
    "X_train = vectorizer.fit_transform(newsgroups_train.data)\n",
    "X_test = vectorizer.transform(newsgroups_test.data)\n",
    "\n",
    "# Fit Model\n",
    "clf = Perceptron(random_state=11)\n",
    "clf.fit(X_train, newsgroups_train.target)\n",
    "\n",
    "# Prediksi\n",
    "predictions = clf.predict(X_test)\n",
    "print(classification_report(newsgroups_test.target, predictions))"
   ],
   "metadata": {
    "collapsed": false,
    "ExecuteTime": {
     "end_time": "2023-10-24T13:08:33.340264Z",
     "start_time": "2023-10-24T13:08:32.918633600Z"
    }
   },
   "id": "90fe08ed9e56f80c"
  },
  {
   "cell_type": "markdown",
   "source": [
    "**Penjelasan**\n",
    "\n",
    "Dataset yang digunakan pada kode program diatas adalah 20newsgroup yang terdiri dari sekitar 20.000 dokumen. Scikit-learn bahkan menyediakan fungsi yang memberikan kemudahan untuk mengunduh dan membaca kumpulan dataset dengan menggunakan sklearn.datasets. pada kode program diatas Perceptron mampu melakukan klasifikasi multikelas; strategi yang digunakan adalah one-versus-all untuk melakukan pelatihan untuk setiap kelas dalam data training. Dokumen teks memerlukan ekstraksi fitur salah satunya adalah bobot tf-idf pada kodeprogram diatas digunakan tfidf-vectorizer."
   ],
   "metadata": {
    "collapsed": false
   },
   "id": "b3fd423a9d48e834"
  }
 ],
 "metadata": {
  "kernelspec": {
   "display_name": "Python 3",
   "language": "python",
   "name": "python3"
  },
  "language_info": {
   "codemirror_mode": {
    "name": "ipython",
    "version": 2
   },
   "file_extension": ".py",
   "mimetype": "text/x-python",
   "name": "python",
   "nbconvert_exporter": "python",
   "pygments_lexer": "ipython2",
   "version": "2.7.6"
  }
 },
 "nbformat": 4,
 "nbformat_minor": 5
}
