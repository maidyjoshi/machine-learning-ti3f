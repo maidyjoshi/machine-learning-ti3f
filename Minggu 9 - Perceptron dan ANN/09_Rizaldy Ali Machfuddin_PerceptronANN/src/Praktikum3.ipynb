{
 "cells": [
  {
   "cell_type": "markdown",
   "id": "b03ce9e0b91b9c48",
   "metadata": {
    "collapsed": false
   },
   "source": [
    "**Praktikum 3**"
   ]
  },
  {
   "cell_type": "markdown",
   "id": "eda0e9e8782dbba7",
   "metadata": {
    "collapsed": false
   },
   "source": [
    "**Nilai Logika XOR dengan MLP**\n",
    "\n",
    "Pada kasus sederhana ini, Anda akan menggunakan MLP untuk mendapatkan nilai biner yang dioperasikan dengan logika XOR. Perlu diingat bahwa nilai XOR berbeda dengan OR, XOR hanya akan bernilai benar jika salah satu nilai yang benar, bukan keduanya atau tidak sama sekali."
   ]
  },
  {
   "cell_type": "markdown",
   "metadata": {},
   "source": [
    "### Langkah 1 - Import Library"
   ]
  },
  {
   "cell_type": "code",
   "execution_count": 1,
   "id": "df567c4f807af88",
   "metadata": {
    "ExecuteTime": {
     "end_time": "2023-10-24T12:58:31.612495500Z",
     "start_time": "2023-10-24T12:58:31.317652500Z"
    },
    "collapsed": false
   },
   "outputs": [],
   "source": [
    "# Import Library\n",
    "from sklearn.neural_network import MLPClassifier"
   ]
  },
  {
   "cell_type": "markdown",
   "metadata": {},
   "source": [
    "### Langkah 2 - Buat Data"
   ]
  },
  {
   "cell_type": "code",
   "execution_count": 2,
   "id": "c7e81c707fcbc463",
   "metadata": {
    "ExecuteTime": {
     "end_time": "2023-10-24T12:58:31.623648900Z",
     "start_time": "2023-10-24T12:58:31.615487100Z"
    },
    "collapsed": false
   },
   "outputs": [],
   "source": [
    "# Buat Data\n",
    "y = [0, 1, 1, 0] # label\n",
    "X = [[0, 0], [0, 1], [1, 0], [1, 1]] # data"
   ]
  },
  {
   "cell_type": "markdown",
   "metadata": {},
   "source": [
    "### Langkah 3 - FIt Model"
   ]
  },
  {
   "cell_type": "code",
   "execution_count": 3,
   "id": "90c2069401268ef7",
   "metadata": {
    "ExecuteTime": {
     "end_time": "2023-10-24T13:33:02.893996500Z",
     "start_time": "2023-10-24T13:33:02.841702Z"
    },
    "collapsed": false
   },
   "outputs": [
    {
     "name": "stdout",
     "output_type": "stream",
     "text": [
      "MLPClassifier(activation='logistic', hidden_layer_sizes=(2,), max_iter=100,\n",
      "              random_state=20, solver='lbfgs')\n"
     ]
    }
   ],
   "source": [
    "# Fit model\n",
    "clf = MLPClassifier(solver='lbfgs', activation='logistic', hidden_layer_sizes=(2,), max_iter=100, random_state=20)\n",
    "clf.fit(X, y)\n",
    "print(clf.fit(X, y))"
   ]
  },
  {
   "cell_type": "markdown",
   "metadata": {},
   "source": [
    "### Langkah 4 - Prediksi"
   ]
  },
  {
   "cell_type": "code",
   "execution_count": 4,
   "id": "bcaf9eb40bc2b082",
   "metadata": {
    "ExecuteTime": {
     "end_time": "2023-10-24T13:33:07.188249100Z",
     "start_time": "2023-10-24T13:33:07.139264500Z"
    },
    "collapsed": false
   },
   "outputs": [
    {
     "name": "stdout",
     "output_type": "stream",
     "text": [
      "Accuracy: 1.0\n",
      "True: 0, Predicted: 0\n",
      "True: 1, Predicted: 1\n",
      "True: 1, Predicted: 1\n",
      "True: 0, Predicted: 0\n"
     ]
    }
   ],
   "source": [
    "# Prediksi\n",
    "pred = clf.predict(X)\n",
    "print('Accuracy: %s' % clf.score(X, y))\n",
    "for i,p in enumerate(pred[:10]):\n",
    "    print('True: %s, Predicted: %s' % (y[i], p))"
   ]
  }
 ],
 "metadata": {
  "kernelspec": {
   "display_name": "Python 3",
   "language": "python",
   "name": "python3"
  },
  "language_info": {
   "codemirror_mode": {
    "name": "ipython",
    "version": 3
   },
   "file_extension": ".py",
   "mimetype": "text/x-python",
   "name": "python",
   "nbconvert_exporter": "python",
   "pygments_lexer": "ipython3",
   "version": "3.8.8"
  }
 },
 "nbformat": 4,
 "nbformat_minor": 5
}
