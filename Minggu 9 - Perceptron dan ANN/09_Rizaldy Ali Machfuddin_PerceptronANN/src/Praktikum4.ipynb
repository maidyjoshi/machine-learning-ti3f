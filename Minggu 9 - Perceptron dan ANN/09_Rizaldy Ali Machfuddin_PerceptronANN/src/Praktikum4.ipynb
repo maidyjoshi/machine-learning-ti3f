{
 "cells": [
  {
   "cell_type": "markdown",
   "id": "5f2978ab3405b1f7",
   "metadata": {
    "collapsed": false
   },
   "source": [
    "**Praktikum 4**"
   ]
  },
  {
   "cell_type": "markdown",
   "id": "56d6f20f06e2b150",
   "metadata": {
    "collapsed": false
   },
   "source": [
    "**Klasifikasi dengan ANN**\n",
    "\n",
    "Pada praktikum kali ini, Anda diminta untuk membuat model ANN untuk mengklasifikasi potensi seorang customer akan meninggalkan perusahaan Anda atau tidak. Istirlah populer dari fenomena ini disebut sebagai 'churn'. Tingkat churn yang tinggi (chrun rate) akan berdampak tidak baik bagi perusahaan."
   ]
  },
  {
   "cell_type": "markdown",
   "id": "6327aa9244d1e02e",
   "metadata": {
    "collapsed": false
   },
   "source": [
    "Pra Pengolahan Data"
   ]
  },
  {
   "cell_type": "code",
   "execution_count": 1,
   "metadata": {},
   "outputs": [
    {
     "name": "stdout",
     "output_type": "stream",
     "text": [
      "Requirement already satisfied: pip in f:\\polinema\\2b semester 5\\pembelajaran mesin\\pembelajaran_mesin2023\\week09v\\myenv\\lib\\site-packages (23.3.1)\n",
      "Note: you may need to restart the kernel to use updated packages.\n"
     ]
    }
   ],
   "source": [
    "pip install --upgrade pip"
   ]
  },
  {
   "cell_type": "code",
   "execution_count": 2,
   "metadata": {},
   "outputs": [
    {
     "name": "stdout",
     "output_type": "stream",
     "text": [
      "Requirement already satisfied: tensorflow in f:\\polinema\\2b semester 5\\pembelajaran mesin\\pembelajaran_mesin2023\\week09v\\myenv\\lib\\site-packages (2.14.0)\n",
      "Requirement already satisfied: tensorflow-intel==2.14.0 in f:\\polinema\\2b semester 5\\pembelajaran mesin\\pembelajaran_mesin2023\\week09v\\myenv\\lib\\site-packages (from tensorflow) (2.14.0)\n",
      "Requirement already satisfied: absl-py>=1.0.0 in f:\\polinema\\2b semester 5\\pembelajaran mesin\\pembelajaran_mesin2023\\week09v\\myenv\\lib\\site-packages (from tensorflow-intel==2.14.0->tensorflow) (2.0.0)\n",
      "Requirement already satisfied: astunparse>=1.6.0 in f:\\polinema\\2b semester 5\\pembelajaran mesin\\pembelajaran_mesin2023\\week09v\\myenv\\lib\\site-packages (from tensorflow-intel==2.14.0->tensorflow) (1.6.3)\n",
      "Requirement already satisfied: flatbuffers>=23.5.26 in f:\\polinema\\2b semester 5\\pembelajaran mesin\\pembelajaran_mesin2023\\week09v\\myenv\\lib\\site-packages (from tensorflow-intel==2.14.0->tensorflow) (23.5.26)\n",
      "Requirement already satisfied: gast!=0.5.0,!=0.5.1,!=0.5.2,>=0.2.1 in f:\\polinema\\2b semester 5\\pembelajaran mesin\\pembelajaran_mesin2023\\week09v\\myenv\\lib\\site-packages (from tensorflow-intel==2.14.0->tensorflow) (0.5.4)\n",
      "Requirement already satisfied: google-pasta>=0.1.1 in f:\\polinema\\2b semester 5\\pembelajaran mesin\\pembelajaran_mesin2023\\week09v\\myenv\\lib\\site-packages (from tensorflow-intel==2.14.0->tensorflow) (0.2.0)\n",
      "Requirement already satisfied: h5py>=2.9.0 in f:\\polinema\\2b semester 5\\pembelajaran mesin\\pembelajaran_mesin2023\\week09v\\myenv\\lib\\site-packages (from tensorflow-intel==2.14.0->tensorflow) (3.10.0)\n",
      "Requirement already satisfied: libclang>=13.0.0 in f:\\polinema\\2b semester 5\\pembelajaran mesin\\pembelajaran_mesin2023\\week09v\\myenv\\lib\\site-packages (from tensorflow-intel==2.14.0->tensorflow) (16.0.6)\n",
      "Requirement already satisfied: ml-dtypes==0.2.0 in f:\\polinema\\2b semester 5\\pembelajaran mesin\\pembelajaran_mesin2023\\week09v\\myenv\\lib\\site-packages (from tensorflow-intel==2.14.0->tensorflow) (0.2.0)\n",
      "Requirement already satisfied: numpy>=1.23.5 in f:\\polinema\\2b semester 5\\pembelajaran mesin\\pembelajaran_mesin2023\\week09v\\myenv\\lib\\site-packages (from tensorflow-intel==2.14.0->tensorflow) (1.26.1)\n",
      "Requirement already satisfied: opt-einsum>=2.3.2 in f:\\polinema\\2b semester 5\\pembelajaran mesin\\pembelajaran_mesin2023\\week09v\\myenv\\lib\\site-packages (from tensorflow-intel==2.14.0->tensorflow) (3.3.0)\n",
      "Requirement already satisfied: packaging in f:\\polinema\\2b semester 5\\pembelajaran mesin\\pembelajaran_mesin2023\\week09v\\myenv\\lib\\site-packages (from tensorflow-intel==2.14.0->tensorflow) (23.2)\n",
      "Requirement already satisfied: protobuf!=4.21.0,!=4.21.1,!=4.21.2,!=4.21.3,!=4.21.4,!=4.21.5,<5.0.0dev,>=3.20.3 in f:\\polinema\\2b semester 5\\pembelajaran mesin\\pembelajaran_mesin2023\\week09v\\myenv\\lib\\site-packages (from tensorflow-intel==2.14.0->tensorflow) (4.25.0)\n",
      "Requirement already satisfied: setuptools in f:\\polinema\\2b semester 5\\pembelajaran mesin\\pembelajaran_mesin2023\\week09v\\myenv\\lib\\site-packages (from tensorflow-intel==2.14.0->tensorflow) (65.5.0)\n",
      "Requirement already satisfied: six>=1.12.0 in f:\\polinema\\2b semester 5\\pembelajaran mesin\\pembelajaran_mesin2023\\week09v\\myenv\\lib\\site-packages (from tensorflow-intel==2.14.0->tensorflow) (1.16.0)\n",
      "Requirement already satisfied: termcolor>=1.1.0 in f:\\polinema\\2b semester 5\\pembelajaran mesin\\pembelajaran_mesin2023\\week09v\\myenv\\lib\\site-packages (from tensorflow-intel==2.14.0->tensorflow) (2.3.0)\n",
      "Requirement already satisfied: typing-extensions>=3.6.6 in f:\\polinema\\2b semester 5\\pembelajaran mesin\\pembelajaran_mesin2023\\week09v\\myenv\\lib\\site-packages (from tensorflow-intel==2.14.0->tensorflow) (4.8.0)\n",
      "Requirement already satisfied: wrapt<1.15,>=1.11.0 in f:\\polinema\\2b semester 5\\pembelajaran mesin\\pembelajaran_mesin2023\\week09v\\myenv\\lib\\site-packages (from tensorflow-intel==2.14.0->tensorflow) (1.14.1)\n",
      "Requirement already satisfied: tensorflow-io-gcs-filesystem>=0.23.1 in f:\\polinema\\2b semester 5\\pembelajaran mesin\\pembelajaran_mesin2023\\week09v\\myenv\\lib\\site-packages (from tensorflow-intel==2.14.0->tensorflow) (0.31.0)\n",
      "Requirement already satisfied: grpcio<2.0,>=1.24.3 in f:\\polinema\\2b semester 5\\pembelajaran mesin\\pembelajaran_mesin2023\\week09v\\myenv\\lib\\site-packages (from tensorflow-intel==2.14.0->tensorflow) (1.59.2)\n",
      "Requirement already satisfied: tensorboard<2.15,>=2.14 in f:\\polinema\\2b semester 5\\pembelajaran mesin\\pembelajaran_mesin2023\\week09v\\myenv\\lib\\site-packages (from tensorflow-intel==2.14.0->tensorflow) (2.14.1)\n",
      "Requirement already satisfied: tensorflow-estimator<2.15,>=2.14.0 in f:\\polinema\\2b semester 5\\pembelajaran mesin\\pembelajaran_mesin2023\\week09v\\myenv\\lib\\site-packages (from tensorflow-intel==2.14.0->tensorflow) (2.14.0)\n",
      "Requirement already satisfied: keras<2.15,>=2.14.0 in f:\\polinema\\2b semester 5\\pembelajaran mesin\\pembelajaran_mesin2023\\week09v\\myenv\\lib\\site-packages (from tensorflow-intel==2.14.0->tensorflow) (2.14.0)\n",
      "Requirement already satisfied: wheel<1.0,>=0.23.0 in f:\\polinema\\2b semester 5\\pembelajaran mesin\\pembelajaran_mesin2023\\week09v\\myenv\\lib\\site-packages (from astunparse>=1.6.0->tensorflow-intel==2.14.0->tensorflow) (0.41.3)\n",
      "Requirement already satisfied: google-auth<3,>=1.6.3 in f:\\polinema\\2b semester 5\\pembelajaran mesin\\pembelajaran_mesin2023\\week09v\\myenv\\lib\\site-packages (from tensorboard<2.15,>=2.14->tensorflow-intel==2.14.0->tensorflow) (2.23.4)\n",
      "Requirement already satisfied: google-auth-oauthlib<1.1,>=0.5 in f:\\polinema\\2b semester 5\\pembelajaran mesin\\pembelajaran_mesin2023\\week09v\\myenv\\lib\\site-packages (from tensorboard<2.15,>=2.14->tensorflow-intel==2.14.0->tensorflow) (1.0.0)\n",
      "Requirement already satisfied: markdown>=2.6.8 in f:\\polinema\\2b semester 5\\pembelajaran mesin\\pembelajaran_mesin2023\\week09v\\myenv\\lib\\site-packages (from tensorboard<2.15,>=2.14->tensorflow-intel==2.14.0->tensorflow) (3.5.1)\n",
      "Requirement already satisfied: requests<3,>=2.21.0 in f:\\polinema\\2b semester 5\\pembelajaran mesin\\pembelajaran_mesin2023\\week09v\\myenv\\lib\\site-packages (from tensorboard<2.15,>=2.14->tensorflow-intel==2.14.0->tensorflow) (2.31.0)\n",
      "Requirement already satisfied: tensorboard-data-server<0.8.0,>=0.7.0 in f:\\polinema\\2b semester 5\\pembelajaran mesin\\pembelajaran_mesin2023\\week09v\\myenv\\lib\\site-packages (from tensorboard<2.15,>=2.14->tensorflow-intel==2.14.0->tensorflow) (0.7.2)\n",
      "Requirement already satisfied: werkzeug>=1.0.1 in f:\\polinema\\2b semester 5\\pembelajaran mesin\\pembelajaran_mesin2023\\week09v\\myenv\\lib\\site-packages (from tensorboard<2.15,>=2.14->tensorflow-intel==2.14.0->tensorflow) (3.0.1)\n",
      "Requirement already satisfied: cachetools<6.0,>=2.0.0 in f:\\polinema\\2b semester 5\\pembelajaran mesin\\pembelajaran_mesin2023\\week09v\\myenv\\lib\\site-packages (from google-auth<3,>=1.6.3->tensorboard<2.15,>=2.14->tensorflow-intel==2.14.0->tensorflow) (5.3.2)\n",
      "Requirement already satisfied: pyasn1-modules>=0.2.1 in f:\\polinema\\2b semester 5\\pembelajaran mesin\\pembelajaran_mesin2023\\week09v\\myenv\\lib\\site-packages (from google-auth<3,>=1.6.3->tensorboard<2.15,>=2.14->tensorflow-intel==2.14.0->tensorflow) (0.3.0)\n",
      "Requirement already satisfied: rsa<5,>=3.1.4 in f:\\polinema\\2b semester 5\\pembelajaran mesin\\pembelajaran_mesin2023\\week09v\\myenv\\lib\\site-packages (from google-auth<3,>=1.6.3->tensorboard<2.15,>=2.14->tensorflow-intel==2.14.0->tensorflow) (4.9)\n",
      "Requirement already satisfied: requests-oauthlib>=0.7.0 in f:\\polinema\\2b semester 5\\pembelajaran mesin\\pembelajaran_mesin2023\\week09v\\myenv\\lib\\site-packages (from google-auth-oauthlib<1.1,>=0.5->tensorboard<2.15,>=2.14->tensorflow-intel==2.14.0->tensorflow) (1.3.1)\n",
      "Requirement already satisfied: charset-normalizer<4,>=2 in f:\\polinema\\2b semester 5\\pembelajaran mesin\\pembelajaran_mesin2023\\week09v\\myenv\\lib\\site-packages (from requests<3,>=2.21.0->tensorboard<2.15,>=2.14->tensorflow-intel==2.14.0->tensorflow) (3.3.2)\n",
      "Requirement already satisfied: idna<4,>=2.5 in f:\\polinema\\2b semester 5\\pembelajaran mesin\\pembelajaran_mesin2023\\week09v\\myenv\\lib\\site-packages (from requests<3,>=2.21.0->tensorboard<2.15,>=2.14->tensorflow-intel==2.14.0->tensorflow) (3.4)\n",
      "Requirement already satisfied: urllib3<3,>=1.21.1 in f:\\polinema\\2b semester 5\\pembelajaran mesin\\pembelajaran_mesin2023\\week09v\\myenv\\lib\\site-packages (from requests<3,>=2.21.0->tensorboard<2.15,>=2.14->tensorflow-intel==2.14.0->tensorflow) (2.0.7)\n",
      "Requirement already satisfied: certifi>=2017.4.17 in f:\\polinema\\2b semester 5\\pembelajaran mesin\\pembelajaran_mesin2023\\week09v\\myenv\\lib\\site-packages (from requests<3,>=2.21.0->tensorboard<2.15,>=2.14->tensorflow-intel==2.14.0->tensorflow) (2023.7.22)\n",
      "Requirement already satisfied: MarkupSafe>=2.1.1 in f:\\polinema\\2b semester 5\\pembelajaran mesin\\pembelajaran_mesin2023\\week09v\\myenv\\lib\\site-packages (from werkzeug>=1.0.1->tensorboard<2.15,>=2.14->tensorflow-intel==2.14.0->tensorflow) (2.1.3)\n",
      "Requirement already satisfied: pyasn1<0.6.0,>=0.4.6 in f:\\polinema\\2b semester 5\\pembelajaran mesin\\pembelajaran_mesin2023\\week09v\\myenv\\lib\\site-packages (from pyasn1-modules>=0.2.1->google-auth<3,>=1.6.3->tensorboard<2.15,>=2.14->tensorflow-intel==2.14.0->tensorflow) (0.5.0)\n",
      "Requirement already satisfied: oauthlib>=3.0.0 in f:\\polinema\\2b semester 5\\pembelajaran mesin\\pembelajaran_mesin2023\\week09v\\myenv\\lib\\site-packages (from requests-oauthlib>=0.7.0->google-auth-oauthlib<1.1,>=0.5->tensorboard<2.15,>=2.14->tensorflow-intel==2.14.0->tensorflow) (3.2.2)\n",
      "Note: you may need to restart the kernel to use updated packages.\n"
     ]
    }
   ],
   "source": [
    "pip install tensorflow"
   ]
  },
  {
   "cell_type": "code",
   "execution_count": 4,
   "id": "d48530222a824afb",
   "metadata": {
    "ExecuteTime": {
     "end_time": "2023-10-24T15:32:45.996201600Z",
     "start_time": "2023-10-24T15:32:45.848404300Z"
    },
    "collapsed": false
   },
   "outputs": [],
   "source": [
    "# Import libary\n",
    "import numpy as np\n",
    "import pandas as pd\n",
    "import tensorflow as tf"
   ]
  },
  {
   "cell_type": "code",
   "execution_count": 5,
   "id": "2c720fc0b0d17b0a",
   "metadata": {
    "ExecuteTime": {
     "end_time": "2023-10-24T15:32:46.011162700Z",
     "start_time": "2023-10-24T15:32:45.852397Z"
    },
    "collapsed": false
   },
   "outputs": [],
   "source": [
    "# Load data\n",
    "dataset = pd.read_csv('../data/Churn_Modelling.csv')\n",
    "X = dataset.iloc[:, 3:-1].values\n",
    "y = dataset.iloc[:, -1].values"
   ]
  },
  {
   "cell_type": "code",
   "execution_count": 6,
   "id": "99d1a4de524e59eb",
   "metadata": {
    "ExecuteTime": {
     "end_time": "2023-10-24T15:32:46.012159600Z",
     "start_time": "2023-10-24T15:32:45.882996900Z"
    },
    "collapsed": false
   },
   "outputs": [
    {
     "name": "stdout",
     "output_type": "stream",
     "text": [
      "[[619 'France' 'Female' ... 1 1 101348.88]\n",
      " [608 'Spain' 'Female' ... 0 1 112542.58]\n",
      " [502 'France' 'Female' ... 1 0 113931.57]\n",
      " ...\n",
      " [709 'France' 'Female' ... 0 1 42085.58]\n",
      " [772 'Germany' 'Male' ... 1 0 92888.52]\n",
      " [792 'France' 'Female' ... 1 0 38190.78]]\n"
     ]
    }
   ],
   "source": [
    "# Cek data (X)\n",
    "print(X)"
   ]
  },
  {
   "cell_type": "code",
   "execution_count": 9,
   "id": "f4e8b11f118c4585",
   "metadata": {
    "ExecuteTime": {
     "end_time": "2023-10-24T15:32:46.012159600Z",
     "start_time": "2023-10-24T15:32:45.890465Z"
    },
    "collapsed": false
   },
   "outputs": [
    {
     "name": "stdout",
     "output_type": "stream",
     "text": [
      "[[619 'France' 0 ... 1 1 101348.88]\n",
      " [608 'Spain' 0 ... 0 1 112542.58]\n",
      " [502 'France' 0 ... 1 0 113931.57]\n",
      " ...\n",
      " [709 'France' 0 ... 0 1 42085.58]\n",
      " [772 'Germany' 1 ... 1 0 92888.52]\n",
      " [792 'France' 0 ... 1 0 38190.78]]\n"
     ]
    }
   ],
   "source": [
    "#  Encoding Data Kategorikal\n",
    "from sklearn.preprocessing import LabelEncoder\n",
    "le = LabelEncoder()\n",
    "X[:, 2] = le.fit_transform(X[:, 2])\n",
    "\n",
    "# Cek data (X) dengan print. Hasilnya\n",
    "print(X)"
   ]
  },
  {
   "cell_type": "code",
   "execution_count": 10,
   "id": "99b14bb7a9a6cdde",
   "metadata": {
    "ExecuteTime": {
     "end_time": "2023-10-24T15:32:46.012159600Z",
     "start_time": "2023-10-24T15:32:45.902350100Z"
    },
    "collapsed": false
   },
   "outputs": [
    {
     "name": "stdout",
     "output_type": "stream",
     "text": [
      "[[1.0 0.0 0.0 ... 1 1 101348.88]\n",
      " [0.0 0.0 1.0 ... 0 1 112542.58]\n",
      " [1.0 0.0 0.0 ... 1 0 113931.57]\n",
      " ...\n",
      " [1.0 0.0 0.0 ... 0 1 42085.58]\n",
      " [0.0 1.0 0.0 ... 1 0 92888.52]\n",
      " [1.0 0.0 0.0 ... 1 0 38190.78]]\n"
     ]
    }
   ],
   "source": [
    "# Encoding Kolom \"Geography\" dengan One Hot Encoder\n",
    "from sklearn.compose import ColumnTransformer\n",
    "from sklearn.preprocessing import OneHotEncoder\n",
    "ct = ColumnTransformer(transformers=[('encoder', OneHotEncoder(), [1])], remainder='passthrough')\n",
    "X = np.array(ct.fit_transform(X))\n",
    "\n",
    "print(X)"
   ]
  },
  {
   "cell_type": "code",
   "execution_count": 11,
   "id": "218b81e445ac9f1f",
   "metadata": {
    "ExecuteTime": {
     "end_time": "2023-10-24T15:32:46.012159600Z",
     "start_time": "2023-10-24T15:32:45.913798800Z"
    },
    "collapsed": false
   },
   "outputs": [],
   "source": [
    "# Split Data\n",
    "from sklearn.model_selection import train_test_split\n",
    "X_train, X_test, y_train, y_test = train_test_split(X, y, test_size = 0.2, random_state = 0)"
   ]
  },
  {
   "cell_type": "code",
   "execution_count": 12,
   "id": "59d89d57c9579c49",
   "metadata": {
    "ExecuteTime": {
     "end_time": "2023-10-24T15:32:46.013156800Z",
     "start_time": "2023-10-24T15:32:45.925573Z"
    },
    "collapsed": false
   },
   "outputs": [],
   "source": [
    "# Scaling Fitur\n",
    "from sklearn.preprocessing import StandardScaler\n",
    "sc = StandardScaler()\n",
    "X_train = sc.fit_transform(X_train)\n",
    "X_test = sc.transform(X_test)"
   ]
  },
  {
   "cell_type": "markdown",
   "id": "49d21b8a0244caf4",
   "metadata": {
    "collapsed": false
   },
   "source": [
    "Membuat Model ANN"
   ]
  },
  {
   "cell_type": "code",
   "execution_count": 13,
   "id": "947dccbbfa9943f",
   "metadata": {
    "ExecuteTime": {
     "end_time": "2023-10-24T15:32:46.013156800Z",
     "start_time": "2023-10-24T15:32:45.943516500Z"
    },
    "collapsed": false
   },
   "outputs": [],
   "source": [
    "# Inisiasi Model ANN\n",
    "ann = tf.keras.models.Sequential()"
   ]
  },
  {
   "cell_type": "code",
   "execution_count": 14,
   "id": "8b222a5e74ba9eb2",
   "metadata": {
    "ExecuteTime": {
     "end_time": "2023-10-24T15:32:46.014154100Z",
     "start_time": "2023-10-24T15:32:45.951456100Z"
    },
    "collapsed": false
   },
   "outputs": [],
   "source": [
    "# Membuat Input Layer dan Hidden Layer Pertama\n",
    "ann.add(tf.keras.layers.Dense(units=6, activation='relu'))"
   ]
  },
  {
   "cell_type": "code",
   "execution_count": 15,
   "id": "b9ac5306b4a27645",
   "metadata": {
    "ExecuteTime": {
     "end_time": "2023-10-24T15:32:46.014154100Z",
     "start_time": "2023-10-24T15:32:45.958726200Z"
    },
    "collapsed": false
   },
   "outputs": [],
   "source": [
    "# Membuat Hidden Layer Kedua\n",
    "ann.add(tf.keras.layers.Dense(units=6, activation='relu'))"
   ]
  },
  {
   "cell_type": "code",
   "execution_count": 16,
   "id": "7d97db66a111c3f3",
   "metadata": {
    "ExecuteTime": {
     "end_time": "2023-10-24T15:32:46.014154100Z",
     "start_time": "2023-10-24T15:32:45.964709300Z"
    },
    "collapsed": false
   },
   "outputs": [],
   "source": [
    "# Membuat Output Layer\n",
    "ann.add(tf.keras.layers.Dense(units=1, activation='sigmoid'))"
   ]
  },
  {
   "cell_type": "markdown",
   "id": "e83cf36da25408bf",
   "metadata": {
    "collapsed": false
   },
   "source": [
    "Training Model"
   ]
  },
  {
   "cell_type": "code",
   "execution_count": 17,
   "id": "f053898275887202",
   "metadata": {
    "ExecuteTime": {
     "end_time": "2023-10-24T15:32:46.015151500Z",
     "start_time": "2023-10-24T15:32:45.970920700Z"
    },
    "collapsed": false
   },
   "outputs": [],
   "source": [
    "# Compile Model (Menyatukan Arsitektur) ANN\n",
    "ann.compile(optimizer = 'adam', loss = 'binary_crossentropy', metrics = ['accuracy'])"
   ]
  },
  {
   "cell_type": "code",
   "execution_count": 18,
   "id": "726f88e381792119",
   "metadata": {
    "collapsed": false
   },
   "outputs": [
    {
     "name": "stdout",
     "output_type": "stream",
     "text": [
      "Epoch 1/100\n",
      "250/250 [==============================] - 9s 3ms/step - loss: 0.5354 - accuracy: 0.7960\n",
      "Epoch 2/100\n",
      "250/250 [==============================] - 1s 2ms/step - loss: 0.4783 - accuracy: 0.7960\n",
      "Epoch 3/100\n",
      "250/250 [==============================] - 1s 3ms/step - loss: 0.4593 - accuracy: 0.7960\n",
      "Epoch 4/100\n",
      "250/250 [==============================] - 1s 3ms/step - loss: 0.4479 - accuracy: 0.7960\n",
      "Epoch 5/100\n",
      "250/250 [==============================] - 1s 3ms/step - loss: 0.4404 - accuracy: 0.7960\n",
      "Epoch 6/100\n",
      "250/250 [==============================] - 1s 2ms/step - loss: 0.4351 - accuracy: 0.7960\n",
      "Epoch 7/100\n",
      "250/250 [==============================] - 1s 4ms/step - loss: 0.4316 - accuracy: 0.7960\n",
      "Epoch 8/100\n",
      "250/250 [==============================] - 1s 3ms/step - loss: 0.4284 - accuracy: 0.8000\n",
      "Epoch 9/100\n",
      "250/250 [==============================] - 1s 4ms/step - loss: 0.4254 - accuracy: 0.8076\n",
      "Epoch 10/100\n",
      "250/250 [==============================] - 1s 3ms/step - loss: 0.4226 - accuracy: 0.8089\n",
      "Epoch 11/100\n",
      "250/250 [==============================] - 1s 3ms/step - loss: 0.4189 - accuracy: 0.8146\n",
      "Epoch 12/100\n",
      "250/250 [==============================] - 1s 3ms/step - loss: 0.4142 - accuracy: 0.8230\n",
      "Epoch 13/100\n",
      "250/250 [==============================] - 1s 2ms/step - loss: 0.4080 - accuracy: 0.8282\n",
      "Epoch 14/100\n",
      "250/250 [==============================] - 1s 3ms/step - loss: 0.4025 - accuracy: 0.8322\n",
      "Epoch 15/100\n",
      "250/250 [==============================] - 1s 3ms/step - loss: 0.3980 - accuracy: 0.8367\n",
      "Epoch 16/100\n",
      "250/250 [==============================] - 1s 3ms/step - loss: 0.3946 - accuracy: 0.8394\n",
      "Epoch 17/100\n",
      "250/250 [==============================] - 1s 2ms/step - loss: 0.3919 - accuracy: 0.8397\n",
      "Epoch 18/100\n",
      "250/250 [==============================] - 1s 3ms/step - loss: 0.3895 - accuracy: 0.8422\n",
      "Epoch 19/100\n",
      "250/250 [==============================] - 1s 3ms/step - loss: 0.3883 - accuracy: 0.8425\n",
      "Epoch 20/100\n",
      "250/250 [==============================] - 1s 3ms/step - loss: 0.3864 - accuracy: 0.8439\n",
      "Epoch 21/100\n",
      "250/250 [==============================] - 1s 2ms/step - loss: 0.3845 - accuracy: 0.8449\n",
      "Epoch 22/100\n",
      "250/250 [==============================] - 1s 3ms/step - loss: 0.3832 - accuracy: 0.8445\n",
      "Epoch 23/100\n",
      "250/250 [==============================] - 1s 3ms/step - loss: 0.3819 - accuracy: 0.8455\n",
      "Epoch 24/100\n",
      "250/250 [==============================] - 1s 3ms/step - loss: 0.3803 - accuracy: 0.8476\n",
      "Epoch 25/100\n",
      "250/250 [==============================] - 1s 3ms/step - loss: 0.3793 - accuracy: 0.8460\n",
      "Epoch 26/100\n",
      "250/250 [==============================] - 1s 3ms/step - loss: 0.3782 - accuracy: 0.8468\n",
      "Epoch 27/100\n",
      "250/250 [==============================] - 1s 3ms/step - loss: 0.3765 - accuracy: 0.8465\n",
      "Epoch 28/100\n",
      "250/250 [==============================] - 1s 3ms/step - loss: 0.3758 - accuracy: 0.8486\n",
      "Epoch 29/100\n",
      "250/250 [==============================] - 1s 3ms/step - loss: 0.3748 - accuracy: 0.8489\n",
      "Epoch 30/100\n",
      "250/250 [==============================] - 1s 3ms/step - loss: 0.3741 - accuracy: 0.8500\n",
      "Epoch 31/100\n",
      "250/250 [==============================] - 1s 4ms/step - loss: 0.3735 - accuracy: 0.8490\n",
      "Epoch 32/100\n",
      "250/250 [==============================] - 1s 4ms/step - loss: 0.3725 - accuracy: 0.8503\n",
      "Epoch 33/100\n",
      "250/250 [==============================] - 1s 3ms/step - loss: 0.3725 - accuracy: 0.8479\n",
      "Epoch 34/100\n",
      "250/250 [==============================] - 1s 4ms/step - loss: 0.3715 - accuracy: 0.8506\n",
      "Epoch 35/100\n",
      "250/250 [==============================] - 1s 3ms/step - loss: 0.3712 - accuracy: 0.8487\n",
      "Epoch 36/100\n",
      "250/250 [==============================] - 1s 3ms/step - loss: 0.3706 - accuracy: 0.8505\n",
      "Epoch 37/100\n",
      "250/250 [==============================] - 1s 2ms/step - loss: 0.3701 - accuracy: 0.8501\n",
      "Epoch 38/100\n",
      "250/250 [==============================] - 1s 3ms/step - loss: 0.3692 - accuracy: 0.8499\n",
      "Epoch 39/100\n",
      "250/250 [==============================] - 1s 2ms/step - loss: 0.3692 - accuracy: 0.8504\n",
      "Epoch 40/100\n",
      "250/250 [==============================] - 1s 4ms/step - loss: 0.3685 - accuracy: 0.8515\n",
      "Epoch 41/100\n",
      "250/250 [==============================] - 1s 4ms/step - loss: 0.3679 - accuracy: 0.8515\n",
      "Epoch 42/100\n",
      "250/250 [==============================] - 1s 3ms/step - loss: 0.3676 - accuracy: 0.8497\n",
      "Epoch 43/100\n",
      "250/250 [==============================] - 1s 3ms/step - loss: 0.3670 - accuracy: 0.8508\n",
      "Epoch 44/100\n",
      "250/250 [==============================] - 0s 2ms/step - loss: 0.3669 - accuracy: 0.8499\n",
      "Epoch 45/100\n",
      "250/250 [==============================] - 1s 2ms/step - loss: 0.3658 - accuracy: 0.8514\n",
      "Epoch 46/100\n",
      "250/250 [==============================] - 1s 3ms/step - loss: 0.3656 - accuracy: 0.8500\n",
      "Epoch 47/100\n",
      "250/250 [==============================] - 1s 2ms/step - loss: 0.3650 - accuracy: 0.8508\n",
      "Epoch 48/100\n",
      "250/250 [==============================] - 1s 2ms/step - loss: 0.3642 - accuracy: 0.8519\n",
      "Epoch 49/100\n",
      "250/250 [==============================] - 1s 2ms/step - loss: 0.3641 - accuracy: 0.8519\n",
      "Epoch 50/100\n",
      "250/250 [==============================] - 1s 3ms/step - loss: 0.3635 - accuracy: 0.8518\n",
      "Epoch 51/100\n",
      "250/250 [==============================] - 1s 2ms/step - loss: 0.3631 - accuracy: 0.8531\n",
      "Epoch 52/100\n",
      "250/250 [==============================] - 1s 3ms/step - loss: 0.3626 - accuracy: 0.8521\n",
      "Epoch 53/100\n",
      "250/250 [==============================] - 1s 2ms/step - loss: 0.3622 - accuracy: 0.8515\n",
      "Epoch 54/100\n",
      "250/250 [==============================] - 1s 4ms/step - loss: 0.3618 - accuracy: 0.8522\n",
      "Epoch 55/100\n",
      "250/250 [==============================] - 1s 3ms/step - loss: 0.3617 - accuracy: 0.8531\n",
      "Epoch 56/100\n",
      "250/250 [==============================] - 1s 3ms/step - loss: 0.3616 - accuracy: 0.8535\n",
      "Epoch 57/100\n",
      "250/250 [==============================] - 1s 3ms/step - loss: 0.3609 - accuracy: 0.8520\n",
      "Epoch 58/100\n",
      "250/250 [==============================] - 1s 4ms/step - loss: 0.3606 - accuracy: 0.8521\n",
      "Epoch 59/100\n",
      "250/250 [==============================] - 1s 3ms/step - loss: 0.3603 - accuracy: 0.8521\n",
      "Epoch 60/100\n",
      "250/250 [==============================] - 1s 2ms/step - loss: 0.3600 - accuracy: 0.8534\n",
      "Epoch 61/100\n",
      "250/250 [==============================] - 1s 3ms/step - loss: 0.3595 - accuracy: 0.8544\n",
      "Epoch 62/100\n",
      "250/250 [==============================] - 1s 3ms/step - loss: 0.3587 - accuracy: 0.8531\n",
      "Epoch 63/100\n",
      "250/250 [==============================] - 1s 3ms/step - loss: 0.3578 - accuracy: 0.8524\n",
      "Epoch 64/100\n",
      "250/250 [==============================] - 1s 2ms/step - loss: 0.3561 - accuracy: 0.8537\n",
      "Epoch 65/100\n",
      "250/250 [==============================] - 1s 2ms/step - loss: 0.3546 - accuracy: 0.8560\n",
      "Epoch 66/100\n",
      "250/250 [==============================] - 1s 3ms/step - loss: 0.3528 - accuracy: 0.8546\n",
      "Epoch 67/100\n",
      "250/250 [==============================] - 1s 2ms/step - loss: 0.3508 - accuracy: 0.8554\n",
      "Epoch 68/100\n",
      "250/250 [==============================] - 1s 3ms/step - loss: 0.3500 - accuracy: 0.8559\n",
      "Epoch 69/100\n",
      "250/250 [==============================] - 1s 2ms/step - loss: 0.3490 - accuracy: 0.8545\n",
      "Epoch 70/100\n",
      "250/250 [==============================] - 1s 3ms/step - loss: 0.3478 - accuracy: 0.8564\n",
      "Epoch 71/100\n",
      "250/250 [==============================] - 1s 2ms/step - loss: 0.3468 - accuracy: 0.8568\n",
      "Epoch 72/100\n",
      "250/250 [==============================] - 1s 3ms/step - loss: 0.3445 - accuracy: 0.8569\n",
      "Epoch 73/100\n",
      "250/250 [==============================] - 1s 2ms/step - loss: 0.3444 - accuracy: 0.8591\n",
      "Epoch 74/100\n",
      "250/250 [==============================] - 1s 3ms/step - loss: 0.3434 - accuracy: 0.8585\n",
      "Epoch 75/100\n",
      "250/250 [==============================] - 1s 2ms/step - loss: 0.3424 - accuracy: 0.8599\n",
      "Epoch 76/100\n",
      "250/250 [==============================] - 1s 3ms/step - loss: 0.3412 - accuracy: 0.8615\n",
      "Epoch 77/100\n",
      "250/250 [==============================] - 1s 2ms/step - loss: 0.3410 - accuracy: 0.8595\n",
      "Epoch 78/100\n",
      "250/250 [==============================] - 1s 3ms/step - loss: 0.3404 - accuracy: 0.8585\n",
      "Epoch 79/100\n",
      "250/250 [==============================] - 1s 3ms/step - loss: 0.3401 - accuracy: 0.8601\n",
      "Epoch 80/100\n",
      "250/250 [==============================] - 1s 2ms/step - loss: 0.3394 - accuracy: 0.8600\n",
      "Epoch 81/100\n",
      "250/250 [==============================] - 1s 2ms/step - loss: 0.3388 - accuracy: 0.8611\n",
      "Epoch 82/100\n",
      "250/250 [==============================] - 1s 2ms/step - loss: 0.3383 - accuracy: 0.8612\n",
      "Epoch 83/100\n",
      "250/250 [==============================] - 1s 3ms/step - loss: 0.3375 - accuracy: 0.8601\n",
      "Epoch 84/100\n",
      "250/250 [==============================] - 0s 2ms/step - loss: 0.3370 - accuracy: 0.8620\n",
      "Epoch 85/100\n",
      "250/250 [==============================] - 1s 2ms/step - loss: 0.3368 - accuracy: 0.8615\n",
      "Epoch 86/100\n",
      "250/250 [==============================] - 1s 2ms/step - loss: 0.3364 - accuracy: 0.8620\n",
      "Epoch 87/100\n",
      "250/250 [==============================] - 1s 3ms/step - loss: 0.3353 - accuracy: 0.8618\n",
      "Epoch 88/100\n",
      "250/250 [==============================] - 1s 2ms/step - loss: 0.3364 - accuracy: 0.8618\n",
      "Epoch 89/100\n",
      "250/250 [==============================] - 1s 3ms/step - loss: 0.3351 - accuracy: 0.8629\n",
      "Epoch 90/100\n",
      "250/250 [==============================] - 1s 2ms/step - loss: 0.3348 - accuracy: 0.8627\n",
      "Epoch 91/100\n",
      "250/250 [==============================] - 1s 2ms/step - loss: 0.3350 - accuracy: 0.8610\n",
      "Epoch 92/100\n",
      "250/250 [==============================] - 1s 2ms/step - loss: 0.3345 - accuracy: 0.8596\n",
      "Epoch 93/100\n",
      "250/250 [==============================] - 1s 2ms/step - loss: 0.3351 - accuracy: 0.8609\n",
      "Epoch 94/100\n",
      "250/250 [==============================] - 1s 2ms/step - loss: 0.3343 - accuracy: 0.8606\n",
      "Epoch 95/100\n",
      "250/250 [==============================] - 1s 2ms/step - loss: 0.3333 - accuracy: 0.8633\n",
      "Epoch 96/100\n",
      "250/250 [==============================] - 1s 3ms/step - loss: 0.3337 - accuracy: 0.8634\n",
      "Epoch 97/100\n",
      "250/250 [==============================] - 1s 2ms/step - loss: 0.3334 - accuracy: 0.8630\n",
      "Epoch 98/100\n",
      "250/250 [==============================] - 1s 2ms/step - loss: 0.3332 - accuracy: 0.8629\n",
      "Epoch 99/100\n",
      "250/250 [==============================] - 1s 2ms/step - loss: 0.3332 - accuracy: 0.8640\n",
      "Epoch 100/100\n",
      "250/250 [==============================] - 1s 2ms/step - loss: 0.3325 - accuracy: 0.8631\n"
     ]
    },
    {
     "data": {
      "text/plain": [
       "<keras.src.callbacks.History at 0x1e5537a8110>"
      ]
     },
     "execution_count": 18,
     "metadata": {},
     "output_type": "execute_result"
    }
   ],
   "source": [
    "# Fitting Model\n",
    "ann.fit(X_train, y_train, batch_size = 32, epochs = 100)"
   ]
  },
  {
   "cell_type": "code",
   "execution_count": 19,
   "id": "e90e84441a9db26",
   "metadata": {
    "ExecuteTime": {
     "end_time": "2023-10-24T15:33:20.617541200Z",
     "start_time": "2023-10-24T15:33:20.476159900Z"
    },
    "collapsed": false
   },
   "outputs": [
    {
     "name": "stdout",
     "output_type": "stream",
     "text": [
      "1/1 [==============================] - 0s 206ms/step\n",
      "[[False]]\n"
     ]
    }
   ],
   "source": [
    "# Modelkan Data Baru dan Buat Prediksi\n",
    "print(ann.predict(sc.transform([[1, 0, 0, 600, 1, 40, 3, 60000, 2, 1, 1, 50000]])) > 0.5)"
   ]
  },
  {
   "cell_type": "code",
   "execution_count": 20,
   "id": "e4ed52e839e7916a",
   "metadata": {
    "ExecuteTime": {
     "end_time": "2023-10-24T15:33:20.790673300Z",
     "start_time": "2023-10-24T15:33:20.618538700Z"
    },
    "collapsed": false
   },
   "outputs": [
    {
     "name": "stdout",
     "output_type": "stream",
     "text": [
      "63/63 [==============================] - 0s 3ms/step\n",
      "[[0 0]\n",
      " [0 1]\n",
      " [0 0]\n",
      " ...\n",
      " [0 0]\n",
      " [0 0]\n",
      " [0 0]]\n"
     ]
    }
   ],
   "source": [
    "# Prediksi Dengan Data Testing\n",
    "y_pred = ann.predict(X_test)\n",
    "y_pred = (y_pred > 0.5)\n",
    "print(np.concatenate((y_pred.reshape(len(y_pred),1), y_test.reshape(len(y_test),1)),1))"
   ]
  },
  {
   "cell_type": "code",
   "execution_count": 21,
   "id": "83a66918e964f3aa",
   "metadata": {
    "ExecuteTime": {
     "end_time": "2023-10-24T15:33:20.801679600Z",
     "start_time": "2023-10-24T15:33:20.792668200Z"
    },
    "collapsed": false
   },
   "outputs": [
    {
     "name": "stdout",
     "output_type": "stream",
     "text": [
      "[[1514   81]\n",
      " [ 203  202]]\n"
     ]
    },
    {
     "data": {
      "text/plain": [
       "0.858"
      ]
     },
     "execution_count": 21,
     "metadata": {},
     "output_type": "execute_result"
    }
   ],
   "source": [
    "# Cek Akurasi dan Confusion Matrix\n",
    "from sklearn.metrics import confusion_matrix, accuracy_score\n",
    "cm = confusion_matrix(y_test, y_pred)\n",
    "print(cm)\n",
    "accuracy_score(y_test, y_pred)"
   ]
  }
 ],
 "metadata": {
  "kernelspec": {
   "display_name": "Python 3",
   "language": "python",
   "name": "python3"
  },
  "language_info": {
   "codemirror_mode": {
    "name": "ipython",
    "version": 3
   },
   "file_extension": ".py",
   "mimetype": "text/x-python",
   "name": "python",
   "nbconvert_exporter": "python",
   "pygments_lexer": "ipython3",
   "version": "3.11.0"
  }
 },
 "nbformat": 4,
 "nbformat_minor": 5
}
