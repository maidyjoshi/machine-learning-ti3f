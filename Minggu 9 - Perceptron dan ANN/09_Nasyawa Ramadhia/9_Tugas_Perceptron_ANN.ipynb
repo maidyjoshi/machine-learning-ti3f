{
  "nbformat": 4,
  "nbformat_minor": 0,
  "metadata": {
    "colab": {
      "provenance": []
    },
    "kernelspec": {
      "name": "python3",
      "display_name": "Python 3"
    },
    "language_info": {
      "name": "python"
    }
  },
  "cells": [
    {
      "cell_type": "markdown",
      "source": [
        "**Nasyawa Ramadhia // 2141720011**"
      ],
      "metadata": {
        "id": "PpLoUfkZgBcJ"
      }
    },
    {
      "cell_type": "markdown",
      "source": [
        "Lakukan klasifikasi pada data MNIST dengan menggunakan model ANN\n",
        "\n",
        "Anda diperbolehkan melakukan eksplorasi terhadap,\n",
        "- Metode pra pengolahan\n",
        "- Pemilihan fitur\n",
        "- Arsitektur ANN\n",
        "- Fungsi Aktiviasi\n",
        "\n",
        "ANN diimplementasikan dengan menggunakan tensorflow."
      ],
      "metadata": {
        "id": "w0mlrSs0pc-d"
      }
    },
    {
      "cell_type": "markdown",
      "source": [
        "**Impor Library**\n",
        "\n",
        "impor pandas, untuk manipulasi dan analisis data\n",
        "\n",
        "impor numpy, untuk komputasi numerik\n",
        "\n",
        "impor matplotlib,untuk visualisasi data\n"
      ],
      "metadata": {
        "id": "qk7MWlsvJgbv"
      }
    },
    {
      "cell_type": "code",
      "execution_count": null,
      "metadata": {
        "id": "lIb1SUE9pS4y"
      },
      "outputs": [],
      "source": [
        "import pandas as pd\n",
        "import numpy as np\n",
        "import matplotlib.pyplot as plt"
      ]
    },
    {
      "cell_type": "markdown",
      "source": [
        "**Dataset MNIST**"
      ],
      "metadata": {
        "id": "1TuULouAWA58"
      }
    },
    {
      "cell_type": "code",
      "source": [
        "from sklearn.datasets import fetch_openml\n",
        "\n",
        "# Memuat dataset MNIST\n",
        "mnist = fetch_openml(\"mnist_784\", version=1, as_frame=False)"
      ],
      "metadata": {
        "colab": {
          "base_uri": "https://localhost:8080/"
        },
        "id": "yu4krFG7V6Jm",
        "outputId": "0b919565-95ad-4992-a79e-54f88c21bdbe"
      },
      "execution_count": null,
      "outputs": [
        {
          "output_type": "stream",
          "name": "stderr",
          "text": [
            "/usr/local/lib/python3.10/dist-packages/sklearn/datasets/_openml.py:968: FutureWarning: The default value of `parser` will change from `'liac-arff'` to `'auto'` in 1.4. You can set `parser='auto'` to silence this warning. Therefore, an `ImportError` will be raised from 1.4 if the dataset is dense and pandas is not installed. Note that the pandas parser may return different data types. See the Notes Section in fetch_openml's API doc for details.\n",
            "  warn(\n"
          ]
        }
      ]
    },
    {
      "cell_type": "code",
      "source": [
        "# Split Data\n",
        "X = mnist.data\n",
        "y = mnist.target.astype(int)"
      ],
      "metadata": {
        "id": "1m6yhkrtWTE_"
      },
      "execution_count": null,
      "outputs": []
    },
    {
      "cell_type": "code",
      "source": [
        "# Train split data\n",
        "from sklearn.model_selection import train_test_split\n",
        "X_train, X_test, y_train, y_test = train_test_split(X, y, test_size = 0.2, random_state = 0)"
      ],
      "metadata": {
        "id": "RVDJLKutXeTG"
      },
      "execution_count": null,
      "outputs": []
    },
    {
      "cell_type": "code",
      "source": [
        "# Scalling fitur\n",
        "from sklearn.preprocessing import StandardScaler\n",
        "sc = StandardScaler()\n",
        "X_train = sc.fit_transform(X_train)\n",
        "X_test = sc.transform(X_test)"
      ],
      "metadata": {
        "id": "vnm6pirFXhoq"
      },
      "execution_count": null,
      "outputs": []
    },
    {
      "cell_type": "code",
      "source": [
        "# Membuat modell ann\n",
        "from keras.api._v2.keras.layers import Dense\n",
        "import tensorflow as tf\n",
        "ann = tf.keras.models.Sequential()\n",
        "# Membuat input layer\n",
        "ann.add(tf.keras.layers.Dense(units=256, activation='relu'))\n",
        "# Membuat output layer\n",
        "ann.add(tf.keras.layers.Dense(units=10, activation='softmax'))"
      ],
      "metadata": {
        "id": "2RvnKPxHXk6E"
      },
      "execution_count": null,
      "outputs": []
    },
    {
      "cell_type": "code",
      "source": [
        "# Compiling model\n",
        "ann.compile(optimizer='adam', loss='sparse_categorical_crossentropy', metrics=['accuracy'])"
      ],
      "metadata": {
        "id": "NctKUy_NXnDZ"
      },
      "execution_count": null,
      "outputs": []
    },
    {
      "cell_type": "code",
      "source": [
        "# Memasukkan data yang telah di train ke dalam model\n",
        "ann.fit(X_train, y_train, batch_size = 100, epochs = 10)"
      ],
      "metadata": {
        "colab": {
          "base_uri": "https://localhost:8080/"
        },
        "id": "I0KUyu52Xo2_",
        "outputId": "e95d6dd7-e17e-4534-f9a5-04d6b6275e80"
      },
      "execution_count": null,
      "outputs": [
        {
          "output_type": "stream",
          "name": "stdout",
          "text": [
            "Epoch 1/10\n",
            "560/560 [==============================] - 6s 9ms/step - loss: 0.2509 - accuracy: 0.9291\n",
            "Epoch 2/10\n",
            "560/560 [==============================] - 5s 9ms/step - loss: 0.0965 - accuracy: 0.9717\n",
            "Epoch 3/10\n",
            "560/560 [==============================] - 5s 10ms/step - loss: 0.0622 - accuracy: 0.9818\n",
            "Epoch 4/10\n",
            "560/560 [==============================] - 7s 12ms/step - loss: 0.0433 - accuracy: 0.9882\n",
            "Epoch 5/10\n",
            "560/560 [==============================] - 7s 12ms/step - loss: 0.0312 - accuracy: 0.9913\n",
            "Epoch 6/10\n",
            "560/560 [==============================] - 7s 13ms/step - loss: 0.0236 - accuracy: 0.9925\n",
            "Epoch 7/10\n",
            "560/560 [==============================] - 5s 10ms/step - loss: 0.0168 - accuracy: 0.9954\n",
            "Epoch 8/10\n",
            "560/560 [==============================] - 7s 13ms/step - loss: 0.0124 - accuracy: 0.9966\n",
            "Epoch 9/10\n",
            "560/560 [==============================] - 5s 8ms/step - loss: 0.0164 - accuracy: 0.9954\n",
            "Epoch 10/10\n",
            "560/560 [==============================] - 3s 6ms/step - loss: 0.0179 - accuracy: 0.9943\n"
          ]
        },
        {
          "output_type": "execute_result",
          "data": {
            "text/plain": [
              "<keras.src.callbacks.History at 0x7bb8be9df2e0>"
            ]
          },
          "metadata": {},
          "execution_count": 8
        }
      ]
    },
    {
      "cell_type": "code",
      "source": [
        "# Perhitungan akurasi model\n",
        "loss, accuracy  = ann.evaluate(X_test, y_test, verbose=False)\n",
        "print(f'Akurasi : {accuracy}')"
      ],
      "metadata": {
        "colab": {
          "base_uri": "https://localhost:8080/"
        },
        "id": "X2eVYU5VXr3S",
        "outputId": "fde060d5-75b4-47a5-894a-dcd214fabb16"
      },
      "execution_count": null,
      "outputs": [
        {
          "output_type": "stream",
          "name": "stdout",
          "text": [
            "Akurasi : 0.9697142839431763\n"
          ]
        }
      ]
    },
    {
      "cell_type": "code",
      "source": [
        "# Penampilan data\n",
        "num_samples = 5  # Ganti jumlah contoh yang ingin ditampilkan sesuai kebutuhan\n",
        "\n",
        "fig, axs = plt.subplots(1, num_samples, figsize=(15, 4))\n",
        "\n",
        "for i in range(num_samples):\n",
        "    sample_index = np.random.randint(len(X_test))\n",
        "    sample_image = X_test[sample_index]\n",
        "    true_label = y_test[sample_index]\n",
        "\n",
        "    # Prediksi dengan model yang telah disiapkan (model neural network)\n",
        "    prediction = ann.predict(np.array([sample_image]))\n",
        "\n",
        "    # Label prediksi adalah indeks dengan nilai maksimum dari output\n",
        "    predicted_label = np.argmax(prediction)\n",
        "\n",
        "    # Menampilkan citra pengujian dan hasil prediksi\n",
        "    axs[i].imshow(np.reshape(sample_image, (28, 28)), cmap='gray')\n",
        "    axs[i].set_title(f\"Label Asli: {true_label}\\nLabel Prediksi: {predicted_label}\")\n",
        "    axs[i].axis('off')\n",
        "\n",
        "plt.show()"
      ],
      "metadata": {
        "colab": {
          "base_uri": "https://localhost:8080/",
          "height": 244
        },
        "id": "nHhHHSscXtbD",
        "outputId": "f48033b7-a137-4c5a-a061-0dd5d8a872cc"
      },
      "execution_count": null,
      "outputs": [
        {
          "output_type": "stream",
          "name": "stdout",
          "text": [
            "1/1 [==============================] - 0s 84ms/step\n",
            "1/1 [==============================] - 0s 21ms/step\n",
            "1/1 [==============================] - 0s 20ms/step\n",
            "1/1 [==============================] - 0s 21ms/step\n",
            "1/1 [==============================] - 0s 21ms/step\n"
          ]
        },
        {
          "output_type": "display_data",
          "data": {
            "text/plain": [
              "<Figure size 1500x400 with 5 Axes>"
            ],
            "image/png": "[encoded data removed]"
          },
          "metadata": {}
        }
      ]
    }
  ]
}