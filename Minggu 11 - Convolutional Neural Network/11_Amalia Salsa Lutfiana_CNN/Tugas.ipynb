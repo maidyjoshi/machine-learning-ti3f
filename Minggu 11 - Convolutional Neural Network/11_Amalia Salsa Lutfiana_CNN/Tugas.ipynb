{
 "cells": [
  {
   "cell_type": "markdown",
   "metadata": {},
   "source": [
    "# Tugas #\n",
    "\n",
    "1. Modifikasi model CNN pada praktikum 2 sehingga didapatkan akurasi testing lebih dari 80%."
   ]
  },
  {
   "cell_type": "code",
   "execution_count": 2,
   "metadata": {},
   "outputs": [
    {
     "name": "stderr",
     "output_type": "stream",
     "text": [
      "c:\\Users\\Hp\\anaconda3\\lib\\site-packages\\scipy\\__init__.py:146: UserWarning: A NumPy version >=1.16.5 and <1.23.0 is required for this version of SciPy (detected version 1.26.0\n",
      "  warnings.warn(f\"A NumPy version >={np_minversion} and <{np_maxversion}\"\n"
     ]
    }
   ],
   "source": [
    "import tensorflow as tf\n",
    "from tensorflow.keras import datasets, layers, utils, models, callbacks\n",
    "from keras.preprocessing.image import ImageDataGenerator\n",
    "import matplotlib.pyplot as plt"
   ]
  },
  {
   "cell_type": "code",
   "execution_count": 3,
   "metadata": {},
   "outputs": [
    {
     "name": "stdout",
     "output_type": "stream",
     "text": [
      "Epoch 1/50\n",
      "1562/1562 [==============================] - 517s 325ms/step - loss: 1.6368 - accuracy: 0.4080 - precision: 0.6214 - recall: 0.1990 - val_loss: 1.4423 - val_accuracy: 0.5251 - val_precision: 0.6443 - val_recall: 0.3869\n",
      "Epoch 2/50\n",
      "1562/1562 [==============================] - 495s 317ms/step - loss: 1.2417 - accuracy: 0.5593 - precision: 0.7230 - recall: 0.3931 - val_loss: 1.0566 - val_accuracy: 0.6320 - val_precision: 0.7780 - val_recall: 0.4822\n",
      "Epoch 3/50\n",
      "1562/1562 [==============================] - 426s 273ms/step - loss: 1.0558 - accuracy: 0.6313 - precision: 0.7710 - recall: 0.4965 - val_loss: 0.9548 - val_accuracy: 0.6680 - val_precision: 0.7783 - val_recall: 0.5851\n",
      "Epoch 4/50\n",
      "1562/1562 [==============================] - 427s 273ms/step - loss: 0.9486 - accuracy: 0.6740 - precision: 0.7923 - recall: 0.5573 - val_loss: 0.7605 - val_accuracy: 0.7408 - val_precision: 0.8230 - val_recall: 0.6511\n",
      "Epoch 5/50\n",
      "1562/1562 [==============================] - 452s 289ms/step - loss: 0.8712 - accuracy: 0.7038 - precision: 0.8108 - recall: 0.6027 - val_loss: 0.7536 - val_accuracy: 0.7451 - val_precision: 0.8283 - val_recall: 0.6638\n",
      "Epoch 6/50\n",
      "1562/1562 [==============================] - 494s 316ms/step - loss: 0.8139 - accuracy: 0.7255 - precision: 0.8222 - recall: 0.6324 - val_loss: 0.6929 - val_accuracy: 0.7678 - val_precision: 0.8500 - val_recall: 0.6861\n",
      "Epoch 7/50\n",
      "1562/1562 [==============================] - 503s 322ms/step - loss: 0.7690 - accuracy: 0.7405 - precision: 0.8320 - recall: 0.6548 - val_loss: 0.6935 - val_accuracy: 0.7704 - val_precision: 0.8400 - val_recall: 0.7116\n",
      "Epoch 8/50\n",
      "1562/1562 [==============================] - 351s 225ms/step - loss: 0.7233 - accuracy: 0.7552 - precision: 0.8405 - recall: 0.6775 - val_loss: 0.5988 - val_accuracy: 0.8007 - val_precision: 0.8602 - val_recall: 0.7397\n",
      "Epoch 9/50\n",
      "1562/1562 [==============================] - 335s 214ms/step - loss: 0.6930 - accuracy: 0.7656 - precision: 0.8458 - recall: 0.6917 - val_loss: 0.6098 - val_accuracy: 0.8005 - val_precision: 0.8630 - val_recall: 0.7392\n",
      "Epoch 10/50\n",
      "1562/1562 [==============================] - 325s 208ms/step - loss: 0.6632 - accuracy: 0.7786 - precision: 0.8537 - recall: 0.7064 - val_loss: 0.8767 - val_accuracy: 0.7435 - val_precision: 0.7948 - val_recall: 0.6962\n",
      "Epoch 11/50\n",
      "1562/1562 [==============================] - 276s 176ms/step - loss: 0.6430 - accuracy: 0.7831 - precision: 0.8544 - recall: 0.7163 - val_loss: 0.5267 - val_accuracy: 0.8237 - val_precision: 0.8787 - val_recall: 0.7775\n",
      "Epoch 12/50\n",
      "1562/1562 [==============================] - 274s 176ms/step - loss: 0.6198 - accuracy: 0.7925 - precision: 0.8605 - recall: 0.7279 - val_loss: 0.6294 - val_accuracy: 0.7945 - val_precision: 0.8437 - val_recall: 0.7512\n",
      "Epoch 13/50\n",
      "1562/1562 [==============================] - 275s 176ms/step - loss: 0.5970 - accuracy: 0.7978 - precision: 0.8646 - recall: 0.7375 - val_loss: 0.5776 - val_accuracy: 0.8170 - val_precision: 0.8674 - val_recall: 0.7753\n",
      "Epoch 14/50\n",
      "1562/1562 [==============================] - 285s 183ms/step - loss: 0.5874 - accuracy: 0.8028 - precision: 0.8665 - recall: 0.7440 - val_loss: 0.5925 - val_accuracy: 0.8015 - val_precision: 0.8584 - val_recall: 0.7566\n",
      "Epoch 15/50\n",
      "1562/1562 [==============================] - 333s 213ms/step - loss: 0.5631 - accuracy: 0.8096 - precision: 0.8693 - recall: 0.7529 - val_loss: 0.5688 - val_accuracy: 0.8153 - val_precision: 0.8679 - val_recall: 0.7728\n",
      "Epoch 16/50\n",
      "1562/1562 [==============================] - 272s 174ms/step - loss: 0.5529 - accuracy: 0.8133 - precision: 0.8720 - recall: 0.7575 - val_loss: 0.5582 - val_accuracy: 0.8193 - val_precision: 0.8655 - val_recall: 0.7749\n",
      "Epoch 17/50\n",
      "1562/1562 [==============================] - 313s 200ms/step - loss: 0.5401 - accuracy: 0.8183 - precision: 0.8741 - recall: 0.7656 - val_loss: 0.5250 - val_accuracy: 0.8285 - val_precision: 0.8701 - val_recall: 0.7933\n",
      "Epoch 18/50\n",
      "1562/1562 [==============================] - 331s 212ms/step - loss: 0.5220 - accuracy: 0.8236 - precision: 0.8775 - recall: 0.7739 - val_loss: 0.5351 - val_accuracy: 0.8300 - val_precision: 0.8696 - val_recall: 0.7933\n",
      "Epoch 19/50\n",
      "1562/1562 [==============================] - 337s 216ms/step - loss: 0.5132 - accuracy: 0.8276 - precision: 0.8789 - recall: 0.7775 - val_loss: 0.4670 - val_accuracy: 0.8430 - val_precision: 0.8829 - val_recall: 0.8098\n",
      "Epoch 20/50\n",
      "1562/1562 [==============================] - 344s 220ms/step - loss: 0.4969 - accuracy: 0.8317 - precision: 0.8829 - recall: 0.7853 - val_loss: 0.5143 - val_accuracy: 0.8269 - val_precision: 0.8715 - val_recall: 0.7901\n",
      "Epoch 21/50\n",
      "1562/1562 [==============================] - 344s 220ms/step - loss: 0.4906 - accuracy: 0.8342 - precision: 0.8849 - recall: 0.7877 - val_loss: 0.4733 - val_accuracy: 0.8433 - val_precision: 0.8860 - val_recall: 0.8073\n",
      "Epoch 22/50\n",
      "1562/1562 [==============================] - 311s 199ms/step - loss: 0.4836 - accuracy: 0.8360 - precision: 0.8865 - recall: 0.7904 - val_loss: 0.5466 - val_accuracy: 0.8253 - val_precision: 0.8738 - val_recall: 0.7853\n",
      "Epoch 23/50\n",
      "1562/1562 [==============================] - 295s 189ms/step - loss: 0.4744 - accuracy: 0.8392 - precision: 0.8876 - recall: 0.7958 - val_loss: 0.4421 - val_accuracy: 0.8532 - val_precision: 0.8941 - val_recall: 0.8159\n",
      "Epoch 24/50\n",
      "1562/1562 [==============================] - 303s 194ms/step - loss: 0.4592 - accuracy: 0.8430 - precision: 0.8887 - recall: 0.8025 - val_loss: 0.5012 - val_accuracy: 0.8342 - val_precision: 0.8766 - val_recall: 0.7934\n",
      "Epoch 25/50\n",
      "1562/1562 [==============================] - 306s 196ms/step - loss: 0.4605 - accuracy: 0.8429 - precision: 0.8895 - recall: 0.8029 - val_loss: 0.5311 - val_accuracy: 0.8274 - val_precision: 0.8771 - val_recall: 0.7833\n",
      "Epoch 26/50\n",
      " 708/1562 [============>.................] - ETA: 2:37 - loss: 0.4439 - accuracy: 0.8493 - precision: 0.8944 - recall: 0.8089"
     ]
    }
   ],
   "source": [
    "(X_train, y_train), (X_test, y_test) = datasets.cifar10.load_data()\n",
    "\n",
    "X_train = X_train / 255.0\n",
    "X_test = X_test / 255.0\n",
    "\n",
    "y_cat_train = utils.to_categorical(y_train, 10)\n",
    "y_cat_test = utils.to_categorical(y_test, 10)\n",
    "\n",
    "INPUT_SHAPE = (32, 32, 3)\n",
    "KERNEL_SIZE = (3, 3)\n",
    "model = models.Sequential()\n",
    "\n",
    "model.add(layers.Conv2D(filters=32, kernel_size=KERNEL_SIZE, input_shape=INPUT_SHAPE, activation='relu', padding='same'))\n",
    "model.add(layers.BatchNormalization())\n",
    "model.add(layers.Conv2D(filters=32, kernel_size=KERNEL_SIZE, input_shape=INPUT_SHAPE, activation='relu', padding='same'))\n",
    "model.add(layers.BatchNormalization())\n",
    "\n",
    "model.add(layers.MaxPool2D(pool_size=(2, 2)))\n",
    "\n",
    "model.add(layers.Dropout(0.25))\n",
    "\n",
    "model.add(layers.Conv2D(filters=64, kernel_size=KERNEL_SIZE, input_shape=INPUT_SHAPE, activation='relu', padding='same'))\n",
    "model.add(layers.BatchNormalization())\n",
    "model.add(layers.Conv2D(filters=64, kernel_size=KERNEL_SIZE, input_shape=INPUT_SHAPE, activation='relu', padding='same'))\n",
    "model.add(layers.BatchNormalization())\n",
    "model.add(layers.MaxPool2D(pool_size=(2, 2)))\n",
    "model.add(layers.Dropout(0.25))\n",
    "\n",
    "model.add(layers.Conv2D(filters=128, kernel_size=KERNEL_SIZE, input_shape=INPUT_SHAPE, activation='relu', padding='same'))\n",
    "model.add(layers.BatchNormalization())\n",
    "model.add(layers.Conv2D(filters=128, kernel_size=KERNEL_SIZE, input_shape=INPUT_SHAPE, activation='relu', padding='same'))\n",
    "model.add(layers.BatchNormalization())\n",
    "model.add(layers.MaxPool2D(pool_size=(2, 2)))\n",
    "model.add(layers.Dropout(0.25))\n",
    "\n",
    "model.add(layers.Flatten())\n",
    "\n",
    "model.add(layers.Dense(128, activation='relu'))\n",
    "model.add(layers.Dropout(0.25))\n",
    "model.add(layers.Dense(10, activation='softmax'))\n",
    "\n",
    "METRICS = [\n",
    "    'accuracy',\n",
    "    tf.keras.metrics.Precision(name='precision'),\n",
    "    tf.keras.metrics.Recall(name='recall')\n",
    "]\n",
    "model.compile(loss='categorical_crossentropy', optimizer='adam', metrics=METRICS)\n",
    "\n",
    "early_stop = callbacks.EarlyStopping(monitor='val_loss', patience=2)\n",
    "\n",
    "batch_size = 32\n",
    "data_generator = ImageDataGenerator(width_shift_range=0.1, height_shift_range=0.1, horizontal_flip=True)\n",
    "train_generator = data_generator.flow(X_train, y_cat_train, batch_size)\n",
    "steps_per_epoch = X_train.shape[0] // batch_size\n",
    "\n",
    "r = model.fit(train_generator,\n",
    "              epochs=50,\n",
    "              steps_per_epoch=steps_per_epoch,\n",
    "              validation_data=(X_test, y_cat_test),\n",
    "\n",
    "             )"
   ]
  },
  {
   "cell_type": "code",
   "execution_count": 1,
   "metadata": {},
   "outputs": [
    {
     "ename": "NameError",
     "evalue": "name 'plt' is not defined",
     "output_type": "error",
     "traceback": [
      "\u001b[1;31m---------------------------------------------------------------------------\u001b[0m",
      "\u001b[1;31mNameError\u001b[0m                                 Traceback (most recent call last)",
      "\u001b[1;32m~\\AppData\\Local\\Temp/ipykernel_4036/4062248416.py\u001b[0m in \u001b[0;36m<module>\u001b[1;34m\u001b[0m\n\u001b[1;32m----> 1\u001b[1;33m \u001b[0mplt\u001b[0m\u001b[1;33m.\u001b[0m\u001b[0mfigure\u001b[0m\u001b[1;33m(\u001b[0m\u001b[0mfigsize\u001b[0m\u001b[1;33m=\u001b[0m\u001b[1;33m(\u001b[0m\u001b[1;36m12\u001b[0m\u001b[1;33m,\u001b[0m \u001b[1;36m16\u001b[0m\u001b[1;33m)\u001b[0m\u001b[1;33m)\u001b[0m\u001b[1;33m\u001b[0m\u001b[1;33m\u001b[0m\u001b[0m\n\u001b[0m\u001b[0;32m      2\u001b[0m \u001b[1;33m\u001b[0m\u001b[0m\n\u001b[0;32m      3\u001b[0m \u001b[0mplt\u001b[0m\u001b[1;33m.\u001b[0m\u001b[0msubplot\u001b[0m\u001b[1;33m(\u001b[0m\u001b[1;36m4\u001b[0m\u001b[1;33m,\u001b[0m \u001b[1;36m2\u001b[0m\u001b[1;33m,\u001b[0m \u001b[1;36m1\u001b[0m\u001b[1;33m)\u001b[0m\u001b[1;33m\u001b[0m\u001b[1;33m\u001b[0m\u001b[0m\n\u001b[0;32m      4\u001b[0m \u001b[0mplt\u001b[0m\u001b[1;33m.\u001b[0m\u001b[0mplot\u001b[0m\u001b[1;33m(\u001b[0m\u001b[0mr\u001b[0m\u001b[1;33m.\u001b[0m\u001b[0mhistory\u001b[0m\u001b[1;33m[\u001b[0m\u001b[1;34m'loss'\u001b[0m\u001b[1;33m]\u001b[0m\u001b[1;33m,\u001b[0m \u001b[0mlabel\u001b[0m\u001b[1;33m=\u001b[0m\u001b[1;34m'Loss'\u001b[0m\u001b[1;33m)\u001b[0m\u001b[1;33m\u001b[0m\u001b[1;33m\u001b[0m\u001b[0m\n\u001b[0;32m      5\u001b[0m \u001b[0mplt\u001b[0m\u001b[1;33m.\u001b[0m\u001b[0mplot\u001b[0m\u001b[1;33m(\u001b[0m\u001b[0mr\u001b[0m\u001b[1;33m.\u001b[0m\u001b[0mhistory\u001b[0m\u001b[1;33m[\u001b[0m\u001b[1;34m'val_loss'\u001b[0m\u001b[1;33m]\u001b[0m\u001b[1;33m,\u001b[0m \u001b[0mlabel\u001b[0m\u001b[1;33m=\u001b[0m\u001b[1;34m'val_Loss'\u001b[0m\u001b[1;33m)\u001b[0m\u001b[1;33m\u001b[0m\u001b[1;33m\u001b[0m\u001b[0m\n",
      "\u001b[1;31mNameError\u001b[0m: name 'plt' is not defined"
     ]
    }
   ],
   "source": [
    "plt.figure(figsize=(12, 16))\n",
    "\n",
    "plt.subplot(4, 2, 1)\n",
    "plt.plot(r.history['loss'], label='Loss')\n",
    "plt.plot(r.history['val_loss'], label='val_Loss')\n",
    "plt.title('Loss Function Evolution')\n",
    "plt.legend()\n",
    "\n",
    "plt.subplot(4, 2, 2)\n",
    "plt.plot(r.history['accuracy'], label='accuracy')\n",
    "plt.plot(r.history['val_accuracy'], label='val_accuracy')\n",
    "plt.title('Accuracy Function Evolution')\n",
    "plt.legend()\n",
    "\n",
    "plt.subplot(4, 2, 3)\n",
    "plt.plot(r.history['precision'], label='precision')\n",
    "plt.plot(r.history['val_precision'], label='val_precision')\n",
    "plt.title('Precision Function Evolution')\n",
    "plt.legend()\n",
    "\n",
    "plt.subplot(4, 2, 4)\n",
    "plt.plot(r.history['recall'], label='recall')\n",
    "plt.plot(r.history['val_recall'], label='val_recall')\n",
    "plt.title('Recall Function Evolution')\n",
    "plt.legend()\n",
    "\n",
    "evaluation = model.evaluate(X_test, y_cat_test)\n",
    "print(f'Test Accuracy : {evaluation[1] * 100:.2f}%')"
   ]
  }
 ],
 "metadata": {
  "kernelspec": {
   "display_name": "base",
   "language": "python",
   "name": "python3"
  },
  "language_info": {
   "codemirror_mode": {
    "name": "ipython",
    "version": 3
   },
   "file_extension": ".py",
   "mimetype": "text/x-python",
   "name": "python",
   "nbconvert_exporter": "python",
   "pygments_lexer": "ipython3",
   "version": "3.9.7"
  }
 },
 "nbformat": 4,
 "nbformat_minor": 2
}
