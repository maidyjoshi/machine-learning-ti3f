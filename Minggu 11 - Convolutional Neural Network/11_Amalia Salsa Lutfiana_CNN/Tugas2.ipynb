{
 "cells": [
  {
   "cell_type": "markdown",
   "metadata": {},
   "source": [
    "# Tugas #\n",
    "\n",
    "2. Buatlah model CNN untuk klasifikasi dataset MNIST."
   ]
  },
  {
   "cell_type": "code",
   "execution_count": 2,
   "metadata": {},
   "outputs": [],
   "source": [
    "import tensorflow as tf\n",
    "from tensorflow.keras import datasets, layers, models\n",
    "from keras.preprocessing.image import ImageDataGenerator\n",
    "import matplotlib.pyplot as plt"
   ]
  },
  {
   "cell_type": "code",
   "execution_count": 3,
   "metadata": {},
   "outputs": [
    {
     "name": "stdout",
     "output_type": "stream",
     "text": [
      "Downloading data from https://storage.googleapis.com/tensorflow/tf-keras-datasets/mnist.npz\n",
      "11490434/11490434 [==============================] - 5s 0us/step\n",
      "Epoch 1/10\n",
      "1875/1875 [==============================] - 70s 36ms/step - loss: 0.1508 - accuracy: 0.9542 - val_loss: 0.0441 - val_accuracy: 0.9849\n",
      "Epoch 2/10\n",
      "1875/1875 [==============================] - 120s 64ms/step - loss: 0.0477 - accuracy: 0.9849 - val_loss: 0.0359 - val_accuracy: 0.9885\n",
      "Epoch 3/10\n",
      "1875/1875 [==============================] - 122s 65ms/step - loss: 0.0338 - accuracy: 0.9893 - val_loss: 0.0312 - val_accuracy: 0.9897\n",
      "Epoch 4/10\n",
      "1875/1875 [==============================] - 98s 52ms/step - loss: 0.0262 - accuracy: 0.9916 - val_loss: 0.0317 - val_accuracy: 0.9899\n",
      "Epoch 5/10\n",
      "1875/1875 [==============================] - 97s 52ms/step - loss: 0.0198 - accuracy: 0.9937 - val_loss: 0.0317 - val_accuracy: 0.9910\n",
      "Epoch 6/10\n",
      "1875/1875 [==============================] - 96s 51ms/step - loss: 0.0155 - accuracy: 0.9950 - val_loss: 0.0393 - val_accuracy: 0.9892\n",
      "Epoch 7/10\n",
      "1875/1875 [==============================] - 133s 71ms/step - loss: 0.0148 - accuracy: 0.9953 - val_loss: 0.0291 - val_accuracy: 0.9913\n",
      "Epoch 8/10\n",
      "1875/1875 [==============================] - 123s 66ms/step - loss: 0.0115 - accuracy: 0.9962 - val_loss: 0.0332 - val_accuracy: 0.9909\n",
      "Epoch 9/10\n",
      "1875/1875 [==============================] - 115s 61ms/step - loss: 0.0097 - accuracy: 0.9970 - val_loss: 0.0326 - val_accuracy: 0.9912\n",
      "Epoch 10/10\n",
      "1875/1875 [==============================] - 111s 59ms/step - loss: 0.0086 - accuracy: 0.9973 - val_loss: 0.0314 - val_accuracy: 0.9924\n",
      "313/313 - 7s - loss: 0.0314 - accuracy: 0.9924 - 7s/epoch - 24ms/step\n",
      "Test accuracy: 0.9923999905586243\n"
     ]
    },
    {
     "data": {
      "image/png": "[encoded data removed]",
      "text/plain": [
       "<Figure size 432x288 with 1 Axes>"
      ]
     },
     "metadata": {
      "needs_background": "light"
     },
     "output_type": "display_data"
    }
   ],
   "source": [
    "(train_images, train_labels), (test_images, test_labels) = datasets.mnist.load_data()\n",
    "\n",
    "train_images, test_images = train_images / 255.0, test_images / 255.0\n",
    "\n",
    "train_images = train_images.reshape(train_images.shape[0], 28, 28, 1)\n",
    "test_images = test_images.reshape(test_images.shape[0], 28, 28, 1)\n",
    "\n",
    "model = models.Sequential()\n",
    "\n",
    "model.add(layers.Conv2D(32, (3, 3), activation='relu', input_shape=(28, 28, 1)))\n",
    "model.add(layers.MaxPooling2D((2, 2)))\n",
    "model.add(layers.Conv2D(64, (3, 3), activation='relu'))\n",
    "model.add(layers.MaxPooling2D((2, 2)))\n",
    "model.add(layers.Conv2D(64, (3, 3), activation='relu'))\n",
    "\n",
    "model.add(layers.Flatten())\n",
    "model.add(layers.Dense(64, activation='relu'))\n",
    "model.add(layers.Dense(10, activation='softmax'))\n",
    "\n",
    "model.compile(optimizer='adam',\n",
    "              loss='sparse_categorical_crossentropy',\n",
    "              metrics=['accuracy'])\n",
    "\n",
    "history = model.fit(train_images, train_labels, epochs=10, validation_data=(test_images, test_labels))\n",
    "\n",
    "test_loss, test_acc = model.evaluate(test_images, test_labels, verbose=2)\n",
    "print(\"Test accuracy:\", test_acc)\n",
    "\n",
    "plt.plot(history.history['accuracy'], label='accuracy')\n",
    "plt.plot(history.history['val_accuracy'], label='val_accuracy')\n",
    "plt.xlabel('Epoch')\n",
    "plt.ylabel('Accuracy')\n",
    "plt.ylim([0, 1])\n",
    "plt.legend(loc='lower right')\n",
    "plt.show()"
   ]
  }
 ],
 "metadata": {
  "kernelspec": {
   "display_name": "base",
   "language": "python",
   "name": "python3"
  },
  "language_info": {
   "codemirror_mode": {
    "name": "ipython",
    "version": 3
   },
   "file_extension": ".py",
   "mimetype": "text/x-python",
   "name": "python",
   "nbconvert_exporter": "python",
   "pygments_lexer": "ipython3",
   "version": "3.9.7"
  }
 },
 "nbformat": 4,
 "nbformat_minor": 2
}
