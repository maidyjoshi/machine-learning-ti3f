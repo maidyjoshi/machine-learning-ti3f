{
 "cells": [
  {
   "cell_type": "code",
   "execution_count": 1,
   "metadata": {},
   "outputs": [
    {
     "name": "stderr",
     "output_type": "stream",
     "text": [
      "c:\\Users\\Hp\\anaconda3\\lib\\site-packages\\scipy\\__init__.py:146: UserWarning: A NumPy version >=1.16.5 and <1.23.0 is required for this version of SciPy (detected version 1.26.0\n",
      "  warnings.warn(f\"A NumPy version >={np_minversion} and <{np_maxversion}\"\n"
     ]
    }
   ],
   "source": [
    "# Melakukan import\n",
    "import tensorflow as tf\n",
    "from keras.preprocessing.image import ImageDataGenerator"
   ]
  },
  {
   "cell_type": "markdown",
   "metadata": {},
   "source": [
    "**Langkah 2**"
   ]
  },
  {
   "cell_type": "code",
   "execution_count": 2,
   "metadata": {},
   "outputs": [
    {
     "name": "stdout",
     "output_type": "stream",
     "text": [
      "Found 8000 images belonging to 2 classes.\n"
     ]
    }
   ],
   "source": [
    "# Membuat objek train datagen\n",
    "train_datagen = ImageDataGenerator(rescale = 1./255,\n",
    "                                   shear_range = 0.2,\n",
    "                                   zoom_range = 0.2,\n",
    "                                   horizontal_flip = True)\n",
    "# Memuat data latih dari direktori\n",
    "training_set = train_datagen.flow_from_directory('dataset/training_set',\n",
    "                                                 target_size = (64, 64),\n",
    "                                                 batch_size = 32,\n",
    "                                                 class_mode = 'binary')"
   ]
  },
  {
   "cell_type": "markdown",
   "metadata": {},
   "source": [
    "**Langkah 2.2. Pra Pengolahan Data Testing**"
   ]
  },
  {
   "cell_type": "code",
   "execution_count": 3,
   "metadata": {},
   "outputs": [
    {
     "name": "stdout",
     "output_type": "stream",
     "text": [
      "Found 2000 images belonging to 2 classes.\n"
     ]
    }
   ],
   "source": [
    "# Memuat data pengujian\n",
    "test_datagen = ImageDataGenerator(rescale = 1./255)\n",
    "# Memuat data pengujian dari direktori\n",
    "test_set = test_datagen.flow_from_directory('dataset/test_set',\n",
    "                                            target_size = (64, 64),\n",
    "                                            batch_size = 32,\n",
    "                                            class_mode = 'binary')"
   ]
  },
  {
   "cell_type": "markdown",
   "metadata": {},
   "source": [
    "# Langkah 3 - Pembuatan Model CNN\n",
    "**Langkah 3.1.  - Inisiasi Model CNN**"
   ]
  },
  {
   "cell_type": "code",
   "execution_count": 4,
   "metadata": {},
   "outputs": [],
   "source": [
    "# Membuat model CNN\n",
    "cnn = tf.keras.models.Sequential()"
   ]
  },
  {
   "cell_type": "markdown",
   "metadata": {},
   "source": [
    "**Langkah 3.2. - Pembuatan Layer Konvolusi 1**"
   ]
  },
  {
   "cell_type": "code",
   "execution_count": 5,
   "metadata": {},
   "outputs": [],
   "source": [
    "# Menambahkan lapisan ke model CNN\n",
    "cnn.add(tf.keras.layers.Conv2D(filters=32, kernel_size=3, activation='relu', input_shape=[64, 64, 3]))"
   ]
  },
  {
   "cell_type": "markdown",
   "metadata": {},
   "source": [
    "**Langkah 3.3 - Pembuatan Layer Pooling 1**"
   ]
  },
  {
   "cell_type": "code",
   "execution_count": 6,
   "metadata": {},
   "outputs": [],
   "source": [
    "# Menambahkan lapisan max-pooling pada model\n",
    "cnn.add(tf.keras.layers.MaxPool2D(pool_size=2, strides=2))"
   ]
  },
  {
   "cell_type": "markdown",
   "metadata": {},
   "source": [
    "**Langkah 3.4 - Pembuatan Layer Konvolusi 2 dan Pooling 2**"
   ]
  },
  {
   "cell_type": "code",
   "execution_count": 7,
   "metadata": {},
   "outputs": [],
   "source": [
    "# Menambahkan lapisan konvolusi kedua ke model\n",
    "cnn.add(tf.keras.layers.Conv2D(filters=32, kernel_size=3, activation='relu'))\n",
    "# Menambahkan lapisan max-pooling kedua ke model\n",
    "cnn.add(tf.keras.layers.MaxPool2D(pool_size=2, strides=2))"
   ]
  },
  {
   "cell_type": "markdown",
   "metadata": {},
   "source": [
    "**Langkah 3.5 - Flattening**"
   ]
  },
  {
   "cell_type": "code",
   "execution_count": 8,
   "metadata": {},
   "outputs": [],
   "source": [
    "# Menambahkan lapisan flatten ke dalam model CNN\n",
    "cnn.add(tf.keras.layers.Flatten())"
   ]
  },
  {
   "cell_type": "markdown",
   "metadata": {},
   "source": [
    "**Langkah 3.6 - Fully Connected Layer 1 (Input)**"
   ]
  },
  {
   "cell_type": "code",
   "execution_count": 9,
   "metadata": {},
   "outputs": [],
   "source": [
    "# Menambahkan lapisan dense ke dalam model\n",
    "cnn.add(tf.keras.layers.Dense(units=128, activation='relu'))"
   ]
  },
  {
   "cell_type": "markdown",
   "metadata": {},
   "source": [
    "**Langkah 3.7 - Fully Connected Layer 2 (Output)**"
   ]
  },
  {
   "cell_type": "code",
   "execution_count": 10,
   "metadata": {},
   "outputs": [],
   "source": [
    "# Menambahkan lapisan dense terakhir ke dalam model\n",
    "cnn.add(tf.keras.layers.Dense(units=1, activation='sigmoid'))"
   ]
  },
  {
   "cell_type": "markdown",
   "metadata": {},
   "source": [
    "**Langkah 3.8 - Compile Model CNN**"
   ]
  },
  {
   "cell_type": "code",
   "execution_count": 11,
   "metadata": {},
   "outputs": [],
   "source": [
    "# Mengoptimalkan fungsi kerugian model menggunakan optimizer Adam\n",
    "cnn.compile(optimizer = 'adam', loss = 'binary_crossentropy', metrics = ['accuracy'])"
   ]
  },
  {
   "cell_type": "markdown",
   "metadata": {},
   "source": [
    "**Langkah 4 - Fit CNN**"
   ]
  },
  {
   "cell_type": "code",
   "execution_count": 12,
   "metadata": {},
   "outputs": [
    {
     "name": "stdout",
     "output_type": "stream",
     "text": [
      "Epoch 1/25\n",
      "250/250 [==============================] - 249s 992ms/step - loss: 0.6779 - accuracy: 0.5780 - val_loss: 0.6669 - val_accuracy: 0.5895\n",
      "Epoch 2/25\n",
      "250/250 [==============================] - 134s 537ms/step - loss: 0.6408 - accuracy: 0.6366 - val_loss: 0.6271 - val_accuracy: 0.6630\n",
      "Epoch 3/25\n",
      "250/250 [==============================] - 73s 292ms/step - loss: 0.6056 - accuracy: 0.6746 - val_loss: 0.5898 - val_accuracy: 0.6970\n",
      "Epoch 4/25\n",
      "250/250 [==============================] - 77s 307ms/step - loss: 0.5653 - accuracy: 0.7059 - val_loss: 0.5520 - val_accuracy: 0.7320\n",
      "Epoch 5/25\n",
      "250/250 [==============================] - 80s 321ms/step - loss: 0.5347 - accuracy: 0.7310 - val_loss: 0.5349 - val_accuracy: 0.7290\n",
      "Epoch 6/25\n",
      "250/250 [==============================] - 70s 278ms/step - loss: 0.5017 - accuracy: 0.7494 - val_loss: 0.5427 - val_accuracy: 0.7275\n",
      "Epoch 7/25\n",
      "250/250 [==============================] - 65s 260ms/step - loss: 0.4945 - accuracy: 0.7527 - val_loss: 0.5389 - val_accuracy: 0.7545\n",
      "Epoch 8/25\n",
      "250/250 [==============================] - 60s 240ms/step - loss: 0.4721 - accuracy: 0.7738 - val_loss: 0.5012 - val_accuracy: 0.7615\n",
      "Epoch 9/25\n",
      "250/250 [==============================] - 62s 248ms/step - loss: 0.4478 - accuracy: 0.7860 - val_loss: 0.4771 - val_accuracy: 0.7890\n",
      "Epoch 10/25\n",
      "250/250 [==============================] - 63s 252ms/step - loss: 0.4349 - accuracy: 0.7922 - val_loss: 0.4839 - val_accuracy: 0.7780\n",
      "Epoch 11/25\n",
      "250/250 [==============================] - 73s 291ms/step - loss: 0.4210 - accuracy: 0.8054 - val_loss: 0.5101 - val_accuracy: 0.7730\n",
      "Epoch 12/25\n",
      "250/250 [==============================] - 71s 285ms/step - loss: 0.4078 - accuracy: 0.8081 - val_loss: 0.5147 - val_accuracy: 0.7690\n",
      "Epoch 13/25\n",
      "250/250 [==============================] - 62s 246ms/step - loss: 0.3775 - accuracy: 0.8264 - val_loss: 0.4908 - val_accuracy: 0.7790\n",
      "Epoch 14/25\n",
      "250/250 [==============================] - 65s 258ms/step - loss: 0.3628 - accuracy: 0.8407 - val_loss: 0.4948 - val_accuracy: 0.7805\n",
      "Epoch 15/25\n",
      "250/250 [==============================] - 50s 199ms/step - loss: 0.3579 - accuracy: 0.8375 - val_loss: 0.4871 - val_accuracy: 0.7810\n",
      "Epoch 16/25\n",
      "250/250 [==============================] - 45s 181ms/step - loss: 0.3443 - accuracy: 0.8460 - val_loss: 0.5748 - val_accuracy: 0.7575\n",
      "Epoch 17/25\n",
      "250/250 [==============================] - 46s 183ms/step - loss: 0.3200 - accuracy: 0.8622 - val_loss: 0.5110 - val_accuracy: 0.7880\n",
      "Epoch 18/25\n",
      "250/250 [==============================] - 48s 191ms/step - loss: 0.3065 - accuracy: 0.8645 - val_loss: 0.5548 - val_accuracy: 0.7730\n",
      "Epoch 19/25\n",
      "250/250 [==============================] - 50s 201ms/step - loss: 0.2865 - accuracy: 0.8814 - val_loss: 0.5234 - val_accuracy: 0.7905\n",
      "Epoch 20/25\n",
      "250/250 [==============================] - 49s 197ms/step - loss: 0.2823 - accuracy: 0.8775 - val_loss: 0.5351 - val_accuracy: 0.7855\n",
      "Epoch 21/25\n",
      "250/250 [==============================] - 50s 200ms/step - loss: 0.2658 - accuracy: 0.8896 - val_loss: 0.5590 - val_accuracy: 0.7835\n",
      "Epoch 22/25\n",
      "250/250 [==============================] - 49s 197ms/step - loss: 0.2478 - accuracy: 0.8947 - val_loss: 0.5268 - val_accuracy: 0.7940\n",
      "Epoch 23/25\n",
      "250/250 [==============================] - 50s 198ms/step - loss: 0.2362 - accuracy: 0.9028 - val_loss: 0.5831 - val_accuracy: 0.7860\n",
      "Epoch 24/25\n",
      "250/250 [==============================] - 65s 260ms/step - loss: 0.2241 - accuracy: 0.9099 - val_loss: 0.6412 - val_accuracy: 0.7685\n",
      "Epoch 25/25\n",
      "250/250 [==============================] - 64s 254ms/step - loss: 0.2209 - accuracy: 0.9095 - val_loss: 0.6061 - val_accuracy: 0.7780\n"
     ]
    },
    {
     "data": {
      "text/plain": [
       "<keras.src.callbacks.History at 0x22f6f17f8b0>"
      ]
     },
     "execution_count": 12,
     "metadata": {},
     "output_type": "execute_result"
    }
   ],
   "source": [
    "# Melatih model jaringan saraf koncolusi (CNN)\n",
    "cnn.fit(x = training_set, validation_data = test_set, epochs = 25)"
   ]
  },
  {
   "cell_type": "markdown",
   "metadata": {},
   "source": [
    "**Langkah 5 - Prediksi dengan 1 Citra**"
   ]
  },
  {
   "cell_type": "code",
   "execution_count": 13,
   "metadata": {},
   "outputs": [
    {
     "name": "stdout",
     "output_type": "stream",
     "text": [
      "1/1 [==============================] - 0s 142ms/step\n"
     ]
    }
   ],
   "source": [
    "# Melakukan import\n",
    "import numpy as np\n",
    "from keras.preprocessing import image\n",
    "\n",
    "# Memuat gambar yang akan diprediksi\n",
    "test_image = image.load_img('dataset/single_prediction/cat_or_dog_1.jpg', target_size = (64, 64))\n",
    "# Mengonversi gambar yang telah dimuat menjadi array NumPy\n",
    "test_image = image.img_to_array(test_image)\n",
    "# Mengubah array gambar menjadi tensor dengan dimensi tambahan\n",
    "test_image = np.expand_dims(test_image, axis = 0)\n",
    "#  Melakukan prediksi dengan model CNN yang sudah dilatih\n",
    "result = cnn.predict(test_image)\n",
    "# Memberikan informasi tentang indeks yang sesuai dengan kelas 'cat' dan 'dog' dalam hasil prediksi\n",
    "training_set.class_indices\n",
    "# Memeriksa apakah hasil prediksi adalah 1 atau tidak\n",
    "if result[0][0] == 1:\n",
    "  # Apabila hasil 1, maka memprediksi bahwa gambar adalah dog\n",
    "  prediction = 'dog'\n",
    "else:\n",
    "  # Apabila hasil 1, maka memprediksi bahwa gambar adalah cat\n",
    "  prediction = 'cat'"
   ]
  }
 ],
 "metadata": {
  "kernelspec": {
   "display_name": "base",
   "language": "python",
   "name": "python3"
  },
  "language_info": {
   "codemirror_mode": {
    "name": "ipython",
    "version": 3
   },
   "file_extension": ".py",
   "mimetype": "text/x-python",
   "name": "python",
   "nbconvert_exporter": "python",
   "pygments_lexer": "ipython3",
   "version": "3.9.7"
  }
 },
 "nbformat": 4,
 "nbformat_minor": 2
}
