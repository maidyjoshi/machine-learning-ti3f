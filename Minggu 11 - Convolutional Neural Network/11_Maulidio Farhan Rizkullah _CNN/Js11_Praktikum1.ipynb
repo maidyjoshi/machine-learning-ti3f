{
  "nbformat": 4,
  "nbformat_minor": 0,
  "metadata": {
    "colab": {
      "provenance": [],
      "gpuType": "T4"
    },
    "kernelspec": {
      "name": "python3",
      "display_name": "Python 3"
    },
    "language_info": {
      "name": "python"
    },
    "accelerator": "GPU"
  },
  "cells": [
    {
      "cell_type": "code",
      "execution_count": null,
      "metadata": {
        "id": "fiEo6cW5IGWq"
      },
      "outputs": [],
      "source": [
        "# import library\n",
        "import tensorflow as tf\n",
        "from keras.preprocessing.image import ImageDataGenerator\n",
        "from google.colab import drive"
      ]
    },
    {
      "cell_type": "code",
      "source": [
        "drive.mount('/content/drive')"
      ],
      "metadata": {
        "colab": {
          "base_uri": "https://localhost:8080/"
        },
        "id": "4y3jM7edIVvi",
        "outputId": "14490f03-5918-4b1a-ecc3-af1a75845d8b"
      },
      "execution_count": null,
      "outputs": [
        {
          "output_type": "stream",
          "name": "stdout",
          "text": [
            "Drive already mounted at /content/drive; to attempt to forcibly remount, call drive.mount(\"/content/drive\", force_remount=True).\n"
          ]
        }
      ]
    },
    {
      "cell_type": "markdown",
      "source": [
        "### Pra Pengolahan Data"
      ],
      "metadata": {
        "id": "LNho4spqJ_7W"
      }
    },
    {
      "cell_type": "code",
      "source": [
        "# Konfigurasi augmentasi dan praproses gambar untuk data pelatihan\n",
        "train_datagen = ImageDataGenerator(\n",
        "    rescale=1./255,         # Normalisasi piksel gambar ke rentang 0-1\n",
        "    shear_range=0.2,        # Efek pemotongan gambar\n",
        "    zoom_range=0.2,         # Efek zoom pada gambar\n",
        "    horizontal_flip=True    # Flipping horizontal gambar\n",
        ")\n",
        "\n",
        "# Memuat data pelatihan langsung dari direktori\n",
        "training_set = train_datagen.flow_from_directory(\n",
        "    '/content/drive/MyDrive/Datasets/animal_dataset/training_set',  # Lokasi direktori data pelatihan\n",
        "    target_size=(64, 64),     # Ukuran target gambar setelah dimuat\n",
        "    batch_size=32,            # Jumlah gambar dalam setiap batch\n",
        "    class_mode='binary'       # Mode kelas untuk masalah klasifikasi biner\n",
        ")\n"
      ],
      "metadata": {
        "colab": {
          "base_uri": "https://localhost:8080/"
        },
        "id": "7sJE8b30KCSM",
        "outputId": "100cd276-a3b2-4b04-b9fa-8cbf349549b4"
      },
      "execution_count": null,
      "outputs": [
        {
          "output_type": "stream",
          "name": "stdout",
          "text": [
            "Found 8000 images belonging to 2 classes.\n"
          ]
        }
      ]
    },
    {
      "cell_type": "code",
      "source": [
        "# Konfigurasi praproses gambar untuk data pengujian\n",
        "test_datagen = ImageDataGenerator(\n",
        "    rescale=1./255  # Normalisasi piksel gambar ke rentang 0-1\n",
        ")\n",
        "\n",
        "# Memuat data pengujian langsung dari direktori\n",
        "test_set = test_datagen.flow_from_directory(\n",
        "    '/content/drive/MyDrive/Datasets/animal_dataset/test_set',  # Lokasi direktori data pengujian\n",
        "    target_size=(64, 64),  # Ukuran target gambar setelah dimuat\n",
        "    batch_size=32,  # Jumlah gambar dalam setiap batch\n",
        "    class_mode='binary'  # Mode kelas untuk masalah klasifikasi biner\n",
        ")\n"
      ],
      "metadata": {
        "colab": {
          "base_uri": "https://localhost:8080/"
        },
        "id": "afX8KBP0KhsZ",
        "outputId": "20df021b-dbd6-4154-e7dd-dd0d91f8cc8b"
      },
      "execution_count": null,
      "outputs": [
        {
          "output_type": "stream",
          "name": "stdout",
          "text": [
            "Found 2000 images belonging to 2 classes.\n"
          ]
        }
      ]
    },
    {
      "cell_type": "markdown",
      "source": [
        "### Pembuatan Model CNN"
      ],
      "metadata": {
        "id": "GYPqgNlbKqze"
      }
    },
    {
      "cell_type": "code",
      "source": [
        "# Membuat objek model sequential\n",
        "cnn = tf.keras.models.Sequential()"
      ],
      "metadata": {
        "id": "xrTgH3adLKRF"
      },
      "execution_count": null,
      "outputs": []
    },
    {
      "cell_type": "code",
      "source": [
        "# Layer Konvolusi pertama\n",
        "cnn.add(tf.keras.layers.Conv2D(filters=32, kernel_size=3, activation='relu', input_shape=[64, 64, 3]))"
      ],
      "metadata": {
        "id": "zVKqq24BLNJ5"
      },
      "execution_count": null,
      "outputs": []
    },
    {
      "cell_type": "code",
      "source": [
        "# MaxPooling untuk mereduksi dimensi spasial gambar\n",
        "cnn.add(tf.keras.layers.MaxPool2D(pool_size=2, strides=2))"
      ],
      "metadata": {
        "id": "UpVCdPpqLQbc"
      },
      "execution_count": null,
      "outputs": []
    },
    {
      "cell_type": "code",
      "source": [
        "# Layer Konvolusi kedua\n",
        "cnn.add(tf.keras.layers.Conv2D(filters=32, kernel_size=3, activation='relu'))\n",
        "cnn.add(tf.keras.layers.MaxPool2D(pool_size=2, strides=2))"
      ],
      "metadata": {
        "id": "H_rb671sLWfU"
      },
      "execution_count": null,
      "outputs": []
    },
    {
      "cell_type": "code",
      "source": [
        "# Meratakan output untuk dimasukkan ke dalam layer Dense/Fully Connected\n",
        "cnn.add(tf.keras.layers.Flatten())"
      ],
      "metadata": {
        "id": "3G1dCBbFLZjj"
      },
      "execution_count": null,
      "outputs": []
    },
    {
      "cell_type": "code",
      "source": [
        "# Dense layer dengan 128 unit dan aktivasi ReLU\n",
        "cnn.add(tf.keras.layers.Dense(units=128, activation='relu'))"
      ],
      "metadata": {
        "id": "NQuxH0XbLjUc"
      },
      "execution_count": null,
      "outputs": []
    },
    {
      "cell_type": "code",
      "source": [
        "# Dense layer dengan 1 unit dan aktivasi sigmoid untuk klasifikasi biner\n",
        "cnn.add(tf.keras.layers.Dense(units=1, activation='sigmoid'))"
      ],
      "metadata": {
        "id": "buRlvWs1L6DE"
      },
      "execution_count": null,
      "outputs": []
    },
    {
      "cell_type": "code",
      "source": [
        "# Kompilasi model dengan optimizer 'adam', fungsi kerugian 'binary_crossentropy', dan metrik akurasi\n",
        "cnn.compile(optimizer='adam', loss='binary_crossentropy', metrics=['accuracy'])\n"
      ],
      "metadata": {
        "id": "eUuSsEI4KshM"
      },
      "execution_count": null,
      "outputs": []
    },
    {
      "cell_type": "markdown",
      "source": [
        "### Fit CNN"
      ],
      "metadata": {
        "id": "d5kK81K3L88X"
      }
    },
    {
      "cell_type": "code",
      "source": [
        "# Pelatihan Model CNN dengan data pelatihan dan validasi\n",
        "cnn.fit(x=training_set, validation_data=test_set, epochs=25)"
      ],
      "metadata": {
        "colab": {
          "base_uri": "https://localhost:8080/"
        },
        "id": "IMnxfNB1MSq8",
        "outputId": "c086f574-a857-41f0-dd7b-6388e2f1678c"
      },
      "execution_count": null,
      "outputs": [
        {
          "output_type": "stream",
          "name": "stdout",
          "text": [
            "Epoch 1/25\n",
            "250/250 [==============================] - 436s 2s/step - loss: 0.5959 - accuracy: 0.6787 - val_loss: 0.5480 - val_accuracy: 0.7270\n",
            "Epoch 2/25\n",
            "250/250 [==============================] - 38s 151ms/step - loss: 0.5681 - accuracy: 0.7035 - val_loss: 0.5664 - val_accuracy: 0.7045\n",
            "Epoch 3/25\n",
            "250/250 [==============================] - 38s 150ms/step - loss: 0.5244 - accuracy: 0.7376 - val_loss: 0.5133 - val_accuracy: 0.7490\n",
            "Epoch 4/25\n",
            "250/250 [==============================] - 37s 149ms/step - loss: 0.5116 - accuracy: 0.7473 - val_loss: 0.5508 - val_accuracy: 0.7405\n",
            "Epoch 5/25\n",
            "250/250 [==============================] - 38s 150ms/step - loss: 0.4893 - accuracy: 0.7626 - val_loss: 0.4815 - val_accuracy: 0.7725\n",
            "Epoch 6/25\n",
            "250/250 [==============================] - 37s 148ms/step - loss: 0.4776 - accuracy: 0.7711 - val_loss: 0.6236 - val_accuracy: 0.7000\n",
            "Epoch 7/25\n",
            "250/250 [==============================] - 38s 151ms/step - loss: 0.4671 - accuracy: 0.7753 - val_loss: 0.4814 - val_accuracy: 0.7685\n",
            "Epoch 8/25\n",
            "250/250 [==============================] - 43s 174ms/step - loss: 0.4451 - accuracy: 0.7865 - val_loss: 0.4767 - val_accuracy: 0.7785\n",
            "Epoch 9/25\n",
            "250/250 [==============================] - 38s 152ms/step - loss: 0.4331 - accuracy: 0.7979 - val_loss: 0.4530 - val_accuracy: 0.7960\n",
            "Epoch 10/25\n",
            "250/250 [==============================] - 38s 151ms/step - loss: 0.4215 - accuracy: 0.8043 - val_loss: 0.4533 - val_accuracy: 0.7955\n",
            "Epoch 11/25\n",
            "250/250 [==============================] - 39s 154ms/step - loss: 0.4122 - accuracy: 0.8111 - val_loss: 0.4783 - val_accuracy: 0.7890\n",
            "Epoch 12/25\n",
            "250/250 [==============================] - 37s 147ms/step - loss: 0.4060 - accuracy: 0.8133 - val_loss: 0.4525 - val_accuracy: 0.7895\n",
            "Epoch 13/25\n",
            "250/250 [==============================] - 37s 149ms/step - loss: 0.3848 - accuracy: 0.8238 - val_loss: 0.4685 - val_accuracy: 0.7905\n",
            "Epoch 14/25\n",
            "250/250 [==============================] - 38s 151ms/step - loss: 0.3788 - accuracy: 0.8289 - val_loss: 0.5035 - val_accuracy: 0.7745\n",
            "Epoch 15/25\n",
            "250/250 [==============================] - 38s 153ms/step - loss: 0.3583 - accuracy: 0.8416 - val_loss: 0.4745 - val_accuracy: 0.7790\n",
            "Epoch 16/25\n",
            "250/250 [==============================] - 41s 163ms/step - loss: 0.3546 - accuracy: 0.8405 - val_loss: 0.5158 - val_accuracy: 0.7765\n",
            "Epoch 17/25\n",
            "250/250 [==============================] - 44s 176ms/step - loss: 0.3370 - accuracy: 0.8504 - val_loss: 0.4413 - val_accuracy: 0.8020\n",
            "Epoch 18/25\n",
            "250/250 [==============================] - 37s 150ms/step - loss: 0.3325 - accuracy: 0.8579 - val_loss: 0.4876 - val_accuracy: 0.7960\n",
            "Epoch 19/25\n",
            "250/250 [==============================] - 38s 153ms/step - loss: 0.3151 - accuracy: 0.8601 - val_loss: 0.4686 - val_accuracy: 0.8030\n",
            "Epoch 20/25\n",
            "250/250 [==============================] - 38s 152ms/step - loss: 0.3030 - accuracy: 0.8681 - val_loss: 0.4662 - val_accuracy: 0.8030\n",
            "Epoch 21/25\n",
            "250/250 [==============================] - 38s 151ms/step - loss: 0.2879 - accuracy: 0.8761 - val_loss: 0.5107 - val_accuracy: 0.7885\n",
            "Epoch 22/25\n",
            "250/250 [==============================] - 39s 157ms/step - loss: 0.2792 - accuracy: 0.8789 - val_loss: 0.5055 - val_accuracy: 0.7885\n",
            "Epoch 23/25\n",
            "250/250 [==============================] - 38s 151ms/step - loss: 0.2695 - accuracy: 0.8870 - val_loss: 0.5050 - val_accuracy: 0.8015\n",
            "Epoch 24/25\n",
            "250/250 [==============================] - 37s 149ms/step - loss: 0.2502 - accuracy: 0.8956 - val_loss: 0.5082 - val_accuracy: 0.8070\n",
            "Epoch 25/25\n",
            "250/250 [==============================] - 37s 150ms/step - loss: 0.2506 - accuracy: 0.8936 - val_loss: 0.5102 - val_accuracy: 0.7915\n"
          ]
        },
        {
          "output_type": "execute_result",
          "data": {
            "text/plain": [
              "<keras.src.callbacks.History at 0x7d1d725826e0>"
            ]
          },
          "metadata": {},
          "execution_count": 23
        }
      ]
    },
    {
      "cell_type": "markdown",
      "source": [
        "### Prediksi dengan 1 Citra"
      ],
      "metadata": {
        "id": "oJoSGGBXMTsv"
      }
    },
    {
      "cell_type": "code",
      "source": [
        "# Import library yang dibutuhkan untuk prediksi\n",
        "import numpy as np\n",
        "from keras.preprocessing import image\n",
        "\n",
        "# Memuat dan memproses gambar baru untuk prediksi\n",
        "test_image = image.load_img('/content/drive/MyDrive/Datasets/animal_dataset/single_prediction/cat_or_dog_1.jpg', target_size=(64, 64))\n",
        "test_image = image.img_to_array(test_image)\n",
        "test_image = np.expand_dims(test_image, axis=0)\n",
        "\n",
        "# Melakukan prediksi menggunakan model\n",
        "result = cnn.predict(test_image)\n",
        "\n",
        "# Mendapatkan kelas indeks dari data pelatihan\n",
        "classes = training_set.class_indices\n",
        "\n",
        "# Menentukan hasil prediksi ('dog' atau 'cat')\n",
        "if result[0][0] == 1:\n",
        "    prediction = 'dog'\n",
        "else:\n",
        "    prediction = 'cat'\n",
        "\n",
        "print(prediction)"
      ],
      "metadata": {
        "colab": {
          "base_uri": "https://localhost:8080/"
        },
        "id": "2indmKrAL-jB",
        "outputId": "bbe33581-87a7-4ac7-8841-79545252cb8f"
      },
      "execution_count": null,
      "outputs": [
        {
          "output_type": "stream",
          "name": "stdout",
          "text": [
            "1/1 [==============================] - 0s 17ms/step\n",
            "cat\n"
          ]
        }
      ]
    }
  ]
}