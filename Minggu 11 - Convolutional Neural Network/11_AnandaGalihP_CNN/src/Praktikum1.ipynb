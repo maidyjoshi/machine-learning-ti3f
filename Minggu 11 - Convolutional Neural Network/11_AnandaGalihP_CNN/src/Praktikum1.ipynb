{
  "nbformat": 4,
  "nbformat_minor": 0,
  "metadata": {
    "colab": {
      "provenance": [],
      "gpuType": "T4"
    },
    "kernelspec": {
      "name": "python3",
      "display_name": "Python 3"
    },
    "language_info": {
      "name": "python"
    },
    "accelerator": "GPU"
  },
  "cells": [
    {
      "cell_type": "code",
      "execution_count": 1,
      "metadata": {
        "id": "wRzjplNOnPnr"
      },
      "outputs": [],
      "source": [
        "# Langkah 1 - Import Library\n",
        "import tensorflow as tf  # Import library TensorFlow untuk penggunaan alat dan fungsi dalam pembelajaran mesin.\n",
        "from keras.preprocessing.image import ImageDataGenerator  # Import modul ImageDataGenerator dari pustaka Keras yang berguna untuk augmentasi gambar."
      ]
    },
    {
      "cell_type": "code",
      "source": [
        "# koneksi drive dan colab\n",
        "from google.colab import drive\n",
        "drive.mount('/content/drive')"
      ],
      "metadata": {
        "colab": {
          "base_uri": "https://localhost:8080/"
        },
        "id": "wP6z3ig3oGh5",
        "outputId": "23a04d11-82ab-44d9-a559-999cd3dfa024"
      },
      "execution_count": 2,
      "outputs": [
        {
          "output_type": "stream",
          "name": "stdout",
          "text": [
            "Mounted at /content/drive\n"
          ]
        }
      ]
    },
    {
      "cell_type": "code",
      "source": [
        "# Langkah 2.1. Pra Pengolahan Data Training\n",
        "train_datagen = ImageDataGenerator(\n",
        "    rescale=1./255,  # Mengubah nilai piksel agar berada dalam rentang 0 hingga 1 untuk normalisasi gambar.\n",
        "    shear_range=0.2,  # Memberikan efek shear atau geser pada gambar.\n",
        "    zoom_range=0.2,  # Memberikan efek zoom pada gambar.\n",
        "    horizontal_flip=True  # Melakukan flipping horizontal pada gambar.\n",
        ")\n",
        "\n",
        "training_set = train_datagen.flow_from_directory(\n",
        "    '/content/drive/MyDrive/College/05 - Semester 5/ML/dataset/training_set',  # Mengambil gambar dari direktori 'training_set'.\n",
        "    target_size=(64, 64),  # Mengubah ukuran gambar menjadi 64x64 piksel.\n",
        "    batch_size=32,  # Menentukan ukuran batch data yang akan digunakan untuk pelatihan.\n",
        "    class_mode='binary'  # Menggunakan mode 'binary' untuk klasifikasi biner.\n",
        ")"
      ],
      "metadata": {
        "colab": {
          "base_uri": "https://localhost:8080/"
        },
        "id": "0Btd60LqnsFh",
        "outputId": "d3c3eecf-5573-49e1-8a7a-e95aea2aa5b2"
      },
      "execution_count": 3,
      "outputs": [
        {
          "output_type": "stream",
          "name": "stdout",
          "text": [
            "Found 8000 images belonging to 2 classes.\n"
          ]
        }
      ]
    },
    {
      "cell_type": "code",
      "source": [
        "# Langkah 2.2. Pra Pengolahan Data Testing\n",
        "test_datagen = ImageDataGenerator(\n",
        "    rescale=1./255  # Mengubah nilai piksel agar berada dalam rentang 0 hingga 1 untuk normalisasi gambar.\n",
        ")\n",
        "\n",
        "test_set = test_datagen.flow_from_directory(\n",
        "    '/content/drive/MyDrive/College/05 - Semester 5/ML/dataset/test_set',  # Mengambil gambar dari direktori 'test_set'.\n",
        "    target_size=(64, 64),  # Mengubah ukuran gambar menjadi 64x64 piksel.\n",
        "    batch_size=32,  # Menentukan ukuran batch data yang akan digunakan untuk evaluasi.\n",
        "    class_mode='binary'  # Menggunakan mode 'binary' untuk klasifikasi biner.\n",
        ")"
      ],
      "metadata": {
        "colab": {
          "base_uri": "https://localhost:8080/"
        },
        "id": "rvHWwYgIoc7y",
        "outputId": "ebcd15ea-3fde-49e3-a90f-f0e4cf622454"
      },
      "execution_count": 4,
      "outputs": [
        {
          "output_type": "stream",
          "name": "stdout",
          "text": [
            "Found 2000 images belonging to 2 classes.\n"
          ]
        }
      ]
    },
    {
      "cell_type": "code",
      "source": [
        "# Langkah 3.1.  - Inisiasi Model CNN\n",
        "cnn = tf.keras.models.Sequential()"
      ],
      "metadata": {
        "id": "dgKHEq_Go3v_"
      },
      "execution_count": 5,
      "outputs": []
    },
    {
      "cell_type": "code",
      "source": [
        "# Langkah 3.2. - Pembuatan Layer Konvolusi 1\n",
        "cnn.add(tf.keras.layers.Conv2D(filters=32, kernel_size=3, activation='relu', input_shape=[64, 64, 3]))"
      ],
      "metadata": {
        "id": "lBBL0YQxpZwQ"
      },
      "execution_count": 6,
      "outputs": []
    },
    {
      "cell_type": "code",
      "source": [
        "# Langkah 3.3 - Pembuatan Layer Pooling 1\n",
        "cnn.add(tf.keras.layers.MaxPool2D(pool_size=2, strides=2))"
      ],
      "metadata": {
        "id": "o5PnsOuYpdNI"
      },
      "execution_count": 7,
      "outputs": []
    },
    {
      "cell_type": "code",
      "source": [
        "# Langkah 3.4 - Pembuatan Layer Konvolusi 2 dan Pooling 2\n",
        "\n",
        "cnn.add(tf.keras.layers.Conv2D(filters=32, kernel_size=3, activation='relu'))\n",
        "# Menambahkan lapisan konvolusi dengan 32 filter, ukuran kernel 3x3, dan fungsi aktivasi ReLU.\n",
        "\n",
        "cnn.add(tf.keras.layers.MaxPool2D(pool_size=2, strides=2))\n",
        "# Menambahkan lapisan max pooling dengan ukuran pool 2x2 dan langkah (stride) 2."
      ],
      "metadata": {
        "id": "-sbOj_I1qGJc"
      },
      "execution_count": 8,
      "outputs": []
    },
    {
      "cell_type": "code",
      "source": [
        "# Langkah 3.5 - Flattening\n",
        "cnn.add(tf.keras.layers.Flatten())"
      ],
      "metadata": {
        "id": "Gwbsw-KVqMR1"
      },
      "execution_count": 9,
      "outputs": []
    },
    {
      "cell_type": "code",
      "source": [
        "# Langkah 3.6 - Fully Connected Layer 1 (Input)\n",
        "cnn.add(tf.keras.layers.Dense(units=128, activation='relu'))"
      ],
      "metadata": {
        "id": "U8MuNiA9qOZw"
      },
      "execution_count": 10,
      "outputs": []
    },
    {
      "cell_type": "code",
      "source": [
        "# Langkah 3.7 - Fully Connected Layer 2 (Output)\n",
        "cnn.add(tf.keras.layers.Dense(units=1, activation='sigmoid'))"
      ],
      "metadata": {
        "id": "9-k3hFTjqXNf"
      },
      "execution_count": 11,
      "outputs": []
    },
    {
      "cell_type": "code",
      "source": [
        "# Langkah 3.8 - Compile Model CNN\n",
        "cnn.compile(optimizer = 'adam', loss = 'binary_crossentropy', metrics = ['accuracy'])"
      ],
      "metadata": {
        "id": "KHCcpZ0gqygw"
      },
      "execution_count": 12,
      "outputs": []
    },
    {
      "cell_type": "code",
      "source": [
        "# Langkah 4 - Fit CNN\n",
        "cnn.fit(x = training_set, validation_data = test_set, epochs = 25)"
      ],
      "metadata": {
        "id": "6NsHZldcq20b",
        "colab": {
          "base_uri": "https://localhost:8080/"
        },
        "outputId": "6133f126-c532-422e-9841-d3891fa05bc4"
      },
      "execution_count": 13,
      "outputs": [
        {
          "output_type": "stream",
          "name": "stdout",
          "text": [
            "Epoch 1/25\n",
            "250/250 [==============================] - 1314s 5s/step - loss: 0.6584 - accuracy: 0.6030 - val_loss: 0.6141 - val_accuracy: 0.6910\n",
            "Epoch 2/25\n",
            "250/250 [==============================] - 40s 161ms/step - loss: 0.5870 - accuracy: 0.6930 - val_loss: 0.6000 - val_accuracy: 0.7010\n",
            "Epoch 3/25\n",
            "250/250 [==============================] - 45s 180ms/step - loss: 0.5482 - accuracy: 0.7228 - val_loss: 0.5233 - val_accuracy: 0.7520\n",
            "Epoch 4/25\n",
            "250/250 [==============================] - 40s 161ms/step - loss: 0.5176 - accuracy: 0.7454 - val_loss: 0.4962 - val_accuracy: 0.7575\n",
            "Epoch 5/25\n",
            "250/250 [==============================] - 41s 165ms/step - loss: 0.5002 - accuracy: 0.7549 - val_loss: 0.5393 - val_accuracy: 0.7310\n",
            "Epoch 6/25\n",
            "250/250 [==============================] - 40s 160ms/step - loss: 0.4827 - accuracy: 0.7654 - val_loss: 0.5806 - val_accuracy: 0.7240\n",
            "Epoch 7/25\n",
            "250/250 [==============================] - 45s 181ms/step - loss: 0.4626 - accuracy: 0.7806 - val_loss: 0.4559 - val_accuracy: 0.7845\n",
            "Epoch 8/25\n",
            "250/250 [==============================] - 41s 162ms/step - loss: 0.4503 - accuracy: 0.7897 - val_loss: 0.4697 - val_accuracy: 0.7825\n",
            "Epoch 9/25\n",
            "250/250 [==============================] - 45s 181ms/step - loss: 0.4343 - accuracy: 0.7980 - val_loss: 0.4775 - val_accuracy: 0.7895\n",
            "Epoch 10/25\n",
            "250/250 [==============================] - 41s 163ms/step - loss: 0.4203 - accuracy: 0.7985 - val_loss: 0.4639 - val_accuracy: 0.7960\n",
            "Epoch 11/25\n",
            "250/250 [==============================] - 45s 179ms/step - loss: 0.4010 - accuracy: 0.8215 - val_loss: 0.4615 - val_accuracy: 0.7925\n",
            "Epoch 12/25\n",
            "250/250 [==============================] - 40s 160ms/step - loss: 0.3928 - accuracy: 0.8177 - val_loss: 0.4507 - val_accuracy: 0.7910\n",
            "Epoch 13/25\n",
            "250/250 [==============================] - 45s 180ms/step - loss: 0.3784 - accuracy: 0.8271 - val_loss: 0.4629 - val_accuracy: 0.7970\n",
            "Epoch 14/25\n",
            "250/250 [==============================] - 45s 180ms/step - loss: 0.3648 - accuracy: 0.8366 - val_loss: 0.4789 - val_accuracy: 0.7910\n",
            "Epoch 15/25\n",
            "250/250 [==============================] - 41s 163ms/step - loss: 0.3544 - accuracy: 0.8439 - val_loss: 0.4767 - val_accuracy: 0.7830\n",
            "Epoch 16/25\n",
            "250/250 [==============================] - 40s 160ms/step - loss: 0.3386 - accuracy: 0.8514 - val_loss: 0.4544 - val_accuracy: 0.7975\n",
            "Epoch 17/25\n",
            "250/250 [==============================] - 41s 165ms/step - loss: 0.3285 - accuracy: 0.8535 - val_loss: 0.4739 - val_accuracy: 0.8000\n",
            "Epoch 18/25\n",
            "250/250 [==============================] - 40s 161ms/step - loss: 0.3063 - accuracy: 0.8656 - val_loss: 0.4651 - val_accuracy: 0.8060\n",
            "Epoch 19/25\n",
            "250/250 [==============================] - 42s 167ms/step - loss: 0.2970 - accuracy: 0.8737 - val_loss: 0.4935 - val_accuracy: 0.8080\n",
            "Epoch 20/25\n",
            "250/250 [==============================] - 41s 165ms/step - loss: 0.2752 - accuracy: 0.8789 - val_loss: 0.5390 - val_accuracy: 0.7940\n",
            "Epoch 21/25\n",
            "250/250 [==============================] - 46s 183ms/step - loss: 0.2630 - accuracy: 0.8925 - val_loss: 0.5467 - val_accuracy: 0.7935\n",
            "Epoch 22/25\n",
            "250/250 [==============================] - 41s 163ms/step - loss: 0.2563 - accuracy: 0.8906 - val_loss: 0.5767 - val_accuracy: 0.7800\n",
            "Epoch 23/25\n",
            "250/250 [==============================] - 42s 167ms/step - loss: 0.2442 - accuracy: 0.8974 - val_loss: 0.5169 - val_accuracy: 0.8125\n",
            "Epoch 24/25\n",
            "250/250 [==============================] - 40s 162ms/step - loss: 0.2440 - accuracy: 0.9022 - val_loss: 0.5381 - val_accuracy: 0.7985\n",
            "Epoch 25/25\n",
            "250/250 [==============================] - 46s 183ms/step - loss: 0.2212 - accuracy: 0.9081 - val_loss: 0.5519 - val_accuracy: 0.7925\n"
          ]
        },
        {
          "output_type": "execute_result",
          "data": {
            "text/plain": [
              "<keras.src.callbacks.History at 0x78d044667670>"
            ]
          },
          "metadata": {},
          "execution_count": 13
        }
      ]
    },
    {
      "cell_type": "code",
      "source": [
        "# Langkah 5 - Prediksi dengan 1 Citra\n",
        "\n",
        "import numpy as np  # Mengimport pustaka numpy untuk manipulasi array.\n",
        "from keras.preprocessing import image  # Mengimport modul image dari pustaka Keras untuk memproses gambar.\n",
        "\n",
        "test_image = image.load_img('/content/drive/MyDrive/College/05 - Semester 5/ML/dataset/single_prediction/cat_or_dog_1.jpg', target_size=(64, 64))\n",
        "# Memuat gambar uji ('cat_or_dog_1.jpg') dengan ukuran target 64x64 piksel.\n",
        "\n",
        "test_image = image.img_to_array(test_image)  # Mengonversi gambar menjadi array numpy.\n",
        "test_image = np.expand_dims(test_image, axis=0)\n",
        "# Menambahkan dimensi tambahan pada array untuk memenuhi kebutuhan model.\n",
        "\n",
        "result = cnn.predict(test_image)\n",
        "# Menggunakan model CNN untuk melakukan prediksi terhadap gambar yang dimasukkan.\n",
        "\n",
        "training_set.class_indices\n",
        "# Menampilkan indeks kelas dari set pelatihan (training set).\n",
        "\n",
        "if result[0][0] == 1:  # Jika hasil prediksi menunjukkan kelas 1.\n",
        "    prediction = 'dog'  # Memprediksi gambar sebagai anjing ('dog').\n",
        "else:\n",
        "    prediction = 'cat'  # Memprediksi gambar sebagai kucing ('cat')."
      ],
      "metadata": {
        "id": "LPormAQ8q54S",
        "colab": {
          "base_uri": "https://localhost:8080/"
        },
        "outputId": "1b7213e2-0d07-4f12-9ae0-69ec9ffae218"
      },
      "execution_count": 14,
      "outputs": [
        {
          "output_type": "stream",
          "name": "stdout",
          "text": [
            "1/1 [==============================] - 0s 154ms/step\n"
          ]
        }
      ]
    }
  ]
}