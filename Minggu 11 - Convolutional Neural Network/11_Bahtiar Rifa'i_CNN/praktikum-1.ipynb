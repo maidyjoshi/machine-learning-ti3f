{
  "nbformat": 4,
  "nbformat_minor": 0,
  "metadata": {
    "colab": {
      "provenance": [],
      "gpuType": "T4"
    },
    "kernelspec": {
      "name": "python3",
      "display_name": "Python 3"
    },
    "language_info": {
      "name": "python"
    },
    "accelerator": "GPU"
  },
  "cells": [
    {
      "cell_type": "markdown",
      "source": [
        "**Praktikum 1**"
      ],
      "metadata": {
        "id": "tFUoyhbVLbe7"
      }
    },
    {
      "cell_type": "code",
      "source": [
        "from google.colab import drive\n",
        "drive.mount('/content/drive')"
      ],
      "metadata": {
        "id": "fkp40e--oJQI",
        "ExecuteTime": {
          "end_time": "2023-11-28T07:16:14.562788400Z",
          "start_time": "2023-11-28T07:16:13.461778400Z"
        },
        "colab": {
          "base_uri": "https://localhost:8080/"
        },
        "outputId": "4310bfeb-6ab5-4f7b-9f65-b6bcc12b1f5b"
      },
      "execution_count": 1,
      "outputs": [
        {
          "output_type": "stream",
          "name": "stdout",
          "text": [
            "Mounted at /content/drive\n"
          ]
        }
      ]
    },
    {
      "cell_type": "markdown",
      "source": [
        "**Klasifikasi Kucing dan Anjing**\n",
        "\n",
        "Pada praktikum ini kita akan membuat model klasifikasi CNN sederhana pada kasus citra kucing dan anjing."
      ],
      "metadata": {
        "id": "aQw3NYw7LblE"
      }
    },
    {
      "cell_type": "code",
      "source": [
        "# Import library\n",
        "import tensorflow as tf\n",
        "from keras.preprocessing.image import ImageDataGenerator"
      ],
      "metadata": {
        "id": "2-IDs9uQL1u9",
        "ExecuteTime": {
          "end_time": "2023-11-28T07:16:14.569769200Z",
          "start_time": "2023-11-28T07:16:14.563785300Z"
        }
      },
      "execution_count": 2,
      "outputs": []
    },
    {
      "cell_type": "code",
      "source": [
        "# Inisialisasi objek ImageDataGenerator untuk pengolahan data pelatihan\n",
        "train_datagen = ImageDataGenerator(\n",
        "    rescale=1./255,\n",
        "    shear_range=0.2,\n",
        "    zoom_range=0.2,\n",
        "    horizontal_flip=True\n",
        ")\n",
        "\n",
        "# Persiapkan data pelatihan menggunakan flow_from_directory\n",
        "training_set = train_datagen.flow_from_directory(\n",
        "    '/content/drive/MyDrive/machine-learning/dataset/training_set',\n",
        "    target_size=(64, 64),\n",
        "    batch_size=32,\n",
        "    class_mode='binary'\n",
        ")"
      ],
      "metadata": {
        "id": "PW6jTcoKL1y-",
        "colab": {
          "base_uri": "https://localhost:8080/"
        },
        "outputId": "66cfa87e-45ec-4098-f8f5-8aafba836975",
        "ExecuteTime": {
          "start_time": "2023-11-28T07:16:14.566777300Z"
        }
      },
      "execution_count": 3,
      "outputs": [
        {
          "output_type": "stream",
          "name": "stdout",
          "text": [
            "Found 8000 images belonging to 2 classes.\n"
          ]
        }
      ]
    },
    {
      "cell_type": "code",
      "source": [
        "# Inisialisasi objek ImageDataGenerator untuk pengolahan data uji\n",
        "test_datagen = ImageDataGenerator(rescale=1./255)\n",
        "\n",
        "# Persiapkan data uji menggunakan flow_from_directory\n",
        "test_set = test_datagen.flow_from_directory(\n",
        "    '/content/drive/MyDrive/machine-learning/dataset/test_set',\n",
        "    target_size=(64, 64),\n",
        "    batch_size=32,\n",
        "    class_mode='binary'\n",
        ")"
      ],
      "metadata": {
        "id": "r-lqUiBnL146",
        "colab": {
          "base_uri": "https://localhost:8080/"
        },
        "outputId": "c5ec274e-eedd-4e45-f3e5-ec457904e152",
        "ExecuteTime": {
          "end_time": "2023-11-28T07:16:14.571764200Z",
          "start_time": "2023-11-28T07:16:14.569769200Z"
        }
      },
      "execution_count": 4,
      "outputs": [
        {
          "output_type": "stream",
          "name": "stdout",
          "text": [
            "Found 2000 images belonging to 2 classes.\n"
          ]
        }
      ]
    },
    {
      "cell_type": "code",
      "source": [
        "# Pembuatan model CNN\n",
        "cnn = tf.keras.models.Sequential()"
      ],
      "metadata": {
        "id": "YI5ytG4dL18W",
        "ExecuteTime": {
          "end_time": "2023-11-28T07:16:14.574756100Z",
          "start_time": "2023-11-28T07:16:14.573759200Z"
        }
      },
      "execution_count": 5,
      "outputs": []
    },
    {
      "cell_type": "code",
      "source": [
        "# Pembuatan layer konvolusi 1\n",
        "cnn.add(tf.keras.layers.Conv2D(filters=32, kernel_size=3, activation='relu', input_shape=[64, 64, 3]))"
      ],
      "metadata": {
        "id": "hppQ7ZaNL1_y",
        "ExecuteTime": {
          "end_time": "2023-11-28T07:16:14.586723800Z",
          "start_time": "2023-11-28T07:16:14.576750500Z"
        }
      },
      "execution_count": 6,
      "outputs": []
    },
    {
      "cell_type": "code",
      "source": [
        "# Pembuatan layer pooling 1\n",
        "cnn.add(tf.keras.layers.MaxPool2D(pool_size=2, strides=2))"
      ],
      "metadata": {
        "id": "U-0PerHAL2DG",
        "ExecuteTime": {
          "start_time": "2023-11-28T07:16:14.580739700Z"
        }
      },
      "execution_count": 7,
      "outputs": []
    },
    {
      "cell_type": "code",
      "source": [
        "# Pembuatan layer konvolusi 2 dan pooling 2\n",
        "cnn.add(tf.keras.layers.Conv2D(filters=32, kernel_size=3, activation='relu'))\n",
        "cnn.add(tf.keras.layers.MaxPool2D(pool_size=2, strides=2))"
      ],
      "metadata": {
        "id": "P7IedxW8NbAW",
        "ExecuteTime": {
          "start_time": "2023-11-28T07:16:14.583731800Z"
        }
      },
      "execution_count": 8,
      "outputs": []
    },
    {
      "cell_type": "code",
      "source": [
        "# Flattening\n",
        "cnn.add(tf.keras.layers.Flatten())"
      ],
      "metadata": {
        "id": "bgEQZEFWNbGi",
        "ExecuteTime": {
          "start_time": "2023-11-28T07:16:14.586723800Z"
        }
      },
      "execution_count": 9,
      "outputs": []
    },
    {
      "cell_type": "code",
      "source": [
        "# Fully connected layer 1 (Input)\n",
        "cnn.add(tf.keras.layers.Dense(units=128, activation='relu'))"
      ],
      "metadata": {
        "id": "AkbCto8uNbJq",
        "ExecuteTime": {
          "end_time": "2023-11-28T07:16:14.597694200Z",
          "start_time": "2023-11-28T07:16:14.588719100Z"
        }
      },
      "execution_count": 10,
      "outputs": []
    },
    {
      "cell_type": "code",
      "source": [
        "# Fully connected layer 2 (Output)\n",
        "cnn.add(tf.keras.layers.Dense(units=1, activation='sigmoid'))"
      ],
      "metadata": {
        "id": "rY5SEIwBNbMs",
        "ExecuteTime": {
          "start_time": "2023-11-28T07:16:14.591710200Z"
        }
      },
      "execution_count": 11,
      "outputs": []
    },
    {
      "cell_type": "code",
      "source": [
        "# Compile model CNN\n",
        "cnn.compile(optimizer = 'adam', loss = 'binary_crossentropy', metrics = ['accuracy'])"
      ],
      "metadata": {
        "id": "4DQ2YWEgN-Ly",
        "ExecuteTime": {
          "start_time": "2023-11-28T07:16:14.594702400Z"
        }
      },
      "execution_count": 12,
      "outputs": []
    },
    {
      "cell_type": "code",
      "source": [
        "# Fit CNN\n",
        "cnn.fit(x = training_set, validation_data = test_set, epochs = 25)"
      ],
      "metadata": {
        "id": "lAe4ESIuN-Ph",
        "colab": {
          "base_uri": "https://localhost:8080/"
        },
        "outputId": "c1090efc-6906-497d-9f5f-0b69820db4f2",
        "ExecuteTime": {
          "end_time": "2023-11-28T07:16:14.708726200Z",
          "start_time": "2023-11-28T07:16:14.624684500Z"
        }
      },
      "execution_count": 13,
      "outputs": [
        {
          "output_type": "stream",
          "name": "stdout",
          "text": [
            "Epoch 1/25\n",
            "250/250 [==============================] - 1585s 6s/step - loss: 0.6545 - accuracy: 0.6083 - val_loss: 0.6451 - val_accuracy: 0.6290\n",
            "Epoch 2/25\n",
            "250/250 [==============================] - 36s 143ms/step - loss: 0.5761 - accuracy: 0.6990 - val_loss: 0.5450 - val_accuracy: 0.7225\n",
            "Epoch 3/25\n",
            "250/250 [==============================] - 36s 143ms/step - loss: 0.5394 - accuracy: 0.7260 - val_loss: 0.5113 - val_accuracy: 0.7495\n",
            "Epoch 4/25\n",
            "250/250 [==============================] - 36s 142ms/step - loss: 0.4995 - accuracy: 0.7546 - val_loss: 0.5381 - val_accuracy: 0.7250\n",
            "Epoch 5/25\n",
            "250/250 [==============================] - 36s 144ms/step - loss: 0.4738 - accuracy: 0.7724 - val_loss: 0.4681 - val_accuracy: 0.7775\n",
            "Epoch 6/25\n",
            "250/250 [==============================] - 36s 143ms/step - loss: 0.4641 - accuracy: 0.7809 - val_loss: 0.4714 - val_accuracy: 0.7795\n",
            "Epoch 7/25\n",
            "250/250 [==============================] - 36s 144ms/step - loss: 0.4507 - accuracy: 0.7880 - val_loss: 0.4870 - val_accuracy: 0.7645\n",
            "Epoch 8/25\n",
            "250/250 [==============================] - 36s 143ms/step - loss: 0.4341 - accuracy: 0.7945 - val_loss: 0.4446 - val_accuracy: 0.7940\n",
            "Epoch 9/25\n",
            "250/250 [==============================] - 36s 143ms/step - loss: 0.4200 - accuracy: 0.7986 - val_loss: 0.4594 - val_accuracy: 0.7810\n",
            "Epoch 10/25\n",
            "250/250 [==============================] - 35s 142ms/step - loss: 0.4077 - accuracy: 0.8061 - val_loss: 0.4399 - val_accuracy: 0.8070\n",
            "Epoch 11/25\n",
            "250/250 [==============================] - 36s 143ms/step - loss: 0.4011 - accuracy: 0.8177 - val_loss: 0.4494 - val_accuracy: 0.8075\n",
            "Epoch 12/25\n",
            "250/250 [==============================] - 36s 144ms/step - loss: 0.3842 - accuracy: 0.8227 - val_loss: 0.4696 - val_accuracy: 0.7940\n",
            "Epoch 13/25\n",
            "250/250 [==============================] - 35s 141ms/step - loss: 0.3698 - accuracy: 0.8313 - val_loss: 0.4633 - val_accuracy: 0.8070\n",
            "Epoch 14/25\n",
            "250/250 [==============================] - 36s 142ms/step - loss: 0.3639 - accuracy: 0.8346 - val_loss: 0.4341 - val_accuracy: 0.8200\n",
            "Epoch 15/25\n",
            "250/250 [==============================] - 36s 143ms/step - loss: 0.3526 - accuracy: 0.8422 - val_loss: 0.5026 - val_accuracy: 0.7780\n",
            "Epoch 16/25\n",
            "250/250 [==============================] - 41s 164ms/step - loss: 0.3364 - accuracy: 0.8508 - val_loss: 0.4747 - val_accuracy: 0.7835\n",
            "Epoch 17/25\n",
            "250/250 [==============================] - 36s 142ms/step - loss: 0.3185 - accuracy: 0.8601 - val_loss: 0.4548 - val_accuracy: 0.8120\n",
            "Epoch 18/25\n",
            "250/250 [==============================] - 36s 145ms/step - loss: 0.3129 - accuracy: 0.8655 - val_loss: 0.4655 - val_accuracy: 0.8175\n",
            "Epoch 19/25\n",
            "250/250 [==============================] - 41s 163ms/step - loss: 0.2935 - accuracy: 0.8705 - val_loss: 0.4730 - val_accuracy: 0.8040\n",
            "Epoch 20/25\n",
            "250/250 [==============================] - 36s 144ms/step - loss: 0.2890 - accuracy: 0.8749 - val_loss: 0.4862 - val_accuracy: 0.8065\n",
            "Epoch 21/25\n",
            "250/250 [==============================] - 37s 146ms/step - loss: 0.2746 - accuracy: 0.8827 - val_loss: 0.4854 - val_accuracy: 0.7960\n",
            "Epoch 22/25\n",
            "250/250 [==============================] - 37s 147ms/step - loss: 0.2626 - accuracy: 0.8907 - val_loss: 0.4683 - val_accuracy: 0.8080\n",
            "Epoch 23/25\n",
            "250/250 [==============================] - 37s 146ms/step - loss: 0.2449 - accuracy: 0.9001 - val_loss: 0.5004 - val_accuracy: 0.8135\n",
            "Epoch 24/25\n",
            "250/250 [==============================] - 36s 145ms/step - loss: 0.2349 - accuracy: 0.9034 - val_loss: 0.4945 - val_accuracy: 0.8070\n",
            "Epoch 25/25\n",
            "250/250 [==============================] - 42s 168ms/step - loss: 0.2318 - accuracy: 0.9018 - val_loss: 0.5572 - val_accuracy: 0.7995\n"
          ]
        },
        {
          "output_type": "execute_result",
          "data": {
            "text/plain": [
              "<keras.src.callbacks.History at 0x7b0abc189240>"
            ]
          },
          "metadata": {},
          "execution_count": 13
        }
      ]
    },
    {
      "cell_type": "code",
      "source": [
        "# Prediksi dengan 1 citra\n",
        "import numpy as np\n",
        "from keras.preprocessing import image\n",
        "\n",
        "test_image = image.load_img('/content/drive/MyDrive/machine-learning/dataset/single_prediction/cat_or_dog_1.jpg', target_size = (64, 64)) # memuat gambar uji dengan ukuran target 64x64 piksel\n",
        "test_image = image.img_to_array(test_image) # mengonversi gambar yang telah dimuat menjadi array NumPy.\n",
        "test_image = np.expand_dims(test_image, axis = 0) # mengubah array gambar menjadi tensor dengan dimensi tambahan\n",
        "result = cnn.predict(test_image) # untuk melakukan prediksi dengan model CNN yang sudah dilatih\n",
        "training_set.class_indices # memberikan informasi tentang indeks yang sesuai dengan kelas 'cat' dan 'dog' dalam hasil prediksi\n",
        "if result[0][0] == 1: # memeriksa apakah hasil prediksi adalah 1 atau tidak\n",
        "    prediction = 'dog' # jika hasil prediksi adalah 1, maka memprediksi bahwa gambar adalah anjing ('dog')\n",
        "else:\n",
        "    prediction = 'cat' # jika hasil prediksi bukan 1, maka memprediksi bahwa gambar adalah kucing ('cat')"
      ],
      "metadata": {
        "id": "zmPTb_PjN-TN",
        "ExecuteTime": {
          "start_time": "2023-11-28T07:16:14.627676400Z"
        },
        "colab": {
          "base_uri": "https://localhost:8080/"
        },
        "outputId": "44407118-cf09-4596-822a-e1bf406528e8"
      },
      "execution_count": 14,
      "outputs": [
        {
          "output_type": "stream",
          "name": "stdout",
          "text": [
            "1/1 [==============================] - 0s 172ms/step\n"
          ]
        }
      ]
    }
  ]
}