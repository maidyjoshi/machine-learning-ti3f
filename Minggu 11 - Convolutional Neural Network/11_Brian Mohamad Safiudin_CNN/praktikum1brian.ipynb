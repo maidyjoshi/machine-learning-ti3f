{
  "cells": [
    {
      "cell_type": "markdown",
      "metadata": {},
      "source": [
        "# Nama      : Brian Mohamad Safiudin\n",
        "# NIM       : 2141720133\n",
        "# Kelas     : TI - 3F"
      ]
    },
    {
      "cell_type": "markdown",
      "metadata": {},
      "source": [
        "---\n",
        "# **Praktikum 1 - Pertemuan 11**\n",
        "---\n",
        "Pada praktikum ini kita akan membuat model klasifikasi CNN sederhana pada kasus citra kucing dan anjing."
      ]
    },
    {
      "cell_type": "markdown",
      "metadata": {},
      "source": [
        "---\n",
        "# **Langkah 1 - Import Library**\n",
        "---"
      ]
    },
    {
      "cell_type": "code",
      "execution_count": 1,
      "metadata": {
        "id": "FcoQFnoVNH7m"
      },
      "outputs": [],
      "source": [
        "#Langkah 1 - Import Library\n",
        "import tensorflow as tf\n",
        "from keras.preprocessing.image import ImageDataGenerator"
      ]
    },
    {
      "cell_type": "markdown",
      "metadata": {},
      "source": [
        "---\n",
        "# **Langkah 2 - Pra Pengolahan Data**\n",
        "---\n",
        "Pada tahap ini kita akan sedikit melakukan manipulasi pada citra yang digunakan. Manipulasi yang dilakukan diantaranya adalah normalisasi nilai piksel, koreksi kemiringan, pembesaran (zoom), dan flip."
      ]
    },
    {
      "cell_type": "markdown",
      "metadata": {},
      "source": [
        "---\n",
        "## **Langkah 2.1 -  Pra Pengolahan Data Training**\n",
        "---"
      ]
    },
    {
      "cell_type": "code",
      "execution_count": 2,
      "metadata": {
        "colab": {
          "base_uri": "https://localhost:8080/"
        },
        "id": "mz2dGfFcN5oU",
        "outputId": "19d345fc-7760-475a-b335-9ec01360b020"
      },
      "outputs": [
        {
          "name": "stdout",
          "output_type": "stream",
          "text": [
            "Found 8060 images belonging to 2 classes.\n"
          ]
        }
      ],
      "source": [
        "# Langkah 2.1. Pra Pengolahan Data Training\n",
        "train_datagen = ImageDataGenerator(rescale = 1./255,\n",
        "                                   shear_range = 0.2,\n",
        "                                   zoom_range = 0.2,\n",
        "                                   horizontal_flip = True)\n",
        "training_set = train_datagen.flow_from_directory('/content/drive/MyDrive/Machine Learning-Semester 5/Praktikum11/dataset/training_set',\n",
        "                                                 target_size = (64, 64),\n",
        "                                                 batch_size = 32,\n",
        "                                                 class_mode = 'binary')"
      ]
    },
    {
      "cell_type": "markdown",
      "metadata": {},
      "source": [
        "---\n",
        "## **Langkah 2.2 -  Pra Pengolahan Data Training**\n",
        "---"
      ]
    },
    {
      "cell_type": "code",
      "execution_count": 3,
      "metadata": {
        "colab": {
          "base_uri": "https://localhost:8080/"
        },
        "id": "KOZthZQ0OC5C",
        "outputId": "52f8ff34-183b-48e5-ea86-76aee726229d"
      },
      "outputs": [
        {
          "name": "stdout",
          "output_type": "stream",
          "text": [
            "Found 2010 images belonging to 2 classes.\n"
          ]
        }
      ],
      "source": [
        "# Langkah 2.2. Pra Pengolahan Data Testing\n",
        "test_datagen = ImageDataGenerator(rescale = 1./255)\n",
        "test_set = test_datagen.flow_from_directory('/content/drive/MyDrive/Machine Learning-Semester 5/Praktikum11/dataset/test_set',\n",
        "                                            target_size = (64, 64),\n",
        "                                            batch_size = 32,\n",
        "                                            class_mode = 'binary')"
      ]
    },
    {
      "cell_type": "markdown",
      "metadata": {},
      "source": [
        "---\n",
        "# **Langkah 3 - Pembuatan Model CNN**\n",
        "---\n",
        "Contoh model CNN terkenal adalah arsitektur AlexNet, VGGNet, ResNet, Inception (GoogleNet), dan MobileNet. Model ini telah terbukti berhasil dalam berbagai tugas visi komputer dan sering digunakan sebagai dasar untuk pengembangan model khusus berdasarkan kebutuhan tertentu."
      ]
    },
    {
      "cell_type": "markdown",
      "metadata": {},
      "source": [
        "---\n",
        "## **Langkah 3.1 -  Inisiasi Model CNN**\n",
        "---"
      ]
    },
    {
      "cell_type": "code",
      "execution_count": 4,
      "metadata": {
        "id": "rM665Z3wOvRy"
      },
      "outputs": [],
      "source": [
        "# Langkah 3.1.  - Inisiasi Model CNN\n",
        "cnn = tf.keras.models.Sequential()"
      ]
    },
    {
      "cell_type": "markdown",
      "metadata": {},
      "source": [
        "---\n",
        "## **Langkah 3.2 -  Pembuatan Layer Konvolusi 1**\n",
        "---"
      ]
    },
    {
      "cell_type": "code",
      "execution_count": 5,
      "metadata": {
        "id": "wY9bAZTOO19G"
      },
      "outputs": [],
      "source": [
        "# Langkah 3.2. - Pembuatan Layer Konvolusi 1\n",
        "cnn.add(tf.keras.layers.Conv2D(filters=32, kernel_size=3, activation='relu', input_shape=[64, 64, 3]))"
      ]
    },
    {
      "cell_type": "markdown",
      "metadata": {},
      "source": [
        "---\n",
        "## **Langkah 3.3 -  Pembuatan Layer Pooling 1**\n",
        "---"
      ]
    },
    {
      "cell_type": "code",
      "execution_count": 6,
      "metadata": {
        "id": "stu0b-SsO79V"
      },
      "outputs": [],
      "source": [
        "# Langkah 3.3 - Pembuatan Layer Pooling 1\n",
        "cnn.add(tf.keras.layers.MaxPool2D(pool_size=2, strides=2))"
      ]
    },
    {
      "cell_type": "markdown",
      "metadata": {},
      "source": [
        "---\n",
        "## **Langkah 3.4 -  Pembuatan Layer Konvolusi 2 dan Pooling 2**\n",
        "---"
      ]
    },
    {
      "cell_type": "code",
      "execution_count": 7,
      "metadata": {
        "id": "guE2DFhTO9Uk"
      },
      "outputs": [],
      "source": [
        "# Langkah 3.4 - Pembuatan Layer Konvolusi 2 dan Pooling 2\n",
        "cnn.add(tf.keras.layers.Conv2D(filters=32, kernel_size=3, activation='relu'))\n",
        "cnn.add(tf.keras.layers.MaxPool2D(pool_size=2, strides=2))"
      ]
    },
    {
      "cell_type": "markdown",
      "metadata": {},
      "source": [
        "---\n",
        "## **Langkah 3.5 -  Flattening**\n",
        "---"
      ]
    },
    {
      "cell_type": "code",
      "execution_count": 8,
      "metadata": {
        "id": "TF8qKXTyPAYp"
      },
      "outputs": [],
      "source": [
        "# Langkah 3.5 - Flattening\n",
        "cnn.add(tf.keras.layers.Flatten())"
      ]
    },
    {
      "cell_type": "markdown",
      "metadata": {},
      "source": [
        "---\n",
        "## **Langkah 3.6 -  Fully Connected Layer 1 (Input)**\n",
        "---"
      ]
    },
    {
      "cell_type": "code",
      "execution_count": 9,
      "metadata": {
        "id": "HEH3-7MFPEC8"
      },
      "outputs": [],
      "source": [
        "# Langkah 3.6 - Fully Connected Layer 1 (Input)\n",
        "cnn.add(tf.keras.layers.Dense(units=128, activation='relu'))"
      ]
    },
    {
      "cell_type": "markdown",
      "metadata": {},
      "source": [
        "---\n",
        "## **Langkah 3.7 -  Fully Connected Layer 2 (Output)**\n",
        "---"
      ]
    },
    {
      "cell_type": "code",
      "execution_count": 10,
      "metadata": {
        "id": "NvrGoKu4PGxJ"
      },
      "outputs": [],
      "source": [
        "# Langkah 3.7 - Fully Connected Layer 2 (Output)\n",
        "cnn.add(tf.keras.layers.Dense(units=1, activation='sigmoid'))"
      ]
    },
    {
      "cell_type": "markdown",
      "metadata": {},
      "source": [
        "---\n",
        "## **Langkah 3.8 -  Compile Model CNN**\n",
        "---"
      ]
    },
    {
      "cell_type": "code",
      "execution_count": 11,
      "metadata": {
        "id": "fyZet3c8PMqg"
      },
      "outputs": [],
      "source": [
        "# Langkah 3.8 - Compile Model CNN\n",
        "cnn.compile(optimizer = 'adam', loss = 'binary_crossentropy', metrics = ['accuracy'])"
      ]
    },
    {
      "cell_type": "markdown",
      "metadata": {},
      "source": [
        "---\n",
        "# **Langkah 4 -  Fit CNN**\n",
        "---"
      ]
    },
    {
      "cell_type": "code",
      "execution_count": 12,
      "metadata": {
        "colab": {
          "base_uri": "https://localhost:8080/"
        },
        "id": "-6iyRlYxPP6U",
        "outputId": "5664a53e-1e6e-49be-f427-817f63d9d4b6"
      },
      "outputs": [
        {
          "name": "stdout",
          "output_type": "stream",
          "text": [
            "Epoch 1/25\n",
            "252/252 [==============================] - 1805s 7s/step - loss: 0.6700 - accuracy: 0.5850 - val_loss: 0.6072 - val_accuracy: 0.6836\n",
            "Epoch 2/25\n",
            "252/252 [==============================] - 39s 155ms/step - loss: 0.6187 - accuracy: 0.6569 - val_loss: 0.5802 - val_accuracy: 0.6970\n",
            "Epoch 3/25\n",
            "252/252 [==============================] - 38s 152ms/step - loss: 0.5789 - accuracy: 0.6968 - val_loss: 0.5869 - val_accuracy: 0.7045\n",
            "Epoch 4/25\n",
            "252/252 [==============================] - 38s 152ms/step - loss: 0.5342 - accuracy: 0.7289 - val_loss: 0.5337 - val_accuracy: 0.7368\n",
            "Epoch 5/25\n",
            "252/252 [==============================] - 39s 154ms/step - loss: 0.5158 - accuracy: 0.7440 - val_loss: 0.5008 - val_accuracy: 0.7582\n",
            "Epoch 6/25\n",
            "252/252 [==============================] - 44s 174ms/step - loss: 0.4945 - accuracy: 0.7581 - val_loss: 0.5818 - val_accuracy: 0.7229\n",
            "Epoch 7/25\n",
            "252/252 [==============================] - 39s 153ms/step - loss: 0.4894 - accuracy: 0.7594 - val_loss: 0.4847 - val_accuracy: 0.7721\n",
            "Epoch 8/25\n",
            "252/252 [==============================] - 39s 155ms/step - loss: 0.4682 - accuracy: 0.7793 - val_loss: 0.4772 - val_accuracy: 0.7786\n",
            "Epoch 9/25\n",
            "252/252 [==============================] - 38s 151ms/step - loss: 0.4484 - accuracy: 0.7860 - val_loss: 0.4813 - val_accuracy: 0.7701\n",
            "Epoch 10/25\n",
            "252/252 [==============================] - 39s 156ms/step - loss: 0.4355 - accuracy: 0.7978 - val_loss: 0.4654 - val_accuracy: 0.7935\n",
            "Epoch 11/25\n",
            "252/252 [==============================] - 38s 152ms/step - loss: 0.4178 - accuracy: 0.8055 - val_loss: 0.4830 - val_accuracy: 0.7776\n",
            "Epoch 12/25\n",
            "252/252 [==============================] - 41s 162ms/step - loss: 0.3986 - accuracy: 0.8167 - val_loss: 0.4877 - val_accuracy: 0.7930\n",
            "Epoch 13/25\n",
            "252/252 [==============================] - 38s 150ms/step - loss: 0.3897 - accuracy: 0.8247 - val_loss: 0.4619 - val_accuracy: 0.7910\n",
            "Epoch 14/25\n",
            "252/252 [==============================] - 39s 153ms/step - loss: 0.3753 - accuracy: 0.8320 - val_loss: 0.5183 - val_accuracy: 0.7726\n",
            "Epoch 15/25\n",
            "252/252 [==============================] - 38s 153ms/step - loss: 0.3596 - accuracy: 0.8345 - val_loss: 0.5306 - val_accuracy: 0.7881\n",
            "Epoch 16/25\n",
            "252/252 [==============================] - 38s 151ms/step - loss: 0.3429 - accuracy: 0.8440 - val_loss: 0.5124 - val_accuracy: 0.7826\n",
            "Epoch 17/25\n",
            "252/252 [==============================] - 38s 151ms/step - loss: 0.3401 - accuracy: 0.8533 - val_loss: 0.5965 - val_accuracy: 0.7512\n",
            "Epoch 18/25\n",
            "252/252 [==============================] - 38s 151ms/step - loss: 0.3221 - accuracy: 0.8569 - val_loss: 0.5074 - val_accuracy: 0.7871\n",
            "Epoch 19/25\n",
            "252/252 [==============================] - 37s 149ms/step - loss: 0.2961 - accuracy: 0.8746 - val_loss: 0.5293 - val_accuracy: 0.7756\n",
            "Epoch 20/25\n",
            "252/252 [==============================] - 38s 152ms/step - loss: 0.2835 - accuracy: 0.8758 - val_loss: 0.5045 - val_accuracy: 0.8060\n",
            "Epoch 21/25\n",
            "252/252 [==============================] - 38s 151ms/step - loss: 0.2652 - accuracy: 0.8896 - val_loss: 0.4891 - val_accuracy: 0.8085\n",
            "Epoch 22/25\n",
            "252/252 [==============================] - 37s 147ms/step - loss: 0.2514 - accuracy: 0.8981 - val_loss: 0.5161 - val_accuracy: 0.8114\n",
            "Epoch 23/25\n",
            "252/252 [==============================] - 38s 151ms/step - loss: 0.2450 - accuracy: 0.9001 - val_loss: 0.5553 - val_accuracy: 0.7920\n",
            "Epoch 24/25\n",
            "252/252 [==============================] - 38s 151ms/step - loss: 0.2415 - accuracy: 0.8994 - val_loss: 0.5468 - val_accuracy: 0.7841\n",
            "Epoch 25/25\n",
            "252/252 [==============================] - 37s 148ms/step - loss: 0.2136 - accuracy: 0.9094 - val_loss: 0.5707 - val_accuracy: 0.7980\n"
          ]
        },
        {
          "data": {
            "text/plain": [
              "<keras.src.callbacks.History at 0x7e8314411f30>"
            ]
          },
          "execution_count": 12,
          "metadata": {},
          "output_type": "execute_result"
        }
      ],
      "source": [
        "# Langkah 4 - Fit CNN\n",
        "cnn.fit(x = training_set, validation_data = test_set, epochs = 25)"
      ]
    },
    {
      "cell_type": "markdown",
      "metadata": {},
      "source": [
        "---\n",
        "# **Langkah 5 -  Prediksi dengan 1 Citra**\n",
        "---\n",
        "Pada langkah ini, kita akan mencoba melakukan prediksi pada 1 citra anjing dan kucing."
      ]
    },
    {
      "cell_type": "code",
      "execution_count": 13,
      "metadata": {
        "colab": {
          "base_uri": "https://localhost:8080/"
        },
        "id": "FanaT8DHPXHW",
        "outputId": "d50d643a-3073-4fff-8f23-9a8b73fd8ae4"
      },
      "outputs": [
        {
          "name": "stdout",
          "output_type": "stream",
          "text": [
            "1/1 [==============================] - 0s 418ms/step\n"
          ]
        }
      ],
      "source": [
        "# Langkah 5 - Prediksi dengan 1 Citra\n",
        "import numpy as np\n",
        "from keras.preprocessing import image\n",
        "test_image = image.load_img('/content/drive/MyDrive/Machine Learning-Semester 5/Praktikum11/dataset/single_prediction/cat_or_dog_1.jpg', target_size = (64, 64))\n",
        "test_image = image.img_to_array(test_image)\n",
        "test_image = np.expand_dims(test_image, axis = 0)\n",
        "result = cnn.predict(test_image)\n",
        "training_set.class_indices\n",
        "if result[0][0] == 1:\n",
        "  prediction = 'dog'\n",
        "else:\n",
        "  prediction = 'cat'"
      ]
    }
  ],
  "metadata": {
    "accelerator": "GPU",
    "colab": {
      "authorship_tag": "ABX9TyNTfPiVxVbb9BgT/TQx7JH8",
      "gpuType": "T4",
      "include_colab_link": true,
      "mount_file_id": "https://github.com/MuhammadHatta72/machine-learning-semester5/blob/main/meet11/Pratikum1_Meet11_ML.ipynb",
      "provenance": []
    },
    "kernelspec": {
      "display_name": "Python 3",
      "name": "python3"
    },
    "language_info": {
      "name": "python"
    }
  },
  "nbformat": 4,
  "nbformat_minor": 0
}
