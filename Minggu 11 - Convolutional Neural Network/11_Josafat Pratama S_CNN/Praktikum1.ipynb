{
 "cells": [
  {
   "cell_type": "markdown",
   "metadata": {},
   "source": [
    "## Langkah 1 - Import Library"
   ]
  },
  {
   "cell_type": "code",
   "execution_count": 1,
   "metadata": {},
   "outputs": [],
   "source": [
    "# Import Library\n",
    "import tensorflow as tf\n",
    "from keras.preprocessing.image import ImageDataGenerator"
   ]
  },
  {
   "cell_type": "markdown",
   "metadata": {},
   "source": [
    "## Langkah 2 - Pra Pengolahan Data"
   ]
  },
  {
   "cell_type": "code",
   "execution_count": 14,
   "metadata": {},
   "outputs": [
    {
     "name": "stdout",
     "output_type": "stream",
     "text": [
      "Found 8000 images belonging to 2 classes.\n"
     ]
    }
   ],
   "source": [
    "# train_datagen merupakan instance dari ImageDataGenerator untuk melakukan augmentasi gambar\n",
    "# training_set adalah sebuah generator yang mengambil gambar dari direktori dataset/training_set dan menghasilkan batch gambar yang telah diubah ukurannya menjadi 64x64 dengan jumlah gambar dalam setiap batch adalah 32 dan argumen class_mode = 'binary' menandakan bahwaa klasifikasi yang dilakukan adalah klasifikasi biner (kucing dan anjing).\n",
    "train_datagen = ImageDataGenerator(rescale = 1./255,\n",
    "                                   shear_range = 0.2,\n",
    "                                   zoom_range = 0.2,\n",
    "                                   horizontal_flip = True)\n",
    "training_set = train_datagen.flow_from_directory('dataset/training_set',\n",
    "                                                 target_size = (64, 64),\n",
    "                                                 batch_size = 32,\n",
    "                                                 class_mode = 'binary')"
   ]
  },
  {
   "cell_type": "code",
   "execution_count": 15,
   "metadata": {},
   "outputs": [
    {
     "name": "stdout",
     "output_type": "stream",
     "text": [
      "Found 2000 images belonging to 2 classes.\n"
     ]
    }
   ],
   "source": [
    "# train_datagen merupakan instance dari ImageDataGenerator untuk melakukan augmentasi gambar\n",
    "# test_set adalah sebuah generator yang mengambil gambar dari direktori dataset/test_set dan menghasilkan batch gambar yang telah diubah ukurannya menjadi 64x64 dengan jumlah gambar dalam setiap batch adalah 32 dan argumen class_mode = 'binary' menandakan bahwaa klasifikasi yang dilakukan adalah klasifikasi biner (kucing dan anjing).\n",
    "test_datagen = ImageDataGenerator(rescale = 1./255)\n",
    "test_set = test_datagen.flow_from_directory('dataset/test_set',\n",
    "                                            target_size = (64, 64),\n",
    "                                            batch_size = 32,\n",
    "                                            class_mode = 'binary')"
   ]
  },
  {
   "cell_type": "markdown",
   "metadata": {},
   "source": [
    "## Langkah 3 - Pembuatan Model CNN"
   ]
  },
  {
   "cell_type": "code",
   "execution_count": 4,
   "metadata": {},
   "outputs": [],
   "source": [
    "# Kode untuk membuat model neural network sequential menggunakan library TensorFlow dan Keras pada variabel cnn\n",
    "cnn = tf.keras.models.Sequential()"
   ]
  },
  {
   "cell_type": "code",
   "execution_count": 5,
   "metadata": {},
   "outputs": [],
   "source": [
    "# Kode untuk menambahkan layer convolution2D ke model cnn yang telah dibuat, dengan jumlah filter sebanyak 32, ukuran kernel 3x3, fungsi aktivasi menggunakan relu, dan input_shape adalah ukuran gambar yang akan diinputkan ke model cnn yaitu 64x64 dengan 3 channel (RGB)\n",
    "cnn.add(tf.keras.layers.Conv2D(filters=32, kernel_size=3, activation='relu', input_shape=[64, 64, 3]))"
   ]
  },
  {
   "cell_type": "code",
   "execution_count": 6,
   "metadata": {},
   "outputs": [],
   "source": [
    "# Kode untuk menambahkan layer max pooling ke model cnn yang telah dibuat, dengan ukuran pool 2x2 dan stride 2\n",
    "# Max Pooling adalah operasi yang biasanya dilakukan setelah operasi konvolusi. Tujuannya adalah untuk mengurangi dimensi dari feature map (resolusi) gambar sehingga proses pelatihan menjadi lebih cepat dan mengurangi overfitting.\n",
    "cnn.add(tf.keras.layers.MaxPool2D(pool_size=2, strides=2))"
   ]
  },
  {
   "cell_type": "code",
   "execution_count": 7,
   "metadata": {},
   "outputs": [],
   "source": [
    "# 2 Langkah yang sama dengan langkah sebelumnya\n",
    "cnn.add(tf.keras.layers.Conv2D(filters=32, kernel_size=3, activation='relu'))\n",
    "cnn.add(tf.keras.layers.MaxPool2D(pool_size=2, strides=2))"
   ]
  },
  {
   "cell_type": "code",
   "execution_count": 8,
   "metadata": {},
   "outputs": [],
   "source": [
    "# Kode untuk menambahkan layer flatten ke model cnn yang telah dibuat\n",
    "# Flatten berguna untuk mengubah input multidimensi menjadi vektor satu dimensi. \n",
    "# Tujuannya adalah untuk mempersiapkan data sebelum memasuki layer Dense (fully connected) dalam neural network.\n",
    "# Dalam konteks Convolutional Neural Network, layer ini biasanya digunakan setelah layer konvolusi dan pooling untuk \"meratakan\" feature map menjadi vektor satu dimensi.\n",
    "cnn.add(tf.keras.layers.Flatten())"
   ]
  },
  {
   "cell_type": "code",
   "execution_count": 9,
   "metadata": {},
   "outputs": [],
   "source": [
    "# Kode untuk menambahkan layer dense ke model cnn yang telah dibuat, dengan jumlah neuron sebanyak 128 dan fungsi aktivasi menggunakan relu\n",
    "# Layer dense adalah layer yang terdapat pada neural network yang menghubungkan setiap neuron pada satu layer dengan neuron pada layer berikutnya.\n",
    "cnn.add(tf.keras.layers.Dense(units=128, activation='relu'))"
   ]
  },
  {
   "cell_type": "code",
   "execution_count": 10,
   "metadata": {},
   "outputs": [],
   "source": [
    "# Kode untuk menambahkan layer dense ke model cnn yang telah dibuat, dengan jumlah neuron sebanyak 1 dan fungsi aktivasi menggunakan sigmoid\n",
    "cnn.add(tf.keras.layers.Dense(units=1, activation='sigmoid'))"
   ]
  },
  {
   "cell_type": "code",
   "execution_count": 11,
   "metadata": {},
   "outputs": [],
   "source": [
    "# Kode untuk melakukan kompilasi model cnn yang telah dibuat, dengan optimizer menggunakan adam, loss menggunakan binary_crossentropy, dan metrics menggunakan accuracy\n",
    "cnn.compile(optimizer = 'adam', loss = 'binary_crossentropy', metrics = ['accuracy'])"
   ]
  },
  {
   "cell_type": "markdown",
   "metadata": {},
   "source": [
    "## Langkah 4 - Fit CNN"
   ]
  },
  {
   "cell_type": "code",
   "execution_count": 12,
   "metadata": {},
   "outputs": [
    {
     "name": "stdout",
     "output_type": "stream",
     "text": [
      "Epoch 1/25\n",
      "250/250 [==============================] - 28s 110ms/step - loss: 0.6650 - accuracy: 0.5966 - val_loss: 0.6237 - val_accuracy: 0.6545\n",
      "Epoch 2/25\n",
      "250/250 [==============================] - 26s 106ms/step - loss: 0.6069 - accuracy: 0.6755 - val_loss: 0.5524 - val_accuracy: 0.7245\n",
      "Epoch 3/25\n",
      "250/250 [==============================] - 27s 107ms/step - loss: 0.5592 - accuracy: 0.7131 - val_loss: 0.5362 - val_accuracy: 0.7220\n",
      "Epoch 4/25\n",
      "250/250 [==============================] - 27s 106ms/step - loss: 0.5315 - accuracy: 0.7297 - val_loss: 0.5272 - val_accuracy: 0.7420\n",
      "Epoch 5/25\n",
      "250/250 [==============================] - 28s 110ms/step - loss: 0.5087 - accuracy: 0.7491 - val_loss: 0.5085 - val_accuracy: 0.7515\n",
      "Epoch 6/25\n",
      "250/250 [==============================] - 27s 108ms/step - loss: 0.4876 - accuracy: 0.7573 - val_loss: 0.5860 - val_accuracy: 0.7120\n",
      "Epoch 7/25\n",
      "250/250 [==============================] - 27s 108ms/step - loss: 0.4695 - accuracy: 0.7746 - val_loss: 0.5043 - val_accuracy: 0.7410\n",
      "Epoch 8/25\n",
      "250/250 [==============================] - 28s 113ms/step - loss: 0.4481 - accuracy: 0.7904 - val_loss: 0.5108 - val_accuracy: 0.7575\n",
      "Epoch 9/25\n",
      "250/250 [==============================] - 27s 108ms/step - loss: 0.4360 - accuracy: 0.7955 - val_loss: 0.4930 - val_accuracy: 0.7600\n",
      "Epoch 10/25\n",
      "250/250 [==============================] - 27s 106ms/step - loss: 0.4236 - accuracy: 0.7968 - val_loss: 0.4914 - val_accuracy: 0.7695\n",
      "Epoch 11/25\n",
      "250/250 [==============================] - 27s 109ms/step - loss: 0.4046 - accuracy: 0.8104 - val_loss: 0.4656 - val_accuracy: 0.7990\n",
      "Epoch 12/25\n",
      "250/250 [==============================] - 27s 106ms/step - loss: 0.3816 - accuracy: 0.8264 - val_loss: 0.4632 - val_accuracy: 0.7935\n",
      "Epoch 13/25\n",
      "250/250 [==============================] - 27s 110ms/step - loss: 0.3738 - accuracy: 0.8306 - val_loss: 0.4580 - val_accuracy: 0.7980\n",
      "Epoch 14/25\n",
      "250/250 [==============================] - 27s 107ms/step - loss: 0.3561 - accuracy: 0.8419 - val_loss: 0.4863 - val_accuracy: 0.7975\n",
      "Epoch 15/25\n",
      "250/250 [==============================] - 26s 106ms/step - loss: 0.3351 - accuracy: 0.8537 - val_loss: 0.4877 - val_accuracy: 0.7980\n",
      "Epoch 16/25\n",
      "250/250 [==============================] - 27s 108ms/step - loss: 0.3225 - accuracy: 0.8609 - val_loss: 0.4861 - val_accuracy: 0.7945\n",
      "Epoch 17/25\n",
      "250/250 [==============================] - 28s 114ms/step - loss: 0.2978 - accuracy: 0.8726 - val_loss: 0.4710 - val_accuracy: 0.8045\n",
      "Epoch 18/25\n",
      "250/250 [==============================] - 27s 106ms/step - loss: 0.2897 - accuracy: 0.8771 - val_loss: 0.4720 - val_accuracy: 0.8060\n",
      "Epoch 19/25\n",
      "250/250 [==============================] - 27s 109ms/step - loss: 0.2689 - accuracy: 0.8866 - val_loss: 0.4930 - val_accuracy: 0.8010\n",
      "Epoch 20/25\n",
      "250/250 [==============================] - 29s 116ms/step - loss: 0.2563 - accuracy: 0.8920 - val_loss: 0.4617 - val_accuracy: 0.8055\n",
      "Epoch 21/25\n",
      "250/250 [==============================] - 27s 110ms/step - loss: 0.2433 - accuracy: 0.8979 - val_loss: 0.5522 - val_accuracy: 0.7880\n",
      "Epoch 22/25\n",
      "250/250 [==============================] - 30s 120ms/step - loss: 0.2299 - accuracy: 0.9034 - val_loss: 0.4852 - val_accuracy: 0.8135\n",
      "Epoch 23/25\n",
      "250/250 [==============================] - 28s 112ms/step - loss: 0.2167 - accuracy: 0.9116 - val_loss: 0.5079 - val_accuracy: 0.8045\n",
      "Epoch 24/25\n",
      "250/250 [==============================] - 29s 115ms/step - loss: 0.2017 - accuracy: 0.9194 - val_loss: 0.5422 - val_accuracy: 0.8110\n",
      "Epoch 25/25\n",
      "250/250 [==============================] - 28s 113ms/step - loss: 0.1957 - accuracy: 0.9236 - val_loss: 0.5378 - val_accuracy: 0.8015\n"
     ]
    },
    {
     "data": {
      "text/plain": [
       "<keras.src.callbacks.History at 0x12a865f2510>"
      ]
     },
     "execution_count": 12,
     "metadata": {},
     "output_type": "execute_result"
    }
   ],
   "source": [
    "# Latih Model CNN\n",
    "cnn.fit(x = training_set, validation_data = test_set, epochs = 25)"
   ]
  },
  {
   "cell_type": "markdown",
   "metadata": {},
   "source": [
    "## Langkah 5 - Prediksi dengan 1 Citra"
   ]
  },
  {
   "cell_type": "code",
   "execution_count": 13,
   "metadata": {},
   "outputs": [
    {
     "name": "stdout",
     "output_type": "stream",
     "text": [
      "1/1 [==============================] - 0s 71ms/step\n",
      "dog\n"
     ]
    }
   ],
   "source": [
    "# Prediksi Citra\n",
    "import numpy as np\n",
    "from keras.preprocessing import image\n",
    "test_image = image.load_img('dataset/single_prediction/cat_or_dog_1.jpg', target_size = (64, 64))\n",
    "test_image = image.img_to_array(test_image)\n",
    "test_image = np.expand_dims(test_image, axis = 0)\n",
    "result = cnn.predict(test_image)\n",
    "training_set.class_indices\n",
    "if result[0][0] == 1:\n",
    "  prediction = 'dog'\n",
    "else:\n",
    "  prediction = 'cat'\n",
    "  \n",
    "# Tambahan tampilkan output\n",
    "print(prediction)"
   ]
  }
 ],
 "metadata": {
  "kernelspec": {
   "display_name": "base",
   "language": "python",
   "name": "python3"
  },
  "language_info": {
   "codemirror_mode": {
    "name": "ipython",
    "version": 3
   },
   "file_extension": ".py",
   "mimetype": "text/x-python",
   "name": "python",
   "nbconvert_exporter": "python",
   "pygments_lexer": "ipython3",
   "version": "3.11.4"
  }
 },
 "nbformat": 4,
 "nbformat_minor": 2
}
