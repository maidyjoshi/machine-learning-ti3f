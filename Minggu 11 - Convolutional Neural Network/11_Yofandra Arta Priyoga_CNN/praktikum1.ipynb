{
  "nbformat": 4,
  "nbformat_minor": 0,
  "metadata": {
    "colab": {
      "provenance": [],
      "gpuType": "T4"
    },
    "kernelspec": {
      "name": "python3",
      "display_name": "Python 3"
    },
    "language_info": {
      "name": "python"
    },
    "accelerator": "GPU"
  },
  "cells": [
    {
      "cell_type": "code",
      "execution_count": 1,
      "metadata": {
        "id": "l0bi6cCggR-9"
      },
      "outputs": [],
      "source": [
        "import tensorflow as tf\n",
        "from keras.preprocessing.image import ImageDataGenerator"
      ]
    },
    {
      "cell_type": "code",
      "source": [
        "from google.colab import drive\n",
        "drive.mount('/content/drive')"
      ],
      "metadata": {
        "colab": {
          "base_uri": "https://localhost:8080/"
        },
        "id": "a3z8V3obh2gs",
        "outputId": "f1c5a438-367f-446e-d07f-9a7961188601"
      },
      "execution_count": 2,
      "outputs": [
        {
          "output_type": "stream",
          "name": "stdout",
          "text": [
            "Mounted at /content/drive\n"
          ]
        }
      ]
    },
    {
      "cell_type": "code",
      "source": [
        "train_datagen = ImageDataGenerator(rescale = 1./255,\n",
        "                                   shear_range = 0.2,\n",
        "                                   zoom_range = 0.2,\n",
        "                                   horizontal_flip = True)\n",
        "training_set = train_datagen.flow_from_directory('/content/drive/MyDrive/dataset/dataset/training_set',\n",
        "                                                 target_size = (64, 64),\n",
        "                                                 batch_size = 32,\n",
        "                                                 class_mode = 'binary')"
      ],
      "metadata": {
        "colab": {
          "base_uri": "https://localhost:8080/"
        },
        "id": "t216cmw7hIYp",
        "outputId": "5bc1de0f-9a2f-4f77-a3cb-4e29743423f5"
      },
      "execution_count": 3,
      "outputs": [
        {
          "output_type": "stream",
          "name": "stdout",
          "text": [
            "Found 8017 images belonging to 2 classes.\n"
          ]
        }
      ]
    },
    {
      "cell_type": "code",
      "source": [
        "test_datagen = ImageDataGenerator(rescale = 1./255)\n",
        "test_set = test_datagen.flow_from_directory('/content/drive/MyDrive/dataset/dataset/test_set',\n",
        "                                            target_size = (64, 64),\n",
        "                                            batch_size = 32,\n",
        "                                            class_mode = 'binary')"
      ],
      "metadata": {
        "colab": {
          "base_uri": "https://localhost:8080/"
        },
        "id": "1lJoiZmniJCh",
        "outputId": "6fe99b67-7c65-4f81-8813-e56eff26774b"
      },
      "execution_count": 4,
      "outputs": [
        {
          "output_type": "stream",
          "name": "stdout",
          "text": [
            "Found 2000 images belonging to 2 classes.\n"
          ]
        }
      ]
    },
    {
      "cell_type": "code",
      "source": [
        "cnn = tf.keras.models.Sequential()"
      ],
      "metadata": {
        "id": "drdlt3oBjOP6"
      },
      "execution_count": 5,
      "outputs": []
    },
    {
      "cell_type": "code",
      "source": [
        "cnn.add(tf.keras.layers.Conv2D(filters=32, kernel_size=3, activation='relu', input_shape=[64, 64, 3]))"
      ],
      "metadata": {
        "id": "IABeUbqzjP4p"
      },
      "execution_count": 6,
      "outputs": []
    },
    {
      "cell_type": "code",
      "source": [
        "cnn.add(tf.keras.layers.MaxPool2D(pool_size=2, strides=2))"
      ],
      "metadata": {
        "id": "KeWYNQ1OjSA4"
      },
      "execution_count": 7,
      "outputs": []
    },
    {
      "cell_type": "code",
      "source": [
        "cnn.add(tf.keras.layers.Conv2D(filters=32, kernel_size=3, activation='relu'))\n",
        "cnn.add(tf.keras.layers.MaxPool2D(pool_size=2, strides=2))"
      ],
      "metadata": {
        "id": "fL8dTPQqjT8J"
      },
      "execution_count": 8,
      "outputs": []
    },
    {
      "cell_type": "code",
      "source": [
        "cnn.add(tf.keras.layers.Flatten())"
      ],
      "metadata": {
        "id": "jLbrsMt-jVNR"
      },
      "execution_count": 9,
      "outputs": []
    },
    {
      "cell_type": "code",
      "source": [
        "cnn.add(tf.keras.layers.Dense(units=128, activation='relu'))"
      ],
      "metadata": {
        "id": "gAw5O5rcjXTb"
      },
      "execution_count": 10,
      "outputs": []
    },
    {
      "cell_type": "code",
      "source": [
        "cnn.add(tf.keras.layers.Dense(units=1, activation='sigmoid'))"
      ],
      "metadata": {
        "id": "i5Ufdv2FjY0y"
      },
      "execution_count": 11,
      "outputs": []
    },
    {
      "cell_type": "code",
      "source": [
        "cnn.compile(optimizer = 'adam', loss = 'binary_crossentropy', metrics = ['accuracy'])"
      ],
      "metadata": {
        "id": "_vsgKashja7C"
      },
      "execution_count": 12,
      "outputs": []
    },
    {
      "cell_type": "code",
      "source": [
        "cnn.fit(x = training_set, validation_data = test_set, epochs = 25)"
      ],
      "metadata": {
        "colab": {
          "base_uri": "https://localhost:8080/"
        },
        "id": "gmIfoVHCkFfh",
        "outputId": "d92cf1bc-bf5e-4005-82b3-6e889db87cda"
      },
      "execution_count": 14,
      "outputs": [
        {
          "output_type": "stream",
          "name": "stdout",
          "text": [
            "Epoch 1/25\n",
            "251/251 [==============================] - 898s 4s/step - loss: 0.6618 - accuracy: 0.6126 - val_loss: 0.6381 - val_accuracy: 0.6360\n",
            "Epoch 2/25\n",
            "251/251 [==============================] - 44s 175ms/step - loss: 0.6111 - accuracy: 0.6626 - val_loss: 0.5856 - val_accuracy: 0.7035\n",
            "Epoch 3/25\n",
            "251/251 [==============================] - 38s 153ms/step - loss: 0.5680 - accuracy: 0.7003 - val_loss: 0.5893 - val_accuracy: 0.7140\n",
            "Epoch 4/25\n",
            "251/251 [==============================] - 44s 175ms/step - loss: 0.5307 - accuracy: 0.7317 - val_loss: 0.5163 - val_accuracy: 0.7435\n",
            "Epoch 5/25\n",
            "251/251 [==============================] - 39s 154ms/step - loss: 0.5113 - accuracy: 0.7450 - val_loss: 0.5839 - val_accuracy: 0.6975\n",
            "Epoch 6/25\n",
            "251/251 [==============================] - 39s 154ms/step - loss: 0.4765 - accuracy: 0.7669 - val_loss: 0.4899 - val_accuracy: 0.7675\n",
            "Epoch 7/25\n",
            "251/251 [==============================] - 40s 158ms/step - loss: 0.4570 - accuracy: 0.7810 - val_loss: 0.4788 - val_accuracy: 0.7715\n",
            "Epoch 8/25\n",
            "251/251 [==============================] - 39s 154ms/step - loss: 0.4414 - accuracy: 0.7891 - val_loss: 0.4901 - val_accuracy: 0.7650\n",
            "Epoch 9/25\n",
            "251/251 [==============================] - 39s 154ms/step - loss: 0.4332 - accuracy: 0.7994 - val_loss: 0.4605 - val_accuracy: 0.7810\n",
            "Epoch 10/25\n",
            "251/251 [==============================] - 39s 155ms/step - loss: 0.4124 - accuracy: 0.8151 - val_loss: 0.4888 - val_accuracy: 0.7710\n",
            "Epoch 11/25\n",
            "251/251 [==============================] - 38s 152ms/step - loss: 0.3991 - accuracy: 0.8170 - val_loss: 0.4834 - val_accuracy: 0.7860\n",
            "Epoch 12/25\n",
            "251/251 [==============================] - 38s 151ms/step - loss: 0.3885 - accuracy: 0.8246 - val_loss: 0.4588 - val_accuracy: 0.8050\n",
            "Epoch 13/25\n",
            "251/251 [==============================] - 44s 175ms/step - loss: 0.3584 - accuracy: 0.8353 - val_loss: 0.4787 - val_accuracy: 0.7840\n",
            "Epoch 14/25\n",
            "251/251 [==============================] - 40s 158ms/step - loss: 0.3448 - accuracy: 0.8524 - val_loss: 0.4839 - val_accuracy: 0.7990\n",
            "Epoch 15/25\n",
            "251/251 [==============================] - 45s 179ms/step - loss: 0.3306 - accuracy: 0.8569 - val_loss: 0.4843 - val_accuracy: 0.7890\n",
            "Epoch 16/25\n",
            "251/251 [==============================] - 38s 152ms/step - loss: 0.3104 - accuracy: 0.8620 - val_loss: 0.4841 - val_accuracy: 0.7950\n",
            "Epoch 17/25\n",
            "251/251 [==============================] - 39s 155ms/step - loss: 0.2954 - accuracy: 0.8709 - val_loss: 0.5178 - val_accuracy: 0.7855\n",
            "Epoch 18/25\n",
            "251/251 [==============================] - 38s 152ms/step - loss: 0.2872 - accuracy: 0.8769 - val_loss: 0.4950 - val_accuracy: 0.7900\n",
            "Epoch 19/25\n",
            "251/251 [==============================] - 44s 175ms/step - loss: 0.2650 - accuracy: 0.8889 - val_loss: 0.4879 - val_accuracy: 0.8010\n",
            "Epoch 20/25\n",
            "251/251 [==============================] - 39s 156ms/step - loss: 0.2592 - accuracy: 0.8891 - val_loss: 0.5858 - val_accuracy: 0.8005\n",
            "Epoch 21/25\n",
            "251/251 [==============================] - 44s 175ms/step - loss: 0.2406 - accuracy: 0.8972 - val_loss: 0.5311 - val_accuracy: 0.7915\n",
            "Epoch 22/25\n",
            "251/251 [==============================] - 39s 154ms/step - loss: 0.2403 - accuracy: 0.9001 - val_loss: 0.5203 - val_accuracy: 0.7965\n",
            "Epoch 23/25\n",
            "251/251 [==============================] - 44s 176ms/step - loss: 0.2158 - accuracy: 0.9098 - val_loss: 0.5085 - val_accuracy: 0.7965\n",
            "Epoch 24/25\n",
            "251/251 [==============================] - 38s 152ms/step - loss: 0.1991 - accuracy: 0.9222 - val_loss: 0.5932 - val_accuracy: 0.7820\n",
            "Epoch 25/25\n",
            "251/251 [==============================] - 39s 154ms/step - loss: 0.1915 - accuracy: 0.9232 - val_loss: 0.6075 - val_accuracy: 0.7905\n"
          ]
        },
        {
          "output_type": "execute_result",
          "data": {
            "text/plain": [
              "<keras.src.callbacks.History at 0x78a8d9d5f550>"
            ]
          },
          "metadata": {},
          "execution_count": 14
        }
      ]
    },
    {
      "cell_type": "code",
      "source": [
        "import numpy as np\n",
        "from keras.preprocessing import image\n",
        "test_image = image.load_img('/content/drive/MyDrive/dataset/dataset/single_prediction/cat_or_dog_1.jpg', target_size = (64, 64))\n",
        "test_image = image.img_to_array(test_image)\n",
        "test_image = np.expand_dims(test_image, axis = 0)\n",
        "result = cnn.predict(test_image)\n",
        "training_set.class_indices\n",
        "if result[0][0] == 1:\n",
        "  prediction = 'dog'\n",
        "else:\n",
        "  prediction = 'cat'"
      ],
      "metadata": {
        "colab": {
          "base_uri": "https://localhost:8080/"
        },
        "id": "vF-0XMmw1zWr",
        "outputId": "aeab1408-b404-43f4-9598-53085e101c88"
      },
      "execution_count": 17,
      "outputs": [
        {
          "output_type": "stream",
          "name": "stdout",
          "text": [
            "1/1 [==============================] - 0s 153ms/step\n"
          ]
        }
      ]
    }
  ]
}