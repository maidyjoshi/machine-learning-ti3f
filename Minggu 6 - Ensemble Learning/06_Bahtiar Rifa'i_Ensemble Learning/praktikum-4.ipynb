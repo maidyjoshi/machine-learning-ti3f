{
 "cells": [
  {
   "cell_type": "markdown",
   "id": "198868988561f57a",
   "metadata": {
    "ExecuteTime": {
     "end_time": "2023-10-15T10:35:02.135213200Z",
     "start_time": "2023-10-15T10:35:02.010636100Z"
    },
    "collapsed": false
   },
   "source": [
    "**Praktikum 4: Voting**"
   ]
  },
  {
   "cell_type": "markdown",
   "id": "f724b667ed9357a3",
   "metadata": {
    "collapsed": false
   },
   "source": [
    "**Stacking dengan Voting**\n",
    "\n",
    "Pada kasus ini kita akan menggunakan salah satu metode stacking yaitu voting untuk mengklasifikasikan pasien penderita diabetes dengan beberapa ciri. Pasien akan di klasifikasikan menjadi pasien menderita diabetes (1) dan tidak menderita diabetes (0). Pertama-tama, kita akan menggunakan beberapa algoritma klasifikasi secara terpisah, yaitu Naive Bayes, SVM Linier, dan SVM RBF. Setelah itu, kita akan menggabungkan performa dari 3 algoritma tersebut dengan menggunakan metode ensemble voting."
   ]
  },
  {
   "cell_type": "code",
   "execution_count": 1,
   "id": "f7e669e2747d9cfe",
   "metadata": {
    "collapsed": false,
    "ExecuteTime": {
     "end_time": "2023-10-15T10:58:16.524039900Z",
     "start_time": "2023-10-15T10:58:15.107262500Z"
    }
   },
   "outputs": [],
   "source": [
    "# Import library yang diperlukan\n",
    "import pandas as pd\n",
    "from sklearn.naive_bayes import GaussianNB # import Naive Bayes model Gaussian (asumsi data terdistribusi normal)\n",
    "from sklearn.svm import SVC # import SVM classifier\n",
    "from sklearn.ensemble import VotingClassifier # import model Voting\n",
    "from sklearn.model_selection import train_test_split\n",
    "from sklearn.metrics import accuracy_score\n",
    "from sklearn.impute import SimpleImputer\n",
    "from sklearn.preprocessing import StandardScaler"
   ]
  },
  {
   "cell_type": "code",
   "execution_count": 2,
   "id": "861891761f2657be",
   "metadata": {
    "collapsed": false,
    "ExecuteTime": {
     "end_time": "2023-10-15T10:58:16.549420400Z",
     "start_time": "2023-10-15T10:58:16.526034200Z"
    }
   },
   "outputs": [
    {
     "data": {
      "text/plain": "   Pregnancies  Glucose  BloodPressure  SkinThickness  Insulin   BMI  \\\n0            6      148             72             35        0  33.6   \n1            1       85             66             29        0  26.6   \n2            8      183             64              0        0  23.3   \n3            1       89             66             23       94  28.1   \n4            0      137             40             35      168  43.1   \n\n   DiabetesPedigreeFunction  Age  Outcome  \n0                     0.627   50        1  \n1                     0.351   31        0  \n2                     0.672   32        1  \n3                     0.167   21        0  \n4                     2.288   33        1  ",
      "text/html": "<div>\n<style scoped>\n    .dataframe tbody tr th:only-of-type {\n        vertical-align: middle;\n    }\n\n    .dataframe tbody tr th {\n        vertical-align: top;\n    }\n\n    .dataframe thead th {\n        text-align: right;\n    }\n</style>\n<table border=\"1\" class=\"dataframe\">\n  <thead>\n    <tr style=\"text-align: right;\">\n      <th></th>\n      <th>Pregnancies</th>\n      <th>Glucose</th>\n      <th>BloodPressure</th>\n      <th>SkinThickness</th>\n      <th>Insulin</th>\n      <th>BMI</th>\n      <th>DiabetesPedigreeFunction</th>\n      <th>Age</th>\n      <th>Outcome</th>\n    </tr>\n  </thead>\n  <tbody>\n    <tr>\n      <th>0</th>\n      <td>6</td>\n      <td>148</td>\n      <td>72</td>\n      <td>35</td>\n      <td>0</td>\n      <td>33.6</td>\n      <td>0.627</td>\n      <td>50</td>\n      <td>1</td>\n    </tr>\n    <tr>\n      <th>1</th>\n      <td>1</td>\n      <td>85</td>\n      <td>66</td>\n      <td>29</td>\n      <td>0</td>\n      <td>26.6</td>\n      <td>0.351</td>\n      <td>31</td>\n      <td>0</td>\n    </tr>\n    <tr>\n      <th>2</th>\n      <td>8</td>\n      <td>183</td>\n      <td>64</td>\n      <td>0</td>\n      <td>0</td>\n      <td>23.3</td>\n      <td>0.672</td>\n      <td>32</td>\n      <td>1</td>\n    </tr>\n    <tr>\n      <th>3</th>\n      <td>1</td>\n      <td>89</td>\n      <td>66</td>\n      <td>23</td>\n      <td>94</td>\n      <td>28.1</td>\n      <td>0.167</td>\n      <td>21</td>\n      <td>0</td>\n    </tr>\n    <tr>\n      <th>4</th>\n      <td>0</td>\n      <td>137</td>\n      <td>40</td>\n      <td>35</td>\n      <td>168</td>\n      <td>43.1</td>\n      <td>2.288</td>\n      <td>33</td>\n      <td>1</td>\n    </tr>\n  </tbody>\n</table>\n</div>"
     },
     "execution_count": 2,
     "metadata": {},
     "output_type": "execute_result"
    }
   ],
   "source": [
    "# Load Data\n",
    "dbt = pd.read_csv('data/diabetes.csv')\n",
    "\n",
    "dbt.head()"
   ]
  },
  {
   "cell_type": "code",
   "execution_count": 3,
   "id": "9b2b1a1f39573126",
   "metadata": {
    "collapsed": false,
    "ExecuteTime": {
     "end_time": "2023-10-15T10:58:16.560896900Z",
     "start_time": "2023-10-15T10:58:16.547425600Z"
    }
   },
   "outputs": [
    {
     "data": {
      "text/plain": "Index(['Pregnancies', 'Glucose', 'BloodPressure', 'SkinThickness', 'Insulin',\n       'BMI', 'DiabetesPedigreeFunction', 'Age', 'Outcome'],\n      dtype='object')"
     },
     "execution_count": 3,
     "metadata": {},
     "output_type": "execute_result"
    }
   ],
   "source": [
    "# Cek nama kolom\n",
    "dbt.columns"
   ]
  },
  {
   "cell_type": "code",
   "execution_count": 4,
   "id": "3068e484a7c3c18f",
   "metadata": {
    "collapsed": false,
    "ExecuteTime": {
     "end_time": "2023-10-15T10:58:16.595149600Z",
     "start_time": "2023-10-15T10:58:16.555285400Z"
    }
   },
   "outputs": [
    {
     "data": {
      "text/plain": "Pregnancies                 0\nGlucose                     0\nBloodPressure               0\nSkinThickness               0\nInsulin                     0\nBMI                         0\nDiabetesPedigreeFunction    0\nAge                         0\nOutcome                     0\ndtype: int64"
     },
     "execution_count": 4,
     "metadata": {},
     "output_type": "execute_result"
    }
   ],
   "source": [
    "# Cek kolom null\n",
    "dbt.isnull().sum()"
   ]
  },
  {
   "cell_type": "markdown",
   "id": "49f7b4ce5ae4c058",
   "metadata": {
    "collapsed": false
   },
   "source": [
    "Pada kasus ini, agak tidak masuk akal jika beberapa parameter bernilai 0 sebagai contoh adalah nilai 'Glucose', 'BloodPlessure' ataupun 'Insulin'. Sekecil apapun nilainya, setiap manusia yang hidup pasti miliki nilai-nilai tersebut\n",
    "\n",
    "Kita akan manipulasi nilai yang 0 dengan melakukan 'imputasi' atau mengganti nilainya dengan nilai sintetis. Pada kasus ini, kita akan menggunakan nilai mean"
   ]
  },
  {
   "cell_type": "code",
   "execution_count": 5,
   "id": "6bdf5bd4c4f05efc",
   "metadata": {
    "collapsed": false,
    "ExecuteTime": {
     "end_time": "2023-10-15T10:58:16.633345500Z",
     "start_time": "2023-10-15T10:58:16.565883500Z"
    }
   },
   "outputs": [
    {
     "name": "stdout",
     "output_type": "stream",
     "text": [
      "============================================\n",
      "Pregnancies ==> Missing zeros : 111\n",
      "============================================\n",
      "Glucose ==> Missing zeros : 5\n",
      "============================================\n",
      "BloodPressure ==> Missing zeros : 35\n",
      "============================================\n",
      "SkinThickness ==> Missing zeros : 227\n",
      "============================================\n",
      "Insulin ==> Missing zeros : 374\n",
      "============================================\n",
      "BMI ==> Missing zeros : 11\n",
      "============================================\n",
      "DiabetesPedigreeFunction ==> Missing zeros : 0\n",
      "============================================\n",
      "Age ==> Missing zeros : 0\n"
     ]
    }
   ],
   "source": [
    "# Cek kolom neng nilai 0\n",
    "feature_columns = ['Pregnancies', 'Glucose', 'BloodPressure', 'SkinThickness', 'Insulin', 'BMI', 'DiabetesPedigreeFunction', 'Age']\n",
    "for column in feature_columns:\n",
    "    print(\"============================================\")\n",
    "    print(f\"{column} ==> Missing zeros : {len(dbt.loc[dbt[column] == 0])}\")"
   ]
  },
  {
   "cell_type": "code",
   "execution_count": 6,
   "id": "7dd14778b2e1eab6",
   "metadata": {
    "collapsed": false,
    "ExecuteTime": {
     "end_time": "2023-10-15T10:58:16.634343300Z",
     "start_time": "2023-10-15T10:58:16.579357900Z"
    }
   },
   "outputs": [],
   "source": [
    "# Impute nilai 0 dengan mean\n",
    "fill_values = SimpleImputer(missing_values=0, strategy=\"mean\", copy=False)\n",
    "\n",
    "dbt[feature_columns] = fill_values.fit_transform(dbt[feature_columns])"
   ]
  },
  {
   "cell_type": "code",
   "execution_count": 7,
   "id": "f3da3450b440f0ae",
   "metadata": {
    "collapsed": false,
    "ExecuteTime": {
     "end_time": "2023-10-15T10:58:16.660787200Z",
     "start_time": "2023-10-15T10:58:16.591160500Z"
    }
   },
   "outputs": [],
   "source": [
    "X = dbt[feature_columns]\n",
    "y = dbt.Outcome\n",
    "\n",
    "X_train, X_test, y_train, y_test = train_test_split(X, y, test_size=0.3, random_state=42)"
   ]
  },
  {
   "cell_type": "markdown",
   "id": "ecdb87f53ccc4dfc",
   "metadata": {
    "collapsed": false
   },
   "source": [
    "Karena asumsi Gaussian NB adalah data terdistribusi secara normal, maka kita perlu melakukan standarisasi"
   ]
  },
  {
   "cell_type": "code",
   "execution_count": 8,
   "id": "4aaaaf1cf4d6b8bf",
   "metadata": {
    "collapsed": false,
    "ExecuteTime": {
     "end_time": "2023-10-15T10:58:16.695692500Z",
     "start_time": "2023-10-15T10:58:16.599141200Z"
    }
   },
   "outputs": [],
   "source": [
    "# Proses Standarisasi\n",
    "sc = StandardScaler()\n",
    "\n",
    "# Standarisasi pada fitur di X_train dan X_test\n",
    "X_train_std = sc.fit_transform(X_train)\n",
    "X_test_std = sc.transform(X_test)"
   ]
  },
  {
   "cell_type": "code",
   "execution_count": 9,
   "id": "de517d37f4a8ebfb",
   "metadata": {
    "collapsed": false,
    "ExecuteTime": {
     "end_time": "2023-10-15T10:58:16.799019500Z",
     "start_time": "2023-10-15T10:58:16.614363600Z"
    }
   },
   "outputs": [
    {
     "name": "stdout",
     "output_type": "stream",
     "text": [
      "Test set accuracy: 0.74\n",
      "Test set accuracy: 0.7359307359307359\n"
     ]
    }
   ],
   "source": [
    "# Training dengan GaussianNB\n",
    "gnb_std = GaussianNB()\n",
    "\n",
    "# Fit dengan data yang telah di standarisasi\n",
    "gnb_std.fit(X_train_std, y_train)\n",
    "\n",
    "# Prediksi dengan data test\n",
    "y_pred_gnb = gnb_std.predict(X_test_std)\n",
    "\n",
    "# Evaluasi akurasi testing data\n",
    "acc_gnb = accuracy_score(y_test, y_pred_gnb)\n",
    "\n",
    "# Print hasil evaluasi\n",
    "print(\"Test set accuracy: {:.2f}\".format(acc_gnb))\n",
    "print(f\"Test set accuracy: {acc_gnb}\")"
   ]
  },
  {
   "cell_type": "code",
   "execution_count": 10,
   "id": "42f3780bb5f01187",
   "metadata": {
    "collapsed": false,
    "ExecuteTime": {
     "end_time": "2023-10-15T10:58:16.802010100Z",
     "start_time": "2023-10-15T10:58:16.623373100Z"
    }
   },
   "outputs": [
    {
     "name": "stdout",
     "output_type": "stream",
     "text": [
      "Test set accuracy: 0.74\n",
      "Test set accuracy: 0.7402597402597403\n"
     ]
    }
   ],
   "source": [
    "# Training dengan Model SVM linier tanpa tunnning hyperparameter\n",
    "svm_lin = SVC(kernel='linear')\n",
    "\n",
    "# Fit ke model\n",
    "svm_lin.fit(X_train_std, y_train)\n",
    "\n",
    "# Prediksi\n",
    "y_pred_svm_lin = svm_lin.predict(X_test_std)\n",
    "\n",
    "# Evaluasi akurasi testing data\n",
    "acc_svm_lin = accuracy_score(y_test, y_pred_svm_lin)\n",
    "\n",
    "# Print hasil evaluasi\n",
    "print(\"Test set accuracy: {:.2f}\".format(acc_svm_lin))\n",
    "print(f\"Test set accuracy: {acc_svm_lin}\")"
   ]
  },
  {
   "cell_type": "code",
   "execution_count": 11,
   "id": "adb6ffd62afe9906",
   "metadata": {
    "collapsed": false,
    "ExecuteTime": {
     "end_time": "2023-10-15T10:58:16.810986800Z",
     "start_time": "2023-10-15T10:58:16.650812900Z"
    }
   },
   "outputs": [
    {
     "name": "stdout",
     "output_type": "stream",
     "text": [
      "Test set accuracy: 0.72\n",
      "Test set accuracy: 0.7229437229437229\n"
     ]
    }
   ],
   "source": [
    "# Training dengan Model SVM RBF tanpa tunnning hyperparameter\n",
    "svm_rbf = SVC(kernel='rbf')\n",
    "\n",
    "# Fit ke model\n",
    "svm_rbf.fit(X_train_std, y_train)\n",
    "\n",
    "# Prediksi\n",
    "y_pred_svm_rbf = svm_rbf.predict(X_test_std)\n",
    "\n",
    "# Evaluasi akurasi testing data\n",
    "acc_svm_rbf = accuracy_score(y_test, y_pred_svm_rbf)\n",
    "\n",
    "# Print hasil evaluasi\n",
    "print(\"Test set accuracy: {:.2f}\".format(acc_svm_rbf))\n",
    "print(f\"Test set accuracy: {acc_svm_rbf}\")"
   ]
  },
  {
   "cell_type": "code",
   "execution_count": 12,
   "id": "4b6d79b272e4ae8e",
   "metadata": {
    "collapsed": false,
    "ExecuteTime": {
     "end_time": "2023-10-15T10:58:16.868831Z",
     "start_time": "2023-10-15T10:58:16.681730500Z"
    }
   },
   "outputs": [
    {
     "name": "stdout",
     "output_type": "stream",
     "text": [
      "Voting Hard\n",
      "Test set accuracy: 0.74\n",
      "Test set accuracy: 0.7402597402597403\n"
     ]
    }
   ],
   "source": [
    "# Training dengan voting\n",
    "# Definisikan algoritma yang akan digunakan untuk voting\n",
    "clf1 = GaussianNB()\n",
    "clf2 = SVC(kernel='linear')\n",
    "clf3 = SVC(kernel='rbf', probability=True)\n",
    "\n",
    "# model hard voting\n",
    "voting = VotingClassifier(estimators=[('GaussianNB', clf1), ('SVM-LIN', clf2), ('SVM-RBF', clf3)], voting='hard')\n",
    "\n",
    "# Fit model\n",
    "voting.fit(X_train_std, y_train)\n",
    "\n",
    "# Prediksi\n",
    "y_pred_vt1 = voting.predict(X_test_std)\n",
    "\n",
    "# Evaluasi akurasi testing data\n",
    "acc_vt1 = accuracy_score(y_test, y_pred_vt1)\n",
    "\n",
    "# Print hasil evaluasi\n",
    "print('Voting Hard')\n",
    "print(\"Test set accuracy: {:.2f}\".format(acc_vt1))\n",
    "print(f\"Test set accuracy: {acc_vt1}\")"
   ]
  }
 ],
 "metadata": {
  "kernelspec": {
   "display_name": "Python 3",
   "language": "python",
   "name": "python3"
  },
  "language_info": {
   "codemirror_mode": {
    "name": "ipython",
    "version": 3
   },
   "file_extension": ".py",
   "mimetype": "text/x-python",
   "name": "python",
   "nbconvert_exporter": "python",
   "pygments_lexer": "ipython3",
   "version": "3.11.5"
  }
 },
 "nbformat": 4,
 "nbformat_minor": 5
}
