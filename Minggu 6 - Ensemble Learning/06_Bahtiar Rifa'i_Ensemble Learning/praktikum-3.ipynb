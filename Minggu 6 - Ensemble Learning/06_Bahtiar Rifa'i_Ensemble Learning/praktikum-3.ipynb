{
 "cells": [
  {
   "cell_type": "markdown",
   "source": [
    "**Praktikum 3: Stacking**"
   ],
   "metadata": {
    "collapsed": false
   },
   "id": "198868988561f57a"
  },
  {
   "cell_type": "markdown",
   "source": [
    "**Stacking**\n",
    "\n",
    "Lengkapi bagian berikut dengan data sesuai tugas, dan tentukan perbedaan nilai akurasi antara Random Forest, Adaboost, dan Stacking."
   ],
   "metadata": {
    "collapsed": false
   },
   "id": "f724b667ed9357a3"
  },
  {
   "cell_type": "code",
   "execution_count": 48,
   "outputs": [
    {
     "name": "stdout",
     "output_type": "stream",
     "text": [
      "Stacking Accuracy: 0.9473684210526315\n"
     ]
    }
   ],
   "source": [
    "import pandas as pd\n",
    "from sklearn.ensemble import RandomForestClassifier, StackingClassifier\n",
    "from sklearn.linear_model import LogisticRegression\n",
    "from sklearn.model_selection import train_test_split\n",
    "from sklearn.neighbors import KNeighborsClassifier\n",
    "from sklearn.tree import DecisionTreeClassifier\n",
    "\n",
    "# Memuat dataset iris\n",
    "df = pd.read_csv('data/iris.csv')  # Menyesuaikan jalur file dataset iris\n",
    "\n",
    "# Memisahkan fitur dan target\n",
    "X = df.iloc[:, 1:-1]  # Mengambil semua fitur kecuali kolom terakhir\n",
    "y = df['Species']  # Kolom target\n",
    "\n",
    "# Definisi estimators untuk layer pertama\n",
    "layer_one_estimators = [\n",
    "    ('rf_1', RandomForestClassifier(n_estimators=10, random_state=42)),\n",
    "    ('knn_1', KNeighborsClassifier(n_neighbors=5))\n",
    "]\n",
    "\n",
    "# Definisi estimators untuk layer kedua\n",
    "layer_two_estimators = [\n",
    "    ('dt_2', DecisionTreeClassifier()),\n",
    "    ('rf_2', RandomForestClassifier(n_estimators=50, random_state=42)),\n",
    "]\n",
    "\n",
    "# Inisialisasi StackingClassifier dengan estimators dari layer kedua\n",
    "layer_two = StackingClassifier(estimators=layer_two_estimators, final_estimator=LogisticRegression())\n",
    "\n",
    "# Inisialisasi StackingClassifier dengan estimators dari layer pertama dan layer kedua\n",
    "clf = StackingClassifier(estimators=layer_one_estimators, final_estimator=layer_two)\n",
    "\n",
    "# Memisahkan data menjadi data latih dan data uji\n",
    "X_train, X_test, y_train, y_test = train_test_split(X, y, stratify=y, random_state=42)\n",
    "\n",
    "# Melatih model Stacking\n",
    "clf.fit(X_train, y_train)\n",
    " \n",
    "# Mengevaluasi akurasi Stacking pada data uji\n",
    "accuracy_stacking = clf.score(X_test, y_test)\n",
    "\n",
    "# Menampilkan nilai akurasi Stacking\n",
    "print(\"Stacking Accuracy:\", accuracy_stacking)"
   ],
   "metadata": {
    "collapsed": false,
    "ExecuteTime": {
     "end_time": "2023-10-22T07:18:40.839033300Z",
     "start_time": "2023-10-22T07:18:40.268030900Z"
    }
   },
   "id": "9800cf89791b2763"
  },
  {
   "cell_type": "code",
   "execution_count": 49,
   "outputs": [
    {
     "name": "stdout",
     "output_type": "stream",
     "text": [
      "Random Forest Accuracy: 0.8947368421052632\n"
     ]
    }
   ],
   "source": [
    "# Melatih model Random Forest\n",
    "rf = RandomForestClassifier(n_estimators=10, random_state=42)\n",
    "rf.fit(X_train, y_train)\n",
    "\n",
    "# Mengevaluasi akurasi Random Forest pada data uji\n",
    "accuracy_rf = rf.score(X_test, y_test)\n",
    "\n",
    "# Menampilkan nilai akurasi Random Forest\n",
    "print(\"Random Forest Accuracy:\", accuracy_rf)"
   ],
   "metadata": {
    "collapsed": false,
    "ExecuteTime": {
     "end_time": "2023-10-22T07:18:40.897646500Z",
     "start_time": "2023-10-22T07:18:40.841028600Z"
    }
   },
   "id": "6437b7885705e895"
  },
  {
   "cell_type": "code",
   "execution_count": 50,
   "outputs": [
    {
     "name": "stdout",
     "output_type": "stream",
     "text": [
      "Decision Tree Accuracy: 0.9473684210526315\n"
     ]
    }
   ],
   "source": [
    "# Melatih model Decision Tree\n",
    "dt = DecisionTreeClassifier()\n",
    "dt.fit(X_train, y_train)\n",
    "\n",
    "# Mengevaluasi akurasi Decision Tree pada data uji\n",
    "accuracy_dt = dt.score(X_test, y_test)\n",
    "\n",
    "# Menampilkan nilai akurasi Decision Tree\n",
    "print(\"Decision Tree Accuracy:\", accuracy_dt)\n"
   ],
   "metadata": {
    "collapsed": false,
    "ExecuteTime": {
     "end_time": "2023-10-22T07:18:40.898643800Z",
     "start_time": "2023-10-22T07:18:40.866631Z"
    }
   },
   "id": "9f6062aef99794b"
  },
  {
   "cell_type": "code",
   "execution_count": 50,
   "outputs": [],
   "source": [],
   "metadata": {
    "collapsed": false,
    "ExecuteTime": {
     "end_time": "2023-10-22T07:18:40.898643800Z",
     "start_time": "2023-10-22T07:18:40.875937200Z"
    }
   },
   "id": "59690a233c92d4ef"
  }
 ],
 "metadata": {
  "kernelspec": {
   "display_name": "Python 3",
   "language": "python",
   "name": "python3"
  },
  "language_info": {
   "codemirror_mode": {
    "name": "ipython",
    "version": 2
   },
   "file_extension": ".py",
   "mimetype": "text/x-python",
   "name": "python",
   "nbconvert_exporter": "python",
   "pygments_lexer": "ipython2",
   "version": "2.7.6"
  }
 },
 "nbformat": 4,
 "nbformat_minor": 5
}
