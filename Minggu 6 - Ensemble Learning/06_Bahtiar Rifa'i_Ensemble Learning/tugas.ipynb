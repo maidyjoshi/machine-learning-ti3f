{
 "cells": [
  {
   "cell_type": "markdown",
   "source": [
    "**Tugas 1**\n",
    "\n",
    "Terdapat dataset mushroom. Berdasarkan dataset yang tersebut, bandingkan peforma antara algoritma Decision Tree dan RandomForest. Gunakan tunning hyperparameter untuk mendapatkan parameter dan akurasi yang terbaik."
   ],
   "metadata": {
    "collapsed": false
   },
   "id": "c4b822dedc08b005"
  },
  {
   "cell_type": "code",
   "execution_count": 73,
   "outputs": [],
   "source": [
    "# Import library\n",
    "import pandas as pd\n",
    "from sklearn.model_selection import train_test_split, GridSearchCV\n",
    "from sklearn.tree import DecisionTreeClassifier\n",
    "from sklearn.ensemble import RandomForestClassifier, AdaBoostClassifier\n",
    "from sklearn.metrics import accuracy_score\n",
    "from sklearn.preprocessing import LabelEncoder\n",
    "from sklearn.impute import SimpleImputer\n",
    "from sklearn.linear_model import LogisticRegression\n",
    "from sklearn.svm import SVC\n",
    "from sklearn.ensemble import VotingClassifier"
   ],
   "metadata": {
    "collapsed": false,
    "ExecuteTime": {
     "end_time": "2023-10-22T06:39:52.865003200Z",
     "start_time": "2023-10-22T06:39:52.847021500Z"
    }
   },
   "id": "de11e850649b8e35"
  },
  {
   "cell_type": "code",
   "execution_count": 74,
   "outputs": [
    {
     "data": {
      "text/plain": "  class cap-shape cap-surface cap-color bruises odor gill-attachment  \\\n0     p         x           s         n       t    p               f   \n1     e         x           s         y       t    a               f   \n2     e         b           s         w       t    l               f   \n3     p         x           y         w       t    p               f   \n4     e         x           s         g       f    n               f   \n\n  gill-spacing gill-size gill-color  ... stalk-surface-below-ring  \\\n0            c         n          k  ...                        s   \n1            c         b          k  ...                        s   \n2            c         b          n  ...                        s   \n3            c         n          n  ...                        s   \n4            w         b          k  ...                        s   \n\n  stalk-color-above-ring stalk-color-below-ring veil-type veil-color  \\\n0                      w                      w         p          w   \n1                      w                      w         p          w   \n2                      w                      w         p          w   \n3                      w                      w         p          w   \n4                      w                      w         p          w   \n\n  ring-number ring-type spore-print-color population habitat  \n0           o         p                 k          s       u  \n1           o         p                 n          n       g  \n2           o         p                 n          n       m  \n3           o         p                 k          s       u  \n4           o         e                 n          a       g  \n\n[5 rows x 23 columns]",
      "text/html": "<div>\n<style scoped>\n    .dataframe tbody tr th:only-of-type {\n        vertical-align: middle;\n    }\n\n    .dataframe tbody tr th {\n        vertical-align: top;\n    }\n\n    .dataframe thead th {\n        text-align: right;\n    }\n</style>\n<table border=\"1\" class=\"dataframe\">\n  <thead>\n    <tr style=\"text-align: right;\">\n      <th></th>\n      <th>class</th>\n      <th>cap-shape</th>\n      <th>cap-surface</th>\n      <th>cap-color</th>\n      <th>bruises</th>\n      <th>odor</th>\n      <th>gill-attachment</th>\n      <th>gill-spacing</th>\n      <th>gill-size</th>\n      <th>gill-color</th>\n      <th>...</th>\n      <th>stalk-surface-below-ring</th>\n      <th>stalk-color-above-ring</th>\n      <th>stalk-color-below-ring</th>\n      <th>veil-type</th>\n      <th>veil-color</th>\n      <th>ring-number</th>\n      <th>ring-type</th>\n      <th>spore-print-color</th>\n      <th>population</th>\n      <th>habitat</th>\n    </tr>\n  </thead>\n  <tbody>\n    <tr>\n      <th>0</th>\n      <td>p</td>\n      <td>x</td>\n      <td>s</td>\n      <td>n</td>\n      <td>t</td>\n      <td>p</td>\n      <td>f</td>\n      <td>c</td>\n      <td>n</td>\n      <td>k</td>\n      <td>...</td>\n      <td>s</td>\n      <td>w</td>\n      <td>w</td>\n      <td>p</td>\n      <td>w</td>\n      <td>o</td>\n      <td>p</td>\n      <td>k</td>\n      <td>s</td>\n      <td>u</td>\n    </tr>\n    <tr>\n      <th>1</th>\n      <td>e</td>\n      <td>x</td>\n      <td>s</td>\n      <td>y</td>\n      <td>t</td>\n      <td>a</td>\n      <td>f</td>\n      <td>c</td>\n      <td>b</td>\n      <td>k</td>\n      <td>...</td>\n      <td>s</td>\n      <td>w</td>\n      <td>w</td>\n      <td>p</td>\n      <td>w</td>\n      <td>o</td>\n      <td>p</td>\n      <td>n</td>\n      <td>n</td>\n      <td>g</td>\n    </tr>\n    <tr>\n      <th>2</th>\n      <td>e</td>\n      <td>b</td>\n      <td>s</td>\n      <td>w</td>\n      <td>t</td>\n      <td>l</td>\n      <td>f</td>\n      <td>c</td>\n      <td>b</td>\n      <td>n</td>\n      <td>...</td>\n      <td>s</td>\n      <td>w</td>\n      <td>w</td>\n      <td>p</td>\n      <td>w</td>\n      <td>o</td>\n      <td>p</td>\n      <td>n</td>\n      <td>n</td>\n      <td>m</td>\n    </tr>\n    <tr>\n      <th>3</th>\n      <td>p</td>\n      <td>x</td>\n      <td>y</td>\n      <td>w</td>\n      <td>t</td>\n      <td>p</td>\n      <td>f</td>\n      <td>c</td>\n      <td>n</td>\n      <td>n</td>\n      <td>...</td>\n      <td>s</td>\n      <td>w</td>\n      <td>w</td>\n      <td>p</td>\n      <td>w</td>\n      <td>o</td>\n      <td>p</td>\n      <td>k</td>\n      <td>s</td>\n      <td>u</td>\n    </tr>\n    <tr>\n      <th>4</th>\n      <td>e</td>\n      <td>x</td>\n      <td>s</td>\n      <td>g</td>\n      <td>f</td>\n      <td>n</td>\n      <td>f</td>\n      <td>w</td>\n      <td>b</td>\n      <td>k</td>\n      <td>...</td>\n      <td>s</td>\n      <td>w</td>\n      <td>w</td>\n      <td>p</td>\n      <td>w</td>\n      <td>o</td>\n      <td>e</td>\n      <td>n</td>\n      <td>a</td>\n      <td>g</td>\n    </tr>\n  </tbody>\n</table>\n<p>5 rows × 23 columns</p>\n</div>"
     },
     "execution_count": 74,
     "metadata": {},
     "output_type": "execute_result"
    }
   ],
   "source": [
    "# Load dataset\n",
    "mushroom_data = pd.read_csv('data/mushrooms.csv')\n",
    "mushroom_data.head()"
   ],
   "metadata": {
    "collapsed": false,
    "ExecuteTime": {
     "end_time": "2023-10-22T06:39:53.753582700Z",
     "start_time": "2023-10-22T06:39:53.718878200Z"
    }
   },
   "id": "29d94cea7bc7787d"
  },
  {
   "cell_type": "code",
   "execution_count": 75,
   "outputs": [
    {
     "data": {
      "text/plain": "   class  cap-shape  cap-surface  cap-color  bruises  odor  gill-attachment  \\\n0      1          5            2          4        1     6                1   \n1      0          5            2          9        1     0                1   \n2      0          0            2          8        1     3                1   \n3      1          5            3          8        1     6                1   \n4      0          5            2          3        0     5                1   \n\n   gill-spacing  gill-size  gill-color  ...  stalk-surface-below-ring  \\\n0             0          1           4  ...                         2   \n1             0          0           4  ...                         2   \n2             0          0           5  ...                         2   \n3             0          1           5  ...                         2   \n4             1          0           4  ...                         2   \n\n   stalk-color-above-ring  stalk-color-below-ring  veil-type  veil-color  \\\n0                       7                       7          0           2   \n1                       7                       7          0           2   \n2                       7                       7          0           2   \n3                       7                       7          0           2   \n4                       7                       7          0           2   \n\n   ring-number  ring-type  spore-print-color  population  habitat  \n0            1          4                  2           3        5  \n1            1          4                  3           2        1  \n2            1          4                  3           2        3  \n3            1          4                  2           3        5  \n4            1          0                  3           0        1  \n\n[5 rows x 23 columns]",
      "text/html": "<div>\n<style scoped>\n    .dataframe tbody tr th:only-of-type {\n        vertical-align: middle;\n    }\n\n    .dataframe tbody tr th {\n        vertical-align: top;\n    }\n\n    .dataframe thead th {\n        text-align: right;\n    }\n</style>\n<table border=\"1\" class=\"dataframe\">\n  <thead>\n    <tr style=\"text-align: right;\">\n      <th></th>\n      <th>class</th>\n      <th>cap-shape</th>\n      <th>cap-surface</th>\n      <th>cap-color</th>\n      <th>bruises</th>\n      <th>odor</th>\n      <th>gill-attachment</th>\n      <th>gill-spacing</th>\n      <th>gill-size</th>\n      <th>gill-color</th>\n      <th>...</th>\n      <th>stalk-surface-below-ring</th>\n      <th>stalk-color-above-ring</th>\n      <th>stalk-color-below-ring</th>\n      <th>veil-type</th>\n      <th>veil-color</th>\n      <th>ring-number</th>\n      <th>ring-type</th>\n      <th>spore-print-color</th>\n      <th>population</th>\n      <th>habitat</th>\n    </tr>\n  </thead>\n  <tbody>\n    <tr>\n      <th>0</th>\n      <td>1</td>\n      <td>5</td>\n      <td>2</td>\n      <td>4</td>\n      <td>1</td>\n      <td>6</td>\n      <td>1</td>\n      <td>0</td>\n      <td>1</td>\n      <td>4</td>\n      <td>...</td>\n      <td>2</td>\n      <td>7</td>\n      <td>7</td>\n      <td>0</td>\n      <td>2</td>\n      <td>1</td>\n      <td>4</td>\n      <td>2</td>\n      <td>3</td>\n      <td>5</td>\n    </tr>\n    <tr>\n      <th>1</th>\n      <td>0</td>\n      <td>5</td>\n      <td>2</td>\n      <td>9</td>\n      <td>1</td>\n      <td>0</td>\n      <td>1</td>\n      <td>0</td>\n      <td>0</td>\n      <td>4</td>\n      <td>...</td>\n      <td>2</td>\n      <td>7</td>\n      <td>7</td>\n      <td>0</td>\n      <td>2</td>\n      <td>1</td>\n      <td>4</td>\n      <td>3</td>\n      <td>2</td>\n      <td>1</td>\n    </tr>\n    <tr>\n      <th>2</th>\n      <td>0</td>\n      <td>0</td>\n      <td>2</td>\n      <td>8</td>\n      <td>1</td>\n      <td>3</td>\n      <td>1</td>\n      <td>0</td>\n      <td>0</td>\n      <td>5</td>\n      <td>...</td>\n      <td>2</td>\n      <td>7</td>\n      <td>7</td>\n      <td>0</td>\n      <td>2</td>\n      <td>1</td>\n      <td>4</td>\n      <td>3</td>\n      <td>2</td>\n      <td>3</td>\n    </tr>\n    <tr>\n      <th>3</th>\n      <td>1</td>\n      <td>5</td>\n      <td>3</td>\n      <td>8</td>\n      <td>1</td>\n      <td>6</td>\n      <td>1</td>\n      <td>0</td>\n      <td>1</td>\n      <td>5</td>\n      <td>...</td>\n      <td>2</td>\n      <td>7</td>\n      <td>7</td>\n      <td>0</td>\n      <td>2</td>\n      <td>1</td>\n      <td>4</td>\n      <td>2</td>\n      <td>3</td>\n      <td>5</td>\n    </tr>\n    <tr>\n      <th>4</th>\n      <td>0</td>\n      <td>5</td>\n      <td>2</td>\n      <td>3</td>\n      <td>0</td>\n      <td>5</td>\n      <td>1</td>\n      <td>1</td>\n      <td>0</td>\n      <td>4</td>\n      <td>...</td>\n      <td>2</td>\n      <td>7</td>\n      <td>7</td>\n      <td>0</td>\n      <td>2</td>\n      <td>1</td>\n      <td>0</td>\n      <td>3</td>\n      <td>0</td>\n      <td>1</td>\n    </tr>\n  </tbody>\n</table>\n<p>5 rows × 23 columns</p>\n</div>"
     },
     "execution_count": 75,
     "metadata": {},
     "output_type": "execute_result"
    }
   ],
   "source": [
    "# Proses Encoding\n",
    "label_encoder = LabelEncoder()\n",
    "\n",
    "# Loop melalui seluruh kolom dalam dataset dan menerapkan Label Encoding\n",
    "for column in mushroom_data.columns:\n",
    "    mushroom_data[column] = label_encoder.fit_transform(mushroom_data[column])\n",
    "    \n",
    "mushroom_data.head()"
   ],
   "metadata": {
    "collapsed": false,
    "ExecuteTime": {
     "end_time": "2023-10-22T06:39:54.916795300Z",
     "start_time": "2023-10-22T06:39:54.862311400Z"
    }
   },
   "id": "607ffd5ea7930a39"
  },
  {
   "cell_type": "code",
   "execution_count": 76,
   "outputs": [],
   "source": [
    "# Split data label dan target\n",
    "X = mushroom_data.drop('class', axis=1)\n",
    "y = mushroom_data['class']\n",
    "X_train, X_test, y_train, y_test = train_test_split(X, y, test_size=0.2, random_state=42)"
   ],
   "metadata": {
    "collapsed": false,
    "ExecuteTime": {
     "end_time": "2023-10-22T06:39:56.835332Z",
     "start_time": "2023-10-22T06:39:56.813635200Z"
    }
   },
   "id": "63e5c4482e826195"
  },
  {
   "cell_type": "code",
   "execution_count": 78,
   "outputs": [
    {
     "name": "stdout",
     "output_type": "stream",
     "text": [
      "Best estimator: DecisionTreeClassifier()\n"
     ]
    }
   ],
   "source": [
    "# Menyesuaikan hyperparameter untuk Decision Tree\n",
    "dt_param_grid = {\n",
    "    'max_depth': [None, 10, 20, 30],\n",
    "    'min_samples_split': [2, 5, 10],\n",
    "    'min_samples_leaf': [1, 2, 4]\n",
    "}\n",
    "dt_grid = GridSearchCV(DecisionTreeClassifier(), dt_param_grid, cv=5)\n",
    "dt_grid.fit(X_train, y_train)\n",
    "\n",
    "best_dt = dt_grid.best_estimator_\n",
    "print(\"Best estimator:\", best_dt)"
   ],
   "metadata": {
    "collapsed": false,
    "ExecuteTime": {
     "end_time": "2023-10-22T06:40:51.574980300Z",
     "start_time": "2023-10-22T06:40:49.632193900Z"
    }
   },
   "id": "2706e667e080e1b8"
  },
  {
   "cell_type": "code",
   "execution_count": 79,
   "outputs": [
    {
     "name": "stdout",
     "output_type": "stream",
     "text": [
      "Best estimator: RandomForestClassifier()\n"
     ]
    }
   ],
   "source": [
    "# Menyesuaikan hyperparameter untuk RandomForest\n",
    "rf_param_grid = {\n",
    "    'n_estimators': [100, 200, 300],\n",
    "    'max_depth': [None, 10, 20, 30],\n",
    "    'min_samples_split': [2, 5, 10]\n",
    "}\n",
    "rf_grid = GridSearchCV(RandomForestClassifier(), rf_param_grid, cv=5)\n",
    "rf_grid.fit(X_train, y_train)\n",
    "\n",
    "best_rf = rf_grid.best_estimator_\n",
    "print(\"Best estimator:\", best_rf)"
   ],
   "metadata": {
    "collapsed": false,
    "ExecuteTime": {
     "end_time": "2023-10-22T06:42:19.193000200Z",
     "start_time": "2023-10-22T06:40:56.788206Z"
    }
   },
   "id": "9404eb327195fdd6"
  },
  {
   "cell_type": "code",
   "execution_count": 80,
   "outputs": [
    {
     "name": "stdout",
     "output_type": "stream",
     "text": [
      "Decision Tree Accuracy:  1.0\n",
      "Random Forest Accuracy:  1.0\n"
     ]
    }
   ],
   "source": [
    "# Melatih model\n",
    "best_dt.fit(X_train, y_train)\n",
    "best_rf.fit(X_train, y_train)\n",
    "\n",
    "# Membuat prediksi untuk data uji\n",
    "y_pred_dt = best_dt.predict(X_test)\n",
    "y_pred_rf = best_rf.predict(X_test)\n",
    "\n",
    "# Evaluasi model\n",
    "accuracy_dt = accuracy_score(y_test, y_pred_dt)\n",
    "accuracy_rf = accuracy_score(y_test, y_pred_rf)\n",
    "\n",
    "print(\"Decision Tree Accuracy: \", accuracy_dt)\n",
    "print(\"Random Forest Accuracy: \", accuracy_rf)"
   ],
   "metadata": {
    "collapsed": false,
    "ExecuteTime": {
     "end_time": "2023-10-22T06:43:58.840583300Z",
     "start_time": "2023-10-22T06:43:58.517714700Z"
    }
   },
   "id": "1df7302e64a6637d"
  },
  {
   "cell_type": "markdown",
   "source": [
    "**Tugas 2**\n",
    "\n",
    "Terdapat dataset mushroom. Berdasarkan dataset tersebut, bandingkan peforma antara algoritma Decision Tree dan AdaBoost. Gunakan tunning hyperparameter untuk mendapatkan parameter dan akurasi yang terbaik."
   ],
   "metadata": {
    "collapsed": false
   },
   "id": "47cc4dc2aef807bc"
  },
  {
   "cell_type": "code",
   "execution_count": 81,
   "outputs": [
    {
     "name": "stdout",
     "output_type": "stream",
     "text": [
      "Best estimator: AdaBoostClassifier(estimator=DecisionTreeClassifier(), learning_rate=0.01)\n"
     ]
    }
   ],
   "source": [
    "# Menyesuaikan hyperparameter untuk AdaBoost\n",
    "adaboost_param_grid = {\n",
    "    'n_estimators': [50, 100, 200],\n",
    "    'learning_rate': [0.01, 0.1, 1.0]\n",
    "}\n",
    "adaboost_grid = GridSearchCV(AdaBoostClassifier(estimator=best_dt), adaboost_param_grid, cv=5)\n",
    "adaboost_grid.fit(X_train, y_train)\n",
    "\n",
    "best_adaboost = adaboost_grid.best_estimator_\n",
    "print(\"Best estimator:\", best_adaboost)"
   ],
   "metadata": {
    "collapsed": false,
    "ExecuteTime": {
     "end_time": "2023-10-22T06:44:01.905592200Z",
     "start_time": "2023-10-22T06:44:01.297707700Z"
    }
   },
   "id": "1e31a89dcff7d4a3"
  },
  {
   "cell_type": "code",
   "execution_count": 82,
   "outputs": [
    {
     "name": "stdout",
     "output_type": "stream",
     "text": [
      "Decision Tree Accuracy: 1.0\n",
      "AdaBoost Accuracy: 1.0\n"
     ]
    }
   ],
   "source": [
    "# Melatih model\n",
    "best_dt.fit(X_train, y_train)\n",
    "best_adaboost.fit(X_train, y_train)\n",
    "\n",
    "# Membuat prediksi untuk data uji\n",
    "y_pred_dt = best_dt.predict(X_test)\n",
    "y_pred_adaboost = best_adaboost.predict(X_test)\n",
    "\n",
    "# Evaluasi model\n",
    "accuracy_dt = accuracy_score(y_test, y_pred_dt)\n",
    "accuracy_adaboost = accuracy_score(y_test, y_pred_adaboost)\n",
    "\n",
    "print(\"Decision Tree Accuracy:\", accuracy_dt)\n",
    "print(\"AdaBoost Accuracy:\", accuracy_adaboost)"
   ],
   "metadata": {
    "collapsed": false,
    "ExecuteTime": {
     "end_time": "2023-10-22T06:44:02.960776300Z",
     "start_time": "2023-10-22T06:44:02.921278900Z"
    }
   },
   "id": "153de484979a2e91"
  },
  {
   "cell_type": "markdown",
   "source": [
    "**Tugas 3**\n",
    "\n",
    "Dengan menggunakan dataset diabetes, buatlah ensemble voting dengan algoritma\n",
    "1. Logistic Regression\n",
    "2. SVM kernel polynomial\n",
    "3. Decission Tree"
   ],
   "metadata": {
    "collapsed": false
   },
   "id": "817bdd405f014f0f"
  },
  {
   "cell_type": "code",
   "execution_count": 91,
   "outputs": [
    {
     "data": {
      "text/plain": "   Pregnancies  Glucose  BloodPressure  SkinThickness  Insulin   BMI  \\\n0            6      148             72             35        0  33.6   \n1            1       85             66             29        0  26.6   \n2            8      183             64              0        0  23.3   \n3            1       89             66             23       94  28.1   \n4            0      137             40             35      168  43.1   \n\n   DiabetesPedigreeFunction  Age  Outcome  \n0                     0.627   50        1  \n1                     0.351   31        0  \n2                     0.672   32        1  \n3                     0.167   21        0  \n4                     2.288   33        1  ",
      "text/html": "<div>\n<style scoped>\n    .dataframe tbody tr th:only-of-type {\n        vertical-align: middle;\n    }\n\n    .dataframe tbody tr th {\n        vertical-align: top;\n    }\n\n    .dataframe thead th {\n        text-align: right;\n    }\n</style>\n<table border=\"1\" class=\"dataframe\">\n  <thead>\n    <tr style=\"text-align: right;\">\n      <th></th>\n      <th>Pregnancies</th>\n      <th>Glucose</th>\n      <th>BloodPressure</th>\n      <th>SkinThickness</th>\n      <th>Insulin</th>\n      <th>BMI</th>\n      <th>DiabetesPedigreeFunction</th>\n      <th>Age</th>\n      <th>Outcome</th>\n    </tr>\n  </thead>\n  <tbody>\n    <tr>\n      <th>0</th>\n      <td>6</td>\n      <td>148</td>\n      <td>72</td>\n      <td>35</td>\n      <td>0</td>\n      <td>33.6</td>\n      <td>0.627</td>\n      <td>50</td>\n      <td>1</td>\n    </tr>\n    <tr>\n      <th>1</th>\n      <td>1</td>\n      <td>85</td>\n      <td>66</td>\n      <td>29</td>\n      <td>0</td>\n      <td>26.6</td>\n      <td>0.351</td>\n      <td>31</td>\n      <td>0</td>\n    </tr>\n    <tr>\n      <th>2</th>\n      <td>8</td>\n      <td>183</td>\n      <td>64</td>\n      <td>0</td>\n      <td>0</td>\n      <td>23.3</td>\n      <td>0.672</td>\n      <td>32</td>\n      <td>1</td>\n    </tr>\n    <tr>\n      <th>3</th>\n      <td>1</td>\n      <td>89</td>\n      <td>66</td>\n      <td>23</td>\n      <td>94</td>\n      <td>28.1</td>\n      <td>0.167</td>\n      <td>21</td>\n      <td>0</td>\n    </tr>\n    <tr>\n      <th>4</th>\n      <td>0</td>\n      <td>137</td>\n      <td>40</td>\n      <td>35</td>\n      <td>168</td>\n      <td>43.1</td>\n      <td>2.288</td>\n      <td>33</td>\n      <td>1</td>\n    </tr>\n  </tbody>\n</table>\n</div>"
     },
     "execution_count": 91,
     "metadata": {},
     "output_type": "execute_result"
    }
   ],
   "source": [
    "# Load dataset\n",
    "diabetes_data = pd.read_csv('data/diabetes.csv')\n",
    "diabetes_data.head()"
   ],
   "metadata": {
    "collapsed": false,
    "ExecuteTime": {
     "end_time": "2023-10-22T07:20:36.295214300Z",
     "start_time": "2023-10-22T07:20:36.278398200Z"
    }
   },
   "id": "1d3eda2d3411218d"
  },
  {
   "cell_type": "code",
   "execution_count": 92,
   "outputs": [
    {
     "data": {
      "text/plain": "   Pregnancies  Glucose  BloodPressure  SkinThickness     Insulin   BMI  \\\n0     6.000000    148.0           72.0       35.00000  155.548223  33.6   \n1     1.000000     85.0           66.0       29.00000  155.548223  26.6   \n2     8.000000    183.0           64.0       29.15342  155.548223  23.3   \n3     1.000000     89.0           66.0       23.00000   94.000000  28.1   \n4     4.494673    137.0           40.0       35.00000  168.000000  43.1   \n\n   DiabetesPedigreeFunction   Age  Outcome  \n0                     0.627  50.0        1  \n1                     0.351  31.0        0  \n2                     0.672  32.0        1  \n3                     0.167  21.0        0  \n4                     2.288  33.0        1  ",
      "text/html": "<div>\n<style scoped>\n    .dataframe tbody tr th:only-of-type {\n        vertical-align: middle;\n    }\n\n    .dataframe tbody tr th {\n        vertical-align: top;\n    }\n\n    .dataframe thead th {\n        text-align: right;\n    }\n</style>\n<table border=\"1\" class=\"dataframe\">\n  <thead>\n    <tr style=\"text-align: right;\">\n      <th></th>\n      <th>Pregnancies</th>\n      <th>Glucose</th>\n      <th>BloodPressure</th>\n      <th>SkinThickness</th>\n      <th>Insulin</th>\n      <th>BMI</th>\n      <th>DiabetesPedigreeFunction</th>\n      <th>Age</th>\n      <th>Outcome</th>\n    </tr>\n  </thead>\n  <tbody>\n    <tr>\n      <th>0</th>\n      <td>6.000000</td>\n      <td>148.0</td>\n      <td>72.0</td>\n      <td>35.00000</td>\n      <td>155.548223</td>\n      <td>33.6</td>\n      <td>0.627</td>\n      <td>50.0</td>\n      <td>1</td>\n    </tr>\n    <tr>\n      <th>1</th>\n      <td>1.000000</td>\n      <td>85.0</td>\n      <td>66.0</td>\n      <td>29.00000</td>\n      <td>155.548223</td>\n      <td>26.6</td>\n      <td>0.351</td>\n      <td>31.0</td>\n      <td>0</td>\n    </tr>\n    <tr>\n      <th>2</th>\n      <td>8.000000</td>\n      <td>183.0</td>\n      <td>64.0</td>\n      <td>29.15342</td>\n      <td>155.548223</td>\n      <td>23.3</td>\n      <td>0.672</td>\n      <td>32.0</td>\n      <td>1</td>\n    </tr>\n    <tr>\n      <th>3</th>\n      <td>1.000000</td>\n      <td>89.0</td>\n      <td>66.0</td>\n      <td>23.00000</td>\n      <td>94.000000</td>\n      <td>28.1</td>\n      <td>0.167</td>\n      <td>21.0</td>\n      <td>0</td>\n    </tr>\n    <tr>\n      <th>4</th>\n      <td>4.494673</td>\n      <td>137.0</td>\n      <td>40.0</td>\n      <td>35.00000</td>\n      <td>168.000000</td>\n      <td>43.1</td>\n      <td>2.288</td>\n      <td>33.0</td>\n      <td>1</td>\n    </tr>\n  </tbody>\n</table>\n</div>"
     },
     "execution_count": 92,
     "metadata": {},
     "output_type": "execute_result"
    }
   ],
   "source": [
    "# Ganti nilai 0 dengan mean\n",
    "fill_values = SimpleImputer(missing_values=0, strategy=\"mean\", copy=False)\n",
    "\n",
    "feature_columns = [col for col in diabetes_data.columns if col != \"Outcome\"]\n",
    "\n",
    "diabetes_data[feature_columns] = fill_values.fit_transform(diabetes_data[feature_columns])\n",
    "diabetes_data.head()"
   ],
   "metadata": {
    "collapsed": false,
    "ExecuteTime": {
     "end_time": "2023-10-22T07:20:36.913994400Z",
     "start_time": "2023-10-22T07:20:36.892916700Z"
    }
   },
   "id": "6fa9133dd1d01f35"
  },
  {
   "cell_type": "code",
   "execution_count": 93,
   "outputs": [],
   "source": [
    "# Split data label dan target\n",
    "X = diabetes_data.drop('Outcome', axis=1)\n",
    "y = diabetes_data.Outcome\n",
    "X_train, X_test, y_train, y_test = train_test_split(X, y, test_size=0.2, random_state=42)"
   ],
   "metadata": {
    "collapsed": false,
    "ExecuteTime": {
     "end_time": "2023-10-22T07:20:37.595726600Z",
     "start_time": "2023-10-22T07:20:37.562371900Z"
    }
   },
   "id": "495b4d80115f9bff"
  },
  {
   "cell_type": "code",
   "execution_count": 94,
   "outputs": [],
   "source": [
    "# Karena kolom DiabetesPedigreeFunction memiliki nilai yang bervariasi, kita perlu melakukan standarisasi\n",
    "from sklearn.preprocessing import StandardScaler\n",
    "std = StandardScaler()\n",
    "\n",
    "# Standarisasi pada fitur di X_train dan X_test\n",
    "X_train_std = std.fit_transform(X_train)\n",
    "X_test_std = std.transform(X_test)"
   ],
   "metadata": {
    "collapsed": false,
    "ExecuteTime": {
     "end_time": "2023-10-22T07:20:38.095524400Z",
     "start_time": "2023-10-22T07:20:38.068371500Z"
    }
   },
   "id": "bc35ef3a9d822108"
  },
  {
   "cell_type": "code",
   "execution_count": 103,
   "outputs": [
    {
     "name": "stdout",
     "output_type": "stream",
     "text": [
      "Best estimator: LogisticRegression(C=10, max_iter=500)\n"
     ]
    }
   ],
   "source": [
    "# Menyesuaikan hyperparameter untuk Logistic RegressionCV\n",
    "logreg_param_grid = {\n",
    "    'C': [0.001, 0.01, 0.1, 1, 10],\n",
    "    'max_iter':  [500, 1000, 5000]\n",
    "}\n",
    "logreg = GridSearchCV(LogisticRegression(), logreg_param_grid, cv=5)\n",
    "logreg.fit(X_train, y_train)\n",
    "\n",
    "best_logreg = logreg.best_estimator_\n",
    "print(\"Best estimator:\", best_logreg)"
   ],
   "metadata": {
    "collapsed": false,
    "ExecuteTime": {
     "end_time": "2023-10-22T07:25:41.594048900Z",
     "start_time": "2023-10-22T07:25:39.754556500Z"
    }
   },
   "id": "b73a93cbe12c83be"
  },
  {
   "cell_type": "code",
   "execution_count": 104,
   "outputs": [
    {
     "name": "stdout",
     "output_type": "stream",
     "text": [
      "Best estimator: SVC(C=10, kernel='poly')\n"
     ]
    }
   ],
   "source": [
    "# Menyesuaikan hyperparameter untuk SVM\n",
    "svm_param_grid = {\n",
    "    'C': [0.1, 1, 10],\n",
    "    'kernel': ['poly'],\n",
    "}\n",
    "svm_grid = GridSearchCV(SVC(), svm_param_grid, cv=5)\n",
    "svm_grid.fit(X_train, y_train)\n",
    "\n",
    "best_svm = svm_grid.best_estimator_\n",
    "print(\"Best estimator:\", best_svm)"
   ],
   "metadata": {
    "collapsed": false,
    "ExecuteTime": {
     "end_time": "2023-10-22T07:25:42.976873400Z",
     "start_time": "2023-10-22T07:25:42.705580900Z"
    }
   },
   "id": "ed1a8e88e3c2ea08"
  },
  {
   "cell_type": "code",
   "execution_count": 105,
   "outputs": [
    {
     "name": "stdout",
     "output_type": "stream",
     "text": [
      "Best estimator: DecisionTreeClassifier(min_samples_leaf=4)\n"
     ]
    }
   ],
   "source": [
    "# Menyesuaikan hyperparameter untuk Decision Tree\n",
    "dt_param_grid = {\n",
    "    'max_depth': [None, 10, 20, 30],\n",
    "    'min_samples_leaf': [1, 2, 4]\n",
    "}\n",
    "dt_grid = GridSearchCV(DecisionTreeClassifier(), dt_param_grid, cv=5)\n",
    "dt_grid.fit(X_train, y_train)\n",
    "best_dt = dt_grid.best_estimator_\n",
    "print(\"Best estimator:\", best_dt)"
   ],
   "metadata": {
    "collapsed": false,
    "ExecuteTime": {
     "end_time": "2023-10-22T07:25:44.345090500Z",
     "start_time": "2023-10-22T07:25:43.763498600Z"
    }
   },
   "id": "a12368e6b13f91b2"
  },
  {
   "cell_type": "code",
   "execution_count": 106,
   "outputs": [
    {
     "name": "stdout",
     "output_type": "stream",
     "text": [
      "Ensemble Voting Accuracy: 0.7792207792207793\n"
     ]
    }
   ],
   "source": [
    "# Membuat model ensemble voting\n",
    "ensemble_model = VotingClassifier(estimators=[\n",
    "    ('logreg', best_logreg),\n",
    "    ('svm', best_svm),\n",
    "    ('dt', best_dt)\n",
    "], voting='hard')\n",
    "\n",
    "# Melatih model ensemble\n",
    "ensemble_model.fit(X_train, y_train)\n",
    "\n",
    "# Melakukan prediksi untuk data uji\n",
    "y_pred_ensemble = ensemble_model.predict(X_test)\n",
    "\n",
    "# Evaluasi model\n",
    "accuracy_ensemble = accuracy_score(y_test, y_pred_ensemble)\n",
    "print(\"Ensemble Voting Accuracy:\", accuracy_ensemble)"
   ],
   "metadata": {
    "collapsed": false,
    "ExecuteTime": {
     "end_time": "2023-10-22T07:25:44.974752200Z",
     "start_time": "2023-10-22T07:25:44.871468700Z"
    }
   },
   "id": "c4fc76569d44c435"
  },
  {
   "cell_type": "code",
   "execution_count": null,
   "outputs": [],
   "source": [],
   "metadata": {
    "collapsed": false
   },
   "id": "92432bc5f57851bf"
  }
 ],
 "metadata": {
  "kernelspec": {
   "display_name": "Python 3",
   "language": "python",
   "name": "python3"
  },
  "language_info": {
   "codemirror_mode": {
    "name": "ipython",
    "version": 3
   },
   "file_extension": ".py",
   "mimetype": "text/x-python",
   "name": "python",
   "nbconvert_exporter": "python",
   "pygments_lexer": "ipython3",
   "version": "3.11.5"
  }
 },
 "nbformat": 4,
 "nbformat_minor": 5
}
